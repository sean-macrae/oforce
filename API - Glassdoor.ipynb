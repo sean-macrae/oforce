{
 "metadata": {
  "name": "",
  "signature": "sha256:5622e1814dbe8b895fefb72e58e8d2223c079948ab448754ec7c874570adfcac"
 },
 "nbformat": 3,
 "nbformat_minor": 0,
 "worksheets": [
  {
   "cells": [
    {
     "cell_type": "code",
     "collapsed": false,
     "input": [
      "from glassdoor import get\n",
      "x = get('target')\n",
      "x"
     ],
     "language": "python",
     "metadata": {},
     "outputs": [
      {
       "metadata": {},
       "output_type": "pyout",
       "prompt_number": 2,
       "text": [
        "{'ceo': {'%approval': None, 'avatar': '', 'name': '', 'reviews': 0},\n",
        " 'meta': {'connections': 0,\n",
        "  'location': '',\n",
        "  'logo': None,\n",
        "  'name': '',\n",
        "  'reviews': None,\n",
        "  'score': None,\n",
        "  'size': [None, None],\n",
        "  'website': ''},\n",
        " 'salary': [],\n",
        " 'satisfaction': {'ratings': 0, 'score': None}}"
       ]
      }
     ],
     "prompt_number": 2
    },
    {
     "cell_type": "code",
     "collapsed": false,
     "input": [],
     "language": "python",
     "metadata": {},
     "outputs": []
    }
   ],
   "metadata": {}
  }
 ]
}