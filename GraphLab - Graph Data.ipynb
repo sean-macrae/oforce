{
 "metadata": {
  "name": ""
 },
 "nbformat": 3,
 "nbformat_minor": 0,
 "worksheets": [
  {
   "cells": [
    {
     "cell_type": "code",
     "collapsed": false,
     "input": [
      "import graphlab as gl"
     ],
     "language": "python",
     "metadata": {},
     "outputs": [],
     "prompt_number": 1
    },
    {
     "cell_type": "code",
     "collapsed": false,
     "input": [
      "from graphlab import SGraph, Vertex, Edge\n",
      "g = SGraph()\n",
      "verts = [Vertex(0, attr={'breed': 'labrador'}),\n",
      "         Vertex(1, attr={'breed': 'labrador'}),\n",
      "         Vertex(2, attr={'breed': 'vizsla'})]\n",
      "g = g.add_vertices(verts)\n",
      "g = g.add_edges(Edge(1, 2))\n",
      "print g"
     ],
     "language": "python",
     "metadata": {},
     "outputs": [
      {
       "output_type": "stream",
       "stream": "stderr",
       "text": [
        "[INFO] Start server at: ipc:///tmp/graphlab_server-2785 - Server binary: /Users/smacrae/anaconda/lib/python2.7/site-packages/graphlab/unity_server - Server log: /tmp/graphlab_server_1421188276.log\n"
       ]
      },
      {
       "output_type": "stream",
       "stream": "stderr",
       "text": [
        "[INFO] GraphLab Server Version: 1.2.1\n"
       ]
      },
      {
       "output_type": "stream",
       "stream": "stdout",
       "text": [
        "SGraph({'num_edges': 1, 'num_vertices': 3})\n"
       ]
      }
     ],
     "prompt_number": 1
    },
    {
     "cell_type": "code",
     "collapsed": false,
     "input": [
      "g = SGraph().add_vertices([Vertex(i) for i in range(10)]).add_edges(\n",
      "    [Edge(i, i+1) for i in range(9)])"
     ],
     "language": "python",
     "metadata": {},
     "outputs": [],
     "prompt_number": 2
    },
    {
     "cell_type": "code",
     "collapsed": false,
     "input": [
      "from graphlab import SFrame\n",
      "edge_data = SFrame.read_csv(\n",
      "    'http://s3.amazonaws.com/GraphLab-Datasets/bond/bond_edges.csv')\n",
      "\n",
      "g = SGraph()\n",
      "g = g.add_edges(edge_data, src_field='src', dst_field='dst')\n",
      "print g"
     ],
     "language": "python",
     "metadata": {},
     "outputs": [
      {
       "html": [
        "<pre>PROGRESS: Downloading http://s3.amazonaws.com/GraphLab-Datasets/bond/bond_edges.csv to /var/tmp/graphlab-smacrae/2785/000000.csv</pre>"
       ],
       "metadata": {},
       "output_type": "display_data",
       "text": [
        "PROGRESS: Downloading http://s3.amazonaws.com/GraphLab-Datasets/bond/bond_edges.csv to /var/tmp/graphlab-smacrae/2785/000000.csv"
       ]
      },
      {
       "html": [
        "<pre>PROGRESS: Finished parsing file http://s3.amazonaws.com/GraphLab-Datasets/bond/bond_edges.csv</pre>"
       ],
       "metadata": {},
       "output_type": "display_data",
       "text": [
        "PROGRESS: Finished parsing file http://s3.amazonaws.com/GraphLab-Datasets/bond/bond_edges.csv"
       ]
      },
      {
       "html": [
        "<pre>PROGRESS: Parsing completed. Parsed 20 lines in 0.021349 secs.</pre>"
       ],
       "metadata": {},
       "output_type": "display_data",
       "text": [
        "PROGRESS: Parsing completed. Parsed 20 lines in 0.021349 secs."
       ]
      },
      {
       "html": [
        "<pre>PROGRESS: Finished parsing file http://s3.amazonaws.com/GraphLab-Datasets/bond/bond_edges.csv</pre>"
       ],
       "metadata": {},
       "output_type": "display_data",
       "text": [
        "PROGRESS: Finished parsing file http://s3.amazonaws.com/GraphLab-Datasets/bond/bond_edges.csv"
       ]
      },
      {
       "html": [
        "<pre>PROGRESS: Parsing completed. Parsed 20 lines in 0.008855 secs.</pre>"
       ],
       "metadata": {},
       "output_type": "display_data",
       "text": [
        "PROGRESS: Parsing completed. Parsed 20 lines in 0.008855 secs."
       ]
      },
      {
       "output_type": "stream",
       "stream": "stdout",
       "text": [
        "------------------------------------------------------\n",
        "Inferred types from first line of file as \n",
        "column_type_hints=[str,str,str]\n",
        "If parsing fails due to incorrect types, you can correct\n",
        "the inferred type list above and pass it to read_csv in\n",
        "the column_type_hints argument\n",
        "------------------------------------------------------\n",
        "SGraph({'num_edges': 20, 'num_vertices': 10})"
       ]
      },
      {
       "output_type": "stream",
       "stream": "stdout",
       "text": [
        "\n"
       ]
      }
     ],
     "prompt_number": 3
    },
    {
     "cell_type": "code",
     "collapsed": false,
     "input": [
      "edge_data"
     ],
     "language": "python",
     "metadata": {},
     "outputs": [
      {
       "html": [
        "<div style=\"max-height:1000px;max-width:1500px;overflow:auto;\"><table frame=\"box\" rules=\"cols\">\n",
        "    <tr>\n",
        "        <th style=\"padding-left: 1em; padding-right: 1em; text-align: center\">src</th>\n",
        "        <th style=\"padding-left: 1em; padding-right: 1em; text-align: center\">dst</th>\n",
        "        <th style=\"padding-left: 1em; padding-right: 1em; text-align: center\">relation</th>\n",
        "    </tr>\n",
        "    <tr>\n",
        "        <td style=\"padding-left: 1em; padding-right: 1em; text-align: center; vertical-align: top\">Wai Lin</td>\n",
        "        <td style=\"padding-left: 1em; padding-right: 1em; text-align: center; vertical-align: top\">James Bond</td>\n",
        "        <td style=\"padding-left: 1em; padding-right: 1em; text-align: center; vertical-align: top\">friend</td>\n",
        "    </tr>\n",
        "    <tr>\n",
        "        <td style=\"padding-left: 1em; padding-right: 1em; text-align: center; vertical-align: top\">M</td>\n",
        "        <td style=\"padding-left: 1em; padding-right: 1em; text-align: center; vertical-align: top\">James Bond</td>\n",
        "        <td style=\"padding-left: 1em; padding-right: 1em; text-align: center; vertical-align: top\">worksfor</td>\n",
        "    </tr>\n",
        "    <tr>\n",
        "        <td style=\"padding-left: 1em; padding-right: 1em; text-align: center; vertical-align: top\">Inga Bergstorm</td>\n",
        "        <td style=\"padding-left: 1em; padding-right: 1em; text-align: center; vertical-align: top\">James Bond</td>\n",
        "        <td style=\"padding-left: 1em; padding-right: 1em; text-align: center; vertical-align: top\">friend</td>\n",
        "    </tr>\n",
        "    <tr>\n",
        "        <td style=\"padding-left: 1em; padding-right: 1em; text-align: center; vertical-align: top\">Elliot Carver</td>\n",
        "        <td style=\"padding-left: 1em; padding-right: 1em; text-align: center; vertical-align: top\">James Bond</td>\n",
        "        <td style=\"padding-left: 1em; padding-right: 1em; text-align: center; vertical-align: top\">killed_by</td>\n",
        "    </tr>\n",
        "    <tr>\n",
        "        <td style=\"padding-left: 1em; padding-right: 1em; text-align: center; vertical-align: top\">Gotz Otto</td>\n",
        "        <td style=\"padding-left: 1em; padding-right: 1em; text-align: center; vertical-align: top\">James Bond</td>\n",
        "        <td style=\"padding-left: 1em; padding-right: 1em; text-align: center; vertical-align: top\">killed_by</td>\n",
        "    </tr>\n",
        "    <tr>\n",
        "        <td style=\"padding-left: 1em; padding-right: 1em; text-align: center; vertical-align: top\">James Bond</td>\n",
        "        <td style=\"padding-left: 1em; padding-right: 1em; text-align: center; vertical-align: top\">M</td>\n",
        "        <td style=\"padding-left: 1em; padding-right: 1em; text-align: center; vertical-align: top\">managed_by</td>\n",
        "    </tr>\n",
        "    <tr>\n",
        "        <td style=\"padding-left: 1em; padding-right: 1em; text-align: center; vertical-align: top\">Q</td>\n",
        "        <td style=\"padding-left: 1em; padding-right: 1em; text-align: center; vertical-align: top\">M</td>\n",
        "        <td style=\"padding-left: 1em; padding-right: 1em; text-align: center; vertical-align: top\">managed_by</td>\n",
        "    </tr>\n",
        "    <tr>\n",
        "        <td style=\"padding-left: 1em; padding-right: 1em; text-align: center; vertical-align: top\">Moneypenny</td>\n",
        "        <td style=\"padding-left: 1em; padding-right: 1em; text-align: center; vertical-align: top\">M</td>\n",
        "        <td style=\"padding-left: 1em; padding-right: 1em; text-align: center; vertical-align: top\">managed_by</td>\n",
        "    </tr>\n",
        "    <tr>\n",
        "        <td style=\"padding-left: 1em; padding-right: 1em; text-align: center; vertical-align: top\">Q</td>\n",
        "        <td style=\"padding-left: 1em; padding-right: 1em; text-align: center; vertical-align: top\">Moneypenny</td>\n",
        "        <td style=\"padding-left: 1em; padding-right: 1em; text-align: center; vertical-align: top\">colleague</td>\n",
        "    </tr>\n",
        "    <tr>\n",
        "        <td style=\"padding-left: 1em; padding-right: 1em; text-align: center; vertical-align: top\">M</td>\n",
        "        <td style=\"padding-left: 1em; padding-right: 1em; text-align: center; vertical-align: top\">Moneypenny</td>\n",
        "        <td style=\"padding-left: 1em; padding-right: 1em; text-align: center; vertical-align: top\">worksfor</td>\n",
        "    </tr>\n",
        "    <tr>\n",
        "        <td style=\"padding-left: 1em; padding-right: 1em; text-align: center; vertical-align: top\">...</td>\n",
        "        <td style=\"padding-left: 1em; padding-right: 1em; text-align: center; vertical-align: top\">...</td>\n",
        "        <td style=\"padding-left: 1em; padding-right: 1em; text-align: center; vertical-align: top\">...</td>\n",
        "    </tr>\n",
        "</table>\n",
        "[20 rows x 3 columns]<br/>Note: Only the head of the SFrame is printed.<br/>You can use print_rows(num_rows=m, num_columns=n) to print more rows and columns.\n",
        "</div>"
       ],
       "metadata": {},
       "output_type": "pyout",
       "prompt_number": 5,
       "text": [
        "Columns:\n",
        "\tsrc\tstr\n",
        "\tdst\tstr\n",
        "\trelation\tstr\n",
        "\n",
        "Rows: 20\n",
        "\n",
        "Data:\n",
        "+----------------+------------+------------+\n",
        "|      src       |    dst     |  relation  |\n",
        "+----------------+------------+------------+\n",
        "|    Wai Lin     | James Bond |   friend   |\n",
        "|       M        | James Bond |  worksfor  |\n",
        "| Inga Bergstorm | James Bond |   friend   |\n",
        "| Elliot Carver  | James Bond | killed_by  |\n",
        "|   Gotz Otto    | James Bond | killed_by  |\n",
        "|   James Bond   |     M      | managed_by |\n",
        "|       Q        |     M      | managed_by |\n",
        "|   Moneypenny   |     M      | managed_by |\n",
        "|       Q        | Moneypenny | colleague  |\n",
        "|       M        | Moneypenny |  worksfor  |\n",
        "|      ...       |    ...     |    ...     |\n",
        "+----------------+------------+------------+\n",
        "[20 rows x 3 columns]\n",
        "Note: Only the head of the SFrame is printed.\n",
        "You can use print_rows(num_rows=m, num_columns=n) to print more rows and columns."
       ]
      }
     ],
     "prompt_number": 5
    },
    {
     "cell_type": "code",
     "collapsed": false,
     "input": [
      "vertex_data = SFrame.read_csv('http://s3.amazonaws.com/GraphLab-Datasets/bond/bond_vertices.csv')\n",
      "\n",
      "g = SGraph(vertices=vertex_data, edges=edge_data, vid_field='name',\n",
      "           src_field='src', dst_field='dst')"
     ],
     "language": "python",
     "metadata": {},
     "outputs": [
      {
       "html": [
        "<pre>PROGRESS: Downloading http://s3.amazonaws.com/GraphLab-Datasets/bond/bond_vertices.csv to /var/tmp/graphlab-Sean/4979/000001.csv</pre>"
       ],
       "metadata": {},
       "output_type": "display_data",
       "text": [
        "PROGRESS: Downloading http://s3.amazonaws.com/GraphLab-Datasets/bond/bond_vertices.csv to /var/tmp/graphlab-Sean/4979/000001.csv"
       ]
      },
      {
       "html": [
        "<pre>PROGRESS: Finished parsing file http://s3.amazonaws.com/GraphLab-Datasets/bond/bond_vertices.csv</pre>"
       ],
       "metadata": {},
       "output_type": "display_data",
       "text": [
        "PROGRESS: Finished parsing file http://s3.amazonaws.com/GraphLab-Datasets/bond/bond_vertices.csv"
       ]
      },
      {
       "html": [
        "<pre>PROGRESS: Parsing completed. Parsed 10 lines in 0.00921 secs.</pre>"
       ],
       "metadata": {},
       "output_type": "display_data",
       "text": [
        "PROGRESS: Parsing completed. Parsed 10 lines in 0.00921 secs."
       ]
      },
      {
       "output_type": "stream",
       "stream": "stdout",
       "text": [
        "------------------------------------------------------"
       ]
      },
      {
       "html": [
        "<pre>PROGRESS: Finished parsing file http://s3.amazonaws.com/GraphLab-Datasets/bond/bond_vertices.csv</pre>"
       ],
       "metadata": {},
       "output_type": "display_data",
       "text": [
        "PROGRESS: Finished parsing file http://s3.amazonaws.com/GraphLab-Datasets/bond/bond_vertices.csv"
       ]
      },
      {
       "html": [
        "<pre>PROGRESS: Parsing completed. Parsed 10 lines in 0.019696 secs.</pre>"
       ],
       "metadata": {},
       "output_type": "display_data",
       "text": [
        "PROGRESS: Parsing completed. Parsed 10 lines in 0.019696 secs."
       ]
      },
      {
       "output_type": "stream",
       "stream": "stdout",
       "text": [
        "\n",
        "Inferred types from first line of file as \n",
        "column_type_hints=[str,str,int,int]\n",
        "If parsing fails due to incorrect types, you can correct\n",
        "the inferred type list above and pass it to read_csv in\n",
        "the column_type_hints argument\n",
        "------------------------------------------------------\n"
       ]
      }
     ],
     "prompt_number": 6
    },
    {
     "cell_type": "code",
     "collapsed": false,
     "input": [
      "g.save('james_bond')\n",
      "new_graph = gl.load_sgraph('james_bond')"
     ],
     "language": "python",
     "metadata": {},
     "outputs": [],
     "prompt_number": 8
    },
    {
     "cell_type": "code",
     "collapsed": false,
     "input": [
      "g.show(vlabel='id', highlight=['James Bond', 'Moneypenny'], arrows=True)"
     ],
     "language": "python",
     "metadata": {},
     "outputs": [],
     "prompt_number": 9
    },
    {
     "cell_type": "code",
     "collapsed": false,
     "input": [
      "print g.summary()"
     ],
     "language": "python",
     "metadata": {},
     "outputs": [
      {
       "output_type": "stream",
       "stream": "stdout",
       "text": [
        "{'num_edges': 20, 'num_vertices': 10}\n"
       ]
      }
     ],
     "prompt_number": 10
    },
    {
     "cell_type": "code",
     "collapsed": false,
     "input": [
      "sub_verts = g.get_vertices(ids=['James Bond'])\n",
      "print sub_verts"
     ],
     "language": "python",
     "metadata": {},
     "outputs": [
      {
       "output_type": "stream",
       "stream": "stdout",
       "text": [
        "+------------+--------+-----------------+---------+\n",
        "|    __id    | gender | license_to_kill | villian |\n",
        "+------------+--------+-----------------+---------+\n",
        "| James Bond |   M    |        1        |    0    |\n",
        "+------------+--------+-----------------+---------+\n",
        "[1 rows x 4 columns]\n",
        "\n"
       ]
      }
     ],
     "prompt_number": 11
    },
    {
     "cell_type": "code",
     "collapsed": false,
     "input": [
      "sub_edges = g.get_edges(fields={'relation': 'worksfor'})\n",
      "print sub_edges"
     ],
     "language": "python",
     "metadata": {},
     "outputs": [
      {
       "output_type": "stream",
       "stream": "stdout",
       "text": [
        "+---------------+-------------+----------+\n",
        "|    __src_id   |   __dst_id  | relation |\n",
        "+---------------+-------------+----------+\n",
        "|       M       |  Moneypenny | worksfor |\n",
        "|       M       |  James Bond | worksfor |\n",
        "|       M       |      Q      | worksfor |\n",
        "| Elliot Carver | Henry Gupta | worksfor |\n",
        "| Elliot Carver |  Gotz Otto  | worksfor |\n",
        "+---------------+-------------+----------+\n",
        "[5 rows x 3 columns]\n",
        "\n"
       ]
      }
     ],
     "prompt_number": 12
    },
    {
     "cell_type": "code",
     "collapsed": false,
     "input": [
      "targets = ['James Bond', 'Moneypenny']\n",
      "subgraph = g.get_neighborhood(ids=targets, radius=1, full_subgraph=True)\n",
      "subgraph.show(vlabel='id', highlight=['James Bond', 'Moneypenny'], arrows=True)"
     ],
     "language": "python",
     "metadata": {},
     "outputs": [],
     "prompt_number": 13
    },
    {
     "cell_type": "code",
     "collapsed": false,
     "input": [
      "g.edges.print_rows(5)\n",
      "g.get_edges().print_rows(5)"
     ],
     "language": "python",
     "metadata": {},
     "outputs": [
      {
       "output_type": "stream",
       "stream": "stdout",
       "text": [
        "+----------------+---------------+------------+\n",
        "|    __src_id    |    __dst_id   |  relation  |\n",
        "+----------------+---------------+------------+\n",
        "| Inga Bergstorm |   James Bond  |   friend   |\n",
        "|   Moneypenny   |       M       | managed_by |\n",
        "|   Moneypenny   |       Q       | colleague  |\n",
        "|  Henry Gupta   | Elliot Carver | killed_by  |\n",
        "|       Q        |   Moneypenny  | colleague  |\n",
        "|      ...       |      ...      |    ...     |\n",
        "+----------------+---------------+------------+\n",
        "[20 rows x 3 columns]\n",
        "\n",
        "+----------------+---------------+------------+\n",
        "|    __src_id    |    __dst_id   |  relation  |\n",
        "+----------------+---------------+------------+\n",
        "| Inga Bergstorm |   James Bond  |   friend   |\n",
        "|   Moneypenny   |       M       | managed_by |\n",
        "|   Moneypenny   |       Q       | colleague  |\n",
        "|  Henry Gupta   | Elliot Carver | killed_by  |\n",
        "|       Q        |   Moneypenny  | colleague  |\n",
        "|      ...       |      ...      |    ...     |\n",
        "+----------------+---------------+------------+\n",
        "[20 rows x 3 columns]\n",
        "\n"
       ]
      }
     ],
     "prompt_number": 14
    },
    {
     "cell_type": "code",
     "collapsed": false,
     "input": [
      "g.edges['relation'] = g.edges['relation'].apply(lambda x: x[0].upper())\n",
      "g.get_edges().print_rows(5)"
     ],
     "language": "python",
     "metadata": {},
     "outputs": [
      {
       "output_type": "stream",
       "stream": "stdout",
       "text": [
        "+----------------+---------------+----------+\n",
        "|    __src_id    |    __dst_id   | relation |\n",
        "+----------------+---------------+----------+\n",
        "| Inga Bergstorm |   James Bond  |    F     |\n",
        "|   Moneypenny   |       M       |    M     |\n",
        "|   Moneypenny   |       Q       |    C     |\n",
        "|  Henry Gupta   | Elliot Carver |    K     |\n",
        "|       Q        |   Moneypenny  |    C     |\n",
        "|      ...       |      ...      |   ...    |\n",
        "+----------------+---------------+----------+\n",
        "[20 rows x 3 columns]\n",
        "\n"
       ]
      }
     ],
     "prompt_number": 15
    },
    {
     "cell_type": "code",
     "collapsed": false,
     "input": [
      "e = g.get_edges()  # e is a normal SFrame independent of g.\n",
      "e['relation'] = e['relation'].apply(lambda x: x[0].lower())\n",
      "g.get_edges().print_rows(5)"
     ],
     "language": "python",
     "metadata": {},
     "outputs": [
      {
       "output_type": "stream",
       "stream": "stdout",
       "text": [
        "+----------------+---------------+----------+\n",
        "|    __src_id    |    __dst_id   | relation |\n",
        "+----------------+---------------+----------+\n",
        "| Inga Bergstorm |   James Bond  |    F     |\n",
        "|   Moneypenny   |       M       |    M     |\n",
        "|   Moneypenny   |       Q       |    C     |\n",
        "|  Henry Gupta   | Elliot Carver |    K     |\n",
        "|       Q        |   Moneypenny  |    C     |\n",
        "|      ...       |      ...      |   ...    |\n",
        "+----------------+---------------+----------+\n",
        "[20 rows x 3 columns]\n",
        "\n"
       ]
      }
     ],
     "prompt_number": 16
    },
    {
     "cell_type": "code",
     "collapsed": false,
     "input": [
      "e = g.edges.head(5)\n",
      "e['is_friend'] = e['relation'].apply(lambda x: x[0] == 'F')"
     ],
     "language": "python",
     "metadata": {},
     "outputs": [],
     "prompt_number": 17
    },
    {
     "cell_type": "code",
     "collapsed": false,
     "input": [
      "g.edges['weight'] = 1.0\n",
      "del g.edges['weight']"
     ],
     "language": "python",
     "metadata": {},
     "outputs": [],
     "prompt_number": 18
    },
    {
     "cell_type": "code",
     "collapsed": false,
     "input": [
      "def increment_degree(src, edge, dst):\n",
      "    src['degree'] += 1\n",
      "    dst['degree'] += 1\n",
      "    return (src, edge, dst)"
     ],
     "language": "python",
     "metadata": {},
     "outputs": [],
     "prompt_number": 19
    },
    {
     "cell_type": "code",
     "collapsed": false,
     "input": [
      "g.vertices['degree'] = 0"
     ],
     "language": "python",
     "metadata": {},
     "outputs": [],
     "prompt_number": 20
    },
    {
     "cell_type": "code",
     "collapsed": false,
     "input": [
      "g = g.triple_apply(increment_degree, mutated_fields=['degree'])\n",
      "print g.vertices.sort('degree', ascending=False)"
     ],
     "language": "python",
     "metadata": {},
     "outputs": [
      {
       "output_type": "stream",
       "stream": "stdout",
       "text": [
        "+----------------+--------+--------+-----------------+---------+\n",
        "|      __id      | degree | gender | license_to_kill | villian |\n",
        "+----------------+--------+--------+-----------------+---------+\n",
        "|   James Bond   |   8    |   M    |        1        |    0    |\n",
        "| Elliot Carver  |   7    |   M    |        0        |    1    |\n",
        "|       M        |   6    |   M    |        1        |    0    |\n",
        "|   Moneypenny   |   4    |   F    |        1        |    0    |\n",
        "|       Q        |   4    |   M    |        1        |    0    |\n",
        "|  Paris Carver  |   3    |   F    |        0        |    1    |\n",
        "|    Wai Lin     |   2    |   F    |        1        |    0    |\n",
        "|  Henry Gupta   |   2    |   M    |        0        |    1    |\n",
        "| Inga Bergstorm |   2    |   F    |        0        |    0    |\n",
        "|   Gotz Otto    |   2    |   M    |        0        |    1    |\n",
        "+----------------+--------+--------+-----------------+---------+\n",
        "[10 rows x 5 columns]\n",
        "\n"
       ]
      }
     ],
     "prompt_number": 21
    },
    {
     "cell_type": "code",
     "collapsed": false,
     "input": [
      "import numpy as np\n",
      "from matplotlib import pyplot as plt\n",
      "\n",
      "sa = gl.SArray([np.random.gamma(1) for _ in range(100000)])\n",
      "n, bins, patches = plt.hist(list(sa))\n",
      "plt.plot(bins)\n",
      "plt.show()"
     ],
     "language": "python",
     "metadata": {},
     "outputs": [],
     "prompt_number": 22
    },
    {
     "cell_type": "code",
     "collapsed": false,
     "input": [],
     "language": "python",
     "metadata": {},
     "outputs": []
    }
   ],
   "metadata": {}
  }
 ]
}