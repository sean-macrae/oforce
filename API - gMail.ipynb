{
 "metadata": {
  "name": "",
  "signature": "sha256:31076a25a392b785ee4f9d35ebe37e7a641fa211e602577ef2e6c1d455f9cbf5"
 },
 "nbformat": 3,
 "nbformat_minor": 0,
 "worksheets": [
  {
   "cells": [
    {
     "cell_type": "code",
     "collapsed": false,
     "input": [
      "import sys\n",
      "import imaplib\n",
      "import getpass\n",
      "import email\n",
      "import datetime\n",
      "import pandas as pd\n",
      "import matplotlib.pyplot as plt\n",
      "\n",
      "M = imaplib.IMAP4_SSL('imap.gmail.com')"
     ],
     "language": "python",
     "metadata": {},
     "outputs": [],
     "prompt_number": 2
    },
    {
     "cell_type": "code",
     "collapsed": false,
     "input": [
      "try:\n",
      "    M.login('smacrae@oration.com', 'earcam1357!@#$')\n",
      "except imaplib.IMAP4.error:\n",
      "    print \"LOGIN FAILED!!! \"\n",
      "    # ... exit or deal with failure..."
     ],
     "language": "python",
     "metadata": {},
     "outputs": [],
     "prompt_number": 3
    },
    {
     "cell_type": "code",
     "collapsed": false,
     "input": [
      "rv, mailboxes = M.list()\n",
      "if rv == 'OK':\n",
      "    print \"Mailboxes:\"\n",
      "    print mailboxes"
     ],
     "language": "python",
     "metadata": {},
     "outputs": [
      {
       "output_type": "stream",
       "stream": "stdout",
       "text": [
        "Mailboxes:\n",
        "['(\\\\HasNoChildren) \"/\" \"INBOX\"', '(\\\\HasChildren \\\\Noselect) \"/\" \"[Gmail]\"', '(\\\\All \\\\HasNoChildren) \"/\" \"[Gmail]/All Mail\"', '(\\\\Drafts \\\\HasNoChildren) \"/\" \"[Gmail]/Drafts\"', '(\\\\Important \\\\HasNoChildren) \"/\" \"[Gmail]/Important\"', '(\\\\Sent \\\\HasNoChildren) \"/\" \"[Gmail]/Sent Mail\"', '(\\\\Junk \\\\HasNoChildren) \"/\" \"[Gmail]/Spam\"', '(\\\\HasNoChildren \\\\Flagged) \"/\" \"[Gmail]/Starred\"', '(\\\\Trash \\\\HasNoChildren) \"/\" \"[Gmail]/Trash\"']\n"
       ]
      }
     ],
     "prompt_number": 4
    },
    {
     "cell_type": "code",
     "collapsed": false,
     "input": [
      "def get_first_text_part(msg):\n",
      "    maintype = msg.get_content_maintype()\n",
      "    if maintype == 'multipart':\n",
      "        for part in msg.get_payload():\n",
      "            if part.get_content_maintype() == 'text':\n",
      "                return part.get_payload(decode=True)\n",
      "    elif maintype == 'text':\n",
      "        return msg.get_payload(decode=True)\n",
      "\n",
      "def process_mailbox(M):\n",
      "  rv, data = M.search(None, \"ALL\")\n",
      "  if rv != 'OK':\n",
      "      print \"No messages found!\"\n",
      "      return\n",
      "\n",
      "  for num in data[0].split():\n",
      "      rv, data = M.fetch(num, '(RFC822)')\n",
      "      if rv != 'OK':\n",
      "          print \"ERROR getting message\", num\n",
      "          return\n",
      "\n",
      "      msg = email.message_from_string(data[0][1])\n",
      "      index.append(num)\n",
      "      subject.append(msg['Subject'])\n",
      "      date.append(msg['Date'])\n",
      "      email_from.append(msg['From'])\n",
      "      email_to.append(msg['To'])\n",
      "      body.append(get_first_text_part(msg))\n",
      "      body_sub.append(msg.get_content_subtype())\n",
      "      body_type.append(msg.get_content_type())\n",
      "      content_charset.append(msg.get_content_charset())\n",
      "      date_tuple = email.utils.parsedate_tz(msg['Date'])\n",
      "      if date_tuple:\n",
      "          local_date = datetime.datetime.fromtimestamp(\n",
      "              email.utils.mktime_tz(date_tuple))\n",
      "          print \"Local Date:\", \\\n",
      "              local_date.strftime(\"%a, %d %b %Y %H:%M:%S\")"
     ],
     "language": "python",
     "metadata": {},
     "outputs": [],
     "prompt_number": 5
    },
    {
     "cell_type": "code",
     "collapsed": false,
     "input": [
      "index = []\n",
      "subject = []\n",
      "date = []\n",
      "email_from = []\n",
      "email_to = []\n",
      "body = []\n",
      "body_sub = []\n",
      "body_type = []\n",
      "content_charset = []"
     ],
     "language": "python",
     "metadata": {},
     "outputs": [],
     "prompt_number": 6
    },
    {
     "cell_type": "code",
     "collapsed": false,
     "input": [
      "rv, data = M.select(\"[Gmail]/All Mail\")\n",
      "if rv == 'OK':\n",
      "    print \"Processing mailbox...\\n\"\n",
      "    process_mailbox(M) # ... do something with emails, see below ...\n",
      "    M.close()\n",
      "M.logout()"
     ],
     "language": "python",
     "metadata": {},
     "outputs": [
      {
       "output_type": "stream",
       "stream": "stdout",
       "text": [
        "Processing mailbox...\n",
        "\n",
        "Local Date:"
       ]
      },
      {
       "output_type": "stream",
       "stream": "stdout",
       "text": [
        " Sun, 04 Jan 2015 16:17:20\n",
        "Local Date:"
       ]
      },
      {
       "output_type": "stream",
       "stream": "stdout",
       "text": [
        " Sun, 04 Jan 2015 16:21:47\n",
        "Local Date:"
       ]
      },
      {
       "output_type": "stream",
       "stream": "stdout",
       "text": [
        " Sun, 04 Jan 2015 20:08:15\n",
        "Local Date:"
       ]
      },
      {
       "output_type": "stream",
       "stream": "stdout",
       "text": [
        " Mon, 05 Jan 2015 08:24:47\n",
        "Local Date:"
       ]
      },
      {
       "output_type": "stream",
       "stream": "stdout",
       "text": [
        " Mon, 05 Jan 2015 09:35:24\n",
        "Local Date:"
       ]
      },
      {
       "output_type": "stream",
       "stream": "stdout",
       "text": [
        " Mon, 05 Jan 2015 10:06:11\n",
        "Local Date:"
       ]
      },
      {
       "output_type": "stream",
       "stream": "stdout",
       "text": [
        " Mon, 05 Jan 2015 11:00:05\n",
        "Local Date:"
       ]
      },
      {
       "output_type": "stream",
       "stream": "stdout",
       "text": [
        " Mon, 05 Jan 2015 11:24:09\n",
        "Local Date:"
       ]
      },
      {
       "output_type": "stream",
       "stream": "stdout",
       "text": [
        " Mon, 05 Jan 2015 11:35:51\n",
        "Local Date:"
       ]
      },
      {
       "output_type": "stream",
       "stream": "stdout",
       "text": [
        " Mon, 05 Jan 2015 11:40:57\n",
        "Local Date:"
       ]
      },
      {
       "output_type": "stream",
       "stream": "stdout",
       "text": [
        " Mon, 05 Jan 2015 11:51:49\n",
        "Local Date:"
       ]
      },
      {
       "output_type": "stream",
       "stream": "stdout",
       "text": [
        " Mon, 05 Jan 2015 11:51:49\n",
        "Local Date:"
       ]
      },
      {
       "output_type": "stream",
       "stream": "stdout",
       "text": [
        " Mon, 05 Jan 2015 11:54:21\n",
        "Local Date:"
       ]
      },
      {
       "output_type": "stream",
       "stream": "stdout",
       "text": [
        " Mon, 05 Jan 2015 11:55:52\n",
        "Local Date:"
       ]
      },
      {
       "output_type": "stream",
       "stream": "stdout",
       "text": [
        " Mon, 05 Jan 2015 11:56:21\n",
        "Local Date:"
       ]
      },
      {
       "output_type": "stream",
       "stream": "stdout",
       "text": [
        " Mon, 05 Jan 2015 12:56:49\n",
        "Local Date:"
       ]
      },
      {
       "output_type": "stream",
       "stream": "stdout",
       "text": [
        " Mon, 05 Jan 2015 13:02:20\n",
        "Local Date:"
       ]
      },
      {
       "output_type": "stream",
       "stream": "stdout",
       "text": [
        " Mon, 05 Jan 2015 13:52:53\n",
        "Local Date:"
       ]
      },
      {
       "output_type": "stream",
       "stream": "stdout",
       "text": [
        " Mon, 05 Jan 2015 13:58:18\n",
        "Local Date:"
       ]
      },
      {
       "output_type": "stream",
       "stream": "stdout",
       "text": [
        " Mon, 05 Jan 2015 14:21:09\n",
        "Local Date:"
       ]
      },
      {
       "output_type": "stream",
       "stream": "stdout",
       "text": [
        " Mon, 05 Jan 2015 14:30:36\n",
        "Local Date:"
       ]
      },
      {
       "output_type": "stream",
       "stream": "stdout",
       "text": [
        " Mon, 05 Jan 2015 14:49:53\n",
        "Local Date:"
       ]
      },
      {
       "output_type": "stream",
       "stream": "stdout",
       "text": [
        " Mon, 05 Jan 2015 14:56:03\n",
        "Local Date:"
       ]
      },
      {
       "output_type": "stream",
       "stream": "stdout",
       "text": [
        " Mon, 05 Jan 2015 14:57:18\n",
        "Local Date:"
       ]
      },
      {
       "output_type": "stream",
       "stream": "stdout",
       "text": [
        " Mon, 05 Jan 2015 14:57:48\n",
        "Local Date:"
       ]
      },
      {
       "output_type": "stream",
       "stream": "stdout",
       "text": [
        " Mon, 05 Jan 2015 14:57:53\n",
        "Local Date:"
       ]
      },
      {
       "output_type": "stream",
       "stream": "stdout",
       "text": [
        " Mon, 05 Jan 2015 16:48:27\n",
        "Local Date:"
       ]
      },
      {
       "output_type": "stream",
       "stream": "stdout",
       "text": [
        " Mon, 05 Jan 2015 16:48:19\n",
        "Local Date:"
       ]
      },
      {
       "output_type": "stream",
       "stream": "stdout",
       "text": [
        " Mon, 05 Jan 2015 17:12:34\n",
        "Local Date:"
       ]
      },
      {
       "output_type": "stream",
       "stream": "stdout",
       "text": [
        " Mon, 05 Jan 2015 18:42:43\n",
        "Local Date:"
       ]
      },
      {
       "output_type": "stream",
       "stream": "stdout",
       "text": [
        " Tue, 06 Jan 2015 06:10:27\n",
        "Local Date:"
       ]
      },
      {
       "output_type": "stream",
       "stream": "stdout",
       "text": [
        " Tue, 06 Jan 2015 06:15:06\n",
        "Local Date:"
       ]
      },
      {
       "output_type": "stream",
       "stream": "stdout",
       "text": [
        " Tue, 06 Jan 2015 06:17:49\n",
        "Local Date:"
       ]
      },
      {
       "output_type": "stream",
       "stream": "stdout",
       "text": [
        " Tue, 06 Jan 2015 08:46:31\n",
        "Local Date:"
       ]
      },
      {
       "output_type": "stream",
       "stream": "stdout",
       "text": [
        " Tue, 06 Jan 2015 08:47:24\n",
        "Local Date:"
       ]
      },
      {
       "output_type": "stream",
       "stream": "stdout",
       "text": [
        " Tue, 06 Jan 2015 09:00:52\n",
        "Local Date:"
       ]
      },
      {
       "output_type": "stream",
       "stream": "stdout",
       "text": [
        " Tue, 06 Jan 2015 09:01:45\n",
        "Local Date:"
       ]
      },
      {
       "output_type": "stream",
       "stream": "stdout",
       "text": [
        " Tue, 06 Jan 2015 09:13:23\n",
        "Local Date:"
       ]
      },
      {
       "output_type": "stream",
       "stream": "stdout",
       "text": [
        " Tue, 06 Jan 2015 09:20:34\n",
        "Local Date:"
       ]
      },
      {
       "output_type": "stream",
       "stream": "stdout",
       "text": [
        " Tue, 06 Jan 2015 09:37:30\n",
        "Local Date:"
       ]
      },
      {
       "output_type": "stream",
       "stream": "stdout",
       "text": [
        " Tue, 06 Jan 2015 09:41:14\n",
        "Local Date:"
       ]
      },
      {
       "output_type": "stream",
       "stream": "stdout",
       "text": [
        " Tue, 06 Jan 2015 09:48:41\n",
        "Local Date:"
       ]
      },
      {
       "output_type": "stream",
       "stream": "stdout",
       "text": [
        " Tue, 06 Jan 2015 10:21:51\n",
        "Local Date:"
       ]
      },
      {
       "output_type": "stream",
       "stream": "stdout",
       "text": [
        " Tue, 06 Jan 2015 10:27:56\n",
        "Local Date:"
       ]
      },
      {
       "output_type": "stream",
       "stream": "stdout",
       "text": [
        " Tue, 06 Jan 2015 11:30:43\n",
        "Local Date:"
       ]
      },
      {
       "output_type": "stream",
       "stream": "stdout",
       "text": [
        " Tue, 06 Jan 2015 11:35:55\n",
        "Local Date:"
       ]
      },
      {
       "output_type": "stream",
       "stream": "stdout",
       "text": [
        " Tue, 06 Jan 2015 14:13:23\n",
        "Local Date:"
       ]
      },
      {
       "output_type": "stream",
       "stream": "stdout",
       "text": [
        " Tue, 06 Jan 2015 14:31:57\n",
        "Local Date:"
       ]
      },
      {
       "output_type": "stream",
       "stream": "stdout",
       "text": [
        " Tue, 06 Jan 2015 14:33:05\n",
        "Local Date:"
       ]
      },
      {
       "output_type": "stream",
       "stream": "stdout",
       "text": [
        " Tue, 06 Jan 2015 14:33:16\n",
        "Local Date:"
       ]
      },
      {
       "output_type": "stream",
       "stream": "stdout",
       "text": [
        " Tue, 06 Jan 2015 14:43:30\n",
        "Local Date:"
       ]
      },
      {
       "output_type": "stream",
       "stream": "stdout",
       "text": [
        " Tue, 06 Jan 2015 14:46:21\n",
        "Local Date:"
       ]
      },
      {
       "output_type": "stream",
       "stream": "stdout",
       "text": [
        " Tue, 06 Jan 2015 14:57:58\n",
        "Local Date:"
       ]
      },
      {
       "output_type": "stream",
       "stream": "stdout",
       "text": [
        " Tue, 06 Jan 2015 15:04:12\n",
        "Local Date:"
       ]
      },
      {
       "output_type": "stream",
       "stream": "stdout",
       "text": [
        " Tue, 06 Jan 2015 15:49:13\n",
        "Local Date:"
       ]
      },
      {
       "output_type": "stream",
       "stream": "stdout",
       "text": [
        " Tue, 06 Jan 2015 17:13:56\n",
        "Local Date:"
       ]
      },
      {
       "output_type": "stream",
       "stream": "stdout",
       "text": [
        " Tue, 06 Jan 2015 21:40:02\n",
        "Local Date:"
       ]
      },
      {
       "output_type": "stream",
       "stream": "stdout",
       "text": [
        " Wed, 07 Jan 2015 08:10:29\n",
        "Local Date:"
       ]
      },
      {
       "output_type": "stream",
       "stream": "stdout",
       "text": [
        " Wed, 07 Jan 2015 08:21:59\n",
        "Local Date:"
       ]
      },
      {
       "output_type": "stream",
       "stream": "stdout",
       "text": [
        " Wed, 07 Jan 2015 08:31:36\n",
        "Local Date:"
       ]
      },
      {
       "output_type": "stream",
       "stream": "stdout",
       "text": [
        " Wed, 07 Jan 2015 08:34:15\n",
        "Local Date:"
       ]
      },
      {
       "output_type": "stream",
       "stream": "stdout",
       "text": [
        " Wed, 07 Jan 2015 09:32:07\n",
        "Local Date:"
       ]
      },
      {
       "output_type": "stream",
       "stream": "stdout",
       "text": [
        " Wed, 07 Jan 2015 10:41:23\n",
        "Local Date:"
       ]
      },
      {
       "output_type": "stream",
       "stream": "stdout",
       "text": [
        " Wed, 07 Jan 2015 10:42:27\n",
        "Local Date:"
       ]
      },
      {
       "output_type": "stream",
       "stream": "stdout",
       "text": [
        " Wed, 07 Jan 2015 12:31:55\n",
        "Local Date:"
       ]
      },
      {
       "output_type": "stream",
       "stream": "stdout",
       "text": [
        " Wed, 07 Jan 2015 13:52:52\n",
        "Local Date:"
       ]
      },
      {
       "output_type": "stream",
       "stream": "stdout",
       "text": [
        " Wed, 07 Jan 2015 21:22:10\n",
        "Local Date:"
       ]
      },
      {
       "output_type": "stream",
       "stream": "stdout",
       "text": [
        " Thu, 08 Jan 2015 05:55:28\n",
        "Local Date:"
       ]
      },
      {
       "output_type": "stream",
       "stream": "stdout",
       "text": [
        " Thu, 08 Jan 2015 06:41:23\n",
        "Local Date:"
       ]
      },
      {
       "output_type": "stream",
       "stream": "stdout",
       "text": [
        " Thu, 08 Jan 2015 10:37:01\n",
        "Local Date:"
       ]
      },
      {
       "output_type": "stream",
       "stream": "stdout",
       "text": [
        " Thu, 08 Jan 2015 10:47:32\n",
        "Local Date:"
       ]
      },
      {
       "output_type": "stream",
       "stream": "stdout",
       "text": [
        " Thu, 08 Jan 2015 10:56:26\n",
        "Local Date:"
       ]
      },
      {
       "output_type": "stream",
       "stream": "stdout",
       "text": [
        " Thu, 08 Jan 2015 11:28:39\n",
        "Local Date:"
       ]
      },
      {
       "output_type": "stream",
       "stream": "stdout",
       "text": [
        " Thu, 08 Jan 2015 11:37:36\n",
        "Local Date:"
       ]
      },
      {
       "output_type": "stream",
       "stream": "stdout",
       "text": [
        " Thu, 08 Jan 2015 12:17:51\n",
        "Local Date:"
       ]
      },
      {
       "output_type": "stream",
       "stream": "stdout",
       "text": [
        " Thu, 08 Jan 2015 13:17:13\n",
        "Local Date:"
       ]
      },
      {
       "output_type": "stream",
       "stream": "stdout",
       "text": [
        " Thu, 08 Jan 2015 13:17:22\n",
        "Local Date:"
       ]
      },
      {
       "output_type": "stream",
       "stream": "stdout",
       "text": [
        " Thu, 08 Jan 2015 13:45:03\n",
        "Local Date:"
       ]
      },
      {
       "output_type": "stream",
       "stream": "stdout",
       "text": [
        " Thu, 08 Jan 2015 14:35:01\n",
        "Local Date:"
       ]
      },
      {
       "output_type": "stream",
       "stream": "stdout",
       "text": [
        " Thu, 08 Jan 2015 14:48:11\n",
        "Local Date:"
       ]
      },
      {
       "output_type": "stream",
       "stream": "stdout",
       "text": [
        " Thu, 08 Jan 2015 16:09:34\n",
        "Local Date:"
       ]
      },
      {
       "output_type": "stream",
       "stream": "stdout",
       "text": [
        " Thu, 08 Jan 2015 16:10:25\n",
        "Local Date:"
       ]
      },
      {
       "output_type": "stream",
       "stream": "stdout",
       "text": [
        " Thu, 08 Jan 2015 16:38:36\n",
        "Local Date:"
       ]
      },
      {
       "output_type": "stream",
       "stream": "stdout",
       "text": [
        " Thu, 08 Jan 2015 17:01:00\n",
        "Local Date:"
       ]
      },
      {
       "output_type": "stream",
       "stream": "stdout",
       "text": [
        " Thu, 08 Jan 2015 17:01:20\n",
        "Local Date:"
       ]
      },
      {
       "output_type": "stream",
       "stream": "stdout",
       "text": [
        " Thu, 08 Jan 2015 17:26:44\n",
        "Local Date:"
       ]
      },
      {
       "output_type": "stream",
       "stream": "stdout",
       "text": [
        " Thu, 08 Jan 2015 20:07:08\n",
        "Local Date:"
       ]
      },
      {
       "output_type": "stream",
       "stream": "stdout",
       "text": [
        " Thu, 08 Jan 2015 22:49:15\n",
        "Local Date:"
       ]
      },
      {
       "output_type": "stream",
       "stream": "stdout",
       "text": [
        " Fri, 09 Jan 2015 00:02:01\n",
        "Local Date:"
       ]
      },
      {
       "output_type": "stream",
       "stream": "stdout",
       "text": [
        " Fri, 09 Jan 2015 01:27:30\n",
        "Local Date:"
       ]
      },
      {
       "output_type": "stream",
       "stream": "stdout",
       "text": [
        " Fri, 09 Jan 2015 08:01:41\n",
        "Local Date:"
       ]
      },
      {
       "output_type": "stream",
       "stream": "stdout",
       "text": [
        " Fri, 09 Jan 2015 08:09:17\n",
        "Local Date:"
       ]
      },
      {
       "output_type": "stream",
       "stream": "stdout",
       "text": [
        " Fri, 09 Jan 2015 08:16:16\n",
        "Local Date:"
       ]
      },
      {
       "output_type": "stream",
       "stream": "stdout",
       "text": [
        " Fri, 09 Jan 2015 08:22:51\n",
        "Local Date:"
       ]
      },
      {
       "output_type": "stream",
       "stream": "stdout",
       "text": [
        " Fri, 09 Jan 2015 08:37:26\n",
        "Local Date:"
       ]
      },
      {
       "output_type": "stream",
       "stream": "stdout",
       "text": [
        " Fri, 09 Jan 2015 08:40:54\n",
        "Local Date:"
       ]
      },
      {
       "output_type": "stream",
       "stream": "stdout",
       "text": [
        " Fri, 09 Jan 2015 08:44:48\n",
        "Local Date:"
       ]
      },
      {
       "output_type": "stream",
       "stream": "stdout",
       "text": [
        " Fri, 09 Jan 2015 08:59:21\n",
        "Local Date:"
       ]
      },
      {
       "output_type": "stream",
       "stream": "stdout",
       "text": [
        " Fri, 09 Jan 2015 09:06:50\n",
        "Local Date:"
       ]
      },
      {
       "output_type": "stream",
       "stream": "stdout",
       "text": [
        " Fri, 09 Jan 2015 09:17:42\n",
        "Local Date:"
       ]
      },
      {
       "output_type": "stream",
       "stream": "stdout",
       "text": [
        " Fri, 09 Jan 2015 09:21:35\n",
        "Local Date:"
       ]
      },
      {
       "output_type": "stream",
       "stream": "stdout",
       "text": [
        " Fri, 09 Jan 2015 09:22:23\n",
        "Local Date:"
       ]
      },
      {
       "output_type": "stream",
       "stream": "stdout",
       "text": [
        " Fri, 09 Jan 2015 09:26:43\n",
        "Local Date:"
       ]
      },
      {
       "output_type": "stream",
       "stream": "stdout",
       "text": [
        " Fri, 09 Jan 2015 09:36:35\n",
        "Local Date:"
       ]
      },
      {
       "output_type": "stream",
       "stream": "stdout",
       "text": [
        " Fri, 09 Jan 2015 10:06:40\n",
        "Local Date:"
       ]
      },
      {
       "output_type": "stream",
       "stream": "stdout",
       "text": [
        " Fri, 09 Jan 2015 10:11:46\n",
        "Local Date:"
       ]
      },
      {
       "output_type": "stream",
       "stream": "stdout",
       "text": [
        " Fri, 09 Jan 2015 10:26:45\n",
        "Local Date:"
       ]
      },
      {
       "output_type": "stream",
       "stream": "stdout",
       "text": [
        " Fri, 09 Jan 2015 11:43:27\n",
        "Local Date:"
       ]
      },
      {
       "output_type": "stream",
       "stream": "stdout",
       "text": [
        " Fri, 09 Jan 2015 11:46:50\n",
        "Local Date:"
       ]
      },
      {
       "output_type": "stream",
       "stream": "stdout",
       "text": [
        " Fri, 09 Jan 2015 11:47:56\n",
        "Local Date:"
       ]
      },
      {
       "output_type": "stream",
       "stream": "stdout",
       "text": [
        " Fri, 09 Jan 2015 11:59:19\n",
        "Local Date:"
       ]
      },
      {
       "output_type": "stream",
       "stream": "stdout",
       "text": [
        " Fri, 09 Jan 2015 12:20:12\n",
        "Local Date:"
       ]
      },
      {
       "output_type": "stream",
       "stream": "stdout",
       "text": [
        " Fri, 09 Jan 2015 13:13:29\n",
        "Local Date:"
       ]
      },
      {
       "output_type": "stream",
       "stream": "stdout",
       "text": [
        " Fri, 09 Jan 2015 13:41:53\n",
        "Local Date:"
       ]
      },
      {
       "output_type": "stream",
       "stream": "stdout",
       "text": [
        " Fri, 09 Jan 2015 13:50:43\n",
        "Local Date:"
       ]
      },
      {
       "output_type": "stream",
       "stream": "stdout",
       "text": [
        " Fri, 09 Jan 2015 14:23:36\n",
        "Local Date:"
       ]
      },
      {
       "output_type": "stream",
       "stream": "stdout",
       "text": [
        " Fri, 09 Jan 2015 15:00:58\n",
        "Local Date:"
       ]
      },
      {
       "output_type": "stream",
       "stream": "stdout",
       "text": [
        " Fri, 09 Jan 2015 15:03:11\n",
        "Local Date:"
       ]
      },
      {
       "output_type": "stream",
       "stream": "stdout",
       "text": [
        " Fri, 09 Jan 2015 15:49:33\n",
        "Local Date:"
       ]
      },
      {
       "output_type": "stream",
       "stream": "stdout",
       "text": [
        " Fri, 09 Jan 2015 19:01:34\n",
        "Local Date:"
       ]
      },
      {
       "output_type": "stream",
       "stream": "stdout",
       "text": [
        " Fri, 09 Jan 2015 19:58:31\n",
        "Local Date:"
       ]
      },
      {
       "output_type": "stream",
       "stream": "stdout",
       "text": [
        " Fri, 09 Jan 2015 20:16:28\n",
        "Local Date:"
       ]
      },
      {
       "output_type": "stream",
       "stream": "stdout",
       "text": [
        " Fri, 09 Jan 2015 20:57:31\n",
        "Local Date:"
       ]
      },
      {
       "output_type": "stream",
       "stream": "stdout",
       "text": [
        " Fri, 09 Jan 2015 21:03:22\n",
        "Local Date:"
       ]
      },
      {
       "output_type": "stream",
       "stream": "stdout",
       "text": [
        " Fri, 09 Jan 2015 22:12:09\n",
        "Local Date:"
       ]
      },
      {
       "output_type": "stream",
       "stream": "stdout",
       "text": [
        " Fri, 09 Jan 2015 23:17:41\n",
        "Local Date:"
       ]
      },
      {
       "output_type": "stream",
       "stream": "stdout",
       "text": [
        " Fri, 09 Jan 2015 23:23:28\n",
        "Local Date:"
       ]
      },
      {
       "output_type": "stream",
       "stream": "stdout",
       "text": [
        " Fri, 09 Jan 2015 23:26:54\n",
        "Local Date:"
       ]
      },
      {
       "output_type": "stream",
       "stream": "stdout",
       "text": [
        " Fri, 09 Jan 2015 23:35:21\n",
        "Local Date:"
       ]
      },
      {
       "output_type": "stream",
       "stream": "stdout",
       "text": [
        " Sat, 10 Jan 2015 00:01:37\n",
        "Local Date:"
       ]
      },
      {
       "output_type": "stream",
       "stream": "stdout",
       "text": [
        " Sat, 10 Jan 2015 00:02:23\n",
        "Local Date:"
       ]
      },
      {
       "output_type": "stream",
       "stream": "stdout",
       "text": [
        " Sat, 10 Jan 2015 00:04:55\n",
        "Local Date:"
       ]
      },
      {
       "output_type": "stream",
       "stream": "stdout",
       "text": [
        " Sat, 10 Jan 2015 07:24:37\n",
        "Local Date:"
       ]
      },
      {
       "output_type": "stream",
       "stream": "stdout",
       "text": [
        " Sat, 10 Jan 2015 07:53:51\n",
        "Local Date:"
       ]
      },
      {
       "output_type": "stream",
       "stream": "stdout",
       "text": [
        " Sat, 10 Jan 2015 08:16:17\n",
        "Local Date:"
       ]
      },
      {
       "output_type": "stream",
       "stream": "stdout",
       "text": [
        " Sun, 11 Jan 2015 09:06:08\n",
        "Local Date:"
       ]
      },
      {
       "output_type": "stream",
       "stream": "stdout",
       "text": [
        " Sun, 11 Jan 2015 14:53:23\n",
        "Local Date:"
       ]
      },
      {
       "output_type": "stream",
       "stream": "stdout",
       "text": [
        " Sun, 11 Jan 2015 14:59:56\n",
        "Local Date:"
       ]
      },
      {
       "output_type": "stream",
       "stream": "stdout",
       "text": [
        " Sun, 11 Jan 2015 16:55:50\n",
        "Local Date:"
       ]
      },
      {
       "output_type": "stream",
       "stream": "stdout",
       "text": [
        " Sun, 11 Jan 2015 22:22:06\n",
        "Local Date:"
       ]
      },
      {
       "output_type": "stream",
       "stream": "stdout",
       "text": [
        " Sun, 11 Jan 2015 22:51:39\n",
        "Local Date:"
       ]
      },
      {
       "output_type": "stream",
       "stream": "stdout",
       "text": [
        " Mon, 12 Jan 2015 02:20:54\n",
        "Local Date:"
       ]
      },
      {
       "output_type": "stream",
       "stream": "stdout",
       "text": [
        " Mon, 12 Jan 2015 06:31:41\n",
        "Local Date:"
       ]
      },
      {
       "output_type": "stream",
       "stream": "stdout",
       "text": [
        " Mon, 12 Jan 2015 07:01:51\n",
        "Local Date:"
       ]
      },
      {
       "output_type": "stream",
       "stream": "stdout",
       "text": [
        " Mon, 12 Jan 2015 07:48:11\n",
        "Local Date:"
       ]
      },
      {
       "output_type": "stream",
       "stream": "stdout",
       "text": [
        " Mon, 12 Jan 2015 09:02:33\n",
        "Local Date:"
       ]
      },
      {
       "output_type": "stream",
       "stream": "stdout",
       "text": [
        " Mon, 12 Jan 2015 09:23:39\n",
        "Local Date:"
       ]
      },
      {
       "output_type": "stream",
       "stream": "stdout",
       "text": [
        " Mon, 12 Jan 2015 09:50:04\n",
        "Local Date:"
       ]
      },
      {
       "output_type": "stream",
       "stream": "stdout",
       "text": [
        " Mon, 12 Jan 2015 09:50:28\n",
        "Local Date:"
       ]
      },
      {
       "output_type": "stream",
       "stream": "stdout",
       "text": [
        " Mon, 12 Jan 2015 10:54:21\n",
        "Local Date:"
       ]
      },
      {
       "output_type": "stream",
       "stream": "stdout",
       "text": [
        " Mon, 12 Jan 2015 10:59:45\n",
        "Local Date:"
       ]
      },
      {
       "output_type": "stream",
       "stream": "stdout",
       "text": [
        " Mon, 12 Jan 2015 11:01:13\n",
        "Local Date:"
       ]
      },
      {
       "output_type": "stream",
       "stream": "stdout",
       "text": [
        " Mon, 12 Jan 2015 11:33:37\n",
        "Local Date:"
       ]
      },
      {
       "output_type": "stream",
       "stream": "stdout",
       "text": [
        " Mon, 12 Jan 2015 11:35:54\n",
        "Local Date:"
       ]
      },
      {
       "output_type": "stream",
       "stream": "stdout",
       "text": [
        " Mon, 12 Jan 2015 12:27:39\n",
        "Local Date:"
       ]
      },
      {
       "output_type": "stream",
       "stream": "stdout",
       "text": [
        " Mon, 12 Jan 2015 13:47:11\n",
        "Local Date:"
       ]
      },
      {
       "output_type": "stream",
       "stream": "stdout",
       "text": [
        " Mon, 12 Jan 2015 13:58:24\n",
        "Local Date:"
       ]
      },
      {
       "output_type": "stream",
       "stream": "stdout",
       "text": [
        " Mon, 12 Jan 2015 14:58:27\n",
        "Local Date:"
       ]
      },
      {
       "output_type": "stream",
       "stream": "stdout",
       "text": [
        " Mon, 12 Jan 2015 15:11:36\n",
        "Local Date:"
       ]
      },
      {
       "output_type": "stream",
       "stream": "stdout",
       "text": [
        " Mon, 12 Jan 2015 16:24:42\n",
        "Local Date:"
       ]
      },
      {
       "output_type": "stream",
       "stream": "stdout",
       "text": [
        " Mon, 12 Jan 2015 16:46:34\n",
        "Local Date:"
       ]
      },
      {
       "output_type": "stream",
       "stream": "stdout",
       "text": [
        " Mon, 12 Jan 2015 21:34:58\n",
        "Local Date:"
       ]
      },
      {
       "output_type": "stream",
       "stream": "stdout",
       "text": [
        " Mon, 12 Jan 2015 21:53:19\n",
        "Local Date:"
       ]
      },
      {
       "output_type": "stream",
       "stream": "stdout",
       "text": [
        " Mon, 12 Jan 2015 22:03:17\n",
        "Local Date:"
       ]
      },
      {
       "output_type": "stream",
       "stream": "stdout",
       "text": [
        " Mon, 12 Jan 2015 22:21:55\n",
        "Local Date:"
       ]
      },
      {
       "output_type": "stream",
       "stream": "stdout",
       "text": [
        " Mon, 12 Jan 2015 22:40:22\n",
        "Local Date:"
       ]
      },
      {
       "output_type": "stream",
       "stream": "stdout",
       "text": [
        " Tue, 13 Jan 2015 07:53:23\n",
        "Local Date:"
       ]
      },
      {
       "output_type": "stream",
       "stream": "stdout",
       "text": [
        " Tue, 13 Jan 2015 07:58:06\n",
        "Local Date:"
       ]
      },
      {
       "output_type": "stream",
       "stream": "stdout",
       "text": [
        " Tue, 13 Jan 2015 08:25:44\n",
        "Local Date:"
       ]
      },
      {
       "output_type": "stream",
       "stream": "stdout",
       "text": [
        " Tue, 13 Jan 2015 09:05:54\n",
        "Local Date:"
       ]
      },
      {
       "output_type": "stream",
       "stream": "stdout",
       "text": [
        " Tue, 13 Jan 2015 10:30:57\n",
        "Local Date:"
       ]
      },
      {
       "output_type": "stream",
       "stream": "stdout",
       "text": [
        " Tue, 13 Jan 2015 10:52:44\n",
        "Local Date:"
       ]
      },
      {
       "output_type": "stream",
       "stream": "stdout",
       "text": [
        " Tue, 13 Jan 2015 10:54:05\n",
        "Local Date:"
       ]
      },
      {
       "output_type": "stream",
       "stream": "stdout",
       "text": [
        " Tue, 13 Jan 2015 11:12:37\n",
        "Local Date:"
       ]
      },
      {
       "output_type": "stream",
       "stream": "stdout",
       "text": [
        " Tue, 13 Jan 2015 13:14:16\n",
        "Local Date:"
       ]
      },
      {
       "output_type": "stream",
       "stream": "stdout",
       "text": [
        " Tue, 13 Jan 2015 15:03:17\n",
        "Local Date:"
       ]
      },
      {
       "output_type": "stream",
       "stream": "stdout",
       "text": [
        " Tue, 13 Jan 2015 23:35:10\n",
        "Local Date:"
       ]
      },
      {
       "output_type": "stream",
       "stream": "stdout",
       "text": [
        " Wed, 14 Jan 2015 06:33:29\n",
        "Local Date:"
       ]
      },
      {
       "output_type": "stream",
       "stream": "stdout",
       "text": [
        " Wed, 14 Jan 2015 06:41:08\n",
        "Local Date:"
       ]
      },
      {
       "output_type": "stream",
       "stream": "stdout",
       "text": [
        " Wed, 14 Jan 2015 07:35:06\n",
        "Local Date:"
       ]
      },
      {
       "output_type": "stream",
       "stream": "stdout",
       "text": [
        " Wed, 14 Jan 2015 08:21:04\n",
        "Local Date:"
       ]
      },
      {
       "output_type": "stream",
       "stream": "stdout",
       "text": [
        " Wed, 14 Jan 2015 08:45:41\n",
        "Local Date:"
       ]
      },
      {
       "output_type": "stream",
       "stream": "stdout",
       "text": [
        " Wed, 14 Jan 2015 10:57:52\n",
        "Local Date:"
       ]
      },
      {
       "output_type": "stream",
       "stream": "stdout",
       "text": [
        " Wed, 14 Jan 2015 11:00:16\n",
        "Local Date:"
       ]
      },
      {
       "output_type": "stream",
       "stream": "stdout",
       "text": [
        " Wed, 14 Jan 2015 11:25:23\n",
        "Local Date:"
       ]
      },
      {
       "output_type": "stream",
       "stream": "stdout",
       "text": [
        " Wed, 14 Jan 2015 11:33:29\n",
        "Local Date:"
       ]
      },
      {
       "output_type": "stream",
       "stream": "stdout",
       "text": [
        " Wed, 14 Jan 2015 14:39:45\n",
        "Local Date:"
       ]
      },
      {
       "output_type": "stream",
       "stream": "stdout",
       "text": [
        " Wed, 14 Jan 2015 15:50:13\n",
        "Local Date:"
       ]
      },
      {
       "output_type": "stream",
       "stream": "stdout",
       "text": [
        " Wed, 14 Jan 2015 16:01:39\n",
        "Local Date:"
       ]
      },
      {
       "output_type": "stream",
       "stream": "stdout",
       "text": [
        " Wed, 14 Jan 2015 16:40:40\n",
        "Local Date:"
       ]
      },
      {
       "output_type": "stream",
       "stream": "stdout",
       "text": [
        " Wed, 14 Jan 2015 16:44:33\n",
        "Local Date:"
       ]
      },
      {
       "output_type": "stream",
       "stream": "stdout",
       "text": [
        " Wed, 14 Jan 2015 16:50:50\n",
        "Local Date:"
       ]
      },
      {
       "output_type": "stream",
       "stream": "stdout",
       "text": [
        " Wed, 14 Jan 2015 17:01:15\n",
        "Local Date:"
       ]
      },
      {
       "output_type": "stream",
       "stream": "stdout",
       "text": [
        " Wed, 14 Jan 2015 17:06:12\n",
        "Local Date:"
       ]
      },
      {
       "output_type": "stream",
       "stream": "stdout",
       "text": [
        " Wed, 14 Jan 2015 17:17:05\n",
        "Local Date:"
       ]
      },
      {
       "output_type": "stream",
       "stream": "stdout",
       "text": [
        " Wed, 14 Jan 2015 17:54:46\n",
        "Local Date:"
       ]
      },
      {
       "output_type": "stream",
       "stream": "stdout",
       "text": [
        " Thu, 15 Jan 2015 08:19:26\n",
        "Local Date:"
       ]
      },
      {
       "output_type": "stream",
       "stream": "stdout",
       "text": [
        " Thu, 15 Jan 2015 08:28:54\n",
        "Local Date:"
       ]
      },
      {
       "output_type": "stream",
       "stream": "stdout",
       "text": [
        " Thu, 15 Jan 2015 08:45:41\n",
        "Local Date:"
       ]
      },
      {
       "output_type": "stream",
       "stream": "stdout",
       "text": [
        " Thu, 15 Jan 2015 08:47:54\n",
        "Local Date:"
       ]
      },
      {
       "output_type": "stream",
       "stream": "stdout",
       "text": [
        " Thu, 15 Jan 2015 08:48:45\n",
        "Local Date:"
       ]
      },
      {
       "output_type": "stream",
       "stream": "stdout",
       "text": [
        " Thu, 15 Jan 2015 09:00:19\n",
        "Local Date:"
       ]
      },
      {
       "output_type": "stream",
       "stream": "stdout",
       "text": [
        " Thu, 15 Jan 2015 09:09:16\n",
        "Local Date:"
       ]
      },
      {
       "output_type": "stream",
       "stream": "stdout",
       "text": [
        " Thu, 15 Jan 2015 10:39:40\n",
        "Local Date:"
       ]
      },
      {
       "output_type": "stream",
       "stream": "stdout",
       "text": [
        " Thu, 15 Jan 2015 10:46:11\n",
        "Local Date:"
       ]
      },
      {
       "output_type": "stream",
       "stream": "stdout",
       "text": [
        " Thu, 15 Jan 2015 11:34:40\n",
        "Local Date:"
       ]
      },
      {
       "output_type": "stream",
       "stream": "stdout",
       "text": [
        " Thu, 15 Jan 2015 12:49:16\n",
        "Local Date:"
       ]
      },
      {
       "output_type": "stream",
       "stream": "stdout",
       "text": [
        " Thu, 15 Jan 2015 14:45:32\n",
        "Local Date:"
       ]
      },
      {
       "output_type": "stream",
       "stream": "stdout",
       "text": [
        " Thu, 15 Jan 2015 15:10:17\n",
        "Local Date:"
       ]
      },
      {
       "output_type": "stream",
       "stream": "stdout",
       "text": [
        " Thu, 15 Jan 2015 16:01:56\n",
        "Local Date:"
       ]
      },
      {
       "output_type": "stream",
       "stream": "stdout",
       "text": [
        " Thu, 15 Jan 2015 16:01:38\n",
        "Local Date:"
       ]
      },
      {
       "output_type": "stream",
       "stream": "stdout",
       "text": [
        " Thu, 15 Jan 2015 16:08:45\n",
        "Local Date:"
       ]
      },
      {
       "output_type": "stream",
       "stream": "stdout",
       "text": [
        " Thu, 15 Jan 2015 16:18:24\n",
        "Local Date:"
       ]
      },
      {
       "output_type": "stream",
       "stream": "stdout",
       "text": [
        " Thu, 15 Jan 2015 17:00:54\n",
        "Local Date:"
       ]
      },
      {
       "output_type": "stream",
       "stream": "stdout",
       "text": [
        " Thu, 15 Jan 2015 20:46:16\n",
        "Local Date:"
       ]
      },
      {
       "output_type": "stream",
       "stream": "stdout",
       "text": [
        " Thu, 15 Jan 2015 22:06:16\n",
        "Local Date:"
       ]
      },
      {
       "output_type": "stream",
       "stream": "stdout",
       "text": [
        " Thu, 15 Jan 2015 22:29:25\n",
        "Local Date:"
       ]
      },
      {
       "output_type": "stream",
       "stream": "stdout",
       "text": [
        " Thu, 15 Jan 2015 22:41:04\n",
        "Local Date:"
       ]
      },
      {
       "output_type": "stream",
       "stream": "stdout",
       "text": [
        " Thu, 15 Jan 2015 22:52:10\n",
        "Local Date:"
       ]
      },
      {
       "output_type": "stream",
       "stream": "stdout",
       "text": [
        " Fri, 16 Jan 2015 07:47:37\n",
        "Local Date:"
       ]
      },
      {
       "output_type": "stream",
       "stream": "stdout",
       "text": [
        " Fri, 16 Jan 2015 07:51:40\n",
        "Local Date:"
       ]
      },
      {
       "output_type": "stream",
       "stream": "stdout",
       "text": [
        " Fri, 16 Jan 2015 09:05:39\n",
        "Local Date:"
       ]
      },
      {
       "output_type": "stream",
       "stream": "stdout",
       "text": [
        " Fri, 16 Jan 2015 09:06:15\n",
        "Local Date:"
       ]
      },
      {
       "output_type": "stream",
       "stream": "stdout",
       "text": [
        " Fri, 16 Jan 2015 10:39:29\n",
        "Local Date:"
       ]
      },
      {
       "output_type": "stream",
       "stream": "stdout",
       "text": [
        " Fri, 16 Jan 2015 13:06:29\n",
        "Local Date:"
       ]
      },
      {
       "output_type": "stream",
       "stream": "stdout",
       "text": [
        " Fri, 16 Jan 2015 13:19:27\n",
        "Local Date:"
       ]
      },
      {
       "output_type": "stream",
       "stream": "stdout",
       "text": [
        " Fri, 16 Jan 2015 13:54:04\n",
        "Local Date:"
       ]
      },
      {
       "output_type": "stream",
       "stream": "stdout",
       "text": [
        " Fri, 16 Jan 2015 14:12:10\n",
        "Local Date:"
       ]
      },
      {
       "output_type": "stream",
       "stream": "stdout",
       "text": [
        " Fri, 16 Jan 2015 14:38:58\n",
        "Local Date:"
       ]
      },
      {
       "output_type": "stream",
       "stream": "stdout",
       "text": [
        " Fri, 16 Jan 2015 14:50:26\n",
        "Local Date:"
       ]
      },
      {
       "output_type": "stream",
       "stream": "stdout",
       "text": [
        " Fri, 16 Jan 2015 14:54:03\n",
        "Local Date:"
       ]
      },
      {
       "output_type": "stream",
       "stream": "stdout",
       "text": [
        " Fri, 16 Jan 2015 15:12:08\n",
        "Local Date:"
       ]
      },
      {
       "output_type": "stream",
       "stream": "stdout",
       "text": [
        " Fri, 16 Jan 2015 15:20:25\n",
        "Local Date:"
       ]
      },
      {
       "output_type": "stream",
       "stream": "stdout",
       "text": [
        " Fri, 16 Jan 2015 16:10:34\n",
        "Local Date:"
       ]
      },
      {
       "output_type": "stream",
       "stream": "stdout",
       "text": [
        " Fri, 16 Jan 2015 16:16:34\n",
        "Local Date:"
       ]
      },
      {
       "output_type": "stream",
       "stream": "stdout",
       "text": [
        " Fri, 16 Jan 2015 16:17:28\n",
        "Local Date:"
       ]
      },
      {
       "output_type": "stream",
       "stream": "stdout",
       "text": [
        " Fri, 16 Jan 2015 16:26:19\n",
        "Local Date:"
       ]
      },
      {
       "output_type": "stream",
       "stream": "stdout",
       "text": [
        " Fri, 16 Jan 2015 17:00:08\n",
        "Local Date:"
       ]
      },
      {
       "output_type": "stream",
       "stream": "stdout",
       "text": [
        " Fri, 16 Jan 2015 17:28:28\n",
        "Local Date:"
       ]
      },
      {
       "output_type": "stream",
       "stream": "stdout",
       "text": [
        " Fri, 16 Jan 2015 18:53:24\n",
        "Local Date:"
       ]
      },
      {
       "output_type": "stream",
       "stream": "stdout",
       "text": [
        " Fri, 16 Jan 2015 18:56:45\n",
        "Local Date:"
       ]
      },
      {
       "output_type": "stream",
       "stream": "stdout",
       "text": [
        " Fri, 16 Jan 2015 19:07:20\n",
        "Local Date:"
       ]
      },
      {
       "output_type": "stream",
       "stream": "stdout",
       "text": [
        " Fri, 16 Jan 2015 19:27:46\n",
        "Local Date:"
       ]
      },
      {
       "output_type": "stream",
       "stream": "stdout",
       "text": [
        " Fri, 16 Jan 2015 20:48:11\n",
        "Local Date:"
       ]
      },
      {
       "output_type": "stream",
       "stream": "stdout",
       "text": [
        " Fri, 16 Jan 2015 21:05:41\n",
        "Local Date:"
       ]
      },
      {
       "output_type": "stream",
       "stream": "stdout",
       "text": [
        " Fri, 16 Jan 2015 21:11:59\n",
        "Local Date:"
       ]
      },
      {
       "output_type": "stream",
       "stream": "stdout",
       "text": [
        " Fri, 16 Jan 2015 21:22:24\n",
        "Local Date:"
       ]
      },
      {
       "output_type": "stream",
       "stream": "stdout",
       "text": [
        " Fri, 16 Jan 2015 21:35:26\n",
        "Local Date:"
       ]
      },
      {
       "output_type": "stream",
       "stream": "stdout",
       "text": [
        " Fri, 16 Jan 2015 21:41:28\n",
        "Local Date:"
       ]
      },
      {
       "output_type": "stream",
       "stream": "stdout",
       "text": [
        " Fri, 16 Jan 2015 21:56:30\n",
        "Local Date:"
       ]
      },
      {
       "output_type": "stream",
       "stream": "stdout",
       "text": [
        " Fri, 16 Jan 2015 21:57:32\n",
        "Local Date:"
       ]
      },
      {
       "output_type": "stream",
       "stream": "stdout",
       "text": [
        " Sat, 17 Jan 2015 09:22:08\n",
        "Local Date:"
       ]
      },
      {
       "output_type": "stream",
       "stream": "stdout",
       "text": [
        " Sat, 17 Jan 2015 09:28:56\n",
        "Local Date:"
       ]
      },
      {
       "output_type": "stream",
       "stream": "stdout",
       "text": [
        " Sat, 17 Jan 2015 13:13:09\n",
        "Local Date:"
       ]
      },
      {
       "output_type": "stream",
       "stream": "stdout",
       "text": [
        " Sat, 17 Jan 2015 21:19:04\n",
        "Local Date:"
       ]
      },
      {
       "output_type": "stream",
       "stream": "stdout",
       "text": [
        " Sat, 17 Jan 2015 22:10:35\n",
        "Local Date:"
       ]
      },
      {
       "output_type": "stream",
       "stream": "stdout",
       "text": [
        " Sun, 18 Jan 2015 15:44:12\n",
        "Local Date:"
       ]
      },
      {
       "output_type": "stream",
       "stream": "stdout",
       "text": [
        " Sun, 18 Jan 2015 16:47:20\n",
        "Local Date:"
       ]
      },
      {
       "output_type": "stream",
       "stream": "stdout",
       "text": [
        " Sun, 18 Jan 2015 17:00:21\n",
        "Local Date:"
       ]
      },
      {
       "output_type": "stream",
       "stream": "stdout",
       "text": [
        " Sun, 18 Jan 2015 17:23:10\n",
        "Local Date:"
       ]
      },
      {
       "output_type": "stream",
       "stream": "stdout",
       "text": [
        " Sun, 18 Jan 2015 17:30:31\n",
        "Local Date:"
       ]
      },
      {
       "output_type": "stream",
       "stream": "stdout",
       "text": [
        " Sun, 18 Jan 2015 18:37:41\n",
        "Local Date:"
       ]
      },
      {
       "output_type": "stream",
       "stream": "stdout",
       "text": [
        " Sun, 18 Jan 2015 18:38:11\n",
        "Local Date:"
       ]
      },
      {
       "output_type": "stream",
       "stream": "stdout",
       "text": [
        " Sun, 18 Jan 2015 18:38:58\n",
        "Local Date:"
       ]
      },
      {
       "output_type": "stream",
       "stream": "stdout",
       "text": [
        " Sun, 18 Jan 2015 22:16:02\n",
        "Local Date:"
       ]
      },
      {
       "output_type": "stream",
       "stream": "stdout",
       "text": [
        " Sun, 18 Jan 2015 23:36:13\n",
        "Local Date:"
       ]
      },
      {
       "output_type": "stream",
       "stream": "stdout",
       "text": [
        " Mon, 19 Jan 2015 00:19:15\n",
        "Local Date:"
       ]
      },
      {
       "output_type": "stream",
       "stream": "stdout",
       "text": [
        " Mon, 19 Jan 2015 09:46:23\n",
        "Local Date:"
       ]
      },
      {
       "output_type": "stream",
       "stream": "stdout",
       "text": [
        " Mon, 19 Jan 2015 02:26:12\n",
        "Local Date:"
       ]
      },
      {
       "output_type": "stream",
       "stream": "stdout",
       "text": [
        " Mon, 19 Jan 2015 08:04:02\n",
        "Local Date:"
       ]
      },
      {
       "output_type": "stream",
       "stream": "stdout",
       "text": [
        " Mon, 19 Jan 2015 08:09:00\n",
        "Local Date:"
       ]
      },
      {
       "output_type": "stream",
       "stream": "stdout",
       "text": [
        " Mon, 19 Jan 2015 09:11:41\n",
        "Local Date:"
       ]
      },
      {
       "output_type": "stream",
       "stream": "stdout",
       "text": [
        " Mon, 19 Jan 2015 09:33:51\n",
        "Local Date:"
       ]
      },
      {
       "output_type": "stream",
       "stream": "stdout",
       "text": [
        " Mon, 19 Jan 2015 10:18:34\n",
        "Local Date:"
       ]
      },
      {
       "output_type": "stream",
       "stream": "stdout",
       "text": [
        " Mon, 19 Jan 2015 11:38:10\n",
        "Local Date:"
       ]
      },
      {
       "output_type": "stream",
       "stream": "stdout",
       "text": [
        " Mon, 19 Jan 2015 12:01:20\n",
        "Local Date:"
       ]
      },
      {
       "output_type": "stream",
       "stream": "stdout",
       "text": [
        " Mon, 19 Jan 2015 12:37:07\n",
        "Local Date:"
       ]
      },
      {
       "output_type": "stream",
       "stream": "stdout",
       "text": [
        " Mon, 19 Jan 2015 13:14:34\n",
        "Local Date:"
       ]
      },
      {
       "output_type": "stream",
       "stream": "stdout",
       "text": [
        " Mon, 19 Jan 2015 13:19:55\n",
        "Local Date:"
       ]
      },
      {
       "output_type": "stream",
       "stream": "stdout",
       "text": [
        " Mon, 19 Jan 2015 13:41:13\n",
        "Local Date:"
       ]
      },
      {
       "output_type": "stream",
       "stream": "stdout",
       "text": [
        " Mon, 19 Jan 2015 15:29:42\n",
        "Local Date:"
       ]
      },
      {
       "output_type": "stream",
       "stream": "stdout",
       "text": [
        " Mon, 19 Jan 2015 15:53:00\n",
        "Local Date:"
       ]
      },
      {
       "output_type": "stream",
       "stream": "stdout",
       "text": [
        " Mon, 19 Jan 2015 16:04:24\n",
        "Local Date:"
       ]
      },
      {
       "output_type": "stream",
       "stream": "stdout",
       "text": [
        " Mon, 19 Jan 2015 21:29:02\n",
        "Local Date:"
       ]
      },
      {
       "output_type": "stream",
       "stream": "stdout",
       "text": [
        " Mon, 19 Jan 2015 22:12:52\n",
        "Local Date:"
       ]
      },
      {
       "output_type": "stream",
       "stream": "stdout",
       "text": [
        " Mon, 19 Jan 2015 23:15:13\n",
        "Local Date:"
       ]
      },
      {
       "output_type": "stream",
       "stream": "stdout",
       "text": [
        " Tue, 20 Jan 2015 06:38:33\n",
        "Local Date:"
       ]
      },
      {
       "output_type": "stream",
       "stream": "stdout",
       "text": [
        " Tue, 20 Jan 2015 06:51:53\n",
        "Local Date:"
       ]
      },
      {
       "output_type": "stream",
       "stream": "stdout",
       "text": [
        " Tue, 20 Jan 2015 07:03:24\n",
        "Local Date:"
       ]
      },
      {
       "output_type": "stream",
       "stream": "stdout",
       "text": [
        " Tue, 20 Jan 2015 07:51:01\n",
        "Local Date:"
       ]
      },
      {
       "output_type": "stream",
       "stream": "stdout",
       "text": [
        " Tue, 20 Jan 2015 08:45:56\n",
        "Local Date:"
       ]
      },
      {
       "output_type": "stream",
       "stream": "stdout",
       "text": [
        " Tue, 20 Jan 2015 09:25:14\n",
        "Local Date:"
       ]
      },
      {
       "output_type": "stream",
       "stream": "stdout",
       "text": [
        " Tue, 20 Jan 2015 09:52:14\n",
        "Local Date:"
       ]
      },
      {
       "output_type": "stream",
       "stream": "stdout",
       "text": [
        " Tue, 20 Jan 2015 10:15:59\n",
        "Local Date:"
       ]
      },
      {
       "output_type": "stream",
       "stream": "stdout",
       "text": [
        " Tue, 20 Jan 2015 10:18:17\n",
        "Local Date:"
       ]
      },
      {
       "output_type": "stream",
       "stream": "stdout",
       "text": [
        " Tue, 20 Jan 2015 10:20:30\n",
        "Local Date:"
       ]
      },
      {
       "output_type": "stream",
       "stream": "stdout",
       "text": [
        " Tue, 20 Jan 2015 10:21:51\n",
        "Local Date:"
       ]
      },
      {
       "output_type": "stream",
       "stream": "stdout",
       "text": [
        " Tue, 20 Jan 2015 10:23:51\n",
        "Local Date:"
       ]
      },
      {
       "output_type": "stream",
       "stream": "stdout",
       "text": [
        " Tue, 20 Jan 2015 10:52:41\n",
        "Local Date:"
       ]
      },
      {
       "output_type": "stream",
       "stream": "stdout",
       "text": [
        " Tue, 20 Jan 2015 11:18:59\n",
        "Local Date:"
       ]
      },
      {
       "output_type": "stream",
       "stream": "stdout",
       "text": [
        " Tue, 20 Jan 2015 11:30:45\n",
        "Local Date:"
       ]
      },
      {
       "output_type": "stream",
       "stream": "stdout",
       "text": [
        " Tue, 20 Jan 2015 11:58:47\n",
        "Local Date:"
       ]
      },
      {
       "output_type": "stream",
       "stream": "stdout",
       "text": [
        " Tue, 20 Jan 2015 12:01:36\n",
        "Local Date:"
       ]
      },
      {
       "output_type": "stream",
       "stream": "stdout",
       "text": [
        " Tue, 20 Jan 2015 12:04:44\n",
        "Local Date:"
       ]
      },
      {
       "output_type": "stream",
       "stream": "stdout",
       "text": [
        " Tue, 20 Jan 2015 12:10:24\n",
        "Local Date:"
       ]
      },
      {
       "output_type": "stream",
       "stream": "stdout",
       "text": [
        " Tue, 20 Jan 2015 12:18:50\n",
        "Local Date:"
       ]
      },
      {
       "output_type": "stream",
       "stream": "stdout",
       "text": [
        " Tue, 20 Jan 2015 12:37:06\n",
        "Local Date:"
       ]
      },
      {
       "output_type": "stream",
       "stream": "stdout",
       "text": [
        " Tue, 20 Jan 2015 12:40:00\n",
        "Local Date:"
       ]
      },
      {
       "output_type": "stream",
       "stream": "stdout",
       "text": [
        " Tue, 20 Jan 2015 13:09:08\n",
        "Local Date:"
       ]
      },
      {
       "output_type": "stream",
       "stream": "stdout",
       "text": [
        " Tue, 20 Jan 2015 13:44:17\n",
        "Local Date:"
       ]
      },
      {
       "output_type": "stream",
       "stream": "stdout",
       "text": [
        " Tue, 20 Jan 2015 13:45:54\n",
        "Local Date:"
       ]
      },
      {
       "output_type": "stream",
       "stream": "stdout",
       "text": [
        " Tue, 20 Jan 2015 16:39:04\n",
        "Local Date:"
       ]
      },
      {
       "output_type": "stream",
       "stream": "stdout",
       "text": [
        " Tue, 20 Jan 2015 16:50:33\n",
        "Local Date:"
       ]
      },
      {
       "output_type": "stream",
       "stream": "stdout",
       "text": [
        " Wed, 21 Jan 2015 00:23:22\n",
        "Local Date:"
       ]
      },
      {
       "output_type": "stream",
       "stream": "stdout",
       "text": [
        " Wed, 21 Jan 2015 07:32:16\n",
        "Local Date:"
       ]
      },
      {
       "output_type": "stream",
       "stream": "stdout",
       "text": [
        " Wed, 21 Jan 2015 08:02:49\n",
        "Local Date:"
       ]
      },
      {
       "output_type": "stream",
       "stream": "stdout",
       "text": [
        " Wed, 21 Jan 2015 08:12:00\n",
        "Local Date:"
       ]
      },
      {
       "output_type": "stream",
       "stream": "stdout",
       "text": [
        " Wed, 21 Jan 2015 10:16:51\n",
        "Local Date:"
       ]
      },
      {
       "output_type": "stream",
       "stream": "stdout",
       "text": [
        " Wed, 21 Jan 2015 10:27:31\n",
        "Local Date:"
       ]
      },
      {
       "output_type": "stream",
       "stream": "stdout",
       "text": [
        " Wed, 21 Jan 2015 10:36:04\n",
        "Local Date:"
       ]
      },
      {
       "output_type": "stream",
       "stream": "stdout",
       "text": [
        " Wed, 21 Jan 2015 16:04:19\n",
        "Local Date:"
       ]
      },
      {
       "output_type": "stream",
       "stream": "stdout",
       "text": [
        " Wed, 21 Jan 2015 16:05:59\n",
        "Local Date:"
       ]
      },
      {
       "output_type": "stream",
       "stream": "stdout",
       "text": [
        " Wed, 21 Jan 2015 17:12:33\n",
        "Local Date:"
       ]
      },
      {
       "output_type": "stream",
       "stream": "stdout",
       "text": [
        " Wed, 21 Jan 2015 17:16:25\n",
        "Local Date:"
       ]
      },
      {
       "output_type": "stream",
       "stream": "stdout",
       "text": [
        " Wed, 21 Jan 2015 17:35:04\n",
        "Local Date:"
       ]
      },
      {
       "output_type": "stream",
       "stream": "stdout",
       "text": [
        " Wed, 21 Jan 2015 18:30:22\n",
        "Local Date:"
       ]
      },
      {
       "output_type": "stream",
       "stream": "stdout",
       "text": [
        " Wed, 21 Jan 2015 18:33:02\n",
        "Local Date:"
       ]
      },
      {
       "output_type": "stream",
       "stream": "stdout",
       "text": [
        " Wed, 21 Jan 2015 18:41:02\n",
        "Local Date:"
       ]
      },
      {
       "output_type": "stream",
       "stream": "stdout",
       "text": [
        " Wed, 21 Jan 2015 23:52:45\n",
        "Local Date:"
       ]
      },
      {
       "output_type": "stream",
       "stream": "stdout",
       "text": [
        " Thu, 22 Jan 2015 10:01:03\n",
        "Local Date:"
       ]
      },
      {
       "output_type": "stream",
       "stream": "stdout",
       "text": [
        " Thu, 22 Jan 2015 13:23:31\n",
        "Local Date:"
       ]
      },
      {
       "output_type": "stream",
       "stream": "stdout",
       "text": [
        " Thu, 22 Jan 2015 15:48:11\n",
        "Local Date:"
       ]
      },
      {
       "output_type": "stream",
       "stream": "stdout",
       "text": [
        " Thu, 22 Jan 2015 16:02:05\n",
        "Local Date:"
       ]
      },
      {
       "output_type": "stream",
       "stream": "stdout",
       "text": [
        " Thu, 22 Jan 2015 16:54:04\n",
        "Local Date:"
       ]
      },
      {
       "output_type": "stream",
       "stream": "stdout",
       "text": [
        " Thu, 22 Jan 2015 17:47:02\n",
        "Local Date:"
       ]
      },
      {
       "output_type": "stream",
       "stream": "stdout",
       "text": [
        " Thu, 22 Jan 2015 18:23:49\n",
        "Local Date:"
       ]
      },
      {
       "output_type": "stream",
       "stream": "stdout",
       "text": [
        " Thu, 22 Jan 2015 19:23:37\n",
        "Local Date:"
       ]
      },
      {
       "output_type": "stream",
       "stream": "stdout",
       "text": [
        " Thu, 22 Jan 2015 21:22:29\n",
        "Local Date:"
       ]
      },
      {
       "output_type": "stream",
       "stream": "stdout",
       "text": [
        " Fri, 23 Jan 2015 08:55:12\n",
        "Local Date:"
       ]
      },
      {
       "output_type": "stream",
       "stream": "stdout",
       "text": [
        " Fri, 23 Jan 2015 09:31:27\n",
        "Local Date:"
       ]
      },
      {
       "output_type": "stream",
       "stream": "stdout",
       "text": [
        " Fri, 23 Jan 2015 11:13:08\n",
        "Local Date:"
       ]
      },
      {
       "output_type": "stream",
       "stream": "stdout",
       "text": [
        " Fri, 23 Jan 2015 11:14:40\n",
        "Local Date:"
       ]
      },
      {
       "output_type": "stream",
       "stream": "stdout",
       "text": [
        " Fri, 23 Jan 2015 14:36:38\n",
        "Local Date:"
       ]
      },
      {
       "output_type": "stream",
       "stream": "stdout",
       "text": [
        " Fri, 23 Jan 2015 15:08:40\n",
        "Local Date:"
       ]
      },
      {
       "output_type": "stream",
       "stream": "stdout",
       "text": [
        " Fri, 23 Jan 2015 22:00:19\n",
        "Local Date:"
       ]
      },
      {
       "output_type": "stream",
       "stream": "stdout",
       "text": [
        " Fri, 23 Jan 2015 23:03:42\n",
        "Local Date:"
       ]
      },
      {
       "output_type": "stream",
       "stream": "stdout",
       "text": [
        " Sat, 24 Jan 2015 21:55:49\n",
        "Local Date:"
       ]
      },
      {
       "output_type": "stream",
       "stream": "stdout",
       "text": [
        " Sun, 25 Jan 2015 20:40:29\n",
        "Local Date:"
       ]
      },
      {
       "output_type": "stream",
       "stream": "stdout",
       "text": [
        " Sun, 25 Jan 2015 22:36:09\n",
        "Local Date:"
       ]
      },
      {
       "output_type": "stream",
       "stream": "stdout",
       "text": [
        " Sun, 25 Jan 2015 22:51:28\n",
        "Local Date:"
       ]
      },
      {
       "output_type": "stream",
       "stream": "stdout",
       "text": [
        " Sun, 25 Jan 2015 22:58:03\n",
        "Local Date:"
       ]
      },
      {
       "output_type": "stream",
       "stream": "stdout",
       "text": [
        " Sun, 25 Jan 2015 22:59:22\n",
        "Local Date:"
       ]
      },
      {
       "output_type": "stream",
       "stream": "stdout",
       "text": [
        " Sun, 25 Jan 2015 22:59:23\n",
        "Local Date:"
       ]
      },
      {
       "output_type": "stream",
       "stream": "stdout",
       "text": [
        " Sun, 25 Jan 2015 23:23:01\n",
        "Local Date:"
       ]
      },
      {
       "output_type": "stream",
       "stream": "stdout",
       "text": [
        " Sun, 25 Jan 2015 23:26:53\n",
        "Local Date:"
       ]
      },
      {
       "output_type": "stream",
       "stream": "stdout",
       "text": [
        " Sun, 25 Jan 2015 23:44:58\n",
        "Local Date:"
       ]
      },
      {
       "output_type": "stream",
       "stream": "stdout",
       "text": [
        " Mon, 26 Jan 2015 07:59:13\n",
        "Local Date:"
       ]
      },
      {
       "output_type": "stream",
       "stream": "stdout",
       "text": [
        " Mon, 26 Jan 2015 08:26:06\n",
        "Local Date:"
       ]
      },
      {
       "output_type": "stream",
       "stream": "stdout",
       "text": [
        " Mon, 26 Jan 2015 08:39:00\n",
        "Local Date:"
       ]
      },
      {
       "output_type": "stream",
       "stream": "stdout",
       "text": [
        " Mon, 26 Jan 2015 08:39:36\n",
        "Local Date:"
       ]
      },
      {
       "output_type": "stream",
       "stream": "stdout",
       "text": [
        " Mon, 26 Jan 2015 08:39:48\n",
        "Local Date:"
       ]
      },
      {
       "output_type": "stream",
       "stream": "stdout",
       "text": [
        " Mon, 26 Jan 2015 08:42:15\n",
        "Local Date:"
       ]
      },
      {
       "output_type": "stream",
       "stream": "stdout",
       "text": [
        " Mon, 26 Jan 2015 09:07:51\n",
        "Local Date:"
       ]
      },
      {
       "output_type": "stream",
       "stream": "stdout",
       "text": [
        " Mon, 26 Jan 2015 09:22:07\n",
        "Local Date:"
       ]
      },
      {
       "output_type": "stream",
       "stream": "stdout",
       "text": [
        " Mon, 26 Jan 2015 09:33:31\n",
        "Local Date:"
       ]
      },
      {
       "output_type": "stream",
       "stream": "stdout",
       "text": [
        " Mon, 26 Jan 2015 09:58:03\n",
        "Local Date:"
       ]
      },
      {
       "output_type": "stream",
       "stream": "stdout",
       "text": [
        " Mon, 26 Jan 2015 10:10:36\n",
        "Local Date:"
       ]
      },
      {
       "output_type": "stream",
       "stream": "stdout",
       "text": [
        " Mon, 26 Jan 2015 10:14:05\n",
        "Local Date:"
       ]
      },
      {
       "output_type": "stream",
       "stream": "stdout",
       "text": [
        " Mon, 26 Jan 2015 10:27:40\n",
        "Local Date:"
       ]
      },
      {
       "output_type": "stream",
       "stream": "stdout",
       "text": [
        " Mon, 26 Jan 2015 10:30:24\n",
        "Local Date:"
       ]
      },
      {
       "output_type": "stream",
       "stream": "stdout",
       "text": [
        " Mon, 26 Jan 2015 10:30:39\n",
        "Local Date:"
       ]
      },
      {
       "output_type": "stream",
       "stream": "stdout",
       "text": [
        " Mon, 26 Jan 2015 10:35:06\n",
        "Local Date:"
       ]
      },
      {
       "output_type": "stream",
       "stream": "stdout",
       "text": [
        " Mon, 26 Jan 2015 10:37:23\n",
        "Local Date:"
       ]
      },
      {
       "output_type": "stream",
       "stream": "stdout",
       "text": [
        " Mon, 26 Jan 2015 10:39:14\n",
        "Local Date:"
       ]
      },
      {
       "output_type": "stream",
       "stream": "stdout",
       "text": [
        " Mon, 26 Jan 2015 10:44:41\n",
        "Local Date:"
       ]
      },
      {
       "output_type": "stream",
       "stream": "stdout",
       "text": [
        " Mon, 26 Jan 2015 10:45:24\n",
        "Local Date:"
       ]
      },
      {
       "output_type": "stream",
       "stream": "stdout",
       "text": [
        " Mon, 26 Jan 2015 11:12:53\n",
        "Local Date:"
       ]
      },
      {
       "output_type": "stream",
       "stream": "stdout",
       "text": [
        " Mon, 26 Jan 2015 11:14:33\n",
        "Local Date:"
       ]
      },
      {
       "output_type": "stream",
       "stream": "stdout",
       "text": [
        " Mon, 26 Jan 2015 11:17:21\n",
        "Local Date:"
       ]
      },
      {
       "output_type": "stream",
       "stream": "stdout",
       "text": [
        " Mon, 26 Jan 2015 11:43:15\n",
        "Local Date:"
       ]
      },
      {
       "output_type": "stream",
       "stream": "stdout",
       "text": [
        " Mon, 26 Jan 2015 13:58:25\n",
        "Local Date:"
       ]
      },
      {
       "output_type": "stream",
       "stream": "stdout",
       "text": [
        " Mon, 26 Jan 2015 14:35:17\n",
        "Local Date:"
       ]
      },
      {
       "output_type": "stream",
       "stream": "stdout",
       "text": [
        " Mon, 26 Jan 2015 14:57:54\n",
        "Local Date:"
       ]
      },
      {
       "output_type": "stream",
       "stream": "stdout",
       "text": [
        " Mon, 26 Jan 2015 22:12:59\n",
        "Local Date:"
       ]
      },
      {
       "output_type": "stream",
       "stream": "stdout",
       "text": [
        " Mon, 26 Jan 2015 22:46:47\n",
        "Local Date:"
       ]
      },
      {
       "output_type": "stream",
       "stream": "stdout",
       "text": [
        " Mon, 26 Jan 2015 22:46:47\n",
        "Local Date:"
       ]
      },
      {
       "output_type": "stream",
       "stream": "stdout",
       "text": [
        " Mon, 26 Jan 2015 23:02:36\n",
        "Local Date:"
       ]
      },
      {
       "output_type": "stream",
       "stream": "stdout",
       "text": [
        " Tue, 27 Jan 2015 07:20:20\n",
        "Local Date:"
       ]
      },
      {
       "output_type": "stream",
       "stream": "stdout",
       "text": [
        " Tue, 27 Jan 2015 08:28:23\n",
        "Local Date:"
       ]
      },
      {
       "output_type": "stream",
       "stream": "stdout",
       "text": [
        " Tue, 27 Jan 2015 08:29:34\n",
        "Local Date:"
       ]
      },
      {
       "output_type": "stream",
       "stream": "stdout",
       "text": [
        " Tue, 27 Jan 2015 08:31:30\n",
        "Local Date:"
       ]
      },
      {
       "output_type": "stream",
       "stream": "stdout",
       "text": [
        " Tue, 27 Jan 2015 08:34:48\n",
        "Local Date:"
       ]
      },
      {
       "output_type": "stream",
       "stream": "stdout",
       "text": [
        " Tue, 27 Jan 2015 08:54:58\n",
        "Local Date:"
       ]
      },
      {
       "output_type": "stream",
       "stream": "stdout",
       "text": [
        " Tue, 27 Jan 2015 09:09:51\n",
        "Local Date:"
       ]
      },
      {
       "output_type": "stream",
       "stream": "stdout",
       "text": [
        " Tue, 27 Jan 2015 09:10:26\n",
        "Local Date:"
       ]
      },
      {
       "output_type": "stream",
       "stream": "stdout",
       "text": [
        " Tue, 27 Jan 2015 10:24:31\n",
        "Local Date:"
       ]
      },
      {
       "output_type": "stream",
       "stream": "stdout",
       "text": [
        " Tue, 27 Jan 2015 10:40:33\n",
        "Local Date:"
       ]
      },
      {
       "output_type": "stream",
       "stream": "stdout",
       "text": [
        " Tue, 27 Jan 2015 15:01:00\n",
        "Local Date:"
       ]
      },
      {
       "output_type": "stream",
       "stream": "stdout",
       "text": [
        " Tue, 27 Jan 2015 15:36:22\n",
        "Local Date:"
       ]
      },
      {
       "output_type": "stream",
       "stream": "stdout",
       "text": [
        " Tue, 27 Jan 2015 19:38:36\n",
        "Local Date:"
       ]
      },
      {
       "output_type": "stream",
       "stream": "stdout",
       "text": [
        " Tue, 27 Jan 2015 21:14:33\n",
        "Local Date:"
       ]
      },
      {
       "output_type": "stream",
       "stream": "stdout",
       "text": [
        " Tue, 27 Jan 2015 22:23:58\n",
        "Local Date:"
       ]
      },
      {
       "output_type": "stream",
       "stream": "stdout",
       "text": [
        " Wed, 28 Jan 2015 08:18:52\n",
        "Local Date:"
       ]
      },
      {
       "output_type": "stream",
       "stream": "stdout",
       "text": [
        " Wed, 28 Jan 2015 09:09:19\n",
        "Local Date:"
       ]
      },
      {
       "output_type": "stream",
       "stream": "stdout",
       "text": [
        " Wed, 28 Jan 2015 09:17:59\n",
        "Local Date:"
       ]
      },
      {
       "output_type": "stream",
       "stream": "stdout",
       "text": [
        " Wed, 28 Jan 2015 10:06:36\n",
        "Local Date:"
       ]
      },
      {
       "output_type": "stream",
       "stream": "stdout",
       "text": [
        " Wed, 28 Jan 2015 11:08:26\n",
        "Local Date:"
       ]
      },
      {
       "output_type": "stream",
       "stream": "stdout",
       "text": [
        " Wed, 28 Jan 2015 12:17:06\n",
        "Local Date:"
       ]
      },
      {
       "output_type": "stream",
       "stream": "stdout",
       "text": [
        " Wed, 28 Jan 2015 12:19:14\n",
        "Local Date:"
       ]
      },
      {
       "output_type": "stream",
       "stream": "stdout",
       "text": [
        " Wed, 28 Jan 2015 13:13:49\n",
        "Local Date:"
       ]
      },
      {
       "output_type": "stream",
       "stream": "stdout",
       "text": [
        " Wed, 28 Jan 2015 16:03:07\n",
        "Local Date:"
       ]
      },
      {
       "output_type": "stream",
       "stream": "stdout",
       "text": [
        " Wed, 28 Jan 2015 16:09:51\n",
        "Local Date:"
       ]
      },
      {
       "output_type": "stream",
       "stream": "stdout",
       "text": [
        " Wed, 28 Jan 2015 16:15:51\n",
        "Local Date:"
       ]
      },
      {
       "output_type": "stream",
       "stream": "stdout",
       "text": [
        " Wed, 28 Jan 2015 19:38:37\n",
        "Local Date:"
       ]
      },
      {
       "output_type": "stream",
       "stream": "stdout",
       "text": [
        " Wed, 28 Jan 2015 20:16:03\n",
        "Local Date:"
       ]
      },
      {
       "output_type": "stream",
       "stream": "stdout",
       "text": [
        " Wed, 28 Jan 2015 23:59:26\n",
        "Local Date:"
       ]
      },
      {
       "output_type": "stream",
       "stream": "stdout",
       "text": [
        " Thu, 29 Jan 2015 08:23:53\n",
        "Local Date:"
       ]
      },
      {
       "output_type": "stream",
       "stream": "stdout",
       "text": [
        " Thu, 29 Jan 2015 08:26:03\n",
        "Local Date:"
       ]
      },
      {
       "output_type": "stream",
       "stream": "stdout",
       "text": [
        " Thu, 29 Jan 2015 08:28:55\n",
        "Local Date:"
       ]
      },
      {
       "output_type": "stream",
       "stream": "stdout",
       "text": [
        " Thu, 29 Jan 2015 08:29:14\n",
        "Local Date:"
       ]
      },
      {
       "output_type": "stream",
       "stream": "stdout",
       "text": [
        " Thu, 29 Jan 2015 08:41:04\n",
        "Local Date:"
       ]
      },
      {
       "output_type": "stream",
       "stream": "stdout",
       "text": [
        " Thu, 29 Jan 2015 08:56:21\n",
        "Local Date:"
       ]
      },
      {
       "output_type": "stream",
       "stream": "stdout",
       "text": [
        " Thu, 29 Jan 2015 08:59:05\n",
        "Local Date:"
       ]
      },
      {
       "output_type": "stream",
       "stream": "stdout",
       "text": [
        " Thu, 29 Jan 2015 09:00:57\n",
        "Local Date:"
       ]
      },
      {
       "output_type": "stream",
       "stream": "stdout",
       "text": [
        " Thu, 29 Jan 2015 09:07:23\n",
        "Local Date:"
       ]
      },
      {
       "output_type": "stream",
       "stream": "stdout",
       "text": [
        " Thu, 29 Jan 2015 09:33:36\n",
        "Local Date:"
       ]
      },
      {
       "output_type": "stream",
       "stream": "stdout",
       "text": [
        " Thu, 29 Jan 2015 10:08:03\n",
        "Local Date:"
       ]
      },
      {
       "output_type": "stream",
       "stream": "stdout",
       "text": [
        " Thu, 29 Jan 2015 13:06:52\n",
        "Local Date:"
       ]
      },
      {
       "output_type": "stream",
       "stream": "stdout",
       "text": [
        " Thu, 29 Jan 2015 16:59:48\n",
        "Local Date:"
       ]
      },
      {
       "output_type": "stream",
       "stream": "stdout",
       "text": [
        " Thu, 29 Jan 2015 20:58:29\n",
        "Local Date:"
       ]
      },
      {
       "output_type": "stream",
       "stream": "stdout",
       "text": [
        " Thu, 29 Jan 2015 21:42:43\n",
        "Local Date:"
       ]
      },
      {
       "output_type": "stream",
       "stream": "stdout",
       "text": [
        " Thu, 29 Jan 2015 22:24:27\n",
        "Local Date:"
       ]
      },
      {
       "output_type": "stream",
       "stream": "stdout",
       "text": [
        " Thu, 29 Jan 2015 22:54:54\n",
        "Local Date:"
       ]
      },
      {
       "output_type": "stream",
       "stream": "stdout",
       "text": [
        " Fri, 30 Jan 2015 08:12:34\n",
        "Local Date:"
       ]
      },
      {
       "output_type": "stream",
       "stream": "stdout",
       "text": [
        " Fri, 30 Jan 2015 08:37:45\n",
        "Local Date:"
       ]
      },
      {
       "output_type": "stream",
       "stream": "stdout",
       "text": [
        " Fri, 30 Jan 2015 09:18:41\n",
        "Local Date:"
       ]
      },
      {
       "output_type": "stream",
       "stream": "stdout",
       "text": [
        " Fri, 30 Jan 2015 09:31:01\n",
        "Local Date:"
       ]
      },
      {
       "output_type": "stream",
       "stream": "stdout",
       "text": [
        " Fri, 30 Jan 2015 09:55:15\n",
        "Local Date:"
       ]
      },
      {
       "output_type": "stream",
       "stream": "stdout",
       "text": [
        " Fri, 30 Jan 2015 10:04:18\n",
        "Local Date:"
       ]
      },
      {
       "output_type": "stream",
       "stream": "stdout",
       "text": [
        " Fri, 30 Jan 2015 10:16:56\n",
        "Local Date:"
       ]
      },
      {
       "output_type": "stream",
       "stream": "stdout",
       "text": [
        " Fri, 30 Jan 2015 10:19:45\n",
        "Local Date:"
       ]
      },
      {
       "output_type": "stream",
       "stream": "stdout",
       "text": [
        " Fri, 30 Jan 2015 13:05:10\n",
        "Local Date:"
       ]
      },
      {
       "output_type": "stream",
       "stream": "stdout",
       "text": [
        " Fri, 30 Jan 2015 14:13:20\n",
        "Local Date:"
       ]
      },
      {
       "output_type": "stream",
       "stream": "stdout",
       "text": [
        " Fri, 30 Jan 2015 23:28:49\n",
        "Local Date:"
       ]
      },
      {
       "output_type": "stream",
       "stream": "stdout",
       "text": [
        " Sat, 31 Jan 2015 00:24:43\n",
        "Local Date:"
       ]
      },
      {
       "output_type": "stream",
       "stream": "stdout",
       "text": [
        " Sat, 31 Jan 2015 10:20:16\n",
        "Local Date:"
       ]
      },
      {
       "output_type": "stream",
       "stream": "stdout",
       "text": [
        " Sat, 31 Jan 2015 15:15:29\n",
        "Local Date:"
       ]
      },
      {
       "output_type": "stream",
       "stream": "stdout",
       "text": [
        " Sat, 31 Jan 2015 15:15:32\n",
        "Local Date:"
       ]
      },
      {
       "output_type": "stream",
       "stream": "stdout",
       "text": [
        " Sat, 31 Jan 2015 15:17:39\n",
        "Local Date:"
       ]
      },
      {
       "output_type": "stream",
       "stream": "stdout",
       "text": [
        " Sat, 31 Jan 2015 15:17:40\n",
        "Local Date:"
       ]
      },
      {
       "output_type": "stream",
       "stream": "stdout",
       "text": [
        " Sat, 31 Jan 2015 15:20:48\n",
        "Local Date:"
       ]
      },
      {
       "output_type": "stream",
       "stream": "stdout",
       "text": [
        " Sat, 31 Jan 2015 16:59:59\n",
        "Local Date:"
       ]
      },
      {
       "output_type": "stream",
       "stream": "stdout",
       "text": [
        " Sat, 31 Jan 2015 20:49:35\n",
        "Local Date:"
       ]
      },
      {
       "output_type": "stream",
       "stream": "stdout",
       "text": [
        " Sun, 01 Feb 2015 12:32:30\n",
        "Local Date:"
       ]
      },
      {
       "output_type": "stream",
       "stream": "stdout",
       "text": [
        " Mon, 02 Feb 2015 08:38:47\n",
        "Local Date:"
       ]
      },
      {
       "output_type": "stream",
       "stream": "stdout",
       "text": [
        " Mon, 02 Feb 2015 08:42:08\n",
        "Local Date:"
       ]
      },
      {
       "output_type": "stream",
       "stream": "stdout",
       "text": [
        " Mon, 02 Feb 2015 08:45:47\n",
        "Local Date:"
       ]
      },
      {
       "output_type": "stream",
       "stream": "stdout",
       "text": [
        " Mon, 02 Feb 2015 09:47:09\n",
        "Local Date:"
       ]
      },
      {
       "output_type": "stream",
       "stream": "stdout",
       "text": [
        " Mon, 02 Feb 2015 09:58:03\n",
        "Local Date:"
       ]
      },
      {
       "output_type": "stream",
       "stream": "stdout",
       "text": [
        " Mon, 02 Feb 2015 09:58:34\n",
        "Local Date:"
       ]
      },
      {
       "output_type": "stream",
       "stream": "stdout",
       "text": [
        " Mon, 02 Feb 2015 09:59:54\n",
        "Local Date:"
       ]
      },
      {
       "output_type": "stream",
       "stream": "stdout",
       "text": [
        " Mon, 02 Feb 2015 10:03:35\n",
        "Local Date:"
       ]
      },
      {
       "output_type": "stream",
       "stream": "stdout",
       "text": [
        " Mon, 02 Feb 2015 11:22:07\n",
        "Local Date:"
       ]
      },
      {
       "output_type": "stream",
       "stream": "stdout",
       "text": [
        " Mon, 02 Feb 2015 12:55:21\n",
        "Local Date:"
       ]
      },
      {
       "output_type": "stream",
       "stream": "stdout",
       "text": [
        " Mon, 02 Feb 2015 13:06:44\n",
        "Local Date:"
       ]
      },
      {
       "output_type": "stream",
       "stream": "stdout",
       "text": [
        " Mon, 02 Feb 2015 13:07:10\n",
        "Local Date:"
       ]
      },
      {
       "output_type": "stream",
       "stream": "stdout",
       "text": [
        " Mon, 02 Feb 2015 13:10:21\n",
        "Local Date:"
       ]
      },
      {
       "output_type": "stream",
       "stream": "stdout",
       "text": [
        " Mon, 02 Feb 2015 13:33:52\n",
        "Local Date:"
       ]
      },
      {
       "output_type": "stream",
       "stream": "stdout",
       "text": [
        " Mon, 02 Feb 2015 14:10:53\n",
        "Local Date:"
       ]
      },
      {
       "output_type": "stream",
       "stream": "stdout",
       "text": [
        " Mon, 02 Feb 2015 14:18:47\n",
        "Local Date:"
       ]
      },
      {
       "output_type": "stream",
       "stream": "stdout",
       "text": [
        " Mon, 02 Feb 2015 14:40:51\n",
        "Local Date:"
       ]
      },
      {
       "output_type": "stream",
       "stream": "stdout",
       "text": [
        " Mon, 02 Feb 2015 15:06:55\n",
        "Local Date:"
       ]
      },
      {
       "output_type": "stream",
       "stream": "stdout",
       "text": [
        " Mon, 02 Feb 2015 16:28:22\n",
        "Local Date:"
       ]
      },
      {
       "output_type": "stream",
       "stream": "stdout",
       "text": [
        " Tue, 03 Feb 2015 09:07:39\n",
        "Local Date:"
       ]
      },
      {
       "output_type": "stream",
       "stream": "stdout",
       "text": [
        " Tue, 03 Feb 2015 14:26:03\n",
        "Local Date:"
       ]
      },
      {
       "output_type": "stream",
       "stream": "stdout",
       "text": [
        " Tue, 03 Feb 2015 14:32:49\n",
        "Local Date:"
       ]
      },
      {
       "output_type": "stream",
       "stream": "stdout",
       "text": [
        " Tue, 03 Feb 2015 14:48:10\n",
        "Local Date:"
       ]
      },
      {
       "output_type": "stream",
       "stream": "stdout",
       "text": [
        " Tue, 03 Feb 2015 16:47:14\n",
        "Local Date:"
       ]
      },
      {
       "output_type": "stream",
       "stream": "stdout",
       "text": [
        " Tue, 03 Feb 2015 16:56:41\n",
        "Local Date:"
       ]
      },
      {
       "output_type": "stream",
       "stream": "stdout",
       "text": [
        " Tue, 03 Feb 2015 17:53:09\n",
        "Local Date:"
       ]
      },
      {
       "output_type": "stream",
       "stream": "stdout",
       "text": [
        " Tue, 03 Feb 2015 20:06:07\n",
        "Local Date:"
       ]
      },
      {
       "output_type": "stream",
       "stream": "stdout",
       "text": [
        " Wed, 04 Feb 2015 10:06:31\n",
        "Local Date:"
       ]
      },
      {
       "output_type": "stream",
       "stream": "stdout",
       "text": [
        " Wed, 04 Feb 2015 10:21:08\n",
        "Local Date:"
       ]
      },
      {
       "output_type": "stream",
       "stream": "stdout",
       "text": [
        " Wed, 04 Feb 2015 12:19:14\n",
        "Local Date:"
       ]
      },
      {
       "output_type": "stream",
       "stream": "stdout",
       "text": [
        " Wed, 04 Feb 2015 16:21:29\n",
        "Local Date:"
       ]
      },
      {
       "output_type": "stream",
       "stream": "stdout",
       "text": [
        " Wed, 04 Feb 2015 16:26:34\n",
        "Local Date:"
       ]
      },
      {
       "output_type": "stream",
       "stream": "stdout",
       "text": [
        " Wed, 04 Feb 2015 16:41:29\n",
        "Local Date:"
       ]
      },
      {
       "output_type": "stream",
       "stream": "stdout",
       "text": [
        " Wed, 04 Feb 2015 16:43:54\n",
        "Local Date:"
       ]
      },
      {
       "output_type": "stream",
       "stream": "stdout",
       "text": [
        " Wed, 04 Feb 2015 17:29:12\n",
        "Local Date:"
       ]
      },
      {
       "output_type": "stream",
       "stream": "stdout",
       "text": [
        " Wed, 04 Feb 2015 17:37:15\n",
        "Local Date:"
       ]
      },
      {
       "output_type": "stream",
       "stream": "stdout",
       "text": [
        " Wed, 04 Feb 2015 19:05:41\n",
        "Local Date:"
       ]
      },
      {
       "output_type": "stream",
       "stream": "stdout",
       "text": [
        " Wed, 04 Feb 2015 19:22:35\n",
        "Local Date:"
       ]
      },
      {
       "output_type": "stream",
       "stream": "stdout",
       "text": [
        " Wed, 04 Feb 2015 20:52:39\n",
        "Local Date:"
       ]
      },
      {
       "output_type": "stream",
       "stream": "stdout",
       "text": [
        " Wed, 04 Feb 2015 21:13:27\n",
        "Local Date:"
       ]
      },
      {
       "output_type": "stream",
       "stream": "stdout",
       "text": [
        " Wed, 04 Feb 2015 22:18:38\n",
        "Local Date:"
       ]
      },
      {
       "output_type": "stream",
       "stream": "stdout",
       "text": [
        " Thu, 05 Feb 2015 08:15:43\n",
        "Local Date:"
       ]
      },
      {
       "output_type": "stream",
       "stream": "stdout",
       "text": [
        " Thu, 05 Feb 2015 08:20:32\n",
        "Local Date:"
       ]
      },
      {
       "output_type": "stream",
       "stream": "stdout",
       "text": [
        " Thu, 05 Feb 2015 09:15:12\n",
        "Local Date:"
       ]
      },
      {
       "output_type": "stream",
       "stream": "stdout",
       "text": [
        " Thu, 05 Feb 2015 09:43:49\n",
        "Local Date:"
       ]
      },
      {
       "output_type": "stream",
       "stream": "stdout",
       "text": [
        " Thu, 05 Feb 2015 11:48:38\n",
        "Local Date:"
       ]
      },
      {
       "output_type": "stream",
       "stream": "stdout",
       "text": [
        " Thu, 05 Feb 2015 13:49:32\n",
        "Local Date:"
       ]
      },
      {
       "output_type": "stream",
       "stream": "stdout",
       "text": [
        " Thu, 05 Feb 2015 14:40:58\n",
        "Local Date:"
       ]
      },
      {
       "output_type": "stream",
       "stream": "stdout",
       "text": [
        " Thu, 05 Feb 2015 17:36:55\n",
        "Local Date:"
       ]
      },
      {
       "output_type": "stream",
       "stream": "stdout",
       "text": [
        " Thu, 05 Feb 2015 17:45:51\n",
        "Local Date:"
       ]
      },
      {
       "output_type": "stream",
       "stream": "stdout",
       "text": [
        " Thu, 05 Feb 2015 17:48:38\n",
        "Local Date:"
       ]
      },
      {
       "output_type": "stream",
       "stream": "stdout",
       "text": [
        " Thu, 05 Feb 2015 18:02:33\n",
        "Local Date:"
       ]
      },
      {
       "output_type": "stream",
       "stream": "stdout",
       "text": [
        " Thu, 05 Feb 2015 18:17:45\n",
        "Local Date:"
       ]
      },
      {
       "output_type": "stream",
       "stream": "stdout",
       "text": [
        " Thu, 05 Feb 2015 18:26:36\n",
        "Local Date:"
       ]
      },
      {
       "output_type": "stream",
       "stream": "stdout",
       "text": [
        " Thu, 05 Feb 2015 23:24:47\n",
        "Local Date:"
       ]
      },
      {
       "output_type": "stream",
       "stream": "stdout",
       "text": [
        " Thu, 05 Feb 2015 23:38:10\n",
        "Local Date:"
       ]
      },
      {
       "output_type": "stream",
       "stream": "stdout",
       "text": [
        " Thu, 05 Feb 2015 23:54:41\n",
        "Local Date:"
       ]
      },
      {
       "output_type": "stream",
       "stream": "stdout",
       "text": [
        " Fri, 06 Feb 2015 00:17:17\n",
        "Local Date:"
       ]
      },
      {
       "output_type": "stream",
       "stream": "stdout",
       "text": [
        " Fri, 06 Feb 2015 01:04:07\n",
        "Local Date:"
       ]
      },
      {
       "output_type": "stream",
       "stream": "stdout",
       "text": [
        " Fri, 06 Feb 2015 07:02:17\n",
        "Local Date:"
       ]
      },
      {
       "output_type": "stream",
       "stream": "stdout",
       "text": [
        " Fri, 06 Feb 2015 07:59:09\n",
        "Local Date:"
       ]
      },
      {
       "output_type": "stream",
       "stream": "stdout",
       "text": [
        " Fri, 06 Feb 2015 08:51:55\n",
        "Local Date:"
       ]
      },
      {
       "output_type": "stream",
       "stream": "stdout",
       "text": [
        " Fri, 06 Feb 2015 09:12:57\n",
        "Local Date:"
       ]
      },
      {
       "output_type": "stream",
       "stream": "stdout",
       "text": [
        " Fri, 06 Feb 2015 09:13:58\n",
        "Local Date:"
       ]
      },
      {
       "output_type": "stream",
       "stream": "stdout",
       "text": [
        " Fri, 06 Feb 2015 09:59:37\n",
        "Local Date:"
       ]
      },
      {
       "output_type": "stream",
       "stream": "stdout",
       "text": [
        " Fri, 06 Feb 2015 10:16:01\n",
        "Local Date:"
       ]
      },
      {
       "output_type": "stream",
       "stream": "stdout",
       "text": [
        " Fri, 06 Feb 2015 11:43:30\n",
        "Local Date:"
       ]
      },
      {
       "output_type": "stream",
       "stream": "stdout",
       "text": [
        " Fri, 06 Feb 2015 12:00:35\n",
        "Local Date:"
       ]
      },
      {
       "output_type": "stream",
       "stream": "stdout",
       "text": [
        " Fri, 06 Feb 2015 12:04:12\n",
        "Local Date:"
       ]
      },
      {
       "output_type": "stream",
       "stream": "stdout",
       "text": [
        " Fri, 06 Feb 2015 13:44:51\n",
        "Local Date:"
       ]
      },
      {
       "output_type": "stream",
       "stream": "stdout",
       "text": [
        " Fri, 06 Feb 2015 15:02:25\n",
        "Local Date:"
       ]
      },
      {
       "output_type": "stream",
       "stream": "stdout",
       "text": [
        " Fri, 06 Feb 2015 21:57:58\n",
        "Local Date:"
       ]
      },
      {
       "output_type": "stream",
       "stream": "stdout",
       "text": [
        " Sat, 07 Feb 2015 18:17:42\n",
        "Local Date:"
       ]
      },
      {
       "output_type": "stream",
       "stream": "stdout",
       "text": [
        " Sat, 07 Feb 2015 22:29:44\n",
        "Local Date:"
       ]
      },
      {
       "output_type": "stream",
       "stream": "stdout",
       "text": [
        " Mon, 09 Feb 2015 06:14:30\n",
        "Local Date:"
       ]
      },
      {
       "output_type": "stream",
       "stream": "stdout",
       "text": [
        " Mon, 09 Feb 2015 06:56:22\n",
        "Local Date:"
       ]
      },
      {
       "output_type": "stream",
       "stream": "stdout",
       "text": [
        " Mon, 09 Feb 2015 08:15:58\n",
        "Local Date:"
       ]
      },
      {
       "output_type": "stream",
       "stream": "stdout",
       "text": [
        " Mon, 09 Feb 2015 08:24:09\n",
        "Local Date:"
       ]
      },
      {
       "output_type": "stream",
       "stream": "stdout",
       "text": [
        " Mon, 09 Feb 2015 08:33:19\n",
        "Local Date:"
       ]
      },
      {
       "output_type": "stream",
       "stream": "stdout",
       "text": [
        " Mon, 09 Feb 2015 09:03:47\n",
        "Local Date:"
       ]
      },
      {
       "output_type": "stream",
       "stream": "stdout",
       "text": [
        " Mon, 09 Feb 2015 09:53:07\n",
        "Local Date:"
       ]
      },
      {
       "output_type": "stream",
       "stream": "stdout",
       "text": [
        " Mon, 09 Feb 2015 10:17:22\n",
        "Local Date:"
       ]
      },
      {
       "output_type": "stream",
       "stream": "stdout",
       "text": [
        " Mon, 09 Feb 2015 10:25:22\n",
        "Local Date:"
       ]
      },
      {
       "output_type": "stream",
       "stream": "stdout",
       "text": [
        " Mon, 09 Feb 2015 10:34:47\n",
        "Local Date:"
       ]
      },
      {
       "output_type": "stream",
       "stream": "stdout",
       "text": [
        " Mon, 09 Feb 2015 11:15:03\n",
        "Local Date:"
       ]
      },
      {
       "output_type": "stream",
       "stream": "stdout",
       "text": [
        " Mon, 09 Feb 2015 11:20:05\n",
        "Local Date:"
       ]
      },
      {
       "output_type": "stream",
       "stream": "stdout",
       "text": [
        " Mon, 09 Feb 2015 11:29:43\n",
        "Local Date:"
       ]
      },
      {
       "output_type": "stream",
       "stream": "stdout",
       "text": [
        " Mon, 09 Feb 2015 11:32:40\n",
        "Local Date:"
       ]
      },
      {
       "output_type": "stream",
       "stream": "stdout",
       "text": [
        " Mon, 09 Feb 2015 12:13:28\n",
        "Local Date:"
       ]
      },
      {
       "output_type": "stream",
       "stream": "stdout",
       "text": [
        " Mon, 09 Feb 2015 12:22:21\n",
        "Local Date:"
       ]
      },
      {
       "output_type": "stream",
       "stream": "stdout",
       "text": [
        " Mon, 09 Feb 2015 15:10:06\n",
        "Local Date:"
       ]
      },
      {
       "output_type": "stream",
       "stream": "stdout",
       "text": [
        " Mon, 09 Feb 2015 19:35:26\n",
        "Local Date:"
       ]
      },
      {
       "output_type": "stream",
       "stream": "stdout",
       "text": [
        " Mon, 09 Feb 2015 21:55:20\n",
        "Local Date:"
       ]
      },
      {
       "output_type": "stream",
       "stream": "stdout",
       "text": [
        " Mon, 09 Feb 2015 22:08:17\n",
        "Local Date:"
       ]
      },
      {
       "output_type": "stream",
       "stream": "stdout",
       "text": [
        " Mon, 09 Feb 2015 22:19:11\n",
        "Local Date:"
       ]
      },
      {
       "output_type": "stream",
       "stream": "stdout",
       "text": [
        " Mon, 09 Feb 2015 22:25:08\n",
        "Local Date:"
       ]
      },
      {
       "output_type": "stream",
       "stream": "stdout",
       "text": [
        " Mon, 09 Feb 2015 23:03:48\n",
        "Local Date:"
       ]
      },
      {
       "output_type": "stream",
       "stream": "stdout",
       "text": [
        " Tue, 10 Feb 2015 07:50:44\n",
        "Local Date:"
       ]
      },
      {
       "output_type": "stream",
       "stream": "stdout",
       "text": [
        " Tue, 10 Feb 2015 08:18:09\n",
        "Local Date:"
       ]
      },
      {
       "output_type": "stream",
       "stream": "stdout",
       "text": [
        " Tue, 10 Feb 2015 08:51:15\n",
        "Local Date:"
       ]
      },
      {
       "output_type": "stream",
       "stream": "stdout",
       "text": [
        " Tue, 10 Feb 2015 08:52:18\n",
        "Local Date:"
       ]
      },
      {
       "output_type": "stream",
       "stream": "stdout",
       "text": [
        " Tue, 10 Feb 2015 09:22:16\n",
        "Local Date:"
       ]
      },
      {
       "output_type": "stream",
       "stream": "stdout",
       "text": [
        " Tue, 10 Feb 2015 09:22:34\n",
        "Local Date:"
       ]
      },
      {
       "output_type": "stream",
       "stream": "stdout",
       "text": [
        " Tue, 10 Feb 2015 09:25:26\n",
        "Local Date:"
       ]
      },
      {
       "output_type": "stream",
       "stream": "stdout",
       "text": [
        " Tue, 10 Feb 2015 09:25:38\n",
        "Local Date:"
       ]
      },
      {
       "output_type": "stream",
       "stream": "stdout",
       "text": [
        " Tue, 10 Feb 2015 09:27:26\n",
        "Local Date:"
       ]
      },
      {
       "output_type": "stream",
       "stream": "stdout",
       "text": [
        " Tue, 10 Feb 2015 09:28:24\n",
        "Local Date:"
       ]
      },
      {
       "output_type": "stream",
       "stream": "stdout",
       "text": [
        " Tue, 10 Feb 2015 09:34:17\n",
        "Local Date:"
       ]
      },
      {
       "output_type": "stream",
       "stream": "stdout",
       "text": [
        " Tue, 10 Feb 2015 09:35:00\n",
        "Local Date:"
       ]
      },
      {
       "output_type": "stream",
       "stream": "stdout",
       "text": [
        " Tue, 10 Feb 2015 10:13:27\n",
        "Local Date:"
       ]
      },
      {
       "output_type": "stream",
       "stream": "stdout",
       "text": [
        " Tue, 10 Feb 2015 10:18:10\n",
        "Local Date:"
       ]
      },
      {
       "output_type": "stream",
       "stream": "stdout",
       "text": [
        " Tue, 10 Feb 2015 10:19:43\n",
        "Local Date:"
       ]
      },
      {
       "output_type": "stream",
       "stream": "stdout",
       "text": [
        " Tue, 10 Feb 2015 10:37:23\n",
        "Local Date:"
       ]
      },
      {
       "output_type": "stream",
       "stream": "stdout",
       "text": [
        " Tue, 10 Feb 2015 10:44:36\n",
        "Local Date:"
       ]
      },
      {
       "output_type": "stream",
       "stream": "stdout",
       "text": [
        " Tue, 10 Feb 2015 10:47:07\n",
        "Local Date:"
       ]
      },
      {
       "output_type": "stream",
       "stream": "stdout",
       "text": [
        " Tue, 10 Feb 2015 10:47:20\n",
        "Local Date:"
       ]
      },
      {
       "output_type": "stream",
       "stream": "stdout",
       "text": [
        " Tue, 10 Feb 2015 10:51:24\n",
        "Local Date:"
       ]
      },
      {
       "output_type": "stream",
       "stream": "stdout",
       "text": [
        " Tue, 10 Feb 2015 11:06:03\n",
        "Local Date:"
       ]
      },
      {
       "output_type": "stream",
       "stream": "stdout",
       "text": [
        " Tue, 10 Feb 2015 11:09:37\n",
        "Local Date:"
       ]
      },
      {
       "output_type": "stream",
       "stream": "stdout",
       "text": [
        " Tue, 10 Feb 2015 11:14:49\n",
        "Local Date:"
       ]
      },
      {
       "output_type": "stream",
       "stream": "stdout",
       "text": [
        " Tue, 10 Feb 2015 11:22:09\n",
        "Local Date:"
       ]
      },
      {
       "output_type": "stream",
       "stream": "stdout",
       "text": [
        " Tue, 10 Feb 2015 11:23:51\n",
        "Local Date:"
       ]
      },
      {
       "output_type": "stream",
       "stream": "stdout",
       "text": [
        " Tue, 10 Feb 2015 11:27:26\n",
        "Local Date:"
       ]
      },
      {
       "output_type": "stream",
       "stream": "stdout",
       "text": [
        " Tue, 10 Feb 2015 13:02:02\n",
        "Local Date:"
       ]
      },
      {
       "output_type": "stream",
       "stream": "stdout",
       "text": [
        " Tue, 10 Feb 2015 13:13:41\n",
        "Local Date:"
       ]
      },
      {
       "output_type": "stream",
       "stream": "stdout",
       "text": [
        " Tue, 10 Feb 2015 13:30:13\n",
        "Local Date:"
       ]
      },
      {
       "output_type": "stream",
       "stream": "stdout",
       "text": [
        " Tue, 10 Feb 2015 13:34:32\n",
        "Local Date:"
       ]
      },
      {
       "output_type": "stream",
       "stream": "stdout",
       "text": [
        " Tue, 10 Feb 2015 14:34:59\n",
        "Local Date:"
       ]
      },
      {
       "output_type": "stream",
       "stream": "stdout",
       "text": [
        " Tue, 10 Feb 2015 14:37:15\n",
        "Local Date:"
       ]
      },
      {
       "output_type": "stream",
       "stream": "stdout",
       "text": [
        " Tue, 10 Feb 2015 14:51:59\n",
        "Local Date:"
       ]
      },
      {
       "output_type": "stream",
       "stream": "stdout",
       "text": [
        " Tue, 10 Feb 2015 15:11:20\n",
        "Local Date:"
       ]
      },
      {
       "output_type": "stream",
       "stream": "stdout",
       "text": [
        " Tue, 10 Feb 2015 15:16:12\n",
        "Local Date:"
       ]
      },
      {
       "output_type": "stream",
       "stream": "stdout",
       "text": [
        " Tue, 10 Feb 2015 15:18:41\n",
        "Local Date:"
       ]
      },
      {
       "output_type": "stream",
       "stream": "stdout",
       "text": [
        " Tue, 10 Feb 2015 15:56:52\n",
        "Local Date:"
       ]
      },
      {
       "output_type": "stream",
       "stream": "stdout",
       "text": [
        " Tue, 10 Feb 2015 22:44:57\n",
        "Local Date:"
       ]
      },
      {
       "output_type": "stream",
       "stream": "stdout",
       "text": [
        " Tue, 10 Feb 2015 23:06:53\n",
        "Local Date:"
       ]
      },
      {
       "output_type": "stream",
       "stream": "stdout",
       "text": [
        " Tue, 10 Feb 2015 23:13:17\n",
        "Local Date:"
       ]
      },
      {
       "output_type": "stream",
       "stream": "stdout",
       "text": [
        " Tue, 10 Feb 2015 23:17:43\n",
        "Local Date:"
       ]
      },
      {
       "output_type": "stream",
       "stream": "stdout",
       "text": [
        " Wed, 11 Feb 2015 07:34:02\n",
        "Local Date:"
       ]
      },
      {
       "output_type": "stream",
       "stream": "stdout",
       "text": [
        " Wed, 11 Feb 2015 07:36:03\n",
        "Local Date:"
       ]
      },
      {
       "output_type": "stream",
       "stream": "stdout",
       "text": [
        " Wed, 11 Feb 2015 10:57:34\n",
        "Local Date:"
       ]
      },
      {
       "output_type": "stream",
       "stream": "stdout",
       "text": [
        " Wed, 11 Feb 2015 11:08:02\n",
        "Local Date:"
       ]
      },
      {
       "output_type": "stream",
       "stream": "stdout",
       "text": [
        " Wed, 11 Feb 2015 11:10:37\n",
        "Local Date:"
       ]
      },
      {
       "output_type": "stream",
       "stream": "stdout",
       "text": [
        " Wed, 11 Feb 2015 11:57:49\n",
        "Local Date:"
       ]
      },
      {
       "output_type": "stream",
       "stream": "stdout",
       "text": [
        " Wed, 11 Feb 2015 12:12:08\n",
        "Local Date:"
       ]
      },
      {
       "output_type": "stream",
       "stream": "stdout",
       "text": [
        " Wed, 11 Feb 2015 12:45:00\n",
        "Local Date:"
       ]
      },
      {
       "output_type": "stream",
       "stream": "stdout",
       "text": [
        " Wed, 11 Feb 2015 13:22:45\n",
        "Local Date:"
       ]
      },
      {
       "output_type": "stream",
       "stream": "stdout",
       "text": [
        " Wed, 11 Feb 2015 13:26:46\n",
        "Local Date:"
       ]
      },
      {
       "output_type": "stream",
       "stream": "stdout",
       "text": [
        " Wed, 11 Feb 2015 13:50:28\n",
        "Local Date:"
       ]
      },
      {
       "output_type": "stream",
       "stream": "stdout",
       "text": [
        " Wed, 11 Feb 2015 19:52:38\n",
        "Local Date:"
       ]
      },
      {
       "output_type": "stream",
       "stream": "stdout",
       "text": [
        " Wed, 11 Feb 2015 20:56:01\n",
        "Local Date:"
       ]
      },
      {
       "output_type": "stream",
       "stream": "stdout",
       "text": [
        " Wed, 11 Feb 2015 20:56:50\n",
        "Local Date:"
       ]
      },
      {
       "output_type": "stream",
       "stream": "stdout",
       "text": [
        " Thu, 12 Feb 2015 09:00:24\n",
        "Local Date:"
       ]
      },
      {
       "output_type": "stream",
       "stream": "stdout",
       "text": [
        " Thu, 12 Feb 2015 09:11:36\n",
        "Local Date:"
       ]
      },
      {
       "output_type": "stream",
       "stream": "stdout",
       "text": [
        " Thu, 12 Feb 2015 09:27:18\n",
        "Local Date:"
       ]
      },
      {
       "output_type": "stream",
       "stream": "stdout",
       "text": [
        " Thu, 12 Feb 2015 09:29:31\n",
        "Local Date:"
       ]
      },
      {
       "output_type": "stream",
       "stream": "stdout",
       "text": [
        " Thu, 12 Feb 2015 10:49:16\n",
        "Local Date:"
       ]
      },
      {
       "output_type": "stream",
       "stream": "stdout",
       "text": [
        " Thu, 12 Feb 2015 11:36:23\n",
        "Local Date:"
       ]
      },
      {
       "output_type": "stream",
       "stream": "stdout",
       "text": [
        " Thu, 12 Feb 2015 14:13:46\n",
        "Local Date:"
       ]
      },
      {
       "output_type": "stream",
       "stream": "stdout",
       "text": [
        " Thu, 12 Feb 2015 14:44:54\n",
        "Local Date:"
       ]
      },
      {
       "output_type": "stream",
       "stream": "stdout",
       "text": [
        " Thu, 12 Feb 2015 15:00:54\n",
        "Local Date:"
       ]
      },
      {
       "output_type": "stream",
       "stream": "stdout",
       "text": [
        " Thu, 12 Feb 2015 15:19:14\n",
        "Local Date:"
       ]
      },
      {
       "output_type": "stream",
       "stream": "stdout",
       "text": [
        " Thu, 12 Feb 2015 15:22:59\n",
        "Local Date:"
       ]
      },
      {
       "output_type": "stream",
       "stream": "stdout",
       "text": [
        " Thu, 12 Feb 2015 15:23:20\n",
        "Local Date:"
       ]
      },
      {
       "output_type": "stream",
       "stream": "stdout",
       "text": [
        " Thu, 12 Feb 2015 17:37:29\n",
        "Local Date:"
       ]
      },
      {
       "output_type": "stream",
       "stream": "stdout",
       "text": [
        " Thu, 12 Feb 2015 19:45:06\n",
        "Local Date:"
       ]
      },
      {
       "output_type": "stream",
       "stream": "stdout",
       "text": [
        " Thu, 12 Feb 2015 19:56:27\n",
        "Local Date:"
       ]
      },
      {
       "output_type": "stream",
       "stream": "stdout",
       "text": [
        " Thu, 12 Feb 2015 20:04:09\n",
        "Local Date:"
       ]
      },
      {
       "output_type": "stream",
       "stream": "stdout",
       "text": [
        " Thu, 12 Feb 2015 20:57:07\n",
        "Local Date:"
       ]
      },
      {
       "output_type": "stream",
       "stream": "stdout",
       "text": [
        " Thu, 12 Feb 2015 20:59:26\n",
        "Local Date:"
       ]
      },
      {
       "output_type": "stream",
       "stream": "stdout",
       "text": [
        " Thu, 12 Feb 2015 21:07:04\n",
        "Local Date:"
       ]
      },
      {
       "output_type": "stream",
       "stream": "stdout",
       "text": [
        " Thu, 12 Feb 2015 21:17:24\n",
        "Local Date:"
       ]
      },
      {
       "output_type": "stream",
       "stream": "stdout",
       "text": [
        " Thu, 12 Feb 2015 21:31:54\n",
        "Local Date:"
       ]
      },
      {
       "output_type": "stream",
       "stream": "stdout",
       "text": [
        " Thu, 12 Feb 2015 21:55:50\n",
        "Local Date:"
       ]
      },
      {
       "output_type": "stream",
       "stream": "stdout",
       "text": [
        " Thu, 12 Feb 2015 21:57:09\n",
        "Local Date:"
       ]
      },
      {
       "output_type": "stream",
       "stream": "stdout",
       "text": [
        " Fri, 13 Feb 2015 00:21:12\n",
        "Local Date:"
       ]
      },
      {
       "output_type": "stream",
       "stream": "stdout",
       "text": [
        " Fri, 13 Feb 2015 08:01:38\n",
        "Local Date:"
       ]
      },
      {
       "output_type": "stream",
       "stream": "stdout",
       "text": [
        " Fri, 13 Feb 2015 08:16:49\n",
        "Local Date:"
       ]
      },
      {
       "output_type": "stream",
       "stream": "stdout",
       "text": [
        " Fri, 13 Feb 2015 08:17:35\n",
        "Local Date:"
       ]
      },
      {
       "output_type": "stream",
       "stream": "stdout",
       "text": [
        " Fri, 13 Feb 2015 08:38:23\n",
        "Local Date:"
       ]
      },
      {
       "output_type": "stream",
       "stream": "stdout",
       "text": [
        " Fri, 13 Feb 2015 08:49:48\n",
        "Local Date:"
       ]
      },
      {
       "output_type": "stream",
       "stream": "stdout",
       "text": [
        " Fri, 13 Feb 2015 08:53:04\n",
        "Local Date:"
       ]
      },
      {
       "output_type": "stream",
       "stream": "stdout",
       "text": [
        " Fri, 13 Feb 2015 09:25:18\n",
        "Local Date:"
       ]
      },
      {
       "output_type": "stream",
       "stream": "stdout",
       "text": [
        " Fri, 13 Feb 2015 10:34:35\n",
        "Local Date:"
       ]
      },
      {
       "output_type": "stream",
       "stream": "stdout",
       "text": [
        " Fri, 13 Feb 2015 10:38:06\n",
        "Local Date:"
       ]
      },
      {
       "output_type": "stream",
       "stream": "stdout",
       "text": [
        " Fri, 13 Feb 2015 10:42:30\n",
        "Local Date:"
       ]
      },
      {
       "output_type": "stream",
       "stream": "stdout",
       "text": [
        " Fri, 13 Feb 2015 10:48:13\n",
        "Local Date:"
       ]
      },
      {
       "output_type": "stream",
       "stream": "stdout",
       "text": [
        " Fri, 13 Feb 2015 11:06:29\n",
        "Local Date:"
       ]
      },
      {
       "output_type": "stream",
       "stream": "stdout",
       "text": [
        " Fri, 13 Feb 2015 11:37:29\n",
        "Local Date:"
       ]
      },
      {
       "output_type": "stream",
       "stream": "stdout",
       "text": [
        " Fri, 13 Feb 2015 11:38:45\n",
        "Local Date:"
       ]
      },
      {
       "output_type": "stream",
       "stream": "stdout",
       "text": [
        " Fri, 13 Feb 2015 12:00:38\n",
        "Local Date:"
       ]
      },
      {
       "output_type": "stream",
       "stream": "stdout",
       "text": [
        " Fri, 13 Feb 2015 12:02:49\n",
        "Local Date:"
       ]
      },
      {
       "output_type": "stream",
       "stream": "stdout",
       "text": [
        " Fri, 13 Feb 2015 12:14:48\n",
        "Local Date:"
       ]
      },
      {
       "output_type": "stream",
       "stream": "stdout",
       "text": [
        " Fri, 13 Feb 2015 12:22:50\n",
        "Local Date:"
       ]
      },
      {
       "output_type": "stream",
       "stream": "stdout",
       "text": [
        " Fri, 13 Feb 2015 13:47:42\n",
        "Local Date:"
       ]
      },
      {
       "output_type": "stream",
       "stream": "stdout",
       "text": [
        " Fri, 13 Feb 2015 14:01:25\n",
        "Local Date:"
       ]
      },
      {
       "output_type": "stream",
       "stream": "stdout",
       "text": [
        " Fri, 13 Feb 2015 14:10:56\n",
        "Local Date:"
       ]
      },
      {
       "output_type": "stream",
       "stream": "stdout",
       "text": [
        " Fri, 13 Feb 2015 14:16:37\n",
        "Local Date:"
       ]
      },
      {
       "output_type": "stream",
       "stream": "stdout",
       "text": [
        " Fri, 13 Feb 2015 14:20:34\n",
        "Local Date:"
       ]
      },
      {
       "output_type": "stream",
       "stream": "stdout",
       "text": [
        " Fri, 13 Feb 2015 14:42:23\n",
        "Local Date:"
       ]
      },
      {
       "output_type": "stream",
       "stream": "stdout",
       "text": [
        " Sat, 14 Feb 2015 00:59:43\n",
        "Local Date:"
       ]
      },
      {
       "output_type": "stream",
       "stream": "stdout",
       "text": [
        " Sat, 14 Feb 2015 10:29:51\n",
        "Local Date:"
       ]
      },
      {
       "output_type": "stream",
       "stream": "stdout",
       "text": [
        " Sat, 14 Feb 2015 14:44:01\n",
        "Local Date:"
       ]
      },
      {
       "output_type": "stream",
       "stream": "stdout",
       "text": [
        " Sat, 14 Feb 2015 16:28:31\n",
        "Local Date:"
       ]
      },
      {
       "output_type": "stream",
       "stream": "stdout",
       "text": [
        " Sat, 14 Feb 2015 16:50:09\n",
        "Local Date:"
       ]
      },
      {
       "output_type": "stream",
       "stream": "stdout",
       "text": [
        " Sat, 14 Feb 2015 20:30:58\n",
        "Local Date:"
       ]
      },
      {
       "output_type": "stream",
       "stream": "stdout",
       "text": [
        " Sat, 14 Feb 2015 20:53:53\n",
        "Local Date:"
       ]
      },
      {
       "output_type": "stream",
       "stream": "stdout",
       "text": [
        " Sat, 14 Feb 2015 22:06:45\n",
        "Local Date:"
       ]
      },
      {
       "output_type": "stream",
       "stream": "stdout",
       "text": [
        " Sat, 14 Feb 2015 22:52:23\n",
        "Local Date:"
       ]
      },
      {
       "output_type": "stream",
       "stream": "stdout",
       "text": [
        " Sun, 15 Feb 2015 00:07:40\n",
        "Local Date:"
       ]
      },
      {
       "output_type": "stream",
       "stream": "stdout",
       "text": [
        " Sun, 15 Feb 2015 18:58:08\n",
        "Local Date:"
       ]
      },
      {
       "output_type": "stream",
       "stream": "stdout",
       "text": [
        " Sun, 15 Feb 2015 18:58:28\n",
        "Local Date:"
       ]
      },
      {
       "output_type": "stream",
       "stream": "stdout",
       "text": [
        " Sun, 15 Feb 2015 22:19:30\n",
        "Local Date:"
       ]
      },
      {
       "output_type": "stream",
       "stream": "stdout",
       "text": [
        " Sun, 15 Feb 2015 23:20:59\n",
        "Local Date:"
       ]
      },
      {
       "output_type": "stream",
       "stream": "stdout",
       "text": [
        " Sun, 15 Feb 2015 23:35:32\n",
        "Local Date:"
       ]
      },
      {
       "output_type": "stream",
       "stream": "stdout",
       "text": [
        " Mon, 16 Feb 2015 07:21:01\n",
        "Local Date:"
       ]
      },
      {
       "output_type": "stream",
       "stream": "stdout",
       "text": [
        " Mon, 16 Feb 2015 12:34:48\n",
        "Local Date:"
       ]
      },
      {
       "output_type": "stream",
       "stream": "stdout",
       "text": [
        " Mon, 16 Feb 2015 14:13:11\n",
        "Local Date:"
       ]
      },
      {
       "output_type": "stream",
       "stream": "stdout",
       "text": [
        " Mon, 16 Feb 2015 14:47:18\n",
        "Local Date:"
       ]
      },
      {
       "output_type": "stream",
       "stream": "stdout",
       "text": [
        " Mon, 16 Feb 2015 17:02:08\n",
        "Local Date:"
       ]
      },
      {
       "output_type": "stream",
       "stream": "stdout",
       "text": [
        " Mon, 16 Feb 2015 20:56:05\n",
        "Local Date:"
       ]
      },
      {
       "output_type": "stream",
       "stream": "stdout",
       "text": [
        " Mon, 16 Feb 2015 21:14:31\n",
        "Local Date:"
       ]
      },
      {
       "output_type": "stream",
       "stream": "stdout",
       "text": [
        " Mon, 16 Feb 2015 21:19:37\n",
        "Local Date:"
       ]
      },
      {
       "output_type": "stream",
       "stream": "stdout",
       "text": [
        " Mon, 16 Feb 2015 21:56:18\n",
        "Local Date:"
       ]
      },
      {
       "output_type": "stream",
       "stream": "stdout",
       "text": [
        " Mon, 16 Feb 2015 22:35:08\n",
        "Local Date:"
       ]
      },
      {
       "output_type": "stream",
       "stream": "stdout",
       "text": [
        " Tue, 17 Feb 2015 08:30:19\n",
        "Local Date:"
       ]
      },
      {
       "output_type": "stream",
       "stream": "stdout",
       "text": [
        " Tue, 17 Feb 2015 11:24:31\n",
        "Local Date:"
       ]
      },
      {
       "output_type": "stream",
       "stream": "stdout",
       "text": [
        " Tue, 17 Feb 2015 12:03:39\n",
        "Local Date:"
       ]
      },
      {
       "output_type": "stream",
       "stream": "stdout",
       "text": [
        " Tue, 17 Feb 2015 13:12:24\n",
        "Local Date:"
       ]
      },
      {
       "output_type": "stream",
       "stream": "stdout",
       "text": [
        " Tue, 17 Feb 2015 14:30:30\n",
        "Local Date:"
       ]
      },
      {
       "output_type": "stream",
       "stream": "stdout",
       "text": [
        " Tue, 17 Feb 2015 14:52:36\n",
        "Local Date:"
       ]
      },
      {
       "output_type": "stream",
       "stream": "stdout",
       "text": [
        " Tue, 17 Feb 2015 15:11:00\n",
        "Local Date:"
       ]
      },
      {
       "output_type": "stream",
       "stream": "stdout",
       "text": [
        " Tue, 17 Feb 2015 15:41:29\n",
        "Local Date:"
       ]
      },
      {
       "output_type": "stream",
       "stream": "stdout",
       "text": [
        " Tue, 17 Feb 2015 15:42:51\n",
        "Local Date:"
       ]
      },
      {
       "output_type": "stream",
       "stream": "stdout",
       "text": [
        " Tue, 17 Feb 2015 16:17:31\n",
        "Local Date:"
       ]
      },
      {
       "output_type": "stream",
       "stream": "stdout",
       "text": [
        " Tue, 17 Feb 2015 16:24:23\n",
        "Local Date:"
       ]
      },
      {
       "output_type": "stream",
       "stream": "stdout",
       "text": [
        " Tue, 17 Feb 2015 16:24:44\n",
        "Local Date:"
       ]
      },
      {
       "output_type": "stream",
       "stream": "stdout",
       "text": [
        " Tue, 17 Feb 2015 16:25:27\n",
        "Local Date:"
       ]
      },
      {
       "output_type": "stream",
       "stream": "stdout",
       "text": [
        " Tue, 17 Feb 2015 16:29:02\n",
        "Local Date:"
       ]
      },
      {
       "output_type": "stream",
       "stream": "stdout",
       "text": [
        " Wed, 18 Feb 2015 08:48:49\n",
        "Local Date:"
       ]
      },
      {
       "output_type": "stream",
       "stream": "stdout",
       "text": [
        " Wed, 18 Feb 2015 09:21:00\n",
        "Local Date:"
       ]
      },
      {
       "output_type": "stream",
       "stream": "stdout",
       "text": [
        " Wed, 18 Feb 2015 09:33:00\n",
        "Local Date:"
       ]
      },
      {
       "output_type": "stream",
       "stream": "stdout",
       "text": [
        " Wed, 18 Feb 2015 09:33:14\n",
        "Local Date:"
       ]
      },
      {
       "output_type": "stream",
       "stream": "stdout",
       "text": [
        " Wed, 18 Feb 2015 09:36:00\n",
        "Local Date:"
       ]
      },
      {
       "output_type": "stream",
       "stream": "stdout",
       "text": [
        " Wed, 18 Feb 2015 09:43:01\n",
        "Local Date:"
       ]
      },
      {
       "output_type": "stream",
       "stream": "stdout",
       "text": [
        " Wed, 18 Feb 2015 09:44:00\n",
        "Local Date:"
       ]
      },
      {
       "output_type": "stream",
       "stream": "stdout",
       "text": [
        " Wed, 18 Feb 2015 09:45:00\n",
        "Local Date:"
       ]
      },
      {
       "output_type": "stream",
       "stream": "stdout",
       "text": [
        " Wed, 18 Feb 2015 09:48:59\n",
        "Local Date:"
       ]
      },
      {
       "output_type": "stream",
       "stream": "stdout",
       "text": [
        " Wed, 18 Feb 2015 10:45:30\n",
        "Local Date:"
       ]
      },
      {
       "output_type": "stream",
       "stream": "stdout",
       "text": [
        " Wed, 18 Feb 2015 11:38:33\n",
        "Local Date:"
       ]
      },
      {
       "output_type": "stream",
       "stream": "stdout",
       "text": [
        " Wed, 18 Feb 2015 12:31:45\n",
        "Local Date:"
       ]
      },
      {
       "output_type": "stream",
       "stream": "stdout",
       "text": [
        " Wed, 18 Feb 2015 12:37:01\n",
        "Local Date:"
       ]
      },
      {
       "output_type": "stream",
       "stream": "stdout",
       "text": [
        " Wed, 18 Feb 2015 14:26:16\n",
        "Local Date:"
       ]
      },
      {
       "output_type": "stream",
       "stream": "stdout",
       "text": [
        " Wed, 18 Feb 2015 17:34:24\n",
        "Local Date:"
       ]
      },
      {
       "output_type": "stream",
       "stream": "stdout",
       "text": [
        " Wed, 18 Feb 2015 20:07:44\n",
        "Local Date:"
       ]
      },
      {
       "output_type": "stream",
       "stream": "stdout",
       "text": [
        " Wed, 18 Feb 2015 21:17:05\n",
        "Local Date:"
       ]
      },
      {
       "output_type": "stream",
       "stream": "stdout",
       "text": [
        " Thu, 19 Feb 2015 07:55:30\n",
        "Local Date:"
       ]
      },
      {
       "output_type": "stream",
       "stream": "stdout",
       "text": [
        " Thu, 19 Feb 2015 09:32:00\n",
        "Local Date:"
       ]
      },
      {
       "output_type": "stream",
       "stream": "stdout",
       "text": [
        " Thu, 19 Feb 2015 09:45:28\n",
        "Local Date:"
       ]
      },
      {
       "output_type": "stream",
       "stream": "stdout",
       "text": [
        " Thu, 19 Feb 2015 10:35:07\n",
        "Local Date:"
       ]
      },
      {
       "output_type": "stream",
       "stream": "stdout",
       "text": [
        " Thu, 19 Feb 2015 10:45:48\n",
        "Local Date:"
       ]
      },
      {
       "output_type": "stream",
       "stream": "stdout",
       "text": [
        " Thu, 19 Feb 2015 11:02:01\n",
        "Local Date:"
       ]
      },
      {
       "output_type": "stream",
       "stream": "stdout",
       "text": [
        " Thu, 19 Feb 2015 11:02:01\n",
        "Local Date:"
       ]
      },
      {
       "output_type": "stream",
       "stream": "stdout",
       "text": [
        " Thu, 19 Feb 2015 11:15:15\n",
        "Local Date:"
       ]
      },
      {
       "output_type": "stream",
       "stream": "stdout",
       "text": [
        " Thu, 19 Feb 2015 11:16:13\n",
        "Local Date:"
       ]
      },
      {
       "output_type": "stream",
       "stream": "stdout",
       "text": [
        " Thu, 19 Feb 2015 11:55:11\n",
        "Local Date:"
       ]
      },
      {
       "output_type": "stream",
       "stream": "stdout",
       "text": [
        " Thu, 19 Feb 2015 11:57:52\n",
        "Local Date:"
       ]
      },
      {
       "output_type": "stream",
       "stream": "stdout",
       "text": [
        " Thu, 19 Feb 2015 12:16:03\n",
        "Local Date:"
       ]
      },
      {
       "output_type": "stream",
       "stream": "stdout",
       "text": [
        " Thu, 19 Feb 2015 12:19:21\n",
        "Local Date:"
       ]
      },
      {
       "output_type": "stream",
       "stream": "stdout",
       "text": [
        " Thu, 19 Feb 2015 12:22:00\n",
        "Local Date:"
       ]
      },
      {
       "output_type": "stream",
       "stream": "stdout",
       "text": [
        " Thu, 19 Feb 2015 12:23:00\n",
        "Local Date:"
       ]
      },
      {
       "output_type": "stream",
       "stream": "stdout",
       "text": [
        " Thu, 19 Feb 2015 12:37:00\n",
        "Local Date:"
       ]
      },
      {
       "output_type": "stream",
       "stream": "stdout",
       "text": [
        " Thu, 19 Feb 2015 12:45:13\n",
        "Local Date:"
       ]
      },
      {
       "output_type": "stream",
       "stream": "stdout",
       "text": [
        " Thu, 19 Feb 2015 12:47:06\n",
        "Local Date:"
       ]
      },
      {
       "output_type": "stream",
       "stream": "stdout",
       "text": [
        " Thu, 19 Feb 2015 13:22:49\n",
        "Local Date:"
       ]
      },
      {
       "output_type": "stream",
       "stream": "stdout",
       "text": [
        " Thu, 19 Feb 2015 13:52:55\n",
        "Local Date:"
       ]
      },
      {
       "output_type": "stream",
       "stream": "stdout",
       "text": [
        " Thu, 19 Feb 2015 14:19:20\n",
        "Local Date:"
       ]
      },
      {
       "output_type": "stream",
       "stream": "stdout",
       "text": [
        " Thu, 19 Feb 2015 14:28:24\n",
        "Local Date:"
       ]
      },
      {
       "output_type": "stream",
       "stream": "stdout",
       "text": [
        " Thu, 19 Feb 2015 14:33:12\n",
        "Local Date:"
       ]
      },
      {
       "output_type": "stream",
       "stream": "stdout",
       "text": [
        " Thu, 19 Feb 2015 14:54:21\n",
        "Local Date:"
       ]
      },
      {
       "output_type": "stream",
       "stream": "stdout",
       "text": [
        " Thu, 19 Feb 2015 15:34:14\n",
        "Local Date:"
       ]
      },
      {
       "output_type": "stream",
       "stream": "stdout",
       "text": [
        " Thu, 19 Feb 2015 15:47:52\n",
        "Local Date:"
       ]
      },
      {
       "output_type": "stream",
       "stream": "stdout",
       "text": [
        " Thu, 19 Feb 2015 15:52:59\n",
        "Local Date:"
       ]
      },
      {
       "output_type": "stream",
       "stream": "stdout",
       "text": [
        " Thu, 19 Feb 2015 15:57:25\n",
        "Local Date:"
       ]
      },
      {
       "output_type": "stream",
       "stream": "stdout",
       "text": [
        " Thu, 19 Feb 2015 16:17:19\n",
        "Local Date:"
       ]
      },
      {
       "output_type": "stream",
       "stream": "stdout",
       "text": [
        " Thu, 19 Feb 2015 16:33:54\n",
        "Local Date:"
       ]
      },
      {
       "output_type": "stream",
       "stream": "stdout",
       "text": [
        " Thu, 19 Feb 2015 17:52:01\n",
        "Local Date:"
       ]
      },
      {
       "output_type": "stream",
       "stream": "stdout",
       "text": [
        " Thu, 19 Feb 2015 18:17:07\n",
        "Local Date:"
       ]
      },
      {
       "output_type": "stream",
       "stream": "stdout",
       "text": [
        " Thu, 19 Feb 2015 19:28:59\n",
        "Local Date:"
       ]
      },
      {
       "output_type": "stream",
       "stream": "stdout",
       "text": [
        " Thu, 19 Feb 2015 19:32:00\n",
        "Local Date:"
       ]
      },
      {
       "output_type": "stream",
       "stream": "stdout",
       "text": [
        " Thu, 19 Feb 2015 19:49:17\n",
        "Local Date:"
       ]
      },
      {
       "output_type": "stream",
       "stream": "stdout",
       "text": [
        " Thu, 19 Feb 2015 19:49:50\n",
        "Local Date:"
       ]
      },
      {
       "output_type": "stream",
       "stream": "stdout",
       "text": [
        " Thu, 19 Feb 2015 20:00:54\n",
        "Local Date:"
       ]
      },
      {
       "output_type": "stream",
       "stream": "stdout",
       "text": [
        " Thu, 19 Feb 2015 21:08:44\n",
        "Local Date:"
       ]
      },
      {
       "output_type": "stream",
       "stream": "stdout",
       "text": [
        " Thu, 19 Feb 2015 21:15:10\n",
        "Local Date:"
       ]
      },
      {
       "output_type": "stream",
       "stream": "stdout",
       "text": [
        " Thu, 19 Feb 2015 22:16:23\n",
        "Local Date:"
       ]
      },
      {
       "output_type": "stream",
       "stream": "stdout",
       "text": [
        " Thu, 19 Feb 2015 22:22:40\n",
        "Local Date:"
       ]
      },
      {
       "output_type": "stream",
       "stream": "stdout",
       "text": [
        " Thu, 19 Feb 2015 22:23:41\n",
        "Local Date:"
       ]
      },
      {
       "output_type": "stream",
       "stream": "stdout",
       "text": [
        " Thu, 19 Feb 2015 22:30:03\n",
        "Local Date:"
       ]
      },
      {
       "output_type": "stream",
       "stream": "stdout",
       "text": [
        " Thu, 19 Feb 2015 23:27:06\n",
        "Local Date:"
       ]
      },
      {
       "output_type": "stream",
       "stream": "stdout",
       "text": [
        " Fri, 20 Feb 2015 07:45:34\n",
        "Local Date:"
       ]
      },
      {
       "output_type": "stream",
       "stream": "stdout",
       "text": [
        " Fri, 20 Feb 2015 07:47:18\n",
        "Local Date:"
       ]
      },
      {
       "output_type": "stream",
       "stream": "stdout",
       "text": [
        " Fri, 20 Feb 2015 08:18:08\n",
        "Local Date:"
       ]
      },
      {
       "output_type": "stream",
       "stream": "stdout",
       "text": [
        " Fri, 20 Feb 2015 08:20:31\n",
        "Local Date:"
       ]
      },
      {
       "output_type": "stream",
       "stream": "stdout",
       "text": [
        " Fri, 20 Feb 2015 08:55:25\n",
        "Local Date:"
       ]
      },
      {
       "output_type": "stream",
       "stream": "stdout",
       "text": [
        " Fri, 20 Feb 2015 09:22:51\n",
        "Local Date:"
       ]
      },
      {
       "output_type": "stream",
       "stream": "stdout",
       "text": [
        " Fri, 20 Feb 2015 09:24:53\n",
        "Local Date:"
       ]
      },
      {
       "output_type": "stream",
       "stream": "stdout",
       "text": [
        " Fri, 20 Feb 2015 09:29:59\n",
        "Local Date:"
       ]
      },
      {
       "output_type": "stream",
       "stream": "stdout",
       "text": [
        " Fri, 20 Feb 2015 09:41:24\n",
        "Local Date:"
       ]
      },
      {
       "output_type": "stream",
       "stream": "stdout",
       "text": [
        " Fri, 20 Feb 2015 10:23:16\n",
        "Local Date:"
       ]
      },
      {
       "output_type": "stream",
       "stream": "stdout",
       "text": [
        " Fri, 20 Feb 2015 10:36:52\n",
        "Local Date:"
       ]
      },
      {
       "output_type": "stream",
       "stream": "stdout",
       "text": [
        " Fri, 20 Feb 2015 10:45:02\n",
        "Local Date:"
       ]
      },
      {
       "output_type": "stream",
       "stream": "stdout",
       "text": [
        " Fri, 20 Feb 2015 10:58:32\n",
        "Local Date:"
       ]
      },
      {
       "output_type": "stream",
       "stream": "stdout",
       "text": [
        " Fri, 20 Feb 2015 11:55:11\n",
        "Local Date:"
       ]
      },
      {
       "output_type": "stream",
       "stream": "stdout",
       "text": [
        " Fri, 20 Feb 2015 12:20:59\n",
        "Local Date:"
       ]
      },
      {
       "output_type": "stream",
       "stream": "stdout",
       "text": [
        " Fri, 20 Feb 2015 12:49:04\n",
        "Local Date:"
       ]
      },
      {
       "output_type": "stream",
       "stream": "stdout",
       "text": [
        " Fri, 20 Feb 2015 12:52:48\n",
        "Local Date:"
       ]
      },
      {
       "output_type": "stream",
       "stream": "stdout",
       "text": [
        " Fri, 20 Feb 2015 13:49:07\n",
        "Local Date:"
       ]
      },
      {
       "output_type": "stream",
       "stream": "stdout",
       "text": [
        " Fri, 20 Feb 2015 14:00:00\n",
        "Local Date:"
       ]
      },
      {
       "output_type": "stream",
       "stream": "stdout",
       "text": [
        " Fri, 20 Feb 2015 14:40:21\n",
        "Local Date:"
       ]
      },
      {
       "output_type": "stream",
       "stream": "stdout",
       "text": [
        " Fri, 20 Feb 2015 16:32:32\n",
        "Local Date:"
       ]
      },
      {
       "output_type": "stream",
       "stream": "stdout",
       "text": [
        " Fri, 20 Feb 2015 19:48:35\n",
        "Local Date:"
       ]
      },
      {
       "output_type": "stream",
       "stream": "stdout",
       "text": [
        " Fri, 20 Feb 2015 21:29:29\n",
        "Local Date:"
       ]
      },
      {
       "output_type": "stream",
       "stream": "stdout",
       "text": [
        " Sat, 21 Feb 2015 12:16:52\n",
        "Local Date:"
       ]
      },
      {
       "output_type": "stream",
       "stream": "stdout",
       "text": [
        " Sat, 21 Feb 2015 15:02:46\n",
        "Local Date:"
       ]
      },
      {
       "output_type": "stream",
       "stream": "stdout",
       "text": [
        " Sun, 22 Feb 2015 00:56:03\n",
        "Local Date:"
       ]
      },
      {
       "output_type": "stream",
       "stream": "stdout",
       "text": [
        " Sun, 22 Feb 2015 16:13:03\n",
        "Local Date:"
       ]
      },
      {
       "output_type": "stream",
       "stream": "stdout",
       "text": [
        " Sun, 22 Feb 2015 20:19:51\n",
        "Local Date:"
       ]
      },
      {
       "output_type": "stream",
       "stream": "stdout",
       "text": [
        " Sun, 22 Feb 2015 20:43:42\n",
        "Local Date:"
       ]
      },
      {
       "output_type": "stream",
       "stream": "stdout",
       "text": [
        " Sun, 22 Feb 2015 20:44:03\n",
        "Local Date:"
       ]
      },
      {
       "output_type": "stream",
       "stream": "stdout",
       "text": [
        " Sun, 22 Feb 2015 21:03:27\n",
        "Local Date:"
       ]
      },
      {
       "output_type": "stream",
       "stream": "stdout",
       "text": [
        " Sun, 22 Feb 2015 22:23:43\n",
        "Local Date:"
       ]
      },
      {
       "output_type": "stream",
       "stream": "stdout",
       "text": [
        " Sun, 22 Feb 2015 22:25:10\n",
        "Local Date:"
       ]
      },
      {
       "output_type": "stream",
       "stream": "stdout",
       "text": [
        " Mon, 23 Feb 2015 08:04:39\n",
        "Local Date:"
       ]
      },
      {
       "output_type": "stream",
       "stream": "stdout",
       "text": [
        " Mon, 23 Feb 2015 08:47:50\n",
        "Local Date:"
       ]
      },
      {
       "output_type": "stream",
       "stream": "stdout",
       "text": [
        " Mon, 23 Feb 2015 09:07:03\n",
        "Local Date:"
       ]
      },
      {
       "output_type": "stream",
       "stream": "stdout",
       "text": [
        " Mon, 23 Feb 2015 09:11:54\n",
        "Local Date:"
       ]
      },
      {
       "output_type": "stream",
       "stream": "stdout",
       "text": [
        " Mon, 23 Feb 2015 09:20:07\n",
        "Local Date:"
       ]
      },
      {
       "output_type": "stream",
       "stream": "stdout",
       "text": [
        " Mon, 23 Feb 2015 09:35:21\n",
        "Local Date:"
       ]
      },
      {
       "output_type": "stream",
       "stream": "stdout",
       "text": [
        " Mon, 23 Feb 2015 09:44:58\n",
        "Local Date:"
       ]
      },
      {
       "output_type": "stream",
       "stream": "stdout",
       "text": [
        " Mon, 23 Feb 2015 09:59:27\n",
        "Local Date:"
       ]
      },
      {
       "output_type": "stream",
       "stream": "stdout",
       "text": [
        " Mon, 23 Feb 2015 10:10:02\n",
        "Local Date:"
       ]
      },
      {
       "output_type": "stream",
       "stream": "stdout",
       "text": [
        " Mon, 23 Feb 2015 10:12:00\n",
        "Local Date:"
       ]
      },
      {
       "output_type": "stream",
       "stream": "stdout",
       "text": [
        " Mon, 23 Feb 2015 10:27:31\n",
        "Local Date:"
       ]
      },
      {
       "output_type": "stream",
       "stream": "stdout",
       "text": [
        " Mon, 23 Feb 2015 11:39:51\n",
        "Local Date:"
       ]
      },
      {
       "output_type": "stream",
       "stream": "stdout",
       "text": [
        " Mon, 23 Feb 2015 11:40:25\n",
        "Local Date:"
       ]
      },
      {
       "output_type": "stream",
       "stream": "stdout",
       "text": [
        " Mon, 23 Feb 2015 11:52:01\n",
        "Local Date:"
       ]
      },
      {
       "output_type": "stream",
       "stream": "stdout",
       "text": [
        " Mon, 23 Feb 2015 13:15:26\n",
        "Local Date:"
       ]
      },
      {
       "output_type": "stream",
       "stream": "stdout",
       "text": [
        " Mon, 23 Feb 2015 13:26:58\n",
        "Local Date:"
       ]
      },
      {
       "output_type": "stream",
       "stream": "stdout",
       "text": [
        " Mon, 23 Feb 2015 13:52:12\n",
        "Local Date:"
       ]
      },
      {
       "output_type": "stream",
       "stream": "stdout",
       "text": [
        " Mon, 23 Feb 2015 13:58:37\n",
        "Local Date:"
       ]
      },
      {
       "output_type": "stream",
       "stream": "stdout",
       "text": [
        " Mon, 23 Feb 2015 14:06:56\n",
        "Local Date:"
       ]
      },
      {
       "output_type": "stream",
       "stream": "stdout",
       "text": [
        " Mon, 23 Feb 2015 14:08:18\n",
        "Local Date:"
       ]
      },
      {
       "output_type": "stream",
       "stream": "stdout",
       "text": [
        " Mon, 23 Feb 2015 14:43:01\n",
        "Local Date:"
       ]
      },
      {
       "output_type": "stream",
       "stream": "stdout",
       "text": [
        " Mon, 23 Feb 2015 14:45:00\n",
        "Local Date:"
       ]
      },
      {
       "output_type": "stream",
       "stream": "stdout",
       "text": [
        " Mon, 23 Feb 2015 14:46:00\n",
        "Local Date:"
       ]
      },
      {
       "output_type": "stream",
       "stream": "stdout",
       "text": [
        " Mon, 23 Feb 2015 14:49:00\n",
        "Local Date:"
       ]
      },
      {
       "output_type": "stream",
       "stream": "stdout",
       "text": [
        " Mon, 23 Feb 2015 14:50:01\n",
        "Local Date:"
       ]
      },
      {
       "output_type": "stream",
       "stream": "stdout",
       "text": [
        " Mon, 23 Feb 2015 14:52:01\n",
        "Local Date:"
       ]
      },
      {
       "output_type": "stream",
       "stream": "stdout",
       "text": [
        " Mon, 23 Feb 2015 14:52:01\n",
        "Local Date:"
       ]
      },
      {
       "output_type": "stream",
       "stream": "stdout",
       "text": [
        " Mon, 23 Feb 2015 14:53:00\n",
        "Local Date:"
       ]
      },
      {
       "output_type": "stream",
       "stream": "stdout",
       "text": [
        " Mon, 23 Feb 2015 14:54:00\n",
        "Local Date:"
       ]
      },
      {
       "output_type": "stream",
       "stream": "stdout",
       "text": [
        " Mon, 23 Feb 2015 14:55:00\n",
        "Local Date:"
       ]
      },
      {
       "output_type": "stream",
       "stream": "stdout",
       "text": [
        " Mon, 23 Feb 2015 14:56:00\n",
        "Local Date:"
       ]
      },
      {
       "output_type": "stream",
       "stream": "stdout",
       "text": [
        " Mon, 23 Feb 2015 14:57:00\n",
        "Local Date:"
       ]
      },
      {
       "output_type": "stream",
       "stream": "stdout",
       "text": [
        " Mon, 23 Feb 2015 14:59:00\n",
        "Local Date:"
       ]
      },
      {
       "output_type": "stream",
       "stream": "stdout",
       "text": [
        " Mon, 23 Feb 2015 15:26:35\n",
        "Local Date:"
       ]
      },
      {
       "output_type": "stream",
       "stream": "stdout",
       "text": [
        " Mon, 23 Feb 2015 16:18:20\n",
        "Local Date:"
       ]
      },
      {
       "output_type": "stream",
       "stream": "stdout",
       "text": [
        " Mon, 23 Feb 2015 16:23:24\n",
        "Local Date:"
       ]
      },
      {
       "output_type": "stream",
       "stream": "stdout",
       "text": [
        " Mon, 23 Feb 2015 16:41:43\n",
        "Local Date:"
       ]
      },
      {
       "output_type": "stream",
       "stream": "stdout",
       "text": [
        " Mon, 23 Feb 2015 16:46:17\n",
        "Local Date:"
       ]
      },
      {
       "output_type": "stream",
       "stream": "stdout",
       "text": [
        " Mon, 23 Feb 2015 18:28:45\n",
        "Local Date:"
       ]
      },
      {
       "output_type": "stream",
       "stream": "stdout",
       "text": [
        " Mon, 23 Feb 2015 19:12:04\n",
        "Local Date:"
       ]
      },
      {
       "output_type": "stream",
       "stream": "stdout",
       "text": [
        " Mon, 23 Feb 2015 19:28:12\n",
        "Local Date:"
       ]
      },
      {
       "output_type": "stream",
       "stream": "stdout",
       "text": [
        " Mon, 23 Feb 2015 19:32:58\n",
        "Local Date:"
       ]
      },
      {
       "output_type": "stream",
       "stream": "stdout",
       "text": [
        " Mon, 23 Feb 2015 21:22:05\n",
        "Local Date:"
       ]
      },
      {
       "output_type": "stream",
       "stream": "stdout",
       "text": [
        " Tue, 24 Feb 2015 05:53:34\n",
        "Local Date:"
       ]
      },
      {
       "output_type": "stream",
       "stream": "stdout",
       "text": [
        " Tue, 24 Feb 2015 07:54:18\n",
        "Local Date:"
       ]
      },
      {
       "output_type": "stream",
       "stream": "stdout",
       "text": [
        " Tue, 24 Feb 2015 08:27:27\n",
        "Local Date:"
       ]
      },
      {
       "output_type": "stream",
       "stream": "stdout",
       "text": [
        " Tue, 24 Feb 2015 08:44:13\n",
        "Local Date:"
       ]
      },
      {
       "output_type": "stream",
       "stream": "stdout",
       "text": [
        " Tue, 24 Feb 2015 08:42:29\n",
        "Local Date:"
       ]
      },
      {
       "output_type": "stream",
       "stream": "stdout",
       "text": [
        " Tue, 24 Feb 2015 09:00:44\n",
        "Local Date:"
       ]
      },
      {
       "output_type": "stream",
       "stream": "stdout",
       "text": [
        " Tue, 24 Feb 2015 09:04:44\n",
        "Local Date:"
       ]
      },
      {
       "output_type": "stream",
       "stream": "stdout",
       "text": [
        " Tue, 24 Feb 2015 09:19:00\n",
        "Local Date:"
       ]
      },
      {
       "output_type": "stream",
       "stream": "stdout",
       "text": [
        " Tue, 24 Feb 2015 09:20:01\n",
        "Local Date:"
       ]
      },
      {
       "output_type": "stream",
       "stream": "stdout",
       "text": [
        " Tue, 24 Feb 2015 09:20:01\n",
        "Local Date:"
       ]
      },
      {
       "output_type": "stream",
       "stream": "stdout",
       "text": [
        " Tue, 24 Feb 2015 09:22:00\n",
        "Local Date:"
       ]
      },
      {
       "output_type": "stream",
       "stream": "stdout",
       "text": [
        " Tue, 24 Feb 2015 09:23:01\n",
        "Local Date:"
       ]
      },
      {
       "output_type": "stream",
       "stream": "stdout",
       "text": [
        " Tue, 24 Feb 2015 10:05:01\n",
        "Local Date:"
       ]
      },
      {
       "output_type": "stream",
       "stream": "stdout",
       "text": [
        " Tue, 24 Feb 2015 10:05:01\n",
        "Local Date:"
       ]
      },
      {
       "output_type": "stream",
       "stream": "stdout",
       "text": [
        " Tue, 24 Feb 2015 10:08:00\n",
        "Local Date:"
       ]
      },
      {
       "output_type": "stream",
       "stream": "stdout",
       "text": [
        " Tue, 24 Feb 2015 10:08:00\n",
        "Local Date:"
       ]
      },
      {
       "output_type": "stream",
       "stream": "stdout",
       "text": [
        " Tue, 24 Feb 2015 10:28:15\n",
        "Local Date:"
       ]
      },
      {
       "output_type": "stream",
       "stream": "stdout",
       "text": [
        " Tue, 24 Feb 2015 10:59:27\n",
        "Local Date:"
       ]
      },
      {
       "output_type": "stream",
       "stream": "stdout",
       "text": [
        " Tue, 24 Feb 2015 11:03:20\n",
        "Local Date:"
       ]
      },
      {
       "output_type": "stream",
       "stream": "stdout",
       "text": [
        " Tue, 24 Feb 2015 11:16:48\n",
        "Local Date:"
       ]
      },
      {
       "output_type": "stream",
       "stream": "stdout",
       "text": [
        " Tue, 24 Feb 2015 11:27:25\n",
        "Local Date:"
       ]
      },
      {
       "output_type": "stream",
       "stream": "stdout",
       "text": [
        " Tue, 24 Feb 2015 11:54:11\n",
        "Local Date:"
       ]
      },
      {
       "output_type": "stream",
       "stream": "stdout",
       "text": [
        " Tue, 24 Feb 2015 13:02:09\n",
        "Local Date:"
       ]
      },
      {
       "output_type": "stream",
       "stream": "stdout",
       "text": [
        " Tue, 24 Feb 2015 13:07:45\n",
        "Local Date:"
       ]
      },
      {
       "output_type": "stream",
       "stream": "stdout",
       "text": [
        " Tue, 24 Feb 2015 13:29:41\n",
        "Local Date:"
       ]
      },
      {
       "output_type": "stream",
       "stream": "stdout",
       "text": [
        " Tue, 24 Feb 2015 13:40:00\n",
        "Local Date:"
       ]
      },
      {
       "output_type": "stream",
       "stream": "stdout",
       "text": [
        " Tue, 24 Feb 2015 13:45:08\n",
        "Local Date:"
       ]
      },
      {
       "output_type": "stream",
       "stream": "stdout",
       "text": [
        " Tue, 24 Feb 2015 14:07:28\n",
        "Local Date:"
       ]
      },
      {
       "output_type": "stream",
       "stream": "stdout",
       "text": [
        " Tue, 24 Feb 2015 14:16:04\n",
        "Local Date:"
       ]
      },
      {
       "output_type": "stream",
       "stream": "stdout",
       "text": [
        " Tue, 24 Feb 2015 14:18:43\n",
        "Local Date:"
       ]
      },
      {
       "output_type": "stream",
       "stream": "stdout",
       "text": [
        " Tue, 24 Feb 2015 14:21:02\n",
        "Local Date:"
       ]
      },
      {
       "output_type": "stream",
       "stream": "stdout",
       "text": [
        " Tue, 24 Feb 2015 14:51:40\n",
        "Local Date:"
       ]
      },
      {
       "output_type": "stream",
       "stream": "stdout",
       "text": [
        " Tue, 24 Feb 2015 15:05:21\n",
        "Local Date:"
       ]
      },
      {
       "output_type": "stream",
       "stream": "stdout",
       "text": [
        " Tue, 24 Feb 2015 15:11:47\n",
        "Local Date:"
       ]
      },
      {
       "output_type": "stream",
       "stream": "stdout",
       "text": [
        " Tue, 24 Feb 2015 15:31:34\n",
        "Local Date:"
       ]
      },
      {
       "output_type": "stream",
       "stream": "stdout",
       "text": [
        " Tue, 24 Feb 2015 16:19:15\n",
        "Local Date:"
       ]
      },
      {
       "output_type": "stream",
       "stream": "stdout",
       "text": [
        " Tue, 24 Feb 2015 16:19:28\n",
        "Local Date:"
       ]
      },
      {
       "output_type": "stream",
       "stream": "stdout",
       "text": [
        " Tue, 24 Feb 2015 16:40:12\n",
        "Local Date:"
       ]
      },
      {
       "output_type": "stream",
       "stream": "stdout",
       "text": [
        " Tue, 24 Feb 2015 16:43:28\n",
        "Local Date:"
       ]
      },
      {
       "output_type": "stream",
       "stream": "stdout",
       "text": [
        " Tue, 24 Feb 2015 17:24:57\n",
        "Local Date:"
       ]
      },
      {
       "output_type": "stream",
       "stream": "stdout",
       "text": [
        " Tue, 24 Feb 2015 17:55:43\n",
        "Local Date:"
       ]
      },
      {
       "output_type": "stream",
       "stream": "stdout",
       "text": [
        " Tue, 24 Feb 2015 18:07:09\n",
        "Local Date:"
       ]
      },
      {
       "output_type": "stream",
       "stream": "stdout",
       "text": [
        " Tue, 24 Feb 2015 19:04:09\n",
        "Local Date:"
       ]
      },
      {
       "output_type": "stream",
       "stream": "stdout",
       "text": [
        " Tue, 24 Feb 2015 19:59:36\n",
        "Local Date:"
       ]
      },
      {
       "output_type": "stream",
       "stream": "stdout",
       "text": [
        " Tue, 24 Feb 2015 21:47:02\n",
        "Local Date:"
       ]
      },
      {
       "output_type": "stream",
       "stream": "stdout",
       "text": [
        " Tue, 24 Feb 2015 22:37:17\n",
        "Local Date:"
       ]
      },
      {
       "output_type": "stream",
       "stream": "stdout",
       "text": [
        " Tue, 24 Feb 2015 22:55:22\n",
        "Local Date:"
       ]
      },
      {
       "output_type": "stream",
       "stream": "stdout",
       "text": [
        " Wed, 25 Feb 2015 00:01:35\n",
        "Local Date:"
       ]
      },
      {
       "output_type": "stream",
       "stream": "stdout",
       "text": [
        " Wed, 25 Feb 2015 07:06:38\n",
        "Local Date:"
       ]
      },
      {
       "output_type": "stream",
       "stream": "stdout",
       "text": [
        " Wed, 25 Feb 2015 08:45:16\n",
        "Local Date:"
       ]
      },
      {
       "output_type": "stream",
       "stream": "stdout",
       "text": [
        " Wed, 25 Feb 2015 08:45:55\n",
        "Local Date:"
       ]
      },
      {
       "output_type": "stream",
       "stream": "stdout",
       "text": [
        " Wed, 25 Feb 2015 08:50:21\n",
        "Local Date:"
       ]
      },
      {
       "output_type": "stream",
       "stream": "stdout",
       "text": [
        " Wed, 25 Feb 2015 08:51:17\n",
        "Local Date:"
       ]
      },
      {
       "output_type": "stream",
       "stream": "stdout",
       "text": [
        " Wed, 25 Feb 2015 09:18:00\n",
        "Local Date:"
       ]
      },
      {
       "output_type": "stream",
       "stream": "stdout",
       "text": [
        " Wed, 25 Feb 2015 09:27:04\n",
        "Local Date:"
       ]
      },
      {
       "output_type": "stream",
       "stream": "stdout",
       "text": [
        " Wed, 25 Feb 2015 09:28:54\n",
        "Local Date:"
       ]
      },
      {
       "output_type": "stream",
       "stream": "stdout",
       "text": [
        " Wed, 25 Feb 2015 09:49:08\n",
        "Local Date:"
       ]
      },
      {
       "output_type": "stream",
       "stream": "stdout",
       "text": [
        " Wed, 25 Feb 2015 09:50:09\n",
        "Local Date:"
       ]
      },
      {
       "output_type": "stream",
       "stream": "stdout",
       "text": [
        " Wed, 25 Feb 2015 10:00:43\n",
        "Local Date:"
       ]
      },
      {
       "output_type": "stream",
       "stream": "stdout",
       "text": [
        " Wed, 25 Feb 2015 10:28:21\n",
        "Local Date:"
       ]
      },
      {
       "output_type": "stream",
       "stream": "stdout",
       "text": [
        " Wed, 25 Feb 2015 10:40:37\n",
        "Local Date:"
       ]
      },
      {
       "output_type": "stream",
       "stream": "stdout",
       "text": [
        " Wed, 25 Feb 2015 10:41:27\n",
        "Local Date:"
       ]
      },
      {
       "output_type": "stream",
       "stream": "stdout",
       "text": [
        " Wed, 25 Feb 2015 10:47:13\n",
        "Local Date:"
       ]
      },
      {
       "output_type": "stream",
       "stream": "stdout",
       "text": [
        " Wed, 25 Feb 2015 11:11:10\n",
        "Local Date:"
       ]
      },
      {
       "output_type": "stream",
       "stream": "stdout",
       "text": [
        " Wed, 25 Feb 2015 11:30:58\n",
        "Local Date:"
       ]
      },
      {
       "output_type": "stream",
       "stream": "stdout",
       "text": [
        " Wed, 25 Feb 2015 11:39:29\n",
        "Local Date:"
       ]
      },
      {
       "output_type": "stream",
       "stream": "stdout",
       "text": [
        " Wed, 25 Feb 2015 11:46:37\n",
        "Local Date:"
       ]
      },
      {
       "output_type": "stream",
       "stream": "stdout",
       "text": [
        " Wed, 25 Feb 2015 12:35:51\n",
        "Local Date:"
       ]
      },
      {
       "output_type": "stream",
       "stream": "stdout",
       "text": [
        " Wed, 25 Feb 2015 13:46:49\n",
        "Local Date:"
       ]
      },
      {
       "output_type": "stream",
       "stream": "stdout",
       "text": [
        " Wed, 25 Feb 2015 14:07:36\n",
        "Local Date:"
       ]
      },
      {
       "output_type": "stream",
       "stream": "stdout",
       "text": [
        " Wed, 25 Feb 2015 14:09:10\n",
        "Local Date:"
       ]
      },
      {
       "output_type": "stream",
       "stream": "stdout",
       "text": [
        " Wed, 25 Feb 2015 14:13:17\n",
        "Local Date:"
       ]
      },
      {
       "output_type": "stream",
       "stream": "stdout",
       "text": [
        " Wed, 25 Feb 2015 14:14:15\n",
        "Local Date:"
       ]
      },
      {
       "output_type": "stream",
       "stream": "stdout",
       "text": [
        " Wed, 25 Feb 2015 15:31:38\n",
        "Local Date:"
       ]
      },
      {
       "output_type": "stream",
       "stream": "stdout",
       "text": [
        " Wed, 25 Feb 2015 16:06:52\n",
        "Local Date:"
       ]
      },
      {
       "output_type": "stream",
       "stream": "stdout",
       "text": [
        " Wed, 25 Feb 2015 16:17:49\n",
        "Local Date:"
       ]
      },
      {
       "output_type": "stream",
       "stream": "stdout",
       "text": [
        " Wed, 25 Feb 2015 16:43:39\n",
        "Local Date:"
       ]
      },
      {
       "output_type": "stream",
       "stream": "stdout",
       "text": [
        " Wed, 25 Feb 2015 17:01:16\n",
        "Local Date:"
       ]
      },
      {
       "output_type": "stream",
       "stream": "stdout",
       "text": [
        " Wed, 25 Feb 2015 17:02:36\n",
        "Local Date:"
       ]
      },
      {
       "output_type": "stream",
       "stream": "stdout",
       "text": [
        " Wed, 25 Feb 2015 20:56:53\n",
        "Local Date:"
       ]
      },
      {
       "output_type": "stream",
       "stream": "stdout",
       "text": [
        " Wed, 25 Feb 2015 21:41:13\n",
        "Local Date:"
       ]
      },
      {
       "output_type": "stream",
       "stream": "stdout",
       "text": [
        " Thu, 26 Feb 2015 00:04:31\n",
        "Local Date:"
       ]
      },
      {
       "output_type": "stream",
       "stream": "stdout",
       "text": [
        " Thu, 26 Feb 2015 00:23:33\n",
        "Local Date:"
       ]
      },
      {
       "output_type": "stream",
       "stream": "stdout",
       "text": [
        " Thu, 26 Feb 2015 08:49:01\n",
        "Local Date:"
       ]
      },
      {
       "output_type": "stream",
       "stream": "stdout",
       "text": [
        " Thu, 26 Feb 2015 09:22:00\n",
        "Local Date:"
       ]
      },
      {
       "output_type": "stream",
       "stream": "stdout",
       "text": [
        " Thu, 26 Feb 2015 09:23:35\n",
        "Local Date:"
       ]
      },
      {
       "output_type": "stream",
       "stream": "stdout",
       "text": [
        " Thu, 26 Feb 2015 10:40:03\n",
        "Local Date:"
       ]
      },
      {
       "output_type": "stream",
       "stream": "stdout",
       "text": [
        " Thu, 26 Feb 2015 10:40:03\n",
        "Local Date:"
       ]
      },
      {
       "output_type": "stream",
       "stream": "stdout",
       "text": [
        " Thu, 26 Feb 2015 10:40:04\n",
        "Local Date:"
       ]
      },
      {
       "output_type": "stream",
       "stream": "stdout",
       "text": [
        " Thu, 26 Feb 2015 10:40:04\n",
        "Local Date:"
       ]
      },
      {
       "output_type": "stream",
       "stream": "stdout",
       "text": [
        " Thu, 26 Feb 2015 10:40:04\n",
        "Local Date:"
       ]
      },
      {
       "output_type": "stream",
       "stream": "stdout",
       "text": [
        " Thu, 26 Feb 2015 11:03:04\n",
        "Local Date:"
       ]
      },
      {
       "output_type": "stream",
       "stream": "stdout",
       "text": [
        " Thu, 26 Feb 2015 11:16:13\n",
        "Local Date:"
       ]
      },
      {
       "output_type": "stream",
       "stream": "stdout",
       "text": [
        " Thu, 26 Feb 2015 11:21:53\n",
        "Local Date:"
       ]
      },
      {
       "output_type": "stream",
       "stream": "stdout",
       "text": [
        " Thu, 26 Feb 2015 11:43:33\n",
        "Local Date:"
       ]
      },
      {
       "output_type": "stream",
       "stream": "stdout",
       "text": [
        " Thu, 26 Feb 2015 11:48:02\n",
        "Local Date:"
       ]
      },
      {
       "output_type": "stream",
       "stream": "stdout",
       "text": [
        " Thu, 26 Feb 2015 13:08:01\n",
        "Local Date:"
       ]
      },
      {
       "output_type": "stream",
       "stream": "stdout",
       "text": [
        " Thu, 26 Feb 2015 14:32:52\n",
        "Local Date:"
       ]
      },
      {
       "output_type": "stream",
       "stream": "stdout",
       "text": [
        " Thu, 26 Feb 2015 15:20:10\n",
        "Local Date:"
       ]
      },
      {
       "output_type": "stream",
       "stream": "stdout",
       "text": [
        " Thu, 26 Feb 2015 16:37:09\n",
        "Local Date:"
       ]
      },
      {
       "output_type": "stream",
       "stream": "stdout",
       "text": [
        " Thu, 26 Feb 2015 20:35:26\n",
        "Local Date:"
       ]
      },
      {
       "output_type": "stream",
       "stream": "stdout",
       "text": [
        " Thu, 26 Feb 2015 20:53:22\n",
        "Local Date:"
       ]
      },
      {
       "output_type": "stream",
       "stream": "stdout",
       "text": [
        " Thu, 26 Feb 2015 21:54:12\n",
        "Local Date:"
       ]
      },
      {
       "output_type": "stream",
       "stream": "stdout",
       "text": [
        " Thu, 26 Feb 2015 21:59:26\n",
        "Local Date:"
       ]
      },
      {
       "output_type": "stream",
       "stream": "stdout",
       "text": [
        " Fri, 27 Feb 2015 04:14:11\n",
        "Local Date:"
       ]
      },
      {
       "output_type": "stream",
       "stream": "stdout",
       "text": [
        " Fri, 27 Feb 2015 07:41:00\n",
        "Local Date:"
       ]
      },
      {
       "output_type": "stream",
       "stream": "stdout",
       "text": [
        " Fri, 27 Feb 2015 07:47:10\n",
        "Local Date:"
       ]
      },
      {
       "output_type": "stream",
       "stream": "stdout",
       "text": [
        " Fri, 27 Feb 2015 08:34:24\n",
        "Local Date:"
       ]
      },
      {
       "output_type": "stream",
       "stream": "stdout",
       "text": [
        " Fri, 27 Feb 2015 09:54:05\n",
        "Local Date:"
       ]
      },
      {
       "output_type": "stream",
       "stream": "stdout",
       "text": [
        " Fri, 27 Feb 2015 10:20:31\n",
        "Local Date:"
       ]
      },
      {
       "output_type": "stream",
       "stream": "stdout",
       "text": [
        " Fri, 27 Feb 2015 11:23:49\n",
        "Local Date:"
       ]
      },
      {
       "output_type": "stream",
       "stream": "stdout",
       "text": [
        " Fri, 27 Feb 2015 14:30:57\n",
        "Local Date:"
       ]
      },
      {
       "output_type": "stream",
       "stream": "stdout",
       "text": [
        " Fri, 27 Feb 2015 16:18:47\n",
        "Local Date:"
       ]
      },
      {
       "output_type": "stream",
       "stream": "stdout",
       "text": [
        " Fri, 27 Feb 2015 16:25:26\n",
        "Local Date:"
       ]
      },
      {
       "output_type": "stream",
       "stream": "stdout",
       "text": [
        " Fri, 27 Feb 2015 18:04:13\n",
        "Local Date:"
       ]
      },
      {
       "output_type": "stream",
       "stream": "stdout",
       "text": [
        " Fri, 27 Feb 2015 18:41:50\n",
        "Local Date:"
       ]
      },
      {
       "output_type": "stream",
       "stream": "stdout",
       "text": [
        " Sat, 28 Feb 2015 08:25:40\n",
        "Local Date:"
       ]
      },
      {
       "output_type": "stream",
       "stream": "stdout",
       "text": [
        " Sat, 28 Feb 2015 08:45:40\n",
        "Local Date:"
       ]
      },
      {
       "output_type": "stream",
       "stream": "stdout",
       "text": [
        " Sat, 28 Feb 2015 12:27:22\n",
        "Local Date:"
       ]
      },
      {
       "output_type": "stream",
       "stream": "stdout",
       "text": [
        " Sun, 01 Mar 2015 08:55:19\n",
        "Local Date:"
       ]
      },
      {
       "output_type": "stream",
       "stream": "stdout",
       "text": [
        " Sun, 01 Mar 2015 09:57:56\n",
        "Local Date:"
       ]
      },
      {
       "output_type": "stream",
       "stream": "stdout",
       "text": [
        " Sun, 01 Mar 2015 10:11:01\n",
        "Local Date:"
       ]
      },
      {
       "output_type": "stream",
       "stream": "stdout",
       "text": [
        " Sun, 01 Mar 2015 10:47:17\n",
        "Local Date:"
       ]
      },
      {
       "output_type": "stream",
       "stream": "stdout",
       "text": [
        " Sun, 01 Mar 2015 10:58:01\n",
        "Local Date:"
       ]
      },
      {
       "output_type": "stream",
       "stream": "stdout",
       "text": [
        " Sun, 01 Mar 2015 12:43:06\n",
        "Local Date:"
       ]
      },
      {
       "output_type": "stream",
       "stream": "stdout",
       "text": [
        " Sun, 01 Mar 2015 13:30:33\n",
        "Local Date:"
       ]
      },
      {
       "output_type": "stream",
       "stream": "stdout",
       "text": [
        " Sun, 01 Mar 2015 13:38:03\n",
        "Local Date:"
       ]
      },
      {
       "output_type": "stream",
       "stream": "stdout",
       "text": [
        " Sun, 01 Mar 2015 14:08:32\n",
        "Local Date:"
       ]
      },
      {
       "output_type": "stream",
       "stream": "stdout",
       "text": [
        " Sun, 01 Mar 2015 14:31:59\n",
        "Local Date:"
       ]
      },
      {
       "output_type": "stream",
       "stream": "stdout",
       "text": [
        " Sun, 01 Mar 2015 19:41:31\n",
        "Local Date:"
       ]
      },
      {
       "output_type": "stream",
       "stream": "stdout",
       "text": [
        " Sun, 01 Mar 2015 19:45:34\n",
        "Local Date:"
       ]
      },
      {
       "output_type": "stream",
       "stream": "stdout",
       "text": [
        " Sun, 01 Mar 2015 19:52:06\n",
        "Local Date:"
       ]
      },
      {
       "output_type": "stream",
       "stream": "stdout",
       "text": [
        " Sun, 01 Mar 2015 20:13:46\n",
        "Local Date:"
       ]
      },
      {
       "output_type": "stream",
       "stream": "stdout",
       "text": [
        " Sun, 01 Mar 2015 21:00:55\n",
        "Local Date:"
       ]
      },
      {
       "output_type": "stream",
       "stream": "stdout",
       "text": [
        " Sun, 01 Mar 2015 21:57:38\n",
        "Local Date:"
       ]
      },
      {
       "output_type": "stream",
       "stream": "stdout",
       "text": [
        " Sun, 01 Mar 2015 22:14:37\n",
        "Local Date:"
       ]
      },
      {
       "output_type": "stream",
       "stream": "stdout",
       "text": [
        " Sun, 01 Mar 2015 22:26:51\n",
        "Local Date:"
       ]
      },
      {
       "output_type": "stream",
       "stream": "stdout",
       "text": [
        " Sun, 01 Mar 2015 22:41:54\n",
        "Local Date:"
       ]
      },
      {
       "output_type": "stream",
       "stream": "stdout",
       "text": [
        " Sun, 01 Mar 2015 22:49:12\n",
        "Local Date:"
       ]
      },
      {
       "output_type": "stream",
       "stream": "stdout",
       "text": [
        " Mon, 02 Mar 2015 08:01:17\n",
        "Local Date:"
       ]
      },
      {
       "output_type": "stream",
       "stream": "stdout",
       "text": [
        " Mon, 02 Mar 2015 08:00:38\n",
        "Local Date:"
       ]
      },
      {
       "output_type": "stream",
       "stream": "stdout",
       "text": [
        " Mon, 02 Mar 2015 08:31:56\n",
        "Local Date:"
       ]
      },
      {
       "output_type": "stream",
       "stream": "stdout",
       "text": [
        " Mon, 02 Mar 2015 08:45:22\n",
        "Local Date:"
       ]
      },
      {
       "output_type": "stream",
       "stream": "stdout",
       "text": [
        " Mon, 02 Mar 2015 08:48:08\n",
        "Local Date:"
       ]
      },
      {
       "output_type": "stream",
       "stream": "stdout",
       "text": [
        " Mon, 02 Mar 2015 09:43:56\n",
        "Local Date:"
       ]
      },
      {
       "output_type": "stream",
       "stream": "stdout",
       "text": [
        " Mon, 02 Mar 2015 10:05:00\n",
        "Local Date:"
       ]
      },
      {
       "output_type": "stream",
       "stream": "stdout",
       "text": [
        " Mon, 02 Mar 2015 10:16:40\n",
        "Local Date:"
       ]
      },
      {
       "output_type": "stream",
       "stream": "stdout",
       "text": [
        " Mon, 02 Mar 2015 10:52:44\n",
        "Local Date:"
       ]
      },
      {
       "output_type": "stream",
       "stream": "stdout",
       "text": [
        " Mon, 02 Mar 2015 10:53:21\n",
        "Local Date:"
       ]
      },
      {
       "output_type": "stream",
       "stream": "stdout",
       "text": [
        " Mon, 02 Mar 2015 11:31:29\n",
        "Local Date:"
       ]
      },
      {
       "output_type": "stream",
       "stream": "stdout",
       "text": [
        " Mon, 02 Mar 2015 11:36:39\n",
        "Local Date:"
       ]
      },
      {
       "output_type": "stream",
       "stream": "stdout",
       "text": [
        " Mon, 02 Mar 2015 13:44:54\n",
        "Local Date:"
       ]
      },
      {
       "output_type": "stream",
       "stream": "stdout",
       "text": [
        " Mon, 02 Mar 2015 14:17:12\n",
        "Local Date:"
       ]
      },
      {
       "output_type": "stream",
       "stream": "stdout",
       "text": [
        " Mon, 02 Mar 2015 14:18:11\n",
        "Local Date:"
       ]
      },
      {
       "output_type": "stream",
       "stream": "stdout",
       "text": [
        " Mon, 02 Mar 2015 14:50:55\n",
        "Local Date:"
       ]
      },
      {
       "output_type": "stream",
       "stream": "stdout",
       "text": [
        " Mon, 02 Mar 2015 14:51:47\n",
        "Local Date:"
       ]
      },
      {
       "output_type": "stream",
       "stream": "stdout",
       "text": [
        " Mon, 02 Mar 2015 14:57:44\n",
        "Local Date:"
       ]
      },
      {
       "output_type": "stream",
       "stream": "stdout",
       "text": [
        " Mon, 02 Mar 2015 14:58:09\n",
        "Local Date:"
       ]
      },
      {
       "output_type": "stream",
       "stream": "stdout",
       "text": [
        " Mon, 02 Mar 2015 15:15:22\n",
        "Local Date:"
       ]
      },
      {
       "output_type": "stream",
       "stream": "stdout",
       "text": [
        " Mon, 02 Mar 2015 15:17:22\n",
        "Local Date:"
       ]
      },
      {
       "output_type": "stream",
       "stream": "stdout",
       "text": [
        " Mon, 02 Mar 2015 15:40:22\n",
        "Local Date:"
       ]
      },
      {
       "output_type": "stream",
       "stream": "stdout",
       "text": [
        " Mon, 02 Mar 2015 16:06:00\n",
        "Local Date:"
       ]
      },
      {
       "output_type": "stream",
       "stream": "stdout",
       "text": [
        " Mon, 02 Mar 2015 16:06:00\n",
        "Local Date:"
       ]
      },
      {
       "output_type": "stream",
       "stream": "stdout",
       "text": [
        " Mon, 02 Mar 2015 16:06:00\n",
        "Local Date:"
       ]
      },
      {
       "output_type": "stream",
       "stream": "stdout",
       "text": [
        " Mon, 02 Mar 2015 17:27:12\n",
        "Local Date:"
       ]
      },
      {
       "output_type": "stream",
       "stream": "stdout",
       "text": [
        " Mon, 02 Mar 2015 17:34:18\n",
        "Local Date:"
       ]
      },
      {
       "output_type": "stream",
       "stream": "stdout",
       "text": [
        " Mon, 02 Mar 2015 18:04:49\n",
        "Local Date:"
       ]
      },
      {
       "output_type": "stream",
       "stream": "stdout",
       "text": [
        " Mon, 02 Mar 2015 18:29:01\n",
        "Local Date:"
       ]
      },
      {
       "output_type": "stream",
       "stream": "stdout",
       "text": [
        " Mon, 02 Mar 2015 21:27:56\n",
        "Local Date:"
       ]
      },
      {
       "output_type": "stream",
       "stream": "stdout",
       "text": [
        " Tue, 03 Mar 2015 06:12:11\n",
        "Local Date:"
       ]
      },
      {
       "output_type": "stream",
       "stream": "stdout",
       "text": [
        " Tue, 03 Mar 2015 08:05:28\n",
        "Local Date:"
       ]
      },
      {
       "output_type": "stream",
       "stream": "stdout",
       "text": [
        " Tue, 03 Mar 2015 08:25:49\n",
        "Local Date:"
       ]
      },
      {
       "output_type": "stream",
       "stream": "stdout",
       "text": [
        " Tue, 03 Mar 2015 08:38:11\n",
        "Local Date:"
       ]
      },
      {
       "output_type": "stream",
       "stream": "stdout",
       "text": [
        " Tue, 03 Mar 2015 08:39:02\n",
        "Local Date:"
       ]
      },
      {
       "output_type": "stream",
       "stream": "stdout",
       "text": [
        " Tue, 03 Mar 2015 08:52:08\n",
        "Local Date:"
       ]
      },
      {
       "output_type": "stream",
       "stream": "stdout",
       "text": [
        " Tue, 03 Mar 2015 09:10:52\n",
        "Local Date:"
       ]
      },
      {
       "output_type": "stream",
       "stream": "stdout",
       "text": [
        " Tue, 03 Mar 2015 09:15:56\n",
        "Local Date:"
       ]
      },
      {
       "output_type": "stream",
       "stream": "stdout",
       "text": [
        " Tue, 03 Mar 2015 09:25:39\n",
        "Local Date:"
       ]
      },
      {
       "output_type": "stream",
       "stream": "stdout",
       "text": [
        " Tue, 03 Mar 2015 09:28:01\n",
        "Local Date:"
       ]
      },
      {
       "output_type": "stream",
       "stream": "stdout",
       "text": [
        " Tue, 03 Mar 2015 09:54:06\n",
        "Local Date:"
       ]
      },
      {
       "output_type": "stream",
       "stream": "stdout",
       "text": [
        " Tue, 03 Mar 2015 10:04:31\n",
        "Local Date:"
       ]
      },
      {
       "output_type": "stream",
       "stream": "stdout",
       "text": [
        " Tue, 03 Mar 2015 10:13:00\n",
        "Local Date:"
       ]
      },
      {
       "output_type": "stream",
       "stream": "stdout",
       "text": [
        " Tue, 03 Mar 2015 11:14:37\n",
        "Local Date:"
       ]
      },
      {
       "output_type": "stream",
       "stream": "stdout",
       "text": [
        " Tue, 03 Mar 2015 11:59:04\n",
        "Local Date:"
       ]
      },
      {
       "output_type": "stream",
       "stream": "stdout",
       "text": [
        " Tue, 03 Mar 2015 12:11:04\n",
        "Local Date:"
       ]
      },
      {
       "output_type": "stream",
       "stream": "stdout",
       "text": [
        " Tue, 03 Mar 2015 13:31:04\n",
        "Local Date:"
       ]
      },
      {
       "output_type": "stream",
       "stream": "stdout",
       "text": [
        " Tue, 03 Mar 2015 13:44:02\n",
        "Local Date:"
       ]
      },
      {
       "output_type": "stream",
       "stream": "stdout",
       "text": [
        " Tue, 03 Mar 2015 13:46:24\n",
        "Local Date:"
       ]
      },
      {
       "output_type": "stream",
       "stream": "stdout",
       "text": [
        " Tue, 03 Mar 2015 13:57:57\n",
        "Local Date:"
       ]
      },
      {
       "output_type": "stream",
       "stream": "stdout",
       "text": [
        " Tue, 03 Mar 2015 13:58:07\n",
        "Local Date:"
       ]
      },
      {
       "output_type": "stream",
       "stream": "stdout",
       "text": [
        " Tue, 03 Mar 2015 13:58:52\n",
        "Local Date:"
       ]
      },
      {
       "output_type": "stream",
       "stream": "stdout",
       "text": [
        " Tue, 03 Mar 2015 14:02:01\n",
        "Local Date:"
       ]
      },
      {
       "output_type": "stream",
       "stream": "stdout",
       "text": [
        " Tue, 03 Mar 2015 14:03:00\n",
        "Local Date:"
       ]
      },
      {
       "output_type": "stream",
       "stream": "stdout",
       "text": [
        " Tue, 03 Mar 2015 14:11:07\n",
        "Local Date:"
       ]
      },
      {
       "output_type": "stream",
       "stream": "stdout",
       "text": [
        " Tue, 03 Mar 2015 14:15:01\n",
        "Local Date:"
       ]
      },
      {
       "output_type": "stream",
       "stream": "stdout",
       "text": [
        " Tue, 03 Mar 2015 14:30:01\n",
        "Local Date:"
       ]
      },
      {
       "output_type": "stream",
       "stream": "stdout",
       "text": [
        " Tue, 03 Mar 2015 14:46:12\n",
        "Local Date:"
       ]
      },
      {
       "output_type": "stream",
       "stream": "stdout",
       "text": [
        " Tue, 03 Mar 2015 14:58:11\n",
        "Local Date:"
       ]
      },
      {
       "output_type": "stream",
       "stream": "stdout",
       "text": [
        " Tue, 03 Mar 2015 17:37:02\n",
        "Local Date:"
       ]
      },
      {
       "output_type": "stream",
       "stream": "stdout",
       "text": [
        " Tue, 03 Mar 2015 18:35:48\n",
        "Local Date:"
       ]
      },
      {
       "output_type": "stream",
       "stream": "stdout",
       "text": [
        " Tue, 03 Mar 2015 18:56:44\n",
        "Local Date:"
       ]
      },
      {
       "output_type": "stream",
       "stream": "stdout",
       "text": [
        " Tue, 03 Mar 2015 19:55:43\n",
        "Local Date:"
       ]
      },
      {
       "output_type": "stream",
       "stream": "stdout",
       "text": [
        " Tue, 03 Mar 2015 20:19:34\n",
        "Local Date:"
       ]
      },
      {
       "output_type": "stream",
       "stream": "stdout",
       "text": [
        " Tue, 03 Mar 2015 21:29:54\n",
        "Local Date:"
       ]
      },
      {
       "output_type": "stream",
       "stream": "stdout",
       "text": [
        " Wed, 04 Mar 2015 08:34:43\n",
        "Local Date:"
       ]
      },
      {
       "output_type": "stream",
       "stream": "stdout",
       "text": [
        " Wed, 04 Mar 2015 08:40:45\n",
        "Local Date:"
       ]
      },
      {
       "output_type": "stream",
       "stream": "stdout",
       "text": [
        " Wed, 04 Mar 2015 09:35:01\n",
        "Local Date:"
       ]
      },
      {
       "output_type": "stream",
       "stream": "stdout",
       "text": [
        " Wed, 04 Mar 2015 09:35:13\n",
        "Local Date:"
       ]
      },
      {
       "output_type": "stream",
       "stream": "stdout",
       "text": [
        " Wed, 04 Mar 2015 18:24:23\n",
        "Local Date:"
       ]
      },
      {
       "output_type": "stream",
       "stream": "stdout",
       "text": [
        " Wed, 04 Mar 2015 18:45:53\n",
        "Local Date:"
       ]
      },
      {
       "output_type": "stream",
       "stream": "stdout",
       "text": [
        " Wed, 04 Mar 2015 19:33:08\n",
        "Local Date:"
       ]
      },
      {
       "output_type": "stream",
       "stream": "stdout",
       "text": [
        " Wed, 04 Mar 2015 21:54:40\n",
        "Local Date:"
       ]
      },
      {
       "output_type": "stream",
       "stream": "stdout",
       "text": [
        " Wed, 04 Mar 2015 23:00:00\n",
        "Local Date:"
       ]
      },
      {
       "output_type": "stream",
       "stream": "stdout",
       "text": [
        " Wed, 04 Mar 2015 23:04:19\n",
        "Local Date:"
       ]
      },
      {
       "output_type": "stream",
       "stream": "stdout",
       "text": [
        " Thu, 05 Mar 2015 02:26:50\n",
        "Local Date:"
       ]
      },
      {
       "output_type": "stream",
       "stream": "stdout",
       "text": [
        " Thu, 05 Mar 2015 02:53:28\n",
        "Local Date:"
       ]
      },
      {
       "output_type": "stream",
       "stream": "stdout",
       "text": [
        " Thu, 05 Mar 2015 06:56:20\n",
        "Local Date:"
       ]
      },
      {
       "output_type": "stream",
       "stream": "stdout",
       "text": [
        " Thu, 05 Mar 2015 07:04:52\n",
        "Local Date:"
       ]
      },
      {
       "output_type": "stream",
       "stream": "stdout",
       "text": [
        " Thu, 05 Mar 2015 07:14:27\n",
        "Local Date:"
       ]
      },
      {
       "output_type": "stream",
       "stream": "stdout",
       "text": [
        " Thu, 05 Mar 2015 07:58:00\n",
        "Local Date:"
       ]
      },
      {
       "output_type": "stream",
       "stream": "stdout",
       "text": [
        " Thu, 05 Mar 2015 07:59:49\n",
        "Local Date:"
       ]
      },
      {
       "output_type": "stream",
       "stream": "stdout",
       "text": [
        " Thu, 05 Mar 2015 08:00:44\n",
        "Local Date:"
       ]
      },
      {
       "output_type": "stream",
       "stream": "stdout",
       "text": [
        " Thu, 05 Mar 2015 08:42:20\n",
        "Local Date:"
       ]
      },
      {
       "output_type": "stream",
       "stream": "stdout",
       "text": [
        " Thu, 05 Mar 2015 09:26:41\n",
        "Local Date:"
       ]
      },
      {
       "output_type": "stream",
       "stream": "stdout",
       "text": [
        " Thu, 05 Mar 2015 09:32:23\n",
        "Local Date:"
       ]
      },
      {
       "output_type": "stream",
       "stream": "stdout",
       "text": [
        " Thu, 05 Mar 2015 09:32:57\n",
        "Local Date:"
       ]
      },
      {
       "output_type": "stream",
       "stream": "stdout",
       "text": [
        " Thu, 05 Mar 2015 09:58:21\n",
        "Local Date:"
       ]
      },
      {
       "output_type": "stream",
       "stream": "stdout",
       "text": [
        " Thu, 05 Mar 2015 10:09:14\n",
        "Local Date:"
       ]
      },
      {
       "output_type": "stream",
       "stream": "stdout",
       "text": [
        " Thu, 05 Mar 2015 10:19:13\n",
        "Local Date:"
       ]
      },
      {
       "output_type": "stream",
       "stream": "stdout",
       "text": [
        " Thu, 05 Mar 2015 10:23:39\n",
        "Local Date:"
       ]
      },
      {
       "output_type": "stream",
       "stream": "stdout",
       "text": [
        " Thu, 05 Mar 2015 10:24:55\n",
        "Local Date:"
       ]
      },
      {
       "output_type": "stream",
       "stream": "stdout",
       "text": [
        " Thu, 05 Mar 2015 10:30:06\n",
        "Local Date:"
       ]
      },
      {
       "output_type": "stream",
       "stream": "stdout",
       "text": [
        " Thu, 05 Mar 2015 10:52:01\n",
        "Local Date:"
       ]
      },
      {
       "output_type": "stream",
       "stream": "stdout",
       "text": [
        " Thu, 05 Mar 2015 11:37:49\n",
        "Local Date:"
       ]
      },
      {
       "output_type": "stream",
       "stream": "stdout",
       "text": [
        " Thu, 05 Mar 2015 11:43:18\n",
        "Local Date:"
       ]
      },
      {
       "output_type": "stream",
       "stream": "stdout",
       "text": [
        " Thu, 05 Mar 2015 11:46:03\n",
        "Local Date:"
       ]
      },
      {
       "output_type": "stream",
       "stream": "stdout",
       "text": [
        " Thu, 05 Mar 2015 11:49:51\n",
        "Local Date:"
       ]
      },
      {
       "output_type": "stream",
       "stream": "stdout",
       "text": [
        " Thu, 05 Mar 2015 12:32:03\n",
        "Local Date:"
       ]
      },
      {
       "output_type": "stream",
       "stream": "stdout",
       "text": [
        " Thu, 05 Mar 2015 13:55:03\n",
        "Local Date:"
       ]
      },
      {
       "output_type": "stream",
       "stream": "stdout",
       "text": [
        " Thu, 05 Mar 2015 13:55:03\n",
        "Local Date:"
       ]
      },
      {
       "output_type": "stream",
       "stream": "stdout",
       "text": [
        " Thu, 05 Mar 2015 13:55:03\n",
        "Local Date:"
       ]
      },
      {
       "output_type": "stream",
       "stream": "stdout",
       "text": [
        " Thu, 05 Mar 2015 18:45:08\n",
        "Local Date:"
       ]
      },
      {
       "output_type": "stream",
       "stream": "stdout",
       "text": [
        " Fri, 06 Mar 2015 07:48:16\n",
        "Local Date:"
       ]
      },
      {
       "output_type": "stream",
       "stream": "stdout",
       "text": [
        " Fri, 06 Mar 2015 07:48:11\n",
        "Local Date:"
       ]
      },
      {
       "output_type": "stream",
       "stream": "stdout",
       "text": [
        " Fri, 06 Mar 2015 07:49:34\n",
        "Local Date:"
       ]
      },
      {
       "output_type": "stream",
       "stream": "stdout",
       "text": [
        " Fri, 06 Mar 2015 08:20:17\n",
        "Local Date:"
       ]
      },
      {
       "output_type": "stream",
       "stream": "stdout",
       "text": [
        " Fri, 06 Mar 2015 09:19:00\n",
        "Local Date:"
       ]
      },
      {
       "output_type": "stream",
       "stream": "stdout",
       "text": [
        " Fri, 06 Mar 2015 09:20:00\n",
        "Local Date:"
       ]
      },
      {
       "output_type": "stream",
       "stream": "stdout",
       "text": [
        " Fri, 06 Mar 2015 09:20:03\n",
        "Local Date:"
       ]
      },
      {
       "output_type": "stream",
       "stream": "stdout",
       "text": [
        " Fri, 06 Mar 2015 09:56:20\n",
        "Local Date:"
       ]
      },
      {
       "output_type": "stream",
       "stream": "stdout",
       "text": [
        " Fri, 06 Mar 2015 10:07:28\n",
        "Local Date:"
       ]
      },
      {
       "output_type": "stream",
       "stream": "stdout",
       "text": [
        " Fri, 06 Mar 2015 11:14:37\n",
        "Local Date:"
       ]
      },
      {
       "output_type": "stream",
       "stream": "stdout",
       "text": [
        " Fri, 06 Mar 2015 11:30:43\n",
        "Local Date:"
       ]
      },
      {
       "output_type": "stream",
       "stream": "stdout",
       "text": [
        " Fri, 06 Mar 2015 16:36:03\n",
        "Local Date:"
       ]
      },
      {
       "output_type": "stream",
       "stream": "stdout",
       "text": [
        " Fri, 06 Mar 2015 16:46:15\n",
        "Local Date:"
       ]
      },
      {
       "output_type": "stream",
       "stream": "stdout",
       "text": [
        " Fri, 06 Mar 2015 19:00:02\n",
        "Local Date:"
       ]
      },
      {
       "output_type": "stream",
       "stream": "stdout",
       "text": [
        " Fri, 06 Mar 2015 19:04:47\n",
        "Local Date:"
       ]
      },
      {
       "output_type": "stream",
       "stream": "stdout",
       "text": [
        " Fri, 06 Mar 2015 19:06:28\n",
        "Local Date:"
       ]
      },
      {
       "output_type": "stream",
       "stream": "stdout",
       "text": [
        " Fri, 06 Mar 2015 20:52:44\n",
        "Local Date:"
       ]
      },
      {
       "output_type": "stream",
       "stream": "stdout",
       "text": [
        " Fri, 06 Mar 2015 22:53:58\n",
        "Local Date:"
       ]
      },
      {
       "output_type": "stream",
       "stream": "stdout",
       "text": [
        " Sat, 07 Mar 2015 08:18:46\n",
        "Local Date:"
       ]
      },
      {
       "output_type": "stream",
       "stream": "stdout",
       "text": [
        " Sat, 07 Mar 2015 08:44:02\n",
        "Local Date:"
       ]
      },
      {
       "output_type": "stream",
       "stream": "stdout",
       "text": [
        " Sat, 07 Mar 2015 11:34:37\n",
        "Local Date:"
       ]
      },
      {
       "output_type": "stream",
       "stream": "stdout",
       "text": [
        " Sat, 07 Mar 2015 14:00:22\n",
        "Local Date:"
       ]
      },
      {
       "output_type": "stream",
       "stream": "stdout",
       "text": [
        " Sat, 07 Mar 2015 16:20:00\n",
        "Local Date:"
       ]
      },
      {
       "output_type": "stream",
       "stream": "stdout",
       "text": [
        " Sat, 07 Mar 2015 20:53:28\n",
        "Local Date:"
       ]
      },
      {
       "output_type": "stream",
       "stream": "stdout",
       "text": [
        " Sun, 08 Mar 2015 10:47:53\n",
        "Local Date:"
       ]
      },
      {
       "output_type": "stream",
       "stream": "stdout",
       "text": [
        " Sun, 08 Mar 2015 11:30:59\n",
        "Local Date:"
       ]
      },
      {
       "output_type": "stream",
       "stream": "stdout",
       "text": [
        " Sun, 08 Mar 2015 11:54:24\n",
        "Local Date:"
       ]
      },
      {
       "output_type": "stream",
       "stream": "stdout",
       "text": [
        " Sun, 08 Mar 2015 13:46:45\n",
        "Local Date:"
       ]
      },
      {
       "output_type": "stream",
       "stream": "stdout",
       "text": [
        " Sun, 08 Mar 2015 14:07:14\n",
        "Local Date:"
       ]
      },
      {
       "output_type": "stream",
       "stream": "stdout",
       "text": [
        " Sun, 08 Mar 2015 15:08:43\n",
        "Local Date:"
       ]
      },
      {
       "output_type": "stream",
       "stream": "stdout",
       "text": [
        " Sun, 08 Mar 2015 16:01:46\n",
        "Local Date:"
       ]
      },
      {
       "output_type": "stream",
       "stream": "stdout",
       "text": [
        " Sun, 08 Mar 2015 16:11:46\n",
        "Local Date:"
       ]
      },
      {
       "output_type": "stream",
       "stream": "stdout",
       "text": [
        " Sun, 08 Mar 2015 16:18:59\n",
        "Local Date:"
       ]
      },
      {
       "output_type": "stream",
       "stream": "stdout",
       "text": [
        " Sun, 08 Mar 2015 17:41:54\n",
        "Local Date:"
       ]
      },
      {
       "output_type": "stream",
       "stream": "stdout",
       "text": [
        " Sun, 08 Mar 2015 17:42:49\n",
        "Local Date:"
       ]
      },
      {
       "output_type": "stream",
       "stream": "stdout",
       "text": [
        " Sun, 08 Mar 2015 18:01:07\n",
        "Local Date:"
       ]
      },
      {
       "output_type": "stream",
       "stream": "stdout",
       "text": [
        " Sun, 08 Mar 2015 19:49:03\n",
        "Local Date:"
       ]
      },
      {
       "output_type": "stream",
       "stream": "stdout",
       "text": [
        " Sun, 08 Mar 2015 20:06:52\n",
        "Local Date:"
       ]
      },
      {
       "output_type": "stream",
       "stream": "stdout",
       "text": [
        " Sun, 08 Mar 2015 20:11:51\n",
        "Local Date:"
       ]
      },
      {
       "output_type": "stream",
       "stream": "stdout",
       "text": [
        " Sun, 08 Mar 2015 20:12:25\n",
        "Local Date:"
       ]
      },
      {
       "output_type": "stream",
       "stream": "stdout",
       "text": [
        " Sun, 08 Mar 2015 20:43:33\n",
        "Local Date:"
       ]
      },
      {
       "output_type": "stream",
       "stream": "stdout",
       "text": [
        " Sun, 08 Mar 2015 20:47:20\n",
        "Local Date:"
       ]
      },
      {
       "output_type": "stream",
       "stream": "stdout",
       "text": [
        " Sun, 08 Mar 2015 20:56:29\n",
        "Local Date:"
       ]
      },
      {
       "output_type": "stream",
       "stream": "stdout",
       "text": [
        " Sun, 08 Mar 2015 21:08:03\n",
        "Local Date:"
       ]
      },
      {
       "output_type": "stream",
       "stream": "stdout",
       "text": [
        " Sun, 08 Mar 2015 21:16:03\n",
        "Local Date:"
       ]
      },
      {
       "output_type": "stream",
       "stream": "stdout",
       "text": [
        " Sun, 08 Mar 2015 21:40:43\n",
        "Local Date:"
       ]
      },
      {
       "output_type": "stream",
       "stream": "stdout",
       "text": [
        " Sun, 08 Mar 2015 21:52:00\n",
        "Local Date:"
       ]
      },
      {
       "output_type": "stream",
       "stream": "stdout",
       "text": [
        " Sun, 08 Mar 2015 21:52:35\n",
        "Local Date:"
       ]
      },
      {
       "output_type": "stream",
       "stream": "stdout",
       "text": [
        " Sun, 08 Mar 2015 22:51:32\n",
        "Local Date:"
       ]
      },
      {
       "output_type": "stream",
       "stream": "stdout",
       "text": [
        " Mon, 09 Mar 2015 06:57:43\n",
        "Local Date:"
       ]
      },
      {
       "output_type": "stream",
       "stream": "stdout",
       "text": [
        " Mon, 09 Mar 2015 08:29:16\n",
        "Local Date:"
       ]
      },
      {
       "output_type": "stream",
       "stream": "stdout",
       "text": [
        " Mon, 09 Mar 2015 08:30:05\n",
        "Local Date:"
       ]
      },
      {
       "output_type": "stream",
       "stream": "stdout",
       "text": [
        " Mon, 09 Mar 2015 08:57:01\n",
        "Local Date:"
       ]
      },
      {
       "output_type": "stream",
       "stream": "stdout",
       "text": [
        " Mon, 09 Mar 2015 09:27:40\n",
        "Local Date:"
       ]
      },
      {
       "output_type": "stream",
       "stream": "stdout",
       "text": [
        " Mon, 09 Mar 2015 09:40:22\n",
        "Local Date:"
       ]
      },
      {
       "output_type": "stream",
       "stream": "stdout",
       "text": [
        " Mon, 09 Mar 2015 09:40:34\n",
        "Local Date:"
       ]
      },
      {
       "output_type": "stream",
       "stream": "stdout",
       "text": [
        " Mon, 09 Mar 2015 10:03:00\n",
        "Local Date:"
       ]
      },
      {
       "output_type": "stream",
       "stream": "stdout",
       "text": [
        " Mon, 09 Mar 2015 10:12:00\n",
        "Local Date:"
       ]
      },
      {
       "output_type": "stream",
       "stream": "stdout",
       "text": [
        " Mon, 09 Mar 2015 10:15:00\n",
        "Local Date:"
       ]
      },
      {
       "output_type": "stream",
       "stream": "stdout",
       "text": [
        " Mon, 09 Mar 2015 11:20:50\n",
        "Local Date:"
       ]
      },
      {
       "output_type": "stream",
       "stream": "stdout",
       "text": [
        " Mon, 09 Mar 2015 11:34:18\n",
        "Local Date:"
       ]
      },
      {
       "output_type": "stream",
       "stream": "stdout",
       "text": [
        " Mon, 09 Mar 2015 12:00:22\n",
        "Local Date:"
       ]
      },
      {
       "output_type": "stream",
       "stream": "stdout",
       "text": [
        " Mon, 09 Mar 2015 12:01:16\n",
        "Local Date:"
       ]
      },
      {
       "output_type": "stream",
       "stream": "stdout",
       "text": [
        " Mon, 09 Mar 2015 12:03:19\n",
        "Local Date:"
       ]
      },
      {
       "output_type": "stream",
       "stream": "stdout",
       "text": [
        " Mon, 09 Mar 2015 12:13:00\n",
        "Local Date:"
       ]
      },
      {
       "output_type": "stream",
       "stream": "stdout",
       "text": [
        " Mon, 09 Mar 2015 12:14:17\n",
        "Local Date:"
       ]
      },
      {
       "output_type": "stream",
       "stream": "stdout",
       "text": [
        " Mon, 09 Mar 2015 12:14:30\n",
        "Local Date:"
       ]
      },
      {
       "output_type": "stream",
       "stream": "stdout",
       "text": [
        " Mon, 09 Mar 2015 12:24:29\n",
        "Local Date:"
       ]
      },
      {
       "output_type": "stream",
       "stream": "stdout",
       "text": [
        " Mon, 09 Mar 2015 13:06:25\n",
        "Local Date:"
       ]
      },
      {
       "output_type": "stream",
       "stream": "stdout",
       "text": [
        " Mon, 09 Mar 2015 13:12:29\n",
        "Local Date:"
       ]
      },
      {
       "output_type": "stream",
       "stream": "stdout",
       "text": [
        " Mon, 09 Mar 2015 13:14:59\n",
        "Local Date:"
       ]
      },
      {
       "output_type": "stream",
       "stream": "stdout",
       "text": [
        " Mon, 09 Mar 2015 13:26:25\n",
        "Local Date:"
       ]
      },
      {
       "output_type": "stream",
       "stream": "stdout",
       "text": [
        " Mon, 09 Mar 2015 13:26:49\n",
        "Local Date:"
       ]
      },
      {
       "output_type": "stream",
       "stream": "stdout",
       "text": [
        " Mon, 09 Mar 2015 14:23:05\n",
        "Local Date:"
       ]
      },
      {
       "output_type": "stream",
       "stream": "stdout",
       "text": [
        " Mon, 09 Mar 2015 14:51:54\n",
        "Local Date:"
       ]
      },
      {
       "output_type": "stream",
       "stream": "stdout",
       "text": [
        " Mon, 09 Mar 2015 14:58:25\n",
        "Local Date:"
       ]
      },
      {
       "output_type": "stream",
       "stream": "stdout",
       "text": [
        " Mon, 09 Mar 2015 14:58:53\n",
        "Local Date:"
       ]
      },
      {
       "output_type": "stream",
       "stream": "stdout",
       "text": [
        " Mon, 09 Mar 2015 17:54:52\n",
        "Local Date:"
       ]
      },
      {
       "output_type": "stream",
       "stream": "stdout",
       "text": [
        " Mon, 09 Mar 2015 17:59:50\n",
        "Local Date:"
       ]
      },
      {
       "output_type": "stream",
       "stream": "stdout",
       "text": [
        " Mon, 09 Mar 2015 22:04:15\n",
        "Local Date:"
       ]
      },
      {
       "output_type": "stream",
       "stream": "stdout",
       "text": [
        " Mon, 09 Mar 2015 22:07:59\n",
        "Local Date:"
       ]
      },
      {
       "output_type": "stream",
       "stream": "stdout",
       "text": [
        " Mon, 09 Mar 2015 22:13:50\n",
        "Local Date:"
       ]
      },
      {
       "output_type": "stream",
       "stream": "stdout",
       "text": [
        " Mon, 09 Mar 2015 22:17:19\n",
        "Local Date:"
       ]
      },
      {
       "output_type": "stream",
       "stream": "stdout",
       "text": [
        " Mon, 09 Mar 2015 22:45:46\n",
        "Local Date:"
       ]
      },
      {
       "output_type": "stream",
       "stream": "stdout",
       "text": [
        " Mon, 09 Mar 2015 22:51:25\n",
        "Local Date:"
       ]
      },
      {
       "output_type": "stream",
       "stream": "stdout",
       "text": [
        " Mon, 09 Mar 2015 23:06:08\n",
        "Local Date:"
       ]
      },
      {
       "output_type": "stream",
       "stream": "stdout",
       "text": [
        " Tue, 10 Mar 2015 05:38:02\n",
        "Local Date:"
       ]
      },
      {
       "output_type": "stream",
       "stream": "stdout",
       "text": [
        " Tue, 10 Mar 2015 07:26:42\n",
        "Local Date:"
       ]
      },
      {
       "output_type": "stream",
       "stream": "stdout",
       "text": [
        " Tue, 10 Mar 2015 08:11:49\n",
        "Local Date:"
       ]
      },
      {
       "output_type": "stream",
       "stream": "stdout",
       "text": [
        " Tue, 10 Mar 2015 09:24:05\n",
        "Local Date:"
       ]
      },
      {
       "output_type": "stream",
       "stream": "stdout",
       "text": [
        " Tue, 10 Mar 2015 09:34:01\n",
        "Local Date:"
       ]
      },
      {
       "output_type": "stream",
       "stream": "stdout",
       "text": [
        " Tue, 10 Mar 2015 09:35:54\n",
        "Local Date:"
       ]
      },
      {
       "output_type": "stream",
       "stream": "stdout",
       "text": [
        " Tue, 10 Mar 2015 09:38:17\n",
        "Local Date:"
       ]
      },
      {
       "output_type": "stream",
       "stream": "stdout",
       "text": [
        " Tue, 10 Mar 2015 09:42:06\n",
        "Local Date:"
       ]
      },
      {
       "output_type": "stream",
       "stream": "stdout",
       "text": [
        " Tue, 10 Mar 2015 09:45:50\n",
        "Local Date:"
       ]
      },
      {
       "output_type": "stream",
       "stream": "stdout",
       "text": [
        " Tue, 10 Mar 2015 10:04:00\n",
        "Local Date:"
       ]
      },
      {
       "output_type": "stream",
       "stream": "stdout",
       "text": [
        " Tue, 10 Mar 2015 10:19:01\n",
        "Local Date:"
       ]
      },
      {
       "output_type": "stream",
       "stream": "stdout",
       "text": [
        " Tue, 10 Mar 2015 10:42:00\n",
        "Local Date:"
       ]
      },
      {
       "output_type": "stream",
       "stream": "stdout",
       "text": [
        " Tue, 10 Mar 2015 10:43:00\n",
        "Local Date:"
       ]
      },
      {
       "output_type": "stream",
       "stream": "stdout",
       "text": [
        " Tue, 10 Mar 2015 10:49:23\n",
        "Local Date:"
       ]
      },
      {
       "output_type": "stream",
       "stream": "stdout",
       "text": [
        " Tue, 10 Mar 2015 08:04:34\n",
        "Local Date:"
       ]
      },
      {
       "output_type": "stream",
       "stream": "stdout",
       "text": [
        " Tue, 10 Mar 2015 12:31:45\n",
        "Local Date:"
       ]
      },
      {
       "output_type": "stream",
       "stream": "stdout",
       "text": [
        " Tue, 10 Mar 2015 13:25:52\n",
        "Local Date:"
       ]
      },
      {
       "output_type": "stream",
       "stream": "stdout",
       "text": [
        " Tue, 10 Mar 2015 13:35:02\n",
        "Local Date:"
       ]
      },
      {
       "output_type": "stream",
       "stream": "stdout",
       "text": [
        " Tue, 10 Mar 2015 13:45:20\n",
        "Local Date:"
       ]
      },
      {
       "output_type": "stream",
       "stream": "stdout",
       "text": [
        " Tue, 10 Mar 2015 13:52:18\n",
        "Local Date:"
       ]
      },
      {
       "output_type": "stream",
       "stream": "stdout",
       "text": [
        " Tue, 10 Mar 2015 13:55:22\n",
        "Local Date:"
       ]
      },
      {
       "output_type": "stream",
       "stream": "stdout",
       "text": [
        " Tue, 10 Mar 2015 14:57:46\n",
        "Local Date:"
       ]
      },
      {
       "output_type": "stream",
       "stream": "stdout",
       "text": [
        " Tue, 10 Mar 2015 15:40:15\n",
        "Local Date:"
       ]
      },
      {
       "output_type": "stream",
       "stream": "stdout",
       "text": [
        " Tue, 10 Mar 2015 16:19:00\n",
        "Local Date:"
       ]
      },
      {
       "output_type": "stream",
       "stream": "stdout",
       "text": [
        " Tue, 10 Mar 2015 16:36:31\n",
        "Local Date:"
       ]
      },
      {
       "output_type": "stream",
       "stream": "stdout",
       "text": [
        " Tue, 10 Mar 2015 16:38:52\n",
        "Local Date:"
       ]
      },
      {
       "output_type": "stream",
       "stream": "stdout",
       "text": [
        " Tue, 10 Mar 2015 17:04:08\n",
        "Local Date:"
       ]
      },
      {
       "output_type": "stream",
       "stream": "stdout",
       "text": [
        " Tue, 10 Mar 2015 17:06:18\n",
        "Local Date:"
       ]
      },
      {
       "output_type": "stream",
       "stream": "stdout",
       "text": [
        " Tue, 10 Mar 2015 17:18:16\n",
        "Local Date:"
       ]
      },
      {
       "output_type": "stream",
       "stream": "stdout",
       "text": [
        " Tue, 10 Mar 2015 20:48:46\n",
        "Local Date:"
       ]
      },
      {
       "output_type": "stream",
       "stream": "stdout",
       "text": [
        " Tue, 10 Mar 2015 20:53:44\n",
        "Local Date:"
       ]
      },
      {
       "output_type": "stream",
       "stream": "stdout",
       "text": [
        " Tue, 10 Mar 2015 23:39:27\n",
        "Local Date:"
       ]
      },
      {
       "output_type": "stream",
       "stream": "stdout",
       "text": [
        " Tue, 10 Mar 2015 23:46:28\n",
        "Local Date:"
       ]
      },
      {
       "output_type": "stream",
       "stream": "stdout",
       "text": [
        " Wed, 11 Mar 2015 08:47:58\n",
        "Local Date:"
       ]
      },
      {
       "output_type": "stream",
       "stream": "stdout",
       "text": [
        " Wed, 11 Mar 2015 08:49:23\n",
        "Local Date:"
       ]
      },
      {
       "output_type": "stream",
       "stream": "stdout",
       "text": [
        " Wed, 11 Mar 2015 08:50:09\n",
        "Local Date:"
       ]
      },
      {
       "output_type": "stream",
       "stream": "stdout",
       "text": [
        " Wed, 11 Mar 2015 08:51:05\n",
        "Local Date:"
       ]
      },
      {
       "output_type": "stream",
       "stream": "stdout",
       "text": [
        " Wed, 11 Mar 2015 08:53:45\n",
        "Local Date:"
       ]
      },
      {
       "output_type": "stream",
       "stream": "stdout",
       "text": [
        " Wed, 11 Mar 2015 08:58:54\n",
        "Local Date:"
       ]
      },
      {
       "output_type": "stream",
       "stream": "stdout",
       "text": [
        " Wed, 11 Mar 2015 09:08:28\n",
        "Local Date:"
       ]
      },
      {
       "output_type": "stream",
       "stream": "stdout",
       "text": [
        " Wed, 11 Mar 2015 09:18:55\n",
        "Local Date:"
       ]
      },
      {
       "output_type": "stream",
       "stream": "stdout",
       "text": [
        " Wed, 11 Mar 2015 09:41:01\n",
        "Local Date:"
       ]
      },
      {
       "output_type": "stream",
       "stream": "stdout",
       "text": [
        " Wed, 11 Mar 2015 10:05:00\n",
        "Local Date:"
       ]
      },
      {
       "output_type": "stream",
       "stream": "stdout",
       "text": [
        " Wed, 11 Mar 2015 10:10:44\n",
        "Local Date:"
       ]
      },
      {
       "output_type": "stream",
       "stream": "stdout",
       "text": [
        " Wed, 11 Mar 2015 10:38:57\n",
        "Local Date:"
       ]
      },
      {
       "output_type": "stream",
       "stream": "stdout",
       "text": [
        " Wed, 11 Mar 2015 10:59:55\n",
        "Local Date:"
       ]
      },
      {
       "output_type": "stream",
       "stream": "stdout",
       "text": [
        " Wed, 11 Mar 2015 11:23:19\n",
        "Local Date:"
       ]
      },
      {
       "output_type": "stream",
       "stream": "stdout",
       "text": [
        " Wed, 11 Mar 2015 11:29:38\n",
        "Local Date:"
       ]
      },
      {
       "output_type": "stream",
       "stream": "stdout",
       "text": [
        " Wed, 11 Mar 2015 11:38:29\n",
        "Local Date:"
       ]
      },
      {
       "output_type": "stream",
       "stream": "stdout",
       "text": [
        " Wed, 11 Mar 2015 11:44:46\n",
        "Local Date:"
       ]
      },
      {
       "output_type": "stream",
       "stream": "stdout",
       "text": [
        " Wed, 11 Mar 2015 11:50:30\n",
        "Local Date:"
       ]
      },
      {
       "output_type": "stream",
       "stream": "stdout",
       "text": [
        " Wed, 11 Mar 2015 11:52:55\n",
        "Local Date:"
       ]
      },
      {
       "output_type": "stream",
       "stream": "stdout",
       "text": [
        " Wed, 11 Mar 2015 11:58:01\n",
        "Local Date:"
       ]
      },
      {
       "output_type": "stream",
       "stream": "stdout",
       "text": [
        " Wed, 11 Mar 2015 11:58:34\n",
        "Local Date:"
       ]
      },
      {
       "output_type": "stream",
       "stream": "stdout",
       "text": [
        " Wed, 11 Mar 2015 12:00:20\n",
        "Local Date:"
       ]
      },
      {
       "output_type": "stream",
       "stream": "stdout",
       "text": [
        " Wed, 11 Mar 2015 12:13:45\n",
        "Local Date:"
       ]
      },
      {
       "output_type": "stream",
       "stream": "stdout",
       "text": [
        " Wed, 11 Mar 2015 13:36:27\n",
        "Local Date:"
       ]
      },
      {
       "output_type": "stream",
       "stream": "stdout",
       "text": [
        " Wed, 11 Mar 2015 13:43:41\n",
        "Local Date:"
       ]
      },
      {
       "output_type": "stream",
       "stream": "stdout",
       "text": [
        " Wed, 11 Mar 2015 14:06:56\n",
        "Local Date:"
       ]
      },
      {
       "output_type": "stream",
       "stream": "stdout",
       "text": [
        " Wed, 11 Mar 2015 14:20:13\n",
        "Local Date:"
       ]
      },
      {
       "output_type": "stream",
       "stream": "stdout",
       "text": [
        " Wed, 11 Mar 2015 15:03:00\n",
        "Local Date:"
       ]
      },
      {
       "output_type": "stream",
       "stream": "stdout",
       "text": [
        " Wed, 11 Mar 2015 15:12:02\n",
        "Local Date:"
       ]
      },
      {
       "output_type": "stream",
       "stream": "stdout",
       "text": [
        " Wed, 11 Mar 2015 16:33:35\n",
        "Local Date:"
       ]
      },
      {
       "output_type": "stream",
       "stream": "stdout",
       "text": [
        " Wed, 11 Mar 2015 16:41:40\n",
        "Local Date:"
       ]
      },
      {
       "output_type": "stream",
       "stream": "stdout",
       "text": [
        " Wed, 11 Mar 2015 16:47:29\n",
        "Local Date:"
       ]
      },
      {
       "output_type": "stream",
       "stream": "stdout",
       "text": [
        " Wed, 11 Mar 2015 17:28:44\n",
        "Local Date:"
       ]
      },
      {
       "output_type": "stream",
       "stream": "stdout",
       "text": [
        " Wed, 11 Mar 2015 17:38:33\n",
        "Local Date:"
       ]
      },
      {
       "output_type": "stream",
       "stream": "stdout",
       "text": [
        " Wed, 11 Mar 2015 18:24:45\n",
        "Local Date:"
       ]
      },
      {
       "output_type": "stream",
       "stream": "stdout",
       "text": [
        " Wed, 11 Mar 2015 18:26:44\n",
        "Local Date:"
       ]
      },
      {
       "output_type": "stream",
       "stream": "stdout",
       "text": [
        " Wed, 11 Mar 2015 19:06:59\n",
        "Local Date:"
       ]
      },
      {
       "output_type": "stream",
       "stream": "stdout",
       "text": [
        " Thu, 12 Mar 2015 02:34:35\n",
        "Local Date:"
       ]
      },
      {
       "output_type": "stream",
       "stream": "stdout",
       "text": [
        " Thu, 12 Mar 2015 09:18:00\n",
        "Local Date:"
       ]
      },
      {
       "output_type": "stream",
       "stream": "stdout",
       "text": [
        " Thu, 12 Mar 2015 09:56:43\n",
        "Local Date:"
       ]
      },
      {
       "output_type": "stream",
       "stream": "stdout",
       "text": [
        " Thu, 12 Mar 2015 10:13:00\n",
        "Local Date:"
       ]
      },
      {
       "output_type": "stream",
       "stream": "stdout",
       "text": [
        " Thu, 12 Mar 2015 10:14:00\n",
        "Local Date:"
       ]
      },
      {
       "output_type": "stream",
       "stream": "stdout",
       "text": [
        " Thu, 12 Mar 2015 10:14:50\n",
        "Local Date:"
       ]
      },
      {
       "output_type": "stream",
       "stream": "stdout",
       "text": [
        " Thu, 12 Mar 2015 10:22:10\n",
        "Local Date:"
       ]
      },
      {
       "output_type": "stream",
       "stream": "stdout",
       "text": [
        " Thu, 12 Mar 2015 10:25:05\n",
        "Local Date:"
       ]
      },
      {
       "output_type": "stream",
       "stream": "stdout",
       "text": [
        " Thu, 12 Mar 2015 10:25:04\n",
        "Local Date:"
       ]
      },
      {
       "output_type": "stream",
       "stream": "stdout",
       "text": [
        " Thu, 12 Mar 2015 10:25:05\n",
        "Local Date:"
       ]
      },
      {
       "output_type": "stream",
       "stream": "stdout",
       "text": [
        " Thu, 12 Mar 2015 10:25:05\n",
        "Local Date:"
       ]
      },
      {
       "output_type": "stream",
       "stream": "stdout",
       "text": [
        " Thu, 12 Mar 2015 10:25:05\n",
        "Local Date:"
       ]
      },
      {
       "output_type": "stream",
       "stream": "stdout",
       "text": [
        " Thu, 12 Mar 2015 10:40:18\n",
        "Local Date:"
       ]
      },
      {
       "output_type": "stream",
       "stream": "stdout",
       "text": [
        " Thu, 12 Mar 2015 08:03:17\n",
        "Local Date:"
       ]
      },
      {
       "output_type": "stream",
       "stream": "stdout",
       "text": [
        " Thu, 12 Mar 2015 12:09:54\n",
        "Local Date:"
       ]
      },
      {
       "output_type": "stream",
       "stream": "stdout",
       "text": [
        " Thu, 12 Mar 2015 13:39:00\n",
        "Local Date:"
       ]
      },
      {
       "output_type": "stream",
       "stream": "stdout",
       "text": [
        " Thu, 12 Mar 2015 14:02:25\n",
        "Local Date:"
       ]
      },
      {
       "output_type": "stream",
       "stream": "stdout",
       "text": [
        " Thu, 12 Mar 2015 15:20:57\n",
        "Local Date:"
       ]
      },
      {
       "output_type": "stream",
       "stream": "stdout",
       "text": [
        " Thu, 12 Mar 2015 15:26:24\n",
        "Local Date:"
       ]
      },
      {
       "output_type": "stream",
       "stream": "stdout",
       "text": [
        " Thu, 12 Mar 2015 15:37:41\n",
        "Local Date:"
       ]
      },
      {
       "output_type": "stream",
       "stream": "stdout",
       "text": [
        " Thu, 12 Mar 2015 15:38:44\n",
        "Local Date:"
       ]
      },
      {
       "output_type": "stream",
       "stream": "stdout",
       "text": [
        " Thu, 12 Mar 2015 15:44:30\n",
        "Local Date:"
       ]
      },
      {
       "output_type": "stream",
       "stream": "stdout",
       "text": [
        " Thu, 12 Mar 2015 15:45:05\n",
        "Local Date:"
       ]
      },
      {
       "output_type": "stream",
       "stream": "stdout",
       "text": [
        " Thu, 12 Mar 2015 15:45:46\n",
        "Local Date:"
       ]
      },
      {
       "output_type": "stream",
       "stream": "stdout",
       "text": [
        " Thu, 12 Mar 2015 15:47:22\n",
        "Local Date:"
       ]
      },
      {
       "output_type": "stream",
       "stream": "stdout",
       "text": [
        " Thu, 12 Mar 2015 15:48:48\n",
        "Local Date:"
       ]
      },
      {
       "output_type": "stream",
       "stream": "stdout",
       "text": [
        " Thu, 12 Mar 2015 15:52:32\n",
        "Local Date:"
       ]
      },
      {
       "output_type": "stream",
       "stream": "stdout",
       "text": [
        " Thu, 12 Mar 2015 15:53:36\n",
        "Local Date:"
       ]
      },
      {
       "output_type": "stream",
       "stream": "stdout",
       "text": [
        " Thu, 12 Mar 2015 16:00:08\n",
        "Local Date:"
       ]
      },
      {
       "output_type": "stream",
       "stream": "stdout",
       "text": [
        " Thu, 12 Mar 2015 16:20:05\n",
        "Local Date:"
       ]
      },
      {
       "output_type": "stream",
       "stream": "stdout",
       "text": [
        " Thu, 12 Mar 2015 20:15:48\n",
        "Local Date:"
       ]
      },
      {
       "output_type": "stream",
       "stream": "stdout",
       "text": [
        " Thu, 12 Mar 2015 23:12:47\n",
        "Local Date:"
       ]
      },
      {
       "output_type": "stream",
       "stream": "stdout",
       "text": [
        " Fri, 13 Mar 2015 07:14:18\n",
        "Local Date:"
       ]
      },
      {
       "output_type": "stream",
       "stream": "stdout",
       "text": [
        " Fri, 13 Mar 2015 08:11:21\n",
        "Local Date:"
       ]
      },
      {
       "output_type": "stream",
       "stream": "stdout",
       "text": [
        " Fri, 13 Mar 2015 08:13:16\n",
        "Local Date:"
       ]
      },
      {
       "output_type": "stream",
       "stream": "stdout",
       "text": [
        " Fri, 13 Mar 2015 08:13:35\n",
        "Local Date:"
       ]
      },
      {
       "output_type": "stream",
       "stream": "stdout",
       "text": [
        " Fri, 13 Mar 2015 08:26:41\n",
        "Local Date:"
       ]
      },
      {
       "output_type": "stream",
       "stream": "stdout",
       "text": [
        " Fri, 13 Mar 2015 08:27:10\n",
        "Local Date:"
       ]
      },
      {
       "output_type": "stream",
       "stream": "stdout",
       "text": [
        " Fri, 13 Mar 2015 08:28:39\n",
        "Local Date:"
       ]
      },
      {
       "output_type": "stream",
       "stream": "stdout",
       "text": [
        " Fri, 13 Mar 2015 09:00:43\n",
        "Local Date:"
       ]
      },
      {
       "output_type": "stream",
       "stream": "stdout",
       "text": [
        " Fri, 13 Mar 2015 09:29:00\n",
        "Local Date:"
       ]
      },
      {
       "output_type": "stream",
       "stream": "stdout",
       "text": [
        " Fri, 13 Mar 2015 09:29:00\n",
        "Local Date:"
       ]
      },
      {
       "output_type": "stream",
       "stream": "stdout",
       "text": [
        " Fri, 13 Mar 2015 09:52:07\n",
        "Local Date:"
       ]
      },
      {
       "output_type": "stream",
       "stream": "stdout",
       "text": [
        " Fri, 13 Mar 2015 10:47:32\n",
        "Local Date:"
       ]
      },
      {
       "output_type": "stream",
       "stream": "stdout",
       "text": [
        " Fri, 13 Mar 2015 11:17:00\n",
        "Local Date:"
       ]
      },
      {
       "output_type": "stream",
       "stream": "stdout",
       "text": [
        " Fri, 13 Mar 2015 11:18:01\n",
        "Local Date:"
       ]
      },
      {
       "output_type": "stream",
       "stream": "stdout",
       "text": [
        " Fri, 13 Mar 2015 11:18:01\n",
        "Local Date:"
       ]
      },
      {
       "output_type": "stream",
       "stream": "stdout",
       "text": [
        " Fri, 13 Mar 2015 12:20:40\n",
        "Local Date:"
       ]
      },
      {
       "output_type": "stream",
       "stream": "stdout",
       "text": [
        " Fri, 13 Mar 2015 12:42:48\n",
        "Local Date:"
       ]
      },
      {
       "output_type": "stream",
       "stream": "stdout",
       "text": [
        " Fri, 13 Mar 2015 15:19:08\n",
        "Local Date:"
       ]
      },
      {
       "output_type": "stream",
       "stream": "stdout",
       "text": [
        " Fri, 13 Mar 2015 21:37:45\n",
        "Local Date:"
       ]
      },
      {
       "output_type": "stream",
       "stream": "stdout",
       "text": [
        " Fri, 13 Mar 2015 22:33:42\n",
        "Local Date:"
       ]
      },
      {
       "output_type": "stream",
       "stream": "stdout",
       "text": [
        " Sun, 15 Mar 2015 09:45:01\n",
        "Local Date:"
       ]
      },
      {
       "output_type": "stream",
       "stream": "stdout",
       "text": [
        " Sun, 15 Mar 2015 13:25:00\n",
        "Local Date:"
       ]
      },
      {
       "output_type": "stream",
       "stream": "stdout",
       "text": [
        " Sun, 15 Mar 2015 18:06:13\n",
        "Local Date:"
       ]
      },
      {
       "output_type": "stream",
       "stream": "stdout",
       "text": [
        " Sun, 15 Mar 2015 19:22:48\n",
        "Local Date:"
       ]
      },
      {
       "output_type": "stream",
       "stream": "stdout",
       "text": [
        " Sun, 15 Mar 2015 19:31:33\n",
        "Local Date:"
       ]
      },
      {
       "output_type": "stream",
       "stream": "stdout",
       "text": [
        " Sun, 15 Mar 2015 19:42:13\n",
        "Local Date:"
       ]
      },
      {
       "output_type": "stream",
       "stream": "stdout",
       "text": [
        " Sun, 15 Mar 2015 20:16:18\n",
        "Local Date:"
       ]
      },
      {
       "output_type": "stream",
       "stream": "stdout",
       "text": [
        " Sun, 15 Mar 2015 21:51:59\n",
        "Local Date:"
       ]
      },
      {
       "output_type": "stream",
       "stream": "stdout",
       "text": [
        " Sun, 15 Mar 2015 21:59:28\n",
        "Local Date:"
       ]
      },
      {
       "output_type": "stream",
       "stream": "stdout",
       "text": [
        " Sun, 15 Mar 2015 23:19:26\n",
        "Local Date:"
       ]
      },
      {
       "output_type": "stream",
       "stream": "stdout",
       "text": [
        " Mon, 16 Mar 2015 05:30:44\n",
        "Local Date:"
       ]
      },
      {
       "output_type": "stream",
       "stream": "stdout",
       "text": [
        " Mon, 16 Mar 2015 06:10:17\n",
        "Local Date:"
       ]
      },
      {
       "output_type": "stream",
       "stream": "stdout",
       "text": [
        " Mon, 16 Mar 2015 07:10:19\n",
        "Local Date:"
       ]
      },
      {
       "output_type": "stream",
       "stream": "stdout",
       "text": [
        " Mon, 16 Mar 2015 08:18:43\n",
        "Local Date:"
       ]
      },
      {
       "output_type": "stream",
       "stream": "stdout",
       "text": [
        " Mon, 16 Mar 2015 08:28:56\n",
        "Local Date:"
       ]
      },
      {
       "output_type": "stream",
       "stream": "stdout",
       "text": [
        " Mon, 16 Mar 2015 08:48:36\n",
        "Local Date:"
       ]
      },
      {
       "output_type": "stream",
       "stream": "stdout",
       "text": [
        " Mon, 16 Mar 2015 08:50:44\n",
        "Local Date:"
       ]
      },
      {
       "output_type": "stream",
       "stream": "stdout",
       "text": [
        " Mon, 16 Mar 2015 09:07:02\n",
        "Local Date:"
       ]
      },
      {
       "output_type": "stream",
       "stream": "stdout",
       "text": [
        " Mon, 16 Mar 2015 09:24:44\n",
        "Local Date:"
       ]
      },
      {
       "output_type": "stream",
       "stream": "stdout",
       "text": [
        " Mon, 16 Mar 2015 09:51:38\n",
        "Local Date:"
       ]
      },
      {
       "output_type": "stream",
       "stream": "stdout",
       "text": [
        " Mon, 16 Mar 2015 09:53:31\n",
        "Local Date:"
       ]
      },
      {
       "output_type": "stream",
       "stream": "stdout",
       "text": [
        " Mon, 16 Mar 2015 11:16:56\n",
        "Local Date:"
       ]
      },
      {
       "output_type": "stream",
       "stream": "stdout",
       "text": [
        " Mon, 16 Mar 2015 11:24:52\n",
        "Local Date:"
       ]
      },
      {
       "output_type": "stream",
       "stream": "stdout",
       "text": [
        " Mon, 16 Mar 2015 12:28:56\n",
        "Local Date:"
       ]
      },
      {
       "output_type": "stream",
       "stream": "stdout",
       "text": [
        " Mon, 16 Mar 2015 14:58:53\n",
        "Local Date:"
       ]
      },
      {
       "output_type": "stream",
       "stream": "stdout",
       "text": [
        " Mon, 16 Mar 2015 20:21:00\n",
        "Local Date:"
       ]
      },
      {
       "output_type": "stream",
       "stream": "stdout",
       "text": [
        " Mon, 16 Mar 2015 21:23:34\n",
        "Local Date:"
       ]
      },
      {
       "output_type": "stream",
       "stream": "stdout",
       "text": [
        " Mon, 16 Mar 2015 22:06:11\n",
        "Local Date:"
       ]
      },
      {
       "output_type": "stream",
       "stream": "stdout",
       "text": [
        " Mon, 16 Mar 2015 22:20:45\n",
        "Local Date:"
       ]
      },
      {
       "output_type": "stream",
       "stream": "stdout",
       "text": [
        " Tue, 17 Mar 2015 00:28:17\n",
        "Local Date:"
       ]
      },
      {
       "output_type": "stream",
       "stream": "stdout",
       "text": [
        " Tue, 17 Mar 2015 07:14:08\n",
        "Local Date:"
       ]
      },
      {
       "output_type": "stream",
       "stream": "stdout",
       "text": [
        " Tue, 17 Mar 2015 08:05:04\n",
        "Local Date:"
       ]
      },
      {
       "output_type": "stream",
       "stream": "stdout",
       "text": [
        " Tue, 17 Mar 2015 08:21:41\n",
        "Local Date:"
       ]
      },
      {
       "output_type": "stream",
       "stream": "stdout",
       "text": [
        " Tue, 17 Mar 2015 08:28:31\n",
        "Local Date:"
       ]
      },
      {
       "output_type": "stream",
       "stream": "stdout",
       "text": [
        " Tue, 17 Mar 2015 08:58:59\n",
        "Local Date:"
       ]
      },
      {
       "output_type": "stream",
       "stream": "stdout",
       "text": [
        " Tue, 17 Mar 2015 09:07:06\n",
        "Local Date:"
       ]
      },
      {
       "output_type": "stream",
       "stream": "stdout",
       "text": [
        " Tue, 17 Mar 2015 09:24:17\n",
        "Local Date:"
       ]
      },
      {
       "output_type": "stream",
       "stream": "stdout",
       "text": [
        " Tue, 17 Mar 2015 10:06:01\n",
        "Local Date:"
       ]
      },
      {
       "output_type": "stream",
       "stream": "stdout",
       "text": [
        " Tue, 17 Mar 2015 10:06:00\n",
        "Local Date:"
       ]
      },
      {
       "output_type": "stream",
       "stream": "stdout",
       "text": [
        " Tue, 17 Mar 2015 10:09:00\n",
        "Local Date:"
       ]
      },
      {
       "output_type": "stream",
       "stream": "stdout",
       "text": [
        " Tue, 17 Mar 2015 10:09:00\n",
        "Local Date:"
       ]
      },
      {
       "output_type": "stream",
       "stream": "stdout",
       "text": [
        " Tue, 17 Mar 2015 10:10:00\n",
        "Local Date:"
       ]
      },
      {
       "output_type": "stream",
       "stream": "stdout",
       "text": [
        " Tue, 17 Mar 2015 10:16:58\n",
        "Local Date:"
       ]
      },
      {
       "output_type": "stream",
       "stream": "stdout",
       "text": [
        " Tue, 17 Mar 2015 08:03:41\n",
        "Local Date:"
       ]
      },
      {
       "output_type": "stream",
       "stream": "stdout",
       "text": [
        " Tue, 17 Mar 2015 11:15:52\n",
        "Local Date:"
       ]
      },
      {
       "output_type": "stream",
       "stream": "stdout",
       "text": [
        " Tue, 17 Mar 2015 11:31:01\n",
        "Local Date:"
       ]
      },
      {
       "output_type": "stream",
       "stream": "stdout",
       "text": [
        " Tue, 17 Mar 2015 11:36:03\n",
        "Local Date:"
       ]
      },
      {
       "output_type": "stream",
       "stream": "stdout",
       "text": [
        " Tue, 17 Mar 2015 11:36:20\n",
        "Local Date:"
       ]
      },
      {
       "output_type": "stream",
       "stream": "stdout",
       "text": [
        " Tue, 17 Mar 2015 11:44:19\n",
        "Local Date:"
       ]
      },
      {
       "output_type": "stream",
       "stream": "stdout",
       "text": [
        " Tue, 17 Mar 2015 11:44:27\n",
        "Local Date:"
       ]
      },
      {
       "output_type": "stream",
       "stream": "stdout",
       "text": [
        " Tue, 17 Mar 2015 11:44:35\n",
        "Local Date:"
       ]
      },
      {
       "output_type": "stream",
       "stream": "stdout",
       "text": [
        " Tue, 17 Mar 2015 11:51:05\n",
        "Local Date:"
       ]
      },
      {
       "output_type": "stream",
       "stream": "stdout",
       "text": [
        " Tue, 17 Mar 2015 12:05:05\n",
        "Local Date:"
       ]
      },
      {
       "output_type": "stream",
       "stream": "stdout",
       "text": [
        " Tue, 17 Mar 2015 14:34:59\n",
        "Local Date:"
       ]
      },
      {
       "output_type": "stream",
       "stream": "stdout",
       "text": [
        " Tue, 17 Mar 2015 14:55:02\n",
        "Local Date:"
       ]
      },
      {
       "output_type": "stream",
       "stream": "stdout",
       "text": [
        " Tue, 17 Mar 2015 14:55:46\n",
        "Local Date:"
       ]
      },
      {
       "output_type": "stream",
       "stream": "stdout",
       "text": [
        " Tue, 17 Mar 2015 14:56:33\n",
        "Local Date:"
       ]
      },
      {
       "output_type": "stream",
       "stream": "stdout",
       "text": [
        " Tue, 17 Mar 2015 14:58:14\n",
        "Local Date:"
       ]
      },
      {
       "output_type": "stream",
       "stream": "stdout",
       "text": [
        " Tue, 17 Mar 2015 15:16:00\n",
        "Local Date:"
       ]
      },
      {
       "output_type": "stream",
       "stream": "stdout",
       "text": [
        " Tue, 17 Mar 2015 16:05:22\n",
        "Local Date:"
       ]
      },
      {
       "output_type": "stream",
       "stream": "stdout",
       "text": [
        " Tue, 17 Mar 2015 16:10:00\n",
        "Local Date:"
       ]
      },
      {
       "output_type": "stream",
       "stream": "stdout",
       "text": [
        " Tue, 17 Mar 2015 16:12:00\n",
        "Local Date:"
       ]
      },
      {
       "output_type": "stream",
       "stream": "stdout",
       "text": [
        " Tue, 17 Mar 2015 16:12:01\n",
        "Local Date:"
       ]
      },
      {
       "output_type": "stream",
       "stream": "stdout",
       "text": [
        " Tue, 17 Mar 2015 17:03:57\n",
        "Local Date:"
       ]
      },
      {
       "output_type": "stream",
       "stream": "stdout",
       "text": [
        " Tue, 17 Mar 2015 14:14:34\n",
        "Local Date:"
       ]
      },
      {
       "output_type": "stream",
       "stream": "stdout",
       "text": [
        " Wed, 18 Mar 2015 08:10:11\n",
        "Local Date:"
       ]
      },
      {
       "output_type": "stream",
       "stream": "stdout",
       "text": [
        " Wed, 18 Mar 2015 08:52:58\n",
        "Local Date:"
       ]
      },
      {
       "output_type": "stream",
       "stream": "stdout",
       "text": [
        " Wed, 18 Mar 2015 09:01:15\n",
        "Local Date:"
       ]
      },
      {
       "output_type": "stream",
       "stream": "stdout",
       "text": [
        " Wed, 18 Mar 2015 09:03:32\n",
        "Local Date:"
       ]
      },
      {
       "output_type": "stream",
       "stream": "stdout",
       "text": [
        " Wed, 18 Mar 2015 09:06:21\n",
        "Local Date:"
       ]
      },
      {
       "output_type": "stream",
       "stream": "stdout",
       "text": [
        " Wed, 18 Mar 2015 09:11:14\n",
        "Local Date:"
       ]
      },
      {
       "output_type": "stream",
       "stream": "stdout",
       "text": [
        " Wed, 18 Mar 2015 09:13:26\n",
        "Local Date:"
       ]
      },
      {
       "output_type": "stream",
       "stream": "stdout",
       "text": [
        " Wed, 18 Mar 2015 09:27:05\n",
        "Local Date:"
       ]
      },
      {
       "output_type": "stream",
       "stream": "stdout",
       "text": [
        " Wed, 18 Mar 2015 09:42:17\n",
        "Local Date:"
       ]
      },
      {
       "output_type": "stream",
       "stream": "stdout",
       "text": [
        " Wed, 18 Mar 2015 10:02:00\n",
        "Local Date:"
       ]
      },
      {
       "output_type": "stream",
       "stream": "stdout",
       "text": [
        " Wed, 18 Mar 2015 10:23:24\n",
        "Local Date:"
       ]
      },
      {
       "output_type": "stream",
       "stream": "stdout",
       "text": [
        " Wed, 18 Mar 2015 10:37:11\n",
        "Local Date:"
       ]
      },
      {
       "output_type": "stream",
       "stream": "stdout",
       "text": [
        " Wed, 18 Mar 2015 10:43:56\n",
        "Local Date:"
       ]
      },
      {
       "output_type": "stream",
       "stream": "stdout",
       "text": [
        " Wed, 18 Mar 2015 11:33:10\n",
        "Local Date:"
       ]
      },
      {
       "output_type": "stream",
       "stream": "stdout",
       "text": [
        " Wed, 18 Mar 2015 11:46:09\n",
        "Local Date:"
       ]
      },
      {
       "output_type": "stream",
       "stream": "stdout",
       "text": [
        " Wed, 18 Mar 2015 12:26:35\n",
        "Local Date:"
       ]
      },
      {
       "output_type": "stream",
       "stream": "stdout",
       "text": [
        " Wed, 18 Mar 2015 13:13:02\n",
        "Local Date:"
       ]
      },
      {
       "output_type": "stream",
       "stream": "stdout",
       "text": [
        " Wed, 18 Mar 2015 13:15:00\n",
        "Local Date:"
       ]
      },
      {
       "output_type": "stream",
       "stream": "stdout",
       "text": [
        " Wed, 18 Mar 2015 13:50:34\n",
        "Local Date:"
       ]
      },
      {
       "output_type": "stream",
       "stream": "stdout",
       "text": [
        " Wed, 18 Mar 2015 14:48:22\n",
        "Local Date:"
       ]
      },
      {
       "output_type": "stream",
       "stream": "stdout",
       "text": [
        " Wed, 18 Mar 2015 17:25:57\n",
        "Local Date:"
       ]
      },
      {
       "output_type": "stream",
       "stream": "stdout",
       "text": [
        " Wed, 18 Mar 2015 19:18:27\n",
        "Local Date:"
       ]
      },
      {
       "output_type": "stream",
       "stream": "stdout",
       "text": [
        " Wed, 18 Mar 2015 21:45:52\n",
        "Local Date:"
       ]
      },
      {
       "output_type": "stream",
       "stream": "stdout",
       "text": [
        " Wed, 18 Mar 2015 22:37:45\n",
        "Local Date:"
       ]
      },
      {
       "output_type": "stream",
       "stream": "stdout",
       "text": [
        " Wed, 18 Mar 2015 22:40:49\n",
        "Local Date:"
       ]
      },
      {
       "output_type": "stream",
       "stream": "stdout",
       "text": [
        " Thu, 19 Mar 2015 08:46:11\n",
        "Local Date:"
       ]
      },
      {
       "output_type": "stream",
       "stream": "stdout",
       "text": [
        " Thu, 19 Mar 2015 09:05:51\n",
        "Local Date:"
       ]
      },
      {
       "output_type": "stream",
       "stream": "stdout",
       "text": [
        " Thu, 19 Mar 2015 09:10:07\n",
        "Local Date:"
       ]
      },
      {
       "output_type": "stream",
       "stream": "stdout",
       "text": [
        " Thu, 19 Mar 2015 09:11:06\n",
        "Local Date:"
       ]
      },
      {
       "output_type": "stream",
       "stream": "stdout",
       "text": [
        " Thu, 19 Mar 2015 09:15:31\n",
        "Local Date:"
       ]
      },
      {
       "output_type": "stream",
       "stream": "stdout",
       "text": [
        " Thu, 19 Mar 2015 09:18:34\n",
        "Local Date:"
       ]
      },
      {
       "output_type": "stream",
       "stream": "stdout",
       "text": [
        " Thu, 19 Mar 2015 09:47:52\n",
        "Local Date:"
       ]
      },
      {
       "output_type": "stream",
       "stream": "stdout",
       "text": [
        " Thu, 19 Mar 2015 10:11:48\n",
        "Local Date:"
       ]
      },
      {
       "output_type": "stream",
       "stream": "stdout",
       "text": [
        " Thu, 19 Mar 2015 10:58:50\n"
       ]
      },
      {
       "metadata": {},
       "output_type": "pyout",
       "prompt_number": 7,
       "text": [
        "('BYE', ['LOGOUT Requested'])"
       ]
      }
     ],
     "prompt_number": 7
    },
    {
     "cell_type": "code",
     "collapsed": false,
     "input": [
      "import pandas as pd\n",
      "inbox = pd.concat([pd.Series(index), pd.Series(subject)], axis=1)\n",
      "inbox = pd.concat([inbox, pd.Series(date)], axis=1)\n",
      "inbox = pd.concat([inbox, pd.Series(email_from)], axis=1)\n",
      "inbox = pd.concat([inbox, pd.Series(email_to)], axis=1)\n",
      "inbox = pd.concat([inbox, pd.Series(body)], axis=1)\n",
      "inbox = pd.concat([inbox, pd.Series(body_sub)], axis=1)\n",
      "inbox = pd.concat([inbox, pd.Series(body_type)], axis=1)\n",
      "inbox = pd.concat([inbox, pd.Series(content_charset)], axis=1)\n",
      "inbox.columns = ['index','subject','date','from','to','body','sub','type','charset']\n",
      "\n",
      "inbox.describe()"
     ],
     "language": "python",
     "metadata": {},
     "outputs": [
      {
       "html": [
        "<div style=\"max-height:1000px;max-width:1500px;overflow:auto;\">\n",
        "<table border=\"1\" class=\"dataframe\">\n",
        "  <thead>\n",
        "    <tr style=\"text-align: right;\">\n",
        "      <th></th>\n",
        "      <th>index</th>\n",
        "      <th>subject</th>\n",
        "      <th>date</th>\n",
        "      <th>from</th>\n",
        "      <th>to</th>\n",
        "      <th>body</th>\n",
        "      <th>sub</th>\n",
        "      <th>type</th>\n",
        "      <th>charset</th>\n",
        "    </tr>\n",
        "  </thead>\n",
        "  <tbody>\n",
        "    <tr>\n",
        "      <th>count</th>\n",
        "      <td> 1379</td>\n",
        "      <td>            1379</td>\n",
        "      <td>                                  1379</td>\n",
        "      <td>                              1379</td>\n",
        "      <td>                              1375</td>\n",
        "      <td>                                               946</td>\n",
        "      <td>        1379</td>\n",
        "      <td>                  1379</td>\n",
        "      <td>    50</td>\n",
        "    </tr>\n",
        "    <tr>\n",
        "      <th>unique</th>\n",
        "      <td> 1379</td>\n",
        "      <td>             906</td>\n",
        "      <td>                                  1360</td>\n",
        "      <td>                               138</td>\n",
        "      <td>                               243</td>\n",
        "      <td>                                               939</td>\n",
        "      <td>           5</td>\n",
        "      <td>                     5</td>\n",
        "      <td>     4</td>\n",
        "    </tr>\n",
        "    <tr>\n",
        "      <th>top</th>\n",
        "      <td> 1369</td>\n",
        "      <td> Re: YMKT whales</td>\n",
        "      <td> Thu, 12 Mar 2015 10:25:05 -0700 (PDT)</td>\n",
        "      <td> Sean MacRae &lt;smacrae@oration.com&gt;</td>\n",
        "      <td> Sean MacRae &lt;smacrae@oration.com&gt;</td>\n",
        "      <td> ,drug_name,rxcui,ndc,strength,quantity,days_su...</td>\n",
        "      <td> alternative</td>\n",
        "      <td> multipart/alternative</td>\n",
        "      <td> utf-8</td>\n",
        "    </tr>\n",
        "    <tr>\n",
        "      <th>freq</th>\n",
        "      <td>    1</td>\n",
        "      <td>              26</td>\n",
        "      <td>                                     4</td>\n",
        "      <td>                               304</td>\n",
        "      <td>                               210</td>\n",
        "      <td>                                                 3</td>\n",
        "      <td>         755</td>\n",
        "      <td>                   755</td>\n",
        "      <td>    29</td>\n",
        "    </tr>\n",
        "  </tbody>\n",
        "</table>\n",
        "</div>"
       ],
       "metadata": {},
       "output_type": "pyout",
       "prompt_number": 8,
       "text": [
        "       index          subject                                   date  \\\n",
        "count   1379             1379                                   1379   \n",
        "unique  1379              906                                   1360   \n",
        "top     1369  Re: YMKT whales  Thu, 12 Mar 2015 10:25:05 -0700 (PDT)   \n",
        "freq       1               26                                      4   \n",
        "\n",
        "                                     from                                 to  \\\n",
        "count                                1379                               1375   \n",
        "unique                                138                                243   \n",
        "top     Sean MacRae <smacrae@oration.com>  Sean MacRae <smacrae@oration.com>   \n",
        "freq                                  304                                210   \n",
        "\n",
        "                                                     body          sub  \\\n",
        "count                                                 946         1379   \n",
        "unique                                                939            5   \n",
        "top     ,drug_name,rxcui,ndc,strength,quantity,days_su...  alternative   \n",
        "freq                                                    3          755   \n",
        "\n",
        "                         type charset  \n",
        "count                    1379      50  \n",
        "unique                      5       4  \n",
        "top     multipart/alternative   utf-8  \n",
        "freq                      755      29  "
       ]
      }
     ],
     "prompt_number": 8
    },
    {
     "cell_type": "code",
     "collapsed": false,
     "input": [
      "# length of email body\n",
      "inbox['body_size'] = inbox['body'].str.len()\n",
      "\n",
      "# datetime attributes\n",
      "inbox['datetime'] = pd.to_datetime(inbox['date'])\n",
      "inbox['date_year'] = pd.DatetimeIndex(inbox['datetime']).year # year\n",
      "inbox['date_quarter'] = pd.DatetimeIndex(inbox['datetime']).quarter # quarter of year\n",
      "inbox['date_month'] = pd.DatetimeIndex(inbox['datetime']).month # month of year\n",
      "inbox['date_week'] = pd.DatetimeIndex(inbox['datetime']).week # week of year\n",
      "inbox['date_time'] = pd.DatetimeIndex(inbox['datetime']).time # time\n",
      "inbox['date_hour'] = pd.DatetimeIndex(inbox['datetime']).hour # time\n",
      "inbox['date'] = pd.DatetimeIndex(inbox['datetime']).date # time\n",
      "\n",
      "# inbox flags\n",
      "inbox['Re'] = inbox['subject'].str.contains('Re:')\n",
      "inbox['Fw'] = inbox['subject'].str.contains('Fwd:')\n",
      "\n",
      "# flag emails sent\n",
      "inbox['sent'] = inbox['from'].str.contains('smacrae@oration.com')"
     ],
     "language": "python",
     "metadata": {},
     "outputs": [],
     "prompt_number": 9
    },
    {
     "cell_type": "code",
     "collapsed": false,
     "input": [
      "# total email activity, momentum, trend\n",
      "# to-do..."
     ],
     "language": "python",
     "metadata": {},
     "outputs": [],
     "prompt_number": 10
    },
    {
     "cell_type": "code",
     "collapsed": false,
     "input": [
      "# plot total email count (sent/received)\n",
      "%matplotlib inline\n",
      "from IPython.core.pylabtools import figsize\n",
      "figsize(12.5, 7.5)\n",
      "\n",
      "email_count.plot()\n",
      "plt.xlabel('Date')\n",
      "plt.ylabel('Sent & Received')\n",
      "plt.title('Sean`s Email Activity')\n",
      "plt.show()"
     ],
     "language": "python",
     "metadata": {},
     "outputs": [
      {
       "ename": "NameError",
       "evalue": "name 'email_count' is not defined",
       "output_type": "pyerr",
       "traceback": [
        "\u001b[0;31m---------------------------------------------------------------------------\u001b[0m\n\u001b[0;31mNameError\u001b[0m                                 Traceback (most recent call last)",
        "\u001b[0;32m<ipython-input-11-951a139fa35a>\u001b[0m in \u001b[0;36m<module>\u001b[0;34m()\u001b[0m\n\u001b[1;32m      4\u001b[0m \u001b[0mfigsize\u001b[0m\u001b[0;34m(\u001b[0m\u001b[0;36m12.5\u001b[0m\u001b[0;34m,\u001b[0m \u001b[0;36m7.5\u001b[0m\u001b[0;34m)\u001b[0m\u001b[0;34m\u001b[0m\u001b[0m\n\u001b[1;32m      5\u001b[0m \u001b[0;34m\u001b[0m\u001b[0m\n\u001b[0;32m----> 6\u001b[0;31m \u001b[0memail_count\u001b[0m\u001b[0;34m.\u001b[0m\u001b[0mplot\u001b[0m\u001b[0;34m(\u001b[0m\u001b[0;34m)\u001b[0m\u001b[0;34m\u001b[0m\u001b[0m\n\u001b[0m\u001b[1;32m      7\u001b[0m \u001b[0mplt\u001b[0m\u001b[0;34m.\u001b[0m\u001b[0mxlabel\u001b[0m\u001b[0;34m(\u001b[0m\u001b[0;34m'Date'\u001b[0m\u001b[0;34m)\u001b[0m\u001b[0;34m\u001b[0m\u001b[0m\n\u001b[1;32m      8\u001b[0m \u001b[0mplt\u001b[0m\u001b[0;34m.\u001b[0m\u001b[0mylabel\u001b[0m\u001b[0;34m(\u001b[0m\u001b[0;34m'Sent & Received'\u001b[0m\u001b[0;34m)\u001b[0m\u001b[0;34m\u001b[0m\u001b[0m\n",
        "\u001b[0;31mNameError\u001b[0m: name 'email_count' is not defined"
       ]
      }
     ],
     "prompt_number": 11
    },
    {
     "cell_type": "code",
     "collapsed": false,
     "input": [
      "# weekday effect, day-parting\n",
      "# to-do..."
     ],
     "language": "python",
     "metadata": {},
     "outputs": []
    },
    {
     "cell_type": "code",
     "collapsed": false,
     "input": [
      "# read list of contacts\n",
      "contacts = pd.read_csv('/Users/smacrae/Documents/email_analysis/contacts.csv')['E-mail 1 - Value'].str.lower()"
     ],
     "language": "python",
     "metadata": {},
     "outputs": [],
     "prompt_number": 12
    },
    {
     "cell_type": "code",
     "collapsed": false,
     "input": [
      "# create dummy variables for each email in contact list\n",
      "for contact in contacts:\n",
      "    inbox[contact] = inbox['to'].str.contains(contact)"
     ],
     "language": "python",
     "metadata": {},
     "outputs": [],
     "prompt_number": 13
    },
    {
     "cell_type": "code",
     "collapsed": false,
     "input": [
      "top_contacts = pd.DataFrame(inbox.loc[inbox['sent'], contacts].sum().order(ascending=False))\n",
      "top_contacts.columns = ['frequency']\n",
      "top_contacts[0:10].drop_duplicates()"
     ],
     "language": "python",
     "metadata": {},
     "outputs": [
      {
       "html": [
        "<div style=\"max-height:1000px;max-width:1500px;overflow:auto;\">\n",
        "<table border=\"1\" class=\"dataframe\">\n",
        "  <thead>\n",
        "    <tr style=\"text-align: right;\">\n",
        "      <th></th>\n",
        "      <th>frequency</th>\n",
        "    </tr>\n",
        "  </thead>\n",
        "  <tbody>\n",
        "    <tr>\n",
        "      <th>smacrae@oration.com</th>\n",
        "      <td> 54</td>\n",
        "    </tr>\n",
        "    <tr>\n",
        "      <th>darin.buxbaum@oration.com</th>\n",
        "      <td> 53</td>\n",
        "    </tr>\n",
        "    <tr>\n",
        "      <th>max@oration.com</th>\n",
        "      <td> 50</td>\n",
        "    </tr>\n",
        "    <tr>\n",
        "      <th>patrick.goetterman@oration.com</th>\n",
        "      <td> 32</td>\n",
        "    </tr>\n",
        "    <tr>\n",
        "      <th>eric.chen@oration.com</th>\n",
        "      <td> 24</td>\n",
        "    </tr>\n",
        "    <tr>\n",
        "      <th>michellem@benefitcosmetics.com</th>\n",
        "      <td> 22</td>\n",
        "    </tr>\n",
        "    <tr>\n",
        "      <th>macrae.michelle@gmail.com</th>\n",
        "      <td> 13</td>\n",
        "    </tr>\n",
        "    <tr>\n",
        "      <th>mike.reisler@oration.com</th>\n",
        "      <td>  9</td>\n",
        "    </tr>\n",
        "  </tbody>\n",
        "</table>\n",
        "</div>"
       ],
       "metadata": {},
       "output_type": "pyout",
       "prompt_number": 14,
       "text": [
        "                                frequency\n",
        "smacrae@oration.com                    54\n",
        "darin.buxbaum@oration.com              53\n",
        "max@oration.com                        50\n",
        "patrick.goetterman@oration.com         32\n",
        "eric.chen@oration.com                  24\n",
        "michellem@benefitcosmetics.com         22\n",
        "macrae.michelle@gmail.com              13\n",
        "mike.reisler@oration.com                9"
       ]
      }
     ],
     "prompt_number": 14
    },
    {
     "cell_type": "code",
     "collapsed": false,
     "input": [
      "top_subjects = pd.DataFrame(inbox.groupby('subject').apply(len)).sort(columns=0, ascending=False)\n",
      "top_subjects.columns = ['frequency']\n",
      "top_subjects[0:10]"
     ],
     "language": "python",
     "metadata": {},
     "outputs": [
      {
       "html": [
        "<div style=\"max-height:1000px;max-width:1500px;overflow:auto;\">\n",
        "<table border=\"1\" class=\"dataframe\">\n",
        "  <thead>\n",
        "    <tr style=\"text-align: right;\">\n",
        "      <th></th>\n",
        "      <th>frequency</th>\n",
        "    </tr>\n",
        "    <tr>\n",
        "      <th>subject</th>\n",
        "      <th></th>\n",
        "    </tr>\n",
        "  </thead>\n",
        "  <tbody>\n",
        "    <tr>\n",
        "      <th>Re: YMKT whales</th>\n",
        "      <td> 26</td>\n",
        "    </tr>\n",
        "    <tr>\n",
        "      <th>Re: Exporting prescription info from PRD for analytics</th>\n",
        "      <td> 14</td>\n",
        "    </tr>\n",
        "    <tr>\n",
        "      <th>Re: Whales - Costco Mail Order Drug Pricing (See Attached)</th>\n",
        "      <td> 14</td>\n",
        "    </tr>\n",
        "    <tr>\n",
        "      <th>Re: Clear to go</th>\n",
        "      <td> 12</td>\n",
        "    </tr>\n",
        "    <tr>\n",
        "      <th>Re: Google BigQuery - Notes on Raw Data Feeds from Customer.io &amp; Segment.io</th>\n",
        "      <td>  9</td>\n",
        "    </tr>\n",
        "    <tr>\n",
        "      <th>Re: Sendbloom Demo</th>\n",
        "      <td>  9</td>\n",
        "    </tr>\n",
        "    <tr>\n",
        "      <th>[JIRA] (EP-4105) First Draft of Campaign Performance Report</th>\n",
        "      <td>  9</td>\n",
        "    </tr>\n",
        "    <tr>\n",
        "      <th>Re: RxAnalyzer 0024_2014 full run (all chains) results</th>\n",
        "      <td>  9</td>\n",
        "    </tr>\n",
        "    <tr>\n",
        "      <th>Re: carpool to Weds team-building?</th>\n",
        "      <td>  9</td>\n",
        "    </tr>\n",
        "    <tr>\n",
        "      <th>Re: Oration &amp; Happiestminds- Meeting</th>\n",
        "      <td>  9</td>\n",
        "    </tr>\n",
        "  </tbody>\n",
        "</table>\n",
        "</div>"
       ],
       "metadata": {},
       "output_type": "pyout",
       "prompt_number": 15,
       "text": [
        "                                                                             frequency\n",
        "subject                                                                               \n",
        "Re: YMKT whales                                                                     26\n",
        "Re: Exporting prescription info from PRD for analytics                              14\n",
        "Re: Whales - Costco Mail Order Drug Pricing (See Attached)                          14\n",
        "Re: Clear to go                                                                     12\n",
        "Re: Google BigQuery - Notes on Raw Data Feeds from Customer.io & Segment.io          9\n",
        "Re: Sendbloom Demo                                                                   9\n",
        "[JIRA] (EP-4105) First Draft of Campaign Performance Report                          9\n",
        "Re: RxAnalyzer 0024_2014 full run (all chains) results                               9\n",
        "Re: carpool to Weds team-building?                                                   9\n",
        "Re: Oration & Happiestminds- Meeting                                                 9"
       ]
      }
     ],
     "prompt_number": 15
    },
    {
     "cell_type": "code",
     "collapsed": false,
     "input": [
      "# create flag to include email body in tokenizer (or not)\n",
      "inbox['body_tokenize'] = True\n",
      "\n",
      "# bad\n",
      "inbox.loc[(inbox['sub']=='related') & (inbox['type']=='multipart/related'),'body_tokenize'] = False\n",
      "inbox.loc[(inbox['sub']=='mixed') & (inbox['type']=='multipart/mixed'),'body_tokenize'] = False\n",
      "inbox.loc[(inbox['sub']=='html') & (inbox['type']=='text/html'),'body_tokenize'] = False\n",
      "\n",
      "# good\n",
      "inbox.loc[(inbox['sub']=='alternative') & (inbox['type']=='multipart/alternative'),]\n",
      "inbox.loc[(inbox['sub']=='plain') & (inbox['type']=='text/plain'),]\n",
      "\n",
      "email_text = inbox.loc[inbox['body_tokenize'],['body']]"
     ],
     "language": "python",
     "metadata": {},
     "outputs": [],
     "prompt_number": 16
    },
    {
     "cell_type": "code",
     "collapsed": false,
     "input": [
      "import re\n",
      "\n",
      "# email tokens\n",
      "email_tokens = []\n",
      "\n",
      "for email in email_text['body']:\n",
      "    email_tokens.append([i for i in re.split(r'(\\d+|\\W+)', email) if i])\n",
      "\n",
      "# flatten email token list\n",
      "email_tokens = [item for sublist in email_tokens for item in sublist]\n",
      "\n",
      "# subject tokens\n",
      "subject_tokens = []\n",
      "\n",
      "for subject in inbox['subject']:\n",
      "    subject_tokens.append([i for i in re.split(r'(\\d+|\\W+)', subject) if i])\n",
      "    \n",
      "# flatten subject token list\n",
      "subject_tokens = [item for sublist in subject_tokens for item in sublist]"
     ],
     "language": "python",
     "metadata": {},
     "outputs": [],
     "prompt_number": 17
    },
    {
     "cell_type": "code",
     "collapsed": false,
     "input": [
      "from collections import Counter\n",
      "\n",
      "c = Counter(email_tokens)\n",
      "print c.most_common()"
     ],
     "language": "python",
     "metadata": {},
     "outputs": [
      {
       "output_type": "stream",
       "stream": "stdout",
       "text": [
        "[(' ', 101963), ('.', 10675), (', ', 8243), ('/', 6890), ('-', 6222), ('the', 5167), ('com', 5095), ('=', 3260), ('to', 3247), ('2', 3231), ('://', 3147), ('\\r\\n', 2730), ('%', 2702), ('0', 2588), ('a', 2445), ('and', 2403), ('1', 2293), ('oration', 2231), (\"'\", 2193), (': ', 2187), ('mail', 2176), ('&', 2136), ('3', 2112), ('https', 1939), ('for', 1846), ('of', 1803), ('you', 1672), ('@', 1646), ('\\r\\n> ', 1611), ('I', 1579), ('http', 1526), ('4', 1510), (':', 1481), (') ', 1444), ('c', 1430), ('d', 1401), ('at', 1385), ('google', 1356), ('. ', 1280), ('2015', 1277), ('is', 1261), ('9', 1252), ('in', 1217), (' <', 1210), (': (', 1186), ('www', 1170), ('that', 1158), ('5', 1151), ('8', 1140), ('we', 1137), ('u', 1110), ('6', 1039), ('.  ', 1014), ('986', 1009), ('7', 1003), ('on', 983), ('On', 975), ('142', 968), ('wrote', 949), ('s', 947), ('be', 939), ('Oration', 934), ('650', 928), ('C', 912), ('\\r\\n>> ', 862), ('this', 842), ('CA', 825), ('with', 823), ('Darin', 814), ('F', 811), ('it', 807), ('Suite', 797), ('City', 789), ('559', 776), ('94404', 775), ('Foster', 774), ('Pilgrim', 774), ('image', 773), ('Dr', 768), ('are', 746), (' (', 742), ('logo', 738), ('?', 729), ('t', 725), ('Office', 724), ('/#', 722), ('20', 722), ('_SafeHtmlFilter_', 709), ('389', 696), ('2393', 696), ('PM', 694), ('MacRae', 669), ('; ', 667), ('have', 660), ('from', 659), ('your', 650), ('A', 649), ('> ', 646), ('] <', 634), ('.\\r\\n\\r\\n', 617), ('Max', 613), ('\\r\\n>>> ', 607), ('\\r\\n\\r\\n', 587), ('e', 586), ('f', 565), ('>\\r\\n', 549), ('Eric', 543), ('=\"', 539), ('data', 534), ('Thanks', 532), ('S', 507), ('email', 494), ('if', 493), ('or', 493), ('can', 491), ('Feb', 490), ('not', 471), ('Cell', 463), ('The', 463), ('Sean', 461), ('Shneider', 459), ('will', 458), ('our', 452), ('10', 441), ('as', 428), ('Buxbaum', 419), ('AM', 411), ('Jan', 392), ('all', 389), ('\\r\\n<', 383), ('px', 380), ('\" ', 380), ('/?', 372), ('We', 368), ('\\r\\n>>>> ', 368), ('br', 367), ('by', 366), ('an', 355), ('c_SafeHtmlFilter_', 350), ('02429', 350), ('ll', 350), ('\\r\\n>>>>> ', 348), ('so', 332), ('app', 330), ('12', 329), ('#', 321), ('about', 321), ('.\\r\\n>\\r\\n> ', 318), ('need', 313), ('re', 310), ('message', 307), ('up', 301), ('out', 301), ('use', 301), ('more', 288), ('was', 287), ('smacrae', 287), ('If', 284), ('11', 281), ('shva', 280), ('r', 279), ('do', 278), ('415', 278), ('into', 277), ('Hi', 276), ('+', 275), ('url', 275), (':\\r\\n\\r\\n> ', 272), ('Chen', 270), ('been', 269), ('me', 266), ('but', 265), (' - ', 265), ('This', 264), ('Software', 262), ('\\r\\n\\r\\n[', 261), ('m', 259), ('style', 259), ('Thu', 257), ('get', 256), ('574', 251), ('5351', 251), ('Engineer', 251), ('buxbaum', 250), ('has', 245), ('would', 245), ('there', 244), ('darin', 243), ('ad', 242), ('>\\r\\n> ', 242), ('font', 242), (',\\r\\n\\r\\n', 238), ('just', 236), ('any', 234), ('like', 232), ('/>\\r\\n', 229), ('td', 224), ('know', 222), ('p', 219), ('524', 218), ('133', 218), ('AFwhZf', 217), ('relateiq', 217), ('Product', 216), ('19', 215), ('VP', 214), ('may', 214), ('\\r\\n> <', 214), ('\\r\\n>>>>>> ', 212), ('savings', 211), ('Best', 211), ('when', 210), ('b', 206), ('recipient', 205), ('_', 204), ('ve', 202), ('cost', 198), ('max', 198), ('please', 197), (' \"', 197), ('io', 196), ('how', 195), ('\\r\\n>>>>>>> ', 194), ('21', 194), ('new', 193), ('25', 193), ('1676', 193), ('714', 193), ('table', 193), ('some', 192), ('fb', 191), ('52', 191), ('intended', 189), ('now', 189), ('my', 189), ('drugs', 189), ('customer', 188), ('To', 188), ('claims', 188), ('utm_source', 188), ('Mon', 187), ('Fmail', 186), ('v', 186), ('time', 185), ('us', 185), ('what', 185), ('information', 183), ('only', 181), ('drug', 181), ('list', 179), ('-%', 177), ('fill', 177), ('You', 176), (',\\r\\n', 175), ('Mar', 175), ('Director', 173), (': #', 172), ('color', 172), ('should', 168), ('Please', 167), ('24', 167), ('.\\r\\n>>\\r\\n>> ', 167), ('utm_medium', 166), ('utm_campaign', 166), ('last', 165), ('>\\r\\n  /  ', 165), ('\\r\\n>>>>>>>> ', 163), ('29', 162), ('>', 161), ('member', 161), ('think', 160), ('ab', 159), ('30', 159), ('they', 158), ('want', 157), ('also', 157), ('14', 156), ('Yvonne', 155), ('15', 153), ('them', 152), (',', 152), ('Fwww', 151), ('2014', 151), ('\\r\\n>\\r\\n> ', 150), ('costco', 150), ('D', 149), ('Data', 149), ('Hey', 148), (' & ', 147), ('Pramod', 147), ('\\r\\n>\\r\\n> [', 147), ('It', 147), ('which', 147), ('here', 146), ('since', 145), ('Sent', 145), ('don', 145), ('pricing', 145), ('U', 144), ('see', 143), ('tr', 142), ('Wed', 142), ('event', 142), ('Costco', 142), ('order', 141), ('Engineering', 140), (':\\r\\n>\\r\\n>> ', 138), ('Mike', 138), ('team', 137), ('one', 137), ('13', 135), ('days', 135), ('yvityuk', 134), ('.\\r\\n', 134), ('prices', 134), (' $', 134), ('26', 133), (';', 132), (',\\r\\n> ', 132), ('am', 131), ('Tue', 131), ('Google', 130), ('linkedin', 130), ('pm', 130), ('width', 129), ('Vityuk', 129), ('90', 128), ('Mui', 128), ('let', 127), ('size', 127), ('happiestminds', 127), ('425', 127), ('510', 126), ('span', 126), ('run', 126), ('? ', 126), ('chen', 125), ('eric', 125), ('two', 125), ('back', 125), ('31', 125), ('original', 124), ('Segment', 124), ('care', 124), ('Ginger', 123), ('work', 122), ('There', 121), ('i', 121), ('make', 121), ('\\r\\n>>>>>>>>> ', 121), ('prescription', 121), ('their', 121), ('these', 120), ('html', 120), ('free', 119), ('other', 119), ('contact', 118), ('through', 118), ('name', 118), ('P', 118), ('B', 117), ('year', 117), ('than', 117), ('reply', 117), ('>\\r\\n>> ', 117), ('T', 117), ('type', 116), ('quantity', 115), ('going', 115), ('\\r\\n>> <', 115), ('680', 114), ('3217', 114), (';\">', 113), ('date', 113), ('.\\r\\n>>>\\r\\n>>> ', 113), ('Elena', 113), ('well', 113), ('review', 112), ('people', 110), ('link', 110), ('contain', 110), ('50', 109), ('>\\r\\n\\r\\n<', 108), ('price', 108), ('looking', 108), ('>, ', 108), ('news', 108), (',\\r\\n>\\r\\n> ', 107), ('document', 107), ('Any', 107), ('02', 107), ('meeting', 107), ('text', 107), ('over', 107), ('28', 106), ('report', 106), ('00', 105), ('16', 105), ('David', 105), ('\\r\\n>    ', 104), ('campaign', 104), ('17', 104), ('Subject', 103), ('via', 102), ('keep', 102), ('prescriptions', 102), ('support', 101), ('Benecard', 101), ('John', 100), ('padding', 100), ('Fri', 100), ('id', 100), ('18', 100), ('were', 100), ('Patrick', 99), ('docs', 99), ('then', 99), ('look', 99), ('access', 99), ('group_announcement_message', 98), ('week', 98), ('amp', 98), ('system', 98), ('23', 98), ('no', 98), ('next', 97), ('could', 97), ('members', 97), ('supply', 97), ('Let', 96), ('where', 95), ('tomorrow', 95), ('\\r\\n     * ', 95), ('Here', 95), ('distribution', 94), ('both', 94), ('user', 94), ('including', 94), ('good', 94), ('most', 94), ('Fu', 94), ('23142', 93), ('01', 93), ('3031', 93), ('different', 93), ('940', 93), ('today', 93), ('(', 92), ('updated', 92), ('From', 92), ('Date', 92), ('sure', 92), ('Get', 91), ('first', 91), ('NDC', 91), ('end', 91), ('M', 91), ('Pavan', 90), (')\\r\\n<', 90), ('working', 90), ('using', 89), ('27', 89), ('utm_content', 89), ('being', 89), ('45', 89), ('March', 89), ('much', 88), (': $', 88), ('go', 88), ('call', 88), ('add', 88), ('sender', 87), ('\\r\\n>>>>>\\r\\n>>>>> ', 87), ('help', 87), ('\\r\\n>>\\r\\n>> ', 87), ('972', 86), ('mailto', 86), ('personal', 86), ('calendar', 86), ('share', 86), ('geese', 86), ('top', 86), ('In', 86), (',\\r\\n>> ', 85), ('For', 85), ('copies', 85), ('events', 85), ('. \\r\\n', 85), ('nzp', 84), ('AQGdiN', 84), ('midToken', 84), ('destroy', 84), ('segment', 84), ('confidential', 84), ('disclosure', 84), ('prohibited', 84), ('ek', 84), ('CPlVyQ', 84), ('unauthorized', 84), ('amazon', 84), ('sole', 84), ('privileged', 84), ('right', 83), (':\\r\\n\\r\\n', 83), ('Also', 83), ('03', 83), ('sharing', 83), ('37', 83), ('H', 83), (':\\r\\n>>\\r\\n>>> ', 83), ('because', 83), ('\\r\\n>>\\r\\n>> [', 82), ('had', 82), ('Just', 82), (':  ', 82), ('All', 82), ('those', 82), ('\" <', 81), ('able', 81), ('phone', 81), ('>\\r\\n>   /  ', 80), ('sent', 80), ('process', 80), ('_hsmi', 80), ('Flipboard', 80), ('_hsenc', 80), ('!\\r\\n\\r\\n', 80), ('ANqtz', 80), ('Services', 80), ('\\r\\n>>>    ', 80), ('Quality', 79), ('4470', 79), ('details', 79), ('l', 79), ('org', 79), ('Assurance', 79), ('>\\r\\n>>> ', 78), ('better', 78), ('magazine', 78), ('off', 77), ('instance', 77), ('brand', 77), ('40', 77), ('x', 76), ('per', 76), ('net', 75), ('\\r\\n>>    - ', 75), ('...', 75), ('R', 75), ('day', 75), ('?  ', 75), ('Nisha', 75), ('take', 74), ('give', 74), ('Eloqua', 74), ('weight', 74), ('Yelena', 74), ('\\r\\n>>>>>>>>>> ', 73), ('h', 73), ('production', 73), (':\\r\\n', 73), ('page', 73), ('drive', 72), ('.\\r\\n> ', 72), ('chrome_gmail', 72), ('contains', 72), ('>\\r\\n>>>>> ', 72), ('fields', 72), ('account', 72), ('environment', 72), ('That', 71), ('\\r\\n>>    ', 71), ('request', 71), ('file', 71), (' *', 71), ('available', 71), ('bottom', 70), ('analytics', 70), ('Customer', 70), ('\\r\\n>>> <', 70), ('group', 70), ('.\\r\\n>>>>\\r\\n>>>> ', 70), ('must', 70), ('Fshva', 70), ('margin', 70), ('case', 70), ('best', 69), ('results', 69), ('save', 69), ('same', 69), ('Helvetica', 68), ('o', 68), ('click', 68), ('additional', 68), ('36', 68), ('slack', 68), ('check', 68), ('66', 68), ('whales', 68), ('Email', 68), ('</', 67), ('dato', 67), ('send', 67), ('great', 67), ('above', 67), ('height', 67), ('attached', 67), ('needs', 67), ('questions', 67), ('edit', 67), ('columns', 66), ('Goetterman', 66), ('active', 66), ('big', 66), ('column', 66), ('below', 66), (',\\r\\n>>> ', 65), ('Your', 65), ('attachments', 65), ('preferences', 65), ('subject', 65), ('morning', 65), ('\\r\\n\\r\\n\\r\\n', 65), ('Prescription', 65), ('everyone', 65), ('34', 65), ('Slack', 65), ('Benefit', 65), ('current', 64), ('th', 64), ('313', 64), ('Notice', 64), ('416', 64), ('>\\r\\n>>>> ', 64), ('EP', 64), ('/>\\r\\n>\\r\\n\\r\\n\\r\\n\\r\\n-- \\r\\n', 64), ('usp', 64), ('Sorry', 63), ('possible', 63), ('Hello', 63), ('tableau', 63), ('/\\r\\n\\r\\n', 63), ('bold', 63), ('6595', 63), ('else', 63), ('8876', 63), ('22', 63), ('Pricing', 63), ('41', 63), ('full', 63), ('elq', 63), ('Confidentiality', 63), ('hs_email', 62), ('something', 62), ('Sun', 62), ('w', 61), ('anything', 61), (' = ', 61), ('total', 61), ('Drive', 61), ('gross', 61), ('part', 61), (\" '\", 61), ('gmail', 61), ('might', 61), ('77', 61), ('learn', 60), ('-\\r\\n<', 60), ('iPhone', 60), ('bit', 60), ('E', 59), ('aW', 59), ('really', 59), ('Umaru', 59), ('QA', 59), ('J', 59), ('very', 59), ('Tableau', 59), ('include', 59), ('39', 59), ('32', 59), ('\\xe2\\x80\\x99', 59), ('wanted', 59), ('.\\r\\n>>>>>\\r\\n>>>>> ', 59), ('align', 59), ('\\r\\n>>>\\r\\n>>> ', 58), ('complete', 58), ('Sneider', 58), ('before', 58), ('sheets', 58), ('forward', 58), ('Happiestminds', 58), ('getting', 58), ('number', 57), ('currently', 57), ('still', 57), ('Target', 57), ('family', 57), ('<', 57), ('reporting', 57), ('already', 57), ('YMKT', 57), ('Analytics', 56), ('its', 56), ('line', 56), ('Invite', 56), ('after', 56), ('thanks', 56), ('0024', 56), ('K', 56), ('set', 55), ('change', 55), ('\\r\\n>    - ', 55), ('Do', 55), ('who', 55), (\"' \", 54), ('Cost', 54), ('way', 54), ('pretty', 54), ('Forwarded', 54), ('Minds', 54), ('Happiest', 54), ('Lamin', 54), ('j', 54), ('minutes', 54), ('each', 54), ('fee', 54), ('update', 53), ('Reisler', 53), ('missing', 53), ('show', 53), (',\\r\\n>>\\r\\n>> ', 53), ('EN', 53), ('find', 53), ('optimizations', 53), ('USCA', 53), ('% ', 53), ('af', 52), ('* - ', 52), ('load', 52), ('etc', 52), (':\\r\\n>>>\\r\\n>>>> ', 52), ('provide', 52), ('within', 52), ('specialty', 52), ('problem', 52), ('And', 52), ('1914690', 52), ('filter', 52), ('Manager', 52), ('Dato', 52), ('9817', 52), ('ulamin', 52), ('transactions', 51), ('Anantharaju', 51), ('Rick', 51), ('Joseph', 51), ('BigQuery', 51), ('Org', 51), ('center', 51), ('Big', 51), ('pharmacy', 51), ('analysis', 51), ('\\r\\n>\\r\\n\\r\\n\\r\\n\\r\\n-- \\r\\n', 50), ('crop', 50), ('recent', 50), ('2013', 50), ('de', 50), ('product', 50), ('As', 50), ('under', 50), ('). ', 50), (' + ', 50), ('\\r\\n>>>>>>>>>>> ', 50), ('regards', 50), ('things', 49), ('chain', 49), ('mind', 49), ('lot', 49), ('\\r\\n   ', 49), ('Farnoosh', 49), ('loaded', 49), ('Redshift', 49), ('potential', 49), ('How', 49), ('Friday', 49), ('60', 49), ('plan', 48), ('JhZUBvcmF', 48), ('sheet', 48), ('N', 48), ('hY', 48), ('.\\r\\n\\r\\n\\r\\n~', 48), ('! ', 48), ('img', 48), ('included', 48), ('added', 48), ('view', 48), ('Drug', 48), ('>\\r\\n>>   /  ', 47), ('Thank', 47), ('vs', 47), ('153', 47), ('\\r\\n>>>\\r\\n>>> [', 47), (' \\r\\n<', 47), ('based', 47), ('yet', 47), ('background', 47), ('item', 47), ('mm', 47), ('Can', 47), ('model', 47), ('he', 47), ('k', 46), ('service', 46), ('tracking', 46), ('company', 46), ('href', 46), ('PPO', 46), ('left', 46), ('identify', 46), ('useful', 46), ('thing', 46), ('jb', 46), ('New', 46), ('O', 46), ('82', 46), ('\\r\\n   - ', 46), ('/>\\r\\n>>\\r\\n>\\r\\n>\\r\\n>\\r\\n> --\\r\\n> ', 45), ('cFu', 45), (':\\r\\n>\\r\\n> ', 45), ('EKyBHw', 45), ('unsubscribe', 45), ('buPYmuMVTGDP', 45), ('ABVmeauwHy', 45), ('So', 45), ('DLEcfpUhm', 45), ('png', 45), ('between', 45), ('Team', 45), ('UEhkCxlYM_Nc', 45), ('gs', 45), ('Cz', 45), ('down', 45), ('jnNogfByxqXSvF', 45), ('yvonne', 45), ('HSA', 45), ('field', 45), ('mui', 45), (' \\r\\n> ', 45), ('YY', 45), ('mbug', 45), ('lEP', 45), ('snSeDAgB', 45), (';\"><', 45), ('BsIv', 45), ('VrbrRxqfiD', 45), ('due', 45), ('734', 45), ('14479', 44), ('sense', 44), ('code', 44), ('Parallels', 44), ('gl', 44), ('ece', 44), ('Andrew', 44), ('48', 44), ('49', 44), ('GraphLab', 44), ('Last', 44), ('types', 43), ('action', 43), ('\\r\\n\\r\\n-- \\r\\n', 43), ('shared', 43), ('en', 43), ('online', 43), ('probably', 43), ('webhook', 43), ('emails', 43), ('border', 43), ('Iype', 43), ('latest', 43), ('47', 43), ('Support', 43), ('place', 43), ('once', 43), ('job', 43), ('They', 42), (')\\r\\n> <', 42), ('always', 42), ('start', 42), ('qUTJORGM', 42), ('Good', 42), (' \\r\\n', 42), ('PTSN', 42), ('urlhash', 42), ('Mem', 42), ('plh', 42), ('Create', 42), ('create', 42), ('y', 42), ('source', 42), ('Technical', 42), ('42', 42), (').  ', 42), ('58', 42), ('>\\r\\n>>>>>> ', 42), ('RnIxbkFtUUFBbk', 42), ('looks', 42), ('why', 42), ('\\r\\n>>>    - ', 42), ('Jun', 42), ('91', 41), ('many', 41), ('Ng', 41), ('pZCI', 41), ('session', 41), ('Will', 41), ('eyJlbWFpbF', 41), (', \"', 41), ('002', 41), ('05', 41), ('09', 41), ('zaXRpb', 41), ('running', 41), ('Ik', 41), ('address', 40), ('Monday', 40), ('note', 40), ('found', 40), ('optimization', 40), ('Q', 40), ('* ', 40), ('View', 40), ('Fill', 40), ('71', 40), ('Now', 40), ('100', 40), ('Benecash', 40), ('paid', 40), ('simply', 40), ('too', 40), ('ID', 40), ('&#', 39), ('following', 39), ('research', 39), ('Alan', 39), ('Amazon', 39), ('john', 39), ('runs', 39), ('Rx', 39), ('Meeting', 39), ('ready', 39), ('At', 39), ('America', 39), (',\\r\\n>>>> ', 39), ('202015', 39), ('even', 39), ('>\\r\\n>>>>>>> ', 39), ('correct', 39), (':\\r\\n>>>>\\r\\n>>>>> ', 39), ('What', 39), ('either', 39), ('invite', 39), ('names', 39), ('copy', 39), ('provided', 39), ('options', 39), ('79', 39), ('helpful', 39), ('until', 38), ('sans', 38), ('couple', 38), ('office', 38), ('refill', 38), ('non', 38), ('Sendbloom', 38), ('src', 38), (\": '\", 38), ('Acquisition', 38), (',\\r\\n>>>\\r\\n>>> ', 38), ('transaction', 38), ('hl', 38), ('06', 38), ('form', 38), ('again', 38), ('Arthur', 38), (' &', 38), ('Is', 38), ('design', 38), ('Arial', 38), ('few', 38), ('serif', 38), ('g', 38), ('Recruiter', 37), ('PST', 37), ('unique', 37), ('didn', 37), ('PY', 37), ('3361', 37), ('Talent', 37), ('delivery', 37), ('\\r\\n>>>>> <', 37), ('Take', 37), ('spreadsheet', 37), ('home', 37), ('240', 37), ('!\\r\\n>\\r\\n> ', 37), ('08', 37), ('Regards', 37), ('JhdGlvbi', 37), ('ZT', 37), ('join', 37), ('onto', 37), ('56', 37), ('HG', 37), ('includes', 37), ('70', 37), ('pramod', 37), ('127745480', 36), ('Thursday', 36), ('385040', 36), ('Conn', 36), ('science', 36), ('webhooks', 36), ('MTkjc', 36), ('ctz', 36), (']\\r\\n<', 36), ('dG', 36), ('\\r\\n>>>>\\r\\n>>>> ', 36), ('Rich', 36), ('DIDLTPQC', 36), ('half', 36), ('eid', 36), ('issue', 36), ('.\\r\\n>> ', 36), ('gp', 36), ('mentioned', 36), ('UO', 36), ('seen', 36), ('Z', 36), ('.\\r\\n>>>>>>\\r\\n>>>>>> ', 36), ('talk', 36), ('WB', 36), ('none', 36), ('Dpe_', 36), ('46', 36), ('tok', 36), ('hear', 36), ('TMWXHILXSY', 36), ('plus', 36), (')\\r\\n', 36), ('queries', 36), ('Los_Angeles', 36), ('Sandra', 36), ('export', 36), ('made', 36), ('machine', 35), ('X', 35), ('asked', 35), ('doing', 35), ('co', 35), ('\\xc2\\xa0', 35), ('df', 35), ('real', 35), ('... ', 35), ('44', 35), ('V', 35), ('><', 35), ('confirm', 35), ('\\r\\n> *', 35), ('\\r\\n>>>>>>>>>>>> ', 35), ('\\r\\n>>>> <', 35), ('Karen', 35), ('?\\r\\n\\r\\n', 35), ('), ', 35), ('kxYlJVV', 34), ('points', 34), ('existing', 34), (\"', \", 34), ('tbody', 34), ('QlikView', 34), ('registered', 34), ('key', 34), ('Neue', 34), ('side', 34), ('content', 34), ('Richman', 34), ('When', 34), ('G', 34), ('RxAnalyzer', 34), ('filters', 34), ('LinkedIn', 34), ('goo', 34), ('\\r\\n\\r\\n----------------------------------------------\\r\\n\\r\\n', 34), ('Day', 34), ('she', 34), ('reminder', 34), ('BRmhQVkdnRkxDY', 34), ('mike', 34), (':\\r\\n>>>>>\\r\\n>>>>>> ', 33), ('open', 33), ('future', 33), ('created', 33), ('learning', 33), ('business', 33), ('put', 33), ('mobile', 33), ('></', 33), ('702', 33), ('automatically', 33), ('guys', 33), ('little', 33), ('idea', 33), ('/>\\r\\n>\\r\\n\\r\\n\\r\\n\\r\\n-- \\r\\n~', 33), ('Order', 33), ('408', 33), ('- ', 33), ('57', 33), ('level', 33), ('later', 33), ('>\\n\\t\\t\\t<', 33), ('Inc', 33), ('feel', 33), ('option', 33), ('Fgp', 32), ('st', 32), ('  \\r\\n', 32), (' #', 32), ('16047368', 32), ('person', 32), ('561', 32), ('move', 32), ('San', 32), ('haven', 32), ('Digital', 32), ('interested', 32), ('Great', 32), ('during', 32), ('excluded', 32), ('manage', 32), ('meet', 32), ('Briggs', 32), ('bcO', 32), ('\\n\\n', 32), ('spreadsheets', 32), ('Myers', 32), ('38', 32), ('-\\r\\n> <', 32), ('changes', 32), ('Group', 32), ('datasets', 32), ('feed', 32), ('rows', 32), ('tab', 32), ('8827', 32), ('four', 31), ('fromAddress', 31), ('steps', 31), ('Scientist', 31), ('/>\\r\\n>>>\\r\\n>>\\r\\n>>\\r\\n>>\\r\\n>> --\\r\\n>> ', 31), ('\\r\\n> \\xe2\\x80\\xa2\\r\\n> ', 31), ('>\\r\\n>>>>>>>> ', 31), ('Cc', 31), ('wm', 31), ('sending', 31), ('trying', 31), ('soon', 31), ('  /  ', 31), ('replyTo', 31), ('Jenkins', 31), ('January', 31), ('did', 31), ('q', 31), ('Business', 31), ('201', 31), ('wiki', 31), ('Learn', 31), ('lbnQuY', 31), ('Yes', 31), ('yesterday', 31), (':\\r\\n> \\r\\n> ', 31), ('Pam', 31), ('Marketing', 31), ('Julian', 31), ('78', 31), ('instead', 31), ('NlZ', 31), ('oSun', 31), ('>\\r\\n\\r\\n', 31), ('fit', 30), ('rick', 30), ('f_cir', 30), ('happy', 30), ('Agenda', 30), ('vMLK', 30), ('nTZj', 30), ('small', 30), ('experience', 30), ('atlassian', 30), ('LubyPcbYgpb', 30), ('\\r\\n         ', 30), ('high', 30), ('Sat', 30), ('richman', 30), ('ZNWDNVM', 30), ('FYI', 30), ('received', 30), ('uKnxluEkiKP', 30), (',\\r\\n>>>>>\\r\\n>>>>> ', 30), ('receiving', 30), ('FKm', 30), ('log', 30), ('facebook', 30), ('\\r\\n>>>>\\r\\n>>>> [', 30), ('lxoeOSZe', 30), ('yLk', 30), ('testing', 30), (';\" ', 30), ('weekend', 30), ('talked', 30), ('hxJRJ', 30), ('lunch', 30), ('RgjhJl', 30), ('query', 30), ('35', 30), ('*\" ', 30), ('Re', 30), ('recognition', 30), ('patrick', 30), ('alt', 30), ('aab', 30), ('sort', 30), ('mzUeKsk', 30), ('copay', 30), ('VQmprbAfiuVW', 30), ('maXmP', 30), ('Our', 29), ('records', 29), (')\\r\\n>> <', 29), ('continue', 29), ('Company', 29), ('deductible', 29), ('Members', 29), ('similar', 29), (': \"', 29), ('admin', 29), ('display', 29), ('seem', 29), ('04', 29), ('Seifoddini', 29), (' | ', 29), ('decoration', 29), ('  ', 29), ('GCE', 29), ('53', 29), ('Since', 29), ('version', 29), ('generate', 29), ('76', 29), ('Requirements', 28), ('My', 28), ('single', 28), ('Street', 28), ('tL', 28), ('github', 28), ('Of', 28), ('ca', 28), ('VTUG', 28), ('does', 28), ('feeds', 28), ('sridhar', 28), ('mantha', 28), ('browser', 28), ('Thx', 28), ('completely', 28), ('anetID', 28), ('Strata_SJ_', 28), (',\\r\\n>>>>> ', 28), ('.\\r\\n\\r\\n\\r\\n\\r\\n\\r\\n\\r\\n~', 28), ('reisler', 28), ('further', 28), ('point', 28), ('though', 28), ('55', 28), ('Member', 28), ('opportunities', 28), ('75', 28), ('Dear', 28), ('RxCUI', 28), ('conversation', 28), ('Does', 27), ('Paul', 27), ('397', 27), ('project', 27), ('Pharmacy', 27), ('. \\r\\n\\r\\n', 27), ('try', 27), ('makes', 27), ('clients', 27), ('items', 27), ('\\r\\n\\r\\n> ', 27), ('Y', 27), ('533', 27), ('medication', 27), ('together', 27), ('222222', 27), ('notice', 27), ('Theia', 27), ('UX', 27), ('8768', 27), ('pavan', 27), ('baf', 27), ('5275', 27), ('warehouse', 27), ('\\r\\n>>>>    ', 27), ('claim', 27), ('done', 27), (' > ', 27), ('optional', 27), ('tableausoftware', 27), ('\\r\\n>\\r\\n> --\\r\\n> ', 27), ('He', 27), ('marketing', 27), ('platform', 27), ('come', 27), ('separate', 27), (':\\r\\n>>>>>>\\r\\n>>>>>>> ', 27), ('goetterman', 27), ('feedback', 26), ('API', 26), ('release', 26), ('CYlRveE', 26), ('.\\r\\n> \\r\\n> ', 26), ('say', 26), ('832', 26), ('/>\\r\\n>\\r\\n', 26), ('TriNet', 26), ('having', 26), ('One', 26), ('said', 26), ('sendbloom', 26), ('PR', 26), ('Whales', 26), ('Home', 26), ('david', 26), ('another', 26), ('3036', 26), ('month', 26), ('rxanalyzer', 26), ('>\\n                    <', 26), ('div', 26), ('=\"#', 26), ('bgcolor', 26), ('59', 26), ('ok', 26), ('These', 26), ('users', 26), (',\\r\\n>>>>\\r\\n>>>> ', 26), ('Mironov', 25), ('example', 25), ('screen', 25), ('qWE', 25), ('GdSe', 25), ('certain', 25), ('hangouts', 25), ('\\r\\n>>>>>>>>>>>>> ', 25), ('maybe', 25), ('means', 25), ('gjFKPXtHHJgzXbLso', 25), ('vg', 25), ('buSjigF', 25), ('Prices', 25), ('imgix', 25), ('early', 25), ('--', 25), ('EKrMdVj', 25), ('ZVW', 25), ('Ely', 25), ('Not', 25), ('aORPtvFTNFaQlxnSXL', 25), ('previously', 25), ('purchase', 25), ('messages', 25), ('oVmtf', 25), ('CyTea_faPfi', 25), ('wait', 25), ('dKMMDp', 25), ('Wy', 25), ('anyone', 25), ('ZiYfs', 25), (' \\xe2\\x80\\x93 ', 25), ('scripts', 25), ('?\\r\\n>\\r\\n> ', 25), (' ~', 25), ('Fbit', 25), ('33', 25), ('ly', 25), ('value', 25), ('got', 25), ('ran', 25), ('faces', 25), ('51', 25), ('NzQ', 25), ('ReU', 25), ('desk', 25), ('Madiraja', 25), ('him', 25), ('840', 25), ('strategy', 25), ('aAHTKDmJ_qTViY', 25), ('z', 25), ('NPIs', 25), ('volume', 25), ('*\\r\\n> ', 24), ('EDF', 24), ('8735', 24), ('along', 24), ('Share', 24), ('No', 24), ('large', 24), ('section', 24), ('Leong', 24), ('receive', 24), ('bV', 24), ('Jim', 24), ('stage', 24), ('479', 24), ('terms', 24), ('Trial', 24), ('864', 24), ('discussion', 24), ('>\\n\\t\\t\\t\\t\\t\\t<', 24), ('\\t', 24), ('.\\r\\n\\r\\n\\r\\n', 24), ('\\r\\n>>>>>>>>>>>>>>> ', 24), ('evening', 24), ('660', 24), ('while', 24), ('Unfortunately', 24), ('used', 24), ('database', 24), ('showing', 24), ('Learning', 24), ('ids', 24), ('.\\r\\n>>>>>>>\\r\\n>>>>>>> ', 24), ('Developers', 24), ('won', 24), ('Roadshow', 24), ('260', 24), ('updates', 24), ('setup', 24), ('Fref', 24), ('>\\n\\t\\t\\t\\t\\t\\t</', 24), ('notification', 24), ('box', 24), ('thank', 24), ('channel', 24), ('track', 24), ('\\r\\n>\\r\\n', 24), ('29654', 24), ('generated', 24), ('public', 24), ('build', 24), ('.\\r\\n<', 24), ('Total', 24), ('15857135', 24), ('/>\\n\\t\\t\\t\\t\\t\\t\\t<', 24), (' <\\r\\n> ', 24), ('mironov', 24), ('quick', 24), ('IP', 24), ('SQL', 24), ('files', 24), ('80', 24), ('graphlab', 23), ('needed', 23), ('rich', 23), (':\\r\\n>> ', 23), ('>\\n\\t\\t</', 23), ('uY', 23), ('fseifoddini', 23), ('Report', 23), ('GitHub', 23), ('yYXRpb', 23), ('hope', 23), ('sales', 23), ('!  ', 23), ('da', 23), ('Technologies', 23), ('post', 23), ('live', 23), ('lid', 23), ('>\\r\\n>>>>>   /  ', 23), ('processing', 23), ('info', 23), ('button', 23), ('Mantha', 23), ('auto', 23), ('necessary', 23), ('stay', 23), ('ginger', 23), ('Days', 23), ('07', 23), ('making', 23), ('Name', 23), ('across', 23), ('pill', 23), (':\\r\\n>>>>>>>\\r\\n>>>>>>>> ', 23), ('. \\r\\n<', 23), ('optimize', 23), ('copied', 23), ('fixed', 23), ('dataset', 23), ('W', 23), ('Sridhar', 23), ('n', 23), ('accept', 23), ('Geese', 23), ('requested', 23), ('associated', 23), ('requirements', 23), ('84', 23), ('039', 23), ('reviewing', 22), ('effective', 22), ('fix', 22), ('209', 22), ('Walgreens', 22), ('rw', 22), ('Should', 22), ('Click', 22), ('self', 22), ('PT', 22), ('invited', 22), ('>\\r\\n>>>   /  ', 22), ('employees', 22), ('BywMl', 22), ('entries', 22), ('GLC', 22), ('Grace', 22), ('inactive', 22), ('thinking', 22), ('cG', 22), ('fB', 22), ('towards', 22), ('generating', 22), ('application', 22), ('\\xe2\\x80\\x9d ', 22), ('Gartner', 22), ('times', 22), ('Growth', 22), (')\\r\\n>    - ', 22), ('Futm_medium', 22), ('summary', 22), ('important', 22), ('starting', 22), ('dev', 22), ('numbers', 22), ('coming', 22), ('folders', 22), ('understand', 22), ('patient', 22), ('completed', 22), ('jaGVuQG', 22), ('Dsocial', 22), ('PBM', 22), ('differences', 22), ('ng', 22), ('>\\n<', 22), ('\\r\\n>>>>>\\r\\n>>>>> [', 22), ('Buy', 22), ('blog', 22), ('reach', 22), ('73', 22), ('tables', 22), ('called', 22), (' -- ', 22), ('figure', 22), ('\\r\\n>>>>>    ', 22), (') *', 22), ('Science', 22), (' <\\r\\n', 21), (';\\r\\n        ', 21), ('Python', 21), ('Disclaimer', 21), ('training', 21), ('rest', 21), ('ac', 21), ('greater', 21), ('See', 21), ('Brand', 21), ('.\\r\\n\\r\\n   ', 21), ('RESPOND', 21), ('Downloads', 21), ('fY', 21), ('article', 21), ('jpg', 21), ('Twitter', 21), ('required', 21), ('download', 21), ('products', 21), (' \\xe2\\x80\\x9c', 21), ('rst', 21), ('Development', 21), ('overall', 21), ('BD', 21), ('. *', 21), (':* ', 21), ('\\r\\n   <', 21), ('\\r\\n>>>>>>>>>>>>>> ', 21), ('doesn', 21), ('solid', 21), ('>\\r\\n>>>>>>>>> ', 21), ('.\\r\\n>>>>>>>>\\r\\n>>>>>>>> ', 21), ('detail', 21), ('conference', 21), ('54', 21), ('everything', 21), ('legally', 21), ('Kong', 21), (')\\r\\n> ', 21), ('Karan', 21), ('Verifier', 21), ('Top', 21), ('proceed', 21), ('health', 21), ('JD', 21), ('long', 21), ('nice', 21), ('proprietary', 21), ('87', 21), (':\\r\\n>>>>>\\r\\n>>>>> ', 21), (') <', 21), ('Hope', 21), ('book', 21), ('00507', 20), ('bluehornet', 20), ('developers', 20), ('pass', 20), ('scientists', 20), ('Fgoo', 20), ('bring', 20), ('Update', 20), ('configured', 20), ('eyJlYSI', 20), ('web', 20), ('Diana', 20), ('filtered', 20), ('iLCJlYyI', 20), ('launches', 20), ('15504620', 20), ('occur', 20), ('discuss', 20), ('cannot', 20), ('InNtYWNyYWVAb', 20), ('read', 20), ('**: \\r\\n**', 20), ('reason', 20), ('.\\r\\n>\\r\\n>\\r\\n> ', 20), (' \\r\\n\\r\\n', 20), ('sV', 20), ('processed', 20), ('state', 20), ('202014', 20), ('demo', 20), ('Jasper', 20), ('noticed', 20), ('hs', 20), ('tell', 20), (' <\\r\\n>> ', 20), ('AWS', 20), ('stop', 20), ('days_supply', 20), ('template', 20), ('App', 20), ('normal', 20), ('especially', 20), ('WA', 20), ('perspective', 20), ('Don', 20), ('hard', 20), ('tool', 20), ('fine', 20), ('444444', 20), ('\\n', 20), ('thought', 20), ('bug', 20), ('every', 20), ('Mobile', 20), ('Gross', 20), ('andrew', 20), ('far', 20), ('engineers', 20), ('echo', 20), ('gets', 20), ('16090092', 20), ('\\r\\n>>\\r\\n>\\r\\n>\\r\\n>\\r\\n> --\\r\\n> ', 20), ('second', 19), ('respond', 19), ('parallels', 19), ('Jose', 19), ('sign', 19), ('positive', 19), ('Who', 19), ('such', 19), (':\\r\\n>>\\r\\n>> ', 19), ('fdeb', 19), ('around', 19), ('pull', 19), ('6619022', 19), ('Gracias', 19), ('bb', 19), ('video', 19), ('index', 19), ('survey', 19), ('site', 19), ('schedule', 19), ('appreciate', 19), ('+ ', 19), (')  <', 19), ('conn', 19), ('night', 19), ('forms', 19), ('o_quantity', 19), ('started', 19), ('Wednesday', 19), ('healthcare', 19), ('48233', 19), ('Have', 19), ('hit', 19), ('sounds', 19), ('speaking', 19), ('niype', 19), ('late', 19), ('insurance', 19), (' ----------\\r\\n', 19), ('comfortable', 19), ('comment', 19), ('GN', 19), ('HR', 19), ('multiple', 19), ('subscribed', 19), ('500', 19), ('631', 19), ('eligibility', 19), ('Things', 19), ('double', 19), ('moving', 19), ('lower', 19), ('apple', 19), ('integrations', 19), ('covered', 19), ('0941', 19), (':\\r\\n> ', 18), ('SafeHtmlFilter_', 18), ('directly', 18), ('PavanM', 18), ('Use', 18), ('Desktop', 18), ('Recognize', 18), ('Brian', 18), ('\\r\\n>>>>>> <', 18), ('Ok', 18), ('Pack', 18), ('EUXlNVFlBIiwicG', 18), (')\\r\\n\\r\\n', 18), ('colspan', 18), ('2012', 18), ('tonight', 18), ('device', 18), ('standard', 18), ('months', 18), ('trial', 18), ('Service', 18), ('coverage', 18), ('MG', 18), ('Whale', 18), ('twitter', 18), ('solution', 18), ('tips', 18), ('features', 18), ('JSON', 18), ('interest', 18), ('opportunity', 18), ('FtcGFpZ', 18), ('performance', 18), (':\\r\\n>>>>>>>>\\r\\n>>>>>>>>> ', 18), ('services', 18), ('integration', 18), ('Mac', 18), ('dGVEJjem', 18), (' /', 18), ('\\r\\n>> *', 18), ('hs_automation', 18), ('raw', 18), ('specific', 18), ('88', 18), ('*, ', 18), ('seems', 18), ('directory', 18), ('\\r\\n>>>>    - ', 18), ('] ', 18), ('Plan', 18), (',\\r\\n>>>>>>> ', 18), ('_Rich', 18), (' / ', 18), ('Success', 18), ('Move', 18), ('whether', 18), ('/>\\r\\n>>>>\\r\\n>>>\\r\\n>>>\\r\\n>>>\\r\\n>>> --\\r\\n>>> ', 18), ('\\r\\n>>>>>\\r\\n>>>>>\\r\\n>>>>>\\r\\n>>>>> ', 17), (':\\r\\n>>\\r\\n>>    - ', 17), ('fe', 17), ('unoptimized', 17), ('Check', 17), ('Sounds', 17), ('Seattle', 17), ('input', 17), ('spending', 17), ('scrum', 17), ('technical', 17), ('standing', 17), ('Request', 17), ('allow', 17), ('2019', 17), ('\\r\\n>>>>>>> <', 17), ('Keep', 17), ('PA', 17), ('benecard', 17), ('increased', 17), ('negative', 17), ('campaigns', 17), ('\", \"', 17), ('db', 17), ('applied', 17), ('space', 17), (' <\\r\\n>>> ', 17), ('somebody', 17), ('aren', 17), ('launch', 17), ('With', 17), ('gt', 17), ('pavanmadiraja', 17), ('chronic', 17), ('126', 17), ('interesting', 17), ('However', 17), ('companies', 17), ('likely', 17), ('never', 17), (':\\r\\n>>> ', 17), ('\\r\\n>\\r\\n\\r\\n\\r\\n\\r\\n-- \\r\\n~', 17), ('medical', 17), ('decided', 17), ('!\\r\\n', 17), ('206', 17), ('Calendar', 17), ('mac', 17), ('925', 17), ('videos', 17), ('least', 17), ('remove', 17), ('excited', 17), ('helps', 17), ('Oration_ID', 17), ('bunch', 17), ('works', 17), ('direct', 17), (':\\r\\n>>>\\r\\n>>> ', 17), ('portal', 17), ('discount', 17), ('Time', 17), (')\\r\\n>>>>> <', 17), ('given', 17), ('status', 17), ('without', 17), ('Many', 17), ('determine', 17), ('\\r\\n>>>>>>\\r\\n>>>>>> [', 17), ('rather', 17), ('short', 17), ('About', 17), ('Next', 17), ('own', 17), ('ZUFCYlRveE', 16), ('commented', 16), ('hold', 16), ('hoc', 16), ('encourage', 16), ('administrative', 16), ('Think', 16), ('UNION', 16), ('million', 16), ('ideashape', 16), ('adccf', 16), ('format', 16), ('9280948', 16), ('Awesome', 16), ('0663761', 16), ('dGVHN', 16), (',\\r\\n>>>>>> ', 16), ('purposes', 16), ('Fproduct', 16), ('Would', 16), ('script', 16), ('orderStatus', 16), ('rates', 16), ('target', 16), ('Instead', 16), ('requests', 16), ('adding', 16), ('comments', 16), ('USQeCbajV', 16), ('lowest', 16), (') \"*', 16), ('test', 16), ('During', 16), ('Attached', 16), ('er', 16), (' (#', 16), (' ----------\\r\\n> ', 16), ('building', 16), ('Sr', 16), ('2317628', 16), ('141', 16), ('.\\r\\n>>> ', 16), ('NmM', 16), (':\\r\\n>\\r\\n>    - ', 16), ('generic', 16), ('djMzazJuMmJ', 16), ('43', 16), ('IDs', 16), ('hE', 16), ('performed', 16), ('sorry', 16), ('Corporation', 16), ('weeks', 16), ('   (', 16), ('iajRfMDA', 16), ('249', 16), ('against', 16), ('three', 16), ('\\r\\n>>>>>>>> <', 16), ('Claim', 16), ('visit', 16), ('_ogc_', 16), ('\\r\\n>>>\\r\\n>>\\r\\n>>\\r\\n>>\\r\\n>> --\\r\\n>> ', 16), ('dates', 16), ('images', 16), ('difference', 16), ('manually', 16), ('Cool', 16), ('benefits', 16), ('186', 16), ('joining', 16), ('override', 16), ('scale', 16), ('rejection', 16), ('engineering', 16), ('3874625', 16), ('body', 16), ('identifies', 16), ('retail', 16), ('Per', 16), ('Design', 16), ('passing', 16), ('stored', 16), ('Chain', 16), ('populated', 16), ('filtering', 16), ('NjU', 16), ('follow', 16), ('rate', 16), ('Atorvastatin', 16), ('________________________________', 16), ('member_invited', 16), ('>\\r\\n \\r\\n<', 16), ('license', 16), ('p_', 16), ('seller', 16), ('>  /  ', 16), ('tax', 16), ('JhljbDBjRmxDQ', 16), ('.\\r\\n>>>>>\\r\\n>>>>>\\r\\n>>>>>\\r\\n>>>>> ', 16), ('\\r\\n>>>>>>>\\r\\n>>>>>>> [', 16), ('growth', 16), ('\\r\\n>>>>>>\\r\\n>>>>>> ', 16), ('95', 15), ('Aofksm', 15), ('mdE', 15), (',\\r\\n>>>>>>>> ', 15), ('inside', 15), ('MQ', 15), ('contained', 15), ('JP_DS', 15), ('costs', 15), ('\"><', 15), ('Note', 15), ('Nzk', 15), ('YzBkamhjbWVjbTExanQxNGMgZXJpYy', 15), ('_zvgNEf', 15), ('Tracking', 15), ('sorting', 15), ('User', 15), ('ElgQK', 15), ('NLhCDv', 15), ('Mountain', 15), ('lVimfj', 15), (']\\r\\n>> <', 15), ('bother', 15), ('>\\n</', 15), ('February', 15), ('somewhere', 15), ('split', 15), ('Type', 15), ('approximately', 15), ('speak', 15), ('engines', 15), ('Relationship', 15), ('yfFF', 15), ('UVTFOalFBIiwicG', 15), ('write', 15), ('CHSZLOMYYqBzHD', 15), ('Mail', 15), ('Unsubscribe', 15), ('\\r\\n*', 15), ('low', 15), ('VIEW', 15), ('LfbC', 15), ('lift', 15), ('fc', 15), ('systems', 15), ('Senior', 15), ('WUB', 15), ('tmwiVUJ', 15), ('challenge', 15), ('UP_raSB', 15), ('iyj', 15), ('MWY', 15), ('step', 15), ('QYo', 15), ('Oe', 15), ('\\r\\n>>>>>>>>\\r\\n>>>>>>>> [', 15), ('/ ', 15), ('glmRzi', 15), ('hC', 15), ('ZkKahOlzMBBwgBTGx', 15), ('answer', 15), ('KXRVlraUzdsoMtjQwFsujzO', 15), ('FKF', 15), ('ZyaZn', 15), ('AWP', 15), ('reference', 15), ('thoughts', 15), ('Vu', 15), ('HqxwmVaoOdDR', 15), ('afternoon', 15), ('JNhg', 15), ('assume', 15), ('sample', 15), ('Prescriptions', 15), ('\\r\\n>>\\r\\n>>\\r\\n>> ', 15), ('\\n>> ', 15), ('EzIvy', 15), (']\\r\\n> <', 15), ('fCImoFdMXUv', 15), ('csv', 15), ('Potter', 15), ('Spreadsheet', 15), ('NWMxMThiMjI', 15), ('development', 15), (' -', 15), ('Download', 15), ('attachment', 15), ('BHm', 15), ('948', 15), ('LiRU', 15), ('94043', 15), ('Smart', 15), ('\\r\\n>>>>>>    ', 15), ('Go', 15), ('Mmp', 15), ('primary', 15), (' &#', 15), ('core', 15), ('uggUNTnbqyo', 15), ('USPS', 15), ('NpXEv', 15), ('coach', 15), ('groups', 15), ('conversations', 15), ('uLmNvbTgwYTc', 15), ('MjQyNzMxZmExMjliNmY', 15), ('4099', 15), (') \\n\\n', 15), ('YTg', 15), ('Jh', 15), ('customers', 15), ('issues', 15), ('attend', 15), ('86', 15), (';\"></', 15), ('VZbmwekU', 15), ('organizer', 14), ('98103', 14), ('causing', 14), ('anetAnswer', 14), ('Maybe', 14), ('notifications', 14), ('floor', 14), ('prefer', 14), ('\\\\', 14), ('buffer', 14), ('gde', 14), ('preference', 14), ('world', 14), ('her', 14), ('social', 14), ('Stierlin', 14), ('heads', 14), ('exercise', 14), ('error', 14), ('\\r\\n\\r\\n&', 14), ('4788', 14), (' <\\r\\n>>>>> ', 14), ('zip', 14), ('Solutions', 14), (' = $', 14), ('\\r\\n>\\r\\n>\\r\\n> ', 14), ('Velandia', 14), ('password', 14), ('/>\\r\\n>>\\r\\n>\\r\\n>\\r\\n>\\r\\n> --\\r\\n> ~', 14), ('confirmed', 14), ('partner_price', 14), ('435', 14), ('market', 14), ('discussionID', 14), ('ea', 14), ('increase', 14), ('remotely', 14), ('Valley', 14), ('progress', 14), ('DNvhAfmhiSUVDZnVQRlZGZXdFd', 14), (' \"*', 14), ('ask', 14), ('prescribable', 14), ('syncing', 14), ('Chief', 14), ('rcTg', 14), ('Visualization', 14), ('rebates', 14), (': +', 14), ('\", ', 14), ('Partner', 14), ('coinsurance', 14), ('Specific', 14), ('Respond', 14), ('mappings', 14), ('Enter', 14), ('\\r\\n>>>>>>>\\r\\n>>>>>>> ', 14), (' <\\r\\n>>>> ', 14), ('skills', 14), ('lYYnhfakFIMkk', 14), ('relaxed', 14), ('itemID', 14), ('Ct', 14), ('manual', 14), ('226', 14), ('Hayes', 14), ('Pacific', 14), ('predictive', 14), ('>\\r\\n>\\r\\n\\r\\n\\r\\n\\r\\n-- \\r\\n~', 14), ('pay', 14), ('Operations', 14), ('-\\r\\n>> <', 14), ('hour', 14), ('Tonight', 14), ('minimum', 14), ('beginning', 14), ('2029', 14), ('Admin', 14), ('\\r\\n>>>       ', 14), ('distributed', 14), (',\\r\\n>>>>>>\\r\\n>>>>>> ', 14), ('1674', 14), ('noon', 14), ('>\\n                    </', 14), (' <#', 14), ('eml', 14), (' \\r\\n>>>>>>> ', 14), ('USA', 14), ('partner', 14), ('chains', 14), ('April', 14), ('changed', 14), ('assessment', 14), ('signing', 14), ('itemType', 14), ('Introduction', 14), ('Today', 14), ('Chris', 14), ('>\\r\\n>>>>>>>>>> ', 14), ('articleId', 14), ('16513658', 14), ('revenue', 14), ('regarding', 14), ('.\\r\\n>>>>>>>>>\\r\\n>>>>>>>>> ', 14), ('notify', 14), ('fees', 14), ('story', 14), ('his', 14), ('>\\n\\t\\n\\t\\t<', 14), ('customerServiceUrl', 14), ('). \\r\\n', 14), ('!\\r\\n>>\\r\\n>> ', 14), ('VHlZNVZWaFEzTHMtZk', 14), ('responses', 14), ('difficult', 14), ('RvY', 14), ('Finance', 14), ('Tuesday', 13), ('94', 13), ('turn', 13), ('aleong', 13), ('wasn', 13), ('listed', 13), ('conversion', 13), ('Facebook', 13), ('.\\r\\n\\r\\n-- \\r\\n~', 13), ('exact', 13), ('understanding', 13), ('30167962', 13), ('ML', 13), ('quite', 13), ('surgery', 13), ('Looking', 13), ('past', 13), ('select', 13), (',\\r\\n>>>>>>>\\r\\n>>>>>>> ', 13), (')\\r\\n>>    - ', 13), ('>\\n                </', 13), ('IntcInVcIjozMDE', 13), ('Young', 13), ('submit', 13), ('>\\r\\n>>>>   /  ', 13), ('tools', 13), ('delay', 13), ('Sam', 13), ('truth', 13), ('colleagues', 13), ('familiar', 13), ('chance', 13), ('MAF', 13), ('291', 13), ('550', 13), ('XCJodHRwOlxcXC', 13), ('.\\r\\n\\r\\n-- \\r\\n', 13), ('Qlikview', 13), ('discussions', 13), ('wp', 13), ('\" /></', 13), ('repository', 13), ('appear', 13), ('marked', 13), ('teams', 13), ('es', 13), ('shows', 13), ('Everyone', 13), ('worry', 13), ('touch', 13), ('Before', 13), ('Executive', 13), ('ahead', 13), ('tried', 13), ('Engine', 13), ('\\n>>> ', 13), ('mandrillapp', 13), ('\\r\\n>>>>>>>    - ', 13), ('addressed', 13), ('cloud', 13), ('applications', 13), ('highest', 13), ('generics', 13), ('represented', 13), ('invoice', 13), ('MixcInZcIjoxLFwidXJsXCI', 13), ('filled', 13), ('trademarks', 13), ('\\r\\n\\r\\n\\r\\n-- \\r\\n', 13), ('AC', 13), ('deep', 13), ('utilized', 13), (' > $', 13), ('depending', 13), ('>. ', 13), (' [', 13), ('\\r\\n>>>>>>>>    - ', 13), ('subscription', 13), ('?\\r\\n', 13), ('ld', 13), ('anonymized', 13), ('Saturday', 13), ('otherwise', 13), ('\\r\\n>>>>>\\r\\n>>>>>\\r\\n>>>>>\\r\\n>>>>> [', 13), ('*\\r\\n>>>>>\\r\\n>>>>> ', 13), ('\\r\\n>>>>>>>>>    - ', 13), ('888888', 13), ('PROD', 13), ('expense', 13), ('.\\n\\n', 13), ('quickly', 13), ('suggest', 13), ('\\r\\n>>\\r\\n>> --\\r\\n>> ', 13), ('cases', 13), ('Terms', 13), ('plans', 13), ('\\r\\n>>>>>\\r\\n>>>>> $', 13), ('ways', 13), ('MSwicCI', 13), ('63', 13), ('missed', 13), ('glad', 13), ('\\n> ', 13), ('JhcGhsYWIuY', 13), ('kind', 13), ('>\\r\\n>>\\r\\n>\\r\\n>\\r\\n>\\r\\n> --\\r\\n> ~', 13), ('analyze', 13), ('\\r\\n>>>\\r\\n>>> --\\r\\n>>> ', 13), ('explore', 13), ('choose', 13), ('looked', 13), (':\\r\\n>>>>>>>>>\\r\\n>>>>>>>>>> ', 13), ('walk', 13), ('ZXImdXRtX', 12), ('cellspacing', 12), ('>\\n\\t\\t\\t\\t</', 12), ('\\r\\n>>>>>>>>> <', 12), ('login', 12), ('life', 12), ('campaigning', 12), ('_TE_simp_on_sh', 12), ('RJY', 12), ('\\r\\n>     ', 12), ('>>\\r\\n', 12), ('NCPDP', 12), ('jEnu', 12), ('sL', 12), ('course', 12), ('>\\n\\t\\t\\t\\t\\t</', 12), ('936', 12), ('matches', 12), ('XIA', 12), ('settings', 12), ('NCPDPs', 12), ('\\r\\n>\\r\\n>\\r\\n> --\\r\\n> ', 12), ('traffic', 12), ('NM', 12), ('NF', 12), ('Rjsu', 12), ('Canada', 12), ('DLjgdkn', 12), ('URL', 12), ('badge', 12), ('cGRhdGUifQ', 12), ('savingsengine', 12), ('HHNYCWP', 12), ('Fcss', 12), ('Server', 12), ('community', 12), ('location', 12), ('333', 12), ('compute', 12), ('bT', 12), ('aerial', 12), ('fact', 12), ('prescribable_id', 12), ('OPD', 12), ('577', 12), ('ct', 12), ('\\r\\n(', 12), (')\\r\\n>>> <', 12), ('less', 12), ('itunes', 12), ('.\\r\\n>>\\r\\n>>\\r\\n>> ', 12), ('Going', 12), ('strength', 12), ('THyDXoc_qT', 12), ('MON', 12), ('strong', 12), ('\\r\\n> /  ', 12), ('macrae', 12), ('iOS', 12), ('sparse', 12), ('welcome', 12), ('hceid', 12), ('uiKvnFL', 12), ('Webhooks', 12), ('NsZXR', 12), ('>\\n\\t\\t\\t\\t\\t<', 12), ('Dropbox', 12), (':\\r\\n\\r\\n   - ', 12), ('620', 12), ('manufacturers', 12), ('rarr', 12), ('embedded', 12), ('answers', 12), ('SN', 12), ('documentation', 12), (')', 12), ('FFFFFF', 12), ('Woopra', 12), ('HNnF', 12), ('miss', 12), ('schema', 12), ('Portal', 12), ('trends', 12), ('department', 12), ('TypeCoach', 12), ('Video', 12), ('APDRCA', 12), ('>\\n\\t\\t\\t</', 12), ('Other', 12), ('Low', 12), ('stories', 12), ('XfzIrfN', 12), ('\">\\n\\t\\t\\t\\t\\t\\t\\t<', 12), ('cmNlPW', 12), ('complicated', 12), ('amazing', 12), ('Creative', 12), ('Forder', 12), ('regular', 12), ('highcharts', 12), ('entered', 12), ('>\\r\\n- ', 12), ('GGcZICIWhgRblgC', 12), ('Are', 12), ('swapping', 12), ('FOqzXwcoUc', 12), ('WTJ', 12), ('828', 12), ('823', 12), ('Sure', 12), ('assist', 12), ('money', 12), ('jigsaw', 12), ('A_', 12), ('RKNfjxwlMZ', 12), ('...\\r\\n\\r\\n', 12), ('.\\r\\n>>>\\r\\n>>>\\r\\n>>> ', 12), ('response', 12), ('timestamp', 12), ('>\\n\\t\\t\\t\\t<', 12), ('individual', 12), ('priced', 12), ('spend', 12), ('judgement', 12), ('lZGl', 12), ('translate', 12), ('cHJvZHVjdC', 12), ('reports', 12), ('entire', 12), ('userId', 12), ('lt', 12), ('VGpa', 12), ('\\r\\n>>>>>>>>>>>>>>>> ', 12), ('December', 12), ('Discuss', 12), ('GM', 12), ('mt', 12), ('lbWFpbCZ', 12), ('Synergies', 12), (') - ', 12), ('cellpadding', 12), ('head', 12), ('longer', 12), ('tXFxcL', 12), ('Summary', 12), ('Ultimate', 12), ('Start', 12), ('released', 12), ('sells', 12), ('>\\n\\t\\t\\t\\t\\t\\t\\t<', 12), ('outside', 12), ('myself', 12), ('IH', 12), ('osVoyPDK', 12), ('Annalise', 12), ('\\r\\n>>>>> *', 12), ('mGj', 12), ('MNJDZAMPGDTYQDVEHLI', 12), ('customer_', 12), ('*\\r\\n', 12), ('ForderId', 12), ('!</', 12), ('North', 12), ('Force', 12), ('ref_', 12), ('%\">\\n\\t\\t\\t<', 12), (';</', 12), ('Feel', 11), ('99', 11), ('restriction', 11), ('.\\r\\n>> \\r\\n>> ', 11), ('Privacy', 11), ('easy', 11), ('launching', 11), ('offer', 11), ('Supply', 11), ('studies', 11), ('love', 11), ('Why', 11), ('cXFwvZ', 11), ('punt', 11), ('/>\\r\\n>>>>>\\r\\n>>>>>\\r\\n>>>>>\\r\\n>>>>>\\r\\n>>>>>\\r\\n>>>>> --\\r\\n>>>>>\\r\\n>>>>> *', 11), ('>, \"', 11), ('returned', 11), ('adjust', 11), (' < ', 11), ('Bocce', 11), ('Optimizations', 11), ('interface', 11), ('manual_price', 11), ('occurred', 11), ('Results', 11), ('collecting', 11), ('cf', 11), ('\\r\\n>>>>>>>>>\\r\\n>>>>>>>>> [', 11), ('class', 11), ('Prioritization', 11), ('interview', 11), ('logs', 11), ('Reply', 11), ('asking', 11), (',\\r\\n>>>>>>>>\\r\\n>>>>>>>> ', 11), ('website', 11), ('RX', 11), ('nor', 11), ('cart', 11), (') \\r\\n<', 11), (',  ', 11), ('storage', 11), ('valid', 11), ('taken', 11), ('leave', 11), ('wonderful', 11), ('Price', 11), ('loop', 11), ('PHARMACY', 11), ('PII', 11), ('Find', 11), ('Looks', 11), ('win', 11), ('agenda', 11), ('Venue', 11), ('privacy', 11), ('TARGET', 11), ('Del', 11), ('>\\r\\n\\r\\n\\r\\n', 11), ('computed', 11), ('UI', 11), (':\\r\\n>>>\\r\\n>>>    - ', 11), ('persist', 11), ('Campaign', 11), ('isn', 11), ('basis', 11), ('exception', 11), ('News', 11), ('Where', 11), (' \\r\\n> <', 11), ('orgs', 11), ('>\\n        </', 11), ('?\\r\\n>>\\r\\n>> ', 11), ('road', 11), ('Ave', 11), ('Yeah', 11), ('doctors', 11), ('recognized', 11), ('spent', 11), ('functionality', 11), ('Policy', 11), ('activate', 11), ('Machine', 11), ('doordash', 11), ('fixes', 11), (':*\\r\\n> ', 11), ('splits', 11), ('Sincerely', 11), ('rebate', 11), ('actual', 11), ('ePHI', 11), ('tG', 11), ('ZW', 11), ('., ', 11), (' @ ', 11), ('algorithms', 11), ('>\\n                        <', 11), ('driving', 11), ('365', 11), ('Refills', 11), ('ensure', 11), ('Title', 11), ('sends', 11), ('Benefits', 11), ('insights', 11), ('lastpass', 11), ('medium', 11), ('Additional', 11), ('stand', 11), ('accounts', 11), ('program', 11), ('Short', 11), ('basically', 11), ('Passport', 11), ('automation', 11), ('72', 11), ('dose', 11), ('Optimization', 11), ('YjM', 11), ('problems', 11), ('leaving', 11), ('apply', 11), ('/>\\r\\n>>>>>\\r\\n>>>>\\r\\n>>>>\\r\\n>>>>\\r\\n>>>> --\\r\\n>>>> ', 11), ('81', 11), ('local', 11), ('ones', 11), ('.\\r\\n   - ', 11), ('console', 11), ('automated', 11), ('bringing', 10), ('spoke', 10), ('browse', 10), ('Jsb', 10), ('Rated', 10), ('Egl', 10), ('checked', 10), ('viewing', 10), ('folderview', 10), ('BLaEI', 10), ('menu', 10), ('106', 10), ('.\\r\\n>>>>>>>>>>\\r\\n>>>>>>>>>> ', 10), ('exist', 10), ('choice', 10), ('Those', 10), ('awesome', 10), ('years', 10), ('pages', 10), ('weekly', 10), ('Invitation', 10), ('Read', 10), ('appointment', 10), ('Join', 10), ('jtHyCvQY', 10), ('IO', 10), ('whole', 10), ('fire', 10), ('projects', 10), ('OK', 10), ('communications', 10), ('DEV', 10), ('hjHP', 10), ('Reporting', 10), ('therefore', 10), ('clustering', 10), (', \\r\\n<', 10), ('reschedule', 10), ('ZJmmyJvILW', 10), ('\\r\\n> \\r\\n> ', 10), ('Pierce', 10), ('Predictive', 10), ('nUY', 10), ('uLmNvbQ', 10), ('\\r\\n>>>>>>>>\\r\\n>>>>>>>> ', 10), ('FKZnkKlrxBd', 10), ('become', 10), ('Demo', 10), ('\\r\\n\\r\\n\\r\\n\\r\\n\\r\\n', 10), ('verify', 10), ('historical', 10), ('away', 10), ('previous', 10), ('wN', 10), ('conf', 10), ('\\r\\n>  \\r\\n', 10), ('Present', 10), ('productive', 10), ('remember', 10), ('_GyobxB', 10), ('shown', 10), ('Apps', 10), ('rvXb', 10), ('cc', 10), ('>\\n                <', 10), ('Add', 10), ('default', 10), ('St', 10), ('OGE', 10), ('food', 10), ('svjXTGf', 10), ('ZmMW', 10), ('Access', 10), ('recommendations', 10), ('.\\r\\n>>> \\r\\n>>> ', 10), ('temporary', 10), ('\\r\\n>>>>>>>>>> <', 10), ('Af', 10), ('RnBVwD', 10), ('JN', 10), ('Information', 10), ('ZmIzZTM', 10), ('pLuZBIYtCOFkIUUnKhDeNJ', 10), ('0047', 10), ('988', 10), ('.\\r\\n. ', 10), ('drO', 10), ('room', 10), ('cDhvMnQ', 10), ('Opportunities', 10), ('djZsZ', 10), ('forgot', 10), ('jjo', 10), ('Free', 10), (')\\r\\n>>>    - ', 10), ('quantities', 10), ('President', 10), ('uLmNvbTBlZjMzMGMwOTcxMzRjYzFiNjg', 10), ('Building', 10), ('shop', 10), ('jMx', 10), ('seeing', 10), ('earlier', 10), ('\\r\\n    ', 10), ('SWd', 10), ('208', 10), ('Frw', 10), ('sNdy', 10), ('server', 10), ('critical', 10), ('ZTM', 10), ('Year', 10), ('edu', 10), ('905', 10), ('Hangouts', 10), ('purchased', 10), ('advice', 10), ('OWQ', 10), ('often', 10), ('300', 10), ('WQjlQRvx', 10), ('lT', 10), ('\\r\\n/  ', 10), ('.\\r\\n>\\r\\n> --\\r\\n> ~', 10), (':+', 10), ('almost', 10), ('>>, ', 10), ('.</', 10), ('oration_id', 10), ('AsUymvKzZGD', 10), ('Only', 10), ('Want', 10), ('JjbDQgZnNlaWZvZGRpbmlAb', 10), ('twice', 10), ('weren', 10), ('containing', 10), ('McXQ', 10), ('wfBUcfSZaRQnCUdi', 10), ('nj', 10), ('setting', 10), ('Age', 10), ('clicking', 10), ('Love', 10), ('require', 10), ('pre', 10), ('confirmation', 10), ('Didn', 10), ('L_dGE', 10), ('But', 10), ('direction', 10), ('Inline', 10), ('provider', 10), ('HelveticaNeue', 10), ('identifiable', 10), ('allows', 10), ('thus', 10), ('goal', 10), ('reflect', 10), ('guZ', 10), ('wouldn', 10), ('return', 10), ('utilization', 10), ('passed', 10), ('traditional', 10), ('advise', 10), ('Rosario', 10), ('question', 10), (':\\r\\n>>>>>>>>>>\\r\\n>>>>>>>>>>> ', 10), ('\\r\\n>>>>>>>>>>\\r\\n>>>>>>>>>> [', 10), ('UC', 10), ('badges', 10), ('85', 10), ('>\\r\\n>>>>>>>>>>> ', 10), ('priority', 10), ('After', 10), (',\\n\\n', 10), ('deactivated', 10), ('Active', 10), ('-- ', 10), ('Below', 10), ('yYTQzM', 10), ('*', 10), ('apps', 10), ('yellow', 9), ('Hangout', 9), ('revised', 9), ('NOT', 9), ('feature', 9), ('>, \\r\\n\\t', 9), ('effects', 9), ('University', 9), ('Work', 9), ('.\\r\\n\\r\\n\\r\\n\\r\\n', 9), ('yHCSNzJg', 9), ('RMdEN', 9), ('IssV', 9), ('nature', 9), ('fairly', 9), ('aWMDH', 9), ('old', 9), (':\\r\\n>\\r\\n>  ', 9), ('Francisco', 9), ('push', 9), ('resources', 9), ('Tax', 9), ('fVj', 9), ('_ge', 9), ('Welcome', 9), ('tZWRpdW', 9), ('> </', 9), ('qlikview', 9), ('pushy', 9), ('standpoint', 9), ('industry', 9), ('Message', 9), ('fWBI', 9), (':\\r\\n>>>> ', 9), ('automate', 9), (' *- ', 9), ('3060', 9), ('Cancel', 9), ('Help', 9), ('monthly', 9), ('\\r\\n\\r\\n*', 9), ('bMV', 9), ('primarily', 9), ('custom', 9), ('posted', 9), ('fresh', 9), (',\\r\\n>>>>>>>>>\\r\\n>>>>>>>>> ', 9), ('Foration', 9), ('Refill', 9), (')\\r\\n>>>> <', 9), ('detailing', 9), ('>\\r\\n> - ', 9), ('\\r\\n>>>>\\r\\n>>>> --\\r\\n>>>> ', 9), ('stuff', 9), ('14863972', 9), ('ci', 9), ('Hobbit', 9), ('php', 9), ('checking', 9), ('count', 9), ('ZmZsw', 9), ('told', 9), ('Journal', 9), ('optimized', 9), ('KLxRTmQmUHa', 9), ('>\\n                                </', 9), (' <= ', 9), ('Auto', 9), ('board', 9), ('DB', 9), ('dive', 9), ('Strength', 9), ('medications', 9), ('pnz', 9), ('Role', 9), (', *', 9), ('coordinate', 9), ('valuable', 9), ('jYW', 9), (']\\r\\n\\r\\n', 9), ('listening', 9), ('haWwmdXRtX', 9), ('YtQjFqj', 9), ('>\\n    </', 9), ('area', 9), ('\\r\\n>>>>\\r\\n>>>\\r\\n>>>\\r\\n>>>\\r\\n>>> --\\r\\n>>> ', 9), ('YDnv', 9), ('bigml', 9), ('Strata', 9), ('Quantity', 9), ('expecting', 9), ('dto', 9), ('Oliver', 9), ('described', 9), ('game', 9), ('Their', 9), ('\\r\\n>\\r\\n>\\r\\n>\\r\\n>\\r\\n> ', 9), ('cause', 9), ('route', 9), ('strataconf', 9), ('appreciative', 9), ('LLC', 9), ('Microsoft', 9), ('HZxvinORsAde', 9), ('\\r\\n\\r\\n\\r\\n\\r\\n', 9), ('xbtBaYslugWMy_wxwrKS', 9), ('kkiXrqv', 9), ('Dwm', 9), ('kgC', 9), ('OHTpmzcJAsrWSYYryHZa', 9), ('wYWlnbj', 9), ('PRD', 9), ('realtime', 9), ('245', 9), ('>\\n                        </', 9), ('logging', 9), ('IJtWRj', 9), (':\\r\\n\\r\\n>  ', 9), ('explain', 9), ('Organization', 9), ('roUM', 9), ('Co', 9), ('near', 9), ('LgABHjJqP', 9), ('200', 9), ('is_brand', 9), ('.\\r\\n>\\r\\n> *', 9), ('vAR', 9), ('modal', 9), ('149', 9), ('pharmacies', 9), ('Event', 9), ('Wl', 9), ('Organizations', 9), ('infrastructure', 9), ('among', 9), ('shopping', 9), ('assessing', 9), ('evaluation', 9), ('.\\r\\n>>>> ', 9), ('debugging', 9), ('xZPQwPRqbunrk', 9), ('/\\r\\n>\\r\\n> ', 9), ('MDQ', 9), ('Yy', 9), ('\\r\\n>> (', 9), ('Glad', 9), ('Some', 9), ('\\r\\n<#', 9), ('Center', 9), ('NEAwpfJl', 9), ('deployment', 9), ('Claims', 9), ('Wall', 9), ('Act', 9), ('limited', 9), ('supplier', 9), ('forum', 9), ('writing', 9), ('\\r\\n>>>\\r\\n>>>\\r\\n>>> ', 9), ('confirming', 9), ('relatively', 9), ('Records', 9), ('visualization', 9), ('however', 9), ('expected', 9), ('Follow', 9), ('14862483', 9), ('Forms', 9), (',\\r\\n>\\r\\n>  ', 9), ('*. ', 9), ('NvdXJjZT', 9), ('ls', 9), ('\\r\\n>>>>>>>>>>>>>>>>> ', 9), ('Ftab', 9), ('parking', 9), ('provides', 9), ('om', 9), ('kbsTuAw', 9), ('presentation', 9), ('kjgcEVFKQtI', 9), ('\\r\\n>       - ', 9), ('expect', 9), ('Sync', 9), ('lUy', 9), ('creating', 9), (':\\r\\n>\\r\\n>\\r\\n> ', 9), ('uyIdKxl', 9), ('api', 9), ('calculation', 9), ('\\r\\n>> > ', 9), ('closer', 9), ('/>\\r\\n>>>>>>>>\\r\\n>>>>>>>\\r\\n>>>>>>>\\r\\n>>>>>>>\\r\\n>>>>>>> --\\r\\n>>>>>>> ', 9), ('lead', 9), ('ndc', 9), ('Gathani', 9), (',\\r\\n> \\r\\n> ', 8), ('pulse', 8), ('medically', 8), ('NON', 8), ('unit', 8), ('Testosterone', 8), ('93', 8), ('AM_UWWIXqv', 8), ('wrong', 8), (' ($', 8), (' ... ', 8), ('series', 8), ('LgRgxoE', 8), ('Then', 8), ('QaI', 8), ('came', 8), ('meetings', 8), ('Account', 8), ('Android', 8), ('256', 8), ('union', 8), ('baFewFyRh', 8), ('worked', 8), ('Both', 8), (' ----------\\r\\n>> ', 8), ('administer', 8), ('2312434', 8), ('Latisse', 8), ('solved', 8), ('drafted', 8), ('svelandia', 8), ('Retail', 8), ('STG', 8), ('spot', 8), ('programming', 8), ('city', 8), ('\\r\\n>>\\r\\n>\\r\\n>\\r\\n>\\r\\n> --\\r\\n> ~', 8), ('History', 8), ('inserted', 8), ('sites', 8), ('reflective', 8), ('Highcharts', 8), ('Weds', 8), ('62352', 8), ('power', 8), ('SKGNviXyJixA', 8), ('technologies', 8), ('Production', 8), ('drafts', 8), ('flpbd', 8), ('paying', 8), ('hours', 8), ('major', 8), (']\\r\\n>>> <', 8), ('pdf', 8), ('bsIp', 8), ('\\r\\n>> \\xe2\\x80\\xa2\\r\\n>> ', 8), ('surprised', 8), ('YMuL', 8), ('bS', 8), ('VTHZqKrfHI', 8), ('ut', 8), ('defined', 8), ('chat', 8), ('.\\r\\n> *', 8), ('\\r\\n>\\r\\n>   ', 8), ('invoices', 8), ('frequency', 8), ('blocks', 8), ('WageWorks', 8), ('458', 8), ('interests', 8), ('BIN', 8), ('-\\r\\n>>> <', 8), ('cinder', 8), ('highsoft', 8), (' * ', 8), ('avoid', 8), ('software', 8), ('funnel', 8), ('ASAP', 8), ('Clinical', 8), ('rule', 8), ('compete', 8), ('168', 8), ('3995', 8), ('worth', 8), ('slackhq', 8), ('JavaScript', 8), ('Tips', 8), ('BRmhOUUdnRkxDY', 8), ('default_profile_images', 8), ('_ti', 8), ('Sep', 8), ('16616135', 8), ('implementation', 8), ('35452', 8), ('Lastly', 8), ('2910587474', 8), ('encounter', 8), ('/>\\r\\n>>>>>>>\\r\\n>>>>>>\\r\\n>>>>>>\\r\\n>>>>>>\\r\\n>>>>>> --\\r\\n>>>>>> ', 8), ('lsEu', 8), ('BeneCard', 8), ('designers', 8), ('denied', 8), ('1782179739', 8), ('Windows', 8), ('upper', 8), ('htm', 8), ('appears', 8), ('usually', 8), ('incidents', 8), ('statistical', 8), ('>\\r\\n<', 8), ('domain', 8), ('ballpark', 8), ('reprocessed', 8), ('Complete', 8), ('inquire', 8), ('relevant', 8), ('backup', 8), ('Jake', 8), ('zEWHC', 8), ('administered', 8), ('decide', 8), ('\\r\\n      - ', 8), ('authorization', 8), (', \\r\\n\\r\\n', 8), ('618783545', 8), ('fN', 8), ('RedShift', 8), ('grey', 8), ('ZWdyYXRpb', 8), ('\". ', 8), ('NpUEJVNkdGVDZjUW', 8), ('whatever', 8), ('lives', 8), ('Internet', 8), ('/>\\r\\n>>>>>>\\r\\n>>>>>\\r\\n>>>>>\\r\\n>>>>>\\r\\n>>>>> --\\r\\n>>>>> ', 8), (':\\r\\n   ', 8), ('Cialis', 8), ('overriding', 8), ('correlates', 8), ('Nov', 8), ('zL', 8), ('focused', 8), ('KwxPtPI', 8), ('injectables', 8), ('hands', 8), ('submitted', 8), ('tabs', 8), ('neither', 8), ('attention', 8), ('default_avatar', 8), ('US', 8), ('Holdings', 8), ('inner', 8), ('PMB', 8), ('piece', 8), ('adhoc', 8), ('*\\r\\n>> ', 8), ('recommend', 8), (' \\xc2\\xbb\\r\\n> <', 8), ('differently', 8), ('luck', 8), ('LLCu', 8), ('...\\r\\n\\r\\n\\r\\n', 8), ('. <', 8), ('ii', 8), ('mouse', 8), ('809', 8), ('tracked', 8), ('facilitator', 8), (' \\xc2\\xa0\\xc2\\xa0', 8), ('digital', 8), ('NONUNION', 8), ('aspx', 8), ('advised', 8), ('designed', 8), ('Cookbook', 8), ('Key', 8), ('restoring', 8), ('Bundle', 8), ('fills', 8), ('corner', 8), ('Fox', 8), (')\\r\\n>\\r\\n> ', 8), ('JlZ', 8), ('          (', 8), ('pam', 8), ('identifying', 8), ('notifies', 8), ('Anyone', 8), (',\\r\\n>>>>>>>>> ', 8), ('youtube', 8), ('ZTA', 8), ('remote', 8), (').\\r\\n\\r\\n', 8), ('\\r\\n> (', 8), ('wsj', 8), ('xwru', 8), ('Buproprion', 8), ('Spark', 8), (': </', 8), ('Weekly', 8), ('Martineau', 8), ('180', 8), ('dentist', 8), ('dddf', 8), ('Administrative', 8), ('majority', 8), ('annual', 8), ('expensive', 8), ('4442', 8), ('Doughnut', 8), ('moment', 8), ('cut', 8), ('Christopher', 8), ('Did', 8), ('ourselves', 8), ('YnNjcmlwdGlvbklkIjozMDEyMzl', 8), ('plugged', 8), ('others', 8), ('named', 8), ('YnNjcmlwdGlvbklkIjozMDAwMDZ', 8), ('YU', 8), ('Commuter', 8), ('identifier', 8), ('>\\n\\n<', 8), ('Worth', 8), ('taking', 8), ('\\r\\n>>\\r\\n>>\\r\\n>>\\r\\n>>\\r\\n>> ', 8), ('GAE', 8), ('forbes', 8), ('tests', 8), (' *\\r\\n   - *', 8), ('success', 8), ('recommendation', 8), ('assuming', 8), ('Horsley', 8), ('     (', 8), ('Fin', 8), ('Express', 8), ('install', 8), ('192', 8), ('bigquery', 8), ('GmbH', 8), ('contacted', 8), ('solutions', 8), ('improve', 8), ('formulary', 8), ('jnKhwMT', 8), ('wholesaler', 8), ('PBF', 8), (':\\r\\n>>>>>>>>>>>\\r\\n>>>>>>>>>>>> ', 8), ('stuck', 8), (',  ($', 8), ('Bought', 8), ('Secure', 8), ('trend', 8), ('problematic', 8), ('Therefore', 8), ('\\r\\n>>>>>>>>>\\r\\n>>>>>>>>> ', 8), ('...), ', 8), ('white', 8), ('prd', 8), ('iron', 8), ('pop', 8), ('cash', 8), ('refills', 8), ('1782179895', 8), ('SKiHKGhWxq', 8), ('\\t\\r\\n\\r\\n', 8), ('shouldn', 8), ('qjON', 8), ('developed', 8), ('L', 8), ('cpierce', 8), ('Rollin', 8), ('customize', 8), ('74', 8), ('UazNORFFBIiwicG', 8), ('PHI', 8), ('akong', 8), ('higher', 8), ('stating', 8), ('cypionate', 8), ('meaning', 8), ('Based', 8), ('trackers', 8), ('noted', 8), ('!\\r\\n> ', 8), ('?\\r\\n>>>\\r\\n>>> ', 8), (')\\r\\n>> ', 8), ('_im', 8), ('Dtwitter', 8), ('Mining', 8), ('whale', 8), ('obtain', 8), ('Within', 8), ('em', 8), ('registration', 8), ('Following', 8), ('MvaW', 8), ('replace', 7), ('Lo', 7), ('LP', 7), ('_m', 7), ('.\\r\\n>\\r\\n>\\r\\n>\\r\\n> ', 7), ('175', 7), ('ranging', 7), ('feeling', 7), (':\\r\\n     * ', 7), ('letter', 7), ('/\\r\\n\\r\\n-- \\r\\n', 7), ('patch', 7), ('adapted', 7), ('tutorials', 7), ('top_', 7), ('rUmRrdTNleUJzQWRzT', 7), ('Happy', 7), (': **', 7), (':\\\\', 7), ('Joni', 7), ('wondering', 7), ('behalf', 7), ('natural', 7), ('suic', 7), ('mime', 7), ('specifically', 7), ('Peitho', 7), ('  \\r\\n<', 7), ('ROjJX', 7), ('viewform', 7), ('technology', 7), ('\\r\\n\\r\\n\\r\\n\\r\\n-- \\r\\n', 7), ('\\r\\n>>>>>\\r\\n>>>>> --\\r\\n>>>>> ', 7), ('act', 7), ('!\\r\\n<', 7), ('gone', 7), ('twyIl', 7), ('aL', 7), ('Direct', 7), ('consider', 7), ('>\\n            </', 7), ('sync', 7), ('Greenhouse', 7), ('register', 7), ('URI', 7), ('imagine', 7), ('MGE', 7), ('.\\r\\n>>>>> ', 7), ('play', 7), ('Portfolio', 7), ('impact', 7), ('tdjlwo', 7), ('CqbSWqNvNQkH', 7), ('315', 7), ('candor', 7), (':\\r\\n>>>>\\r\\n>>>> ', 7), ('  (', 7), ('cta', 7), ('eager', 7), ('bh', 7), ('\\r\\n>>> \\xe2\\x80\\xa2\\r\\n>>> ', 7), ('Step', 7), ('Currently', 7), ('Signature', 7), ('Launch', 7), ('schemas', 7), ('!\\r\\n>>>>>\\r\\n>>>>> ', 7), ('merge', 7), ('Very', 7), ('Prof', 7), ('ordering', 7), ('Advertising', 7), ('pause', 7), ('Synthroid', 7), ('Scribd', 7), ('cs', 7), ('upon', 7), ('Need', 7), ('XCIwNDE', 7), ('Kindly', 7), ('zRmxFNFNWZkwyS', 7), ('frustration', 7), ('naturally', 7), ('.\\r\\n>>>>>\\r\\n>>>>>\\r\\n>>>>> ', 7), ('165', 7), ('relationships', 7), ('cms', 7), ('glL', 7), ('Azure', 7), ('highly', 7), ('KrguqZJ', 7), ('recovery', 7), ('green', 7), ('377', 7), ('\\r\\n>>>>>>>>>>> <', 7), ('Ecom', 7), ('personality', 7), ('\\r\\n>>>>>\\r\\n>>>>\\r\\n>>>>\\r\\n>>>>\\r\\n>>>> --\\r\\n>>>> ', 7), ('ETA', 7), ('Manage', 7), ('IdeaShapeOration', 7), ('xnmFivLQvRRO', 7), ('anonymous', 7), ('turns', 7), ('incoming', 7), ('/\\r\\n', 7), ('pasting', 7), ('indeed', 7), ('challenges', 7), ('Crestor', 7), ('friend', 7), ('offering', 7), ('begin', 7), (']', 7), ('Web', 7), ('discovered', 7), ('.\\r\\n>\\r\\n>  ', 7), ('dsugMaVBiXBe', 7), ('profile_images', 7), ('Fdato', 7), ('models', 7), ('Forgot', 7), ('Patient', 7), ('maXJtYXRpb', 7), ('audiobook', 7), ('FjdGlvbmFsJnV', 7), ('>> ', 7), ('expand', 7), ('IDlPthOb', 7), ('lie', 7), ('clean', 7), ('rhA', 7), ('usual', 7), ('Notes', 7), ('While', 7), ('brand_name_analytics_report', 7), ('OWEwNGM', 7), ('startups', 7), ('retirement', 7), ('Berkeley', 7), ('.\\r\\n\\r\\n      ', 7), ('pharmacy_npi', 7), (': *', 7), (': <', 7), ('Ak', 7), ('lkc', 7), ('Fpress', 7), ('648', 7), ('control', 7), ('pulling', 7), ('capsule', 7), ('tScw', 7), ('ZzVhV', 7), ('706', 7), ('final', 7), ('NTRiMzdmNlwiLFwidXJsX', 7), ('providing', 7), ('max_oration_com', 7), ('123', 7), ('sha', 7), ('flip', 7), ('stats', 7), ('.\\r\\n>>>>>>>>>>>\\r\\n>>>>>>>>>>> ', 7), ('Could', 7), ('\\r\\n>>>\\r\\n>>>\\r\\n>>>\\r\\n>>>\\r\\n>>> ', 7), ('\\n>>>>> ', 7), ('/@', 7), ('ecid', 7), ('Be', 7), ('balloons', 7), ('kick', 7), ('\\r\\n>>>>>>>>>>>\\r\\n>>>>>>>>>>> [', 7), ('Up', 7), ('pg', 7), ('bcL', 7), ('>       ', 7), ('friends', 7), ('Apache', 7), ('108', 7), ('counts', 7), ('deck', 7), ('pharma', 7), ('.\\r\\n>    - ', 7), ('Cafe', 7), ('hook', 7), ('street', 7), ('. $', 7), (':\\r\\n<', 7), ('folder', 7), ('study', 7), ('VU', 7), ('800', 7), ('woopra', 7), ('chime', 7), ('Survey', 7), ('>      \\r\\n', 7), ('TzYysEfyevyx_jmP', 7), ('owqZiUt', 7), ('Plus', 7), ('Founder', 7), ('flexibility', 7), ('dcvc', 7), ('Frelease', 7), ('switch', 7), ('Januvia', 7), ('impulses', 7), ('>\\n\\t\\t\\t\\n\\t\\t\\t\\t<', 7), ('sean', 7), ('enough', 7), ('jcssp', 7), ('kdelrosario', 7), ('\\xe2\\x84\\xa2 ', 7), ('nywpzj', 7), ('ranged', 7), ('strategies', 7), ('Uspfs', 7), ('misunderstandings', 7), ('easily', 7), ('house', 7), ('acting', 7), ('print', 7), ('>,\\r\\n> ', 7), ('Cheers', 7), ('assumption', 7), ('orders', 7), ('multiples', 7), ('Zu', 7), ('Yep', 7), ('itself', 7), ('copying', 7), ('passwords', 7), ('alternative', 7), ('Shared', 7), ('426799', 7), ('Scripts', 7), ('giving', 7), ('private', 7), ('hkOFNEWEh', 7), ('0800', 7), ('willing', 7), ('workflow', 7), ('XQTYvohzVhta_fjXA', 7), (')\\r\\n   - ', 7), ('325', 7), ('graphs', 7), ('difficulties', 7), ('implementing', 7), ('equal', 7), ('match', 7), ('tmp', 7), ('although', 7), ('JPJ_WSWFBeeAajjHihqzWAWktUa', 7), ('!\\r\\n>>>>>>\\r\\n>>>>>> ', 7), ('related', 7), ('editing', 7), ('pid', 7), ('\\r\\n>>\\r\\n>>   ', 7), ('Thur', 7), ('DNvhAfm', 7), ('hubspot', 7), ('description', 7), ('400', 7), ('several', 7), ('took', 7), ('\" -- ', 7), ('rsa', 7), (')* ', 7), ('advanced', 7), ('422', 7), ('Still', 7), ('Provider', 7), ('Dan', 7), ('says', 7), ('ncpdp_provider_id', 7), ('healthy', 7), ('memory', 7), ('128', 7), ('Using', 7), ('Received', 7), ('Security', 7), ('ideas', 7), ('icon', 7), ('uyC', 7), ('mapped', 7), ('afterwards', 7), ('67', 7), ('nicole', 7), ('engine', 7), ('screenshot', 7), ('changing', 7), ('acute', 7), ('discussed', 7), ('Pandas', 7), ('ODA', 7), ('752', 7), ('\\r\\n\\r\\n-- \\r\\n~', 7), ('operation', 7), ('brief', 7), ('=;\\r\\n        ', 7), ('KPI', 7), ('lzdHJhdGlvbl', 7), ('owners', 7), ('Tomorrow', 7), ('Ready', 7), ('needless', 7), ('differ', 7), ('ZmEQq', 7), ('unsub', 7), ('JF', 7), ('BI', 7), ('sold', 7), ('Fcompany', 7), ('YmJlYmM', 7), ('DKIM', 7), ('demand', 7), ('widely', 7), ('Seems', 7), ('cmFuc', 7), ('\\r\\n> > ', 7), ('qlik', 7), ('helping', 7), ('Enjoy', 7), ('invitations', 7), ('articles', 7), ('Which', 7), ('LVDIN', 7), ('Shipped', 7), ('1501', 7), ('planning', 7), ('Innovation', 7), ('7394', 7), ('ability', 7), ('733', 7), ('surveymonkey', 7), ('MHXP', 7), ('Consumer', 7), ('iZXRhX', 7), ('Heights', 6), ('ehdcshYW', 6), ('!\\r\\n>>>>\\r\\n>>>> ', 6), ('rd', 6), ('estimate', 6), ('channels', 6), ('177', 6), ('feasibility', 6), ('01152015', 6), (':</', 6), ('thrilled', 6), ('simplify', 6), ('saying', 6), ('\\r\\n\\r\\n\"\"\\r\\n\\r\\n\"', 6), ('Enterprise', 6), ('DataScienceCentral', 6), (',\\r\\n>>\\r\\n>>  ', 6), ('\\r\\n\\r\\n- ', 6), ('VyY', 6), ('Darwin', 6), ('Byb', 6), ('accomplished', 6), ('Highstock', 6), ('*: ', 6), ('directed', 6), ('turned', 6), (',\\r\\n\\r\\n-- \\r\\n~', 6), ('resource', 6), ('spark', 6), ('Completed', 6), ('bricks', 6), ('>\\r\\n\\r\\n\"\"\\r\\n\\r\\n', 6), ('NY', 6), ('NW', 6), ('>\\r\\n>>\\r\\n>>\\r\\n>> ', 6), ('NWJiZWJjNDBhNzgwNzlhMDRjNzU', 6), ('dispensing', 6), ('\">\\n        <', 6), ('tp', 6), ('Keys', 6), ('installing', 6), ('suggestions', 6), ('states', 6), ('huge', 6), ('expressed', 6), ('startup', 6), ('?\\r\\n> ', 6), ('knowing', 6), ('incident', 6), ('.\\r\\n>>\\r\\n>>  ', 6), ('Card', 6), ('message_drafted', 6), ('WSJ', 6), ('bc', 6), ('ago', 6), ('\\r\\n         :', 6), ('\\n>>>> ', 6), ('Feedback', 6), ('Spending', 6), ('maxtestdataset', 6), ('message_sent', 6), ('2010', 6), ('Say', 6), ('sharedstory', 6), (' = \"', 6), ('%; ', 6), ('\\r\\n>>>>\\r\\n>>>>\\r\\n>>>>\\r\\n>>>>\\r\\n>>>> ', 6), ('datasciencecentral', 6), ('qty', 6), ('btc', 6), ('ends', 6), ('Forum', 6), ('hpxklRfAwuegeWcNfHlL', 6), ('cl', 6), ('Phone', 6), (' *(', 6), ('Number', 6), ('100946775', 6), ('highlighted', 6), (',\\r\\n>> \\r\\n>> ', 6), ('352', 6), ('newest', 6), (': \\r\\n', 6), ('>\\r\\n>>\\r\\n>> ', 6), ('HDbIJolWlwCwDZDcYinz_XgHfRXlT', 6), ('>\\r\\n&#', 6), ('CC', 6), ('proddev', 6), ('consolidated', 6), ('290', 6), ('!!!\\r\\n\\r\\n', 6), ('iq', 6), ('aware', 6), ('costco_brand_drug_analysis', 6), ('cNibR', 6), ('djhcmecm', 6), ('break', 6), ('creates', 6), ('maxtesttable', 6), ('hacking', 6), ('indexed', 6), ('Quick', 6), ('Mvc', 6), ('applies', 6), ('hand', 6), ('balanced', 6), ('true', 6), ('promises', 6), ('trouble', 6), ('>\\r\\n>\\r\\n>\\r\\n> ', 6), ('RzXFxcL', 6), ('Hepatitis', 6), ('eb', 6), ('happen', 6), (')\\r\\n>>\\r\\n>> ', 6), ('invitation', 6), ('xn', 6), ('michelle', 6), ('221', 6), ('ILc', 6), ('\\n\\xc2\\xa0\\xc2\\xa0', 6), ('UfMsBaChYM', 6), ('actually', 6), (':\\xc2\\xa0', 6), ('media', 6), (':\\r\\n>>>>>>>>>>>>\\r\\n>>>>>>>>>>>>> ', 6), ('hepatitis', 6), ('Store', 6), ('35222', 6), ('prepend', 6), ('YA', 6), ('referring', 6), ('advertising', 6), ('SW', 6), ('ifQ', 6), ('earliest', 6), ('parameters', 6), ('cebd', 6), ('\\r\\n>>>>>>>>>>>> <', 6), ('000', 6), ('.\\r\\n>>>>>>>>>>>>\\r\\n>>>>>>>>>>>> ', 6), ('Intelligence', 6), ('email_id', 6), ('ordered', 6), ('Ad', 6), ('friendly', 6), ('zb', 6), ('commercial', 6), ('convert', 6), ('.\\r\\n>>>>\\r\\n>>>>\\r\\n>>>> ', 6), ('kU', 6), ('special', 6), ('>\\r\\n>>>\\r\\n>>\\r\\n>>\\r\\n>>\\r\\n>> --\\r\\n>> ~', 6), ('management', 6), ('attach', 6), ('Anthem', 6), ('approval', 6), ('EhYVhiR', 6), ('VVjQY', 6), ('frequently', 6), ('California', 6), ('blogs', 6), ('Orders', 6), ('.\\r\\n\\r\\n         ', 6), ('Useful', 6), ('email_sent', 6), ('Items', 6), ('fantastic', 6), ('maintain', 6), ('combination', 6), ('5993', 6), ('went', 6), ('Wow', 6), ('.\\r\\n>>>>>>\\r\\n>>>>>>\\r\\n>>>>>> ', 6), ('price_coefficient', 6), ('-\\r\\n>>>>> <', 6), ('draft', 6), ('guidelines', 6), ('preparation', 6), ('integrate', 6), ('bad', 6), (')\\r\\n>>> ', 6), ('Early', 6), ('.\\r\\n\\r\\n*', 6), ('ZVxcXC', 6), ('Rights', 6), ('SavingsProjectionDTO', 6), ('super', 6), ('Unless', 6), ('sAgRUU', 6), ('delete', 6), ('Andrei', 6), ('overdue', 6), ('>\" <', 6), ('foursquare', 6), ('accidentally', 6), ('dbPZKdNCJP', 6), ('sake', 6), ('3088900812', 6), ('lsy', 6), ('vision', 6), ('fast', 6), ('Provide', 6), ('label', 6), ('jt', 6), ('considering', 6), ('careers', 6), ('Island', 6), ('ZjZcIixcInVybF', 6), ('edX', 6), ('teyMfX', 6), ('4298680', 6), ('600', 6), (':\\r\\n>\\r\\n>>  ', 6), ('particularly', 6), ('mn_dKOaBpCPhF', 6), ('merged', 6), ('simple', 6), ('fbWVkaXVtPWVtYWlsJnV', 6), ('mxEM', 6), ('talking', 6), ('fun', 6), ('>\\n\\n\\t\\n\\t</', 6), ('aggregate', 6), ('organization', 6), (':\\r\\n>>> \\r\\n>>> ', 6), ('\\r\\n>>>>>>>>>>>>\\r\\n>>>>>>>>>>>> [', 6), ('continuing', 6), ('SysAdmin', 6), (',\\r\\n>>>>>>>>>> ', 6), ('90198', 6), ('ingredient', 6), ('Expediting', 6), ('16525286', 6), (',\\xc2\\xa0', 6), ('jessica', 6), ('CSV', 6), ('likelihood', 6), ('Pac', 6), ('mid', 6), ('unless', 6), ('Renton', 6), ('aa', 6), ('nuzzel', 6), ('NyZWF', 6), ('WmjdTKrRFTsP', 6), ('amazonaws', 6), (' :)\\r\\n\\r\\n', 6), ('Beach', 6), ('?\\r\\n>>>>\\r\\n>>>> ', 6), ('judgment', 6), ('refillAvailable', 6), ('Release', 6), ('insert', 6), ('---------- ', 6), ('\\r\\n>>>>>>\\r\\n>>>>>\\r\\n>>>>>\\r\\n>>>>>\\r\\n>>>>> --\\r\\n>>>>> ', 6), ('host', 6), ('flexible', 6), ('wish', 6), ('83', 6), ('Private', 6), ('964', 6), ('searchable', 6), ('publicly', 6), ('venue', 6), ('>\\n\\n\\t\\n\\n\\t\\n\\t\\t<', 6), ('hospital', 6), ('YADLZFRa', 6), ('Hola', 6), ('\\r\\n>\\r\\n>  ', 6), ('Its', 6), ('>\\r\\n>\\r\\n> ', 6), (') .\\r\\n\\r\\n', 6), ('hasn', 6), ('approach', 6), ('pinged', 6), ('pick', 6), ('UID', 6), ('gave', 6), ('census', 6), ('dinner', 6), ('existed', 6), ('[\"', 6), ('98057', 6), ('picture', 6), ('focus', 6), ('charge', 6), ('li', 6), ('roadshow', 6), ('helvetica', 6), ('Macsin', 6), (':\\r\\n>>>>>> ', 6), ('investigated', 6), ('permissions', 6), ('/>\\r\\n>>>>>>>>>\\r\\n>>>>>>>>\\r\\n>>>>>>>>\\r\\n>>>>>>>>\\r\\n>>>>>>>> --\\r\\n>>>>>>>> ', 6), ('BqFvwHW', 6), ('Peterson', 6), ('>     \\r\\n\"', 6), ('Cloudera', 6), ('MTY', 6), ('a_dozen_things_ive_learned_from_chris_dixon_about_venture_capital', 6), ('64', 6), ('Transamerica', 6), ('trip', 6), ('Talk', 6), ('>\\r\\n>>>>>>>>>>>> ', 6), ('incorrect', 6), ('ui_GjPMXQR', 6), ('1425960214', 6), ('Pills', 6), ('Pharma', 6), ('!\\r\\n>>>\\r\\n>>> ', 6), ('known', 6), ('BigML', 6), ('More', 6), ('>\\r\\n>\\r\\n\\r\\n\\r\\n\\r\\n-- \\r\\n', 6), ('dfb', 6), ('.) ', 6), ('!\\r\\n\\r\\n\\r\\n', 6), ('context', 6), ('Updated', 6), ('Tim', 6), ('rid', 6), ('>\\n            <', 6), ('firing', 6), ('deployed', 6), ('allowing', 6), (';\" /></', 6), ('wishes', 6), (' -->\\n    <', 6), (',\\r\\n\\r\\n\\r\\n', 6), ('symbol', 6), ('NADAC', 6), ('Reserved', 6), ('campaign_id', 6), ('integrates', 6), ('arial', 6), ('Kirschner', 6), ('MTQ', 6), ('searching', 6), ('Coach', 6), ('intentionally', 6), ('volumes', 6), ('designing', 5), ('appengine', 5), ('.\\r\\n>\\r\\n>\\r\\n> ------\\r\\n> ', 5), ('97', 5), (':  \\r\\n', 5), ('_d', 5), ('easier', 5), ('.\\r\\n>>\\r\\n>> --\\r\\n>> ~', 5), ('174', 5), ('>,\\r\\n>> ', 5), ('metrics', 5), ('aWZ', 5), ('>\\r\\n* ', 5), ('ZjBiMzE', 5), ('fair', 5), ('wikipedia', 5), ('stress', 5), ('logic', 5), ('securedatarecovery', 5), ('First', 5), ('Tales', 5), ('role', 5), ('ZTliMDIyMDc', 5), ('intent', 5), ('\\r\\n>>       - ', 5), ('hole', 5), ('minute', 5), ('307', 5), ('values', 5), ('234', 5), ('sP', 5), ('fueled', 5), (':\\r\\n>>>>>>>>>>>>>\\r\\n>>>>>>>>>>>>>> ', 5), ('yielding', 5), ('Stanley', 5), ('.\\r\\n>>>>>>>\\r\\n>>>>>>>\\r\\n>>>>>>> ', 5), ('Article', 5), ('  < ', 5), ('saw', 5), ('Rpb', 5), ('laws', 5), ('vary', 5), ('? \\r\\n\\r\\n', 5), ('Having', 5), ('testimonial', 5), ('Imagination', 5), ('UIKVG', 5), ('?\\r\\n>>>>>>>\\r\\n>>>>>>> ', 5), (':\\r\\n>>\\r\\n>>\\r\\n>> ', 5), ('Steps', 5), ('dark', 5), ('favorite', 5), ('.\\r\\n>>\\r\\n>>    ', 5), ('NT', 5), ('detailed', 5), ('YmRiYjY', 5), ('Real', 5), ('Password', 5), ('\\r\\n>>>>>>\\r\\n>>>>>>\\r\\n>>>>>>\\r\\n>>>>>>\\r\\n>>>>>> ', 5), ('\\r\\n>>>>>\\r\\n>>>>>\\r\\n>>>>>\\r\\n>>>>>\\r\\n>>>>> ', 5), ('197', 5), ('Open', 5), ('uLmNvbTU', 5), ('respective', 5), ('putting', 5), ('geographic', 5), ('trade', 5), ('paper', 5), ('MzNkMWQ', 5), ('Class', 5), ('retained', 5), ('immediate', 5), ('Settings', 5), ('OHVmaDQgZXJpYy', 5), ('actionable', 5), ('yIZOIzXuC', 5), ('matter', 5), ('guinea', 5), ('\\r\\n>>>>>>>>>>>>>\\r\\n>>>>>>>>>>>>> [', 5), ('straight', 5), ('iOjEsImhyZWYiOiJodHRwczovL', 5), ('fortune', 5), ('ptaWcgbml', 5), ('SMG', 5), ('sprint', 5), ('servers', 5), ('Employee', 5), ('Netflix', 5), ('consumer', 5), ('HTML', 5), ('odG', 5), ('involved', 5), ('DataFrame', 5), (':\\r\\n>>>>>>>> ', 5), ('publications', 5), ('efficiently', 5), ('gdrive', 5), ('Kaiser', 5), ('mute', 5), ('researching', 5), ('Social', 5), ('ydjI', 5), (');\\r\\n', 5), ('Overview', 5), ('static', 5), ('allsavingsmax', 5), ('Agreement', 5), ('specifications', 5), ('Meet', 5), ('Hyzaar', 5), ('spelled', 5), ('Community', 5), ('dmscott', 5), ('Focused', 5), (':\\r\\n. ', 5), ('>\\n\\n</', 5), ('configuration', 5), ('restrictions', 5), ('figured', 5), ('\\r\\n\"', 5), ('iOjMsImhyZWYiOiJodHRwczovL', 5), ('intro', 5), ('Sovaldi', 5), ('Quit', 5), ('TtkSIsmeAbCUIUwdfN', 5), ('Grecco', 5), ('Well', 5), ('places', 5), ('contribute', 5), ('ing', 5), ('.\\r\\n\\r\\n-', 5), ('compared', 5), ('Watch', 5), ('secure', 5), ('seven', 5), (' \\r\\n>>>> ', 5), ('cXFuYWRocG', 5), ('Eyr', 5), ('NPI', 5), ('classified', 5), ('YzM', 5), ('!\\r\\n>>>>>>>\\r\\n>>>>>>> ', 5), ('>\\r\\n>>>\\r\\n>>> ', 5), ('templated', 5), ('minus', 5), ('zKxSz', 5), ('Destination', 5), ('learned', 5), ('Water', 5), ('segmentcom', 5), ('wy', 5), ('Shot', 5), ('Groups', 5), (\"' = \", 5), ('thx', 5), ('Try', 5), ('hassle', 5), ('grateful', 5), ('Global', 5), ('Dettmer', 5), ('downloaded', 5), ('apache', 5), ('car', 5), ('cIixcImlkXCI', 5), ('>\\r\\n*', 5), ('drug_name', 5), ('ef', 5), ('variables', 5), ('xz', 5), ('transferred', 5), ('nuances', 5), ('>\\r\\n>>>>\\r\\n>>>\\r\\n>>>\\r\\n>>>\\r\\n>>> --\\r\\n>>> ~', 5), ('elected', 5), ('Fpavanmadiraja', 5), ('Knows', 5), ('informed', 5), ('YTIxZDQ', 5), ('develop', 5), ('>\\n        <', 5), ('cd', 5), ('Comics', 5), ('\" (', 5), ('heavy', 5), ('productively', 5), ('uniquely', 5), ('takes', 5), ('SF', 5), ('B_d', 5), ('Sweet', 5), ('OGQ', 5), ('bugs', 5), ('anticipated', 5), ('>\\r\\n>>>>>>>>>>>>> ', 5), ('YHO', 5), ('Myself', 5), ('calling', 5), ('> \\n\\t\\t\\t \\n\\t\\t\\t</', 5), ('paranoid', 5), ('competing', 5), ('conditions', 5), ('recommended_cost_per_quantity', 5), ('uses', 5), ('CCs', 5), ('Fine', 5), ('MWQ', 5), ('Feary', 5), (':\\r\\n>>>>\\r\\n>>>>    - ', 5), (':*\\r\\n>\\r\\n> *', 5), ('An', 5), ('optimizing', 5), ('becomes', 5), ('visibility', 5), (' \\xe2\\x80\\x8b', 5), ('Opportunity', 5), ('\\r\\n\\r\\n   - ', 5), ('backups', 5), ('quality', 5), ('deploy', 5), ('gallery', 5), ('databases', 5), ('Hvs', 5), ('\\r\\n>\\r\\n> ---------- ', 5), ('partners', 5), ('Popular', 5), ('processes', 5), ('tuned', 5), ('prayers', 5), ('Send', 5), ('Nms', 5), ('.\\r\\n>\\r\\n>    ', 5), ('addition', 5), ('Compute', 5), ('party', 5), ('paycheck', 5), ('BC', 5), ('pZGlrY', 5), ('schematized', 5), ('networking', 5), (' \\r\\n>>>>> ', 5), ('Never', 5), ('>\\r\\n>> - ', 5), ('Job', 5), ('%\" ', 5), (',\\r\\n>>>>>>>>>>\\r\\n>>>>>>>>>> ', 5), ('rights', 5), ('.\\r\\n>>>    - ', 5), ('operations', 5), ('TorAvdqH_A_p', 5), ('    ', 5), ('292', 5), ('uLmNvbTUzMDk', 5), ('doc', 5), ('bay', 5), (':\\r\\n>>>\\r\\n>>>\\r\\n>>> ', 5), ('.\\r\\n\\r\\n<', 5), ('assigned', 5), ('rarely', 5), ('somehow', 5), ('>\\r\\n>>>>>>>   /  ', 5), ('auditing', 5), ('DevOps', 5), ('PBMs', 5), ('generally', 5), ('happening', 5), ('Ronnie', 5), ('14863988', 5), ('dig', 5), ('DSC', 5), ('individuals', 5), ('Leadership', 5), ('black', 5), ('140', 5), ('samanage', 5), ('views', 5), ('california', 5), ('advance', 5), ('idodi', 5), ('.\\r\\n\\r\\n\\r\\n*', 5), ('trace', 5), (').\\r\\n', 5), ('js', 5), ('Woohoo', 5), ('coupons', 5), ('ZnJsMms', 5), ('Action', 5), ('aFm', 5), ('middle', 5), ('adjustments', 5), ('manufacturer', 5), ('Revenue', 5), ('Bartlett', 5), ('combining', 5), ('general', 5), ('/>\\r\\n>>>>>>\\r\\n>>>>>\\r\\n>>>>>\\r\\n>>>>>\\r\\n>>>>> --\\r\\n>>>>> ~', 5), ('recency', 5), ('\">', 5), ('compare', 5), ('habits', 5), ('geared', 5), ('_blank', 5), ('Screen', 5), ('2022', 5), ('SOC', 5), ('Makes', 5), ('secret', 5), ('NDc', 5), ('Banquet', 5), ('Register', 5), ('OWE', 5), ('dddddd', 5), ('>.<', 5), (').\\r\\n>\\r\\n> ', 5), ('follows', 5), ('.\\r\\n  ', 5), ('7299', 5), ('calculated', 5), ('Case', 5), ('Scott', 5), (' |', 5), ('Select', 5), ('Qlik', 5), ('MDM', 5), ('upcoming', 5), (' :)\\r\\n>\\r\\n> ', 5), ('Details', 5), ('reserved', 5), ('\\r\\n>> \"', 5), (';\\t', 5), ('chasing', 5), ('industries', 5), ('Stage', 5), (').\\r\\n. ', 5), ('strategic', 5), ('=>\\r\\n   \\xe2\\x80\\x93 ', 5), ('knowledge', 5), ('QlikTech', 5), ('deliver', 5), ('ZjAwZWRkMDg', 5), ('agree', 5), ('define', 5), ('Sprint', 5), ('>\\r\\n>     ', 5), (' \\r\\n>>>>>>>>> ', 5), (',\\r\\n>>>> \\r\\n>>>> ', 5), ('TPlzngvK', 5), ('Fwd', 5), ('\\r\\n> \\r\\n>> ', 5), ('organization_id', 5), ('pig', 5), ('Pennsylvania', 5), ('aGV', 5), ('Prospect', 5), ('Integrity', 5), ('tweet', 5), (' \\r\\n>> ', 5), ('Premier', 5), ('property', 5), ('Generics', 5), ('>\\n                                    <', 5), ('>\\n                            </', 5), ('applicable', 5), (\"' (\", 5), ('.\\r\\n>\\r\\n>          ', 5), ('hearing', 5), ('incrementalsavingsmax', 5), ('\\r\\n>\\r\\n> *', 5), ('.\\r\\n>\\r\\n>\\r\\n>\\r\\n>\\r\\n> -- \\r\\n> ~', 5), ('watch', 5), ('hopefully', 5), ('360', 5), ('zXSYO', 5), ('complex', 5), ('14861756', 5), ('appearing', 5), ('mZdBlIGmDwNKdNDVZAh', 5), ('successfully', 5), ('primary_oration_id', 5), ('dropped', 5), ('ocano', 5), ('gid', 5), ('cGVAb', 5), ('\\r\\n>>>\\r\\n>>>   ', 5), ('Methodologies', 5), ('iphone', 5), ('sessions', 5), ('Family', 5), ('\\r\\n>>>>>>>>>>>>> <', 5), ('birthday', 5), ('offers', 5), ('term', 5), ('Fcustomer', 5), ('_TmpCM', 5), ('eventId', 5), ('previews', 5), ('lmd', 5), ('exploring', 5), ('population', 5), ('dynamically', 5), ('Annual', 5), ('ignored', 5), ('parts', 5), ('standup', 5), ('careful', 5), ('sometime', 5), ('insurers', 5), ('IA', 5), ('sub', 5), ('shareArticle', 5), (':\\r\\n\\r\\n>\\r\\n> ', 5), ('knows', 5), ('brands', 5), ('Fizzles', 5), ('/>\\r\\n>\\r\\n> ', 5), ('1076', 5), ('Gunderson', 5), ('thread', 5), ('MTI', 5), ('leading', 5), (',\\r\\n<', 5), ('_OuNFWzEPWuRTVq', 5), ('!!!\\r\\n>\\r\\n> ', 5), ('finding', 5), ('various', 5), ('recently', 5), ('reasons', 5), (' (~$', 5), ('exemption', 5), ('Sales', 5), (' >= ', 5), ('deliverable', 5), ('prod', 5), ('.\\r\\n\\r\\n---\\r\\n\\r\\n', 5), ('>\\r\\n>>>>>>   /  ', 5), ('Audit', 5), ('Oakland', 5), ('wished', 5), ('notes', 5), ('DTO', 5), ('VlMmNlNTA', 5), ('Insight', 5), ('factor', 5), ('ZSlVHjJGemiBYb', 5), ('arduous', 5), ('elif', 5), ('VPN', 5), ('>          \\r\\n\"\"\\r\\n', 5), ('reversed', 5), ('patients', 5), ('Terri', 5), ('+-+', 5), (') (', 5), ('992', 5), ('ended', 5), ('034', 5), ('*\\r\\n   - *', 5), ('FjlwFWJar', 5), ('environments', 5), ('Finally', 5), ('FREE', 5), ('LaClair', 5), ('stakeholders', 5), ('leak', 5), ('Vancouver', 5), ('Desk', 5), ('hanging', 4), ('HDFS', 4), ('>\\r\\n>>>>>\\r\\n>>>>\\r\\n>>>>\\r\\n>>>>\\r\\n>>>> --\\r\\n>>>> ~', 4), ('tires', 4), ('056', 4), ('music', 4), ('successful', 4), ('98', 4), ('Ly', 4), ('methodology', 4), ('BlYy', 4), ('UFAcz', 4), ('OWDDYZWA', 4), ('fidelity', 4), ('hidden', 4), ('200048', 4), ('bands', 4), (', \\r\\n> ', 4), ('sma', 4), ('.\\r\\n>>>>>>> \\r\\n>>>>>>> ', 4), ('master', 4), ('393909850', 4), ('tree', 4), ('upenn', 4), ('TQGE', 4), ('/\\r\\n\\r\\n\\r\\n', 4), ('lots', 4), ('Advanced', 4), ('pity', 4), ('LWphY', 4), ('253', 4), ('iLTROZnJBckdYcUpqM', 4), ('\\r\\n>>\\r\\n>> ---------- ', 4), ('Confirmation', 4), ('#\\r\\n>\\r\\n> ', 4), ('birth', 4), ('2754444', 4), ('?\\r\\n>>>>>>>>\\r\\n>>>>>>>> ', 4), ('35914', 4), ('Redwood', 4), ('Valentine', 4), ('AVI', 4), ('Boulevard', 4), ('wrap', 4), ('jimmartineau', 4), ('DUTF', 4), ('Track', 4), ('>\\r\\n>>>>>>>>   /  ', 4), (',\\r\\n>>>>\\r\\n>>>>  ', 4), ('whoever', 4), (':%', 4), ('KGJTG', 4), ('NfZ', 4), ('/\\r\\n>>\\r\\n>> ', 4), ('queue', 4), ('\\r\\n>>>>>>>\\r\\n>>>>>>\\r\\n>>>>>>\\r\\n>>>>>>\\r\\n>>>>>> --\\r\\n>>>>>> ', 4), ('MP', 4), (' <\\r\\n>>>>>>>>>>> ', 4), ('healthcareglobal', 4), ('scope', 4), ('OuQ', 4), ('easiest', 4), ('originally', 4), ('allowed', 4), ('_Yrg', 4), ('parameter', 4), ('STE', 4), (']\\r\\n>>>>> *', 4), ('931', 4), ('ideal', 4), ('quarter', 4), ('>\\r\\n\\r\\n----------------------------------------------\\r\\n\\r\\n', 4), ('794', 4), ('UYBMA', 4), ('mail_form_link', 4), ('Fastest', 4), (':*\\r\\n\\r\\n*', 4), ('CBEQNRR', 4), ('*\\r\\n> \\xe2\\x80\\xa2\\r\\n> ', 4), ('\\r\\n>>>>>> \"', 4), ('uX', 4), ('\\r\\n>>>>\\r\\n>>>>   ', 4), ('Hall', 4), ('EIULRYYRHDMTUA', 4), ('RAVKA', 4), ('\\r\\n>\\r\\n>\\r\\n\\r\\n\\r\\n-- \\r\\n~', 4), ('==\\r\\n', 4), ('Dfacebook', 4), ('uKDRcwVI', 4), ('Toll', 4), ('anyways', 4), ('837', 4), ('iijKEx', 4), ('jobs', 4), (';      ', 4), ('combined', 4), ('policies', 4), ('Size', 4), ('verified', 4), ('CAHUL', 4), ('DFKCCDMNT', 4), (' \\r\\n\\r\\n\\r\\n----\\r\\n**', 4), ('sampling', 4), (' <\\r\\n>>>>>> ', 4), ('Recognition', 4), ('oDOXpdW', 4), ('dda', 4), (';&', 4), ('. \\n\\n\\xc2\\xa0', 4), ('Guide', 4), ('505', 4), ('\\r\\n>>>\\r\\n>>\\r\\n>>\\r\\n>>\\r\\n>> --\\r\\n>> ~', 4), ('249365', 4), ('Fdisplay', 4), ('influenza', 4), ('Fie', 4), ('LXNxbC', 4), ('homepage', 4), ('manageable', 4), ('.\\r\\n>\\r\\n> --\\r\\n> ', 4), ('method', 4), ('compliance', 4), ('>\\r\\n>\\r\\n', 4), (':\\r\\n>>>>>>>\\r\\n>>>>>>> ', 4), ('Found', 4), ('keeping', 4), ('\" <\\r\\n> ', 4), ('owner', 4), ('treatments', 4), ('checkbox', 4), (' :', 4), ('Matter', 4), ('Quadrant', 4), ('courses', 4), ('driven', 4), ('lego', 4), ('\\r\\n>>>>>    - ', 4), ('FullStory', 4), ('thenextweb', 4), ('internal', 4), ('unused', 4), ('Rules', 4), ('failed', 4), ('dependent', 4), (';\">\\r\\n', 4), ('?   *', 4), ('.\\r\\n>> . ', 4), ('desktop', 4), ('Macs', 4), ('\\r\\n>>>>>>>>>>>>>>>\\r\\n>>>>>>>>>>>>>>> [', 4), ('.      ', 4), ('.\\r\\n>>>> \\r\\n>>>> ', 4), ('SOKN', 4), ('876', 4), ('CGBRBWA', 4), ('shorter', 4), ('FR', 4), ('signals', 4), ('tweaks', 4), ('CETPRX', 4), ('KRHN', 4), ('OU', 4), ('OR', 4), ('cvbmV', 4), ('data_subject', 4), ('Pandora', 4), ('opens', 4), ('themselves', 4), ('enrolled', 4), ('postings', 4), ('| ', 4), ('continued', 4), ('magic', 4), ('topstrip', 4), ('Jessica', 4), ('len', 4), ('Recycling', 4), ('DXXPGMANQ', 4), ('\\r\\n>>>>>>>>>>>>>> <', 4), ('22302', 4), ('ob', 4), ('educational', 4), ('malware', 4), ('Apply', 4), ('>\\r\\n.\\r\\n\\r\\n', 4), ('perfect', 4), ('meantime', 4), ('python', 4), ('Works', 4), ('subset', 4), ('shut', 4), (' = *', 4), ('==>\\r\\n> \\xe2\\x80\\x93 ', 4), ('false', 4), ('piirepository', 4), (' > \\xe2\\x80\\x9c', 4), ('?\\r\\n\\r\\n-- \\r\\n~', 4), ('United', 4), ('**', 4), ('Waste', 4), ('produces', 4), ('buttons', 4), ('handle', 4), ('simplest', 4), (')\\r\\n   ', 4), ('Once', 4), ('taxes', 4), ('Source', 4), ('Cheerio', 4), ('npr', 4), ('recurring', 4), ('vT', 4), (':   ', 4), ('357', 4), ('increases', 4), ('hardcoded', 4), ('Guaranteed', 4), ('tjrJZmZUTIS', 4), ('suited', 4), ('assess', 4), ('eula', 4), ('believe', 4), ('WNNFYDRQXJ', 4), ('\\r\\n>>\\r\\n>> *', 4), ('lookup', 4), ('BCC', 4), (' \\xc2\\xa0 \\xc2\\xa0', 4), ('OjoHFSaLQlj', 4), ('3997', 4), ('\">\\n                    <', 4), ('ETJoj', 4), ('protection', 4), ('Drugs', 4), ('Stay', 4), (',  - ', 4), ('Standing', 4), ('==>\\r\\n   \\xe2\\x80\\x93 ', 4), ('_TE_simp_', 4), ('Carlos', 4), ('cHM', 4), ('>,\\r\\n', 4), ('CEFYA', 4), ('changelog', 4), ('forth', 4), ('PILGRIM', 4), ('+ (', 4), ('detecting', 4), ('>\\n\\n    <!-- ', 4), ('tel', 4), ('>\\t', 4), ('\\r\\n>>>>>>>>>>>>>>\\r\\n>>>>>>>>>>>>>> ', 4), ('DTyiAnxEFvjHBe', 4), ('email_drafted', 4), ('Gallery', 4), ('Xk_r', 4), ('phase', 4), ('YSqjkAVwDvEd', 4), ('Compounding', 4), ('\\r\\n\\r\\n\\r\\n\\r\\n\\r\\n\\r\\n\\r\\n\\r\\n\\r\\n\\r\\n\\r\\n\\r\\n[', 4), ('\\r\\n\\r\\n---------- ', 4), ('PAZ', 4), ('Hadoop', 4), ('dg', 4), ('dc', 4), ('covering', 4), ('dQ', 4), ('EXNAZILBJJBRP', 4), ('segmentation', 4), ('/>\\r\\n>>>>>\\r\\n>>>>\\r\\n>>>>\\r\\n>>>>\\r\\n>>>> --\\r\\n>>>> ~', 4), ('Dlinkedin', 4), ('Unix_time', 4), ('Vice', 4), ('Jch', 4), ('Headcount', 4), ('sgizmo', 4), ('WDI', 4), ('Chantix', 4), ('valign', 4), ('Alice', 4), ('3893229213', 4), ('School', 4), ('truncated', 4), ('!). ', 4), ('\\r\\n>>>>\\r\\n>>>>\\r\\n>>>> ', 4), ('manual_price_archive', 4), ('zendesk', 4), ('EOD', 4), ('>\\n        \\n                            </', 4), ('jbmVHbk', 4), (' <\\r\\n>>>>>>>>>>>>> ', 4), ('convince', 4), ('O_arjaH', 4), ('OKR', 4), ('extra', 4), ('.\\r\\n>>>>>>>>>>>>>>>\\r\\n>>>>>>>>>>>>>>> ', 4), ('Customers', 4), ('DNvhAflRnbC', 4), ('organizations', 4), ('labeled', 4), ('heard', 4), ('License', 4), ('Ship', 4), ('typical', 4), ('Author', 4), ('Rc', 4), ('managers', 4), ('>\\r\\n+', 4), ('6448529', 4), ('RJ', 4), ('james', 4), ('drop', 4), ('\\r\\n> \\r\\n> \\r\\n> \\r\\n> -- \\r\\n> ', 4), ('ee', 4), ('>>, \"', 4), (' (+', 4), (' ( ', 4), (\" ('\", 4), ('xo', 4), ('xb', 4), ('xc', 4), ('>*\\r\\n>     ', 4), ('traction', 4), ('XWrsL_', 4), (' \\xe2\\x80\\x94 ', 4), ('refunds', 4), ('accordance', 4), ('.\\r\\n>>>>>>> ', 4), ('typically', 4), ('Candidate', 4), ('Interesting', 4), ('TableDataInsertAllRequest', 4), ('disabled', 4), ('concern', 4), ('purely', 4), ('KjTowL', 4), ('cares', 4), ('leadership', 4), (' \\xc2\\xbb\\r\\n>> <', 4), ('JackDB', 4), ('external', 4), ('MKV', 4), ('Teegan', 4), ('fpdUUQOHWs', 4), ('fruit', 4), ('excel', 4), ('speed', 4), ('improvement', 4), ('benefit', 4), ('intend', 4), (')\\r\\n>>>>>> <', 4), ('exciting', 4), ('greatly', 4), ('redshift', 4), ('112', 4), ('hire', 4), ('MmxvQjRvaThCOGpzTWYwX', 4), ('1200', 4), (', \\xc2\\xa0', 4), ('dHJhbnNhY', 4), ('O_mGcQrZLJXtUZobl', 4), ('casual', 4), ('consumers', 4), ('khmPXEqRfWM', 4), ('14860033', 4), ('>\\n\\t\\n\\n\\t\\n\\t<', 4), ('\\r\\n>  \\r\\n> \\r\\n> <', 4), ('.  \\r\\n', 4), ('zLsv', 4), ('Rxcui', 4), ('819', 4), ('Sk', 4), ('broke', 4), ('0048', 4), ('history', 4), ('cdd', 4), ('fd', 4), ('wharton', 4), ('hierarchy', 4), ('LCKm', 4), ('End', 4), ('beyond', 4), ('According', 4), ('Copyright', 4), ('HBJg', 4), ('ABlogPost', 4), ('Michelle', 4), ('Passcode', 4), ('close', 4), ('%\">\\n                                <', 4), ('deploying', 4), ('scalability', 4), ('phishing', 4), ('sensitive', 4), ('LIIDKA', 4), ('ZAUUCM', 4), ('MA', 4), ('MkgD', 4), ('\\r\\n\\xc2\\xa0\\xc2\\xa0', 4), ('/>\\r\\n>>>>>>>\\r\\n>>>>>>\\r\\n>>>>>>\\r\\n>>>>>>\\r\\n>>>>>> --\\r\\n>>>>>> ~', 4), ('consistency', 4), ('evaluate', 4), ('popular', 4), ('Zheng', 4), (' , ', 4), ('.\\r\\n>>>\\r\\n>>> --\\r\\n>>> ~', 4), ('messaging', 4), ('...\\r\\n>\\r\\n> ', 4), (']\\r\\n>>>> <', 4), ('fishy', 4), ('Tv', 4), (') \\n\\n- ', 4), ('modeling', 4), ('DHH', 4), ('AI', 4), ('AH', 4), ('structure', 4), (': [', 4), ('Apparently', 4), ('?   ', 4), ('bottomstrip', 4), ('booth', 4), ('picked', 4), ('>    ', 4), ('>   $', 4), ('panel', 4), ('ExgEjR', 4), ('\\r\\n>>> \\r\\n>>> -- \\r\\n>>> ', 4), (' \\xe2\\x80\\x98', 4), ('demoing', 4), ('TQVZNTFBNH', 4), ('qUziNEC', 4), ('DataHero', 4), ('Statistics', 4), ('CEO', 4), ('attending', 4), ('MUR', 4), ('QXDPAXN', 4), ('2016', 4), ('YnNjcmlwdGlvbklk', 4), ('\\r\\n>>>>>>>\\r\\n>>>>>>>\\r\\n>>>>>>>\\r\\n>>>>>>>\\r\\n>>>>>>> ', 4), ('pgAdmin', 4), ('shield', 4), ('/>\\n</', 4), ('employee', 4), ('BAaQCxPSPgDJdQN', 4), ('?\\r\\n>>>>>\\r\\n>>>>> ', 4), ('Subscription', 4), ('\">\\n    <', 4), ('username', 4), ('corresponding', 4), ('.*\\r\\n>\\r\\n> ', 4), ('wkr', 4), ('capture', 4), ('speaker', 4), ('headcount', 4), ('Productivity', 4), ('Programs', 4), ('\">\\n             ', 4), ('ROI', 4), ('bX', 4), ('histogram', 4), ('hc', 4), ('signed', 4), ('720', 4), ('803453959', 4), ('quot', 4), ('Delivery', 4), ('476', 4), ('ykIYs', 4), ('auc', 4), ('upload', 4), ('\\r\\n>>> (', 4), ('ZyVVpaOVdhZWRiWk', 4), ('Thomas', 4), ('heading', 4), ('Version', 4), ('Curry', 4), ('MATEO', 4), ('6834818', 4), ('WfNj', 4), ('YmV', 4), ('Easily', 4), ('NLq', 4), ('NLS', 4), ('restricted', 4), ('turning', 4), ('GWjS', 4), ('Kaspersky', 4), ('SFrame', 4), ('YIHU', 4), ('mini', 4), ('mine', 4), ('bar', 4), ('Leaders', 4), ('35923', 4), ('35926', 4), ('666666', 4), ('guaranteed', 4), ('.\\r\\n\\r\\n~', 4), ('eemail', 4), ('.\\r\\n\\r\\n[', 4), ('basic', 4), ('deeper', 4), ('.\\r\\n\\r\\n ', 4), ('DC', 4), ('personally', 4), ('spellings', 4), ('VB', 4), ('VK', 4), ('Truck', 4), ('practices', 4), ('yes', 4), ('310737', 4), ('wYXJ', 4), ('Ds', 4), ('mailorder', 4), ('cGxlbnR', 4), ('.\\xc2\\xa0\\r\\n', 4), ('GtPcntqNd', 4), ('aNWxkczQ', 4), ('failure', 4), ('builds', 4), ('Estimated', 4), ('covers', 4), ('\\r\\n>>>>>>>> \"', 4), ('billion', 4), ('FodW', 4), ('gethoodie', 4), ('.\\r\\n\\r\\n</', 4), ('round', 4), ('hbG', 4), ('Fhelp', 4), ('scenarios', 4), ('wallet', 4), ('till', 4), ('map', 4), ('VirtualTUG', 4), ('Series', 4), (',\\r\\n>>>\\r\\n>>>  ', 4), ('VFx', 4), ('152247', 4), ('gConsole', 4), ('directories', 4), ('.)\\r\\n>    - ', 4), ('RTT', 4), ('ZWGWEI', 4), ('IZkdPaGM', 4), ('HMSA', 4), ('Fortune', 4), ('Hoodie', 4), ('==>\\r\\n\\xe2\\x80\\x93 ', 4), ('booted', 4), ('DR', 4), ('ultimate', 4), ('pain', 4), ('beta', 4), ('tkYj', 4), (' ~$', 4), ('goodrx', 4), ('929', 4), ('yvwSUuaQuOsSJi', 4), ('Pavilion', 4), ('reading', 4), ('jp', 4), ('cancel', 4), ('mark', 4), ('tweetbutton', 4), ('offered', 4), ('doctor', 4), (':\\r\\n>>>>> ', 4), ('ipAddress', 4), ('121901', 4), ('grouped', 4), ('.\\r\\n\\r\\n---------- ', 4), ('IiwidiI', 4), ('...\\r\\n', 4), ('broken', 4), ('842', 4), ('Maintenance', 4), ('.\\r\\n>>>>>    - ', 4), ('SAN', 4), (': @', 4), ('censor', 4), ('Blog', 4), ('2583', 4), ('FPD', 4), ('tackle', 4), ('dropbox', 4), ('assets', 4), ('requires', 4), ('Training', 4), ('*\\r\\n\\r\\n', 4), ('fall', 4), ('\\r\\n>>>>>>>>>>>>>\\r\\n>>>>>>>>>>>>> ', 4), ('KRFWDE', 4), ('significantly', 4), ('transit', 4), ('eye', 4), ('megaphone', 4), ('American', 4), ('bmVycy', 4), ('cluster', 4), ('.\\r\\n>>    - ', 4), ('maps', 4), ('token', 4), ('Build', 4), ('Medium', 4), ('184', 4), ('XB', 4), ('LEFHQcwwJFivDRYfGyc_wyJ', 4), ('interactive', 4), ('WALTR', 4), ('carefully', 4), ('RPRBD', 4), ('Magic', 4), ('\\r\\n>>>>>>>>>>\\r\\n>>>>>>>>>> ', 4), ('UQAm', 4), ('.\\r\\n         ', 4), ('mean', 4), ('\\r\\n\\t\\t\\t\\t\\r\\n', 4), ('>\\n         <', 4), ('creativity', 4), ('replaced', 4), ('century', 4), ('QPAGXB', 4), ('Tools', 4), ('DYpi', 4), ('circling', 4), ('cognitive', 4), ('emali', 4), ('Whatever', 4), (' ^%$# ', 4), ('Java', 4), ('DNvhAfjFaNkZfcGhBSkxmQlZaS', 4), ('303', 4), ('currency', 4), ('lWLVF', 4), ('Excellent', 4), (':    $', 4), (' *(~', 4), ('.\\r\\n>>>\\r\\n>>>    ', 4), ('.\\r\\n>>>>>>>>>>>>>\\r\\n>>>>>>>>>>>>> ', 4), ('_TE_simp_tx', 4), ('94063', 4), ('heuristics', 4), (':\\r\\n>>>>>>>>> ', 4), ('IXIKPLQQMZYPT', 4), (',\\r\\n>>>>>>>>>>>\\r\\n>>>>>>>>>>> ', 4), ('justification', 4), ('FC', 4), ('Nice', 4), ('Status', 4), ('arranging', 4), ('8897', 4), ('obvious', 4), ('didnt', 4), ('YV', 4), ('profile', 4), ('Schedule', 4), ('\">\\n                            <', 4), ('0711', 4), ('?\\r\\n>>>>>>\\r\\n>>>>>> ', 4), ('.\\r\\n>\\r\\n>\\r\\n> *', 4), ('\\r\\n>>>>>>    - ', 4), ('reliable', 4), ('Careers', 4), ('nodeId', 4), ('gear', 4), ('ipad', 4), ('UfocaoAWZY', 4), ('apparently', 4), ('xvvgkm', 4), (')\\r\\n>>>\\r\\n>>> ', 4), (':\\r\\n>>>>>>>>>>>>>>\\r\\n>>>>>>>>>>>>>>> ', 4), ('FVhJrBDwZ', 4), ('265246', 4), ('YkzbRYJ', 4), ('/>&', 4), ('compromising', 4), ('World', 4), ('ASDOqR', 4), ('IMG_', 4), ('fellow', 4), ('XOHNUARVBLIX', 4), ('helped', 4), ('MBA', 4), ('Kahuna', 4), (';\">\\n                            <', 4), ('blockers', 4), ('sets', 4), ('position', 4), ('clupdate', 4), ('uXCIsXCJpZFwiOlwiMDQxODA', 4), ('resolved', 4), ('fyi', 4), ('NXI', 4), ('.\\r\\n> . ', 4), ('Excel', 4), ('dnNHbnozTlgxeERxeVJnd', 4), ('Proposed', 4), (' # ', 4), ('\\r\\n\\r\\n  ', 4), ('sleep', 4), ('tZ', 4), ('\\r\\n> \"', 4), ('spec', 4), ('GF', 4), ('estimated', 4), ('blue', 4), ('coordinating', 4), ('.\\r\\n>\\r\\n>       ', 4), ('supplies', 4), ('offs', 4), ('June', 4), ('mg', 4), ('\\r\\n>>>>>\\r\\n>>>>>\\r\\n>>>>>\\r\\n>>>>>\\r\\n>>>>>\\r\\n>>>>> ', 4), ('Seaport', 4), ('Facilitator', 4), ('200961550', 4), ('>\\r\\n>>>>>>>>>>>>>> ', 4), (':\\r\\n>>>>>>\\r\\n>>>>>> ', 4), ('FuX', 4), ('Unix', 4), ('thorough', 4), ('/>\\r\\n> ', 4), ('updating', 4), ('habit', 4), ('bed', 4), ('367', 4), (';\">\\n        <', 4), ('\\r\\n>>  \\r\\n>> \\r\\n> \\r\\n> \\r\\n> \\r\\n> -- \\r\\n> ', 4), (':*\\r\\n', 4), ('catch', 4), ('4528', 4), ('Menu', 4), ('expenses', 4), ('shortly', 4), ('>\\r\\n>>>>>>>>>>>>>>> ', 4), ('Mhy', 4), ('descending', 4), ('Again', 4), ('HI', 4), ('ucsf', 4), ('855', 4), ('Deposit', 4), ('misleading', 4), ('fLO', 4), ('14860167', 4), ('Electronic', 4), ('=\\r\\n', 4), ('hbCZ', 4), ('\".  ', 4), ('Conference', 4), ('Retirement', 4), ('Designers', 4), (',\\r\\n>    ', 4), ('watching', 4), ('blocked', 4), ('insertTime', 4), ('happened', 4), ('yZWdpc', 4), ('catching', 4), ('Save', 4), ('hrpassport', 4), ('Wharton', 4), ('OYyO', 4), ('?\\r\\n>>>>>>>>>\\r\\n>>>>>>>>> ', 4), ('\\r\\n>>>>>>>>>>>>>>> <', 4), ('Principal', 4), ('/>\\r\\n>>>>\\r\\n>>>\\r\\n>>>\\r\\n>>>\\r\\n>>> --\\r\\n>>> ~', 4), ('Attribution', 4), ('installed', 4), ('dyP', 4), ('Spread', 4), ('alphabetically', 4), ('contract', 4), ('\\r\\n>\\r\\n>\\r\\n>\\r\\n> --\\r\\n> ', 4), ('68', 4), ('Events', 4), ('RcP', 4), ('NjM', 4), ('Content', 4), ('hmRS', 4), ('Loading', 4), ('AKRZN', 4), ('captured', 4), ('heuristic', 4), ('lets', 4), ('Change', 4), ('scheduled', 4), ('VrOEpDWWRFalI', 4), ('**: ', 4), ('Dgoogle_plus', 4), ('yd', 4), ('2600', 4), ('communication', 4), ('Snagit', 4), ('Eligible', 4), ('deserve', 4), ('ICU', 4), ('wife', 4), ('\\n         </', 4), ('gbxyqk', 4), ('.\\r\\n>>>>>>>>\\r\\n>>>>>>>>\\r\\n>>>>>>>> ', 4), ('decisions', 4), ('WEgsXU', 4), ('\\r\\n>>>>>>>>>>>>>>\\r\\n>>>>>>>>>>>>>> [', 4), ('imported', 4), ('sum', 4), ('equations', 4), ('ParallelsCares', 4), ('Guestrin', 4), ('explains', 4), ('differentiator', 4), ('Requestor', 4), ('\">\\n                                <', 4), ('milestone', 4), ('instructions', 4), ('Facility', 4), ('_mh', 4), ('relate', 4), ('fancy', 4), ('\"', 4), ('store', 4), ('187', 4), ('\\r\\n>>>>>>>>>>>>\\r\\n>>>>>>>>>>>> ', 4), ('>\\r\\n   ', 4), ('>\\r\\n  $', 4), ('Road', 4), ('uZmlybWF', 4), ('libraries', 4), ('initially', 4), ('whalepath', 4), ('GDYA', 4), ('pV', 4), (\"'\\r\\n\", 4), ('pq', 4), ('brokers', 4), ('Xplenty', 4), ('delicious', 4), ('Club', 4), ('Front', 4), ('NfnhyQjl', 4), ('/>\\r\\n>>>>>>>>>>\\r\\n>>>>>>>>>\\r\\n>>>>>>>>>\\r\\n>>>>>>>>>\\r\\n>>>>>>>>> --\\r\\n>>>>>>>>> ', 4), ('vaccine', 4), ('row', 4), ('Savings', 4), ('..\\r\\n\\r\\n', 4), ('complimentary', 4), ('standardized', 4), ('emailId', 4), ('sections', 4), (',\\r\\n>>>>>>>>>>> ', 4), ('original_referer', 4), ('worthwhile', 4), (' \\n\\n', 4), ('edx', 4), ('Updates', 4), ('nvpkrp', 4), ('warranties', 4), ('Link', 4), (' // ', 4), ('ducn', 4), ('assumptions', 4), ('outlier', 4), ('Activate', 4), ('Bird', 4), ('ships', 4), ('Original', 4), ('89', 4), ('GPEQWA', 4), ('blogpost', 4), ('unknown', 4), (':*   *$', 4), ('AIjozMDAwMDZ', 4), (':\\r\\n>>>>>>> ', 4), ('afraid', 4), ('JPG', 4), ('exclusive', 4), ('/\\r\\n\\r\\n\\r\\n\\r\\n\\r\\n\\r\\n\\r\\n\\r\\n\\r\\n\\r\\n', 4), ('GWKUPRXB', 4), ('conversions', 4), ('jmartine', 4), ('wall', 4), ('charts', 4), ('**\\r\\n\\r\\n[', 4), ('cross', 4), (' -----\\r\\n\\r\\n', 4), ('iOjAsImhyZWYiOiJodHRwczovL', 4), ('MTU', 4), ('order_submitted', 4), ('loses', 4), ('analyses', 4), ('Really', 4), ('%;\"><', 4), ('RyYXRpb', 4), ('chatted', 4), (') | ', 4), (',\\n\\xc2\\xa0', 3), ('eligible', 3), ('tableausw', 3), ('Less', 3), ('Ftwitter', 3), ('273', 3), ('Hootsuite', 3), ('cooking', 3), ('Foundation', 3), ('Three', 3), ('brought', 3), ('96', 3), ('Lf', 3), ('travel', 3), ('playback', 3), ('digitaldoughnut', 3), ('\\r\\n      ', 3), ('...\\r\\n>>\\r\\n>> ', 3), ('Address', 3), ('Cards', 3), ('represents', 3), ('\\r\\n>>>>>\\r\\n>>>>>\\r\\n>>>>>\\r\\n>>>>>\\r\\n>>>>>\\r\\n>>>>> *', 3), ('trending', 3), ('Retina', 3), ('rc', 3), ('\\r\\n\\r\\n\\r\\n----- ', 3), ('Wooohooo', 3), ('cobranded', 3), ('2028', 3), ('WVRtkrNA', 3), (':\\r\\n>>>>>\\r\\n>>>>>\\r\\n>>>>> ', 3), ('dImnc', 3), ('Summit', 3), ('Fthe', 3), ('recommender', 3), ('inconveninece', 3), ('Login', 3), (', \\r\\n', 3), ('busy', 3), ('radius', 3), ('SavingsServiceProxy', 3), ('planned', 3), ('?\\r\\n>\\r\\n> -', 3), ('1604503', 3), ('AqRht', 3), ('\\r\\n> \\r\\n> \\r\\n> \\r\\n> -- \\r\\n> ~', 3), ('FamilySavingsPotentialDTO', 3), ('Text', 3), ('opinions', 3), ('\" / ', 3), ('rushing', 3), ('possibly', 3), ('..\\n\\n', 3), ('pertinent', 3), ('Bravo', 3), ('Application', 3), ('attendees', 3), ('creative', 3), ('slightly', 3), ('dashboards', 3), ('UnrecognizedPropertyException', 3), (')?\\r\\n>  ', 3), ('Personal', 3), ('actor', 3), ('roll', 3), ('glass', 3), ('::', 3), ('\\n> [', 3), ('92', 3), ('iOjQsImhyZWYiOiJodHRwczovL', 3), ('downloading', 3), ('Tabled', 3), ('24574', 3), ('celebrated', 3), ('.\\r\\n>>\\r\\n>>          ', 3), ('accepts', 3), ('predictions', 3), ('introducing', 3), ('.\\r\\n>> *', 3), ('quadrant', 3), ('si', 3), ('ttc', 3), ('zGWcg', 3), ('Jon', 3), ('saving', 3), ('xpJxgZOmihv', 3), ('Another', 3), ('Fdigitalmarketing', 3), ('Cyy', 3), ('Olean', 3), ('import', 3), ('admins', 3), ('worries', 3), ('serialization', 3), ('concentrated', 3), ('wants', 3), ('thousand', 3), ('breakdown', 3), ('RjijMRJ', 3), ('\"\\r\\n>>> ', 3), ('213', 3), (':\\r\\n\\r\\n>   ', 3), ('324', 3), ('69', 3), ('ddd', 3), ('xcXC', 3), ('.*\\r\\n>>\\r\\n>> ', 3), ('venturebeat', 3), ('migrate', 3), ('634', 3), ('/>\\r\\n>>\\r\\n>\\r\\n>\\r\\n', 3), ('Payroll', 3), ('20130820', 3), ('ta', 3), ('>\\r\\n>>\\r\\n>> [', 3), ('investment', 3), ('Abuse', 3), ('>\\r\\n\\r\\n ', 3), ('>\\r\\n\\r\\n[', 3), ('850', 3), ('...\\r\\n\\r\\n\\r\\n\\r\\n', 3), ('beautiful', 3), ('impacts', 3), (')\\r\\n>>>>\\r\\n>>>> ', 3), ('] - ', 3), ('FhmjTEU', 3), ('?\\r\\n\\r\\n\\r\\n', 3), ('Shipment', 3), ('nrCVDYvyLJ', 3), (' <\\r\\n>>>>>>>>>> ', 3), ('Food', 3), ('UnyOhhRp', 3), ('Ic', 3), ('exc', 3), ('Cloud', 3), (':\\r\\n>>>>>>>>>         ', 3), (')\\r\\n>>>>>>>>>>>>> <', 3), ('blow', 3), ('javascript', 3), ('Starting', 3), ('/ \\r\\n\\r\\n', 3), ('Market', 3), ('Strategy', 3), ('\\r\\n\\r\\n ', 3), ('Farticles', 3), ('alert', 3), ('. \\xc2\\xa0\\xc2\\xa0', 3), (') \\r\\n\\r\\n- ', 3), ('relevance', 3), ('] / ', 3), ('curious', 3), ('.  \\r\\n\\r\\n', 3), ('bd', 3), ('bf', 3), ('Fapp', 3), ('\\r\\n>>>>>>>>>>>\\r\\n>>>>>>>>>>> ', 3), ('uZ', 3), ('.\\r\\n>>\\r\\n>> --\\r\\n>> ', 3), ('uk', 3), ('ub', 3), ('951', 3), ('.\\r\\n  -', 3), ('Santhosh', 3), ('elements', 3), ('summit', 3), ('illustrates', 3), ('recorded', 3), ('legal', 3), ('broader', 3), ('uploaded', 3), ('respectively', 3), ('gathered', 3), ('EraW', 3), ('opinion', 3), (' ---------\\r\\n', 3), ('folks', 3), ('? <', 3), (' =\\r\\n', 3), (']\\r\\n>\\r\\n>\\r\\n> ', 3), ('intelligent', 3), ('.\\n\\n\\xc2\\xa0', 3), ('upstate', 3), ('realized', 3), ('\\r\\n>>>>>>>>>\\r\\n>>>>>>>>\\r\\n>>>>>>>>\\r\\n>>>>>>>>\\r\\n>>>>>>>> --\\r\\n>>>>>>>> ', 3), ('2011', 3), ('individualSavingsProjections', 3), ('Network', 3), ('\",\\r\\n> \"', 3), ('\\r\\n>>>>\\r\\n>>>\\r\\n>>>\\r\\n>>>\\r\\n>>> --\\r\\n>>> ~', 3), ('\\r\\n>>>>>>> \"', 3), ('Interactors', 3), ('histograms', 3), ('numActualOneTimeFreeFills', 3), ('vSTB', 3), ('viewer', 3), ('partnership', 3), ('.\\r\\n>>\\r\\n>>       ', 3), ('...\\r\\n> ', 3), ('SELECTED', 3), ('Run', 3), ('decade', 3), ('keys', 3), ('9764856', 3), ('comics', 3), ('iPad', 3), ('Handbook', 3), ('...\\r\\n>>>\\r\\n>>> ', 3), ('cb', 3), ('winning', 3), ('\\r\\n ', 3), ('Space', 3), ('myeatclub', 3), ('\\r\\n[', 3), ('Pivotal', 3), ('digging', 3), ('qJhXbtJzyAmArUPulHwBbZZTwVzeWliqkePLoaj', 3), ('acknowledgement', 3), ('patterns', 3), ('realize', 3), ('combine', 3), ('government', 3), ('!\\r\\n\\r\\n> ', 3), (':\\n> \\n> ', 3), ('Adobe', 3), ('choosing', 3), ('Speaking', 3), ('FblA', 3), ('leverages', 3), ('NqVW', 3), ('.\\r\\n>>>>\\r\\n>>>>  ', 3), ('descriptions', 3), ('function', 3), ('zZWdtZW', 3), ('Page', 3), ('celebration', 3), ('usps', 3), (')\\r\\n>>>>>>> <', 3), ('Health', 3), ('award', 3), ('word', 3), ('TEdlRfzgF', 3), ('deducted', 3), (')\\r\\n\\r\\n\\r\\n', 3), ('network', 3), ('Platforms', 3), ('.\\r\\n>>>\\r\\n>>>          ', 3), (':\\r\\n>>         ', 3), ('>,', 3), (':   *', 3), ('comic', 3), ('\\r\\n\\r\\n    ', 3), ('observations', 3), ('?\\r\\n>\\r\\n> --\\r\\n> ~', 3), ('rejected', 3), ('xCZZ', 3), ('\\r\\n>>>>>>>>>\\r\\n>>>>>>>>> --\\r\\n>>>>>>>>> ', 3), ('Side', 3), ('pECkwBAAA', 3), ('dp', 3), ('patient_relationship_code', 3), ('>\\r\\n> *', 3), ('epochs', 3), ('ZXK', 3), ('.\\r\\n>>\\r\\n>>\\r\\n>>\\r\\n>> ', 3), ('\\r\\n>>>> (', 3), ('captive', 3), (')\\r\\n>>>>>>>> <', 3), ('ain', 3), ('.\\r\\n>> \\r\\n>>> ', 3), ('endpoints', 3), ('Institute', 3), ('confusing', 3), ('Lee', 3), ('huffingtonpost', 3), ('properties', 3), ('gartner', 3), ('rowList', 3), ('Make', 3), ('rollout', 3), ('>\\r\\n> \\r\\n>> ', 3), ('ddcWP', 3), ('vMC_Bkq', 3), ('.\\r\\n\\r\\n\\r\\n\\r\\n> ', 3), ('expertise', 3), ('physical', 3), ('VccjLrvO', 3), ('Quite', 3), ('certainly', 3), ('graph', 3), ('permanently', 3), ('Browser', 3), ('Tech', 3), ('Jersey', 3), ('presented', 3), ('discover', 3), ('UHv', 3), ('reportabuse', 3), ('\\r\\n>>>       - ', 3), ('York', 3), ('Required', 3), ('Webinar', 3), ('topic', 3), (',<', 3), ('Bridgewater', 3), ('Recovery', 3), ('brain', 3), ('RR', 3), ('> - ', 3), ('entirely', 3), ('ed', 3), ('ex', 3), (':\\r\\n\\r\\n    ', 3), ('Ansible', 3), ('pbrecords', 3), (' (\"', 3), ('suffice', 3), ('yourself', 3), ('Area', 3), ('Notebook', 3), ('Enbrel', 3), ('Deep', 3), ('worksheets', 3), ('Assume', 3), ('professional', 3), ('upgrade', 3), ('Db', 3), ('jjRNT', 3), ('recall', 3), ('stages', 3), ('Jeremy', 3), ('\\r\\n>>>>  \\r\\n>>>> \\r\\n>>> \\r\\n>>> \\r\\n>>> \\r\\n>>> -- \\r\\n>>> ', 3), ('159', 3), ('Doctors', 3), ('.\\r\\n\\r\\n\\r\\n>    ', 3), ('cchiEgig', 3), ('figuring', 3), ('epoch', 3), (', /', 3), ('gonna', 3), ('suppliers', 3), ('output', 3), ('\" [', 3), ('73547499', 3), ('Churned', 3), ('removing', 3), ('fraud', 3), ('improved', 3), ('hospitals', 3), ('Inviting', 3), ('sYQKaIGFjzGXmPOrrRL', 3), ('outlining', 3), ('pointing', 3), ('fizzles', 3), ('\"]->', 3), ('modify', 3), ('drug_strength', 3), ('XOXOXOXOXO', 3), ('GEGfnsg', 3), ('lowering', 3), ('JpCY', 3), ('Sh', 3), ('740', 3), (' - [', 3), ('\\r\\n>\\r\\n>\\r\\n>\\r\\n\\r\\n\\r\\n-- \\r\\n~', 3), ('exclude', 3), ('Shhbcde', 3), ('inline', 3), ('held', 3), ('\\r\\n>  [', 3), ('fully', 3), (')*\\r\\n>\\r\\n> ', 3), ('Nicely', 3), ('base', 3), ('B_l', 3), ('Boston', 3), (',\\r\\n>>>       ', 3), ('>, \"\\r\\n> ', 3), ('YHW', 3), ('selling', 3), ('885', 3), ('>\\r\\n   - ', 3), ('useless', 3), ('>\\r\\n\\t&#', 3), ('clear', 3), (':\\r\\n>         ', 3), ('.\\r\\n> \\r\\n> -- \\r\\n> ~', 3), ('CHBZk', 3), ('!\\r\\n>> ', 3), ('boost', 3), ('underlying', 3), ('rooms', 3), ('Part', 3), (',\\r\\n>>>>>\\r\\n>>>>>\\r\\n>>>>> ', 3), ('extracted', 3), ('guide', 3), ('pack', 3), ('ratings', 3), ('PIN', 3), ('ENBREL', 3), ('remaining', 3), (').\\r\\n> ', 3), ('>\\n                                    \\n    \\n\\n                                    <', 3), ('creation', 3), ('iOjgsImhyZWYiOiJodHRwczovL', 3), ('CtTCeknExCJDbv', 3), ('Aetna', 3), ('\\r\\n>>>          ', 3), ('challenged', 3), ('.%', 3), ('approved', 3), ('annualizedPotentialOrgSavings', 3), ('properly', 3), ('uber', 3), ('TD', 3), ('Thought', 3), ('\\r\\n>>>>>>>>>> \"', 3), ('Am', 3), ('Az', 3), ('gm', 3), (') \\r\\n> <', 3), ('configurations', 3), ('za', 3), ('Forward', 3), ('databind', 3), ('\\r\\n>>>>>>>>\\r\\n>>>>>>>> --\\r\\n>>>>>>>> ', 3), ('ICJlbWFpbCBvcGVuZWQiLCAicHJvcGVydGllcyI', 3), ('Doctor', 3), ('collaborating', 3), ('Fitunes', 3), ('NDciLCAiZGlzdGluY', 3), ('announcing', 3), ('\",\\r\\n\"', 3), ('TOS', 3), ('hesitate', 3), ('located', 3), ('introduced', 3), ('Dark', 3), (',\\r\\n>>> \\r\\n>>> ', 3), ('notebooks', 3), ('Two', 3), ('700', 3), ('measure', 3), ('improving', 3), ('practitioners', 3), ('?\\xc2\\xa0', 3), ('biggest', 3), ('rss', 3), ('Connect', 3), ('\\r\\n>>>>>>>>\\r\\n>>>>>>>>\\r\\n>>>>>>>>\\r\\n>>>>>>>>\\r\\n>>>>>>>> ', 3), ('Matt', 3), ('.\\r\\n\\r\\n\\r\\n    ', 3), ('000007775868', 3), ('Rfhd_KrKdg', 3), ('correctly', 3), ('nbml', 3), ('Srg', 3), ('leveraged', 3), ('presentations', 3), ('christen', 3), ('quit', 3), ('xlsx', 3), (':\\r\\n>>>         ', 3), (',\\r\\n\\r\\n~', 3), ('iOjUsImhyZWYiOiJodHRwczovL', 3), (' --\\n\\n\\n', 3), ('RkMMJWWfF', 3), ('effect', 3), ('/>', 3), ('DiChiro', 3), ('BF', 3), ('Fashion', 3), ('lost', 3), ('optimizationStatus', 3), ('?\\r\\n>\\r\\n>\\r\\n> ', 3), ('Was', 3), ('overlap', 3), ('364387007', 3), ('decline', 3), ('mdash', 3), ('compatible', 3), ('vpB', 3), ('\\r\\n>>> \\r\\n>>>> ', 3), ('Bradford', 3), ('goals', 3), ('overflow', 3), ('mixpanel', 3), ('converted', 3), ('Startups', 3), ('Vzl', 3), ('numPotentialOneTimeFreeFills', 3), ('ingredients', 3), ('bcZ', 3), ('versionId', 3), (')\\r\\n>>>>>>>>>>>>>>> <', 3), ('oneTimePotentialRebate', 3), ('\\n>>> [', 3), (' ----------\\r\\n>>> ', 3), ('*\\r\\n>>> ', 3), ('med', 3), ('landscape', 3), ('.. \\n\\n', 3), ('>).  ', 3), ('Shoot', 3), (').\\r\\n>>\\r\\n>> ', 3), ('gNAEW', 3), ('scoring', 3), ('5621', 3), ('Alternatively', 3), ('Indeed', 3), ('inserts', 3), ('WoH', 3), ('rZW', 3), ('SSL', 3), ('cleaning', 3), ('thrown', 3), ('NkMGU', 3), ('leaders', 3), ('Fexpensive', 3), ('\"\\r\\n>> ', 3), ('\\r\\n> \\r\\n> -- \\r\\n> ', 3), ('71834', 3), ('mins', 3), ('\\n<', 3), ('. [', 3), (')   \\r\\n\\r\\n', 3), ('. (', 3), ('definitely', 3), ('\\r\\n>> \\r\\n>> ', 3), ('Washington', 3), ('\\r\\n\\r\\n\\r\\n\\r\\n-- \\r\\n~', 3), ('suggested', 3), ('san', 3), ('.\\r\\n>>>>>>>> ', 3), ('Ce', 3), ('Cw', 3), ('ip', 3), ('\\n\\xc2\\xa0\\n\\xc2\\xa0', 3), (':\\r\\n>\\r\\n>>\\r\\n>>\\r\\n>> --\\r\\n>> ', 3), ('bloomberg', 3), ('akka', 3), ('IHsidG', 3), ('candidate', 3), ('PTO', 3), ('dense', 3), ('.\\r\\n>\\r\\n> [', 3), ('initial', 3), ('iOiAiMzIwY', 3), ('NjdhZjA', 3), ('>    \\r\\n\\r\\n', 3), ('string', 3), ('excellence', 3), ('Head', 3), ('adds', 3), ('shift', 3), ('.\\r\\n>>>>>> ', 3), ('everybody', 3), ('effort', 3), ('fly', 3), ('crazy', 3), ('marinsoftware', 3), (' <\\r\\n>>>>>>>>>>>>>> ', 3), ('provisioning', 3), ('policy', 3), ('rock', 3), ('] (', 3), ('jackson', 3), ('audited', 3), ('>\\r\\n>>\\r\\n>\\r\\n>\\r\\n>\\r\\n> --\\r\\n> ', 3), ('mkt_tok', 3), ('digitalmarketing', 3), ('3905', 3), ('Vcc', 3), ('topics', 3), ('DA', 3), ('\" <\\r\\n', 3), ('Di', 3), ('switching', 3), ('/>\\r\\n>>\\r\\n>\\r\\n\\r\\n\\r\\n-- \\r\\n', 3), ('proxies', 3), ('Across', 3), ('Large', 3), ('median', 3), ('relative', 3), ('Hopefully', 3), ('registering', 3), ('781', 3), ('according', 3), ('cancer', 3), ('DCjSTHDi', 3), ('Modeling', 3), ('Media', 3), ('investigating', 3), (':\\r\\n>>>>>>>>\\r\\n>>>>>>>> ', 3), ('moduleId', 3), ('solve', 3), ('extensive', 3), ('jake', 3), ('datahero', 3), ('\",\\r\\n>> \"', 3), ('();\\r\\n', 3), ('.\\r\\n>\\r\\n>\\r\\n>\\r\\n>\\r\\n> --\\r\\n> ', 3), ('Net', 3), ('.\\r\\n>>>\\r\\n>>>  ', 3), ('848', 3), ('>\\r\\n# ', 3), ('Heads', 3), ('inbox', 3), ('sophisticated', 3), ('1593', 3), (':*\\r\\n>>\\r\\n>> *', 3), ('484', 3), ('forget', 3), ('\\xe2\\x80\\x8b ', 3), ('hXjZnVGWOq', 3), ('straightforward', 3), ('dial', 3), ('search', 3), ('published', 3), ('FQuantcastMobileAdvertising', 3), ('purchases', 3), ('Chiro', 3), ('List', 3), ('vdGVib', 3), ('!\\r\\n>>>>>>>>\\r\\n>>>>>>>> ', 3), ('responsibility', 3), ('TSGJ', 3), ('compound', 3), ('/><', 3), ('#}\\r\\n>\\r\\n\\r\\n\\r\\n\\r\\n-- \\r\\n', 3), ('16430', 3), ('Xc', 3), ('. \\xe2\\x80\\x8b ', 3), ('built', 3), ('kb', 3), ('- [', 3), ('Anyway', 3), ('common', 3), ('Programming', 3), ('scribds', 3), ('throughout', 3), ('Processing', 3), ('collaborator', 3), ('Donnelley', 3), ('larger', 3), ('200047', 3), ('Nathan', 3), ('purpose', 3), ('LuoQsH', 3), ('Management', 3), ('agreement', 3), ('YxYNszaxsSzI', 3), ('connecting', 3), ('ERROR', 3), ('Pnb', 3), ('*\\r\\n> *', 3), ('May', 3), ('CALnbMkDeawgO', 3), ('.\\r\\n\\r\\n\\r\\n-- \\r\\n~', 3), ('compose', 3), ('granular', 3), (' +', 3), ('Hystrix', 3), ('/>\\r\\n\\r\\n', 3), (': \\r\\n> (', 3), (':\\r\\n>>>>\\r\\n>>>>\\r\\n>>>> ', 3), ('implement', 3), ('VVVWKgg', 3), ('\".\\r\\n', 3), ('train', 3), ('customerio', 3), ('package', 3), ('\\r\\n>>  ', 3), ('944', 3), ('945', 3), ('>\\r\\n>>>>>>>>>>>>>>>   /  ', 3), ('OigRBxtQ', 3), ('.\\xe2\\x80\\x8b  ', 3), ('apologize', 3), ('postpone', 3), ('Developer', 3), ('suffix', 3), ('4917', 3), ('dictate', 3), ('357703', 3), ('Requested', 3), ('mil', 3), ('320', 3), ('328', 3), ('fasterxml', 3), ('iOjcsImhyZWYiOiJodHRwczovL', 3), ('normally', 3), ('selection', 3), ('controls', 3), ('\"></', 3), ('forms_logo', 3), ('backchannel', 3), ('Arrived', 3), ('boundary', 3), ('Sending', 3), ('.\\r\\n>>>>>>>>>>>>>>\\r\\n>>>>>>>>>>>>>> ', 3), ('SMTP', 3), ('trialsoftware', 3), ('284', 3), ('aZ', 3), ('Scale', 3), ('>\\n\\t\\t\\t \\n\\t\\t\\t<', 3), ('>\\r\\n>>>>>>>>>>>>>   /  ', 3), ('QyhXaf', 3), ('\"\\r\\n>>>> ', 3), ('supportive', 3), ('\\r\\n>>>>> \"', 3), ('butsW', 3), (':\\r\\n\\r\\n     ', 3), (':\\r\\n\\r\\n- ', 3), ('rcW', 3), (') \\n\\n\\xc2\\xa0\\n\\xc2\\xa0\\n\\xc2\\xa0\\n\\xc2\\xa0\\n\\xc2\\xa0\\n\\n', 3), ('/>\\r\\n>>>>>>>>>>>\\r\\n>>>>>>>>>>\\r\\n>>>>>>>>>>\\r\\n>>>>>>>>>>\\r\\n>>>>>>>>>> --\\r\\n>>>>>>>>>> ', 3), ('buy', 3), ('566', 3), ('Mariners', 3), ('RxJava', 3), ('Insurance', 3), ('>\\r\\n>>>>>>>>>   /  ', 3), ('dichiro', 3), ('GB', 3), ('school', 3), ('Gm', 3), ('Fid', 3), ('estimates', 3), ('ZTUwNTc', 3), ('\\r\\n>>>>>>\\r\\n>>>>>> --\\r\\n>>>>>> ', 3), ('correlations', 3), ('outdated', 3), (')\\r\\n>    ', 3), ('mr', 3), ('experts', 3), ('discovery', 3), ('OND', 3), ('Ventures', 3), ('Jordan', 3), ('Essentially', 3), ('Greetings', 3), ('eyJldmVudCI', 3), ('\\r\\n>>          ', 3), ('concatenating', 3), ('edits', 3), ('hiring', 3), ('filling', 3), ('Derek', 3), ('hurts', 3), ('Postgres', 3), ('_GGDhxIrdSkjapXgabLyAbtk', 3), ('/\\r\\n>\\r\\n', 3), (' =\\r\\n    ', 3), ('pbm', 3), ('BTW', 3), ('corrections', 3), ('coding', 3), ('jufxsj', 3), ('ton', 3), ('illiterate', 3), ('Fus', 3), ('communicate', 3), ('OIT', 3), ('client', 3), ('gsmtp', 3), ('labels', 3), ('XwUyRW', 3), ('shaking', 3), ('countries', 3), ('FamilySavingsProjectionDTO', 3), ('3827', 3), ('roadmap', 3), ('Info', 3), ('variance', 3), ('\\r\\n>\\r\\n> --\\r\\n>  ', 3), (')   \\n\\n', 3), ('containers', 3), ('heartland', 3), ('MIME', 3), ('prior', 3), ('\\r\\n>    (', 3), ('807', 3), ('Room', 3), ('eXBlIjogInJlY', 3), ('uLmNvbSIsICJ', 3), ('\\r\\n>          ', 3), ('Blockers', 3), ('HS', 3), ('>\\r\\n> \\r\\n> \\r\\n> ', 3), ('536', 3), ('arbitrary', 3), ('limitation', 3), ('Reilly', 3), ('worksite', 3), ('RLjZR', 3), ('HQ', 3), ('Powered', 3), ('submitting', 3), ('nb', 3), ('].\\r\\n\\r\\n', 3), (',\\r\\n>\\r\\n> --\\r\\n> ~', 3), ('cool', 3), ('posts', 3), ('DEBUG', 3), ('NjkwMmQxNzc', 3), ('Visit', 3), ('reworking', 3), ('nn', 3), ('Toolkit', 3), ('Ordering', 3), ('counting', 3), ('fourth', 3), ('pZHNcIjpbXCI', 3), ('7310', 3), ('elNonU', 3), ('webinar', 3), ('dispatcher', 3), ('Sign', 3), ('strange', 3), ('RfaWQiOiAic', 3), ('PDF', 3), ('wide', 3), ('userstoinvite', 3), ('cards', 3), ('strengths', 3), ('!\\r\\n>>>>>>>>>\\r\\n>>>>>>>>> ', 3), ('multiply', 3), ('>\\r\\n   \\xe2\\x80\\x93 ', 3), ('senior', 3), ('written', 3), ('iOjYsImhyZWYiOiJodHRwczovL', 3), ('SHHJP', 3), ('dACqz', 3), ('.\\r\\n>\\r\\n> ---------- ', 3), ('apologies', 3), ('cities', 3), ('period', 3), ('65', 3), ('deposited', 3), ('!!!\\r\\n>>\\r\\n>> ', 3), ('minds', 3), ('reminded', 3), ('eeDA', 3), ('wjbqWkwi', 3), ('actions', 3), ('fridge', 3), ('jvPD_', 3), ('West', 3), ('International', 3), ('stops', 3), ('\\n>>>>> [', 3), ('2607', 3), ('QuantcastMobileAdvertising', 3), ('speculates', 3), ('gary', 3), ('speculated', 3), ('Startup', 3), ('connect', 3), ('calls', 3), ('migrated', 3), ('?\\r\\n>>>>>\\r\\n>>>>>\\r\\n>>>>>\\r\\n>>>>> ', 3), ('worse', 3), ('AHk', 3), ('ticket', 3), ('minor', 3), ('epics', 3), ('someone', 3), ('okay', 3), ('xlYXJuXFxcL', 3), ('scientist', 3), ('refresh', 3), ('Hospitals', 3), (' <\\r\\n>>>>>>> ', 3), ('compounding', 3), ('.\\r\\n>>>>>>>> \\r\\n>>>>>>>> ', 3), ('execute', 3), ('wweFiaGN_Y', 3), ('/>\\r\\n>>\\r\\n>> ', 3), ('\\r\\n>  ', 3), ('iOjIsImhyZWYiOiJodHRwczovL', 3), ('pipelines', 3), ('Wfg', 3), ('chair', 3), ('TUNRdVk', 3), ('.\\r\\n>>>\\r\\n>>>       ', 3), ('architects', 3), ('inflexible', 3), ('Unrecognized', 3), ('WXoUhZCSZW', 3), (':\\r\\n\\r\\n>\\r\\n>\\r\\n> --\\r\\n> ', 3), ('nafguNbwBzov', 3), ('YhHLbmCH', 3), ('flight', 3), ('Demos', 3), ('behavior', 3), ('>\\n                                <', 3), ('> & ', 3), ('Files', 3), ('tablet', 3), ('!!\\r\\n\\r\\n', 3), ('unlimited', 3), ('CTBLS', 3), ('Links', 3), ('MdhhXxeri', 3), ('innovation', 3), ('jumps', 3), ('confluence', 3), ('pipeline', 3), ('dialog', 3), ('vendors', 3), ('>\\r\\n++++++++++++++++++++++++++++++++++++++++++++++++++++++++++++++\\r\\n<', 3), (' \\n ', 3), ('adjustment', 3), ('EliYe', 3), ('annualizedActualMemberSavings', 3), ('graphicpolicy', 3), ('smaller', 3), ('State', 3), ('journal', 3), ('118463', 3), ('pushing', 3), ('LmNvbS', 3), (') *\\r\\n>\\r\\n> ', 3), ('oneTimeActualRebate', 3), ('sid', 3), ('/>\\r\\n>>>\\r\\n>>\\r\\n>>\\r\\n>>\\r\\n>> --\\r\\n>> ~', 3), ('permanent', 3), ('techcrunch', 3), ('Task', 3), ('Ka', 3), ('teenagers', 3), ('> | ', 3), ('>\\r\\n>\\r\\n>\\r\\n\\r\\n\\r\\n-- \\r\\n', 3), ('Blvd', 3), ('Reddit', 3), ('Neerumalla', 3), ('multipart', 3), ('037', 3), (',\\n\\n-- ', 3), ('.\\n\\xc2\\xa0\\xc2\\xa0', 3), ('packaging', 3), ('ignorable', 3), ('tangible', 3), ('Fellows', 3), ('rename', 3), ('aspmx', 3), ('kzyEr', 3), ('States', 3), ('capabilities', 3), ('unprecedented', 3), ('sick', 3), ('.\\r\\n>>\\r\\n>> *', 3), ('\\r\\n>>>>>>>>\\r\\n>>>>>>>\\r\\n>>>>>>>\\r\\n>>>>>>>\\r\\n>>>>>>> --\\r\\n>>>>>>> ', 3), ('paste', 3), ('ftqmlrIm', 3), ('spiral', 3), ('.   ', 3), ('> /\\r\\n> ', 3), ('Gold', 3), ('puRgf', 3), ('block', 3), ('Sessions', 3), ('Marin', 3), ('conclusion', 3), ('richardson', 3), ('35233', 2), ('35231', 2), ('015372', 2), ('dXRvcmlhbHMuaHRtbD', 2), ('.\\xc2\\xa0\\n\\n', 2), ('5981489041797849092', 2), ('TISC', 2), ('internally', 2), ('hr', 2), ('persisted', 2), ('/>\\r\\n>>>>>>>>>>>>>>\\r\\n>>>>>>>>>>>>>\\r\\n>>>>>>>>>>>>>\\r\\n>>>>>>>>>>>>>\\r\\n>>>>>>>>>>>>> --\\r\\n>>>>>>>>>>>>> ', 2), ('#\\r\\n>>>\\r\\n>>> ', 2), ('pubic', 2), ('001018304', 2), (',\\r\\n>>>>>>>>>>>>>>> ', 2), ('.\\r\\n> * ', 2), ('kids', 2), ('ovtp', 2), ('/\\r\\n>> ', 2), ('golden', 2), ('explained', 2), ('txt', 2), ('592059024245669', 2), ('dna', 2), ('dandiamond', 2), ('>\\r\\n>>>\\r\\n>>\\r\\n>>\\r\\n>>\\r\\n>> --\\r\\n>> ', 2), ('unfortunately', 2), ('?\\r\\n>>>>>> ', 2), (':\\r\\n>>\\r\\n>>>  ', 2), ('\\r\\n>\\r\\n>\\r\\n>\\r\\n>  ', 2), ('member_id', 2), ('GBRT', 2), ('5979693951139983361', 2), (' <\\r\\n>>>>>>>> ', 2), ('_F', 2), ('His', 2), ('\\r\\n>>>>>>>>> \"', 2), ('xa', 2), ('!\\r\\n\\r\\n-- \\r\\n', 2), ('Reminder', 2), ('realizing', 2), ('rm', 2), ('?\\r\\n>>>>>>>>>>>\\r\\n>>>>>>>>>>> ', 2), ('XCJdfSJ', 2), ('\".\\r\\n<', 2), ('Chat', 2), ('vBc', 2), ('hLz', 2), ('returns', 2), ('fuXBP', 2), ('showed', 2), ('Fulfillment', 2), ('/\\r\\n>>> ', 2), ('spectrum', 2), ('ybJdMqo', 2), ('responsible', 2), ('recommended', 2), ('Ask', 2), ('Fdrive', 2), ('visualizations', 2), ('professor', 2), ('97330', 2), ('UXd', 2), ('.\\r\\n>>>>    - ', 2), ('Capsule', 2), (' > \\x93', 2), ('atomic', 2), ('specialist', 2), ('evolving', 2), ('result', 2), (')... ', 2), ('July', 2), ('ira', 2), ('.  \\r\\n> \\r\\n> ', 2), ('precords', 2), ('\\r\\n>>>>>>>> * ', 2), ('argue', 2), ('miscommunication', 2), ('BCF', 2), ('GSDD', 2), ('Columns', 2), ('JpbGUtYXBwLXRyYWNraW', 2), (':\\r\\n>>>>>>>>>> ', 2), ('.\\n>>>\\n>>> ', 2), ('LOL', 2), (')\\r\\n>>>>> ', 2), ('Assessment', 2), ('Packaging', 2), ('credit', 2), ('>\\r\\n>>\\r\\n>> ------------------------------\\r\\n>>\\r\\n>\\r\\n>    ------------------------------\\r\\n> ', 2), ('READ', 2), ('...\\r\\n>>>>>>>\\r\\n>>>>>>> ', 2), ('\\r\\n>>\\r\\n>\\r\\n>\\r\\n\\r\\n\\r\\n-- \\r\\n~', 2), ('NOW', 2), ('quantitative', 2), ('Oz', 2), ('Gilenya', 2), ('Offer', 2), ('Or', 2), ('occurring', 2), ('.\\r\\n\\r\\n\\x95 ', 2), ('35917', 2), ('35915', 2), ('bY_pic', 2), ('cvcHVzaC', 2), ('dollars', 2), ('facility', 2), ('\\xc2\\xa0\\n>>\\n>>\\n>>> ', 2), ('son', 2), ('reducing', 2), (')\\r\\n>>>>>>>>>>>> <', 2), ('\\r\\n>>\\r\\n>>\\r\\n>>\\r\\n>\\r\\n>\\r\\n> --\\r\\n> ~', 2), ('ylCyTmWEYOV', 2), ('devices', 2), ('examples', 2), ('qid', 2), ('>)\\r\\n> *', 2), ('negotiations', 2), ('MDUzNS', 2), ('5984027464542756870', 2), ('newbie', 2), ('Zubarev', 2), ('811', 2), ('MTYwNDczNjgsInN', 2), ('\\r\\n>>       ', 2), ('Premium', 2), ('5265', 2), ('subway', 2), ('loads', 2), ('Kevin', 2), ('>\\r\\n         ', 2), ('thinkers', 2), ('Tablet', 2), ('\\r\\n>>         ', 2), ('Cruz', 2), ('dropdown', 2), ('enroll', 2), ('MC', 2), ('ydW', 2), ('tasks', 2), ('coinciding', 2), ('fake', 2), ('5975959303117369347', 2), ('ua', 2), ('>\\n\\t\\n\\n</', 2), ('.\\r\\n>\\r\\n>  *', 2), ('Hershey', 2), ('MjUyODYsInN', 2), ('monitoring', 2), (')\\r\\n>>>>>>>>> <', 2), ('pulled', 2), ('publish', 2), ('latency', 2), ('                ', 2), ('\\r\\n>>>\\r\\n>>\\r\\n>>\\r\\n>\\r\\n>\\r\\n> --\\r\\n> ', 2), ('avid', 2), ('nomenclature', 2), (',\\r\\n>\\r\\n>\\r\\n> ', 2), (',\\n>>\\n>> ', 2), ('>\\r\\n> \\r\\n> -- \\r\\n> ~', 2), ('receipt', 2), ('breakthrough', 2), ('Live', 2), ('790', 2), ('ZXJcIixcImlkXCI', 2), ('> \\n\\t\\t\\t\\n\\t\\t\\t</', 2), ('haRS', 2), ('wsvUobgy', 2), ('onc', 2), ('priorities', 2), ('connections', 2), ('iceberg', 2), ('favors', 2), ('Location', 2), ('__scoop_topic', 2), ('\\r\\n>>>>>> (', 2), (' <\\r\\n>>>>>>>>>>>> ', 2), ('\\r\\n>>>>>>>>>>>>>>>\\r\\n>>>>>>>>>>>>>>> --\\r\\n>>>>>>>>>>>>>>> ', 2), ('\\r\\n>>\\r\\n>>\\r\\n>\\r\\n>\\r\\n> --\\r\\n> ~', 2), ('knew', 2), ('Chew', 2), ('JpYmUifQ', 2), ('>\\n                    \\n                    <', 2), ('Blue', 2), ('cvdHVuZS', 2), ('1691030274', 2), ('xml', 2), ('29519376356', 2), ('*\\r\\n>\\r\\n>\\r\\n>    ', 2), ('worried', 2), ('.\\r\\n>>>>>>>>>\\r\\n>>>>>>>>>\\r\\n>>>>>>>>> ', 2), ('Patricio', 2), ('Specifically', 2), ('\\r\\n\\r\\n\\xc2\\xa9 ', 2), ('839', 2), ('?\\r\\n>>\\r\\n>> -', 2), ('Securities', 2), ('flipped', 2), ('.*\\r\\n>\\r\\n>  *', 2), ('comb', 2), ('west', 2), ('vacation', 2), ('theguardian', 2), ('846676', 2), ('utilizing', 2), ('EZtAjc', 2), ('.\\r\\n\\xc2\\xa0\\xc2\\xa0', 2), ('pZHNcIjpbXCJkMjNlMDhjNDI', 2), (';\" >', 2), ('UTF', 2), (' \\xc2\\xbb\\r\\n>>> <', 2), ('Visual', 2), ('gdp', 2), ('summer', 2), ('212', 2), ('\" <\\r\\n>>>> ', 2), ('*\\r\\n>> \\xe2\\x80\\xa2\\r\\n>> ', 2), ('Markets', 2), ('preventing', 2), ('NhdGVnb', 2), ('BFFDB', 2), ('hbmFnZS', 2), ('\\r\\n>\\r\\n>\\r\\n>\\r\\n\\r\\n\\r\\n-- \\r\\n', 2), ('replays', 2), ('Records_brand', 2), ('94133', 2), ('dimensions', 2), ('tube', 2), ('statements', 2), ('911', 2), ('cranking', 2), (' =\\r\\n>> ', 2), ('dyslexic', 2), ('zdGFydC', 2), ('xWs', 2), ('NA', 2), ('57987261', 2), ('Small', 2), ('\\r\\n         <', 2), ('ap', 2), ('au', 2), ('extract', 2), ('>\\n\\t\\t<', 2), ('Alex', 2), ('Moderator', 2), ('.\\r\\n>>>\\r\\n>>>\\r\\n>>>\\r\\n>>> ', 2), (', &#', 2), ('Fix', 2), ('Obamacare', 2), ('tP', 2), ('tH', 2), (')\\r\\n>\\r\\n>\\r\\n>\\r\\n>\\r\\n> -- \\r\\n> ', 2), ('BlYyJ', 2), ('GlbfXM', 2), ('pby', 2), ('joined', 2), ('antibiotic', 2), (')\\r\\n>>>>>>>>>>> <', 2), ('>\\r\\n>\\r\\n>\\r\\n>\\r\\n> *', 2), ('Realized', 2), ('Hire', 2), ('Someone', 2), ('Conf', 2), ('followed', 2), ('maxtestdataset_DEV', 2), ('Visualizing', 2), ('sensors', 2), ('attendance', 2), ('archives', 2), ('NzU', 2), ('611777746205787711', 2), ('NzL', 2), ('prompt', 2), ('station', 2), ('sr', 2), ('GOLETA', 2), ('!***\\r\\n\\r\\n', 2), ('functioning', 2), ('earnings', 2), ('Highmaps', 2), ('refuse', 2), ('MTYwOTAwOTIsInN', 2), ('>, \"\\r\\n>>>> ', 2), ('rapidly', 2), ('bypass', 2), ('nifty', 2), ('travelling', 2), ('>, \"\\r\\n', 2), ('Begin', 2), ('*), ', 2), ('Resistance', 2), (' -->\\n\\n    <', 2), (').\\n\\n', 2), ('advertisers', 2), ('!\\r\\n\\r\\n\\xc2\\xa0\\r\\n\\xc2\\xa0\\r\\n\\xc2\\xa0\\r\\n\\xc2\\xa0\\r\\n\\xc2\\xa0\\r\\n\\r\\n', 2), ('bccf', 2), ('20150103', 2), ('Bicycle', 2), ('Solve', 2), ('!\\r\\n- ', 2), (':\\r\\n* ', 2), (', <', 2), (':\\r\\n      ', 2), (') .\\n\\n', 2), ('>.\\r\\n\\r\\n', 2), ('FrY', 2), ('Bugs', 2), ('appreciation', 2), ('consult', 2), ('1421177446253', 2), ('Debrief', 2), ('-\\r\\n>>>> <', 2), ('recognizing', 2), ('>\\r\\n>>>>>>>>>>>   /  ', 2), ('cover', 2), ('777777', 2), ('Fblogs', 2), ('?\\r\\n\\r\\n-', 2), ('writer', 2), ('preparing', 2), ('\\r\\n>>\\r\\n>>\\r\\n>>\\r\\n>> --\\r\\n>> ', 2), ('FAdobeMobilePredictions', 2), ('Comcast', 2), ('iteration', 2), ('....\\r\\n\\r\\n', 2), ('.\\r\\n\\r\\n\\xc2\\xa0', 2), ('Giatrakis', 2), ('iLCAiY', 2), ('hyperlink', 2), ('xldHRlciZ', 2), ('Care', 2), ('kerberos', 2), ('SFrames', 2), ('awake', 2), ('presses', 2), ('handling', 2), ('expanded', 2), (',\\r\\n   ', 2), ('evaluating', 2), ('\\r\\n\\r\\n<', 2), ('averaging', 2), ('\\r\\n\\r\\n(', 2), ('\\r\\n\\r\\n\"', 2), ('vox', 2), (',\\r\\n\\xc2\\xa0', 2), ('2033', 2), ('*\\r\\n\\r\\n\\r\\n   ', 2), ('resulting', 2), ('Entrepreneurs', 2), ('expediting', 2), ('stack', 2), ('thats', 2), ('\" <\\r\\n>>>>>>>>>>>> ', 2), (':\\r\\n>>>>>>\\r\\n>>>>>>\\r\\n>>>>>> ', 2), ('94402', 2), (' &\\r\\n>>>>>>> ', 2), ('195916', 2), ('emergency', 2), ('OH', 2), ('Xeloda', 2), ('iPython', 2), ('\\r\\n  \\t\\r\\n', 2), ('UWUEvdW', 2), ('Friend', 2), ('object', 2), ('Look', 2), ('gallardo', 2), ('bK', 2), ('bW', 2), ('.\\r\\n\\r\\n> ', 2), ('Corvallis', 2), ('VnbWVudD', 2), ('.\\r\\n>     ', 2), ('Resolution', 2), ('verification', 2), ('-\\r\\n>>>>>>> <', 2), (': *\\r\\n\\r\\n   - *', 2), ('fixing', 2), ('Representations', 2), ('Querying', 2), ('ewchen', 2), (' +\\r\\n', 2), ('gladly', 2), ('Progress', 2), ('Ocko', 2), ('Glass', 2), ('>.\\r\\n> ', 2), ('Better', 2), ('Fixed', 2), ('\\r\\n        [', 2), ('Scully', 2), ('\" <\\r\\n>> ', 2), ('licenses', 2), ('odd', 2), ('\\r\\n>>>>>\\r\\n>>>>>   ', 2), ('1400', 2), ('zayjCE', 2), ('led', 2), (': \"[', 2), ('panelists', 2), ('licence', 2), ('engage', 2), ('weekends', 2), ('\\r\\n>>>  \\r\\n>>> \\r\\n>>> <', 2), ('Mofetil', 2), ('touched', 2), ('comparison', 2), ('ol', 2), ('pieces', 2), ('\\r\\n>>>>>>\\r\\n>>>>>\\r\\n>>>>>\\r\\n>>>>>\\r\\n>>>>> --\\r\\n>>>>> ~', 2), ('modificationDate', 2), ('Christmas', 2), ('uZXdzbGV', 2), ('native', 2), ('9111', 2), ('wallpaper', 2), ('redundant', 2), ('mart', 2), ('produced', 2), ('jitqnkme', 2), ('2018', 2), ('\\r\\n\\r\\n-- \\r\\n*', 2), ('Sender', 2), ('xQTUxJnV', 2), ('kdWN', 2), ('Demail', 2), (')\\r\\n>>>>>>>>>> <', 2), ('architecture', 2), ('Reveal', 2), ('5981040402617155588', 2), ('forwarded', 2), ('\\r\\n>\\r\\n>\\r\\n\\r\\n\\r\\n-- \\r\\n', 2), ('>\\r\\n>\\r\\n>\\r\\n>  ', 2), ('Review', 2), ('Reactive', 2), ('spyder', 2), ('Birthday', 2), ('stomach', 2), (')\\r\\n>>>    ', 2), ('Antibiotic', 2), ('Rows', 2), ('lines', 2), ('4001', 2), ('BIC', 2), ('3974', 2), ('Reserve', 2), ('face', 2), ('OJu', 2), ('greenhouse', 2), ('meant', 2), ('insight', 2), ('bMRp', 2), (\"='\", 2), ('\\r\\n     ', 2), ('Registration', 2), ('ffcf', 2), ('rTOXBdfhgJK', 2), ('PJ', 2), ('578', 2), ('cE', 2), ('cX', 2), ('describe', 2), (':\\n>>\\n>> ', 2), ('regenerated', 2), ('iOiAicmUtZW', 2), ('CHRO', 2), ('vv', 2), ('iyAdRFMmxIdQZrbh', 2), ('Sort', 2), ('Flinkedin', 2), ('wcmVmZXJyZXI', 2), ('android', 2), (')\\xc2\\xa0', 2), ('audit', 2), ('command', 2), ('alec', 2), ('HIPAA', 2), ('!  \\r\\n<', 2), ('moments', 2), (' \"@\" ', 2), ('predicts', 2), ('Segmentation', 2), ('Reason', 2), ('Hardiman', 2), ('Engineers', 2), ('accelerating', 2), ('Partners', 2), ('5978501397086298116', 2), ('Misha', 2), ('250', 2), ('YmZlNmQ', 2), ('ba', 2), ('selecting', 2), ('trinet', 2), ('ingest', 2), ('tIn', 2), (':*\\r\\n>> . ', 2), ('replicate', 2), ('\\r\\n>>>>>>         ', 2), ('Started', 2), ('Healthcare', 2), ('books', 2), ('YxU', 2), ('nonetheless', 2), ('francisco', 2), ('\\r\\n>>>>>\\r\\n>>>>\\r\\n>>>>\\r\\n>>>>\\r\\n>>>> --\\r\\n>>>> ~', 2), ('4023', 2), ('saved', 2), ('Ch', 2), ('taWdyYXRpb', 2), ('eliminates', 2), ('pragmatic', 2), ('specs', 2), ('machines', 2), ('Available', 2), ('Generating', 2), ('581', 2), ('jcaa', 2), ('>; \"', 2), ('40608', 2), ('pooling', 2), ('>\\n                \\n\\n    <!-- ', 2), (',\\n> ', 2), ('FreeFills', 2), ('().', 2), ('\\r\\n---------- ', 2), ('>\\r\\n>>>>>>>>>>   /  ', 2), (';\" />\\n    </', 2), ('nbQwck', 2), ('striving', 2), ('1993', 2), ('Headed', 2), ('transparency', 2), ('indicated', 2), ('>\\r\\n>\\r\\n> [', 2), ('law', 2), (' :( ', 2), ('...\\r\\n\\r\\n\\r\\n>    ', 2), (', \\r\\n> \\r\\n> ', 2), ('3830', 2), (')\\r\\n>>>> ', 2), ('476365', 2), ('entitled', 2), ('hooked', 2), ('medicine', 2), (':*\\r\\n>\\r\\n> ', 2), ('\\r\\n> \\r\\n> ---------- ', 2), ('++', 2), ('National', 2), ('\"; ', 2), ('benchmarking', 2), ('electronic', 2), ('>&', 2), (':\\r\\n\\r\\n\\r\\n* ', 2), ('EBE', 2), ('dGTENjWTFiUlVXR', 2), ('Set', 2), ('fQ', 2), ('rewrite', 2), ('convenient', 2), ('pRV', 2), ('sporadically', 2), ('QE', 2), ('.\\n\\n- ', 2), ('keywords', 2), ('MEEzNy', 2), ('Lantus', 2), ('nLz', 2), ('\\r\\n>>>>         ', 2), ('wj', 2), ('italic', 2), ('packages', 2), ('wz', 2), ('Bring', 2), ('tons', 2), ('\\xe2\\x80\\xa6\\r\\n>\\r\\n>  ', 2), ('raspy', 2), ('Secret', 2), ('voice', 2), ('opt', 2), ('YWJlYjA', 2), ('CVS', 2), ('--\\r\\n\\r\\n', 2), ('Convention', 2), ('>\\n        \\n    <!-- ', 2), ('.\\xe2\\x80\\x8b\\r\\n\\r\\n', 2), ('quoted', 2), ('unifies', 2), ('),\\xc2\\xa0', 2), ('?\\r\\n>>> ', 2), ('mocked', 2), ('lci', 2), ('Break', 2), ('.\\r\\n> \\r\\n> \\r\\n> ', 2), ('LXVwZGF', 2), ('security', 2), ('39129', 2), ('humor', 2), (':\\n>>>\\n>>> ', 2), ('ZGQ', 2), ('Place', 2), ('Grad', 2), ('Creating', 2), ('Image', 2), ('apiKey', 2), ('fight', 2), ('accordingly', 2), ('becoming', 2), ('Lusyqj', 2), ('oaVj', 2), ('Automating', 2), ('computing', 2), ('archive', 2), (':*\\r\\n> . ', 2), ('holding', 2), ('joni', 2), ('bUl', 2), ('EOW', 2), ('35919', 2), ('obamacare', 2), ('Mateo', 2), ('#\\r\\n>>> \\r\\n>>> ', 2), (',\\r\\n ', 2), ('assistance', 2), ('sharer', 2), ('433', 2), ('430', 2), ('oBjVpu', 2), ('hGUUIwIiwidiI', 2), ('YHGfSBr', 2), ('RapidMiner', 2), ('pushed', 2), ('Eatery', 2), ('Adoption', 2), ('>\\r\\n>>>>>>>\\r\\n>>>>>>\\r\\n>>>>>>\\r\\n>>>>>>\\r\\n>>>>>> --\\r\\n>>>>>> ~', 2), ('.\\xc2\\xa0', 2), ('insider', 2), ('utilize', 2), ('cold', 2), ('Landing', 2), ('>\\r\\n&', 2), ('window', 2), ('\\r\\n==> ', 2), (':\\r\\n>>>\\r\\n>>>    ', 2), ('fastcompany', 2), ('Integrations', 2), (': \\r\\n>> \\r\\n>> \\r\\n>> \\r\\n>> -- \\r\\n>> ', 2), ('xdWljay', 2), ('monitors', 2), ('marine', 2), ('card', 2), (' (*', 2), ('.\\xe2\\x80\\x9d ', 2), ('seasonality', 2), ('),\\r\\n', 2), ('drove', 2), ('LXBlb', 2), ('graduating', 2), ('Call', 2), ('email_address', 2), ('?\\r\\n>>>>>>>>>>\\r\\n>>>>>>>>>> ', 2), ('Pl', 2), ('wcm', 2), ('LUVFRUEtQTAxOC', 2), (' <\\r\\n>>>>>>>>>>>>>>> ', 2), ('fI', 2), ('Explorer', 2), ('tooth', 2), ('formatted', 2), ('...).\\r\\n> \\r\\n> ', 2), ('mashable', 2), ('ground', 2), ('ratio', 2), ('USQeCbLWl', 2), ('Reviews', 2), ('Mycophenolate', 2), ('Alley', 2), ('.)\\r\\n>>> ', 2), ('11936', 2), ('Hansen', 2), ('150', 2), ('.\\r\\n> \\r\\n>> ', 2), ('Leader', 2), ('128496140944', 2), ('VFlmMzBlTk', 2), ('\\r\\n>>>>>>>>>>\\r\\n>>>>>>>>>> --\\r\\n>>>>>>>>>> ', 2), ('language', 2), ('coworkers', 2), ('lgvf', 2), ('finish', 2), ('ctdG', 2), ('.\\n>>\\n>> ', 2), ('XqjvpVQcNnNrnHU', 2), ('>\\r\\n>>>>>>>>>>>>>>>\\r\\n>>>>>>>>>>>>>>\\r\\n>>>>>>>>>>>>>>\\r\\n>>>>>>>>>>>>>>\\r\\n>>>>>>>>>>>>>> --\\r\\n>>>>>>>>>>>>>> ', 2), ('RQUFuTUFGaFBWR', 2), ('5984348061931958275', 2), ('CTO', 2), ('> \\n\\t\\t\\t</', 2), ('Show', 2), ('ie', 2), ('sharing_eid', 2), ('1855', 2), ('),\\r\\n> ', 2), ('credits', 2), ('hectic', 2), ('sr_', 2), ('?\\r\\n         ', 2), ('.*\\r\\n>\\r\\n> *', 2), ('\"  ', 2), ('lol', 2), ('Crisis', 2), ('moved', 2), ('daily', 2), ('ACsprvvexS', 2), ('evenings', 2), ('.\\r\\n>\\r\\n\\r\\n\\r\\n\\r\\n-- \\r\\n', 2), (' :)\\r\\n> ', 2), ('RMmkYRCqwtu', 2), ('JhcGhsYWItY', 2), (' ;)\\r\\n\\r\\n', 2), ('attribution', 2), (' :)\\r\\n>\\r\\n>  ', 2), (':<', 2), ('\\xe2\\x80\\x99 ', 2), ('Totally', 2), ('vanpool', 2), ('\\r\\n>\\r\\n>\\r\\n>\\r\\n> ', 2), ('\\r\\n>>>>>    $', 2), ('respect', 2), ('.\\r\\n>>\\r\\n>>  *', 2), ('outpatient', 2), ('excuse', 2), ('814', 2), (').\\r\\n>> ', 2), ('persists', 2), ('Yvonn', 2), (':*\\r\\n\\r\\n   ', 2), ('stayed', 2), ('consolidation', 2), ('NzIsInN', 2), ('File', 2), ('9081', 2), ('committed', 2), ('fff', 2), ('ffc', 2), ('vP', 2), ('/\\xe2\\x80\\x8e', 2), ('vZ', 2), (').\\r\\n\\r\\n*', 2), ('referred', 2), ('29514667641', 2), ('bufferf', 2), ('flattening', 2), ('None', 2), ('Plaza', 2), ('lbnQtcGxhdGZvcm', 2), ('rZWQtb', 2), ('Models', 2), ('/>\\r\\n>\\r\\n\\r\\n\\r\\n-- \\r\\n*', 2), ('pinned', 2), ('/\\r\\n   ', 2), ('discounted', 2), ('Label', 2), ('ludGVncmF', 2), ('.\\r\\n>>>>>>>>>>>>>>>>>\\r\\n>>>>>>>>>>>>>>>>> ', 2), ('outbound', 2), ('Users', 2), ('jchew', 2), ('quote', 2), (':\\r\\n>>>>>>>>>>>>>>>\\r\\n>>>>>>>>>>>>>>>> ', 2), ('sponsored', 2), ('Aviva', 2), ('.&#', 2), ('JlYXRlXCIsXCJpZFwiOlwiMDQxODA', 2), ('velocity', 2), ('tubes', 2), ('Notifications', 2), ('Guys', 2), ('Francis', 2), (')\\r\\n>>>>    - ', 2), ('crams', 2), ('redefine', 2), ('Essentials', 2), ('culture', 2), ('Park', 2), ('VyYjF', 2), ('experimental', 2), (':\\r\\n>\\r\\n>>\\r\\n>> ---------- ', 2), ('Online', 2), ('                 ', 2), ('Most', 2), ('collected', 2), ('Quantcast', 2), ('empty', 2), ('Women', 2), ('Especially', 2), ('CalTrain', 2), ('impacted', 2), ('animated', 2), ('Highsoft', 2), ('overlooked', 2), ('grand', 2), ('poetsorg', 2), ('>\\r\\n\\r\\n\"\"            \\r\\n\"\"\\r\\n\\r\\n', 2), ('.\\n> \\n> ', 2), ('>\\r\\n>>>>>>>>>>>>>>   /  ', 2), ('eyJzIjoiWjVUOW', 2), ('Dunne', 2), ('\\r\\n\\r\\n\\r\\n~', 2), ('\" <\\r\\n>>> ', 2), (',\\xe2\\x80\\x9d ', 2), ('.. ', 2), ('Enrollee', 2), ('translucent', 2), ('\\r\\n\\r\\n\\r\\n ', 2), ('terminology', 2), ('.)\\r\\n>>>    - ', 2), ('delivered', 2), (',\\r\\n   - ', 2), ('#\\r\\n>>\\r\\n>> ', 2), ('LINKED', 2), ('millbrae', 2), ('Person', 2), ('mkt_unsubscribe', 2), ('mMvKx', 2), ('zdWJzY', 2), (' (\\r\\n>\\r\\n>\\r\\n> *', 2), ('244986048162', 2), ('Newbie', 2), ('Innovator', 2), ('\\r\\n>>>>>>>>>         ', 2), ('uqKfguytKLaj', 2), ('headquarters', 2), ('99809', 2), ('TK', 2), ('pandas', 2), ('happens', 2), ('MDZiZTczYWUwMWQxM', 2), ('AB', 2), ('McKesson', 2), ('Stanford', 2), (',\\r\\n>>>>>>>>>>>>\\r\\n>>>>>>>>>>>> ', 2), ('Implement', 2), ('QtdXBkYXRlIn', 2), ('Integrated', 2), ('AdobeMobilePredictions', 2), ('Nob', 2), ('quora', 2), ('wave', 2), ('uQsUaCzhZh', 2), ('positions', 2), ('jump', 2), (']\\r\\n>>>>>> <', 2), ('zY', 2), ('Back', 2), ('remains', 2), ('pvYnM_dXRtX', 2), ('xNDIwNTA', 2), ('ldHdvcmsiOiAib', 2), ('ChangeHealth', 2), ('links', 2), ('Emails', 2), ('LJbDU', 2), ('>\\n\\t                    <', 2), ('stonesoup', 2), ('contributions', 2), ('front', 2), ('mode', 2), ('.\\r\\n> \\r\\n> <', 2), (': \\r\\n<', 2), ('HuzYyNUNT', 2), (':\\r\\n>>>> \\r\\n>>>> ', 2), ('Bilenko', 2), ('memes', 2), ('>\\n    \\n    <!-- ', 2), ('confident', 2), ('MUQ', 2), ('automating', 2), (']\\r\\n>>>>> <', 2), ('Bing', 2), ('exactly', 2), ('lists', 2), ('NjAxNjcsInN', 2), ('bus', 2), ('563', 2), ('vXe', 2), ('):\\r\\n\\r\\n', 2), ('plugging', 2), ('MjAsInN', 2), ('SPLYT', 2), ('.\\r\\n>>>>>>>>>> \\r\\n>>>>>>>>>> ', 2), ('Math', 2), ('Dec', 2), ('. \\r\\n\\r\\n\\r\\n\\r\\n> ', 2), ('\\r\\n>         ', 2), ('grab', 2), ('Cases', 2), ('\\r\\n>          <', 2), ('importance', 2), ('zLXNlZ', 2), ('efficiency', 2), ('?\\r\\n>>>>>\\r\\n>>>>> -', 2), ('.  \\r\\n<', 2), ('Incident', 2), (',\\r\\n\\r\\n ', 2), ('1899', 2), ('.  \\r\\n>>> \\r\\n>>> ', 2), ('retrospective', 2), ('Fdigitaldoughnut', 2), ('harder', 2), ('swinging', 2), ('Bangkok', 2), (':*\\r\\n>\\r\\n>\\r\\n> *', 2), ('inc', 2), ('>*\\r\\n>>     ', 2), ('BB', 2), ('increasingly', 2), ('sources', 2), ('Sunday', 2), ('Understand', 2), ('analyticsmd', 2), ('definitive', 2), ('Nelson', 2), ('immediately', 2), ('marketers', 2), ('Penelope', 2), ('982', 2), ('Waive', 2), ('>\\r\\n>>>>>>\\r\\n>>>>>\\r\\n>>>>>\\r\\n>>>>>\\r\\n>>>>> --\\r\\n>>>>> ~', 2), ('eyJzIjoiRDkxTXQxeFk', 2), ('weeknights', 2), ('Humira', 2), ('\"?\\r\\n\\r\\n', 2), ('Seminars', 2), ('\\n\\n\\xc2\\xa0\\n\\xc2\\xa0\\n\\xc2\\xa0\\n\\xc2\\xa0\\n\\xc2\\xa0\\n\\n', 2), ('additions', 2), ('modernhealthcare', 2), ('/>\\r\\n>>>\\r\\n>>\\r\\n>>\\r\\n>\\r\\n>\\r\\n> --\\r\\n> ', 2), (' \\xc2\\xa9  ', 2), ('hd', 2), ('MTYxMzUsInN', 2), ('hosting', 2), ('723', 2), ('Nescaf', 2), ('education', 2), ('tailoring', 2), ('bcl', 2), ('57670750', 2), ('donotlick', 2), ('Chambers', 2), ('LATER', 2), ('dynamic', 2), (') .\\xc2\\xa0', 2), ('calculate', 2), ('.*\\r\\n>>\\r\\n>>  *', 2), ('\\r\\n>>> *', 2), ('\\r\\n>>> \"', 2), ('\\r\\n>\\r\\n>\\r\\n>\\r\\n>\\r\\n> --\\r\\n> ', 2), ('convenience', 2), ('Fhealth', 2), (',\\r\\n>>>>>>>>> \\r\\n>>>>>>>>> ', 2), ('integrity', 2), ('\\r\\n>>\\r\\n>>\\r\\n>>\\r\\n>\\r\\n>\\r\\n> --\\r\\n> ', 2), ('ever', 2), ('metadata', 2), ('relates', 2), ('drew', 2), ('met', 2), ('SUCCESS', 2), ('\\r\\n>\\r\\n> > ', 2), ('kwik', 2), (' -\\r\\n', 2), ('taped', 2), ('>\\n    \\n\\n</', 2), ('...)\\r\\n> \\r\\n> ', 2), ('>\\r\\n>          ', 2), ('warm', 2), ('): ', 2), ('DMUtlVzAyS', 2), (')?\\r\\n>>>  ', 2), ('shelving', 2), ('Jack', 2), ('_brand', 2), ('attempt', 2), (' ...', 2), (') *\\r\\n>>\\r\\n>> ', 2), ('uIHJlbWluZGVyIGVtYWlsIiwgIm', 2), ('\\r\\n>>>>>>>\\r\\n>>>>>>> --\\r\\n>>>>>>> ', 2), ('.\\r\\n>>>>>>>>>>>>>>>>\\r\\n>>>>>>>>>>>>>>>> ', 2), ('MDRmZTI', 2), ('>         \\r\\n\"\"\\r\\n', 2), ('Path', 2), ('theiegroup', 2), ('cXFwvZm', 2), ('Agreed', 2), ('Curious', 2), ('\"\\r\\n', 2), (':\\r\\n\\r\\n> + ', 2), ('WoW', 2), ('Pier', 2), ('NTgsInN', 2), ('Must', 2), ('resume', 2), ('\\r\\n>>>>>>>>>>>>>>>> <', 2), ('stuartreid', 2), ('arrived', 2), ('LWpvaW', 2), ('featured', 2), ('Folks', 2), (';.\\r\\n<', 2), ('lbWFpbHMvTWpRMk', 2), ('?  \\r\\n<', 2), ('older', 2), ('enables', 2), ('Floor', 2), ('modern', 2), ('\\r\\n\\r\\n      [', 2), ('LaIyxF', 2), ('Marketers', 2), ('29477021294', 2), ('Watsi', 2), ('2960', 2), ('scrubbing', 2), ('\\r\\n>>>>>>>>>>>> > ', 2), ('coast', 2), ('cracks', 2), ('Over', 2), ('scraping', 2), ('35921', 2), ('attest', 2), ('Boost', 2), ('Central', 2), ('Queue', 2), ('harvard', 2), ('jVRQbsrv', 2), ('\\r\\n>>> > ', 2), ('.\\r\\n>>>> . ', 2), ('Given', 2), ('path', 2), (')\\r\\n>>    ', 2), ('7215707564007', 2), ('DD', 2), ('.\\r\\n\\r\\n(', 2), ('NTcxMzUsInN', 2), ('Persian', 2), ('neat', 2), ('vendor', 2), ('?\\r\\n>> ', 2), ('meetup', 2), ('.*\\r\\n\\r\\n*', 2), ('801', 2), ('upgrading', 2), ('integer', 2), ('facts', 2), ('\\r\\n>    <= $', 2), ('ops', 2), ('FOCBbm', 2), (').\\r\\n\\r\\n\\r\\n', 2), ('Michele', 2), ('Been', 2), ('intern', 2), ('CreateTM', 2), ('experimentation', 2), ('subscriptions', 2), ('eee', 2), ('whats', 2), ('rsRk', 2), ('Shawn', 2), ('Persona', 2), ('EAT', 2), ('089', 2), ('diet', 2), ('FTheDigitalLeadersBanquet', 2), ('506040', 2), ('.\\r\\n>>>>> . ', 2), ('isGeneric', 2), ('finally', 2), ('shoot', 2), ('1523', 2), ('drag', 2), ('signin', 2), ('diy', 2), ('measurable', 2), ('Test', 2), ('Explore', 2), ('Changed', 2), ('tangent', 2), ('Changes', 2), ('Technology', 2), ('Clipper', 2), ('licensing', 2), (',, ', 2), ('_pGbsViQK', 2), ('Latest', 2), ('flu', 2), ('dosage', 2), ('confused', 2), ('wherecoolthingshappen', 2), ('148', 2), (\"%'>\\n\\t<\", 2), ('man', 2), ('deposit', 2), ('?\\r\\n> <', 2), ('main', 2), ('!\\r\\n>\\r\\n>\\r\\n> ', 2), ('Right', 2), ('She', 2), ('8877', 2), ('Minimum', 2), ('\\r\\n>>>>>>>>>>>>>>>>\\r\\n>>>>>>>>>>>>>>>> [', 2), ('fever', 2), ('Theresa', 2), ('Theater', 2), ('ora', 2), ('OLbIH', 2), ('4187', 2), ('ISO', 2), ('5665', 2), ('OnTrack', 2), ('.\\r\\n\\r\\n\\r\\n(', 2), ('undoubtedly', 2), ('73612', 2), ('Court', 2), ('DT', 2), ('seanmacrae', 2), ('JlNzg', 2), ('USQeCbczBtdHpXRU', 2), ('creatives', 2), ('syHh', 2), ('Franklin', 2), ('mZY', 2), ('certification', 2), ('Barry', 2), ('behind', 2), ('reps', 2), ('nearly', 2), ('geo', 2), ('      $', 2), ('training_tabs', 2), ('\\r\\n* ', 2), ('RpZmljYXRpb', 2), ('slimmer', 2), ('wonder', 2), ('affordable', 2), ('FOR', 2), ('jo', 2), ('785', 2), ('wsRovv', 2), ('holders', 2), ('wiOltcImI', 2), ('attaching', 2), ('workshop', 2), ('142700', 2), ('profiles', 2), ('ongoing', 2), ('.\\r\\n>>>>>\\r\\n>>>>>  ', 2), ('.\\r\\n>>>>>\\r\\n>>>>> #', 2), ('dedicate', 2), ('JpZXNcXFwvZ', 2), ('.\\n\\n\\xc2\\xa0\\n\\n', 2), ('/\\r\\n>>>\\r\\n>>> ', 2), ('bottle', 2), (' |\\r\\n', 2), ('income', 2), ('MzgzMjRkZWJkXCJdfSJ', 2), ('SmpkTGJfWjQ', 2), ('jzZS', 2), (':\\r\\n>>>>>>>>\\r\\n>>>>>>>>    - ', 2), ('seconds', 2), ('symB', 2), ('844', 2), (')*\\r\\n>>\\r\\n>> ', 2), ('referenced', 2), ('\\r\\n\\r\\n\\r\\n\\r\\n> ', 2), ('references', 2), ('Narkhede', 2), ('1730', 2), ('.\\r\\n>>> \\r\\n>>> \\r\\n>>> \\r\\n>>> \\r\\n>>> -- \\r\\n>>> ~', 2), ('jcmVnaXN', 2), ('gory', 2), ('Castle', 2), ('incubator', 2), ('embed', 2), (' *\\r\\n\\r\\n [', 2), ('Confluent', 2), ('% (', 2), ('?\\r\\n>>>>> ', 2), ('/>\\r\\n>>>>>>>>>>>>>\\r\\n>>>>>>>>>>>>\\r\\n>>>>>>>>>>>\\r\\n>>>>>>>>>>>\\r\\n>>>>>>>>>>> --\\r\\n>>>>>>>>>>> ', 2), ('Reasons', 2), (' (\\r\\n\\r\\n\\r\\n*', 2), ('founder', 2), ('.... ', 2), ('EYzZGcjFuQW', 2), (')  \\r\\n<', 2), ('Canned', 2), ('Needs', 2), ('revolutionise', 2), ('cvZnVsbHN', 2), (' ;)\\r\\n>\\r\\n> ', 2), ('bmV', 2), ('Contact', 2), ('operating', 2), ('907', 2), ('airport', 2), ('Nike', 2), ('Core', 2), ('>\\r\\n\\r\\n\\r\\n ', 2), ('Amounts', 2), ('Coming', 2), ('achieving', 2), ('LTY', 2), ('particular', 2), ('107073600778771', 2), ('\\r\\n>> \\r\\n>> \\r\\n>>> ', 2), ('hamburger', 2), ('awkward', 2), ('Profile', 2), ('Dog', 2), ('Continue', 2), ('crowded', 2), ('.\\r\\n>>>>>> \\r\\n>>>>>>> ', 2), ('. :)\\r\\n\\r\\n', 2), (')\\r\\n>>>>>    - ', 2), ('Specialty', 2), ('Qualified', 2), ('Bay', 2), ('onqyJIXj', 2), ('Bad', 2), ('-- \\r\\n~', 2), ('>\\r\\n>> *', 2), ('funding', 2), ('studying', 2), ('EM', 2), ('EC', 2), ('ET', 2), ('JtDp', 2), ('El', 2), ('Ex', 2), ('Expo', 2), ('lazier', 2), ('\\r\\n>>>    (', 2), ('orationdata', 2), ('185', 2), ('/>\\r\\n\\r\\n\\r\\n\\r\\n-- \\r\\n', 2), ('Problem', 2), ('Xo', 2), ('865', 2), ('Intro', 2), ('2023', 2), ('Census', 2), ('ZSJ', 2), ('NfE', 2), ('engagements', 2), ('Generate', 2), ('AnnUJ', 2), ('tLz', 2), ('\\r\\n>>>>>>>>> > ', 2), ('blogging', 2), ('resolve', 2), ('.\\r\\n*', 2), ('Apologies', 2), ('.\\r\\n>\\r\\n>\\r\\n>\\r\\n>\\r\\n>     -- \\r\\n>     ~', 2), ('repairs', 2), ('fans', 2), ('Postal', 2), ('YjAzMzhcIl', 2), ('%;\" ', 2), (',\\n>>> ', 2), (',\\r\\n>>>>>>>> \\r\\n>>>>>>>> ', 2), ('Reimburse', 2), ('FxDEv', 2), ('nYWdlbWVudCJ', 2), ('OJAI', 2), ('960', 2), ('NDg', 2), ('OWN', 2), ('8714458', 2), ('forced', 2), ('Torstein', 2), ('7117', 2), ('alternate', 2), ('1420756587', 2), ('Life', 2), ('\\r\\n>>>>>>>>>\\r\\n>>>>>>>>>\\r\\n>>>>>>>>> ', 2), ('ndWlkZS', 2), ('Whoo', 2), ('affects', 2), ('Neha', 2), ('HbL', 2), ('passionate', 2), ('nsi', 2), ('.\\r\\n>>>>>>>>> \\r\\n>>>>>>>>> \\r\\n>>>>>>>>>> ', 2), ('impeded', 2), ('errand', 2), ('Oop', 2), (').\\r\\n> . ', 2), ('IyOTExYzFjNDVmMDhlZGYwNTY', 2), ('Marriott', 2), ('jumbo', 2), ('.\\r\\n>>> . ', 2), ('VpZGUvIn', 2), ('gravitas', 2), ('glatiramer', 2), ('.\\r\\n>\\r\\n>\\r\\n>\\r\\n>\\r\\n>\\r\\n> ', 2), ('implied', 2), ('Thanking', 2), ('dato_logo_', 2), (' @', 2), ('1849686068', 2), ('staffing', 2), (' >', 2), ('pebble', 2), ('Fast', 2), ('\\r\\n>>>>>>>> \\r\\n>>>>>>>>> ', 2), (':\\r\\n>>>>>\\r\\n>>>>>    ', 2), ('BAD_REQUEST', 2), ('leveraging', 2), ('YmIwYzIxYjUwYzIzZjVkNzZlOTc', 2), ('extreme', 2), ('Chinese', 2), (':\\r\\n>>>>>         ', 2), ('FW', 2), ('zLXVzZXJzLXdhbnQta', 2), ('FF', 2), ('>           \\r\\n\"\"\\r\\n', 2), ('Dashboards', 2), ('\\r\\n\\r\\n\\r\\n\\r\\n\\r\\n-- \\r\\n', 2), ('effectively', 2), ('Written', 2), ('\\r\\n>>>>>>>         ', 2), ('Norditropin', 2), ('\\r\\n>> $', 2), ('scalable', 2), ('MzMzOTQ', 2), ('WANTED', 2), ('wedding', 2), ('...\\r\\n>\\r\\n>\\r\\n> ', 2), ('workstream', 2), ('UQDA_lamborghini', 2), ('identified', 2), ('->\\r\\n', 2), ('experienced', 2), (':\\r\\n>>\\r\\n>>    ', 2), ('matt', 2), ('COPAXONE', 2), ('ref', 2), ('589', 2), ('approaches', 2), ('NhbXBhaWduPXByb', 2), ('OBLpNvzqa', 2), ('>\\r\\n>>> - ', 2), ('merchantability', 2), ('south', 2), ('761', 2), (',</', 2), ('improvements', 2), ('hLmNvbS', 2), (';\">\\n\\n\\n\\t\\n\\t<', 2), ('>\\r\\n> <', 2), ('Pay', 2), ('__scoop_post', 2), ('Santa', 2), ('eight', 2), ('payment', 2), ('... *\\r\\n ', 2), ('disease', 2), ('Mor', 2), ('874531', 2), ('photographs', 2), ('LxPBCn', 2), (':\\r\\n>>>>>>>>>\\r\\n>>>>>>>>>    - ', 2), ('>\\r\\n>>>>>>>>>>>>>>>> ', 2), ('orationEnvironment', 2), ('670912', 2), ('>, \"\\r\\n>>> ', 2), ('freely', 2), (',\\r\\n>    - ', 2), ('ae', 2), ('uid', 2), ('\\r\\n>>> \\r\\n>>> ', 2), ('460', 2), ('legacy', 2), ('Hot', 2), ('Jacobs', 2), ('campaigned', 2), (') *\\r\\n\\r\\n', 2), (' \\xc2\\xa9   ', 2), ('Analyze', 2), ('\\r\\n>>>>>>>>>> > ', 2), ('hcHAuaHRtbD', 2), ('Officer', 2), ('?\\r\\n>>>\\r\\n>>> -', 2), ('ODgsInN', 2), (':\\r\\n>>>>>>>\\r\\n>>>>>>>    - ', 2), ('535', 2), ('FAWqvxrXffJl', 2), ('noisy', 2), ('hot', 2), ('Questions', 2), (';\\r\\n<', 2), ('doesnt', 2), ('gleaned', 2), ('): *$', 2), (' @\\r\\n>>>>>    ', 2), (':\\r\\n\\r\\n>\\r\\n> ---------- ', 2), ('AVONEX', 2), ('Know', 2), ('variation', 2), ('oartion', 2), ('\\xe2\\x80\\x93', 2), ('.\\r\\n>\\r\\n>\\r\\n> ~', 2), ('3921', 2), ('feeding', 2), ('merchant', 2), ('Industry', 2), ('\\r\\n>>>         ', 2), ('GA', 2), ('6157', 2), ('Origin', 2), ('bicycle', 2), (']\\r\\n>>>>>>>>>>>>>>> <', 2), ('construed', 2), ('VNFm', 2), ('selected', 2), ('Deductions', 2), ('endorse', 2), ('seeks', 2), ('\\r\\n>>>  \\r\\n', 2), ('\\r\\n>>>>>>>>\\r\\n>>>>>>>>\\r\\n>>>>>>>> ', 2), ('Sitecore', 2), ('>\\n                \\n                <', 2), ('emailbanner', 2), ('Elect', 2), ('disclaims', 2), ('analysts', 2), ('ZmI', 2), ('discrepancies', 2), ('Tacrolimus', 2), ('mP', 2), ('excellent', 2), ('Hacking', 2), ('Libraries', 2), ('tb', 2), ('301039980', 2), ('5979668195391348740', 2), ('eyJzIjoiU', 2), ('enter', 2), ('60124', 2), ('Hero', 2), ('?\\r\\n>>>>\\r\\n>>>> -', 2), (') \\r\\n', 2), ('401', 2), ('SAS', 2), ('Radnor', 2), ('OutlookSM', 2), ('acetate', 2), (':\\r\\n>\\r\\n>>\\r\\n>> ', 2), ('Studies', 2), ('tolerant', 2), ('JmFtcDtrZXk', 2), ('tos', 2), ('\\xc3\\xb8', 2), ('Search', 2), ('repeatable', 2), ('frankly', 2), ('KJe', 2), ('julipUiuwWFKpnc', 2), ('ucy', 2), ('RCFWX', 2), (' (+ ', 2), ('cKZ', 2), ('Harmsen', 2), ('AnalyticsMD', 2), ('flop', 2), ('flow', 2), ('Shield', 2), ('enterprise', 2), ('changeset', 2), ('terabytes', 2), ('dupe', 2), ('colors', 2), ('announce', 2), ('despite', 2), ('Mediterranean', 2), ('adage', 2), ('faced', 2), ('EessNw', 2), ('fault', 2), ('Computer', 2), ('games', 2), ('fajqaKdpyp', 2), ('trust', 2), ('Chance', 2), ('fatter', 2), (' & \\r\\n', 2), ('29454229954', 2), ('enticements', 2), ('prioritize', 2), ('agency', 2), ('proposed', 2), ('eSADZ', 2), ('resigning', 2), ('5976403754583355393', 2), ('/>\\r\\n>\\r\\n>\\r\\n\\r\\n\\r\\n-- \\r\\n', 2), ('James', 2), ('gift', 2), ('informative', 2), ('HP', 2), ('cnt', 2), ('.\\r\\n\\r\\n- ', 2), ('allocate', 2), ('427', 2), ('disappeared', 2), ('entrepreneur', 2), ('rounds', 2), ('git', 2), (':\\r\\n>>>>\\r\\n>>>>    ', 2), ('Congratulations', 2), ('removed', 2), ('versions', 2), ('Potential', 2), ('    $', 2), ('     ', 2), ('leads', 2), ('displaying', 2), ('Hj', 2), ('/>\\r\\n>>>>>>>>>>>>>\\r\\n>>>>>>>>>>>>\\r\\n>>>>>>>>>>>>\\r\\n>>>>>>>>>>>>\\r\\n>>>>>>>>>>>> --\\r\\n>>>>>>>>>>>> ', 2), ('2851', 2), ('clouds', 2), ('brother', 2), ('!\\r\\n> \\r\\n> ', 2), ('drinks', 2), ('readability', 2), ('stressful', 2), ('520', 2), ('.\\r\\n>>>          ', 2), ('weird', 2), ('perspectives', 2), ('modifying', 2), ('employer', 2), ('; \">\\n\\n<', 2), ('0865', 2), ('stated', 2), ('\\r\\n>>>>>>>>         ', 2), ('/\\r\\n>\\r\\n>\\r\\n> ', 2), (':\\r\\n>       ', 2), ('Push', 2), ('STEM', 2), ('dialed', 2), ('TkRReU', 2), (',  \\r\\n', 2), ('ferry', 2), ('usability', 2), ('gizmodo', 2), ('ZmXN', 2), ('>\\r\\n\\r\\n\\r\\n\\r\\n\\r\\n    [', 2), (':\\r\\n\\r\\n>\\r\\n>\\r\\n> --\\r\\n> ~', 2), ('QnRoZ', 2), ('FcX', 2), ('\\r\\n>>>>>>>>>>>>>>>\\r\\n>>>>>>>>>>>>>>> ', 2), ('/>\\r\\n>\\r\\n>\\r\\n', 2), ('\\r\\n\\xc2\\xa0\\r\\n\\xc2\\xa0', 2), ('Animated', 2), ('blocker', 2), ('BTgUWg', 2), ('/>\\r\\n>>>>>>>>>>\\r\\n>>>>>>>>>\\r\\n>>>>>>>>>\\r\\n>>>>>>>>>\\r\\n>>>>>>>>> --\\r\\n>>>>>>>>> ~', 2), ('\\r\\n>\\r\\n>\\r\\n>  ', 2), ('qz', 2), ('DNvhAX', 2), ('factors', 2), ('-- \\r\\n', 2), ('. \\xc2\\xa0\\r\\n\\r\\n', 2), (') -->\\n    <', 2), ('>\\n\\n\\n<', 2), ('enrollment', 2), ('gives', 2), ('Hgbsph', 2), ('PDT', 2), ('dfdfdf', 2), ('poisoning', 2), ('ana', 2), ('dining', 2), ('.\\r\\n\\r\\n\\r\\n\\r\\n\\r\\n(', 2), ('falls', 2), ('extremetech', 2), ('.\\r\\n>  -', 2), (')\\r\\n>>>>>>    - ', 2), ('detective', 2), ('Research', 2), (\" #'\", 2), ('substitutions', 2), ('reveal', 2), ('discussing', 2), ('#.', 2), ('Workday', 2), ('stanley', 2), ('Neural', 2), ('outsourcing', 2), ('/>\\r\\n>>>>>>>>>>>>\\r\\n>>>>>>>>>>>\\r\\n>>>>>>>>>>>\\r\\n>>>>>>>>>>>\\r\\n>>>>>>>>>>> --\\r\\n>>>>>>>>>>> ', 2), ('comp', 2), ('846677', 2), ('62', 2), ('\\r\\n>\\r\\n>\\r\\n>\\r\\n> --\\r\\n> ~', 2), ('teammate', 2), ('\\n> \\n> \\n>> ', 2), ('_STG', 2), ('featuring', 2), ('reimburse', 2), ('5977133047978430466', 2), ('cast', 2), ('AKTLI', 2), ('5976107423100911619', 2), ('3935', 2), (',\\r\\n>>\\r\\n>> --\\r\\n>> ~', 2), ('IN', 2), ('5977155626394996736', 2), ('0410', 2), ('captures', 2), ('Ping', 2), (':\\r\\n>>>>>>>>>\\r\\n>>>>>>>>> ', 2), (';\">\\n        ', 2), ('.\\r\\n>>>>>>>>> ', 2), ('*\\r\\n*', 2), ('accepted', 2), ('nw', 2), ('competition', 2), ('Hoo', 2), ('Master', 2), ('sakenes', 2), ('poem', 2), ('outreach', 2), ('subdued', 2), ('TableRow', 2), ('Transit', 2), ('sguid', 2), ('karan', 2), ('? *', 2), ('13717261077', 2), ('Metformin', 2), ('\\r\\n>>\\r\\n>>\\r\\n>> --\\r\\n>> ', 2), ('valley', 2), ('Special', 2), ('Consultation', 2), ('gram', 2), ('7314', 2), ('announcements', 2), ('4042', 2), ('wifi', 2), ('curve', 2), ('dBmJN', 2), ('Gateway', 2), ('\\r\\n>\\r\\n> --\\r\\n> ~', 2), ('.*\\r\\n\\r\\n', 2), ('Vungle', 2), (',\\r\\n>>>>> \\r\\n>>>>> ', 2), ('==&', 2), ('***', 2), ('occurs', 2), ('cMz', 2), ('Participant', 2), ('Interest', 2), ('Worked', 2), ('discern', 2), ('teW', 2), ('Rush', 2), ('7918', 2), ('berkeley', 2), (')*\\r\\n\\r\\n', 2), ('FyhvqWnte', 2), (').\\r\\n>> . ', 2), ('Overall', 2), ('58038503', 2), ('flat', 2), ('operators', 2), ('flag', 2), ('Particularly', 2), ('Pretty', 2), ('concept', 2), (' =\\r\\n> ', 2), ('\\r\\n# ', 2), (':\\r\\n\\r\\n*', 2), ('simplicity', 2), ('619', 2), ('Fblue', 2), ('93023', 2), ('\\r\\n\\r\\n- \\r\\n\\r\\n', 2), ('Full', 2), (' ----------\\r\\n>>>> ', 2), (',\\r\\n>>>>>>>>>>>>>>>\\r\\n>>>>>>>>>>>>>>> ', 2), ('Oh', 2), ('largest', 2), ('gathani', 2), ('\\r\\n>> /  ', 2), (',\\r\\n>>>>>>> \\r\\n>>>>>>> ', 2), ('personalization', 2), ('practitioner', 2), ('ZDkxNjdiZDFhY', 2), ('134672', 2), ('sailor', 2), ('HTTP', 2), ('wQWM', 2), ('GNnJRSVNLXzhuRFZCM', 2), (')\\r\\n>>>>>>>>>>>>>> <', 2), ('93199', 2), ('dff', 2), (').\\r\\n> \\r\\n> ', 2), ('.)\\r\\n>>    - ', 2), ('electric', 2), ('778', 2), ('enduring', 2), ('>, \"\\r\\n>> ', 2), ('Conifer', 2), ('Forrester', 2), ('JW', 2), ('BN', 2), ('publicity', 2), ('goes', 2), ('Xi', 2), ('typos', 2), ('...\\r\\n>> ', 2), ('Networks', 2), ('dump', 2), (': \\r\\n>>>>>>> ', 2), ('declined', 2), ('2026', 2), (':*\\r\\n>> ', 2), ('14581845', 2), ('finds', 2), ('fitness', 2), ('.\\r\\n>>          ', 2), ('pi', 2), ('po', 2), ('EJBnF', 2), ('Rethinking', 2), ('jdXN', 2), ('holidays', 2), ('bartlett', 2), ('robust', 2), ('edge', 2), ('>\\r\\n>>>>>>>>>>>>   /  ', 2), ('competitive', 2), ('loading', 2), ('Definitely', 2), ('ignore', 2), ('Patio', 2), (':\\r\\n>>>> <', 2), ('streaming', 2), ('Resilient', 2), ('yRTEzLUJGQUMtMjU', 2), ('>\\r\\n\\r\\n\\r\\n\\r\\n-- \\r\\n', 2), ('!\\r\\n   - ', 2), ('Square', 2), ('bloggingvids', 2), ('completing', 2), ('cecf', 2), ('significant', 2), ('detechter', 2), ('.\\r\\n>>>>>>    - ', 2), ('.\\r\\n>>>>> \\r\\n>>>>> ', 2), ('crank', 2), ('Austin', 2), ('Escitalopram', 2), ('consist', 2), (' /> <', 2), ('kj', 2), ('TheDigitalLeadersBanquet', 2), ('2641', 2), ('>\\n\\n                    <', 2), ('\\r\\n> \"@\" ', 2), ('\\r\\n>>>> \\r\\n>>>> -- \\r\\n>>>> ', 2), ('017', 2), ('?\\r\\n>>\\r\\n>>\\r\\n>> ', 2), ('/>\\r\\n>>>>>>>>\\r\\n>>>>>>>\\r\\n>>>>>>>\\r\\n>>>>>>>\\r\\n>>>>>>> --\\r\\n>>>>>>> ~', 2), (':\\r\\n> >\\r\\n> > ', 2), (',\\r\\n>>>>>>>>>>>> ', 2), ('breathing', 2), ('2918', 2), ('WFH', 2), ('MWEzOTk', 2), ('disclaimer', 2), ('traveling', 2), ('makers', 2), ('Staffing', 2), ('Has', 2), ('waiting', 2), ('Obviously', 2), ('JxYThxbEVvIiwidiI', 2), ('?\\r\\n>>>> ', 2), ('>\\r\\n\\r\\n\\r\\n\\r\\n*', 2), ('depicted', 2), ('depth', 2), ('Autodesk', 2), ('.\\r\\n- ', 2), ('freedom', 2), ('mteuxUso', 2), ('NTF', 2), ('Feature', 2), ('Schema', 2), ('9405509699938231039745', 2), ('!\\n\\n', 2), ('?\\r\\n* ', 2), ('segmenting', 2), ('\".\\r\\n>>> ', 2), ('light', 2), (')      $', 2), ('\".\\r\\n>> ', 2), ('cccccc', 2), ('130', 2), ('Resume', 2), ('Pro', 2), ('feast', 2), ('6851', 2), ('Mailbox', 2), (':\\r\\n>       - ', 2), ('dictionary', 2), ('\\r\\n>>> \\r\\n>>> \\r\\n>>> \\r\\n>>> -- \\r\\n>>> ~', 2), ('feasible', 2), ('JiVG', 2), ('Model', 2), ('theia', 2), ('\\r\\n>>>>>>>>>\\r\\n>>>>>>>>>\\r\\n>>>>>>>>>\\r\\n>>>>>>>>>\\r\\n>>>>>>>>> ', 2), ('Kt', 2), ('ZXJpYy', 2), ('FJmr', 2), ('               ', 2), ('Edition', 2), ('Diego', 2), ('...\\r\\n>>>>\\r\\n>>>> ', 2), ('clip', 2), ('linked', 2), ('%) ', 2), (' :)\\r\\n>>\\r\\n>>  ', 2), ('aEuo', 2), ('nuggets', 2), ('iOjIsImhyZWYiOiJodHRwOi', 2), ('%;\" /></', 2), (',\\r\\n>>>>>\\r\\n>>>>>  ', 2), ('operational', 2), ('displayed', 2), ('tactics', 2), ('THE', 2), ('qt', 2), ('qa', 2), ('Thinking', 2), ('5983715186224222209', 2), ('QdBp', 2), ('57784649', 2), ('subscribe', 2), ('JuT', 2), ('curriculum', 2), ('737', 2), ('Toronto', 2), ('present', 2), ('CD', 2), ('MORE', 2), ('Resource', 2), ('ZUQmN', 2), ('PhDs', 2), ('student', 2), ('MTM', 2), ('scaling', 2), ('dGVyJnV', 2), ('xcEAy', 2), ('redesign', 2), ('Mixpanel', 2), ('Discovered', 2), ('Maria', 2), ('Debit', 2), ('leader', 2), ('poets', 2), ('trsretirementservices', 2), ('eloqua', 2), ('5983591561370308610', 2), ('rare', 2), ('kinda', 2), ('Predictions', 2), ('weather', 2), ('van', 2), ('intention', 2), ('.  *', 2), ('highstock', 2), ('Tel', 2), ('BsZS', 2), ('FINAL', 2), ('kinds', 2), ('qyyJ', 1), ('_KJGB', 1), ('Until', 1), ('mfRHoT', 1), ('haWxzL', 1), ('AdFl', 1), ('Journey', 1), (\"').\\r\\n>>\\r\\n>> \", 1), ('dataminingtheworld', 1), (':\\r\\n>>>>>>>>> \\r\\n>>>>>>>>> ', 1), ('#\\r\\n>>>>>\\r\\n>>>>> ', 1), ('differentiated', 1), ('...\\r\\n>\\r\\n\\r\\n\\r\\n\\r\\n-- \\r\\n', 1), ('ArrayList', 1), ('Classic', 1), ('. \\r\\n>>>> \\r\\n>>>> ', 1), ('SDKs', 1), ('scraped', 1), ('...\\r\\n>>>>>>>\\r\\n>>>>>>> ... ', 1), ('errors', 1), ('_BkfU_GfUeONmA', 1), (' \"\\r\\n', 1), ('Hamilton', 1), ('resilient', 1), ('increasing', 1), ('widget', 1), ('hero', 1), ('reliably', 1), ('KfKXftL', 1), ('dahd', 1), ('Hour', 1), ('reported', 1), ('LqxFlJktrdp', 1), ('LedJWwyx', 1), ('.\\r\\n  - ', 1), ('XscOBuscE', 1), ('Audi', 1), ('SSdyXZ_DPPtZwHKumOZ', 1), ('classification', 1), ('Abnwtk', 1), ('EwyNkN', 1), ('explainer', 1), ('16711754', 1), (':\\r\\n\\r\\n>\\r\\n>\\r\\n> ', 1), ('cents', 1), ('telegraph', 1), ('atorvaststin', 1), (',\\r\\n\\r\\n     ', 1), ('BFAC', 1), ('brings', 1), ('yahoo', 1), ('),\\r\\n>> ', 1), ('Gingerbread', 1), ('yCR', 1), ('\\r\\n> [', 1), (';\">\\n                                        <', 1), ('Luna', 1), ('ypoXV', 1), ('FqYUTn', 1), ('revenues', 1), ('\\xe2\\x80\\x9d.\\r\\n\\r\\n', 1), ('ND_hA', 1), ('La', 1), ('organized', 1), ('%\">\\n                            <', 1), ('QYBHvQ', 1), ('caution', 1), ('!*\\r\\n>>>\\r\\n>>> ', 1), ('LE', 1), ('QEnsjo', 1), ('.  \\r\\n>>> ', 1), ('revisit', 1), ('Stock', 1), ('beauty', 1), ('ForbesFastTech', 1), ('diagram', 1), (':\\r\\n>>> <', 1), ('_Y', 1), (') .\\n\\n- ', 1), ('_W', 1), ('_S', 1), ('_R', 1), ('_I', 1), ('_H', 1), ('\\r\\n>>>>>>>>> (', 1), ('_w', 1), ('/\\n> \\n> \\n> \\n> \\n\\n\\r\\n', 1), ('\",\\r\\n', 1), ('cLnAl_Rmlt', 1), ('zQaOOuyeiF', 1), ('HIGH', 1), ('xe', 1), ('!\\r\\n>>>\\r\\n>>> -', 1), ('zgiedzF', 1), ('preferential', 1), ('\\r\\n>>>> \\r\\n>>>> \\r\\n>>>> \\r\\n>>>> -- \\r\\n>>>> ~', 1), ('timeout', 1), (':\\r\\n>>>>> <', 1), ('debug', 1), ('Clustering', 1), ('rV', 1), ('>               \\r\\n       *', 1), ('financial', 1), ('2313', 1), ('392', 1), ('rA', 1), ('FgG', 1), ('rK', 1), ('Username', 1), ('adapt', 1), ('LA', 1), ('rk', 1), ('foundation', 1), ('>\\r\\n>>>>>>>>>>>>>>>>\\r\\n>>>>>>>>>>>>>>>\\r\\n>>>>>>>>>>>>>>>\\r\\n>>>>>>>>>>>>>>>\\r\\n>>>>>>>>>>>>>>> --\\r\\n>>>>>>>>>>>>>>> ', 1), ('Garden_of_the_Gods_Club_and_Resort', 1), ('\\r\\n>>>>>>> \\r\\n>>>>>>> \\r\\n>>>>>>> \\r\\n>>>>>>> \\r\\n>>>>>>> ', 1), (' :) ).\\r\\n>\\r\\n>\\r\\n> ------\\r\\n> ', 1), ('IAJpEVc', 1), ('silicon', 1), ('Rtt', 1), (',\\n>>>\\n>>> ', 1), ('Irresistible', 1), ('CeJ', 1), ('\") ', 1), ('wash', 1), ('BpHvQO', 1), ('ACsprvtyDubAp', 1), ('179', 1), ('force', 1), ('hKizEr', 1), ('/\\r\\n>>>>\\r\\n>>>\\r\\n>>>\\r\\n>>>\\r\\n>>> --\\r\\n>>> ', 1), ('APIs', 1), ('engagement', 1), ('Ylkjg', 1), ('TJjVLCHQFn', 1), ('.). ', 1), ('listen', 1), ('predictable', 1), ('>: <', 1), ('NzXFxcLz', 1), ('xW', 1), ('>\\r\\n>>>          ', 1), ('sWiRDM', 1), ('WcOxtx', 1), ('BLIHETpodcMSMtnM', 1), ('profitable', 1), ('3750', 1), ('.)\\r\\n> ', 1), ('ZdKiPYnXEBm', 1), ('doing_wp_cron', 1), ('Generally', 1), ('solostar', 1), ('/>\\r\\n>>>>>>>>>>>>>>\\r\\n>>>>>>>>>>>>>\\r\\n>>>>>>>>>>>>\\r\\n>>>>>>>>>>>>\\r\\n>>>>>>>>>>>> --\\r\\n>>>>>>>>>>>> ', 1), ('bi_t', 1), ('>\\r\\n>>>>>>>>>>>>>>>>>\\r\\n>>>>>>>>>>>>>>>>\\r\\n>>>>>>>>>>>>>>>>\\r\\n>>>>>>>>>>>>>>>>\\r\\n>>>>>>>>>>>>>>>> --\\r\\n>>>>>>>>>>>>>>>> ', 1), ('\\r\\n>>      ------------------------------\\r\\n>> ', 1), ('cHRReIBSrpEMaePv_e', 1), ('Wish', 1), ('Wvag', 1), ('cinematic', 1), ('? :)\\r\\n>\\r\\n> ', 1), ('>\\r\\n>>>\\r\\n>>>\\r\\n>>>  ', 1), ('cYd', 1), ('marvel', 1), ('prodmgmt', 1), ('fIfQ', 1), ('LcvIcPADVqaJ', 1), ('\\r\\n>\\r\\n\\r\\n\\r\\n\\r\\n', 1), ('Resources', 1), ('column_name', 1), ('layout', 1), ('Extend', 1), ('became', 1), ('headline', 1), ('\\xe2\\x84\\xa2\\r\\n> \\r\\n> ', 1), ('accelerate', 1), (':*\\r\\n>>>>>>>\\r\\n>>>>>>> ', 1), ('FCornerstoneBenchmark', 1), ('Yelp', 1), ('>\\r\\n>>>>>>>>\\r\\n>>>>>>>\\r\\n>>>>>>>\\r\\n>>>>>>>\\r\\n>>>>>>> --\\r\\n>>>>>>> ', 1), ('lVqfZRJypfBhoEftUbCXPNz', 1), ('Tricks', 1), ('pocket', 1), ('datasetId', 1), (',\\r\\n>>>>  ', 1), ('?!\\r\\n\\r\\n', 1), ('nicely', 1), ('yfI', 1), ('GtngfECysVRFsmnh', 1), ('mandatory', 1), ('disaster', 1), ('python_reference', 1), ('OCUxd', 1), ('pbnRyb', 1), ('kFoM', 1), ('Rise', 1), (' (\\r\\n   ', 1), ('opened', 1), ('score', 1), ('\\r\\n>>>  \\r\\n>>> \\r\\n>>> \\r\\n>> \\r\\n>> \\r\\n>> \\r\\n>> -- \\r\\n>> ~', 1), ('extend', 1), ('Methinks', 1), ('... *\\r\\n>>>  ', 1), ('yvkPx', 1), ('adventures', 1), ('viewpage', 1), ('Logo', 1), ('lbmdhZ', 1), ('> \\r\\n> - ', 1), ('\"])\\r\\n>\\r\\n> --\\r\\n> ', 1), ('259', 1), ('Telegraph', 1), ('/\\r\\n>>> \\r\\n>>> ', 1), ('Method', 1), ('.\\r\\n\\r\\n     ', 1), ('Vyckphbms', 1), ('. :)\\r\\n>\\r\\n> ', 1), ('?\\r\\n>\\r\\n> *', 1), ('PhA', 1), ('\\r\\n>>\\r\\n>> ----------------------------------------------------------------------------------------------------------------------------------------------------------------------------------------------------------------\\r\\n>>\\r\\n>>\\r\\n>>\\r\\n>>\\r\\n>>\\r\\n>>\\r\\n>\\r\\n>\\r\\n> --\\r\\n> ~', 1), ('\\r\\n>>\\r\\n>>  ', 1), ('worker', 1), (';\"> \"', 1), ('Safeway', 1), ('kLWRpdmluZy', 1), ('taper', 1), ('calcium', 1), ('Harrison', 1), ('shiros', 1), (' ---------\\r\\n>>> ', 1), ('toolkit', 1), ('\"):\\r\\n>\\r\\n>\\r\\n> ', 1), ('primetherapeutics', 1), ('superman', 1), ('bJJbFQEzaWL', 1), ('Lessons', 1), ('uLIfiWhdRqxmkYz', 1), ('DJKkDkNS', 1), ('vXtNTyhYgnUC', 1), ('Angeles', 1), ('SYNoahR', 1), ('SMABc', 1), (')\\r\\n>>>>>>\\r\\n>>>>>> ', 1), ('webstore', 1), ('PmjEecWW', 1), ('corporate', 1), ('bellow', 1), ('PySpark', 1), ('TtvgYU', 1), ('Notebooks', 1), ('DWNtrDuumdZPJAcpuqzqMeaWiajP', 1), ('DigitalMarketing', 1), ('setJson', 1), ('1423005469066000', 1), ('enters', 1), ('ease', 1), ('NyaWJlIn', 1), ('hat', 1), ('AA', 1), ('Further', 1), ('31212', 1), ('beneficial', 1), ('>\\n                                    \\n                                    <', 1), ('.\\r\\n>>>>>>>>>>>\\r\\n>>>>>>>>>>>\\r\\n>>>>>>>>>>> ', 1), ('Basics', 1), ('43601880', 1), ('elastically', 1), ('Brainstorm', 1), ('Bdz', 1), ('gPb_pvbRmpH', 1), ('050', 1), ('\\r\\n\\r\\n\"\"\\r\\n\\r\\n\"\"\\r\\n', 1), ('YpnBelaw', 1), ('OX', 1), ('JOBDpUtppH', 1), ('--\\r\\n>>\\r\\n>> ', 1), ('imZYXkTRC', 1), ('nDMqPgGMzHzsM', 1), ('JuYkU', 1), ('registrations', 1), ('.\"</', 1), ('visitors', 1), ('AVP', 1), ('SevX', 1), ('observation', 1), ('NzLicmBkVbAGF', 1), ('eyJzIjoiQUpGZ', 1), ('\\r\\n>> >> <', 1), ('Leaderboard', 1), ('\\r\\n\\r\\n\\r\\n\\r\\n(', 1), ('Hang', 1), ('* (', 1), ('psYa', 1), ('>\\r\\n>>>>>\\r\\n>>>>> ------------------------------\\r\\n>>>>>\\r\\n>>>>\\r\\n>>>>    ------------------------------\\r\\n>>>> ', 1), ('_Gartner_Magic_Quadrant_PRG_Register_LP', 1), ('Kept', 1), ('paypal', 1), ('pagerank', 1), ('fivethirtyeight', 1), ('2189', 1), ('congratulations', 1), ('azc', 1), ('SMnWj', 1), ('County', 1), ('rerun', 1), ('Counts', 1), ('Recent', 1), ('vYjPJBN', 1), ('152', 1), ('8684', 1), ('Six', 1), ('Josh', 1), ('accounting', 1), (\"',\", 1), ('Sin', 1), ('Possible', 1), ('flood', 1), ('\\r\\n> ,  ', 1), ('Infographic', 1), ('TxoNABh', 1), ('==>,\\r\\n', 1), ('UObLQc', 1), ('?\\r\\n>>>\\r\\n>>>\\r\\n>>> ', 1), ('Ranks', 1), ('variable', 1), ('editAccount', 1), ('Filters', 1), ('Intelligece', 1), ('kNjo', 1), (' &\\r\\n>>>>>>>>> ', 1), (':?', 1), ('.,\\r\\n>>    ', 1), ('technologist', 1), ('oKduZ', 1), ('.\\n\\n\\xc2\\xa0\\n\\xc2\\xa0\\n\\xc2\\xa0\\n\\xc2\\xa0\\n\\xc2\\xa0\\n\\n', 1), ('vet', 1), ('tXKHDZ', 1), ('caldwell', 1), ('Javascript', 1), ('818', 1), (' | \\r\\n', 1), ('!\\r\\n>\\r\\n>  -', 1), ('YVIilfEN', 1), ('intake', 1), ('UQvyfLd', 1), ('vioAWC', 1), ('GrilledCheeseBandits', 1), ('129', 1), ('Wes', 1), ('!*\\r\\n>>>>\\r\\n>>>> ', 1), ('Tao', 1), ('rnAbKDpj', 1), ('prediction', 1), ('Failed', 1), ('designs', 1), ('mentored', 1), ('noonish', 1), ('\\r\\n>>>> \\r\\n>>>> \\r\\n>>>> \\r\\n>>>> \\r\\n>>>> ', 1), ('vTS', 1), ('igzLHJSz', 1), ('HWnVP', 1), ('/>\\r\\n>>>>>>>\\r\\n>>>>>>\\r\\n>>>>>>\\r\\n>>>>>\\r\\n>>>>>\\r\\n>>>>> --\\r\\n>>>>> ', 1), ('falling', 1), ('True', 1), ('Dates', 1), ('Ma', 1), ('Bot', 1), ('harriss', 1), ('Mw', 1), ('.\\r\\n\\r\\n    ', 1), (' *\\r\\n>>       ', 1), ('Syndication', 1), ('Mz', 1), ('MO', 1), ('60208533519', 1), ('MV', 1), ('MS', 1), ('MX', 1), ('REAL', 1), ('GIFs', 1), ('DOL', 1), ('cEEzBLhg', 1), ('paced', 1), ('P_rcL', 1), ('IPython', 1), ('TqoydDh', 1), ('!\\r\\n\\r\\n\\r\\n*', 1), ('red', 1), ('.\\n>>\\n>>\\n>> ------\\n>> ', 1), ('IxuyfdnlKQsqG', 1), ('cranked', 1), ('gdzxf', 1), ('CDSF_DATAMINELNK', 1), ('CONTENT', 1), ('properties_revenue', 1), ('hk_Screen', 1), ('.\\r\\n>> <', 1), ('dMvjXo', 1), ('\\r\\n>>>> \\r\\n>>>>> ', 1), ('logos', 1), ('.\\r\\n>\\r\\n>\\r\\n>\\r\\n\\r\\n\\r\\n-- \\r\\n', 1), ('_AcKl', 1), ('\"?\\r\\n>\\r\\n> ', 1), ('netflix', 1), ('XjM', 1), ('\\xc2\\xb6\\r\\n', 1), ('/>\\r\\n>>>>>>>>>>\\r\\n>>>>>>>>>\\r\\n>>>>>>>>\\r\\n>>>>>>>>\\r\\n>>>>>>>> --\\r\\n>>>>>>>> ', 1), ('Out', 1), ('1057330', 1), ('kKJ', 1), ('236', 1), ('233', 1), ('winter', 1), ('>\\r\\n>>>>>      ------------------------------\\r\\n>>>>> ', 1), ('utm_channel', 1), ('eTATIV', 1), ('trackandconfirm', 1), ('RQKvW', 1), ('Meets', 1), ('sS', 1), ('iOjksImhyZWYiOiJodHRwczovL', 1), ('!\\r\\n\\r\\n\\r\\n\\r\\n', 1), ('sE', 1), ('TFM', 1), ('sy', 1), ('IwV', 1), ('sq', 1), ('su', 1), ('sf', 1), ('se', 1), ('\\r\\n  \\r\\n\\r\\n', 1), ('sgiDx', 1), ('093', 1), ('ttw', 1), ('cXFwvP', 1), ('EVENTS', 1), (',\\r\\n>>>\\r\\n>>> --\\r\\n>>> ~', 1), ('/>\\r\\n>>>>>>>>>>\\r\\n>>>>>>>>>\\r\\n>>>>>>>>>\\r\\n>>>>>>>>\\r\\n>>>>>>>>\\r\\n>>>>>>>> --\\r\\n>>>>>>>> ', 1), ('tldHMtMTU', 1), ('LT', 1), ('935', 1), ('?\\r\\n\\r\\n---------- ', 1), ('):\\r\\n   ', 1), ('smarter', 1), ('insomnia', 1), ('Dedicated', 1), ('nation', 1), ('Shares', 1), ('siclientid', 1), ('matched', 1), ('QhhgJPtiq', 1), ('square', 1), ('eUeWBvbPNhY', 1), ('qLV', 1), ('sponsor', 1), ('Learned', 1), ('HZYlOk', 1), ('MARCH', 1), ('792', 1), ('799', 1), ('BIG', 1), (').\\r\\n>> \\r\\n>> ', 1), ('Orientation', 1), (':\\n\\n- ', 1), ('>\\r\\n>\\r\\n>\\r\\n>\\r\\n> --\\r\\n> ', 1), ('Places', 1), ('incentives', 1), ('possibility', 1), ('anchor', 1), ('? \\r\\n<', 1), ('/>\\r\\n>>>>>>\\r\\n>>>>>\\r\\n>>>>\\r\\n>>>>\\r\\n>>>> --\\r\\n>>>> ', 1), ('Money', 1), ('initiate', 1), ('CZO', 1), ('ono', 1), ('*\\r\\n>>\\r\\n>> ', 1), ('\\r\\n>> \"@\" ', 1), ('.*\\r\\n>>>\\r\\n>>>  *', 1), ('Dive', 1), ('Hmm', 1), ('brevity', 1), ('bits', 1), ('>\\r\\n>>>>>>>>>>>>>>\\r\\n>>>>>>>>>>>>>\\r\\n>>>>>>>>>>>>>\\r\\n>>>>>>>>>>>>>\\r\\n>>>>>>>>>>>>> --\\r\\n>>>>>>>>>>>>> ', 1), ('>\\r\\n\\r\\n\\r\\n\\xe2\\x80\\x8b', 1), ('Install', 1), ('Kurt', 1), ('third', 1), ('\\r\\n>>>>>>>>>> * ', 1), ('OBgCuwT', 1), (')\\r\\n>>>>>>>\\r\\n>>>>>>> ', 1), ('addressing', 1), ('\\r\\n>>>>>> $', 1), ('generation', 1), ('locations', 1), ('uninterrupted', 1), ('tvfBLLEnYk', 1), ('>\\n                                    </', 1), ('Important', 1), ('.\\r\\n>>>>> \\r\\n>>>>>> ', 1), ('nNyyCTfB_g', 1), (').\\r\\n>>>\\r\\n>>> ', 1), ('average', 1), ('testcase', 1), ('Becoming', 1), ('\\r\\n\\r\\n--\\r\\n', 1), ('IqrUEkXKSrFpfLyJGK', 1), ('Systems', 1), ('NTZmMDY', 1), ('MVBLfeast', 1), ('Adil', 1), ('wfNemN', 1), ('predict', 1), ('Surprising', 1), ('Sallam', 1), ('reproducible', 1), ('5012710094451904296875', 1), ('aGjL', 1), ('ux', 1), ('  \\r\\n(', 1), ('toying', 1), ('uncover', 1), ('YES', 1), ('/\\n>>>>>\\n>>>>>\\n>>>>>\\n>>>>>\\n>>>>\\n>>>\\n>>\\n> \\n\\n\\r\\n', 1), ('218340112', 1), ('Youngs', 1), ('zYWxlc', 1), ('vkC', 1), ('enlightening', 1), ('...\\r\\n>>>>>\\r\\n>>>>> ', 1), ('\\r\\n>>>       \"', 1), ('DfHjZBx', 1), ('!\\r\\n>>\\r\\n>> -', 1), ('Than', 1), ('?\\r\\n>>>>>>\\r\\n>>>>>>\\r\\n>>>>>> ', 1), ('spare', 1), ('busting', 1), ('rescheduled', 1), ('bWlrZS', 1), ('soc_src', 1), ('workplace', 1), ('!!!!\\r\\n\\r\\n', 1), (':\\r\\n>\\r\\n>    ', 1), ('allowance', 1), ('storing', 1), ('Were', 1), ('\\r\\n>\\r\\n>\\r\\n>\\r\\n>\\r\\n>  ', 1), ('\\n\\n<', 1), (';\\xe2\\x80\\x8b', 1), ('1585', 1), ('YPfvAHW', 1), ('>\\r\\n>>>>>>>>>>>>>>>>   /  ', 1), ('xeTg', 1), ('prototype', 1), ('tMvt', 1), ('reaching', 1), ('LaXNbodhx', 1), ('.\\r\\n>>>>>>\\r\\n>>>>>> -', 1), ('photos', 1), ('PDNNtULw', 1), ('Greatest', 1), ('.\\r\\n>>>>>>\\r\\n>>>>>> *', 1), ('zCIjvYyPWy', 1), ('researchkit', 1), ('consultant', 1), ('ZTg', 1), ('Cinema', 1), ('_b', 1), ('longform', 1), ('01156669', 1), ('RUV', 1), ('passes', 1), ('6497292', 1), ('DIY', 1), ('hxc', 1), ('yqWc', 1), ('iqpc', 1), ('-----\\r\\n', 1), ('.\\r\\n\\r\\n\\r\\n\\r\\n\\r\\n\\r\\n', 1), ('3916', 1), ('3911', 1), ('UTK', 1), ('Clear', 1), ('SWaMjSuRCIncAJwAVHoxup_l', 1), ('wired', 1), ('461', 1), ('LifeCycle', 1), ('/\\r\\n>    ', 1), ('connector', 1), ('215', 1), ('199', 1), ('madness', 1), (').\\r\\n\\r\\n-- \\r\\n~', 1), ('rmL', 1), ('NDFhNmVjMTNcIl', 1), (':\\n> ------\\n> [', 1), ('20150122', 1), ('aspects', 1), ('unveil', 1), ('716455', 1), ('(\"', 1), ('Example', 1), ('cDovL', 1), ('2554', 1), ('.\\r\\n> \\xe2\\x80\\x8b\\r\\n>\\r\\n> ', 1), ('Cornerstone', 1), ('.\\n    </', 1), ('nasal', 1), ('diving', 1), ('/>\\r\\n>>>>>\\r\\n>>>>\\r\\n>>>\\r\\n>>>\\r\\n>>> --\\r\\n>>> ', 1), ('>\\r\\n>>\\r\\n>>\\r\\n>>\\r\\n>>\\r\\n>>     [', 1), ('ZucGM', 1), ('Keynote', 1), ('clarification', 1), ('EyhJZJ', 1), ('.*\\r\\n\\r\\n-- \\r\\n', 1), ('\\r\\n\\r\\n>     ', 1), ('tbGa', 1), (';/', 1), ('.\\r\\n>>>>>>>>\\r\\n>>>>>>>> -', 1), (').\\r\\n\\r\\n- ', 1), ('. ( ', 1), ('.\\r\\n>>>>>>>>\\r\\n>>>>>>>> *', 1), ('.\\r\\n>>>>>>>>>\\r\\n>>>>>>>>>\\r\\n>>>>>>>>>\\r\\n>>>>>>>>> ', 1), ('Analyzing', 1), ('guKcDNVmsjAh', 1), ('Upgrade', 1), ('Nd', 1), ('doseage', 1), ('Np', 1), ('UuY', 1), ('Lita', 1), ('.\\r\\n\\r\\n-\\r\\n\\r\\n', 1), ('NlbmR', 1), ('NJ', 1), ('gtgL', 1), ('NO', 1), ('NC', 1), ('ND', 1), ('NE', 1), ('Baton', 1), ('NZ', 1), ('StubHub', 1), ('NU', 1), (' =>\\r\\n>>>>    ', 1), ('\")?\\r\\n\\r\\n-- \\r\\n', 1), ('Multiplier', 1), ('principles', 1), ('vIfcTDQEtimZQ', 1), ('House', 1), ('\\r\\n>>>>>>>>>>\\r\\n>>>>>>>>>>\\r\\n>>>>>>>>>> ', 1), ('391', 1), ('dirty', 1), ('yayI', 1), ('OZ_', 1), ('politically', 1), ('pulp', 1), ('YFfrEI', 1), ('>\\r\\n>>>\\r\\n>>> ------------------------------\\r\\n>>>\\r\\n>>\\r\\n>>    ------------------------------\\r\\n>> ', 1), ('cream', 1), ('GDxDK', 1), ('aB', 1), ('sC', 1), (')\\r\\n>\\r\\n>\\r\\n> ', 1), ('pluckin', 1), ('aS', 1), ('.\\r\\n>>>>>\\r\\n>>>>>  *', 1), ('jaWdZIiwidiI', 1), ('HoZ', 1), ('bkHH', 1), ('.\\r\\n     ', 1), (' \\r\\n> \\r\\n>> ', 1), ('Alec', 1), ('\\r\\n>>>\\r\\n>>>\\r\\n>>>\\r\\n>>> --\\r\\n>>> ', 1), (\"').\\r\\n>\\r\\n> \", 1), ('behavioral', 1), ('waiver', 1), ('Wanderlust', 1), ('tX', 1), ('tV', 1), ('Haha', 1), ('Fib', 1), (' &\\r\\n>>> ', 1), ('PDWTcj', 1), ('NjY', 1), ('FcMA', 1), (']\\r\\n>>>>>>>>>>>>>>>>> <', 1), ('Eat', 1), (' . . .\\r\\n\\r\\n', 1), (':\\r\\n>>> + ', 1), ('NnZIIn', 1), ('haWwiLCAibmV', 1), ('nNuw', 1), ('iFOUks', 1), ('DHe_VuNHJIk', 1), ('BKlIeHN', 1), ('TQVsLMT', 1), ('pvbjv', 1), ('displays', 1), (' &\\r\\n>>>>> ', 1), ('/\\r\\n>>>>\\r\\n>>>> ', 1), ('>\\r\\n\\r\\n*', 1), ('ZFljMVdvcDZUMXRvNzJyM', 1), ('iOjE', 1), ('nurse', 1), ('properties_shippingMethod', 1), ('Wouldnt', 1), ('VbIqUj', 1), ('bloggers', 1), (',\\r\\n>>>>>\\r\\n>>>>>\\r\\n>>>>>\\r\\n>>>>> ', 1), ('>\\r\\n\\r\\n\\r\\n\\r\\n---------- ', 1), ('Userlike', 1), ('.\\r\\n>>>>\\r\\n>>>>  *', 1), ('ACsprvtOKhenWMvIWtm', 1), ('struggle', 1), ('retroactive', 1), (':\\r\\n>>>\\r\\n>>>>  ', 1), ('UJsFftj', 1), ('>\\n\\n\\t</', 1), ('intensive', 1), ('archived', 1), ('Introducing', 1), ('trips', 1), ('xuH', 1), ('objectives', 1), ('248', 1), ('NgTm', 1), ('.\\r\\n\\r\\n\\xa9 ', 1), ('NeMjhiR', 1), ('?\\r\\n>>>>>>\\r\\n>>>>>> -', 1), ('homework', 1), ('\\r\\n> \\r\\n> \\r\\n> ---------- ', 1), ('>\\r\\n>\\r\\n> ------------------------------\\r\\n>\\r\\n>\\r\\n>\\r\\n> --\\r\\n> ', 1), ('neECSNo', 1), ('tested', 1), ('VISUAL', 1), ('*\\r\\n>>\\r\\n>>\\r\\n>>\\r\\n>>\\r\\n>>\\r\\n>> --\\r\\n>> ', 1), ('SjenyMbHQglJjsKToPxP', 1), ('Cheese', 1), ('Neumann', 1), ('. \\r\\n\\r\\n\\r\\n', 1), ('userguid', 1), ('/</', 1), ('NzM', 1), ('MCFRBgfgod', 1), ('DlfswZKYK', 1), ('BiWeekly', 1), ('axis', 1), ('Macrae', 1), ('\\r\\n>\\r\\n>\\r\\n>\\r\\n>\\r\\n>\\r\\n> -- \\r\\n> ', 1), ('n_Tj', 1), ('HireVue', 1), ('Zhvr', 1), ('.\\r\\n>>>\\r\\n>>> *\"', 1), ('xmceX', 1), ('xua', 1), ('aYm', 1), (' &\\r\\n>> ', 1), ('entrepreneurship', 1), ('\\r\\n\\r\\n\\r\\n*** ', 1), ('backyard', 1), ('.\\r\\n> \\r\\n', 1), ('lifecycle', 1), ('hb_ntf_MEGAPHONE_ARTICLE_POST', 1), ('mWLANRKX', 1), ('speeds', 1), ('shgvmdg', 1), ('!\"*\\r\\n>\\r\\n> *-', 1), ('DKC', 1), ('496', 1), ('>\\r\\n>>>>>>>>\\r\\n>>>>>>>\\r\\n>>>>>>>\\r\\n>>>>>>>\\r\\n>>>>>>> --\\r\\n>>>>>>> ~', 1), (', ^', 1), (':\\r\\n\\r\\n>  **', 1), ('\\r\\n>>>>>>>>  \\r\\n>>>>>>>> \\r\\n>>>>>>> \\r\\n>>>>>>> \\r\\n>>>>>>> \\r\\n>>>>>>> -- \\r\\n>>>>>>> ', 1), ('HBWWXQ', 1), ('sauce', 1), ('rEE', 1), ('Sound', 1), (':\\r\\n>>>>>>>>>>>>>>>>\\r\\n>>>>>>>>>>>>>>>>> ', 1), ('3939', 1), ('chiefdatastrategyforum', 1), ('wkMNvOzDai', 1), ('08807', 1), ('91541', 1), ('designation', 1), ('Connections', 1), (':\\r\\n>\\r\\n>\\r\\n> -- \\r\\n> *', 1), ('execs', 1), ('Evernote', 1), ('BMn', 1), ('\\r\\n>> \\r\\n>> \\r\\n>> \\r\\n>> \\r\\n>> ', 1), ('\"\\r\\n>>>>>> ', 1), ('NGQ', 1), ('NGY', 1), ('NGZ', 1), (']\\r\\n>>>>>>>> <', 1), ('date_part', 1), ('gfW', 1), ('tZXIuaW', 1), ('Jewett', 1), ('144967111', 1), ('  \\r\\n> /  ', 1), ('3668', 1), ('IT', 1), ('imaging', 1), ('HumanScale', 1), ('sicker', 1), ('Years', 1), ('):\\r\\n>>>\\r\\n>>> ', 1), ('Ebooks', 1), ('MWUZaS', 1), ('7509985', 1), ('LUK', 1), ('validate', 1), ('/\\r\\n>>>> ', 1), ('hFPGWrWbNAZ', 1), ('jes', 1), ('QnJQf', 1), ('uMZOHU', 1), ('Becomes', 1), ('feels', 1), ('hypothetical', 1), ('4151', 1), ('1422899883359', 1), ('stifle', 1), ('modes', 1), ('aad', 1), ('Table', 1), ('.\\xe2\\x80\\x8b\\r\\n>> ', 1), ('XKBLHAVyI', 1), ('Peruvian', 1), ('determined', 1), ('Atomic', 1), ('wYWlnbiI', 1), ('EYGCzuWaE', 1), ('absorb', 1), ('canceling', 1), ('sharpbrains', 1), ('hgD', 1), ('collapse', 1), ('sell', 1), ('KfXpqNLkAC', 1), ('paystubs', 1), ('>\\r\\n>>>>\\r\\n>>>> ------------------------------\\r\\n>>>>\\r\\n>>>\\r\\n>>>    ------------------------------\\r\\n>>> ', 1), ('QaSLmXQvqZvVrShsTrCSuCaWi', 1), ('HJUX', 1), ('hnvCY', 1), ('probability', 1), ('Vox', 1), ('via_email', 1), ('comparing', 1), ('\"\\r\\n>>>>>>>>> ', 1), ('FROM', 1), ('seize', 1), ('Nazi', 1), ('ejSVfUw', 1), ('OTY', 1), ('wKWk', 1), ('datascience', 1), ('ClVyhc', 1), ('.\\r\\n--------------------------------------------------------------\\r\\n\\r\\n', 1), ('; \">', 1), ('ObWCi', 1), ('emp', 1), ('/>\\r\\n>>>>\\r\\n>>>\\r\\n>>>\\r\\n>>\\r\\n>\\r\\n>\\r\\n>\\r\\n> --\\r\\n> ', 1), ('Had', 1), ('HSjKc', 1), ('hornets', 1), ('BXWlOCEgJ_pr', 1), ('POMhA', 1), ('member_external_id', 1), ('cBSHv', 1), ('cvml', 1), ('guided', 1), ('Prime', 1), ('YdbObzoDMnUDEDQEOj', 1), ('007', 1), ('Code', 1), ('closely', 1), ('Minutes', 1), ('JoYlyF', 1), ('dKg', 1), ('dKk', 1), ('.\\r\\n>\\r\\n', 1), ('!\\r\\n\\r\\n ', 1), ('kwDMOtSqOiAq', 1), ('!\\r\\n\\r\\n-', 1), ('kaykoplovitz', 1), ('bSJMENCM', 1), ('Sony', 1), ('KFKvNVlSlT', 1), ('?\\r\\n>>\\r\\n>> --\\r\\n>> ~', 1), ('announcement', 1), ('targeted', 1), ('empowering', 1), ('>\\n\\t\\n\\t</', 1), (',\\n>>>>\\n>>>> ', 1), ('DvnPMseC', 1), ('acquisition', 1), ('\\r\\n>>>>>>    $', 1), (']\\n>>>>>\\n>>>>> ', 1), ('Southwest', 1), ('.\\r\\n>>\\r\\n>> -', 1), (').', 1), ('Feather', 1), ('.\\n>>>>\\n>>>> ------\\n>>>> ', 1), ('cgMhCJ', 1), ('palace', 1), (')?\\r\\n  ', 1), ('satire', 1), ('geoffrey', 1), ('Train', 1), ('qLLjPDOpINkKRyUSFIZS', 1), ('boston', 1), (\"'.\\r\\n>> \", 1), ('Olanzipine', 1), ('washwire', 1), ('*\\r\\n>>>\\r\\n>>>\\r\\n>>>    ', 1), ('Lorica', 1), ('HipL', 1), ('Old', 1), ('6297', 1), ('?\\r\\n\\r\\n\"\"\\r\\n\\r\\n', 1), ('bWNTSFp', 1), ('. \\r\\n> \\r\\n> ', 1), ('backing', 1), (' +\\r\\n> ', 1), ('overlayed', 1), ('churn', 1), ('rules', 1), ('> .\\r\\n\\r\\n', 1), ('virtually', 1), (';\">\\n            <', 1), ('damn', 1), (']\\r\\n>>>>>>>>>>> <', 1), ('kn_', 1), ('5202', 1), ('Raleigh', 1), ('things_in_pandas', 1), ('5209', 1), ('conversionxl', 1), ('Project', 1), ('Ttg', 1), ('NWNCTm', 1), ('governance', 1), ('aminstitute', 1), ('--------------------------------------------------------------\\r\\n', 1), ('Rphd', 1), ('jJM', 1), ('FWP', 1), ('GZfdhKHcFbMRInTtmJJrYGSdRedMGEmeVf', 1), ('\\r\\n>>>\\r\\n>>>\\r\\n>>\\r\\n>>\\r\\n>> --\\r\\n>> ~', 1), ('surprises', 1), ('DuBois', 1), ('Faster', 1), ('Og', 1), ('a_j', 1), ('ON', 1), ('OI', 1), ('Knetik', 1), ('ACsprvtx', 1), ('Intel', 1), ('OQ', 1), ('spring', 1), ('.\\n\\n ------ \\n ', 1), ('DEN', 1), ('>\\r\\n>>>\\r\\n>>> ------------------------------\\r\\n>>>\\r\\n>>>\\r\\n>>>\\r\\n>>> --\\r\\n>>> ', 1), ('irresistible', 1), ('/>\\r\\n>>>>>\\r\\n>>>>>\\r\\n>>>\\r\\n>>>\\r\\n>>> --\\r\\n>>> ', 1), (' :-), ', 1), ('bp', 1), ('Loop', 1), ('bE', 1), ('nationalgeographic', 1), ('bC', 1), ('HceP', 1), ('bH', 1), ('.\\xe2\\x80\\x99\\r\\n\\r\\n', 1), ('mouth', 1), ('external_id', 1), ('Colorado_Springs_El_Paso_County_Colorado', 1), ('naAoAd', 1), ('TABLEAU', 1), ('integral', 1), ('lttcaitoR', 1), ('appropriate', 1), ('HFA', 1), ('NEW', 1), ('7663', 1), ('Used', 1), ('spam', 1), ('figGcXqde', 1), ('. \\r\\n\\r\\n\"\"\\r\\n\"\"           \\r\\n\\r\\n\"\"            \\r\\n\\r\\n', 1), ('u_', 1), ('3607', 1), ('.\\r\\n>>>>>>>>>> ', 1), ('JBKN', 1), ('uF', 1), ('Interactive', 1), ('Fk', 1), ('Schlegel', 1), ('Jeff', 1), ('YDyT', 1), ('whatsthebigdata', 1), ('paired', 1), ('>\\r\\n>>>\\r\\n>>>\\r\\n>>>\\r\\n>>>\\r\\n>>>     [', 1), ('ZTEwOGY', 1), ('UiTaJDwgm', 1), ('.\\r\\n>>>>>>>\\r\\n>>>>>>>\\r\\n>>>>>>>\\r\\n>>>>>>> ', 1), ('Parks', 1), (':\\n>>> (', 1), ('Ht', 1), ('iOjExLCJocmVmIjoiaHR', 1), ('.\\r\\n> <', 1), ('OfficeMax', 1), ('Single', 1), ('hbHl', 1), ('l_JJ', 1), ('.\\r\\n>  ', 1), ('itworld', 1), ('...\\r\\n> \\r\\n> \\r\\n>> ', 1), ('bayareatacos', 1), ('pI_', 1), ('>\\r\\n>>> .\\r\\n>>>\\r\\n>>> ', 1), ('qTVLiQ', 1), ('algorithm', 1), ('jEHjJ', 1), ('barkley', 1), ('whitepaper', 1), ('6330', 1), ('partial', 1), (\"').\\r\\n\\r\\n\", 1), ('Tapjoy', 1), ('concerned', 1), ('>\\r\\n>>>>\\r\\n>>>> ------------------------------\\r\\n>>>>\\r\\n>>>>\\r\\n>>>>\\r\\n>>>> --\\r\\n>>>> ', 1), ('young', 1), ('Extraction', 1), ('qV', 1), ('/>\\r\\n>>>>>\\r\\n>>>>\\r\\n>>>>\\r\\n>>>\\r\\n>>\\r\\n>>\\r\\n>>\\r\\n>> --\\r\\n>> ', 1), ('*\\r\\n\\r\\n\\r\\n', 1), ('Agency', 1), ('qZz', 1), ('Graphs', 1), ('>\\r\\n\\r\\n\"\"\\r\\n\\r\\n<', 1), ('timely', 1), ('trk', 1), ('XcOEMMEWFEFDQ', 1), ('_Rpx', 1), ('Talking', 1), ('race', 1), ('NTIifQ', 1), ('aeae', 1), (']\\r\\n>>>>>>>>>>>>> <', 1), ('Tadalafil', 1), ('OVO', 1), ('591', 1), ('594', 1), ('/>\\r\\n>>>>>>>>>>>>\\r\\n>>>>>>>>>>>\\r\\n>>>>>>>>>>\\r\\n>>>>>>>>>>\\r\\n>>>>>>>>>> --\\r\\n>>>>>>>>>> ', 1), ('oL', 1), ('5417', 1), ('...\\r\\n>>>>>>\\r\\n>>>>>> ... ', 1), ('consistently', 1), ('iWatch', 1), ('bird', 1), ('lessons', 1), ('\\r\\n--------------------------------------------------------------------------------------------------------------------------------------------------------------------------------------------------------------------------\\r\\n\\r\\n-- \\r\\n', 1), ('SvfLog', 1), ('Staff', 1), ('97868', 1), ('firefox', 1), ('334', 1), ('Distributed', 1), ('330', 1), ('outcomes', 1), ('WMkxcpdehzSDJJtTz', 1), ('confidence', 1), ('->\\r\\n\\r\\n\\r\\n*', 1), ('duplicate', 1), ('Swzmg', 1), ('yqaQN', 1), ('midday', 1), ('consumerization', 1), ('Creativity', 1), ('aBv', 1), ('FrozenKuhsterd', 1), ('>\\r\\n>\\r\\n> ------------------------------\\r\\n>\\r\\n\\r\\n   ------------------------------\\r\\n', 1), ('athlete', 1), ('prompts', 1), ('Foursquare', 1), ('rweIc', 1), ('vFnCRlpbCDRXdw', 1), ('Sakenes', 1), ('\".\\r\\n>> <', 1), ('lztiznq', 1), ('BvdC', 1), ('buahahahaha', 1), ('Casserole', 1), ('FMpwf', 1), ('Payment', 1), ('notebook', 1), ('fits', 1), ('ANYBHECvTSCmZ', 1), ('Uber', 1), ('Apple', 1), ('reminders', 1), ('RECOGNIZED', 1), (',\\r\\n>>>>>>>>>>>>>> ', 1), ('/>\\r\\n>>>\\r\\n>>\\r\\n>>\\r\\n', 1), ('codefisher', 1), ('00001619256', 1), ('how_it_works', 1), ('Translate', 1), ('Match', 1), ('ujirmgethS', 1), ('Scientific', 1), ('Yx', 1), ('\\r\\n>>>>> \\r\\n>>>>> \\r\\n>>>>> \\r\\n>>>>> \\r\\n>>>>> ', 1), ('\\n\\n\\xc2\\xa0\\n\\n\\xc2\\xa0\\n\\n\\xc2\\xa0\\n\\n\\xc2\\xa0\\n\\n', 1), ('Conversions', 1), ('docx', 1), ('cSj', 1), ('JWJLDcgLFfTfMUA', 1), ('RaeWt', 1), ('rotation', 1), ('outlines', 1), ('Yr', 1), ('okxdE', 1), ('pbnRvLXdhdHNpcy', 1), ('rising', 1), ('\\r\\n>> [', 1), ('==>\\r\\n\\r\\n\\r\\n\\r\\n-- \\r\\n', 1), ('andMe', 1), ('bae', 1), ('IRFd', 1), ('uLmNvbSIsICJjYW', 1), ('\\r\\n>>>>>>> (', 1), ('Spend', 1), ('!\"*\\r\\n>>\\r\\n>> *-', 1), ('integrating', 1), ('tomdouglas', 1), ('PMLnPac', 1), ('TmSOwstMsALO_xA', 1), ('_FhR', 1), (' %\\r\\n>>>>> ', 1), ('YzA', 1), ('EmployerPosterPacket', 1), ('>           \\r\\n', 1), ('hYfdttEzppLw', 1), ('WUACQ', 1), ('los', 1), ('>\\r\\n>>> \\r\\n>>>> ', 1), ('\\xe2\\x84\\xa2) ', 1), ('whales_audit', 1), ('Premiums', 1), ('>.\\r\\n>>\\r\\n>>\\r\\n>> ', 1), (' \\r\\n,  ', 1), ('CeOnmslavF', 1), ('.\\r\\n>>\\r\\n>>\\r\\n>> --\\r\\n>> ', 1), ('XlA', 1), ('kJMnoyl', 1), (' |  ', 1), ('JHKPxKyuNyykXkAG', 1), ('negatively', 1), ('steep', 1), ('_DYyLNSa', 1), ('\\x92', 1), ('FxbF', 1), ('EsGHQTJY', 1), ('documents', 1), ('3970', 1), ('soar', 1), (',\\r\\n\\r\\n\\r\\n\\r\\n', 1), ('courtesy', 1), (':\\r\\n>>>>\\r\\n>>>>>  ', 1), ('ZILuWVo', 1), ('THINK', 1), ('ao', 1), ('AbTzRXhsqBufLQleroEI', 1), (':\\r\\n\\r\\n\\r\\n\\r\\n', 1), ('\\r\\n>>> /  ', 1), ('answered', 1), ('thecrocodile', 1), ('rTzg', 1), ('\">\\n\\n<', 1), ('principal', 1), ('EXw', 1), ('Whether', 1), ('.\\r\\n>>>>\\r\\n>>>> *', 1), ('=%', 1), ('>\\r\\n>>>>\\r\\n>>>\\r\\n>>>\\r\\n>>>\\r\\n>>> --\\r\\n>>> ', 1), ('=&', 1), ('caede', 1), ('gbf', 1), ('DRoEWbvdjA', 1), ('lW', 1), ('cGewODRXHoTjiiIfAL_ZOsHpCs', 1), ('Angoss', 1), ('EcRBw', 1), ('taxed', 1), ('dKiQ', 1), (': \\xe2\\x80\\x8e', 1), ('Pt', 1), ('APzlz', 1), ('?\\r\\n> \\r\\n> ', 1), ('9651', 1), ('Pg', 1), ('Pj', 1), ('Pi', 1), ('Po', 1), ('packed', 1), ('wiOltcImFkYmE', 1), ('PQ', 1), ('sfjava', 1), ('.\\r\\n>>>\\r\\n>>>\\r\\n>>> --\\r\\n>>> ~', 1), ('PI', 1), ('/>\\r\\n>>>\\r\\n>>>\\r\\n>>\\r\\n>\\r\\n>\\r\\n> --\\r\\n> ', 1), ('iLZlhykJRj', 1), ('862927471', 1), ('OPT', 1), ('1641', 1), ('UfQhej', 1), ('la', 1), ('newbies', 1), ('streams', 1), ('pKda', 1), ('heart', 1), ('6089693', 1), ('575', 1), ('cy', 1), ('Campfire', 1), ('cu', 1), (\"\\r\\n'\", 1), ('Accepted', 1), ('\\r\\n+', 1), ('cY', 1), ('wXgEn', 1), ('hottest', 1), ('c_sprut', 1), ('wiOltcIjU', 1), (').\\r\\n>>>>> . ', 1), ('FCYlk', 1), ('atlanta', 1), ('QNzA', 1), ('Presidents', 1), ('.\\r\\n\\r\\n\\r\\n\\r\\n---------\\r\\n\\r\\n', 1), ('frameworks', 1), ('expiration', 1), ('TableDataInsertAllResponse', 1), ('qe', 1), ('vd', 1), ('>).\\r\\n\\r\\n\\r\\n-- \\r\\n', 1), ('vn', 1), ('Trends', 1), ('vA', 1), ('vD', 1), ('vK', 1), ('vL', 1), ('MSDQLItUxL', 1), ('Wholesale', 1), ('adamsgrubtruck', 1), ('Grew', 1), ('UVTFOalFBL', 1), ('Audible_', 1), ('Pebble', 1), ('Julia', 1), ('Matching', 1), ('\\r\\n>> \\r\\n>> \\r\\n>> \\r\\n>> \\r\\n>> -- \\r\\n>> ', 1), ('LgDm', 1), ('numberland', 1), ('?</', 1), ('Us', 1), ('wek', 1), ('wimps', 1), ('Mage', 1), ('Lay', 1), ('YnJpdGUuY', 1), ('CzBxvb', 1), ('short_name', 1), (\"').\\r\\n>>>\\r\\n>>> \", 1), ('Shipping', 1), ('\\r\\n>\\r\\n>\\r\\n> ---------- ', 1), ('supervise', 1), ('\\r\\n\\r\\n\\r\\n\\r\\n\\r\\n\\r\\n-- \\r\\n', 1), ('hangout', 1), ('? *\\r\\n>     - ', 1), ('grids', 1), ('.\\n\\n\\n ------ \\n ', 1), ('iOjEzLCJocmVmIjoiaHR', 1), ('Newly', 1), ('52499', 1), (':*\\r\\n>>>>>>>>\\r\\n>>>>>>>> ', 1), ('251', 1), ('CENTER', 1), ('Upcoming', 1), ('4808', 1), ('\\r\\n> ---------- ', 1), ('4094', 1), ('\\r\\n\\r\\n\\r\\n\\r\\n--\\r\\n', 1), ('hulatruck', 1), ('nHikqAQGa', 1), ('TTlQ', 1), ('DzMbmv', 1), ('\\r\\n>>>>>>>>>>>>\\r\\n>>>>>>>>>>>> --\\r\\n>>>>>>>>>>>> ', 1), ('*\\r\\n>>>\\r\\n>>>\\r\\n>>>\\r\\n>>>\\r\\n>>>\\r\\n>>> --\\r\\n>>> ', 1), ('bIW', 1), ('lifestyle', 1), ('>\\r\\n>>>>\\r\\n>>>>\\r\\n>>>> ', 1), ('Defenders', 1), ('sujan', 1), ('zaoKM', 1), ('angeles', 1), ('chrome', 1), ('whistles', 1), ('\\r\\n\\r\\n-----', 1), ('setRows', 1), ('Speakers', 1), ('errands', 1), ('>\\r\\n>>>>      ------------------------------\\r\\n>>>> ', 1), ('JIiwidiI', 1), ('LfheviHxER', 1), ('4024', 1), ('CALnbMkD', 1), ('extraction', 1), ('WJqsioYhpWTa_qTSLT', 1), ('.\\n>>> ', 1), ('conways', 1), ('!\\r\\n>\\r\\n> -', 1), ('placed', 1), ('HqzP_CcuIfuvqXYDNnV', 1), ('... \\r\\n<', 1), (':\\n>>>>>\\n>>>>> ', 1), ('%)*.\\r\\n>>>>\\r\\n>>>> --\\r\\n>>>> ~', 1), ('recognize', 1), ('EAL', 1), ('SELECTS', 1), ('meth', 1), ('...\\r\\n>>>>>>\\r\\n>>>>>> ', 1), ('DAO', 1), ('Yesterday', 1), (\"'...\\r\\n\\r\\n\", 1), ('>\\n\\n\\n\\n\\n<', 1), ('?\\r\\n>>>>>>>>>>>>\\r\\n>>>>>>>>>>>> ', 1), ('JuMnKyT', 1), ('eEtPNnM', 1), ('KGSJnSVp', 1), (' &\\r\\n>>>>>> ', 1), ('.+', 1), ('>\\r\\n>>\\r\\n>>\\r\\n>\\r\\n>\\r\\n> --\\r\\n> ', 1), ('vein', 1), ('KnowledgeCORE', 1), (':\\r\\n>>       ', 1), ('Rapids', 1), ('eok', 1), ('S_ZlYD', 1), ('470', 1), ('477', 1), ('3191', 1), ('searched', 1), ('JtruKFu', 1), ('cqjeaf', 1), ('BWMRVZUlVOaQkEtcS', 1), ('.\\r\\n>>  ', 1), ('MFDVg', 1), ('...\\r\\n>>>>>> ', 1), ('/>\\r\\n>>>>>>>>>\\r\\n>>>>>>>>\\r\\n>>>>>>>>\\r\\n>>>>>>>\\r\\n>>>>>>>\\r\\n>>>>>>> --\\r\\n>>>>>>> ', 1), (',\\r\\n>>>>>>>>>>>>>>>>> ', 1), (':\\n>>>>> (', 1), (':\\r\\n>>>>>>> \\r\\n>>>>>>> ', 1), ('euphemistic', 1), ('prioritized', 1), ('4175', 1), ('\"])\\r\\n\\r\\n-- \\r\\n', 1), ('...) ', 1), ('mVXOqWvTWmePstudRwDYUuieaJ', 1), ('=>,\\r\\n', 1), ('trainings', 1), ('compassion', 1), ('ZcQGqDmtciHriQpZ', 1), ('tagging', 1), ('tickets', 1), ('wiOltcIjFiNjEwZjEwMGY', 1), ('.\\r\\n\\r\\n\\r\\n\\r\\n\\r\\n', 1), ('rOe', 1), ('announced', 1), (':\\r\\n> >>\\r\\n> >> ', 1), ('juliabox', 1), ('phones', 1), ('lEPTnQ', 1), ('guarantees', 1), ('wsRois', 1), ('LSU', 1), ('.\\r\\n>\\r\\n> \\xe2\\x80\\x8b', 1), ('Bigger', 1), ('crunch', 1), ('bi', 1), ('interns', 1), ('richest', 1), ('>)\\r\\n', 1), ('\\r\\n>>>    <= $', 1), ('daughter', 1), ('\\r\\n>>>>>>>>>>>>>>\\r\\n>>>>>>>>>>>>>> --\\r\\n>>>>>>>>>>>>>> ', 1), ('Palantir', 1), ('dcda', 1), ('Integrate', 1), ('.*\\r\\n>\\r\\n> --\\r\\n> ', 1), ('FDigitalMarketing', 1), ('glance', 1), ('TIzuvuSDKi', 1), ('9325', 1), ('plot', 1), ('seriously', 1), ('Stan', 1), ('LoNp', 1), ('xiBzhDnlpO', 1), ('tnY', 1), ('pjAD', 1), ('regrouping', 1), ('interaction', 1), ('TqZJ', 1), ('\"...\\r\\n\\r\\n\\r\\n\\r\\n', 1), ('fAZg', 1), ('tinder', 1), ('elbow', 1), ('\\r\\n>>>>>>>>> \\r\\n>>>>>>>>> ', 1), ('USQeCbUE', 1), ('Virtual', 1), ('552', 1), ('YlYT', 1), ('BFqAvxcdzdywTP', 1), ('ghangouts', 1), (' +\\r\\n>    ', 1), ('>\\r\\n> \\r\\n> \\r\\n> \\r\\n> -- \\r\\n> ', 1), ('XRbk', 1), ('\">\\n<!-- ', 1), ('/>\\r\\n>\\r\\n> <', 1), ('ordinary', 1), ('_cRpB', 1), ('xoqZRInzpZ', 1), ('pizza', 1), ('hYiUcyLmq', 1), ('transforming', 1), ('>\\r\\n>>>>>>>>>>>>>\\r\\n>>>>>>>>>>>>\\r\\n>>>>>>>>>>>>\\r\\n>>>>>>>>>>>>\\r\\n>>>>>>>>>>>> --\\r\\n>>>>>>>>>>>> ', 1), ('meaningful', 1), ('ICJyZS', 1), (' $.', 1), (':*\\r\\n\\r\\n\\r\\n*', 1), (' $ ', 1), ('7202', 1), ('Eym', 1), (',\\n\\n--', 1), ('innovative', 1), ('>\\n\\r\\n', 1), ('iI', 1), ('oncoming', 1), ('highlights', 1), ('denver', 1), ('segway', 1), ('carton', 1), ('3834', 1), ('3831', 1), ('3832', 1), ('3833', 1), ('safe', 1), ('3838', 1), ('3839', 1), ('.\\r\\n>\\r\\n> -- \\r\\n> ~', 1), ('                  ', 1), ('.\\r\\n>>\\r\\n>>\\r\\n>>\\r\\n>>\\r\\n>> --\\r\\n>> ', 1), ('406851253', 1), ('reasonable', 1), ('. :-)\\r\\n\\r\\n', 1), ('observance', 1), ('/>\\r\\n>>>>>>>>>>>>\\r\\n>>>>>>>>>>>\\r\\n>>>>>>>>>>>\\r\\n>>>>>>>>>>>\\r\\n>>>>>>>>>>> --\\r\\n>>>>>>>>>>> ~', 1), (':\\r\\n>>>>>\\r\\n>>>>>    - ', 1), ('ETVbKEJj', 1), ('flock', 1), ('iAcrTKG', 1), ('kbwY_e', 1), ('JWrKq', 1), ('Myth', 1), ('trainers', 1), ('FbCqrvycOpcnb', 1), ('Originally', 1), ('dAV', 1), ('...\\r\\n>\\r\\n> ~~~~~~~~~~~~~~~~~~~~~~~~~~~~~~~~~~~~~~~~~~~~~~~~~~~~~~~~~~~~~~~~~~~~~~~\\r\\n> ~~~~~~~~~~~~~~~~~~~~~~~~~~~~~~~~~~~~~~~~~~~~~~~~~~~~~~~~~~~~~~~~~~~~~~~\\r\\n>\\r\\n> ', 1), ('\\r\\n>>>>>>>>>>> \"', 1), ('+%', 1), ('+/', 1), ('healthitanalytics', 1), ('plummets', 1), ('!\\r\\n>>>>>>>>>>>\\r\\n>>>>>>>>>>> ', 1), ('0664', 1), (\"'?\\r\\n>>>>>\\r\\n>>>>> <\", 1), ('.\\r\\n\\xe2\\x80\\x9c', 1), ('75190', 1), ('NfccMxVV', 1), ('2050', 1), ('Tests', 1), ('ten', 1), ('WZwOJDPKesYzgt', 1), ('; \\r\\n<', 1), ('7986', 1), ('Pike', 1), ('VMk', 1), ('enhancing', 1), ('_fbzacPNf', 1), ('=>\\r\\n\\r\\n\\r\\n---\\r\\n', 1), ('toronto', 1), ('Advisory', 1), ('programs', 1), ('>          \\r\\n\\r\\n\"\"\\r\\n\\r\\n\"\"           \\r\\n\\r\\n\"\"\\r\\n\\r\\n\\r\\n\\r\\n\\r\\n', 1), ('\\r\\n>>>>>>>>>>  \\r\\n>>>>>>>>>> \\r\\n>>>>>>>> \\r\\n>>>>>>>> \\r\\n>>>>>>>> \\r\\n>>>>>>>> -- \\r\\n>>>>>>>> ', 1), ('JjwqNiMH', 1), ('TUG', 1), ('FTWe', 1), ('angularjs', 1), ('nba', 1), ('ponder', 1), ('realm', 1), ('ypu', 1), (')....\\r\\n\\r\\n', 1), ('indexes', 1), ('\\r\\n>>\\r\\n>> > ', 1), ('Vs', 1), ('.\\n\\n\\xc2\\xa0 \\n', 1), ('FXuvRwgE', 1), ('Qq', 1), ('Frozen', 1), ('Button', 1), ('circled', 1), ('alumni', 1), ('yours', 1), ('boyfriends', 1), ('?\\r\\n>>>>>>> ', 1), ('6961', 1), ('6960', 1), ('6963', 1), ('6962', 1), ('6965', 1), ('Monitor', 1), ('6967', 1), ('6966', 1), ('6968', 1), ('PAL', 1), ('enjoyed', 1), ('FMKGihDqTIKJ', 1), ('\\r\\n\\r\\n\\xc2\\xa0', 1), ('ZRGFboRkzmf', 1), ('Monetization', 1), ('\\r\\n>>>>>>>>>>\\r\\n>>>>>>>>>>\\r\\n>>>>>>>>>>\\r\\n>>>>>>>>>>\\r\\n>>>>>>>>>> ', 1), ('WMkrB', 1), ('Level', 1), (' ----------\\r\\n>>>>> ', 1), ('dx', 1), ('dr', 1), ('dN', 1), ('Chulily', 1), ('\\r\\n>>\\r\\n>>\\r\\n>>\\r\\n>\\r\\n> --\\r\\n> *', 1), ('.\\r\\n\\r\\n----\\r\\n\\r\\n', 1), ('LuneqiRXrNDHucrBqpMERZo', 1), ('.\\r\\n\\r\\n  -', 1), ('419', 1), ('dP', 1), ('erroneous', 1), ('Networking', 1), ('projections', 1), ('rotates', 1), ('12218759', 1), ('28777', 1), ('sZMEdqobXoJJA', 1), ('wf', 1), ('rRC', 1), ('handful', 1), ('lNK', 1), ('kitchen', 1), ('.\\xc2\\xa0\\r\\n\\r\\n\\xe2\\x80\\x94\\r\\n', 1), ('exceeds', 1), ('Spotify', 1), ('\\r\\n>>>          <', 1), ('\\r\\n>>>>> (', 1), ('mkzUOfs', 1), ('\\r\\n>>>>>  ', 1), ('?\\r\\n\\r\\n\\r\\n-- \\r\\n~', 1), (':\\r\\n>>>>\\r\\n>>>>> + ', 1), ('yQXPM', 1), ('\\r\\n>>>> $', 1), ('\\r\\n>>>>  ', 1), ('hlSFJ', 1), ('\\r\\n>>>> \"', 1), (',\\r\\n>>>>>>    ', 1), ('glace', 1), ('Mamaroneck', 1), ('smartwatch', 1), ('voeZ', 1), ('Starred', 1), ('rQUZ', 1), ('TvQEuNOK', 1), ('CvMvyotiv', 1), ('Absolutely', 1), ('_c', 1), ('mistake', 1), ('Jcv', 1), ('exceptionally', 1), ('\\r\\n> \\r\\n> \\r\\n> \\r\\n> \\r\\n> -- \\r\\n> ', 1), ('skipping', 1), ('Falling', 1), ('Row', 1), (':*\\r\\n>>>>>>\\r\\n>>>>>> ', 1), ('perform', 1), ('\\r\\n\\r\\n\\x95 ', 1), ('\\n>>>\\n>>>\\n>>>> ', 1), ('pQun_Max_Shneider_SQUARE_small', 1), ('_So', 1), ('evil', 1), ('.\\r\\n>\\r\\n>\\r\\n> --\\r\\n> ', 1), ('prescribed', 1), ('kept', 1), ('1600', 1), ('humble', 1), ('c_ZfA', 1), ('XJJFxkxNIfLK', 1), ('prescribes', 1), ('.\\r\\n\\r\\n \\r\\n', 1), ('4003', 1), ('Conclusions', 1), ('repost', 1), ('mqxRucUFQPpIvDXbqJMrXC', 1), ('josh', 1), ('WUtZw', 1), ('spread', 1), ('AGENDA', 1), ('emphasis', 1), ('insensitive', 1), ('tqMTzNVBaG', 1), ('lcy', 1), ('fusion', 1), ('qJxwZ', 1), ('?\\r\\n>>>>\\r\\n>>>>\\r\\n>>>> ', 1), ('precise', 1), ('knetik', 1), ('XhlysKlq', 1), ('qxq', 1), ('_gross_cost_converted', 1), ('octohubapp', 1), ('ARURkRfyPtBb', 1), ('>\\r\\n\\r\\n\"\"\\r\\n\\r\\n\"\" <', 1), ('UWVecJU', 1), ('forms_pdfs', 1), ('PT_E', 1), ('rAeEC', 1), ('.\\r\\n>>>>>>> \\r\\n>>>>>>> \\r\\n>>>>>>> \\r\\n>>>>>>> ', 1), ('disappears', 1), ('emoji', 1), ('3813', 1), ('slackbot', 1), ('1394023', 1), ('Propagation', 1), ('>\\r\\n>\\r\\n> <', 1), ('obh', 1), ('XQpWqkRIguP', 1), ('__gXvfDbfQst', 1), ('EUINyGvN', 1), ('!*\\r\\n\\r\\n', 1), ('/>\\r\\n>>>>>>>>\\r\\n>>>>>>>\\r\\n>>>>>>\\r\\n>>>>>>\\r\\n>>>>>> --\\r\\n>>>>>> ', 1), ('EuroBistros', 1), ('Bvi', 1), ('Mode', 1), ('Cantina', 1), ('profession', 1), ('gearing', 1), ('GnIB', 1), ('YQZ', 1), ('UohxRmTLT', 1), (\"'.\\r\\n>>>>\\r\\n>>>> \", 1), ('CuT', 1), ('PzHPyO', 1), ('/>\\r\\n>>>>>>>>>>>>>>>\\r\\n>>>>>>>>>>>>>>\\r\\n>>>>>>>>>>>>>\\r\\n>>>>>>>>>>>>>\\r\\n>>>>>>>>>>>>> --\\r\\n>>>>>>>>>>>>> ', 1), ('Canyons', 1), ('YQu', 1), ('!!\\r\\n>\\r\\n> ', 1), ('0461', 1), (' -\\xc2\\xa0', 1), ('...\"\\r\\n>\\r\\n>\\r\\n>\\r\\n>\\r\\n> -- \\r\\n> ~', 1), (';\\r\\n ', 1), ('throw', 1), ('rejuvenation', 1), ('consultants', 1), ('?\\r\\n\\r\\n-- \\r\\n', 1), ('\\r\\n>>>>>>>>> * ', 1), ('gkXx', 1), ('.\\r\\n>>     ', 1), ('MTkxYjJhMjJkMDU', 1), ('\"\\r\\n>>>>>>> ', 1), ('Tremendous', 1), ('Extole', 1), ('NUMBER', 1), ('TisM', 1), (',\\n>> ', 1), ('\\r\\n>>          <', 1), ('Wxkz', 1), ('Riteaid', 1), ('Npz', 1), ('HGstVMqO', 1), ('Smothered', 1), ('shrink', 1), ('rUbhKLPD', 1), ('3043564', 1), ('!\\r\\n\\r\\n -- ', 1), ('Mjc', 1), ('Massive', 1), ('Fself', 1), (',\\r\\n> --\\r\\n> ', 1), ('MjE', 1), ('modules', 1), ('Principles', 1), ('fTaBI', 1), ('FLigL', 1), (' ,\\r\\n', 1), ('20445', 1), ('Safe', 1), ('\\r\\n>>>>>\\r\\n>>>>>\\r\\n>>>>>\\r\\n>>>>>\\r\\n>>>>>\\r\\n>>>>>\\r\\n>>>>>\\r\\n>>>>> *', 1), ('global', 1), ('sUw', 1), ('WEENIE', 1), ('wonkblog', 1), ('SzgdOaiJBj', 1), (' (~', 1), ('Hwdbf', 1), ('hbr', 1), (':\\r\\n>> \\r\\n>> ', 1), ('OOszcfhkyn', 1), ('southwest', 1), ('division', 1), ('BOxC_qw', 1), ('QvovV', 1), ('explanatory', 1), ('szoDsWwvPIx', 1), ('. . \\n\\n', 1), ('/>\\r\\n>>>>>>>>>>>\\r\\n>>>>>>>>>>\\r\\n>>>>>>>>>\\r\\n>>>>>>>>>\\r\\n>>>>>>>>> --\\r\\n>>>>>>>>> ', 1), ('?\\r\\n>> \\r\\n>> \\r\\n>> ', 1), ('Fvz', 1), ('Finding', 1), ('VcrV', 1), ('PEPM', 1), ('shares', 1), ('Along', 1), ('\\r\\n>> *\"', 1), ('xMEtfc', 1), ('Hopsin', 1), ('zenamins', 1), ('iEnUCRnzap', 1), ('! \\r\\n\\r\\n\\r\\n', 1), ('JXVS', 1), ('ISdV', 1), ('.\\r\\n\\r\\n*\"', 1), ('Gnocchi', 1), (':\\r\\n> [', 1), ('regardless', 1), ('.\\r\\n\\r\\n  ', 1), ('Different', 1), ('bfnJLRH', 1), ('11346', 1), ('NLAMmuhKRMTDi', 1), ('ZahefKiHOUdww', 1), ('jan', 1), ('>\\r\\n\\r\\n-- \\r\\n', 1), ('\\xe2\\x80\\xa6\\r\\n\\r\\n ', 1), (':*\\r\\n>>>\\r\\n>>> ', 1), ('matthewherper', 1), ('...\\r\\n\\r\\n \\r\\n', 1), ('!!\\r\\n> ', 1), ('YzBkamhjbWVjbTExanQxNGNfMjAxNTAyMDJUMjEzMDAwWiBhbmRyZXcuY', 1), ('graphic', 1), ('cac', 1), ('uyZ', 1), ('petabytes', 1), ('aeQ', 1), ('12330240', 1), ('expanding', 1), (',\\n', 1), (').\\r\\n>>>>>  $', 1), (' =>\\r\\n>>>    ', 1), ('phrase', 1), ('oiidnVYdTDykfXJYK', 1), ('Walter', 1), (\",'\", 1), ('fluticasone', 1), ('jMcQJsvsjP', 1), ('Lunch', 1), ('Gain', 1), ('tjnX', 1), ('Always', 1), ('axFRMzlTdh', 1), ('>\\r\\n> >\\r\\n> > --\\r\\n> > ~', 1), ('?&', 1), ('heroes', 1), ('lQtgX', 1), ('lifting', 1), ('NjRlZjAzNjJkZDA', 1), ('TWibNbB', 1), ('qBC', 1), ('explicit', 1), ('value_us', 1), ('kickstarter', 1), ('McKinney', 1), ('brucejapsen', 1), ('Rp', 1), (';\\r\\n\\r\\n\\r\\n\\r\\n\\r\\n\\r\\n', 1), ('toward', 1), ('Rf', 1), ('ProductOffice', 1), ('1832', 1), ('Transactions', 1), ('TUESDAY', 1), ('>\\r\\n\"', 1), ('\\r\\n>>>>>> \\r\\n>>>>>> \\r\\n>>>>>> \\r\\n>>>>>> -- \\r\\n>>>>>> ~', 1), ('bhFJY', 1), (':&#', 1), ('correspondence', 1), (':\\r\\n>\\r\\n> *', 1), ('Looker', 1), ('Rating', 1), ('xQ', 1), ('introduce', 1), ('Looked', 1), ('>\\r\\n[', 1), ('slacks', 1), ('Parse', 1), ('XvqECAqGZzva', 1), ('kerb', 1), ('Infinit', 1), ('fired', 1), ('EUHtp', 1), ('Museum', 1), ('Expected', 1), ('ubiquitous', 1), ('GcE', 1), ('eH', 1), ('OWExaVpnb', 1), ('eX', 1), ('243528', 1), ('DbN', 1), ('kYXRhLXRpY', 1), ('dependencies', 1), ('rlz', 1), ('obligation', 1), ('rationales', 1), ('Videos', 1), ('transition', 1), ('forecast', 1), ('>\\r\\n>>>      ------------------------------\\r\\n>>> ', 1), ('lindsey', 1), (' (.', 1), ('OksX', 1), ('Even', 1), ('621', 1), ('VRGm', 1), ('8293', 1), ('Medications', 1), (':\\r\\n>>>>>>>>>>\\r\\n>>>>>>>>>> ', 1), ('xJ', 1), ('caught', 1), ('xF', 1), ('xG', 1), ('xD', 1), ('wordpress', 1), ('xV', 1), ('heartburn', 1), ('...\\r\\n>>>>\\r\\n>>>> ... ', 1), ('mostly', 1), ('ONmhlMAw', 1), ('eliminated', 1), ('UeOTO', 1), ('\\r\\n>>>  \\r\\n>>> \\r\\n> \\r\\n> \\r\\n> \\r\\n> -- \\r\\n> ', 1), ('MWwUvGj', 1), ('\\r\\n\\xc2\\xa0\\r\\n\\r\\n', 1), ('Conferences', 1), ('Btg', 1), ('accessed', 1), ('19841235', 1), (' *\\r\\n>       ', 1), ('Therapeutics', 1), ('9654', 1), ('correction', 1), ('Philadelphia', 1), ('TRIAL', 1), ('audits', 1), ('SFpzMqZ', 1), ('XCDO', 1), ('objective', 1), ('>\\r\\n>>>\\r\\n>>>\\r\\n>>> ', 1), ('sprayable', 1), ('Likes', 1), ('Off', 1), ('Package', 1), ('Mellon', 1), ('america', 1), ('NcIl', 1), ('lNIiwidiI', 1), ('Uct', 1), ('steady', 1), ('BzxaJdqm', 1), ('lRoojXyCfesJI', 1), ('Trending', 1), ('3494', 1), ('/>\\r\\n>>>>>\\r\\n>>>>>\\r\\n>>>>\\r\\n>>>\\r\\n>>>\\r\\n>>> --\\r\\n>>> ', 1), ('/>\\r\\n>>>>>>>>>>>>\\r\\n>>>>>>>>>>>\\r\\n>>>>>>>>>>>\\r\\n>>>>>>>>>>\\r\\n>>>>>>>>>>\\r\\n>>>>>>>>>> --\\r\\n>>>>>>>>>> ', 1), ('?\\r\\n>>          ', 1), ('teamed', 1), (':*\\r\\n>>> . ', 1), ('ZmVmMWU', 1), ('QVIEW', 1), ('\\r\\n>>>>> * ', 1), ('UPCOMING', 1), ('ZoW', 1), ('truly', 1), ('pFXQPx', 1), ('/> ', 1), ('MhD', 1), ('nopAl', 1), ('767462', 1), ('BPMzgXWzvtdmo', 1), ('PROPERLY', 1), ('losers', 1), (\"'.\\r\\n>>>>>\\r\\n>>>>> \", 1), ('EMP', 1), ('!\\r\\n>\\r\\n> ~', 1), ('=>\\r\\n   - ', 1), ('LIwPAY', 1), ('OCSvU', 1), ('\\x94.\\r\\n\\r\\n', 1), ('therapies', 1), ('travels', 1), ('Tavern', 1), ('dXBZL', 1), ('eurobistrospage', 1), ('MEeXc', 1), ('installation', 1), ('LYwMSWea', 1), ('Give', 1), ('Primary', 1), ('Hyclate', 1), ('groupby', 1), ('comes', 1), ('WyBm', 1), ('Interested', 1), ('Known', 1), ('Beth', 1), ('/>\\r\\n>>>>>>>>>>>\\r\\n>>>>>>>>>>\\r\\n>>>>>>>>>>\\r\\n>>>>>>>>>\\r\\n>>>>>>>>>\\r\\n>>>>>>>>> --\\r\\n>>>>>>>>> ', 1), ('.* ', 1), ('.\\r\\n>>>>>>>\\r\\n>>>>>>> -', 1), ('ZPghYP', 1), ('.\\r\\n>>>>>>>\\r\\n>>>>>>> *', 1), ('>\\r\\n>>          ', 1), ('JMhZlQdwUfg', 1), ('PowerPoint', 1), ('JerseyMikesOrder', 1), ('ifDYpyokZJbGgWaUiasqAjJbDPpRvrH', 1), ('Weenies', 1), ('ramp', 1), ('.)\\r\\n<', 1), ('.\\r\\n>>\\r\\n>>\\r\\n>> --\\r\\n>> ~', 1), ('Bz', 1), ('scientificamerican', 1), ('Enables', 1), ('. :)\\r\\n', 1), ('CornerstoneBenchmark', 1), (' =>\\r\\n>    ', 1), ('tla', 1), ('Repo', 1), ('extravaganza', 1), ('.\\r\\n>>>>>>> \\r\\n>>>>>>> \\r\\n>>>>>>>> ', 1), ('SDR', 1), ('charges', 1), ('toobler', 1), ('breeze', 1), ('.\\r\\n>>>>\\r\\n>>>>    ', 1), ('ccc', 1), ('charged', 1), ('taxi', 1), ('interpret', 1), ('escitalopram', 1), ('/\\r\\n>\\r\\n> -- \\r\\n> ', 1), ('EPY', 1), ('bottlenecks', 1), ('foot', 1), ('_cDdWv', 1), ('98714', 1), ('...\\r\\n>>\\r\\n>>\\r\\n>>\\r\\n>> ', 1), ('jqBiozCtIBvnRG', 1), ('!\\n> \\n> ', 1), ('tYnwbSt', 1), ('?\\r\\n>>>>>>>>> ', 1), ('CID_b', 1), ('Press', 1), ('cg', 1), ('Tour', 1), ('ce', 1), (' <\\r\\n>>>>>>>>> ', 1), ('==>\\r\\n   - ', 1), ('\\r\\n>>>\\r\\n>>> *', 1), ('freefill', 1), ('amE', 1), ('\\r\\n>>>\\r\\n>>>  ', 1), ('*\\r\\n>>>\\r\\n>>> ', 1), ('ivSXiX', 1), (\"'...\\r\\n> \\r\\n> \", 1), ('2500', 1), ('ACsprvto', 1), ('uppercase', 1), ('IoT', 1), (' <\\r\\n>>>>>>>>>>>>>>>> ', 1), ('ClnlMfxJm', 1), ('bigger', 1), ('aipsWtiFORPicu_vx', 1), ('fZneBVz', 1), ('Klamka', 1), ('iLbRz', 1), ('.*\\r\\n>>>>\\r\\n>>>> ', 1), ('!\\r\\n>>>>> \\r\\n>>>>> ', 1), ('**\\r\\n>\\r\\n>  *', 1), ('dealership', 1), ('ldc', 1), ('/>\\r\\n>>>>>>>\\r\\n>>>>>>\\r\\n>>>>>>\\r\\n>>>>>\\r\\n>>>>\\r\\n>>>\\r\\n>>\\r\\n>>\\r\\n>> --\\r\\n>> ', 1), ('\\r\\n$', 1), ('nWqu', 1), ('TNtpH', 1), ('jZSpu', 1), ('yDnmArd', 1), ('kVytryoG', 1), ('firephone', 1), ('hiatus', 1), ('KtDlkH', 1), ('33364', 1), ('Ads', 1), ('Ratings', 1), ('vIvXMJstqRMiVvJau', 1), ('snooze', 1), ('splyt', 1), ('involvement', 1), ('thehumansolution', 1), (' +\\r\\n>> ', 1), ('. | ', 1), (' *~', 1), ('prepare', 1), ('Hotel', 1), ('.\\r\\n>>>>>>>>>\\r\\n>>>>>>>>> --\\r\\n>>>>>>>>> ~', 1), ('woxJXKdBm', 1), ('clifbar', 1), ('nMTFya', 1), ('>\\r\\n>>      ------------------------------\\r\\n>> ', 1), ('delayed', 1), ('cQ', 1), ('oHi', 1), ('Platform', 1), ('bucket', 1), ('hSw', 1), ('gibberish', 1), ('605', 1), ('607', 1), ('3952291305', 1), ('219324188', 1), ('moves', 1), ('468', 1), ('TrieFeDBTHhOnWE', 1), ('lDcKFkdv', 1), ('Purpose', 1), ('YwsHBtplm_hHnODR', 1), ('Country', 1), ('%.  ', 1), ('QzV', 1), ('pGtwaRAOO', 1), ('DoorDash', 1), ('Addressed', 1), ('profits', 1), ('stauZS', 1), ('\"):\\r\\n\\r\\n', 1), ('?\\r\\n----------\\r\\n\\r\\n', 1), ('\\r\\n>>>>>\\r\\n>>>>>\\r\\n>>>>> ', 1), ('plots', 1), ('Unknown', 1), ('/>\\r\\n>>>>\\r\\n>>>>\\r\\n>>>>\\r\\n>>>> --\\r\\n>>>> ', 1), ('thoughtful', 1), ('\" <\\r\\n>>>>>>>> ', 1), ('Tutorials', 1), ('JCHZrXU_MtyUTyvI_', 1), ('ReactiveX', 1), ('4145', 1), ('/\\r\\n>>>    ', 1), ('Mashable', 1), ('3854', 1), ('6956', 1), ('nodes', 1), ('/>\\r\\n>>>>>>>>>>>>>>>\\r\\n>>>>>>>>>>>>>>\\r\\n>>>>>>>>>>>>>>\\r\\n>>>>>>>>>>>>>>\\r\\n>>>>>>>>>>>>>> --\\r\\n>>>>>>>>>>>>>> ', 1), ('3859', 1), ('activated', 1), ('nbviewer', 1), ('XYb', 1), ('...\\r\\n\\r\\n... ', 1), ('BkIQm', 1), ('Salt', 1), ('securely', 1), ('cP', 1), ('MKW', 1), ('UqElO', 1), ('-+', 1), ('11269575', 1), ('Breakfast', 1), ('d_a', 1), ('xlOGa', 1), ('vTXHZZZmNY', 1), ('snippets', 1), ('LUtaX', 1), ('\\xc2\\xae ', 1), ('investing', 1), ('NudgeSpot', 1), ('==>.\\r\\n', 1), ('12458068', 1), ('tfmH', 1), ('elqc', 1), ('. \\n\\n', 1), ('PhKbhg', 1), ('YTQ', 1), ('canbe', 1), ('amount', 1), ('->\\r\\n  /  ', 1), ('Joao', 1), ('fUyEh', 1), ('HGIOI', 1), ('spawned', 1), ('Interpret', 1), (')\\r\\n>\\r\\n>\\r\\n>\\r\\n>\\r\\n>     -- \\r\\n>     ', 1), ('DCVC', 1), ('Backyard', 1), ('Zombie', 1), ('\\xc3\\xa9 ', 1), ('Leskovec', 1), ('Sq', 1), ('ODNiMWQwNjdiXCJdfSJ', 1), ('hurry', 1), ('24011', 1), ('ST', 1), ('SJ', 1), ('nine', 1), ('SB', 1), ('SA', 1), ('receptionist', 1), ('741', 1), ('744', 1), ('IBM', 1), ('BGLIe', 1), ('SGraph', 1), ('lqEmSQkplus', 1), (' <=\\r\\n   $', 1), ('menus', 1), ('=\"\" /></', 1), ('fs', 1), (',\\r\\n>>>>>>>>>>>>> ', 1), (':*\\r\\n>>\\r\\n>> ', 1), ('derived', 1), ('heLODVqU', 1), ('fa', 1), ('ff', 1), ('fh', 1), ('Return', 1), ('rPYQyBq', 1), ('Garden', 1), ('nFD', 1), ('fU', 1), ('FSpVVk', 1), ('3111', 1), ('mk', 1), (' - *', 1), ('dream', 1), ('JhljWWJzWmdnZWl', 1), ('hendrix', 1), ('lzdGVyLXNxbC', 1), ('/>.\\r\\n>\\r\\n> ', 1), ('>            \\r\\n\\r\\n<#>\\r\\n\\r\\n\"', 1), ('founders', 1), ('*... ', 1), ('cee', 1), ('rxcui', 1), ('*.\\r\\n>\\r\\n> --\\r\\n> ~', 1), ('tSzrvpQ', 1), ('vX', 1), ('subtask', 1), ('Worries', 1), ('yw', 1), ('develops', 1), ('UIbn', 1), ('capability', 1), ('\\r\\n>  <', 1), ('trailer', 1), ('/>\\r\\n>>>\\r\\n>>>\\r\\n>>>\\r\\n>>> --\\r\\n>>> ', 1), ('Organized', 1), ('positioned', 1), ('NwJRWI_oeYpnki', 1), ('melatonin', 1), ('humanscale', 1), ('issuu', 1), ('*\\r\\n\\r\\n*', 1), ('ecommerce', 1), ('cT', 1), ('usatoday', 1), ('dirt', 1), ('Natero', 1), ('Yearerday', 1), ('terrible', 1), ('Bros', 1), ('american', 1), ('interwoven', 1), ('apocalypse', 1), ('reflected', 1), ('Maps', 1), ('ZGVhNWFjYjFkOGViYTM', 1), ('YDYLj', 1), ('irvkjwasbxh', 1), ('findings', 1), ('Checklist', 1), ('LOCATIONS', 1), ('IUcHVe', 1), ('PYKd', 1), ('overlaying', 1), ('NPR', 1), ('levothyroxine', 1), ('TfMTGcPHsgDAK', 1), ('Newer', 1), ('\\xc2\\xa0\\n\\n\\n> ', 1), ('JIaunyziuWrjzKLntbn_DNzw', 1), ('\\r\\n>>>>\\r\\n>>>>\\r\\n>>>\\r\\n>>>\\r\\n>>\\r\\n>\\r\\n>\\r\\n> --\\r\\n> ~', 1), ('04011462', 1), ('_Il', 1), ('jordan', 1), ('Venture', 1), ('Parkway', 1), ('qUIt', 1), ('grew', 1), ('pjYO', 1), ('882', 1), ('/>\\r\\n>>>>>>>>>>>\\r\\n>>>>>>>>>>\\r\\n>>>>>>>>>>\\r\\n>>>>>>>>>>\\r\\n>>>>>>>>>> --\\r\\n>>>>>>>>>> ~', 1), ('.\" ~', 1), ('888', 1), ('Current', 1), ('High', 1), ('Got', 1), ('concentration', 1), ('ywft', 1), ('/>.\\r\\n>>>\\r\\n>>> ', 1), ('EFye', 1), ('officers', 1), ('! \\xc2\\xbb <', 1), ('checklist', 1), ('!\\r\\n\\r\\n\\xc2\\xa0\\r\\n\\r\\n', 1), ('.)\\r\\n>>>>    - ', 1), ('PopcornPremiere', 1), ('Feedly', 1), ('educate', 1), ('NuS', 1), ('Called', 1), ('LGsFnbiYAFMrqIH', 1), ('hKlaMwF', 1), ('IVaUR', 1), ('666', 1), ('KhABm', 1), ('1266', 1), ('impressively', 1), ('translation', 1), (']: ', 1), ('roaddogs', 1), ('.*\\r\\n>>>>>>>\\r\\n>>>>>>> ', 1), ('NuC', 1), ('ceo_funded_', 1), ('UIpax', 1), ('528668', 1), ('eZJoIHP', 1), ('upHzLcMfO', 1), ('\" <\\r\\n>>>>>>>>>>>>>> ', 1), ('stg', 1), ('\\r\\n\"@\" ', 1), ('querying', 1), ('!\"\\r\\n\\r\\n\\r\\n-', 1), (')\\r\\n>>>>>>>>>>>>>>>> <', 1), ('DIQpN_ObB', 1), ('Mg', 1), ('JhljaWhwWFJBLVBtM', 1), ('Vmdjc', 1), ('CRMK', 1), ('weY', 1), ('pictures', 1), ('NGJS', 1), ('VIDEO', 1), ('yxAvPciY', 1), ('hdGVyby', 1), ('nckLPkuiqtKSX', 1), ('spray', 1), ('\\r\\n\\r\\n \\r\\n \\xc2\\xa9 ', 1), ('\\r\\n>>>>>>>>>>>> \"', 1), ('/ ).\\r\\n\\r\\n', 1), ('IVmAOQQ', 1), ('BHltHMy', 1), ('.\\r\\n>>>\\r\\n>>>\\r\\n>>> --\\r\\n>>> ', 1), (' &\\r\\n', 1), ('. \\xe2\\x80\\x8b\\r\\n', 1), ('\\r\\n>>>>>>>>>>>\\r\\n>>>>>>>>>>> --\\r\\n>>>>>>>>>>> ', 1), (';: ', 1), ('headed', 1), ('Discussion', 1), ('3041905', 1), ('PMaMRt', 1), ('header', 1), ('Way', 1), ('887', 1), ('oqoITS_J', 1), ('svT', 1), ('hDEVO', 1), ('storytelling', 1), ('EYHo', 1), ('maintenance', 1), ('imports', 1), ('Econsultancy', 1), ('hbR', 1), ('0000', 1), ('eRlDpIdmmyKKHWqpggTTo', 1), ('NVEzRhf', 1), ('dialing', 1), ('YjhjM', 1), (']\\r\\n>>>>>>> <', 1), ('Done', 1), ('smart', 1), ('herein', 1), ('==>\\r\\n.\\r\\n\\r\\n\\r\\n*', 1), ('NLtMN', 1), ('MU', 1), ('anymore', 1), ('RCu', 1), ('belong', 1), ('MW', 1), ('EyOCtCt', 1), (').\\r\\n\\r\\n  ', 1), ('wvDq', 1), ('bonus', 1), ('SecureDataRecovery', 1), ('pZM', 1), ('001', 1), ('\\r\\n  \\r\\n', 1), ('NxdWFyZWQvIn', 1), ('iOjEwLCJocmVmIjoiaHR', 1), (':\\r\\n>>\\r\\n>>>\\r\\n>>> ', 1), ('synopsis', 1), ('gdn_remarketing', 1), ('hEtZE', 1), ('WOOcHBTLTw', 1), ('MIDS', 1), ('769', 1), ('RichMironov', 1), ('gUqp', 1), ('reviewed', 1), ('Yvh', 1), ('databoys', 1), ('projectId', 1), ('zUVyM', 1), ('>\\r\\n>>>\\r\\n>>>\\r\\n>>>\\r\\n>>> ---------- ', 1), ('Spouse', 1), ('4336', 1), ('4333', 1), ('rebranding', 1), ('Solodyn', 1), ('\\r\\n\\r\\n\\r\\n*', 1), ('KIArRdhNQLZaPJ', 1), ('iOow', 1), ('.\\r\\n>>>\\r\\n>>> -', 1), ('Accessibility', 1), ('Beings', 1), ('Rising', 1), ('mathematical', 1), ('mCpWh', 1), ('\\r\\n>>>>>>> \\r\\n>>>>>>>> ', 1), ('datalab', 1), ('vMh', 1), ('prioritization', 1), ('_________________________________________________________________________________________', 1), ('\\r\\n>>>         [', 1), ('Finish', 1), ('describing', 1), ('AMA', 1), ('cENw', 1), ('gross_cost', 1), ('O_bhpIKegdpjpaOQXlBKMunBscYYTTftqQxoTf', 1), ('ALoCoQlEVD', 1), (')]\\r\\n> ', 1), ('JTgs_TIm', 1), ('Anv_', 1), ('rug', 1), ('Strategies', 1), ('DMkzPK', 1), ('AMPLab', 1), ('tracing', 1), ('impacting', 1), ('.\\r\\n>>>>>>>\\r\\n>>>>>>> --\\r\\n>>>>>>> ~', 1), ('woo_campaign', 1), ('1422341207361', 1), ('reworked', 1), ('statistics', 1), ('.-', 1), ('),\\r\\n>>>> ', 1), ('placing', 1), ('.&', 1), ('0581', 1), (':\\r\\n>>>\\r\\n>>>>\\r\\n>>>> ---------- ', 1), ('withholding', 1), ('fdG', 1), ('RICHMAN', 1), ('intuitive', 1), ('KOhvbAnoO', 1), ('sifting', 1), ('foresight', 1), ('>.\\r\\n', 1), ('>\\r\\n>> .\\r\\n>>\\r\\n>> ', 1), ('\\r\\n\\r\\n\\r\\n\\r\\n\\r\\n\\r\\n\\r\\n\\r\\n\\r\\n\\r\\n\\r\\n\\r\\n-- \\r\\n\\r\\n', 1), (': &', 1), ('Th', 1), ('.\\r\\n>>>>>\\r\\n>>>>> -', 1), ('FSitecoreDigitalExp', 1), ('qliktech', 1), ('polygon', 1), ('TX', 1), ('247101105077031202', 1), ('>\\r\\n> \\xe2\\x80\\x93 ', 1), ('TE', 1), ('\\r\\n>>    \"', 1), ('AG', 1), ('AJ', 1), ('AL', 1), ('visits', 1), ('AS', 1), ('AR', 1), (':\\r\\n>>>>>> <', 1), ('AZ', 1), ('UzS', 1), ('FPopcornPremiere', 1), ('ending', 1), ('physics', 1), ('!*\\r\\n>\\r\\n> ', 1), ('.\\n>>\\n>> ------\\n>> ', 1), ('619756', 1), ('Perfect', 1), ('gg', 1), ('desserts', 1), ('proposition', 1), ('gk', 1), ('OuP', 1), ('gQ', 1), ('campfirenow', 1), ('pulldown', 1), ('CTqCe', 1), ('! :) ', 1), ('passion', 1), (' . ', 1), ('rtk', 1), ('underscore', 1), ('telling', 1), ('Investors', 1), ('deleting', 1), ('picker', 1), ('zj', 1), ('.\\r\\n>>>>>>>>\\r\\n>>>>>>>> --\\r\\n>>>>>>>> ~', 1), ('ookN', 1), ('zu', 1), ('KBOfdUIBHS', 1), ('Rll', 1), ('descriptor', 1), ('Girish', 1), ('GrowthHackers', 1), ('cell', 1), ('udacity', 1), ('experiment', 1), ('zX', 1), ('Slo', 1), ('zP', 1), ('zR', 1), ('fVtK', 1), ('\\r\\n>>>>>  \\r\\n>>>>> \\r\\n>>>> \\r\\n>>>> \\r\\n>>>> \\r\\n>>>> -- \\r\\n>>>> ~', 1), ('Locked', 1), ('Created', 1), ('uuQD', 1), ('Pipelines', 1), ('Palace', 1), ('oTDsH_nmN', 1), ('mix', 1), ('crap', 1), ('proactive', 1), ('Rnz', 1), ('_nq', 1), ('Androgel', 1), ('Membership', 1), ('OHlchMqk', 1), ('3896', 1), ('>\\r\\n\\r\\n\"\"           \\r\\n\\r\\n\"\"            \\r\\n\\r\\n', 1), ('qdibW', 1), (',\\r\\n>>>>>  ', 1), ('Sljj', 1), ('wlwH', 1), ('darwin', 1), ('kEr', 1), ('.)\\r\\n>>>>>>    - ', 1), ('zYDBceEJhqyQJxPr', 1), ('3733440', 1), ('56711', 1), ('atorvastatin', 1), ('=>,\\r\\n> ', 1), ('insourced', 1), ('triangle', 1), ('yXNAmdFU', 1), ('defective', 1), ('marketingland', 1), ('WcZ', 1), ('LzhydXDfw', 1), ('BiKT', 1), (') \\r\\n> ', 1), ('cIPbDiSo', 1), ('36030', 1), ('? \\xc2\\xa0', 1), (': \\r\\n\\r\\n', 1), ('Disaster', 1), (' =>\\r\\n>>    ', 1), ('executives', 1), (').\\r\\n>\\r\\n> *', 1), ('Recommendations', 1), ('_MkdH', 1), ('LQNb', 1), ('Recently', 1), ('.*\\r\\n>>>>>>\\r\\n>>>>>> ', 1), ('CATYtAb', 1), ('ROAD', 1), ('/>\\r\\n>>\\r\\n>\\r\\n>\\r\\n\\r\\n\\r\\n-- \\r\\n', 1), (' ->\\r\\n>>>>> ', 1), ('documented', 1), ('handy', 1), (':\\r\\n>>>>>>         ', 1), ('Loaded', 1), ('ebooks', 1), ('\\r\\n\\r\\n\\r\\n\\r\\n\\r\\n\\r\\n-- \\r\\n\\r\\n', 1), ('inputs', 1), ('pVPS', 1), ('mar', 1), ('NTdhZWNmYjExZDkxNThkNTRhNDVjZjYyYWNcIl', 1), ('Rosuvastatin', 1), ('secretly', 1), ('Kanban', 1), ('Selecting', 1), ('GvUMTs', 1), ('QYusAU', 1), ('thriving', 1), ('Sendwithus', 1), ('FEMeRmQH', 1), ('/>\\r\\n>>>>>>>>>>\\r\\n>>>>>>>>>\\r\\n>>>>>>>>>\\r\\n>>>>>>>>\\r\\n>>>>>>>\\r\\n>>>>>>\\r\\n>>>>>\\r\\n>>>>>\\r\\n>>>>> --\\r\\n>>>>> ', 1), ('.\\r\\n\\r\\n\\r\\n\\r\\n\\r\\n-- \\r\\n', 1), ('LmV', 1), ('elastic', 1), ('Nadac', 1), ('keen', 1), ('xmEh', 1), ('gGTfHxvQjtHWsCOGBKaZ', 1), ('austin', 1), ('subscription_center', 1), ('consciously', 1), ('Managing', 1), ('powerful', 1), ('WORLD', 1), (',\\r\\n>>>    ', 1), ('Become', 1), ('CTEXT', 1), ('playlist', 1), ('OwMhB', 1), ('JYwwEhEtC', 1), ('!*\\r\\n>>>>>>\\r\\n>>>>>> ', 1), ('adopted', 1), ('wrapped', 1), ('Vt_', 1), ('.\\xe2\\x80\\x9d\\r\\n\\r\\n\\r\\n\\r\\n\\r\\n\\r\\n*', 1), ('Trulia', 1), ('\\r\\n>\\r\\n>\\r\\n> -- \\r\\n> ', 1), ('Rita', 1), ('SWSX', 1), ('CAKG', 1), ('... *\\r\\n>>  ', 1), ('bec', 1), ('dNL', 1), ('XduJbHGdY', 1), ('19087', 1), ('Highlights', 1), (' :)\\r\\n>>>\\r\\n>>>  ', 1), ('jvFP', 1), ('_e', 1), (' =\\r\\n>>    ', 1), ('QHOuO', 1), ('purchasing', 1), ('\\r\\n>>\\r\\n>>\\r\\n>\\r\\n>\\r\\n> --\\r\\n> ', 1), ('Shiro', 1), ('879898285375829', 1), ('connected', 1), (':\\r\\n> \\r\\n> <', 1), ('Capital', 1), (' \\xe2\\x80\\x93\\r\\n', 1), ('sg', 1), ('Fellow', 1), ('PsturZAHPoI', 1), ('snapshot', 1), ('Hvv', 1), ('Ngf', 1), ('zy', 1), ('SPLt', 1), ('soldiers', 1), ('Public', 1), ('enYRs', 1), ('fIpTOudSmg', 1), ('>\\r\\n>>>>\\r\\n>>>> ', 1), ('yaGPy', 1), ('287340424', 1), ('reactive', 1), ('employed', 1), ('.\\xe2\\x80\\x8b\\r\\n>>\\r\\n>> ', 1), ('achieve', 1), ('>\\r\\n>>>>>>>>>\\r\\n>>>>>>>>\\r\\n>>>>>>>>\\r\\n>>>>>>>>\\r\\n>>>>>>>> --\\r\\n>>>>>>>> ~', 1), ('!\" ', 1), ('Nevermind', 1), ('Marquis', 1), ('\"* ', 1), ('!!!\\r\\n>> \\r\\n>>> ', 1), ('120', 1), ('122', 1), ('-\\r\\n>>>>>>>> <', 1), ('!\\r\\n\\r\\n- ', 1), ('!\"*\\r\\n\\r\\n*-', 1), ('marvels', 1), ('.*\\r\\n>>>\\r\\n>>> ', 1), ('trucks', 1), ('shy', 1), ('RICHMOND', 1), ('expansions', 1), ('.\\r\\n>>\\r\\n>\\r\\n>\\r\\n\\r\\n\\r\\n-- \\r\\n~', 1), ('Alibaba', 1), ('Driving', 1), ('humans', 1), ('computer', 1), ('WNw', 1), ('),\\r\\n>>>>>> ', 1), ('WND', 1), ('ensures', 1), ('tend', 1), ('kXLdg', 1), ('allotted', 1), ('tripadvisor', 1), ('ZNjCHrkyxh', 1), ('\\t\\t', 1), ('.\\r\\n>>>>\\r\\n>>>> --\\r\\n>>>> ~', 1), ('Burger', 1), ('2895933', 1), ('Log', 1), ('gclid', 1), ('>\\r\\n                                \\xc2\\xa9 ', 1), ('Los', 1), ('Music', 1), ('gNnfAThkfkF', 1), ('accomplishing', 1), ('jdnBhVdidUTlEPMAVOSY', 1), ('\\r\\n>>>>>>>\\r\\n>>>>>>>\\r\\n>>>>>>> ', 1), ('slowly', 1), ('VtKkN', 1), ('NLTK', 1), ('GF_dQC_Fsa', 1), ('gouged', 1), ('Visualizations', 1), ('Essential', 1), ('tPtFlAyF', 1), ('tKpIObOicJqUUALaTwpS', 1), ('/>\\r\\n>>>\\r\\n>>> ', 1), ('hopsin', 1), ('tDdeHVcjq', 1), ('\"). ', 1), (']<', 1), ('KPIs', 1), ('--\\r\\n>\\r\\n> ', 1), ('Leap', 1), ('Yoi', 1), ('EwGA', 1), (',\\r\\n> \\r\\n> -- \\r\\n> ~', 1), ('%)*.\\r\\n>>\\r\\n>> --\\r\\n>> ~', 1), ('emailed', 1), ('NULL', 1), ('wkC', 1), ('Harriss', 1), ('incumbent', 1), (\"');> \", 1), ('.\\r\\n>>>\\r\\n>>>\\r\\n>>>\\r\\n>>> --\\r\\n>>> ~', 1), (' :-)  ', 1), ('yZWNzeXNfcmFua', 1), ('RlYW', 1), ('HdMdyvOQcdHJNJb', 1), ('::\\r\\n', 1), ('qHsimg', 1), ('/(', 1), ('Experiments', 1), ('sQjubhYv', 1), ('restore', 1), ('BA', 1), ('accurate', 1), ('Chairman', 1), ('),... ', 1), ('BY', 1), ('Median_brand', 1), ('XUGDYhaE', 1), ('logged', 1), ('extends', 1), ('banquet', 1), ('burden', 1), ('268', 1), ('>\\r\\n>>>>>>>\\r\\n>>>>>>\\r\\n>>>>>>\\r\\n>>>>>>\\r\\n>>>>>> --\\r\\n>>>>>> ', 1), ('ODJiNzRiMzY', 1), ('gwKtPtE_swgfYiyuNwaf', 1), ('lose', 1), ('.\\r\\n>>\\r\\n>> *\"', 1), ('functional', 1), ('vEqIGx', 1), (']\\r\\n>>>>>>>>>>>> <', 1), ('repeat', 1), ('jla', 1), ('oppression', 1), ('limitations', 1), ('Uy', 1), ('Dayum', 1), ('IBuNrD', 1), ('Ut', 1), ('\\r\\n> -------------------------------------------------------------------------------------------------------------------\\r\\n> ', 1), ('expansion', 1), ('lQCf', 1), ('Uj', 1), ('047', 1), ('046', 1), ('misc_nospamlist', 1), ('Ua', 1), ('UT', 1), (' \\r\\n>     ', 1), ('_VAzXYg', 1), ('bPTFTKzeAkfoHxw', 1), ('UH', 1), ('UG', 1), (' ). ', 1), ('UA', 1), ('CPAIDPAGERMK', 1), ('2928', 1), ('Context', 1), ('adopters', 1), ('kbMo', 1), ('Graph', 1), ('washington', 1), ('Nexium', 1), ('mZy', 1), ('Attendees', 1), ('Thousands', 1), ('Assistant', 1), ('museum', 1), (' \\xe2\\x80\\x94  ', 1), ('Directions', 1), (' +\\r\\n>>>>    ', 1), ('Waldo', 1), ('.\\r\\n\\r\\n *', 1), ('zZW', 1), ('hq', 1), ('hv', 1), (',\\r\\n>>>>>>>>>> \\r\\n>>>>>>>>>> ', 1), ('administrators', 1), ('hk', 1), ('hi', 1), ('hg', 1), ('3176', 1), ('hZ', 1), (',\\r\\n>>>>>    ', 1), ('hV', 1), ('...\\r\\n>>>\\r\\n>>> ... ', 1), ('727', 1), ('marketplace', 1), ('2421326', 1), (':\\r\\n>>>>\\r\\n>>>>>\\r\\n>>>>> ---------- ', 1), ('/\\r\\n\\r\\n-- \\r\\n*', 1), ('BMnqWuw', 1), ('OWRkYzVhNzkyOTFlODU', 1), ('diego', 1), ('functions', 1), ('ERWSvUA', 1), ('471', 1), ('gvyDKMK', 1), ('simvastatin', 1), ('redir', 1), ('star', 1), ('Like', 1), ('Fdesign', 1), ('questionnaires', 1), ('\"?\\r\\n> \\r\\n> ', 1), ('...\\r\\n>\\r\\n> ... ', 1), ('. <$', 1), ('\\r\\n> \\r\\n> -- \\r\\n> ~', 1), ('portion', 1), ('mYXEuaHRtbD', 1), ('Graphlab', 1), ('Taqueria', 1), ('!\"*\\r\\n>>>\\r\\n>>> *-', 1), (':\\r\\n>>>>>>>>         ', 1), ('Soar', 1), ('Pocket', 1), ('investigation', 1), ('swap', 1), ('vCpGNkPw__L', 1), ('6748216', 1), ('collaborate', 1), ('emerged', 1), ('Identifying', 1), ('LyRRiu', 1), ('\\r\\n>>> $', 1), ('\\r\\n>>>  ', 1), ('redact', 1), ('.\"\\r\\n\\r\\n', 1), ('vast', 1), ('yZWlzbGVyQG', 1), ('waldo', 1), ('IZnNj', 1), ('enhance', 1), ('Dozen', 1), ('YmIwMGM', 1), ('UUowVPZ', 1), ('> \\xc2\\xa9 ', 1), ('batch', 1), ('Indicate', 1), ('implemented', 1), ('yfvVpdbApMTDkGpqP', 1), ('Diseases', 1), ('!\\r\\n\\r\\n*', 1), ('_sjLGkuHqYcV', 1), ('OcZpe', 1), ('centric', 1), ('barometer', 1), ('\\r\\n\\r\\n\\xc2\\xa0\\r\\n\\r\\n', 1), ('1906679', 1), ('\"\\xc2\\xa0', 1), ('wnbhpIB', 1), ('104', 1), ('?\\r\\n> \\r\\n>> ', 1), ('adopting', 1), ('BahkVGIYBsuV', 1), ('guests', 1), ('>\\r\\n>>>>>>>>>>>>>>>>>   /  ', 1), ('Tfn', 1), ('arms', 1), ('!\\r\\n>>>>>>>>>>\\r\\n>>>>>>>>>> ', 1), ('Included', 1), ('Removed', 1), ('lwd', 1), ('Stf', 1), ('Sorting', 1), ('6808', 1), (':\\r\\n\\r\\n> ... ', 1), ('vP_Opi', 1), ('uYuc', 1), ('aligned', 1), ('.*\\r\\n>>>>\\r\\n>>>>  *', 1), ('\\r\\n( ', 1), ('\\r\\n(\"', 1), ('OsxM', 1), ('YjkwNWEyZTY', 1), ('exceptions', 1), ('insulin', 1), ('.\\r\\n>>>>>\\r\\n>>>>> \\xe2\\x80\\x94\\r\\n>>>>> ', 1), ('Chrome', 1), ('implementations', 1), ('caused', 1), ('pageId', 1), ('OA', 1), ('Atatus', 1), ('Phoenix', 1), ('OFPmHI', 1), ('!\\r\\n\\r\\n -', 1), ('/ ).\\r\\n\\r\\n\\xc2\\xa9 ', 1), ('massive', 1), ('hillcountrybbq', 1), ('WvRHfUhCxf__LpC', 1), ('.\\r\\n>>>>>\\r\\n>>>>>\\r\\n>>>>>\\r\\n>>>>> #', 1), ('Alz', 1), ('685', 1), ('GC', 1), (').\\r\\n\\r\\n---------- ', 1), ('> \\xae ', 1), ('Prescribes', 1), ('overstepping', 1), ('/>\\r\\n>>>\\r\\n>>\\r\\n>>\\r\\n>\\r\\n\\r\\n\\r\\n\\r\\n-- \\r\\n', 1), ('banged', 1), ('Nudge', 1), ('cred', 1), ('practicalecommerce', 1), ('/>\\r\\n>>>\\r\\n>>\\r\\n>\\r\\n>\\r\\n> --\\r\\n> ', 1), ('Challenge', 1), ('btAnmo', 1), ('Offline', 1), ('disciplines', 1), ('therapy', 1), ('rGuGQ', 1), ('curator', 1), ('bono', 1), ('iOjEyLCJocmVmIjoiaHR', 1), (',\\n>>>>> ', 1), ('UhPYt', 1), ('enthusiasts', 1), ('Charts', 1), ('marital', 1), ('lunaparkcafe', 1), ('6828292', 1), ('dawn', 1), ('zUzHbf', 1), ('monetizing', 1), ('Hotel_Review', 1), ('/>\\r\\n>>\\r\\n>\\r\\n>\\r\\n\\r\\n\\r\\n-- \\r\\n~', 1), ('QoUL', 1), ('_PKyJ', 1), ('247', 1), ('241', 1), ('?\\r\\n\\r\\n-\\r\\n\\r\\n', 1), ('GEpdsatMpmxipXmB', 1), ('Fts', 1), ('avl_', 1), ('?\\r\\n\\r\\n*', 1), (' +\\r\\n>>>>>    ', 1), ('3691', 1), ('girls', 1), ('Fortunately', 1), ('NhQVyPMclO', 1), ('Palizban', 1), ('freeventures', 1), ('NEWBIE', 1), ('zQyRX', 1), ('%)\\r\\n>>>\\r\\n>>> ', 1), ('QEAIk', 1), ('noodle', 1), ('BBQ', 1), ('boarding', 1), ('\\r\\n>\\r\\n>       * ', 1), ('enabled', 1), ('FjWXaA', 1), ('/>\\r\\n>\\r\\n>\\r\\n>\\r\\n>           {#', 1), ('mermaid', 1), ('.\\n>>>>> ', 1), ('FEJoA', 1), ('MONTHS', 1), ('TEZQ', 1), ('O_K', 1), (':\\r\\n\\r\\n> +', 1), ('ONLINE', 1), ('Examples', 1), ('\\r\\n>\\r\\n> ----------------------------------------------------------------------------------------------------------------------------------------------------------------------------------------------------------------\\r\\n>\\r\\n>\\r\\n>\\r\\n\\r\\n\\r\\n-- \\r\\n', 1), ('.\\r\\n\\xe2\\x80\\x8b\\r\\n\\r\\n', 1), ('translator', 1), ('. \"', 1), ('Farticle', 1), ('%)\\r\\n>\\r\\n> ', 1), ('dol', 1), ('dob', 1), ('kXMtXYNbCbGIOq', 1), ('mailing', 1), (', \\r\\n>>>>>>> \\r\\n>>>>>>> ', 1), (' -->\\n<', 1), ('syntax', 1), ('\\r\\n\\r\\n----- ', 1), ('Alki', 1), ('Week', 1), ('50716499', 1), ('\\r\\n>> \\r\\n>> \\r\\n>> \\r\\n>> -- \\r\\n>> ~', 1), ('WRwbjZ', 1), ('\\r\\n> (\"', 1), ('Recommender', 1), ('Hospital', 1), ('JpdC', 1), ('pHTIuwcLAggK', 1), ('Eligibility', 1), (',* ', 1), ('Took', 1), ('Idioms', 1), ('dnjeOcixONhjdATkEj', 1), ('/\\r\\n>>>>    ', 1), ('\\r\\n\\r\\n\\r\\n\\r\\n-- \\r\\n*', 1), ('reddit', 1), ('venture', 1), ('==>.\\r\\n> ', 1), ('388', 1), ('cousin', 1), ('Yours', 1), (' :)\\r\\n', 1), ('gotten', 1), ('(\\r\\n        ', 1), ('.\\r\\n--> ', 1), (' +\\r\\n>>> ', 1), ('_peitho', 1), ('\\xe2\\x80\\xa6\\r\\n>>>>\\r\\n>>>>  ', 1), ('offerings', 1), ('2193', 1), ('initiative', 1), ('4636', 1), ('/>\\r\\n>>\\r\\n>>\\r\\n>\\r\\n\\r\\n\\r\\n-- \\r\\n', 1), ('Dating', 1), ('targeting', 1), ('differs', 1), ('BtpXUHhSlODKnv', 1), ('numpy', 1), ('threw', 1), (';.  ', 1), ('BmBibXuoss', 1), ('Flow', 1), ('CR', 1), ('161', 1), ('...)\\r\\n>> \\r\\n>> ', 1), ('>\\r\\n>>>>\\r\\n>>>\\r\\n>>>\\r\\n>>\\r\\n>\\r\\n\\r\\n\\r\\n\\r\\n-- \\r\\n', 1), ('gracias', 1), ('2040', 1), ('Process', 1), ('Zk', 1), ('Cf', 1), ('transformation', 1), ('>\\r\\n\\r\\n-- \\r\\n*', 1), ('>\\r\\n\\r\\n\"\"                    \\r\\n\"\"\\r\\n\\r\\n', 1), ('055575212', 1), ('betterer', 1), ('ig', 1), ('YzVYc', 1), ('iQ', 1), ('nazi', 1), ('potentially', 1), ('/>\\r\\n>>>>>\\r\\n>>>>>\\r\\n>>>>>\\r\\n>>>>> --\\r\\n>>>>> ', 1), ('. \\xe2\\x80\\x8b\\r\\n>> ', 1), ('.*\\r\\n\\r\\n ', 1), ('grows', 1), ('bells', 1), ('VA', 1), ('VM', 1), ('VN', 1), ('VW', 1), ('VY', 1), ('9768', 1), ('Vg', 1), ('MAFpQmofGvOw', 1), ('Bounce', 1), ('intervals', 1), ('efficient', 1), ('pandora', 1), ('>        ', 1), ('\\xe2\\x80\\x8b\\r\\n', 1), ('USvTWAq', 1), ('RDDs', 1), (':\\r\\n>> <', 1), ('TG_', 1), ('MaddMexCantina', 1), ('propionate', 1), ('kanban', 1), ('requestinfo', 1), ('TuQM', 1), ('Yvgl', 1), ('Grids', 1), ('1557', 1), ('Computing', 1), ('signal', 1), ('aroeIK', 1), ('deal', 1), ('XSA', 1), ('statistic', 1), ('wwm', 1), ('205', 1), (' \"\\r\\n> ', 1), ('204', 1), ('.\\r\\n> >\\r\\n> >\\r\\n> >\\r\\n> >> ', 1), ('candidly', 1), ('carte', 1), ('pdXEvqW', 1), ('415717063017', 1), ('statistician', 1), ('UWw', 1), ('relationship', 1), ('fXGapT', 1), ('DxIUcnRxNUA', 1), ('/>.*\\r\\n\\r\\n', 1), (' :-)!  ', 1), ('xCjF', 1), ('/>\\r\\n>>\\r\\n>\\r\\n>\\r\\n\\r\\n\\r\\n\\r\\n-- \\r\\n', 1), ('Icons', 1), ('dominodatalab', 1), ('FAbnwtk', 1), ('postbox', 1), ('wKcfThFvYoGFn', 1), ('Withholding', 1), ('KAlcBFWrYJ', 1), ('NBA', 1), ('.\\r\\n>\\r\\n> ~', 1), (':\\r\\n>>>       ', 1), ('analyse', 1), ('\\r\\n>>>\\r\\n>>> ---------- ', 1), ('>\\n\\t</', 1), ('228', 1), ('kQ_gJDQ', 1), ('220', 1), ('.\\r\\n---------- ', 1), ('DNg', 1), ('.\\r\\n>\\r\\n> -', 1), ('economic', 1), (':\\r\\n>>>\\r\\n>>>> + ', 1), ('whisker', 1), ('CrjUVu', 1), ('QCR', 1), ('taVmNOhxgVoUNZjpmbBLoNW', 1), ('QlBLOFhfR', 1), ('ship', 1), ('shit', 1), ('EAC', 1), ('Needle', 1), ('unsubscribe_via_email', 1), ('\\r\\n>>>>>>>> (', 1), ('. @ ', 1), ('3793875083', 1), ('083', 1), ('Shift', 1), ('NDQxNDdcIl', 1), ('journey', 1), ('. \\r\\n> \\r\\n> \\r\\n> -- \\r\\n> *', 1), ('_Qv', 1), ('modals', 1), ('94107', 1), ('fsq', 1), ('gWJT', 1), ('mZgk', 1), ('restored', 1), ('JzWDmBy', 1), ('maono', 1), ('GPBYQfLHuMsu', 1), ('manager', 1), ('WD', 1), ('shot', 1), ('62304', 1), ('retention', 1), (')\\r\\n>>>>>\\r\\n>>>>> ', 1), ('marks', 1), ('xeoilYxqW', 1), ('Atlanta', 1), ('GLBL_', 1), ('retro', 1), ('rx', 1), ('NFiQ', 1), ('g_Darin_Buxbaum_SQUARE', 1), ('...\\r\\n>\\r\\n> --\\r\\n> ', 1), ('ma', 1), ('/>\\r\\n>>>>\\r\\n>>>>\\r\\n>>>\\r\\n>>\\r\\n>>\\r\\n>> --\\r\\n>> ', 1), ('ml', 1), ('PArg', 1), ('>\\r\\n>>>>>>>>>\\r\\n>>>>>>>>\\r\\n>>>>>>>>\\r\\n>>>>>>>>\\r\\n>>>>>>>> --\\r\\n>>>>>>>> ', 1), ('ipynb', 1), ('Conduct', 1), ('Merged', 1), ('deduplication', 1), ('heres', 1), ('ODIwZDc', 1), ('Heal', 1), (' ---------\\r\\n>> ', 1), ('Hear', 1), ('FMAGAZINE', 1), ('>\\r\\n|\\r\\n@', 1), ('8040', 1), ('Wants', 1), ('A_iiru', 1), ('qutlusXJl_qxPEIcOCNH_I', 1), (' :-)\\r\\n- ', 1), ('USjA', 1), ('4114', 1), ('FlPKKJK', 1), ('membership', 1), ('Session', 1), ('priceless', 1), ('adjustable', 1), (' \\r\\n\\r\\n  ', 1), ('emailWebview', 1), ('Realtime', 1), ('whizzes', 1), ('hnSTR', 1), ('bAG', 1), ('11331174', 1), ('WMWyvPkUqb', 1), ('adilmoujahid', 1), ('Comment', 1), (\"'?)\\r\\n\\r\\n[\", 1), ('Ben', 1), ('editorial', 1), ('appending', 1), ('downtown', 1), ('vmgto_gu', 1), ('553', 1), ('3887', 1), ('nadac', 1), ('maintainable', 1), ('bUVA', 1), ('reviews', 1), ('entrepreneurs', 1), ('growing', 1), ('arrive', 1), ('Headline', 1), ('agent', 1), ('Forbes', 1), ('tabledata', 1), ('pink', 1), ('gershonowicz', 1), ('hardimanjames', 1), ('Madison', 1), ('staying', 1), ('!).\\r\\n\\r\\n', 1), ('Urc', 1), ('.\\r\\n\\r\\n\\r\\n\\r\\n****************\\r\\n', 1), (':*\\r\\n>>\\r\\n>>\\r\\n>> *', 1), ('Human', 1), ('enquiryiqpc', 1), ('outline', 1), ('Turn', 1), ('overmarket', 1), ('>\\r\\n>>\\r\\n>>\\r\\n>>\\r\\n>> ---------- ', 1), ('Trip', 1), ('= \\r\\n', 1), ('denizyuret', 1), ('TSTvsYkCsx', 1), ('peterson', 1), ('UHZSRLNqJd', 1), ('hnNF', 1), ('AllStates_User_status', 1), ('Clothworkers', 1), ('WTB', 1), ('kHxxphzoUtXMsQMP', 1), ('.\\xe2\\x80\\x8b\\r\\n>> \\r\\n>> \\r\\n>> ', 1), ('unplanned', 1), ('finance', 1), ('?\\r\\n> [', 1), ('10528', 1), ('developments', 1), ('_QsYpkiajQAfcQv', 1), ('1424477665000007', 1), ('! \\r\\n<', 1), ('repositories', 1), ('\\r\\n>>>>>>>>  \\r\\n>>>>>>>> \\r\\n>>>>>>> \\r\\n>>>>>>> \\r\\n>>>>>>> \\r\\n>>>>>>> -- \\r\\n>>>>>>> ~', 1), ('ICJvcmF', 1), ('Charting', 1), ('Billion', 1), ('Generic', 1), ('%)\\r\\n\\r\\n', 1), ('fingertips', 1), (':\\r\\n>> * ', 1), ('Successful', 1), ('>\\r\\n\\xe2\\x80\\x93 ', 1), ('dominate', 1), ('decorators', 1), ('monster', 1), ('NkMcY', 1), ('iskKQx', 1), ('QKAQj', 1), ('/\\r\\n>>>\\r\\n>>\\r\\n>>\\r\\n>>\\r\\n>> --\\r\\n>> ', 1), ('Options', 1), ('ActiveCustomers', 1), ('.\\r\\n>> * ', 1), ('XFxcL', 1), ('Yay', 1), ('networks', 1), ('carry', 1), ('\\r\\n>\\r\\n>\\r\\n>\\r\\n\\r\\n-- \\r\\n*', 1), (';\">\\n                        <', 1), ('jdrm', 1), ('...\"\\r\\n\\r\\n', 1), ('5394', 1), ('parallel', 1), ('356', 1), ('iOjAsImhyZWYiOiJodHRwOi', 1), ('Post', 1), ('mining', 1), ('.\\r\\n\\r\\n\\r\\n\"', 1), ('FRE', 1), ('podogs', 1), ('MDMwODE', 1), ('hiyaaaroll', 1), (' -> ', 1), ('.\\r\\n>> \\r\\n>> -- \\r\\n>> ~', 1), ('compromises', 1), ('GALLERY', 1), ('7762', 1), (':\\r\\n>\\r\\n>> + ', 1), ('Handbook_Code', 1), ('gathering', 1), ('3908', 1), ('3909', 1), ('Under', 1), ('aXRodXMvIn', 1), ('...  ', 1), ('zi_UFyQMBPZCv_BfWTvglDcy', 1), ('speakers', 1), ('Away', 1), ('De', 1), ('*\\r\\n>>> \\xe2\\x80\\xa2\\r\\n>>> ', 1), ('JuliaBox', 1), ('Rouge', 1), ('XZBE', 1), (':\\r\\n>\\r\\n> >> ', 1), ('surprising', 1), ('.[', 1), ('MI', 1), ('MOaey', 1), ('Savers', 1), ('kNASuV', 1), ('rating', 1), ('- \\r\\n> <', 1), ('Kuhsterd', 1), ('andme', 1), ('sixrevisions', 1), ('WI', 1), ('WV', 1), ('WT', 1), ('Wondering', 1), ('.\\r\\n>>>> \\r\\n>>>> \\r\\n>>>>> ', 1), ('shippingMethod', 1), ('Wg', 1), ('Hula', 1), ('.\\r\\n\\r\\n\\xc2\\xa0\\r\\n\\r\\n\\xc2\\xa0\\r\\n\\r\\n\\xc2\\xa0\\r\\n\\xc2\\xa0\\r\\n\\xc2\\xa0\\r\\n\\xc2\\xa0\\r\\n\\xc2\\xa0\\r\\n\\r\\n', 1), ('315355', 1), ('Wi', 1), ('Ws', 1), ('Wx', 1), ('MjlmNzI', 1), ('Amin', 1), ('fdc', 1), ('milkshakes', 1), ('authuser', 1), ('dYiuT', 1), (',\\r\\n\\r\\n---------- ', 1), ('XLxUz', 1), ('#\\r\\n>>>>\\r\\n>>>> ', 1), ('finishing', 1), ('revenue_estimates_converted', 1), ('Wkw', 1), ('\\r\\n>>\\r\\n>\\r\\n>\\r\\n\\r\\n\\r\\n-- \\r\\n', 1), ('....', 1), ('\\xc2\\xa0\\n\\n\\n\\n\\n\\n\\n> ', 1), ('HiPo', 1), ('\\xe2\\x80\\x99\\r\\n', 1), ('\\r\\n>>  \\r\\n>> \\r\\n>> \\r\\n>>> ', 1), ('ju', 1), ('jw', 1), ('jq', 1), ('oDVjm', 1), ('\\n\\n- ', 1), ('>\\r\\n>>>>>\\r\\n>>>>>\\r\\n>>>>> ', 1), ('ja', 1), ('jc', 1), ('UXOffice', 1), ('configuring', 1), ('.\\r\\n>>\\r\\n>\\r\\n>\\r\\n>\\r\\n> --\\r\\n> ', 1), ('vZW', 1), ('tour', 1), ('jK', 1), ('JkrTw_lbKaJwAaj', 1), ('jA', 1), (']\\r\\n>>>>>>>>> <', 1), ('RWYc', 1), ('Each', 1), ('wiOltcImM', 1), ('permguid', 1), ('>\\r\\n>> \\r\\n>>> ', 1), ('.\\r\\n> \\r\\n> -- \\r\\n> ', 1), ('Frito', 1), ('rKKoXJsZNOMwwMhJ_rBTkyyWGaDyDzBAQi', 1), ('ResearchKit', 1), ('encryption', 1), ('pharmacy_id', 1), ('REGISTER', 1), ('EBJavaScript', 1), ('\\r\\n>>\\r\\n>>\\r\\n>> ---------- ', 1), ('sEH', 1), ('RESTful', 1), ('\\r\\n>>>  \\r\\n>>> \\r\\n>> \\r\\n>> \\r\\n>> \\r\\n>> -- \\r\\n>> ', 1), ('328194968', 1), ('*.\\r\\n\\r\\n-- \\r\\n~', 1), ('YABRZP', 1), ('Tq', 1), ('slumber', 1), ('Tl', 1), ('\\r\\n\\xc5\\xb7', 1), ('drives', 1), ('hdk', 1), ('.\\r\\n>>  -', 1), ('Transfer', 1), ('K_song', 1), ('Undeliverable', 1), ('affected', 1), ('Chartio', 1), ('harsh', 1), ('Deployment', 1), ('ofCz', 1), ('1425125330', 1), ('266803336', 1), ('*\\r\\n>>\\r\\n>>\\r\\n>>    ', 1), ('oih', 1), ('ujU', 1), ('JJsc', 1), ('RECRUITERS', 1), ('siliconrepublic', 1), (' . . . ', 1), ('Qct__', 1), ('intermittent', 1), ('roughly', 1), ('-\\r\\n>>>>>> <', 1), ('wjFQlOdOadfvyweNSWoT', 1), ('gJgEz', 1), ('MIte', 1), ('Submitted', 1), ('.\\r\\n\\r\\n\\r\\n\\r\\n-- \\r\\n~', 1), ('linkId', 1), ('Qlvpkd', 1), ('qRtIDH', 1), ('kLyJ', 1), ('serves', 1), ('audience', 1), ('London', 1), ('Raises', 1), ('.\\r\\n>>>>>>    ', 1), (').\\r\\n>>>> . ', 1), ('       \\r\\n  \\r\\n \\r\\n  == ', 1), ('Confirmed', 1), ('Pinterest', 1), ('ef_id', 1), ('.\\r\\n>>>>>>>>\\r\\n>>>>>>>>\\r\\n>>>>>>>>\\r\\n>>>>>>>> ', 1), ('Viagra', 1), ('5163', 1), ('vcUpNTEZKSVE', 1), ('generates', 1), ('.\\r\\n>>>\\r\\n>>> *', 1), ('woo_content', 1), ('pioneer', 1), ('inject', 1), ('mongodb', 1), ('Mex', 1), ('CxQ', 1), ('IQiTQG', 1), (': \\r\\n\\r\\n\\r\\n', 1), ('lPKKJK', 1), ('\\r\\n>>    (', 1), ('466323', 1), ('nothing', 1), ('mixed', 1), ('cautions', 1), ('ZUW', 1), ('Earlier', 1), ('\\r\\n>>>>>>>>>>>\\r\\n>>>>>>>>>>>\\r\\n>>>>>>>>>>>\\r\\n>>>>>>>>>>>\\r\\n>>>>>>>>>>> ', 1), ('Making', 1), ('MacBook', 1), (']])\\r\\n>  ', 1), ('pharmaceutical', 1), ('.   \\r\\n', 1), ('Though', 1), ('pLAVVN', 1), ('Jawbone', 1), ('MVvV', 1), ('4322737', 1), ('Actually', 1), ('Kitchen', 1), ('jPYdG', 1), ('happier', 1), ('SPLTY', 1), ('BEAFC', 1), ('Angelicas', 1), ('==>\\r\\n>\\r\\n>\\r\\n>\\r\\n> --\\r\\n> ', 1), ('pitting', 1), ('ohAeEFahyJAbp', 1), ('QeNoBBi', 1), ('aEGLFNvIIw', 1), ('Avg', 1), ('KquuQCoAcCQLAQoF', 1), ('\\r\\n\\xe2\\x80\\x8b', 1), ('Hint', 1), ('Lets', 1), ('\\r\\n\\xe2\\x80\\x9c', 1), ('>\\r\\n>>\\r\\n>>\\r\\n>>\\r\\n>> --\\r\\n>> ', 1), ('DulsGguujfh_bB', 1), ('boLtxBzhIFReyOm', 1), ('KxSwWvOvZHRSC', 1), ('Css', 1), ('oxfam', 1), ('*\\r\\n>\\r\\n> ', 1), ('Tinder', 1), ('488', 1), ('.\\r\\n> >\\r\\n> > <', 1), ('*\\xe2\\x80\\x99', 1), ('/>\\r\\n>>>>\\r\\n>>>\\r\\n>>\\r\\n>>\\r\\n>> --\\r\\n>> ', 1), ('FwWDbG', 1), ('\\r\\n>>>>>    >$', 1), ('.\\r\\n>>>>\\r\\n>>>>\\r\\n>>>>\\r\\n>>>> ', 1), ('NjdkZjk', 1), ('\\r\\n>    ------------------------------\\r\\n> ', 1), ('/\\r\\n>>>>>    ', 1), ('AlAj', 1), ('tjeyKf', 1), ('Git', 1), ('allowances', 1), ('prodding', 1), ('Dorkly', 1), ('enjoying', 1), ('returning', 1), ('Verifying', 1), ('mVDSJjAwyAWuGENYYxa', 1), ('/>\\r\\n>>>>>>>>>\\r\\n>>>>>>>>\\r\\n>>>>>>>>\\r\\n>>>>>>>\\r\\n>>>>>>\\r\\n>>>>>\\r\\n>>>>\\r\\n>>>>\\r\\n>>>> --\\r\\n>>>> ', 1), ('hyX', 1), ('xKv', 1), (' (\\r\\n>>>\\r\\n>>>\\r\\n>>> *', 1), ('\\r\\n> \\r\\n> <', 1), ('Portals', 1), (';&#', 1), ('gf', 1), ('drugged', 1), ('triangulate', 1), (':\\r\\n>>\\r\\n>>\\r\\n>> * ', 1), ('jimi', 1), (' *\\r\\n>>>> ', 1), ('.\\r\\n>>>>>>\\r\\n>>>>>> --\\r\\n>>>>>> ~', 1), ('Denver', 1), ('zero', 1), (': \\xc2\\xa0', 1), ('?)\\r\\n\\r\\n', 1), ('2540', 1), ('bzDETXBkP', 1), ('\\r\\n>>    <= $', 1), ('rerz', 1), ('Npxd', 1), ('RUFStMPvNn', 1), ('.\\r\\n>>>>>>>>>\\r\\n>>>>>>>>> -', 1), ('Documentation', 1), ('.\\r\\n>>>>>>>>>\\r\\n>>>>>>>>> *', 1), ('eLmez_C', 1), ('HCL', 1), ('902', 1), ('pUZmcJtRlQ', 1), ('Avenue', 1), ('908', 1), ('triaged', 1), ('Clara', 1), ('appointments', 1), ('WQunt', 1), (']\\r\\n>>>>>>>>>>>>>> <', 1), ('RUT', 1), ('pathological', 1), ('career', 1), ('dbMbixmVVO', 1), (':                \\r\\n<', 1), (' *\\r\\n>>>\\r\\n>>>  [', 1), ('suits', 1), (') <\\r\\n', 1), (':*\\r\\n>>>> . ', 1), ('texting', 1), ('. \\xc2\\xa0\\n\\n', 1), ('\\n>>>\\n>>> --\\n>>> ', 1), ('?\\r\\n<', 1), ('>\\r\\n\\r\\n------------------------------\\r\\n\\r\\n\\r\\n\\r\\n-- \\r\\n', 1), ('.  \\r\\n>>> \\r\\n>>>> ', 1), ('deL', 1), ('Grilled', 1), ('>\\n\\n\\t\\t<', 1), ('iPD', 1), ('fKxjJrMe', 1), ('wCTgghLnRHKQEQH', 1), ('\\r\\n>>>>>>>>  \\r\\n>>>>>>>> \\r\\n> \\r\\n> \\r\\n> \\r\\n> -- \\r\\n> ', 1), ('unexpected', 1), ('businessinsider', 1), ('Stack', 1), ('Updating', 1), ('kbEF', 1), ('.\\r\\n>> >\\r\\n>> >\\r\\n>> >\\r\\n>> >> ', 1), ('connectivity', 1), ('blood', 1), ('Lisa', 1), ('Dot', 1), ('BTN', 1), ('rUuZ', 1), ('*\\r\\n\\r\\n\\r\\n\\r\\n\\r\\n\\r\\n-- \\r\\n', 1), ('eats', 1), ('hfc', 1), ('-- \\r\\n*', 1), ('played', 1), ('StephCathOcano', 1), (' :)\\r\\n>>>>\\r\\n>>>>  ', 1), ('tBXiP', 1), ('gZW', 1), (':\\r\\n>>>>>>\\r\\n>>>>>>    ', 1), ('BRIOVARX', 1), ('PLGAn', 1), ('wfUzVIyNqd', 1), ('Fight', 1), ('Globe', 1), ('micro', 1), ('\\r\\n>>>>>> * ', 1), ('Built', 1), ('visually', 1), (':\\r\\n>>> * ', 1), ('FDigitalDoughnut', 1), (' *\\r\\n>>\\r\\n>>  [', 1), ('\\xe2\\x80\\xa6\\r\\n>>\\r\\n>>  ', 1), ('wSCc', 1), ('EG', 1), ('kJAKkj', 1), ('Architecture', 1), ('AngelList', 1), ('zjm', 1), ('SalesForce', 1), ('XPogarBjdQbonJWVXxT', 1), ('jWTSIaMai', 1), ('dVyj', 1), ('HQEXs', 1), ('UCSF', 1), ('Ev', 1), ('Hornets', 1), ('Ep', 1), ('FnI', 1), ('Officers', 1), ('bIdFC', 1), ('twenty', 1), ('spark_and_graphlab_create', 1), ('\\r\\n>>>>>>>>>>>>>>>>>\\r\\n>>>>>>>>>>>>>>>>> [', 1), (',\\r\\n>\\r\\n> ---------- ', 1), ('XO', 1), ('Language', 1), ('needle', 1), ('park', 1), ('>\\r\\n>\\r\\n> --\\r\\n> *', 1), ('hCk', 1), ('cfa', 1), ('Taxi', 1), ('),\\r\\n>>> ', 1), ('ENG', 1), ('horizons', 1), ('VKZMwRtV', 1), ('IRp', 1), ('fdOQ', 1), ('Xv', 1), ('Xt', 1), ('ZST', 1), (' *\\r\\n>> ', 1), ('zrtus', 1), ('actuary', 1), ('], ', 1), (':\\r\\n> <', 1), ('Xg', 1), ('Edgewood', 1), ('paths', 1), ('Power', 1), ('shareImp', 1), ('/\" ', 1), ('Kit', 1), ('Walmart', 1), ('obviously', 1), ('!\\r\\n>\\r\\n>\\r\\n> *', 1), ('13107', 1), ('kMt_hVP', 1), ('kD', 1), ('serve', 1), ('vbsj', 1), ('TPKTVTGpSNEI', 1), ('zEVQ', 1), (\"'?\\r\\n>>>>\\r\\n>>>> <\", 1), ('kW', 1), ('hDsAAvxWcfbHvY', 1), ('extremely', 1), ('3050', 1), ('euDcLg_b', 1), ('kq', 1), ('.\\r\\n>\\r\\n\\r\\n\\r\\n-- \\r\\n', 1), ('sFELoJdegZY', 1), ('Yucheng', 1), ('.\\r\\n[', 1), ('businesses', 1), ('Hill', 1), ('.\\r\\n>>>>> \\r\\n>>>>> \\r\\n>>>>>> ', 1), ('Opt', 1), ('_b_', 1), ('/>\\r\\n>>\\r\\n>>\\r\\n', 1), ('unmissable', 1), ('yLLGtdGssnOmHZLi', 1), ('\\r\\n\\r\\n\\r\\n  ', 1), (':*\\r\\n*', 1), ('insertAll', 1), ('dysfunctional', 1), ('Imminent', 1), ('sZS', 1), ('restart', 1), ('pnmeYZKUo', 1), ('JWONl', 1), ('restaurants', 1), ('*.\\r\\n\\r\\n*', 1), ('\\r\\n>>>>>\\r\\n>>>>>\\r\\n>>>>\\r\\n>>>>\\r\\n>>>\\r\\n>>\\r\\n>>\\r\\n>> --\\r\\n>> ~', 1), ('. -', 1), ('LVzM', 1), ('  (+', 1), ('genomic', 1), ('degree', 1), (\"'?\\r\\n>>>\\r\\n>>> <\", 1), ('visiting', 1), ('thrive', 1), ('transfered', 1), ('meal', 1), ('King', 1), ('/\\r\\n>>>>>>    ', 1), ('\\r\\n>>>>>>>>> \\r\\n>>>>>>>>> \\r\\n>>>>>>>>> \\r\\n>>>>>>>>> -- \\r\\n>>>>>>>>> ~', 1), ('mailbox', 1), ('%). \\r\\n\\r\\n', 1), ('HGhFowFfr', 1), ('ipython', 1), ('restaurant', 1), ('?\\r\\n>>\\r\\n>> ---------- ', 1), ('/>\\r\\n>>>>>>>>\\r\\n>>>>>>>\\r\\n>>>>>>>\\r\\n>>>>>>\\r\\n>>>>>>\\r\\n>>>>>> --\\r\\n>>>>>> ', 1), (']\\r\\n>>\\r\\n>> <', 1), ('RpuPV', 1), ('cHcE', 1), ('\\r\\n>\\r\\n>\\r\\n> -------------------------------------------------------------------------------------------------------------------------------------------------------------------------------------------------------------------\\r\\n> ', 1), ('dietary', 1), ('...\\r\\n>>>>>>>>\\r\\n>>>>>>>> ', 1), ('ZtI', 1), ('WpcHNk', 1), ('Anonymous', 1), ('NDA', 1), ('0308', 1), ('>\\r\\n\\r\\n\\r\\n\\r\\n\\r\\n', 1), ('.\\r\\n\\r\\n* * *\\r\\n\\r\\n', 1), ('SCsI', 1), ('fuv', 1), ('MANUAL', 1), ('gaO', 1), ('Workshop', 1), ('Syncing', 1), ('heroically', 1), ('\".\\r\\n\\r\\n\\r\\n\\r\\n', 1), ('\\r\\n>>>>>>>>> \\r\\n>>>>>>>>> \\r\\n>>>>>>>>> \\r\\n>>>>>>>>> \\r\\n>>>>>>>>> ', 1), ('tqu', 1), ('\\r\\n>     <', 1), ('aQmOzDOhGzsW', 1), ('3042357', 1), ('tWrgIiEG', 1), ('Adjust', 1), ('Activity', 1), ('. \\r\\n>> \\r\\n>> ', 1), ('task', 1), ('darn', 1), (') \\n\\n\\xc2\\xa0\\n\\n--', 1), ('smotheredsf', 1), ('wXAn', 1), ('Rohian', 1), (':\\r\\n>>>\\r\\n>>>\\r\\n>>> * ', 1), ('isolated', 1), ('jWpMRt', 1), ('RnN_gdHhmPpVnaDPl', 1), ('letting', 1), ('Theory', 1), ('calibre', 1), ('HoFrOlrFGezVM', 1), (\"('\", 1), ('(%', 1), ('7557087743603129318', 1), ('Commons', 1), ('>\\r\\n>>>>>\\r\\n>>>>>\\r\\n>>>>>\\r\\n>>>>> ', 1), ('Dir', 1), ('AppConnect', 1), ('knock', 1), ('MMDDYY', 1), ('...\\r\\n>> \\r\\n>> ... ', 1), ('>\\r\\n>>\\r\\n>> ------------------------------\\r\\n>>\\r\\n>>\\r\\n>>\\r\\n>> --\\r\\n>> ', 1), ('rheumatoid', 1), ('>            \\r\\n', 1), ('YoPOag', 1), ('GPXMZuNLvVnSutZIlzpjAxOWO', 1), ('lightning', 1), ('Satisfaction', 1), ('culprit', 1), ('KN', 1), ('NCJ', 1), ('eliminate', 1), ('!\\r\\n> \\r\\n>> ', 1), ('ufh', 1), ('GpNb', 1), ('301', 1), ('\\r\\n---\\r\\n\\r\\n', 1), ('vaNACi', 1), ('wowsers', 1), ('; &#', 1), ('zlDKKlAKSDcSStgQi', 1), ('Ffacebook', 1), ('Typically', 1), ('UWlYtWDJTMWRZIiwidiI', 1), ('4727', 1), ('\" <\\r\\n>>>>>>>>> ', 1), ('NXb_KTSW', 1), ('springhillnorthwest', 1), ('involving', 1), ('\"\\r\\n> ', 1), ('settlements', 1), ('\":\\r\\n\\r\\n   - ', 1), ('20120113', 1), ('VDui', 1), ('wKbeuOo', 1), ('peterubel', 1), ('WElJDm', 1), ('/>\\r\\n>>>\\r\\n>>\\r\\n>>\\r\\n>\\r\\n>\\r\\n> --\\r\\n> ~', 1), ('YXR', 1), ('pharmaceuticals', 1), ('Come', 1), ('ddP', 1), ('XQ', 1), (']\\r\\n>>>>>>>>>>>>>>>> <', 1), ('Filter', 1), ('.\\r\\n>>> *', 1), ('AutoFill', 1), ('JeXua', 1), ('Ulc', 1), ('556', 1), ('TableauVTUG', 1), ('.\\xe2\\x80\\x8b\\r\\n', 1), ('Spreadsheets', 1), ('exploration', 1), ('FlO', 1), ('units', 1), ('.\"\\r\\n\\xe2\\x80\\x94', 1), ('>\\n                        \\n                        <', 1), ('Departed', 1), ('Utilize', 1), ('\\r\\n>       ', 1), ('Presentation', 1), ('Tested', 1), ('UbGOnnuOg', 1), ('Student', 1), ('>\\r\\n>>>>>>>>>>\\r\\n>>>>>>>>>\\r\\n>>>>>>>>>\\r\\n>>>>>>>>>\\r\\n>>>>>>>>> --\\r\\n>>>>>>>>> ', 1), ('imRNnnn', 1), ('Redesign', 1), ('SkaWhirvdh', 1), ('>\\r\\n\\r\\n\\r\\n   - ', 1), ('\\r\\n>\\r\\n> ----------------------------------------------------------------------------------------------------------------------------------------------------------------------------------------------------------------\\r\\n>\\r\\n>\\r\\n>\\r\\n>\\r\\n>\\r\\n>\\r\\n\\r\\n\\r\\n-- \\r\\n~', 1), ('tMLyG', 1), ('Beginning', 1), ('failures', 1), (':\\r\\n>> >\\r\\n>> > ', 1), ('rinse', 1), ('. \\r\\n> \\r\\n>> ', 1), ('>*\\r\\n>>>     ', 1), ('UnsubscribePage', 1), ('6964', 1), ('Means', 1), ('>\\r\\n>>>>>>>>>>>>>>>>> ', 1), ('6969', 1), ('KwSclUc_', 1), ('...\\r\\n>>>>>>>>>\\r\\n>>>>>>>>> ... ', 1), ('\\r\\n>\\r\\n> -- \\r\\n> ', 1), ('WICp', 1), ('Tapadinhas', 1), ('WRY', 1), ('salad', 1), ('uncovering', 1), ('INDUSTRY', 1), ('Recipe', 1), ('jeogkiiogjbmhklcnbgkdcjoioegiknm', 1), ('cnWq', 1), (':\\r\\n>>>>>>>         ', 1), ('imgur', 1), ('/\\n>>>\\n>>>\\n>>>\\n>>>\\n>>\\n> \\n\\n\\r\\n', 1), ('MzUwNzQy', 1), ('>\\n\\n    \\n</', 1), ('%)\\r\\n>>>>>>> \\r\\n>>>>>>>> ', 1), ('assisted', 1), ('BiS', 1), ('? \\n   \\xc2\\xa0  \\xc2\\xa0  \\xc2\\xa0  \\n\\n\\n\\n\\n\\n\\n\\n\\n\\n\\n> ', 1), ('Might', 1), ('construct', 1), ('\\r\\n>>>>\\r\\n>>>>\\r\\n>>>>\\r\\n>>>> ', 1), ('440', 1), ('444', 1), ('BnELrYX', 1), ('EEEA', 1), ('healing', 1), ('buKYVjEambgz', 1), ('ddyeKq', 1), ('guidance', 1), ('FP', 1), ('decentralized', 1), ('Q_dgrVHvVDAmzGPWINBD', 1), ('>\\r\\n>>>>>>>>>>>>\\r\\n>>>>>>>>>>>\\r\\n>>>>>>>>>>>\\r\\n>>>>>>>>>>>\\r\\n>>>>>>>>>>> --\\r\\n>>>>>>>>>>> ', 1), ('resets', 1), ('Fr', 1), ('Fv', 1), ('        ~', 1), ('.*\\r\\n>>>>>>>>>\\r\\n>>>>>>>>> ', 1), ('Analyzer', 1), ('Driven', 1), ('SOLUTIONS', 1), ('CELEBREX', 1), ('Fg', 1), ('GGL', 1), ('\\r\\n>>>>>>>>>>>>>>>>>\\r\\n>>>>>>>>>>>>>>>>> --\\r\\n>>>>>>>>>>>>>>>>> ', 1), ('.\\r\\n>>> \\r\\n>>> \\r\\n>>> \\r\\n>>> \\r\\n>>>> ', 1), ('PayPal', 1), ('RPJk', 1), ('TILkulzNPir', 1), ('JEE', 1), ('billed', 1), ('duped', 1), ('...* ', 1), ('Managers', 1), ('ace', 1), ('4074', 1), ('\"])\\r\\n>>\\r\\n>> --\\r\\n>> ', 1), ('tag', 1), ('Zrw', 1), ('YH', 1), ('bTrOrolNrAA', 1), ('zaHwtqPzkX', 1), ('YE', 1), ('3631', 1), ('eNkhPoQ', 1), ('REPORTS', 1), ('Activation', 1), ('Ye', 1), ('MAGAZINE', 1), ('Getting', 1), ('QKQ', 1), ('aNxOhwA', 1), ('CTIER', 1), ('Hosted', 1), ('collection', 1), ('Petrie', 1), ('949', 1), ('942', 1), ('wiOltcImVlY', 1), ('chief', 1), ('Weather', 1), ('lE', 1), (')?\\r\\n>      ', 1), ('ZvcmNlLyJ', 1), ('hvpqribq', 1), ('Airbnb', 1), ('dv', 1), ('Breakout', 1), ('PDZZOLbu', 1), (' :)\\r\\n>>>>>\\r\\n>>>>> ', 1), ('OGIzZTRmNWQxMzUxZDI', 1), ('.\\r\\n>>>    ', 1), ('lo', 1), ('labor', 1), ('lw', 1), ('negotiates', 1), ('lp', 1), ('dab', 1), ('dac', 1), ('Visa', 1), ('?\\r\\n>\\r\\n> --\\r\\n> ', 1), (')?\\r\\n', 1), ('TKlhDdO', 1), ('Architect', 1), ('b_initial', 1), ('strive', 1), ('february', 1), ('\".\\r\\n>>> <', 1), ('. \\xc2\\xa0', 1), ('verifying', 1), ('Jimi', 1), ('disregard', 1), (\"'?\\r\\n>>> \\r\\n>>> <\", 1), ('!\\r\\n>\\r\\n> *', 1), ('aSf_tE', 1), (',\\r\\n\\r\\n\\r\\n@', 1), ('WUnBdCOYUqnxsy', 1), ('FAQs', 1), ('Lite', 1), ('Lype', 1), ('FSBRFD', 1), ('CmwaPc', 1), ('!*                          ', 1), ('DataFrames', 1), ('pharmacy_name', 1), ('lfS', 1), ('math', 1), ('586', 1), ('eyJzIjoiNVZLcVVEeXd', 1), ('584', 1), ('>\\r\\n>>>>>>\\r\\n>>>>>\\r\\n>>>>>\\r\\n>>>>>\\r\\n>>>>> --\\r\\n>>>>> ', 1), ('uNUf', 1), ('clarify', 1), (' <=\\r\\n>>>    ', 1), ('Jfq', 1), ('Outlook', 1), ('Sthanu', 1), ('.\\r\\n>\\r\\n>\\r\\n', 1), ('AoHFCn', 1), ('!\\r\\n(', 1), ('Statue', 1), ('laps', 1), ('.*\\r\\n>>>>>>>>\\r\\n>>>>>>>> ', 1), ('/\\r\\n\\r\\n\\r\\n*', 1), ('scans', 1), ('%). \\r\\n>> \\r\\n>> ', 1), (',\\r\\n>>    ', 1), ('fxLp', 1), (':\\r\\n>>\\r\\n>>> + ', 1), ('FEqjZgUh', 1), ('scikit', 1), ('nKcEFEn', 1), ('767676570', 1), ('USQeCbSWxpaGlVZ', 1), ('ogb', 1), ('LARGE', 1), ('VzdG', 1), ('09209', 1), ('\\r\\n>>>>>>  \\r\\n>>>>>> \\r\\n>>>>> \\r\\n>>>>> \\r\\n>>>>> \\r\\n>>>>> -- \\r\\n>>>>> ', 1), ('Cluster', 1), ('References', 1), ('bravehorsetavern', 1), ('ljK', 1), (', \\r\\n>> \\r\\n>> ', 1), ('Oii', 1), ('min', 1), ('.\\r\\n>\\r\\n>\\r\\n>\\r\\n>\\r\\n> -- \\r\\n> ', 1), ('fanatic', 1), ('parks', 1), ('323', 1), ('concerns', 1), ('FtZA', 1), ('Bigfoot', 1), ('Caltrain', 1), ('BysO_fFz', 1), ('procure', 1), ('52060711', 1), ('Matteson', 1), ('*.\\r\\n\\r\\n', 1), ('_kIWib', 1), ('nsolmWdr', 1), ('courseware', 1), ('Doxycyline', 1), ('.\\r\\n>> >>\\r\\n>> >>\\r\\n>> >> --\\r\\n>> >> *', 1), ('.\\r\\n> >>\\r\\n> >>\\r\\n> >> --\\r\\n> >> *', 1), ('supported', 1), ('vsKGgFMui_L_hPXeY', 1), ('lkCuaZq_AYAfX', 1), ('61975', 1), ('cRh', 1), ('staff', 1), ('\\r\\n\\xe2\\x80\\x8b ', 1), (':] ', 1), ('\\r\\n>>>\\r\\n>>>       [', 1), ('pitfall', 1), ('=/\\r\\n', 1), ('coworker', 1), ('diply', 1), ('Stories', 1), ('aJW_A', 1), ('\\r\\n</', 1), ('nk', 1), ('harJicWCKWDQPAItgO', 1), ('CbgCs', 1), ('ETEQ', 1), ('?\\r\\n>>>>>>>> ', 1), ('Assumptions', 1), ('blogspot', 1), ('experiences', 1), ('SitecoreDigitalExp', 1), ('national', 1), ('enhanced', 1), ('Zoz', 1), ('eCrUSeCessJ', 1), ('Hawaiian', 1), ('Scrum', 1), ('\\xe2\\x80\\x9d.\\r\\n>\\r\\n> ', 1), ('discounts', 1), ('9787', 1), (' >$', 1), ('nAtkgoIW', 1), ('Study', 1), ('Silicon', 1), ('\\r\\n\\r\\n\\r\\n                  ', 1), ('synced', 1), ('legit', 1), ('empathy', 1), ('pJzqf', 1), ('pAus', 1), ('Float', 1), (',\\r\\n>  \\r\\n> ', 1), ('dorkly', 1), ('Holiday', 1), ('!!!  ', 1), ('.\\r\\n>>>\\r\\n>>> --\\r\\n>>> ', 1), ('nIn', 1), ('indicators', 1), ('proposal', 1), ('outliers', 1), ('463', 1), ('Airlines', 1), ('6958', 1), ('6959', 1), ('\\r\\n>>>>>>>> \\r\\n>>>>>>>> \\r\\n>>>>>>>> \\r\\n>>>>>>>> -- \\r\\n>>>>>>>> ', 1), ('clusters', 1), ('Professional', 1), ('. ;-)\\r\\n\\r\\n', 1), ('6957', 1), ('welcoming', 1), ('/>\\n\\t<', 1), ('nd', 1), ('General', 1), ('laJvUxQ', 1), ('ysx', 1), ('noduslabs', 1), ('Bill', 1), ('\"\\r\\n>    ', 1), (',\\r\\n     ', 1), ('uIHN', 1), ('lifetime', 1), ('regression', 1), ('whirl', 1), ('productivity', 1), ('oing', 1), ('oTXHZZZmNY', 1), ('iwEU', 1), ('3180', 1), ('9068', 1), ('eUUq', 1), ('.\\r\\n>>>> \\r\\n>>>>> ', 1), ('%)*.\\r\\n>>>>>>\\r\\n>>>>>> --\\r\\n>>>>>> ~', 1), ('.\\r\\n>>>       ', 1), ('.\\r\\n>  \\r\\n> ', 1), ('Spring', 1), ('7442724', 1), ('? :)\\r\\n\\r\\n', 1), (';, ', 1), ('Hostmann', 1), ('wyk', 1), ('BNTK', 1), ('Verify', 1), ('executive', 1), ('trsretire', 1), ('seats', 1), ('ads', 1), ('adf', 1), ('vOu', 1), ('\\r\\n>\\r\\n>     ', 1), ('280', 1), ('\")?\\r\\n>\\r\\n> --\\r\\n> ', 1), ('52016', 1), ('dUenaS', 1), ('niXPGEBra', 1), ('DigitalDoughnut', 1), ('sUDHFfb', 1), ('.\\r\\n> \\r\\n> \\r\\n> \\r\\n>> ', 1), ('accessible', 1), ('/>\\r\\n>>\\r\\n>>\\r\\n>>\\r\\n>> --\\r\\n>> ', 1), ('hair', 1), ('OptSummaryReport', 1), ('     ~', 1), ('highlighting', 1), ('\\r\\n>>>>> $', 1), ('             ', 1), (':\\n> (', 1), ('Projects', 1), ('2200', 1), ('proud', 1), ('mybfZW', 1), ('fPXXoQqR', 1), ('/>\\r\\n>>>>>>>>>>>>>>>>\\r\\n>>>>>>>>>>>>>>>\\r\\n>>>>>>>>>>>>>>>\\r\\n>>>>>>>>>>>>>>>\\r\\n>>>>>>>>>>>>>>> --\\r\\n>>>>>>>>>>>>>>> ', 1), ('Bhargav', 1), ('introduces', 1), ('Doxycycline', 1), ('Lambert', 1), ('PMmwIEZj', 1), ('powerpoint', 1), ('rendered', 1), ('!)', 1), ('chris', 1), ('playoff', 1), ('Scientists', 1), ('Ideally', 1), ('1980', 1), ('\\r\\n\\r\\n\\r\\n\\r\\n\\xe2\\x80\\x9c', 1), ('>. \\r\\n>\\r\\n>\\r\\n>\\r\\n>   ', 1), ('Child', 1), ('JfVIzf_paee', 1), (' \\xe2\\x80\\x99\\r\\n>>>>>\\r\\n>>>>>\\r\\n>>>>>\\r\\n>>>>> ', 1), ('YpbC', 1), ('569', 1), ('washingtonpost', 1), ('chatting', 1), ('Aamvw', 1), ('Hemok', 1), ('IvK', 1), ('Niirp_PiKzMe', 1), ('bud', 1), ('DeY', 1), ('Compare', 1), ('wise', 1), ('outsoucing', 1), ('ihAE', 1), ('external_member_id', 1), ('/>\\r\\n>>>>>>>>>\\r\\n>>>>>>>>\\r\\n>>>>>>>>\\r\\n>>>>>>>>\\r\\n>>>>>>>> --\\r\\n>>>>>>>> ~', 1), ('pin', 1), ('gpOvlIi', 1), ('handset', 1), ('periods', 1), ('pip', 1), ('%).\\r\\n>>>>>>>>>> \\r\\n>>>>>>>>>> -- \\r\\n>>>>>>>>>> ~', 1), ('1147612', 1), ('CONFERENCE', 1), ('eWtQgzHf', 1), ('Ace', 1), ('Secrets', 1), (':\\r\\n>>>       - ', 1), ('SzFTZYheA', 1), ('Sleep', 1), ('Dual', 1), ('Targeting', 1), ('Lean', 1), (',\\r\\n>>>>>>>>>>>>>>>>>\\r\\n>>>>>>>>>>>>>>>>> ', 1), (')\\r\\n>>>>>>>>>>>>>>>>> <', 1), ('\\r\\n>>\\r\\n>>\\r\\n>>\\r\\n>> ', 1), ('ttyl', 1), ('ACsprvu', 1), ('344', 1), ('commoditization', 1), ('Additionally', 1), ('sCEmk', 1), ('EzX', 1), ('microsoft', 1), ('Became', 1), ('GI', 1), ('Gq', 1), ('OorMmOPnnGWzShtP', 1), ('Invent', 1), ('browsers', 1), ('flashy', 1), ('fZyCrl', 1), ('enjoy', 1), ('samschowdermobile', 1), (' &\\r\\n> ', 1), ('fabulous', 1), ('MmI', 1), ('\\n\\n\\n<', 1), ('ecb', 1), ('org_short_name', 1), ('!!!\\r\\n> ', 1), (' *\\r\\n>>> ', 1), ('?\\r\\n>>>\\r\\n>>> ---------- ', 1), ('Madd', 1), ('ZI', 1), ('ZD', 1), ('ZE', 1), (',\\n> \\n> ', 1), ('digits', 1), ('leaves', 1), ('Perks', 1), ('). *', 1), ('> \\xae, ', 1), ('ckVvIiwidiI', 1), ('visible', 1), ('forums', 1), ('/>\\r\\n>>>>>>>>\\r\\n>>>>>>>\\r\\n>>>>>>>\\r\\n>>>>>>\\r\\n>>>>>\\r\\n>>>>\\r\\n>>>\\r\\n>>>\\r\\n>>> --\\r\\n>>> ', 1), ('>\\r\\n>>\\r\\n>\\r\\n\\r\\n\\r\\n-- \\r\\n~', 1), ('asset', 1), ('preview', 1), ('gLWx', 1), ('VsjYuc', 1), ('.\\r\\n\\r\\n\"\"\\r\\n\"\"           \\r\\n\\r\\n\"\"\\r\\n\\r\\n\\r\\n\\r\\n\\r\\n', 1), ('mU', 1), ('_customer', 1), ('tWmdxWGpJVm', 1), ('cheapest', 1), ('uZy', 1), ('xpaths', 1), ('CUCB', 1), ('AkQz', 1), ('zbPNlz_vJVfvND', 1), ('YAaViINB', 1), ('FORUM', 1), ('enh', 1), ('kHe', 1), ('csrGijmoBhLiffbztq', 1), ('enu', 1), (',\\r\\n>>>>>>>>>>>>>>>>\\r\\n>>>>>>>>>>>>>>>> ', 1), ('tAvzKdS', 1), ('.\\r\\n-----------------------------------------\\r\\n\\r\\n', 1), ('Paying', 1), ('6970', 1), ('outlookzen', 1), ('arthritis', 1), ('Popcorn', 1), ('eyJzIjoia', 1), ('eyJzIjoib', 1), (\"'.\\r\\n>>> \\r\\n>>> \", 1), ('MTQyNTM', 1), ('lmMyhueTPSU', 1), ('bootstrap', 1), ('Japanese', 1), ('eyJzIjoiS', 1), ('daredevil', 1), ('complexity', 1), ('plumbing', 1), ('Feedforward', 1), ('.\\r\\n>> \\r\\n>> \\r\\n>>> ', 1), ('frontend', 1), ('rLV', 1), ('QvrWLAW', 1), ('/>\\r\\n>\\r\\n>\\r\\n>\\r\\n>    {#', 1), ('...\\r\\n>>\\r\\n>> ... ', 1), ('404', 1), ('1375', 1), ('402', 1), ('Continued', 1), ('diseases', 1), (':*\\r\\n>>>\\r\\n>>> *', 1), ('qVo', 1), ('CIhaT', 1), ('\\xe2\\x80\\xa6\\r\\n>>>\\r\\n>>>  ', 1), ('vanilla', 1), (') \\r\\n\\r\\n\\xc2\\xa0', 1), ('CLAIM', 1), ('\\r\\n>>         [', 1), ('\\r\\n>>\\r\\n>>       [', 1), ('affiliate', 1), ('victory', 1), ('custom_name_y', 1), (' (\\r\\n>>\\r\\n>>\\r\\n>> *', 1), ('YCombinator', 1), ('tip', 1), ('\\r\\n\\r\\n\\r\\n---\\r\\n', 1), ('\\r\\n>> \\r\\n>> <', 1), ('=>\\r\\n>\\r\\n>\\r\\n> ---\\r\\n> ', 1), ('newly', 1), ('Authentic', 1), ('serialpodcast', 1), ('8688', 1), ('associate', 1), ('.\\r\\n>>\\r\\n>>\\r\\n>> *', 1), ('qtSrqA', 1), ('gGUS', 1), ('Vic', 1), ('TRENDING', 1), ('>\\r\\n>>>>\\r\\n>>>>\\r\\n>>>>  ', 1), ('>\\r\\n\\r\\n\"\"           \\r\\n\\r\\n\"\"\\r\\n\\r\\n\"\"\\r\\n\\r\\n\\r\\n\\r\\n\\r\\n', 1), ('healthfact', 1), ('Sz', 1), ('Bandits', 1), ('>\\r\\n>\\r\\n> ------------------------------\\r\\n>\\r\\n', 1), ('fabdb', 1), ('tnUfcLZT', 1), ('Excited', 1), ('researched', 1), ('eqq', 1), (')\\r\\n>>> \\r\\n>>> \\r\\n>>> \\r\\n>>> \\r\\n>>> -- \\r\\n>>> ', 1), ('\\xc3\\xb1', 1), ('signup', 1), ('NKfiwSVYxAQ', 1), ('YBFD', 1), ('AOrIRcs', 1), ('MongoDB', 1), (']\\r\\n>>>>>>>>>> <', 1), ('EfVvUjR', 1), ('*\\r\\n>\\r\\n>\\r\\n>\\r\\n>\\r\\n>\\r\\n> --\\r\\n> ', 1), ('vceew', 1), ('3954684234', 1), (' \\r\\n> \\r\\n> \\r\\n> ', 1), ('setInsertId', 1), ('Galaxy', 1), ('fashion', 1), ('.\\r\\n\\r\\n\"\"            \\r\\n\\r\\n\"\"\\r\\n\\r\\n', 1), ('Optimal', 1), ('LWiY', 1), ('ZyYW', 1), (']\\n> \\n> ', 1), ('...*\\r\\n>\\r\\n> *', 1), ('Hilton', 1), ('rides', 1), ('Collective', 1), ('>\\r\\n>>>\\r\\n>>> [', 1), ('Portland', 1), ('slides', 1), ('peers', 1), ('> (', 1), ('86128244', 1), ('Tues', 1), ('>  ', 1), ('CdivyZc', 1), ('tableId', 1), ('.\\r\\n>>>>\\r\\n>>>> -', 1), ('peddle', 1), ('iV_r_FzbTELuA', 1), ('availability', 1), ('\":\\r\\n>\\r\\n>    - ', 1), ('gBG', 1), ('execution', 1), ('GEGOrjH', 1), ('delays', 1), ('>               \\r\\n                              ', 1), ('uCnLQ', 1), (',\\r\\n>  ', 1), ('Netherlands', 1), ('MNDWCG_', 1), (';\">\\n\\t', 1), ('Quarter', 1), ('ocGcl', 1), (':\\r\\n>>>>         ', 1), ('eaa', 1), ('Lifetimes', 1), ('Gfa', 1), ('automatic', 1), ('gigaom', 1), ('swept', 1), ('emhG', 1), ('3829', 1), ('Pel', 1), ('=>\\r\\n> .\\r\\n>\\r\\n> ', 1), ('tommy', 1), ('\" <\\r\\n>>>>>>>>>>>>> ', 1), ('interviewing', 1), ('nuP', 1), ('analyzecore', 1), ('361', 1), ('confusion', 1), ('Ext', 1), ('soc_trk', 1), (').\\r\\n>>>>>\\r\\n>>>>>\\r\\n>>>>>\\r\\n>>>>> ', 1), ('recsys_rank_', 1), ('qoncierge', 1), ('Peter', 1), ('84805', 1), ('distinguished', 1), ('participating', 1), ('>\\r\\n>>>>>>\\r\\n>>>>>\\r\\n>>>>>\\r\\n>>>>\\r\\n>>>>\\r\\n>>>> --\\r\\n>>>> ', 1), ('dDpXrV', 1), ('ejIDej', 1), ('simplification', 1), (':\\r\\n>>       - ', 1), ('11587', 1), ('YVfeMzRMElyrqAT', 1), ('Motykowski', 1), ('CGDN', 1), ('Geographic', 1), ('..)\\r\\n>\\r\\n> *', 1), ('1422255562901', 1), ('\\r\\n>>>>>> \\r\\n>>>>>>> ', 1), ('stopping', 1), ('procedure', 1), ('FLinkedIn', 1), ('paIEEhTgXSC', 1), ('Write', 1), ('RosarioNisha', 1), ('oJMwdXm', 1), ('LEARN', 1), ('Tell', 1), ('BJmDek', 1), ('NyqMNcjoMaJ', 1), ('TGsGTzThUj', 1), ('_UKuJFEJqOMeYUBWau', 1), ('UyesFpTvIzjCw', 1), ('==>,\\r\\n> ', 1), ('/>\\r\\n>>>>>>\\r\\n>>>>>\\r\\n>>>>>\\r\\n>>>>\\r\\n>>>\\r\\n>>\\r\\n>\\r\\n>\\r\\n> --\\r\\n> ', 1), ('\\r\\n\\r\\n\\r\\n* * *\\r\\n\\r\\n', 1), ('Indicative', 1), ('01140306', 1), ('Salesforce', 1), ('Cedar', 1), ('xqkn', 1), ('SIdB', 1), (' =\\r\\n>    ', 1), ('.\\r\\n>>>\\r\\n>>>  *', 1), ('Leicester', 1), ('\\r\\n>>\\r\\n>> ----------------------------------------------------------------------------------------------------------------------------------------------------------------------------------------------------------------\\r\\n>>\\r\\n>>\\r\\n>>\\r\\n>\\r\\n>\\r\\n> --\\r\\n> ', 1), ('!\\r\\n> <', 1), ('greatest', 1), ('Coffee', 1), ('aoFjxnP', 1), ('Saved', 1), ('Console', 1), ('301986', 1), ('\\n>>>>>\\n>>>>> --\\n>>>>> ', 1), ('zFXHiwrl', 1), ('Metrics', 1), ('progresses', 1), ('>\\r\\n>      ------------------------------\\r\\n> ', 1), (' +\\r\\n>>>    ', 1), ('ffffff', 1), ('ArDnzAACe', 1), (',\\r\\n>>>>>>>>>>>>>>>> ', 1), ('Taking', 1), ('cultural', 1), ('vzRYZ', 1), ('gifs', 1), ('RXw', 1), ('H_', 1), ('exfLQojLipbL', 1), ('LFzKFPR', 1), ('HM', 1), ('Fargo', 1), ('guess', 1), ('tutorial', 1), ('KWkz', 1), ('GV', 1), ('Patients', 1), ('Hp', 1), ('Awww', 1), ('Hb', 1), ('wa_b_', 1), ('TRAINING', 1), ('Unleash', 1), (' :) ).\\n\\n ------ \\n ', 1), ('CREC_', 1), ('efforts', 1), ('Birds', 1), ('GCal', 1), ('SERVICE', 1), (' :)\\r\\n>\\r\\n>\\r\\n> ', 1), ('bigmlinc', 1), ('BxryP_vt', 1), ('Survive', 1), ('oC_MLs', 1), ('LeE', 1), (':\\r\\n\\r\\n- \\r\\n\\r\\n', 1), ('FkBWp', 1), ('\"\\r\\n>>>>>>>> ', 1), ('GoettermanDirector', 1), ('humalog', 1), (':\\r\\n>>>>>>> <', 1), ('?\\r\\n>>>>>>>>>> \\r\\n>>>>>>>>>> ', 1), ('questionable', 1), ('EsbrkdUr', 1), ('attempted', 1), ('wireless', 1), ('heat', 1), ('%\\r\\n(', 1), ('Median_peitho', 1), ('Vol', 1), ('>\\r\\n>>>>>>>>>>>\\r\\n>>>>>>>>>>\\r\\n>>>>>>>>>>\\r\\n>>>>>>>>>>\\r\\n>>>>>>>>>> --\\r\\n>>>>>>>>>> ', 1), ('\\r\\n> >> <', 1), ('.\\n>>>>>\\n>>>>> ', 1), ('motion', 1), ('SfXI', 1), ('?\\r\\n>>>>>>>\\r\\n>>>>>>> -', 1), ('Deduplication', 1), ('cIlfcntEIFvdbL', 1), ('nZ', 1), ('RkNX', 1), ('Oestrich', 1), ('nh', 1), ('til', 1), (\"' :\\r\\n\\r\\n\", 1), ('papers', 1), ('nq', 1), ('jdunne', 1), ('NzwOzUpwLGW', 1), ('FiDd', 1), ('\\r\\n>>>>>>>> \\r\\n>>>>>>>> ', 1), ('Double', 1), ('?)\\r\\n>\\r\\n> ', 1), ('...\\r\\n>\\r\\n>\\r\\n>\\r\\n> ', 1), ('tNWUw', 1), ('KWynbmbPM', 1), ('yRA', 1), ('3788', 1), ('bsVdtiafGAKQhS', 1), ('4998', 1), ('roi', 1), ('\\r\\n>>>>\\r\\n>>>>\\r\\n>>>> --\\r\\n>>>> ', 1), ('aOY_', 1), ('\\r\\n>>\\r\\n>>     ', 1), ('. \\xe2\\x80\\x8b\\r\\n> ', 1), ('JSQTZJ', 1), ('>.\\r\\n\\r\\n\\r\\n\\r\\n-- \\r\\n', 1), ('_EM', 1), ('Acquire', 1), ('Giannikoulis', 1), ('discovering', 1), ('=>\\r\\n.\\r\\n\\r\\n', 1), ('advantage', 1), ('qeVy', 1), ('Cim', 1), ('243288', 1), ('5469', 1), ('RhTmCg', 1), ('Accounts', 1), ('kaxpbq', 1), ('lever', 1), ('ict', 1), ('mJB', 1), ('peek', 1), ('Rep', 1), ('_UVcF', 1), ('diagrams', 1), ('bxghlM', 1), ('NMqQ', 1), ('Red', 1), ('customer_first', 1), ('knetikmedia', 1), ('gordonkelly', 1), ('526', 1), ('](', 1), ('lfJnj', 1), ('adamhartung', 1), ('[', 1), ('Walk', 1), ('overrides', 1), ('rwPdY', 1), ('ead', 1), (' ;)  ', 1), ('IVcyDi', 1), ('eyJzIjoiOEI', 1), ('lifehacker', 1), ('/>\\r\\n>>>>>\\r\\n>>>>>\\r\\n>>>>>\\r\\n>>>>>\\r\\n>>>>>\\r\\n>>>>>\\r\\n>>>>>\\r\\n>>>>> --\\r\\n>>>>>\\r\\n>>>>> *', 1), ('peep', 1), ('obS', 1), ('. . . ', 1), (' \\xc2\\xbb\\r\\n\\r\\n', 1), ('teaser', 1), ('4174', 1), ('PROAIR', 1), ('mPPfm', 1), ('rvk', 1), ('laughter', 1), ('; \">\\n<', 1), ('rWA', 1), ('dVWIf', 1), ('stream', 1), ('994', 1), ('BBmzkJ', 1), ('Integration', 1), ('996', 1), ('Cleveland', 1), ('Missing', 1), ('ALoCoQl', 1), ('?\\r\\n>>>>>\\r\\n>>>>>\\r\\n>>>>> ', 1), ('JXY', 1), (')... *', 1), ('crashed', 1), ('sfmBtLQMyCAcHYFfqHcX', 1), ('Exclusive', 1), ('17139534', 1), ('interactively', 1), ('Trifacta', 1), ('qB', 1), ('iIrW', 1), ('125', 1), ('WAGON', 1), ('Breaking', 1), ('Andrick', 1), ('NTViMTBhMGYwODFjYzQ', 1), ('White', 1), ('\\r\\n>\\r\\n>\\r\\n> *', 1), ('Views', 1), (':\\n>>>>\\n>>>> ', 1), ('Jure', 1), (' ***\\r\\n\\r\\n', 1), ('projectaccelerator', 1), ('float', 1), ('WZM', 1), ('hamilton', 1), (':\\r\\n>> >>\\r\\n>> >> ', 1), ('/>\\r\\n>>>>>>>>>\\r\\n>>>>>>>>\\r\\n>>>>>>>\\r\\n>>>>>>>\\r\\n>>>>>>> --\\r\\n>>>>>>> ', 1), ('\\r\\n>> \\r\\n>>> <', 1), ('Gv', 1), ('TPn', 1), ('Architects', 1), ('LCJocmVmIjoiaHR', 1), ('muchas', 1), ('/>\\r\\n>     ', 1), ('Exploratory', 1), ('Fluticasone', 1), ('RwoLkrbM', 1), ('torch', 1), ('tDFj', 1), ('mapping', 1), ('ultimately', 1), ('webcasts', 1), ('\\r\\n\\r\\n\\r\\n> ', 1), ('vTDsH_nmN', 1), ('ALoCoQlN', 1), ('attendee', 1), ('Samsung', 1), ('\\r\\n>>>>>>>>>>>>>\\r\\n>>>>>>>>>>>>> --\\r\\n>>>>>>>>>>>>> ', 1), ('Automation', 1), ('IyIYTWcGN', 1), ('cultofmac', 1), ('107806822694138', 1), ('Enhancing', 1), ('BFRBi', 1), ('IVPKze', 1), ('swing', 1), ('teammates', 1), ('YB_w', 1), ('kPlZ', 1), ('transform', 1), ('...  \"', 1), ('\\r\\n>>>>>>> * ', 1), (') @ ', 1), ('>.\\r\\n>\\r\\n>\\r\\n> ', 1), ('ZpuibW', 1), ('engineer', 1), ('/>\\r\\n>\\r\\n>\\r\\n>\\r\\n> --\\r\\n> ', 1), ('necessarily', 1), ('qFGJ', 1), ('8613', 1), ('SrwCVAQrPNAvGtVBe', 1), ('Autosend', 1), ('fgwYaFcdLqrs', 1), ('aU_Tpo', 1), ('innovators', 1), ('\\r\\n>\\r\\n\\r\\n\\r\\n', 1), ('Columbia', 1), ('();\\r\\n\\r\\n-- \\r\\n~', 1), ('HVjFLWkszUjBraTFGczluQUt', 1), ('pro', 1), (')   \\n\\n\\xc2\\xa0\\n\\n', 1), ('dgRNqEA', 1), ('ant', 1), ('tOZvZleptL', 1), ('/>.\\r\\n\\r\\n', 1), ('US_Postal_Service', 1), ('YLHepSsR', 1), ('JhljdlY', 1), ('4569927', 1), ('XathhVrQgF', 1), ('_kmeans_cost_per_by_cluster', 1), ('Whoever', 1), ('CWUfVIxwaFtHLFawZWL', 1), ('TOP', 1), (' \\xc2\\xbb\\r\\n', 1), ('cheat', 1), ('cheap', 1), ('Comments', 1), ('\\r\\n>>>>>\\r\\n>>>>> ~', 1), ('OFflMes', 1), ('Cypw', 1), ('fuWQgvrlJO', 1), ('vzbYzYmDAvOymTMQ', 1), ('rELCrL', 1), ('itXAd', 1), ('\\r\\n>>>>> \\r\\n>>>>> \\r\\n>>>>> \\r\\n>>>>> -- \\r\\n>>>>> ~', 1), ('viewpoint', 1), ('\\r\\n>>>>>\\r\\n>>>>> #', 1), (',\\r\\n>>>>>>>>>>>>>>\\r\\n>>>>>>>>>>>>>> ', 1), ('\\r\\n>>>>>\\r\\n>>>>>\\r\\n>>>>>\\r\\n>>>>> --\\r\\n>>>>>\\r\\n>>>>> *', 1), ('/>\\r\\n>\\r\\n>\\r\\n>\\r\\n>        {#', 1), ('irrational', 1), ('AyoNi_yzB', 1), ('deduped', 1), ('predicted', 1), ('bought', 1), ('Dixon', 1), ('.\\x94 ', 1), ('Shopping', 1), ('nWKgGvOBgyT', 1), ('qexSjRiJxs', 1), ('YwyjxPO', 1), ('Bangalore', 1), ('Repetition', 1), ('multiplier', 1), ('pens', 1), ('      \\r\\n', 1), ('Monte', 1), ('hQry', 1), ('wUornyhJEuN', 1), ('Dev', 1), ('propagation', 1), ('Skh', 1), ('. \\r\\n>> \\r\\n>> \\r\\n>> \\r\\n>>> ', 1), ('Decision', 1), ('61', 1), ('UopqCsnjHo', 1), ('BuA', 1), ('Electric', 1), ('\\r\\n>>>>>>>>>>>\\r\\n>>>>>>>>>>\\r\\n>>>>>>>>>>\\r\\n>>>>>>>>>>\\r\\n>>>>>>>>>> --\\r\\n>>>>>>>>>> ', 1), (' ) ', 1), ('LastPass', 1), ('Bug', 1), (',\\r\\n>>\\r\\n>>\\r\\n>> ', 1), ('1211', 1), ('toughest', 1), ('NjE', 1), ('638', 1), ('hcnkgZW', 1), ('yhathq', 1), ('WAS', 1), ('.\\r\\n>>>\\r\\n>>\\r\\n>>\\r\\n>>\\r\\n>> --\\r\\n>> ', 1), ('...\\r\\n>> \\r\\n>>> ', 1), ('72444', 1), ('XRWdZ', 1), ('Hidden', 1), ('granted', 1), ('booths', 1), ('1423002730', 1), ('downloads', 1), ('IU', 1), ('VRHa', 1), ('IM', 1), ('statue', 1), ('IE', 1), ('.\\xe2\\x80\\x9d\\r\\n\\r\\n\\xe2\\x80\\x9c', 1), ('IF', 1), ('Ih', 1), ('Id', 1), ('researchers', 1), ('.\\r\\n\\r\\n\\r\\n-- \\r\\n', 1), ('6716', 1), ('helpdesk', 1), ('switched', 1), ('behavioural', 1), ('Decorators', 1), ('Jobs', 1), ('\\r\\n\\r\\n\\r\\n&', 1), ('Applications', 1), ('blob', 1), ('disrupt', 1), ('ZCymwmT', 1), ('lunches', 1), ('...\\r\\n>\\r\\n> *', 1), ('\\r\\n\\r\\n     ', 1), ('_sP', 1), ('Brave', 1), ('Revised', 1), ('! ==\\r\\n\\r\\n ', 1), ('sanity', 1), ('petrie', 1), ('IPK', 1), ('.)\\r\\n>>>>>    - ', 1), ('ChowderMobile', 1), ('!!!\\r\\n>>>\\r\\n>>> ', 1), ('UOks', 1), ('subsidize', 1), ('Listen', 1), ('\" <\\r\\n>>>>>>>>>>> ', 1), ('>\\r\\n>\\r\\n> ------------------------------\\r\\n>\\r\\n\\r\\n\\r\\n\\r\\n-- \\r\\n', 1), ('HESKymunMcGHXl_cDhEidQ', 1), ('uLmNvbTBjMzRhZjIyZDk', 1), ('. \\r\\n>> \\r\\n>> \\r\\n>> -- \\r\\n>> *', 1), ('hopefullly', 1), ('Propionate', 1), ('uploads', 1), ('HrdoekpgCk', 1), ('oJ', 1), ('unmask', 1), ('ipDg', 1), ('ZGdlc', 1), ('oX', 1), ('KaXPDSpl', 1), ('oP', 1), ('paralysis', 1), ('thousands', 1), ('\\r\\n\\r\\n-------------------------------------------------------------------------------------------------------------------------------------------------------------------------------------------------------------------\\r\\n', 1), ('CYBbC', 1), ('bbd', 1), ('lantus', 1), ('orationtest', 1), (':\\r\\n>>>>>>>> \\r\\n>>>>>>>> ', 1), ('Collaborate', 1), ('alleged', 1), (\"','\", 1), ('ODI', 1), ('757', 1), ('Remember', 1), ('pVdMZyahK', 1), ('ZDJkZTU', 1), ('\\n> \\n> --\\n> ', 1), ('XlSnxHZvaimH', 1), (';\">\\n    \\n\\n    <', 1), ('Error', 1), ('Moujahid', 1), ('RDO', 1), ('promote', 1), ('Marvel', 1), ('ZWJpbmFyIn', 1), ('Cuisines', 1), ('xUcaLlOtkoscDQgSsC', 1), ('.\\r\\n>>\\r\\n>>\\r\\n>>\\r\\n>> --\\r\\n>> ~', 1), ('taste', 1), ('/\\r\\n>>\\r\\n>\\r\\n>\\r\\n', 1), ('6841230', 1), ('asynchronous', 1), ('governed', 1), ('>\\r\\n>\\r\\n>\\r\\n> \\xe2\\x80\\x8b', 1), ('PnjIl', 1), ('rvF', 1), ('Intern', 1), ('>.\\r\\n\\r\\n ', 1), ('Helping', 1), ('ige', 1), ('igb', 1), ('igo', 1), ('HcDKtA', 1), ('briefly', 1), (')....\\r\\n>\\r\\n> ', 1), ('bullets', 1), ('spouse', 1), ('finals', 1), ('\\r\\n\\r\\n\\r\\n---------- ', 1), ('odds', 1), ('websites', 1), ('ZZEFsh', 1), (' \\r\\n\\r\\n\\r\\n', 1), ('VtZW', 1), ('\\r\\n>>>\\r\\n>>>\\r\\n>>\\r\\n>>\\r\\n>\\r\\n\\r\\n\\r\\n-- \\r\\n~', 1), ('Hendrix', 1), ('eyJzIjoiYnNOQmVUYXgtODNwYnhvdG', 1), ('slated', 1), ('SjNXNzBUX', 1), ('!!\\r\\n>> ', 1), ('dish', 1), ('DQyOyYWPawIogeVCVIHJUCoBkevrK', 1), ('Minor', 1), ('Persevere', 1), ('PPrw', 1), ('WVQbhhQSD', 1), ('Wtoe_i', 1), ('crashing', 1), ('revolutionary', 1), ('5238', 1), (':*\\r\\n> *', 1), ('song', 1), ('uwv', 1), ('\\r\\n>\\r\\n> --\\r\\n> *', 1), ('fan', 1), ('andrewconn', 1), ('\\r\\n> >\\r\\n>\\r\\n>\\r\\n> ', 1), ('** ', 1), ('getprismatic', 1), ('97016', 1), ('Testing', 1), ('RICK', 1), ('MasterCard', 1), ('Carlo', 1), ('Fnw', 1), ('#\\r\\n> \\r\\n> ', 1), ('\" <\\r\\n>>>>>>>>>> ', 1), (' :) ', 1), ('East', 1), ('advantageous', 1), ('kWkYhUHvEuivd', 1), ('0750', 1), ('JLvHGHOz', 1), ('guns', 1), ('\\r\\n>>>\\r\\n>>>\\r\\n>>>\\r\\n>>> ', 1), ('80188', 1), ('tags', 1), ('Cloudy', 1), (' \\r\\n>>> \\r\\n>>> ', 1), ('NlCmyATJZDwzC', 1), (',\\n>>>> ', 1), ('3339928151', 1), ('GoSquared', 1), ('IVeXFhWclX', 1), ('5162', 1), ('texts', 1), ('Too', 1), ('Evaluation', 1), ('senders', 1), ('mmyGZPZ', 1), ('Columbus', 1), ('...\\r\\n\\r\\n\\r\\n\\r\\n\\r\\n', 1), ('nbrqBfxyOt', 1), ('Helllo', 1), ('branded', 1), ('TdOTy', 1), ('Recognized', 1), ('thur', 1), ('Talked', 1), ('sbV', 1), ('40117', 1), ('computers', 1), ('XTKQ', 1), ('laFZfOxAmF', 1), ('EzijPRPEU', 1), ('Speaker', 1), ('Wunderlist', 1), ('pZHNcIjpbXCJkNzI', 1), ('Countries', 1), ('SHc', 1), ('luZGljYXRpdmUvIn', 1), ('tVzYC', 1), ('....\\r\\n>>\\r\\n>> ', 1), ('? *\\r\\n>>     - ', 1), ('eHh', 1), ('HDInsight', 1), ('adventure', 1), ('pleasesend', 1), ('Topic', 1), ('MzYyYWZjNjFkM', 1), (', \\r\\n\\r\\n\\r\\n', 1), ('replete', 1), ('?? ', 1), ('confirm_verification', 1), ('wallets', 1), ('w_SIV', 1), ('Seat', 1), ('nTvr', 1), (' \\r\\n>>>> \\r\\n>>>> -- \\r\\n>>>> ', 1), ('.,\\r\\n>    ', 1), ('disables', 1), ('Same', 1), ('WCFj', 1), ('LINK', 1), (':\\r\\n\\r\\n\\r\\n\\r\\n- ', 1), ('developer', 1), ('EkNJa', 1), ('dXt', 1), ('Carnegie', 1), ('.\\r\\n>>>>>\\r\\n>>>>>    ', 1), ('cass_b_', 1), ('framework', 1), ('Erb', 1), ('FtracmZ', 1), ('feeder', 1), ('4138', 1), ('4135', 1), ('>\\r\\n&\\r\\n<', 1), ('3843', 1), ('ErG', 1), ('HSWlJQnVIM', 1), ('_xd', 1), ('Fwatch', 1), ('94804', 1), (']\\r\\n>\\r\\n> <', 1), (':\\r\\n\\r\\n-\\r\\n\\r\\n', 1), ('Hiyaaa', 1), ('92921', 1), ('qytRweBuDK', 1), ('fPTOo', 1), ('\\r\\n \\r\\n\\r\\n\\r\\n\\r\\n\\r\\n\\r\\n\\r\\n\\r\\n\\r\\n-- \\r\\n\\r\\n~', 1), ('...\\r\\n\\r\\n>\\r\\n> --\\r\\n> ~', 1), ('izw', 1), ('.\\r\\n>>>>>>>>> \\r\\n>>>>>>>>> ', 1), ('QjYYFScGgVV', 1), ('\\r\\n----------------------------------------------------------------------------------------------------------------------------------------------------------------------------------------------------------------\\r\\n', 1), ('leverage', 1), ('nevNcgaJpZM', 1), ('Hashmat', 1), ('People', 1), ('.\\r\\n\\r\\n\\xe2\\x80\\x8b', 1), ('Past', 1), ('introduction', 1), ('.\\r\\n\\r\\n\\xe2\\x80\\x9c', 1), ('3709', 1), (' \\r\\n>>>>>> \\r\\n>>>>>> ', 1), ('Oklahoma', 1), ('ARj', 1), ('182', 1), ('interact', 1), ('aWA', 1), ('rrcjPLXtTMlSlm', 1), ('/\\r\\n>\\r\\n>\\r\\n>\\r\\n>\\r\\n>\\r\\n>\\r\\n\\r\\n\\r\\n-- \\r\\n', 1), ('181', 1), ('):\\r\\n>>\\r\\n>> ', 1), ('.\\r\\n>>>>>>>>>>\\r\\n>>>>>>>>>>\\r\\n>>>>>>>>>> ', 1), ('MQbxQ', 1), ('2620', 1), ('Companies', 1), (' \\r\\n>>>>>>> \\r\\n>>>>>>> ', 1), ('GTQ', 1), ('ENbOU', 1), ('+ \\r\\n\\r\\n\\r\\n', 1), ('WfN', 1), ('QXcG', 1), ('Branding', 1), ('...\\r\\n>>\\r\\n>>\\r\\n>> ', 1), ('/>\\r\\n>>>>>>>\\r\\n>>>>>>\\r\\n>>>>>\\r\\n>>>>>\\r\\n>>>>> --\\r\\n>>>>> ', 1), ('!*\\r\\n>>>>>\\r\\n>>>>> ', 1), ('suspicious', 1), ('efT', 1), ('Orange', 1), ('alike', 1), ('RESOURCE', 1), ('777', 1), ('773', 1), ('XF', 1), (' *\\r\\n\\r\\n*', 1), ('1045', 1), (')\\r\\n>>>>>>> ', 1), ('brains', 1), ('TBin', 1), ('BaPoDHr', 1), ('personalised', 1), ('institutions', 1), (']])\\r\\n>>  ', 1), (' -\\r\\n> ', 1), ('JT', 1), ('cdj', 1), ('JM', 1), ('/>\\r\\n>>>\\r\\n>>\\r\\n>>\\r\\n>\\r\\n\\r\\n\\r\\n-- \\r\\n', 1), ('pXWJBs', 1), ('mVcGRgWCNHsX', 1), ('!!!\\r\\n', 1), ('Freestyle', 1), ('Leveraging', 1), ('Quora', 1), ('2122', 1), ('2351050', 1), ('compiled', 1), (\"'.\\r\\n> \", 1), ('blank', 1), ('\\r\\n>>>>>>>>>>>>>>>>\\r\\n>>>>>>>>>>>>>>>> ', 1), ('hid', 1), ('AQCNbJiMnpmx', 1), ('XSnhdkNhamXiPBGw_xIMG', 1), ('THIS', 1), ('Doesn', 1), ('IAx', 1), ('\">\\n                <', 1), ('activity', 1), ('GSD', 1), ('JIRA', 1), ('art', 1), ('youtu', 1), ('Bloomington', 1), ('oTS', 1), ('\\r\\n>>>>>>>>>>\\r\\n>>>>>>>>>\\r\\n>>>>>>>>>\\r\\n>>>>>>>>>\\r\\n>>>>>>>>> --\\r\\n>>>>>>>>> ', 1), ('mcg', 1), ('ZHcaNPfe', 1), ('AFQjCNH', 1), (')\\r\\n>>\\r\\n>>\\r\\n>> ', 1), ('DvxryjTTWLk', 1), ('! \\r\\n\\r\\n', 1), ('relying', 1), ('VzZXJsaWtlLyJ', 1), ('FYxYQOEKj', 1), ('/\\r\\n>>\\r\\n>\\r\\n>\\r\\n>\\r\\n> --\\r\\n> ', 1), ('Superman', 1), ('pR', 1), ('pU', 1), ('ZmZjM', 1), ('pA', 1), ('/\\r\\n\\r\\n-- \\r\\n~', 1), ('slots', 1), ('...).\\r\\n>> \\r\\n>> ', 1), ('pc', 1), ('Takeover', 1), ('counterweighted', 1), ('%).\\r\\n>\\r\\n> ', 1), (':\\r\\n\\r\\n>> ', 1), ('QxAC', 1), ('Predict', 1), ('AMCP_PR_Specialty_Drugs_Forecast_FINAL', 1), ('evaluated', 1), ('2101', 1), ('NxeVFXW', 1), ('rethink', 1), ('Logged', 1), (') \\r\\n\\r\\n\\xc2\\xa0\\r\\n\\r\\n\\xc2\\xa0\\r\\n\\xc2\\xa0\\r\\n\\xc2\\xa0\\r\\n\\xc2\\xa0\\r\\n\\xc2\\xa0\\r\\n\\r\\n', 1), ('Sprayable', 1), ('Unsubscribe_Page_', 1), ('Takeaways', 1), (']\\r\\n>\\r\\n>  ', 1), ('Nation', 1), ('3768', 1), ('ZnTk', 1), (':*\\r\\n>>>>>>>>>\\r\\n>>>>>>>>> ', 1), ('112527', 1), ('flows', 1), ('\\r\\n- ', 1), ('concise', 1), ('wheres', 1), ('CbVHG', 1), ('\\r\\n>>>>>>>> \\r\\n>>>>>>>> -- \\r\\n>>>>>>>> ', 1), (': \\xe2\\x80\\x9c', 1), ('Describe', 1), ('YOv', 1), ('.\\r\\n>>\\r\\n>> \\xe2\\x80\\x8b', 1), (')\\r\\n>>>> \\r\\n>>>> ', 1), ('1783', 1), ('MDVcIl', 1), ('patel', 1), (':)\\r\\n\\r\\n', 1), ('Financial', 1), ('.\\xe2\\x80\\x9d\\r\\n\\r\\n', 1), ('workers', 1), ('exclusively', 1), ('ulMRgw', 1), ('Hands', 1), (',\\r\\n>>>>>>>>>>>>>\\r\\n>>>>>>>>>>>>> ', 1), ('Alto', 1), ('8225', 1), ('\\xc2\\xa0\\n ', 1), ('yWZgAkuHt', 1), ('672', 1), ('/>  ', 1), ('Behavioral', 1), ('BhIkz', 1), ('Amphitheatre', 1), ('eaten_', 1), ('>\\r\\n>>> *', 1), ('\\r\\n> # ', 1), ('EGBgS', 1), ('%)*.\\r\\n>>>\\r\\n>>> --\\r\\n>>> ~', 1), ('DOES', 1), ('essential', 1), ('\\n                                <', 1), ('::\\r\\n>>>>>\\r\\n>>>>>    - ', 1), ('TakgvCOlPHSnNgk', 1), ('empt', 1), ('UvYW', 1), ('Channel', 1), ('gradually', 1), ('Fire', 1), ('absolutely', 1), ('meds', 1), ('GLV', 1), ('payments', 1), ('wireframing', 1), ('fastcodesign', 1), ('aWNzLWZvci', 1), ('Times', 1), ('zombie', 1), ('tZkZFHp', 1), ('LlH', 1), ('rewarding', 1), ('Stopping', 1), ('gd_EztYEO', 1), ('Communications', 1), ('EumfEM', 1), ('cecd', 1), ('livingsocial', 1), (' \\r\\n>>>>> \\r\\n>>>>>> ', 1), (':\\n>>> ------\\n>>> [', 1), ('Hawkins', 1), ('\\r\\n>> <#', 1), (' *\\r\\n\\r\\n\\r\\n\\r\\n', 1), ('Q_E', 1), ('Everything', 1), ('OPEN', 1), ('\\r\\n>\\r\\n> --------------------------------------------------------------------------------------------------------------------------------------------------------------------------------------------------------------------------\\r\\n>\\r\\n> --\\r\\n> ', 1), (';\">\\n\\t                    <', 1), ('impressed', 1), ('Heat', 1), ('conceivable', 1), ('Avoid', 1), ('981', 1), ('KMxzUOUG', 1), ('library', 1), ('msc', 1), ('Aqt_wl', 1), ('highlight', 1), ('\\r\\n>>>>>>>>>>>>>>>>\\r\\n>>>>>>>>>>>>>>>> --\\r\\n>>>>>>>>>>>>>>>> ', 1), ('Doxcycline', 1), ('1582403880', 1), ('midwest', 1), ('warning', 1), ('...\\r\\n\\r\\n-- \\r\\n', 1), ('kl', 1), (',\\r\\n>>  ', 1), (' \\r\\n>>> \\r\\n>>> -- \\r\\n>>> ', 1), (')\" ', 1), ('backs', 1), ('scares', 1), ('HighCharts', 1), ('Datasets', 1), ('sBUZO', 1), ('maximise', 1), ('ibG', 1), ('sSJe', 1), ('sWPuyYz', 1), ('!   ', 1), ('UGOQ', 1), ('Zyxq', 1), ('toZMz', 1), ('JwNi', 1), ('scroll', 1), ('.\\r\\n>>>>>>\\r\\n>>>>>>\\r\\n>>>>>>\\r\\n>>>>>> ', 1), ('\\r\\n> /\\r\\n>\\r\\n\\r\\n\\r\\n\\r\\n-- \\r\\n', 1), ('TheChairmanTruck', 1), ('NmzAhw', 1), ('018', 1), ('_kmeans_elbow_plot', 1), ('Apocalypse', 1), ('Viewpoint', 1), ('sqZYgFr', 1), ('languages', 1), ('YXJg', 1), ('ktVFd', 1), ('zfYLICiWz', 1), ('jqi', 1), ('rwGa', 1), ('tFAqscWcrr', 1), ('FOXe', 1), ('LAx', 1), (',\\r\\n>>>  ', 1), ('Grab', 1), ('/>\\r\\n>>>>>\\r\\n>>>>\\r\\n>>>>\\r\\n>>>\\r\\n>>\\r\\n>\\r\\n\\r\\n\\r\\n-- \\r\\n', 1), ('Population', 1), ('mLbBxXkSVuP', 1), ('Brief', 1), ('fLTSXp', 1), ('RdtEjes', 1), ('lgPKtrn', 1), ('=\\r\\n<', 1), ('pleae', 1), ('manipulating', 1), ('bNgUaAKvCdhbw', 1), (' .\\r\\n>\\r\\n> ', 1), ('\\r\\n>\\r\\n>\\r\\n', 1), ('copays', 1), ('gnocchi', 1), ('desired', 1), ('\\r\\n>>>>>>>  \\r\\n>>>>>>> \\r\\n>>>>>> \\r\\n>>>>>> \\r\\n>>>>>> \\r\\n>>>>>> -- \\r\\n>>>>>> ', 1), ('/>\\r\\n>>\\r\\n>>\\r\\n>\\r\\n>\\r\\n> --\\r\\n> ', 1), ('kotaku', 1), ('revamp', 1), (':\\r\\n>>>>>>\\r\\n>>>>>>    - ', 1), ('wordsofwisdom', 1), (';\">\\n                    ', 1), ('Palo', 1), ('oXDB', 1), (',\\r\\n>>>>    ', 1), ('fXoLzh', 1), ('sPZeKQ', 1), ('REAsLp', 1), ('Cikqy', 1), ('\\r\\n>> \\r\\n>>> ', 1), ('Conditions', 1), ('usg', 1), ('Exploring', 1), ('Attend', 1), ('pubnub', 1), ('ust', 1), ('BZc', 1), ('iLDIWpiWQITYkxIQUFyJ', 1), ('clever', 1), ('pike', 1), ('prevacid', 1), ('sessguid', 1), ('wtamlUSkhvZFAyZzZfN', 1), ('.\\r\\n>> \\xe2\\x80\\x8b\\r\\n>>\\r\\n>> ', 1), ('ALL', 1), ('MVs', 1), ('ATbY', 1), ('DmJB', 1), ('AujbmPzgGOy', 1), ('anywhere', 1), ('Parenteau', 1), (',   ', 1), ('mediacontentstory', 1), ('Pioneer', 1), ('sir', 1), ('sit', 1), ('six', 1), ('QExg', 1), ('\\n    </', 1), ('=>\\r\\n\\r\\n\\r\\n\\r\\n-- \\r\\n', 1), ('Odds', 1), ('administrator', 1), ('immersed', 1), ('3702', 1), (\"'.\\r\\n\", 1), ('readiness', 1), ('Grub', 1), (' \\xe2\\x98\\xba!\\r\\n', 1), ('/>\\r\\n>>>\\r\\n>>>\\r\\n>>\\r\\n>>\\r\\n>> --\\r\\n>> ', 1), ('GzjcJshkVV', 1), ('hmiw', 1), ('qaWhAq', 1), (':*\\r\\n>>>>> . ', 1), ('Hearts', 1), ('VPE', 1), ('estimating', 1), ('Hypothesis', 1), ('inconsistencies', 1), ('qqnadhpmrv', 1), ('holiday', 1), ('defining', 1), ('rsvp', 1), ('pzwayA_lalcXdQ', 1), (',\\r\\n-- \\r\\n', 1), ('Car', 1), ('Suppliers', 1), ('practice', 1), ('Hlct', 1), ('ExXCJdfSJ', 1), ('Evoen', 1), ('DHFb', 1), ('Adam', 1), ('4543301', 1), ('Pre', 1), ('EiPkflhmoyfMg', 1), ('dddd', 1), ('19527014', 1), ('Preferences', 1), ('\\r\\n>\\r\\n> -- \\r\\n> *', 1), ('CJCQ', 1), ('fFS', 1), ('category', 1), ('xRNxLQa', 1), ('transcend', 1), ('zgZv', 1), (']\\n>>>\\n>>> ', 1), ('>\\r\\n>>\\r\\n>>\\r\\n>> \\xe2\\x80\\x8b', 1), ('york', 1), ('uJFLIaMhbiCvaC', 1), ('Ugly', 1), ('\\r\\n>       * ', 1), ('WOo', 1), ('ltg', 1), ('Records_peitho', 1), ('Diving', 1), (': \\r\\n\\r\\n\\r\\n\\r\\n\\r\\n\\r\\n\\r\\n\\r\\n\\r\\n', 1), ('DOGS', 1), ('Drafts', 1), ('.\\xe2\\x80\\x8b\\r\\n>\\r\\n> ', 1), ('jFh', 1), ('visualstudiomagazine', 1), ('lclV', 1), ('tYW', 1), ('.\\n> ', 1), ('uniting', 1), (':\\r\\n>>\\r\\n>>>\\r\\n>>> ---------- ', 1), ('>\\r\\n>>>>>\\r\\n>>>>\\r\\n>>>>\\r\\n>>>>\\r\\n>>>> --\\r\\n>>>> ', 1), ('3942', 1), ('/>.\\r\\n>>\\r\\n>> ', 1), ('\\r\\n>>>>>>>>>>>>>>>>> <', 1), ('xVFG', 1), ('Ko', 1), ('Kr', 1), ('Algorithms', 1), ('\\r\\n>>>>\\r\\n>>>> ---------- ', 1), ('ZZLq', 1), ('3888', 1), ('KM', 1), ('jwQYZrk', 1), ('KT', 1), ('colah', 1), ('%\">\\n\\t<', 1), ('clif', 1), ('.\\r\\n>\\r\\n> *\"', 1), ('gIQAZBicAU_blog', 1), ('NASONEX', 1), ('PURPLE', 1), ('Docs', 1), ('iQude', 1), (':*\\r\\n>>>>\\r\\n>>>> ', 1), ('^ ', 1), ('criteria', 1), ('pretzels', 1), ('ZGViN', 1), ('Solution', 1), ('.\\r\\n>>>>>    ', 1), (':\\r\\n>>>\\r\\n>>>>\\r\\n>>>> ', 1), ('seS', 1), ('...\\r\\n>>>>>>>>>\\r\\n>>>>>>>>> ', 1), ('Profits', 1), ('...\\r\\n>>>>>>>>\\r\\n>>>>>>>> ... ', 1), ('\\xc2\\xa0\\n>>>>\\n>>>>\\n>>>>> ', 1), ('JPO', 1), ('gzhfmr', 1), ('movie', 1), ('gain', 1), ('infographic', 1), ('NzJiMTQ', 1), ('FOoG', 1), ('597507018', 1), ('rasbt', 1), ('?\\r\\n>>>>>>>>> \\r\\n>>>>>>>>> ', 1), ('51869', 1), ('pleased', 1), (' +\\r\\n>>>>>>    ', 1), ('aAWDgqSo', 1), (')  ', 1), ('candidates', 1), ('.*\\r\\n>>>>>\\r\\n>>>>>  *', 1), ('canyons', 1), ('THT', 1), ('qC', 1), ('interoperability', 1), ('words', 1), ('qF', 1), ('qJ', 1), ('qs', 1), ('! -\\xc2\\xa0', 1), ('Beats', 1), ('qb', 1), ('Experts', 1), ('qd', 1), ('tricky', 1), ('.\\r\\n      ', 1), ('038', 1), ('Niche', 1), ('NPNvLnNm', 1), ('focuses', 1), (':\\n>>>>> ------\\n>>>>> [', 1), ('RvexyIXpix', 1), ('identification', 1), ('closed', 1), ('==>\\r\\n> .\\r\\n>\\r\\n>\\r\\n> *', 1), ('variability', 1), ('recipe', 1), ('opening', 1), ('*\\r\\n>> *', 1), ('1831', 1), ('Greater', 1), ('qZmEdZIw', 1), ('Playoff', 1), ('nyRpua', 1), ('aBEnVimpVWAy', 1), ('safely', 1), ('BpFSVYB', 1), ('fRpr', 1), ('agent_email', 1), ('wfRGeLQk', 1), ('RbtnNdUO', 1), ('UhaBMVIsiZvo', 1), (']])\\r\\n ', 1), ('8857085', 1), ('LFZpQTQqSmH_RN', 1), ('bbe', 1), ('731', 1), ('>\\r\\n=', 1), ('pbmRleC', 1), ('FYpXGgwbvzHM', 1), (' (\\r\\n> ', 1), ('...*\\r\\n\\r\\n*', 1), ('sufficient', 1), ('#\\r\\n>>>>>>\\r\\n>>>>>> ', 1), ('Appreciate', 1), ('Lake', 1), ('ensuring', 1), (\"'.\\r\\n>>>\\r\\n>>> \", 1), ('MawgSzquEemyGcTOuABQLiKBejveQaEPekTSvUg_SWJceyjv', 1), ('triaging', 1), ('CDC', 1), ('vastly', 1), ('.\\xe2\\x80\\x8b\\r\\n> ', 1), ('.\\r\\n>> \\r\\n>> ~', 1), (':\\r\\n\\r\\n\"', 1), ('Friendly', 1), ('vintage', 1), ('Halliburton', 1), ('Vue', 1), ('Vuc', 1), ('promo', 1), (':\\r\\n\\r\\n[', 1), ('zPkNqvnQEYDuLq', 1), ('Ln', 1), ('?\\r\\n>>>          ', 1), ('WSECoHFe', 1), ('IWUyw', 1), ('%. ', 1), (')?\\r\\n>>  ', 1), ('Wells', 1), ('laMZf', 1), ('eEd', 1), ('viewings', 1), ('happiness', 1), ('rapid', 1), ('eEQ', 1), ('4708', 1), ('fititng', 1), ('sHLI_v', 1), (' &\\r\\n>>>>>>>> ', 1), ('bzdTTjl', 1), ('001746708', 1), ('press', 1), ('wcVymNFbUuf', 1), (' ?\\r\\n\\r\\n', 1), ('HVcu', 1), ('hosts', 1), ('ubkBvcmF', 1), ('Heer', 1), ('.\\n>>>>\\n>>>> ', 1), ('Simvastatin', 1), ('mfurGqv', 1), ('platforms', 1), ('Underground', 1), ('employment', 1), ('118', 1), ('lean', 1), ('bGM', 1), ('sucky', 1), ('QolC', 1), ('1425382777992', 1), ('whereas', 1), ('hJo', 1), ('Zillow', 1), (').\\r\\n>>> . ', 1), ('CcuVtQm', 1), ('Sildenafil', 1), ('Enhancements', 1), ('Andes', 1), ('Chester', 1), ('ndQ', 1), ('transformations', 1), ('unwatch', 1), ('daysofgrowth', 1), ('extension', 1), ('saddle', 1), ('>\\r\\n>>>>>\\r\\n>>>>> ', 1), ('shipping', 1), ('jMPcle_KL', 1), ('\\r\\n>\\r\\n>\\r\\n> ~~~~~~~~~~~~~~~~~~~~~~~~~~~~~~~~~~~~~~~~~~~~~~~~~~~~~~~~~~~~~~~~~~~~~~~\\r\\n> ~~~~~~~~~~~~~~~~~~~~~~~~~~~~~~~~~~~~~~~~~~~~~~~~~~~~~~~~~~~~~~~~~~~~~~~\\r\\n>\\r\\n> ', 1), ('Future', 1), ('Americans', 1), (':\\r\\n- ', 1), ('LuWmXoqvDCmfFMmbpGm', 1), ('HFRDI', 1), ('.  \\xc2\\xa0\\xc2\\xa0', 1), ('owa', 1), ('promise', 1), ('Challenges', 1), ('owu', 1), ('DORYX', 1), ('.  >', 1), ('Passover', 1), ('-\\r\\n>>>>>>>>> <', 1), ('dropping', 1), ('.  (', 1), ('.  $', 1), ('bAQMkc', 1), ('> \\r\\n\\r\\n', 1), ('alexg', 1), ('appointing', 1), ('Carl', 1), ('Detroit', 1), ('tasked', 1), ('Warner', 1), ('alexs', 1), ('PNC', 1), ('SlCKGyKWyTelLBUSLr', 1), ('Smola', 1), ('bianp', 1), ('>\\r\\n>>\\r\\n>>\\r\\n>>  ', 1), ('demonstrate', 1), (' :)\\r\\n>>>>>\\r\\n>>>>>  ', 1), ('eagerness', 1), ('            ', 1), ('. </', 1), ('_Food', 1), ('percent', 1), ('overspending', 1), ('branch', 1), ('Improving', 1), ('azack', 1), ('Segway', 1), ('kceN', 1), ('VXJaArQ', 1), ('qndcGdWFheH_a', 1), ('aQA', 1), ('dpN_', 1), (')\\r\\n>>>>>> ', 1), ('expands', 1), ('Smartwatch', 1), ('kSCzUOnbSrHKp', 1), ('imJtn', 1), ('(*) ', 1), (' &\\r\\n>>>> ', 1)]\n"
       ]
      }
     ],
     "prompt_number": 119
    },
    {
     "cell_type": "code",
     "collapsed": false,
     "input": [
      "wordcloud = pd.DataFrame(c.most_common())\n",
      "wordcloud.columns = ['token','frequency']\n",
      "\n",
      "wordcloud['token_len'] = wordcloud['token'].str.len()\n",
      "wordcloud = wordcloud.loc[wordcloud['token_len'] > 2,].reset_index(drop=True)\n",
      "wordcloud"
     ],
     "language": "python",
     "metadata": {},
     "outputs": [
      {
       "html": [
        "<div style=\"max-height:1000px;max-width:1500px;overflow:auto;\">\n",
        "<table border=\"1\" class=\"dataframe\">\n",
        "  <thead>\n",
        "    <tr style=\"text-align: right;\">\n",
        "      <th></th>\n",
        "      <th>token</th>\n",
        "      <th>frequency</th>\n",
        "      <th>token_len</th>\n",
        "    </tr>\n",
        "  </thead>\n",
        "  <tbody>\n",
        "    <tr>\n",
        "      <th>0    </th>\n",
        "      <td>                     the</td>\n",
        "      <td> 5167</td>\n",
        "      <td>  3</td>\n",
        "    </tr>\n",
        "    <tr>\n",
        "      <th>1    </th>\n",
        "      <td>                     com</td>\n",
        "      <td> 5095</td>\n",
        "      <td>  3</td>\n",
        "    </tr>\n",
        "    <tr>\n",
        "      <th>2    </th>\n",
        "      <td>                     ://</td>\n",
        "      <td> 3147</td>\n",
        "      <td>  3</td>\n",
        "    </tr>\n",
        "    <tr>\n",
        "      <th>3    </th>\n",
        "      <td>                     and</td>\n",
        "      <td> 2403</td>\n",
        "      <td>  3</td>\n",
        "    </tr>\n",
        "    <tr>\n",
        "      <th>4    </th>\n",
        "      <td>                 oration</td>\n",
        "      <td> 2231</td>\n",
        "      <td>  7</td>\n",
        "    </tr>\n",
        "    <tr>\n",
        "      <th>5    </th>\n",
        "      <td>                    mail</td>\n",
        "      <td> 2176</td>\n",
        "      <td>  4</td>\n",
        "    </tr>\n",
        "    <tr>\n",
        "      <th>6    </th>\n",
        "      <td>                   https</td>\n",
        "      <td> 1939</td>\n",
        "      <td>  5</td>\n",
        "    </tr>\n",
        "    <tr>\n",
        "      <th>7    </th>\n",
        "      <td>                     for</td>\n",
        "      <td> 1846</td>\n",
        "      <td>  3</td>\n",
        "    </tr>\n",
        "    <tr>\n",
        "      <th>8    </th>\n",
        "      <td>                     you</td>\n",
        "      <td> 1672</td>\n",
        "      <td>  3</td>\n",
        "    </tr>\n",
        "    <tr>\n",
        "      <th>9    </th>\n",
        "      <td>                  \\r\\n&gt; </td>\n",
        "      <td> 1611</td>\n",
        "      <td>  4</td>\n",
        "    </tr>\n",
        "    <tr>\n",
        "      <th>10   </th>\n",
        "      <td>                    http</td>\n",
        "      <td> 1526</td>\n",
        "      <td>  4</td>\n",
        "    </tr>\n",
        "    <tr>\n",
        "      <th>11   </th>\n",
        "      <td>                  google</td>\n",
        "      <td> 1356</td>\n",
        "      <td>  6</td>\n",
        "    </tr>\n",
        "    <tr>\n",
        "      <th>12   </th>\n",
        "      <td>                    2015</td>\n",
        "      <td> 1277</td>\n",
        "      <td>  4</td>\n",
        "    </tr>\n",
        "    <tr>\n",
        "      <th>13   </th>\n",
        "      <td>                     : (</td>\n",
        "      <td> 1186</td>\n",
        "      <td>  3</td>\n",
        "    </tr>\n",
        "    <tr>\n",
        "      <th>14   </th>\n",
        "      <td>                     www</td>\n",
        "      <td> 1170</td>\n",
        "      <td>  3</td>\n",
        "    </tr>\n",
        "    <tr>\n",
        "      <th>15   </th>\n",
        "      <td>                    that</td>\n",
        "      <td> 1158</td>\n",
        "      <td>  4</td>\n",
        "    </tr>\n",
        "    <tr>\n",
        "      <th>16   </th>\n",
        "      <td>                     .  </td>\n",
        "      <td> 1014</td>\n",
        "      <td>  3</td>\n",
        "    </tr>\n",
        "    <tr>\n",
        "      <th>17   </th>\n",
        "      <td>                     986</td>\n",
        "      <td> 1009</td>\n",
        "      <td>  3</td>\n",
        "    </tr>\n",
        "    <tr>\n",
        "      <th>18   </th>\n",
        "      <td>                     142</td>\n",
        "      <td>  968</td>\n",
        "      <td>  3</td>\n",
        "    </tr>\n",
        "    <tr>\n",
        "      <th>19   </th>\n",
        "      <td>                   wrote</td>\n",
        "      <td>  949</td>\n",
        "      <td>  5</td>\n",
        "    </tr>\n",
        "    <tr>\n",
        "      <th>20   </th>\n",
        "      <td>                 Oration</td>\n",
        "      <td>  934</td>\n",
        "      <td>  7</td>\n",
        "    </tr>\n",
        "    <tr>\n",
        "      <th>21   </th>\n",
        "      <td>                     650</td>\n",
        "      <td>  928</td>\n",
        "      <td>  3</td>\n",
        "    </tr>\n",
        "    <tr>\n",
        "      <th>22   </th>\n",
        "      <td>                 \\r\\n&gt;&gt; </td>\n",
        "      <td>  862</td>\n",
        "      <td>  5</td>\n",
        "    </tr>\n",
        "    <tr>\n",
        "      <th>23   </th>\n",
        "      <td>                    this</td>\n",
        "      <td>  842</td>\n",
        "      <td>  4</td>\n",
        "    </tr>\n",
        "    <tr>\n",
        "      <th>24   </th>\n",
        "      <td>                    with</td>\n",
        "      <td>  823</td>\n",
        "      <td>  4</td>\n",
        "    </tr>\n",
        "    <tr>\n",
        "      <th>25   </th>\n",
        "      <td>                   Darin</td>\n",
        "      <td>  814</td>\n",
        "      <td>  5</td>\n",
        "    </tr>\n",
        "    <tr>\n",
        "      <th>26   </th>\n",
        "      <td>                   Suite</td>\n",
        "      <td>  797</td>\n",
        "      <td>  5</td>\n",
        "    </tr>\n",
        "    <tr>\n",
        "      <th>27   </th>\n",
        "      <td>                    City</td>\n",
        "      <td>  789</td>\n",
        "      <td>  4</td>\n",
        "    </tr>\n",
        "    <tr>\n",
        "      <th>28   </th>\n",
        "      <td>                     559</td>\n",
        "      <td>  776</td>\n",
        "      <td>  3</td>\n",
        "    </tr>\n",
        "    <tr>\n",
        "      <th>29   </th>\n",
        "      <td>                   94404</td>\n",
        "      <td>  775</td>\n",
        "      <td>  5</td>\n",
        "    </tr>\n",
        "    <tr>\n",
        "      <th>...</th>\n",
        "      <td>...</td>\n",
        "      <td>...</td>\n",
        "      <td>...</td>\n",
        "    </tr>\n",
        "    <tr>\n",
        "      <th>12891</th>\n",
        "      <td>                   alexs</td>\n",
        "      <td>    1</td>\n",
        "      <td>  5</td>\n",
        "    </tr>\n",
        "    <tr>\n",
        "      <th>12892</th>\n",
        "      <td>                     PNC</td>\n",
        "      <td>    1</td>\n",
        "      <td>  3</td>\n",
        "    </tr>\n",
        "    <tr>\n",
        "      <th>12893</th>\n",
        "      <td>      SlCKGyKWyTelLBUSLr</td>\n",
        "      <td>    1</td>\n",
        "      <td> 18</td>\n",
        "    </tr>\n",
        "    <tr>\n",
        "      <th>12894</th>\n",
        "      <td>                   Smola</td>\n",
        "      <td>    1</td>\n",
        "      <td>  5</td>\n",
        "    </tr>\n",
        "    <tr>\n",
        "      <th>12895</th>\n",
        "      <td>                   bianp</td>\n",
        "      <td>    1</td>\n",
        "      <td>  5</td>\n",
        "    </tr>\n",
        "    <tr>\n",
        "      <th>12896</th>\n",
        "      <td>   &gt;\\r\\n&gt;&gt;\\r\\n&gt;&gt;\\r\\n&gt;&gt;  </td>\n",
        "      <td>    1</td>\n",
        "      <td> 15</td>\n",
        "    </tr>\n",
        "    <tr>\n",
        "      <th>12897</th>\n",
        "      <td>             demonstrate</td>\n",
        "      <td>    1</td>\n",
        "      <td> 11</td>\n",
        "    </tr>\n",
        "    <tr>\n",
        "      <th>12898</th>\n",
        "      <td>  :)\\r\\n&gt;&gt;&gt;&gt;&gt;\\r\\n&gt;&gt;&gt;&gt;&gt;  </td>\n",
        "      <td>    1</td>\n",
        "      <td> 19</td>\n",
        "    </tr>\n",
        "    <tr>\n",
        "      <th>12899</th>\n",
        "      <td>               eagerness</td>\n",
        "      <td>    1</td>\n",
        "      <td>  9</td>\n",
        "    </tr>\n",
        "    <tr>\n",
        "      <th>12900</th>\n",
        "      <td>                        </td>\n",
        "      <td>    1</td>\n",
        "      <td> 12</td>\n",
        "    </tr>\n",
        "    <tr>\n",
        "      <th>12901</th>\n",
        "      <td>                    . &lt;/</td>\n",
        "      <td>    1</td>\n",
        "      <td>  4</td>\n",
        "    </tr>\n",
        "    <tr>\n",
        "      <th>12902</th>\n",
        "      <td>                   _Food</td>\n",
        "      <td>    1</td>\n",
        "      <td>  5</td>\n",
        "    </tr>\n",
        "    <tr>\n",
        "      <th>12903</th>\n",
        "      <td>                 percent</td>\n",
        "      <td>    1</td>\n",
        "      <td>  7</td>\n",
        "    </tr>\n",
        "    <tr>\n",
        "      <th>12904</th>\n",
        "      <td>            overspending</td>\n",
        "      <td>    1</td>\n",
        "      <td> 12</td>\n",
        "    </tr>\n",
        "    <tr>\n",
        "      <th>12905</th>\n",
        "      <td>                  branch</td>\n",
        "      <td>    1</td>\n",
        "      <td>  6</td>\n",
        "    </tr>\n",
        "    <tr>\n",
        "      <th>12906</th>\n",
        "      <td>               Improving</td>\n",
        "      <td>    1</td>\n",
        "      <td>  9</td>\n",
        "    </tr>\n",
        "    <tr>\n",
        "      <th>12907</th>\n",
        "      <td>                   azack</td>\n",
        "      <td>    1</td>\n",
        "      <td>  5</td>\n",
        "    </tr>\n",
        "    <tr>\n",
        "      <th>12908</th>\n",
        "      <td>                  Segway</td>\n",
        "      <td>    1</td>\n",
        "      <td>  6</td>\n",
        "    </tr>\n",
        "    <tr>\n",
        "      <th>12909</th>\n",
        "      <td>                    kceN</td>\n",
        "      <td>    1</td>\n",
        "      <td>  4</td>\n",
        "    </tr>\n",
        "    <tr>\n",
        "      <th>12910</th>\n",
        "      <td>                 VXJaArQ</td>\n",
        "      <td>    1</td>\n",
        "      <td>  7</td>\n",
        "    </tr>\n",
        "    <tr>\n",
        "      <th>12911</th>\n",
        "      <td>           qndcGdWFheH_a</td>\n",
        "      <td>    1</td>\n",
        "      <td> 13</td>\n",
        "    </tr>\n",
        "    <tr>\n",
        "      <th>12912</th>\n",
        "      <td>                     aQA</td>\n",
        "      <td>    1</td>\n",
        "      <td>  3</td>\n",
        "    </tr>\n",
        "    <tr>\n",
        "      <th>12913</th>\n",
        "      <td>                    dpN_</td>\n",
        "      <td>    1</td>\n",
        "      <td>  4</td>\n",
        "    </tr>\n",
        "    <tr>\n",
        "      <th>12914</th>\n",
        "      <td>            )\\r\\n&gt;&gt;&gt;&gt;&gt;&gt; </td>\n",
        "      <td>    1</td>\n",
        "      <td> 10</td>\n",
        "    </tr>\n",
        "    <tr>\n",
        "      <th>12915</th>\n",
        "      <td>                 expands</td>\n",
        "      <td>    1</td>\n",
        "      <td>  7</td>\n",
        "    </tr>\n",
        "    <tr>\n",
        "      <th>12916</th>\n",
        "      <td>              Smartwatch</td>\n",
        "      <td>    1</td>\n",
        "      <td> 10</td>\n",
        "    </tr>\n",
        "    <tr>\n",
        "      <th>12917</th>\n",
        "      <td>           kSCzUOnbSrHKp</td>\n",
        "      <td>    1</td>\n",
        "      <td> 13</td>\n",
        "    </tr>\n",
        "    <tr>\n",
        "      <th>12918</th>\n",
        "      <td>                   imJtn</td>\n",
        "      <td>    1</td>\n",
        "      <td>  5</td>\n",
        "    </tr>\n",
        "    <tr>\n",
        "      <th>12919</th>\n",
        "      <td>                    (*) </td>\n",
        "      <td>    1</td>\n",
        "      <td>  4</td>\n",
        "    </tr>\n",
        "    <tr>\n",
        "      <th>12920</th>\n",
        "      <td>              &amp;\\r\\n&gt;&gt;&gt;&gt; </td>\n",
        "      <td>    1</td>\n",
        "      <td>  9</td>\n",
        "    </tr>\n",
        "  </tbody>\n",
        "</table>\n",
        "<p>12921 rows \u00d7 3 columns</p>\n",
        "</div>"
       ],
       "metadata": {},
       "output_type": "pyout",
       "prompt_number": 120,
       "text": [
        "                         token  frequency  token_len\n",
        "0                          the       5167          3\n",
        "1                          com       5095          3\n",
        "2                          ://       3147          3\n",
        "3                          and       2403          3\n",
        "4                      oration       2231          7\n",
        "5                         mail       2176          4\n",
        "6                        https       1939          5\n",
        "7                          for       1846          3\n",
        "8                          you       1672          3\n",
        "9                       \\r\\n>        1611          4\n",
        "10                        http       1526          4\n",
        "11                      google       1356          6\n",
        "12                        2015       1277          4\n",
        "13                         : (       1186          3\n",
        "14                         www       1170          3\n",
        "15                        that       1158          4\n",
        "16                         .         1014          3\n",
        "17                         986       1009          3\n",
        "18                         142        968          3\n",
        "19                       wrote        949          5\n",
        "20                     Oration        934          7\n",
        "21                         650        928          3\n",
        "22                     \\r\\n>>         862          5\n",
        "23                        this        842          4\n",
        "24                        with        823          4\n",
        "25                       Darin        814          5\n",
        "26                       Suite        797          5\n",
        "27                        City        789          4\n",
        "28                         559        776          3\n",
        "29                       94404        775          5\n",
        "...                        ...        ...        ...\n",
        "12891                    alexs          1          5\n",
        "12892                      PNC          1          3\n",
        "12893       SlCKGyKWyTelLBUSLr          1         18\n",
        "12894                    Smola          1          5\n",
        "12895                    bianp          1          5\n",
        "12896    >\\r\\n>>\\r\\n>>\\r\\n>>            1         15\n",
        "12897              demonstrate          1         11\n",
        "12898   :)\\r\\n>>>>>\\r\\n>>>>>            1         19\n",
        "12899                eagerness          1          9\n",
        "12900                                   1         12\n",
        "12901                     . </          1          4\n",
        "12902                    _Food          1          5\n",
        "12903                  percent          1          7\n",
        "12904             overspending          1         12\n",
        "12905                   branch          1          6\n",
        "12906                Improving          1          9\n",
        "12907                    azack          1          5\n",
        "12908                   Segway          1          6\n",
        "12909                     kceN          1          4\n",
        "12910                  VXJaArQ          1          7\n",
        "12911            qndcGdWFheH_a          1         13\n",
        "12912                      aQA          1          3\n",
        "12913                     dpN_          1          4\n",
        "12914             )\\r\\n>>>>>>           1         10\n",
        "12915                  expands          1          7\n",
        "12916               Smartwatch          1         10\n",
        "12917            kSCzUOnbSrHKp          1         13\n",
        "12918                    imJtn          1          5\n",
        "12919                     (*)           1          4\n",
        "12920               &\\r\\n>>>>           1          9\n",
        "\n",
        "[12921 rows x 3 columns]"
       ]
      }
     ],
     "prompt_number": 120
    },
    {
     "cell_type": "code",
     "collapsed": false,
     "input": [
      "# filter random strings\n",
      "wordcloud = wordcloud[wordcloud['token_len'] > 3]\n",
      "wordcloud = wordcloud[-wordcloud['token'].str.contains('/')]\n",
      "wordcloud = wordcloud[-wordcloud['token'].str.contains('\\r\\n')]\n",
      "wordcloud = wordcloud[-wordcloud['token'].str.contains('==&')]\n",
      "wordcloud = wordcloud[-wordcloud['token'].str.contains('the')]\n",
      "wordcloud = wordcloud[-wordcloud['token'].str.contains('and')]\n",
      "wordcloud = wordcloud[-wordcloud['token'].str.contains('for')]\n",
      "wordcloud = wordcloud[-wordcloud['token'].str.contains('you')]\n",
      "wordcloud = wordcloud[-wordcloud['token'].str.contains('can')]\n",
      "wordcloud = wordcloud[-wordcloud['token'].str.contains('are')]\n",
      "wordcloud = wordcloud[-wordcloud['token'].str.contains('http')]\n",
      "wordcloud = wordcloud[-wordcloud['token'].str.contains('www')]\n",
      "wordcloud = wordcloud[-wordcloud['token'].str.contains('com')]\n",
      "wordcloud = wordcloud[-wordcloud['token'].str.contains('mail')]\n",
      "wordcloud = wordcloud[-wordcloud['token'].str.contains('this')]\n",
      "wordcloud = wordcloud[-wordcloud['token'].str.contains('that')]\n",
      "wordcloud = wordcloud[-wordcloud['token'].str.contains('with')]\n",
      "wordcloud = wordcloud[-wordcloud['token'].str.contains('image')]\n",
      "wordcloud = wordcloud[-wordcloud['token'].str.contains('logo')]\n",
      "wordcloud = wordcloud[-wordcloud['token'].str.contains('Pilgrim')]\n",
      "wordcloud = wordcloud[-wordcloud['token'].str.contains('Foster')]\n",
      "wordcloud = wordcloud[-wordcloud['token'].str.contains('Office')]\n",
      "wordcloud = wordcloud[-wordcloud['token'].str.contains('Suite')]\n",
      "wordcloud = wordcloud[-wordcloud['token'].str.contains('Jan')]\n",
      "wordcloud = wordcloud[-wordcloud['token'].str.contains('Feb')]\n",
      "wordcloud = wordcloud[-wordcloud['token'].str.contains('Mar')]\n",
      "\n",
      "# filter for only completely lower/title case:\n",
      "lower = []\n",
      "for c in wordcloud['token']:\n",
      "    if (c.islower() | c.istitle()):\n",
      "        lower.append(True)\n",
      "    else:\n",
      "        lower.append(False)\n",
      "\n",
      "wordcloud = wordcloud[lower]"
     ],
     "language": "python",
     "metadata": {},
     "outputs": [],
     "prompt_number": 121
    },
    {
     "cell_type": "code",
     "collapsed": false,
     "input": [
      "wordcloud.groupby('token').sum().sort(columns='frequency', ascending=False).reset_index()"
     ],
     "language": "python",
     "metadata": {},
     "outputs": [
      {
       "html": [
        "<div style=\"max-height:1000px;max-width:1500px;overflow:auto;\">\n",
        "<table border=\"1\" class=\"dataframe\">\n",
        "  <thead>\n",
        "    <tr style=\"text-align: right;\">\n",
        "      <th></th>\n",
        "      <th>token</th>\n",
        "      <th>frequency</th>\n",
        "      <th>token_len</th>\n",
        "    </tr>\n",
        "  </thead>\n",
        "  <tbody>\n",
        "    <tr>\n",
        "      <th>0   </th>\n",
        "      <td>        oration</td>\n",
        "      <td> 2231</td>\n",
        "      <td>  7</td>\n",
        "    </tr>\n",
        "    <tr>\n",
        "      <th>1   </th>\n",
        "      <td>         google</td>\n",
        "      <td> 1356</td>\n",
        "      <td>  6</td>\n",
        "    </tr>\n",
        "    <tr>\n",
        "      <th>2   </th>\n",
        "      <td>          wrote</td>\n",
        "      <td>  949</td>\n",
        "      <td>  5</td>\n",
        "    </tr>\n",
        "    <tr>\n",
        "      <th>3   </th>\n",
        "      <td>        Oration</td>\n",
        "      <td>  934</td>\n",
        "      <td>  7</td>\n",
        "    </tr>\n",
        "    <tr>\n",
        "      <th>4   </th>\n",
        "      <td>          Darin</td>\n",
        "      <td>  814</td>\n",
        "      <td>  5</td>\n",
        "    </tr>\n",
        "    <tr>\n",
        "      <th>5   </th>\n",
        "      <td>           City</td>\n",
        "      <td>  789</td>\n",
        "      <td>  4</td>\n",
        "    </tr>\n",
        "    <tr>\n",
        "      <th>6   </th>\n",
        "      <td>           have</td>\n",
        "      <td>  660</td>\n",
        "      <td>  4</td>\n",
        "    </tr>\n",
        "    <tr>\n",
        "      <th>7   </th>\n",
        "      <td>           from</td>\n",
        "      <td>  659</td>\n",
        "      <td>  4</td>\n",
        "    </tr>\n",
        "    <tr>\n",
        "      <th>8   </th>\n",
        "      <td>           Eric</td>\n",
        "      <td>  543</td>\n",
        "      <td>  4</td>\n",
        "    </tr>\n",
        "    <tr>\n",
        "      <th>9   </th>\n",
        "      <td>           data</td>\n",
        "      <td>  534</td>\n",
        "      <td>  4</td>\n",
        "    </tr>\n",
        "    <tr>\n",
        "      <th>10  </th>\n",
        "      <td>         Thanks</td>\n",
        "      <td>  532</td>\n",
        "      <td>  6</td>\n",
        "    </tr>\n",
        "    <tr>\n",
        "      <th>11  </th>\n",
        "      <td>           Cell</td>\n",
        "      <td>  463</td>\n",
        "      <td>  4</td>\n",
        "    </tr>\n",
        "    <tr>\n",
        "      <th>12  </th>\n",
        "      <td>           Sean</td>\n",
        "      <td>  461</td>\n",
        "      <td>  4</td>\n",
        "    </tr>\n",
        "    <tr>\n",
        "      <th>13  </th>\n",
        "      <td>       Shneider</td>\n",
        "      <td>  459</td>\n",
        "      <td>  8</td>\n",
        "    </tr>\n",
        "    <tr>\n",
        "      <th>14  </th>\n",
        "      <td>           will</td>\n",
        "      <td>  458</td>\n",
        "      <td>  4</td>\n",
        "    </tr>\n",
        "    <tr>\n",
        "      <th>15  </th>\n",
        "      <td>        Buxbaum</td>\n",
        "      <td>  419</td>\n",
        "      <td>  7</td>\n",
        "    </tr>\n",
        "    <tr>\n",
        "      <th>16  </th>\n",
        "      <td>          about</td>\n",
        "      <td>  321</td>\n",
        "      <td>  5</td>\n",
        "    </tr>\n",
        "    <tr>\n",
        "      <th>17  </th>\n",
        "      <td>           need</td>\n",
        "      <td>  313</td>\n",
        "      <td>  4</td>\n",
        "    </tr>\n",
        "    <tr>\n",
        "      <th>18  </th>\n",
        "      <td>        message</td>\n",
        "      <td>  307</td>\n",
        "      <td>  7</td>\n",
        "    </tr>\n",
        "    <tr>\n",
        "      <th>19  </th>\n",
        "      <td>           more</td>\n",
        "      <td>  288</td>\n",
        "      <td>  4</td>\n",
        "    </tr>\n",
        "    <tr>\n",
        "      <th>20  </th>\n",
        "      <td>        smacrae</td>\n",
        "      <td>  287</td>\n",
        "      <td>  7</td>\n",
        "    </tr>\n",
        "    <tr>\n",
        "      <th>21  </th>\n",
        "      <td>           shva</td>\n",
        "      <td>  280</td>\n",
        "      <td>  4</td>\n",
        "    </tr>\n",
        "    <tr>\n",
        "      <th>22  </th>\n",
        "      <td>           into</td>\n",
        "      <td>  277</td>\n",
        "      <td>  4</td>\n",
        "    </tr>\n",
        "    <tr>\n",
        "      <th>23  </th>\n",
        "      <td>           Chen</td>\n",
        "      <td>  270</td>\n",
        "      <td>  4</td>\n",
        "    </tr>\n",
        "    <tr>\n",
        "      <th>24  </th>\n",
        "      <td>           been</td>\n",
        "      <td>  269</td>\n",
        "      <td>  4</td>\n",
        "    </tr>\n",
        "    <tr>\n",
        "      <th>25  </th>\n",
        "      <td>           This</td>\n",
        "      <td>  264</td>\n",
        "      <td>  4</td>\n",
        "    </tr>\n",
        "    <tr>\n",
        "      <th>26  </th>\n",
        "      <td>          style</td>\n",
        "      <td>  259</td>\n",
        "      <td>  5</td>\n",
        "    </tr>\n",
        "    <tr>\n",
        "      <th>27  </th>\n",
        "      <td>       Engineer</td>\n",
        "      <td>  251</td>\n",
        "      <td>  8</td>\n",
        "    </tr>\n",
        "    <tr>\n",
        "      <th>28  </th>\n",
        "      <td>        buxbaum</td>\n",
        "      <td>  250</td>\n",
        "      <td>  7</td>\n",
        "    </tr>\n",
        "    <tr>\n",
        "      <th>29  </th>\n",
        "      <td>          would</td>\n",
        "      <td>  245</td>\n",
        "      <td>  5</td>\n",
        "    </tr>\n",
        "    <tr>\n",
        "      <th>...</th>\n",
        "      <td>...</td>\n",
        "      <td>...</td>\n",
        "      <td>...</td>\n",
        "    </tr>\n",
        "    <tr>\n",
        "      <th>5950</th>\n",
        "      <td>        disrupt</td>\n",
        "      <td>    1</td>\n",
        "      <td>  7</td>\n",
        "    </tr>\n",
        "    <tr>\n",
        "      <th>5951</th>\n",
        "      <td>  distinguished</td>\n",
        "      <td>    1</td>\n",
        "      <td> 13</td>\n",
        "    </tr>\n",
        "    <tr>\n",
        "      <th>5952</th>\n",
        "      <td>         diving</td>\n",
        "      <td>    1</td>\n",
        "      <td>  6</td>\n",
        "    </tr>\n",
        "    <tr>\n",
        "      <th>5953</th>\n",
        "      <td>       division</td>\n",
        "      <td>    1</td>\n",
        "      <td>  8</td>\n",
        "    </tr>\n",
        "    <tr>\n",
        "      <th>5954</th>\n",
        "      <td>     documented</td>\n",
        "      <td>    1</td>\n",
        "      <td> 10</td>\n",
        "    </tr>\n",
        "    <tr>\n",
        "      <th>5955</th>\n",
        "      <td>      documents</td>\n",
        "      <td>    1</td>\n",
        "      <td>  9</td>\n",
        "    </tr>\n",
        "    <tr>\n",
        "      <th>5956</th>\n",
        "      <td>         digits</td>\n",
        "      <td>    1</td>\n",
        "      <td>  6</td>\n",
        "    </tr>\n",
        "    <tr>\n",
        "      <th>5957</th>\n",
        "      <td> differentiated</td>\n",
        "      <td>    1</td>\n",
        "      <td> 14</td>\n",
        "    </tr>\n",
        "    <tr>\n",
        "      <th>5958</th>\n",
        "      <td>       deleting</td>\n",
        "      <td>    1</td>\n",
        "      <td>  8</td>\n",
        "    </tr>\n",
        "    <tr>\n",
        "      <th>5959</th>\n",
        "      <td>        dietary</td>\n",
        "      <td>    1</td>\n",
        "      <td>  7</td>\n",
        "    </tr>\n",
        "    <tr>\n",
        "      <th>5960</th>\n",
        "      <td>    demonstrate</td>\n",
        "      <td>    1</td>\n",
        "      <td> 11</td>\n",
        "    </tr>\n",
        "    <tr>\n",
        "      <th>5961</th>\n",
        "      <td>     denizyuret</td>\n",
        "      <td>    1</td>\n",
        "      <td> 10</td>\n",
        "    </tr>\n",
        "    <tr>\n",
        "      <th>5962</th>\n",
        "      <td>         denver</td>\n",
        "      <td>    1</td>\n",
        "      <td>  6</td>\n",
        "    </tr>\n",
        "    <tr>\n",
        "      <th>5963</th>\n",
        "      <td>   dependencies</td>\n",
        "      <td>    1</td>\n",
        "      <td> 12</td>\n",
        "    </tr>\n",
        "    <tr>\n",
        "      <th>5964</th>\n",
        "      <td>        derived</td>\n",
        "      <td>    1</td>\n",
        "      <td>  7</td>\n",
        "    </tr>\n",
        "    <tr>\n",
        "      <th>5965</th>\n",
        "      <td>     describing</td>\n",
        "      <td>    1</td>\n",
        "      <td> 10</td>\n",
        "    </tr>\n",
        "    <tr>\n",
        "      <th>5966</th>\n",
        "      <td>     descriptor</td>\n",
        "      <td>    1</td>\n",
        "      <td> 10</td>\n",
        "    </tr>\n",
        "    <tr>\n",
        "      <th>5967</th>\n",
        "      <td>    designation</td>\n",
        "      <td>    1</td>\n",
        "      <td> 11</td>\n",
        "    </tr>\n",
        "    <tr>\n",
        "      <th>5968</th>\n",
        "      <td>        designs</td>\n",
        "      <td>    1</td>\n",
        "      <td>  7</td>\n",
        "    </tr>\n",
        "    <tr>\n",
        "      <th>5969</th>\n",
        "      <td>        desired</td>\n",
        "      <td>    1</td>\n",
        "      <td>  7</td>\n",
        "    </tr>\n",
        "    <tr>\n",
        "      <th>5970</th>\n",
        "      <td>       desserts</td>\n",
        "      <td>    1</td>\n",
        "      <td>  8</td>\n",
        "    </tr>\n",
        "    <tr>\n",
        "      <th>5971</th>\n",
        "      <td>     determined</td>\n",
        "      <td>    1</td>\n",
        "      <td> 10</td>\n",
        "    </tr>\n",
        "    <tr>\n",
        "      <th>5972</th>\n",
        "      <td>      developer</td>\n",
        "      <td>    1</td>\n",
        "      <td>  9</td>\n",
        "    </tr>\n",
        "    <tr>\n",
        "      <th>5973</th>\n",
        "      <td>   developments</td>\n",
        "      <td>    1</td>\n",
        "      <td> 12</td>\n",
        "    </tr>\n",
        "    <tr>\n",
        "      <th>5974</th>\n",
        "      <td>       develops</td>\n",
        "      <td>    1</td>\n",
        "      <td>  8</td>\n",
        "    </tr>\n",
        "    <tr>\n",
        "      <th>5975</th>\n",
        "      <td>        diagram</td>\n",
        "      <td>    1</td>\n",
        "      <td>  7</td>\n",
        "    </tr>\n",
        "    <tr>\n",
        "      <th>5976</th>\n",
        "      <td>       diagrams</td>\n",
        "      <td>    1</td>\n",
        "      <td>  8</td>\n",
        "    </tr>\n",
        "    <tr>\n",
        "      <th>5977</th>\n",
        "      <td>        dialing</td>\n",
        "      <td>    1</td>\n",
        "      <td>  7</td>\n",
        "    </tr>\n",
        "    <tr>\n",
        "      <th>5978</th>\n",
        "      <td>          diego</td>\n",
        "      <td>    1</td>\n",
        "      <td>  5</td>\n",
        "    </tr>\n",
        "    <tr>\n",
        "      <th>5979</th>\n",
        "      <td>          zrtus</td>\n",
        "      <td>    1</td>\n",
        "      <td>  5</td>\n",
        "    </tr>\n",
        "  </tbody>\n",
        "</table>\n",
        "<p>5980 rows \u00d7 3 columns</p>\n",
        "</div>"
       ],
       "metadata": {},
       "output_type": "pyout",
       "prompt_number": 126,
       "text": [
        "               token  frequency  token_len\n",
        "0            oration       2231          7\n",
        "1             google       1356          6\n",
        "2              wrote        949          5\n",
        "3            Oration        934          7\n",
        "4              Darin        814          5\n",
        "5               City        789          4\n",
        "6               have        660          4\n",
        "7               from        659          4\n",
        "8               Eric        543          4\n",
        "9               data        534          4\n",
        "10            Thanks        532          6\n",
        "11              Cell        463          4\n",
        "12              Sean        461          4\n",
        "13          Shneider        459          8\n",
        "14              will        458          4\n",
        "15           Buxbaum        419          7\n",
        "16             about        321          5\n",
        "17              need        313          4\n",
        "18           message        307          7\n",
        "19              more        288          4\n",
        "20           smacrae        287          7\n",
        "21              shva        280          4\n",
        "22              into        277          4\n",
        "23              Chen        270          4\n",
        "24              been        269          4\n",
        "25              This        264          4\n",
        "26             style        259          5\n",
        "27          Engineer        251          8\n",
        "28           buxbaum        250          7\n",
        "29             would        245          5\n",
        "...              ...        ...        ...\n",
        "5950         disrupt          1          7\n",
        "5951   distinguished          1         13\n",
        "5952          diving          1          6\n",
        "5953        division          1          8\n",
        "5954      documented          1         10\n",
        "5955       documents          1          9\n",
        "5956          digits          1          6\n",
        "5957  differentiated          1         14\n",
        "5958        deleting          1          8\n",
        "5959         dietary          1          7\n",
        "5960     demonstrate          1         11\n",
        "5961      denizyuret          1         10\n",
        "5962          denver          1          6\n",
        "5963    dependencies          1         12\n",
        "5964         derived          1          7\n",
        "5965      describing          1         10\n",
        "5966      descriptor          1         10\n",
        "5967     designation          1         11\n",
        "5968         designs          1          7\n",
        "5969         desired          1          7\n",
        "5970        desserts          1          8\n",
        "5971      determined          1         10\n",
        "5972       developer          1          9\n",
        "5973    developments          1         12\n",
        "5974        develops          1          8\n",
        "5975         diagram          1          7\n",
        "5976        diagrams          1          8\n",
        "5977         dialing          1          7\n",
        "5978           diego          1          5\n",
        "5979           zrtus          1          5\n",
        "\n",
        "[5980 rows x 3 columns]"
       ]
      }
     ],
     "prompt_number": 126
    },
    {
     "cell_type": "code",
     "collapsed": false,
     "input": [
      "wordcloud = wordcloud.sort(columns='frequency',ascending=False)\n",
      "wordcloud.to_csv('/Users/smacrae/desktop/wordcloud.csv')"
     ],
     "language": "python",
     "metadata": {},
     "outputs": []
    },
    {
     "cell_type": "code",
     "collapsed": false,
     "input": [
      "# Social Graph\n",
      "# Connections to and from (DataLab?)"
     ],
     "language": "python",
     "metadata": {},
     "outputs": [],
     "prompt_number": 95
    },
    {
     "cell_type": "code",
     "collapsed": false,
     "input": [
      "# Word cloud\n",
      "# Subject\n",
      "# Body"
     ],
     "language": "python",
     "metadata": {},
     "outputs": [],
     "prompt_number": 25
    },
    {
     "cell_type": "code",
     "collapsed": false,
     "input": [
      "# Frequency sent/recieved over time\n",
      "# Ratio of sent/received"
     ],
     "language": "python",
     "metadata": {},
     "outputs": [],
     "prompt_number": 26
    },
    {
     "cell_type": "code",
     "collapsed": false,
     "input": [
      "# Day Parting Analysis (time of day, etc...)"
     ],
     "language": "python",
     "metadata": {},
     "outputs": []
    }
   ],
   "metadata": {}
  }
 ]
}