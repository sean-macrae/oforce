{
 "metadata": {
  "name": ""
 },
 "nbformat": 3,
 "nbformat_minor": 0,
 "worksheets": [
  {
   "cells": [
    {
     "cell_type": "code",
     "collapsed": false,
     "input": [
      "import graphlab as gl"
     ],
     "language": "python",
     "metadata": {},
     "outputs": [
      {
       "output_type": "stream",
       "stream": "stderr",
       "text": [
        "//anaconda/lib/python2.7/site-packages/pandas/computation/expressions.py:21: UserWarning: The installed version of numexpr 2.0.1 is not supported in pandas and will be not be used\n",
        "The minimum supported version is 2.1\n",
        "\n",
        "  \"version is 2.1\\n\".format(ver=ver), UserWarning)\n",
        "[WARNING] Numpy version 1.7.1 is not supported. Minimum required version: 1.8.0. Numpy support will be disabled.\n"
       ]
      }
     ],
     "prompt_number": 1
    },
    {
     "cell_type": "code",
     "collapsed": false,
     "input": [
      "# The following hands-on exercises will help you learn how to work with data using GraphLab Create.\n",
      "\n",
      "# For these exercises we will use a StackOverflow dataset, \n",
      "# which can be obtained as follows as a prepackaged SFrame."
     ],
     "language": "python",
     "metadata": {},
     "outputs": []
    },
    {
     "cell_type": "code",
     "collapsed": false,
     "input": [
      "# Downloads the data from S3 if you haven't already.\n",
      "import os\n",
      "if os.path.exists('stack_overflow'):\n",
      "    sf = gl.SFrame('stack_overflow')\n",
      "else:\n",
      "    sf = gl.SFrame('http://s3.amazonaws.com/GraphLab-Datasets/stack_overflow')\n",
      "    sf.save('stack_overflow')"
     ],
     "language": "python",
     "metadata": {},
     "outputs": [
      {
       "output_type": "stream",
       "stream": "stderr",
       "text": [
        "[INFO] Start server at: ipc:///tmp/graphlab_server-5107 - Server binary: /anaconda/lib/python2.7/site-packages/graphlab/unity_server - Server log: /tmp/graphlab_server_1419824445.log\n"
       ]
      },
      {
       "output_type": "stream",
       "stream": "stderr",
       "text": [
        "[INFO] GraphLab Server Version: 1.2\n"
       ]
      },
      {
       "html": [
        "<pre>PROGRESS: Downloading http://s3.amazonaws.com/GraphLab-Datasets/stack_overflow/dir_archive.ini to /var/tmp/graphlab-Sean/5107/000000.ini</pre>"
       ],
       "metadata": {},
       "output_type": "display_data",
       "text": [
        "PROGRESS: Downloading http://s3.amazonaws.com/GraphLab-Datasets/stack_overflow/dir_archive.ini to /var/tmp/graphlab-Sean/5107/000000.ini"
       ]
      },
      {
       "html": [
        "<pre>PROGRESS: Downloading http://s3.amazonaws.com/GraphLab-Datasets/stack_overflow/objects.bin to /var/tmp/graphlab-Sean/5107/000001.bin</pre>"
       ],
       "metadata": {},
       "output_type": "display_data",
       "text": [
        "PROGRESS: Downloading http://s3.amazonaws.com/GraphLab-Datasets/stack_overflow/objects.bin to /var/tmp/graphlab-Sean/5107/000001.bin"
       ]
      },
      {
       "html": [
        "<pre>PROGRESS: Downloading http://s3.amazonaws.com/GraphLab-Datasets/stack_overflow/m_74b0dc51.frame_idx to /var/tmp/graphlab-Sean/5107/000002.frame_idx</pre>"
       ],
       "metadata": {},
       "output_type": "display_data",
       "text": [
        "PROGRESS: Downloading http://s3.amazonaws.com/GraphLab-Datasets/stack_overflow/m_74b0dc51.frame_idx to /var/tmp/graphlab-Sean/5107/000002.frame_idx"
       ]
      },
      {
       "html": [
        "<pre>PROGRESS: Downloading http://s3.amazonaws.com/GraphLab-Datasets/stack_overflow/m_74b0dc51.sidx to /var/tmp/graphlab-Sean/5107/000003.sidx</pre>"
       ],
       "metadata": {},
       "output_type": "display_data",
       "text": [
        "PROGRESS: Downloading http://s3.amazonaws.com/GraphLab-Datasets/stack_overflow/m_74b0dc51.sidx to /var/tmp/graphlab-Sean/5107/000003.sidx"
       ]
      },
      {
       "html": [
        "<pre>PROGRESS: Downloading http://s3.amazonaws.com/GraphLab-Datasets/stack_overflow/m_74b0dc51.0000 to /var/tmp/graphlab-Sean/5107/000004.0000</pre>"
       ],
       "metadata": {},
       "output_type": "display_data",
       "text": [
        "PROGRESS: Downloading http://s3.amazonaws.com/GraphLab-Datasets/stack_overflow/m_74b0dc51.0000 to /var/tmp/graphlab-Sean/5107/000004.0000"
       ]
      },
      {
       "html": [
        "<pre>PROGRESS: Downloading http://s3.amazonaws.com/GraphLab-Datasets/stack_overflow/m_74b0dc51.0001 to /var/tmp/graphlab-Sean/5107/000005.0001</pre>"
       ],
       "metadata": {},
       "output_type": "display_data",
       "text": [
        "PROGRESS: Downloading http://s3.amazonaws.com/GraphLab-Datasets/stack_overflow/m_74b0dc51.0001 to /var/tmp/graphlab-Sean/5107/000005.0001"
       ]
      },
      {
       "html": [
        "<pre>PROGRESS: Downloading http://s3.amazonaws.com/GraphLab-Datasets/stack_overflow/m_74b0dc51.0002 to /var/tmp/graphlab-Sean/5107/000006.0002</pre>"
       ],
       "metadata": {},
       "output_type": "display_data",
       "text": [
        "PROGRESS: Downloading http://s3.amazonaws.com/GraphLab-Datasets/stack_overflow/m_74b0dc51.0002 to /var/tmp/graphlab-Sean/5107/000006.0002"
       ]
      },
      {
       "html": [
        "<pre>PROGRESS: Downloading http://s3.amazonaws.com/GraphLab-Datasets/stack_overflow/m_74b0dc51.0003 to /var/tmp/graphlab-Sean/5107/000007.0003</pre>"
       ],
       "metadata": {},
       "output_type": "display_data",
       "text": [
        "PROGRESS: Downloading http://s3.amazonaws.com/GraphLab-Datasets/stack_overflow/m_74b0dc51.0003 to /var/tmp/graphlab-Sean/5107/000007.0003"
       ]
      },
      {
       "html": [
        "<pre>PROGRESS: Downloading http://s3.amazonaws.com/GraphLab-Datasets/stack_overflow/m_74b0dc51.0004 to /var/tmp/graphlab-Sean/5107/000008.0004</pre>"
       ],
       "metadata": {},
       "output_type": "display_data",
       "text": [
        "PROGRESS: Downloading http://s3.amazonaws.com/GraphLab-Datasets/stack_overflow/m_74b0dc51.0004 to /var/tmp/graphlab-Sean/5107/000008.0004"
       ]
      },
      {
       "html": [
        "<pre>PROGRESS: Downloading http://s3.amazonaws.com/GraphLab-Datasets/stack_overflow/m_74b0dc51.0005 to /var/tmp/graphlab-Sean/5107/000009.0005</pre>"
       ],
       "metadata": {},
       "output_type": "display_data",
       "text": [
        "PROGRESS: Downloading http://s3.amazonaws.com/GraphLab-Datasets/stack_overflow/m_74b0dc51.0005 to /var/tmp/graphlab-Sean/5107/000009.0005"
       ]
      },
      {
       "html": [
        "<pre>PROGRESS: Downloading http://s3.amazonaws.com/GraphLab-Datasets/stack_overflow/m_74b0dc51.0006 to /var/tmp/graphlab-Sean/5107/000010.0006</pre>"
       ],
       "metadata": {},
       "output_type": "display_data",
       "text": [
        "PROGRESS: Downloading http://s3.amazonaws.com/GraphLab-Datasets/stack_overflow/m_74b0dc51.0006 to /var/tmp/graphlab-Sean/5107/000010.0006"
       ]
      },
      {
       "html": [
        "<pre>PROGRESS: Downloading http://s3.amazonaws.com/GraphLab-Datasets/stack_overflow/m_74b0dc51.0007 to /var/tmp/graphlab-Sean/5107/000011.0007</pre>"
       ],
       "metadata": {},
       "output_type": "display_data",
       "text": [
        "PROGRESS: Downloading http://s3.amazonaws.com/GraphLab-Datasets/stack_overflow/m_74b0dc51.0007 to /var/tmp/graphlab-Sean/5107/000011.0007"
       ]
      }
     ],
     "prompt_number": 3
    },
    {
     "cell_type": "code",
     "collapsed": false,
     "input": [
      "# Question 1: \n",
      "# Unfortunately, there are lots of missing values in this data \n",
      "# that weren't given when parsing. Can you discover what these \n",
      "# values are and replace them so GraphLab Create recognizes them as missing? \n",
      "\n",
      "# Hint: \n",
      "# Some columns are not the type they should be. Use astype to cast to the type you need."
     ],
     "language": "python",
     "metadata": {},
     "outputs": [],
     "prompt_number": 7
    },
    {
     "cell_type": "code",
     "collapsed": false,
     "input": [
      "for i in sf.column_names():\n",
      "    sf[i] = sf[i].apply(lambda x: None if x == '' else x)\n",
      "\n",
      "sf.column_names"
     ],
     "language": "python",
     "metadata": {},
     "outputs": [
      {
       "metadata": {},
       "output_type": "pyout",
       "prompt_number": 8,
       "text": [
        "<bound method SFrame.column_names of Columns:\n",
        "\tPostId\tstr\n",
        "\tPostCreationDate\tstr\n",
        "\tOwnerUserId\tstr\n",
        "\tOwnerCreationDate\tstr\n",
        "\tReputationAtPostCreation\tstr\n",
        "\tOwnerUndeletedAnswerCountAtPostTime\tstr\n",
        "\tTitle\tstr\n",
        "\tBodyMarkdown\tstr\n",
        "\tTag1\tstr\n",
        "\tTag2\tstr\n",
        "\tTag3\tstr\n",
        "\tTag4\tstr\n",
        "\tTag5\tstr\n",
        "\tPostClosedDate\tstr\n",
        "\tOpenStatus\tstr\n",
        "\n",
        "Rows: 3643508\n",
        "\n",
        "Data:\n",
        "+--------+---------------------+-------------+---------------------+--------------------------+\n",
        "| PostId |   PostCreationDate  | OwnerUserId |  OwnerCreationDate  | ReputationAtPostCreation |\n",
        "+--------+---------------------+-------------+---------------------+--------------------------+\n",
        "|   4    | 07/31/2008 21:42:52 |      8      | 07/31/2008 21:33:24 |            1             |\n",
        "|   6    | 07/31/2008 22:08:08 |      9      | 07/31/2008 21:35:26 |            1             |\n",
        "|   8    | 07/31/2008 23:33:19 |      9      | 07/31/2008 21:35:26 |            16            |\n",
        "|   9    | 07/31/2008 23:40:59 |      1      | 07/31/2008 14:22:31 |            1             |\n",
        "|   11   | 07/31/2008 23:55:37 |      1      | 07/31/2008 14:22:31 |            1             |\n",
        "|   13   | 08/01/2008 00:42:38 |      9      | 07/31/2008 21:35:26 |            16            |\n",
        "|   14   | 08/01/2008 00:59:11 |      11     | 08/01/2008 00:59:11 |            1             |\n",
        "|   16   | 08/01/2008 04:59:33 |      2      | 07/31/2008 14:22:31 |            1             |\n",
        "|   17   | 08/01/2008 05:09:55 |      2      | 07/31/2008 14:22:31 |            1             |\n",
        "|   19   | 08/01/2008 05:21:22 |      13     | 08/01/2008 04:18:04 |            1             |\n",
        "+--------+---------------------+-------------+---------------------+--------------------------+\n",
        "+--------------------------------+--------------------------------+\n",
        "| OwnerUndeletedAnswerCountA ... |             Title              |\n",
        "+--------------------------------+--------------------------------+\n",
        "|               0                |       Decimal vs Double?       |\n",
        "|               0                | Percentage width child in  ... |\n",
        "|               1                | Tools for porting J# code  ... |\n",
        "|               1                | How do I calculate someone ... |\n",
        "|               2                | How do I calculate relativ ... |\n",
        "|               1                | Determining web user's tim ... |\n",
        "|               0                | What's the difference betw ... |\n",
        "|               0                | How do I fill a DataSet or ... |\n",
        "|               0                |      Binary Data in MYSQL      |\n",
        "|               0                | Fastest way to get value of pi |\n",
        "+--------------------------------+--------------------------------+\n",
        "+--------------------------------+----------+-------------+-------------------+\n",
        "|          BodyMarkdown          |   Tag1   |     Tag2    |        Tag3       |\n",
        "+--------------------------------+----------+-------------+-------------------+\n",
        "| I'm new to C#, and I want  ... |    c#    |     None    |        None       |\n",
        "| I've got an absolutely pos ... |   html   |     css     |        None       |\n",
        "| Are there any conversion t ... |    j#    |     None    |        None       |\n",
        "| Given a DateTime represent ... |    c#    |     None    |        None       |\n",
        "| Given a specific DateTime  ... |    c#    |     None    |        None       |\n",
        "| Is there a standard way fo ... |   html   |   browser   |        None       |\n",
        "| What is the difference bet ... |    c#    |     None    |        None       |\n",
        "| How do you expose a LINQ q ... |   linq   | web-service |         c#        |\n",
        "| How do I store binary data ... | database |    mysql    |        None       |\n",
        "| Solutions welcome in any l ... |    pi    |    speed    | language-agnostic |\n",
        "+--------------------------------+----------+-------------+-------------------+\n",
        "+------+------+----------------+------------+\n",
        "| Tag4 | Tag5 | PostClosedDate | OpenStatus |\n",
        "+------+------+----------------+------------+\n",
        "| None | None |      None      |    open    |\n",
        "| None | None |      None      |    open    |\n",
        "| None | None |      None      |    open    |\n",
        "| None | None |      None      |    open    |\n",
        "| None | None |      None      |    open    |\n",
        "| None | None |      None      |    open    |\n",
        "| None | None |      None      |    open    |\n",
        "| None | None |      None      |    open    |\n",
        "| None | None |      None      |    open    |\n",
        "| unix | None |      None      |    open    |\n",
        "| ...  | ...  |      ...       |    ...     |\n",
        "+------+------+----------------+------------+\n",
        "[3643508 rows x 15 columns]\n",
        "Note: Only the head of the SFrame is printed.\n",
        "You can use print_rows(num_rows=m, num_columns=n) to print more rows and columns.>"
       ]
      }
     ],
     "prompt_number": 8
    },
    {
     "cell_type": "code",
     "collapsed": false,
     "input": [],
     "language": "python",
     "metadata": {},
     "outputs": []
    }
   ],
   "metadata": {}
  }
 ]
}