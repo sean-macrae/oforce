{
 "metadata": {
  "name": ""
 },
 "nbformat": 3,
 "nbformat_minor": 0,
 "worksheets": [
  {
   "cells": [
    {
     "cell_type": "code",
     "collapsed": false,
     "input": [
      "import graphlab as gl\n",
      "# gl.canvas.set_target('ipynb')"
     ],
     "language": "python",
     "metadata": {},
     "outputs": [
      {
       "output_type": "stream",
       "stream": "stderr",
       "text": [
        "//anaconda/lib/python2.7/site-packages/pandas/computation/expressions.py:21: UserWarning: The installed version of numexpr 2.0.1 is not supported in pandas and will be not be used\n",
        "The minimum supported version is 2.1\n",
        "\n",
        "  \"version is 2.1\\n\".format(ver=ver), UserWarning)\n",
        "[WARNING] Numpy version 1.7.1 is not supported. Minimum required version: 1.8.0. Numpy support will be disabled.\n"
       ]
      }
     ],
     "prompt_number": 1
    },
    {
     "cell_type": "code",
     "collapsed": false,
     "input": [
      "# Pagerank"
     ],
     "language": "python",
     "metadata": {},
     "outputs": [],
     "prompt_number": 2
    },
    {
     "cell_type": "code",
     "collapsed": false,
     "input": [
      "import os\n",
      "\n",
      "data_file = 'US_business_links'\n",
      "if os.path.exists(data_file):\n",
      "    sg = gl.load_sgraph(data_file)\n",
      "else:\n",
      "    url = 'http://s3.amazonaws.com/GraphLab-Datasets/' + data_file\n",
      "    sg = gl.load_sgraph(url)\n",
      "    sg.save(data_file)\n",
      "\n",
      "print sg.summary()"
     ],
     "language": "python",
     "metadata": {},
     "outputs": [
      {
       "output_type": "stream",
       "stream": "stderr",
       "text": [
        "[INFO] Start server at: ipc:///tmp/graphlab_server-5339 - Server binary: /anaconda/lib/python2.7/site-packages/graphlab/unity_server - Server log: /tmp/graphlab_server_1419832445.log\n"
       ]
      },
      {
       "output_type": "stream",
       "stream": "stderr",
       "text": [
        "[INFO] GraphLab Server Version: 1.2\n"
       ]
      },
      {
       "output_type": "stream",
       "stream": "stdout",
       "text": [
        "{'num_edges': 517127, 'num_vertices': 233121}\n"
       ]
      }
     ],
     "prompt_number": 3
    },
    {
     "cell_type": "code",
     "collapsed": false,
     "input": [
      "pr = gl.pagerank.create(sg, max_iterations=10)\n",
      "print pr.summary()"
     ],
     "language": "python",
     "metadata": {},
     "outputs": [
      {
       "html": [
        "<pre>PROGRESS: +-----------+-----------------------+</pre>"
       ],
       "metadata": {},
       "output_type": "display_data",
       "text": [
        "PROGRESS: +-----------+-----------------------+"
       ]
      },
      {
       "html": [
        "<pre>PROGRESS: | Iteration | L1 change in pagerank |</pre>"
       ],
       "metadata": {},
       "output_type": "display_data",
       "text": [
        "PROGRESS: | Iteration | L1 change in pagerank |"
       ]
      },
      {
       "html": [
        "<pre>PROGRESS: +-----------+-----------------------+</pre>"
       ],
       "metadata": {},
       "output_type": "display_data",
       "text": [
        "PROGRESS: +-----------+-----------------------+"
       ]
      },
      {
       "html": [
        "<pre>PROGRESS: | 1         | 371040                |</pre>"
       ],
       "metadata": {},
       "output_type": "display_data",
       "text": [
        "PROGRESS: | 1         | 371040                |"
       ]
      },
      {
       "html": [
        "<pre>PROGRESS: | 2         | 273072                |</pre>"
       ],
       "metadata": {},
       "output_type": "display_data",
       "text": [
        "PROGRESS: | 2         | 273072                |"
       ]
      },
      {
       "html": [
        "<pre>PROGRESS: | 3         | 161198                |</pre>"
       ],
       "metadata": {},
       "output_type": "display_data",
       "text": [
        "PROGRESS: | 3         | 161198                |"
       ]
      },
      {
       "html": [
        "<pre>PROGRESS: | 4         | 87525                 |</pre>"
       ],
       "metadata": {},
       "output_type": "display_data",
       "text": [
        "PROGRESS: | 4         | 87525                 |"
       ]
      },
      {
       "html": [
        "<pre>PROGRESS: | 5         | 53120.5               |</pre>"
       ],
       "metadata": {},
       "output_type": "display_data",
       "text": [
        "PROGRESS: | 5         | 53120.5               |"
       ]
      },
      {
       "html": [
        "<pre>PROGRESS: | 6         | 29993.1               |</pre>"
       ],
       "metadata": {},
       "output_type": "display_data",
       "text": [
        "PROGRESS: | 6         | 29993.1               |"
       ]
      },
      {
       "html": [
        "<pre>PROGRESS: | 7         | 18550.2               |</pre>"
       ],
       "metadata": {},
       "output_type": "display_data",
       "text": [
        "PROGRESS: | 7         | 18550.2               |"
       ]
      },
      {
       "html": [
        "<pre>PROGRESS: | 8         | 10595.4               |</pre>"
       ],
       "metadata": {},
       "output_type": "display_data",
       "text": [
        "PROGRESS: | 8         | 10595.4               |"
       ]
      },
      {
       "html": [
        "<pre>PROGRESS: | 9         | 6661.93               |</pre>"
       ],
       "metadata": {},
       "output_type": "display_data",
       "text": [
        "PROGRESS: | 9         | 6661.93               |"
       ]
      },
      {
       "html": [
        "<pre>PROGRESS: | 10        | 3824.08               |</pre>"
       ],
       "metadata": {},
       "output_type": "display_data",
       "text": [
        "PROGRESS: | 10        | 3824.08               |"
       ]
      },
      {
       "html": [
        "<pre>PROGRESS: +-----------+-----------------------+</pre>"
       ],
       "metadata": {},
       "output_type": "display_data",
       "text": [
        "PROGRESS: +-----------+-----------------------+"
       ]
      },
      {
       "output_type": "stream",
       "stream": "stdout",
       "text": [
        "PagerankModel\n",
        "Graph:\n",
        "+--------------+--------+\n",
        "| num_edges    | 517127 |\n",
        "| num_vertices | 233121 |\n",
        "+--------------+--------+\n",
        "Result:\n",
        "+----------+-------------------------------------------------------+\n",
        "| graph    | SGraph. See m['graph']                                |\n",
        "| pagerank | SFrame with each vertex's pagerank. See m['pagerank'] |\n",
        "| delta    | 3824.08346598                                         |\n",
        "+----------+-------------------------------------------------------+\n",
        "Setting:\n",
        "+-------------------+------+\n",
        "| threshold         | 0.01 |\n",
        "| reset_probability | 0.15 |\n",
        "| max_iterations    | 10   |\n",
        "+-------------------+------+\n",
        "Metric:\n",
        "+----------------+----------+\n",
        "| num_iterations | 10       |\n",
        "| training_time  | 9.112981 |\n",
        "+----------------+----------+\n",
        "Queriable Fields\n",
        "+-------------------+-----------------------------------------------------------+\n",
        "| Field             | Description                                               |\n",
        "+-------------------+-----------------------------------------------------------+\n",
        "| training_time     | Total training time of the model                          |\n",
        "| graph             | A new SGraph with the pagerank as a vertex property       |\n",
        "| delta             | Change in pagerank for the last iteration in L1 norm      |\n",
        "| reset_probability | The probablity of randomly jumps to any node in the graph |\n",
        "| pagerank          | An SFrame with each vertex's pagerank                     |\n",
        "| num_iterations    | Number of iterations                                      |\n",
        "| threshold         | The convergence threshold in L1 norm                      |\n",
        "| max_iterations    | The maximun number of iterations to run                   |\n",
        "+-------------------+-----------------------------------------------------------+"
       ]
      },
      {
       "output_type": "stream",
       "stream": "stdout",
       "text": [
        "\n",
        "None\n"
       ]
      }
     ],
     "prompt_number": 4
    },
    {
     "cell_type": "code",
     "collapsed": false,
     "input": [
      "print pr['training_time']"
     ],
     "language": "python",
     "metadata": {},
     "outputs": [
      {
       "output_type": "stream",
       "stream": "stdout",
       "text": [
        "9.112981\n"
       ]
      }
     ],
     "prompt_number": 5
    },
    {
     "cell_type": "code",
     "collapsed": false,
     "input": [
      "pr_out = pr['pagerank']\n",
      "print pr_out.topk('pagerank', k=10)"
     ],
     "language": "python",
     "metadata": {},
     "outputs": [
      {
       "output_type": "stream",
       "stream": "stdout",
       "text": [
        "+-------------------------------+---------------+---------------+\n",
        "|              __id             |    pagerank   |     delta     |\n",
        "+-------------------------------+---------------+---------------+\n",
        "| American Broadcasting Company | 3050.12285481 | 171.095519607 |\n",
        "|           Microsoft           | 1640.93294801 | 79.4193105615 |\n",
        "|           DC Comics           | 1623.76580168 |  231.05676926 |\n",
        "|       Paramount Pictures      | 1341.29716993 | 74.7486642804 |\n",
        "|            Facebook           | 1218.69295972 | 23.8510621222 |\n",
        "|             Google            | 1180.48509934 |  41.271924661 |\n",
        "|       Ford Motor Company      | 1156.31695182 | 84.5552251247 |\n",
        "|            Twitter            | 1074.30512161 | 16.3932159159 |\n",
        "|       Columbia Pictures       | 921.042912728 | 55.2951992749 |\n",
        "|    The Walt Disney Company    | 878.301063411 | 74.9881435438 |\n",
        "+-------------------------------+---------------+---------------+\n",
        "[10 rows x 3 columns]\n",
        "\n"
       ]
      }
     ],
     "prompt_number": 6
    },
    {
     "cell_type": "code",
     "collapsed": false,
     "input": [
      "# Triangle Counting"
     ],
     "language": "python",
     "metadata": {},
     "outputs": [],
     "prompt_number": 7
    },
    {
     "cell_type": "code",
     "collapsed": false,
     "input": [
      "tri = gl.triangle_counting.create(sg)\n",
      "print tri.summary()"
     ],
     "language": "python",
     "metadata": {},
     "outputs": [
      {
       "html": [
        "<pre>PROGRESS: Initializing vertex ids.</pre>"
       ],
       "metadata": {},
       "output_type": "display_data",
       "text": [
        "PROGRESS: Initializing vertex ids."
       ]
      },
      {
       "html": [
        "<pre>PROGRESS: Removing duplicate (bidirectional) edges.</pre>"
       ],
       "metadata": {},
       "output_type": "display_data",
       "text": [
        "PROGRESS: Removing duplicate (bidirectional) edges."
       ]
      },
      {
       "html": [
        "<pre>PROGRESS: Counting triangles...</pre>"
       ],
       "metadata": {},
       "output_type": "display_data",
       "text": [
        "PROGRESS: Counting triangles..."
       ]
      },
      {
       "html": [
        "<pre>PROGRESS: Finished in 9.34481 secs.</pre>"
       ],
       "metadata": {},
       "output_type": "display_data",
       "text": [
        "PROGRESS: Finished in 9.34481 secs."
       ]
      },
      {
       "html": [
        "<pre>PROGRESS: Total triangles in the graph : 171968</pre>"
       ],
       "metadata": {},
       "output_type": "display_data",
       "text": [
        "PROGRESS: Total triangles in the graph : 171968"
       ]
      },
      {
       "output_type": "stream",
       "stream": "stdout",
       "text": [
        "TriangleCountingModel\n",
        "Graph:\n",
        "+--------------+--------+\n",
        "| num_edges    | 517127 |\n",
        "| num_vertices | 233121 |\n",
        "+--------------+--------+\n",
        "Result:\n",
        "+----------------+-------------------------------------------------------------------+\n",
        "| graph          | SGraph. See m['graph']                                            |\n",
        "| num_triangles  | 171968                                                            |\n",
        "| triangle_count | SFrame with each vertex's triangle count. See m['triangle_count'] |\n",
        "+----------------+-------------------------------------------------------------------+\n",
        "Metric:\n",
        "+---------------+----------+\n",
        "| training_time | 9.413156 |\n",
        "+---------------+----------+\n",
        "Queriable Fields\n",
        "+----------------+------------------------------------------------------------+\n",
        "| Field          | Description                                                |\n",
        "+----------------+------------------------------------------------------------+\n",
        "| graph          | A new SGraph with the triangle count as a vertex property. |\n",
        "| num_triangles  | Total number of triangles in the graph.                    |\n",
        "| triangle_count | An SFrame with the triangle count for each vertex.         |\n",
        "| training_time  | Total training time of the model                           |\n",
        "+----------------+------------------------------------------------------------+"
       ]
      },
      {
       "output_type": "stream",
       "stream": "stdout",
       "text": [
        "\n",
        "None\n"
       ]
      }
     ],
     "prompt_number": 8
    },
    {
     "cell_type": "code",
     "collapsed": false,
     "input": [
      "tri_out = tri['triangle_count']\n",
      "print tri_out.topk('triangle_count', k=10)"
     ],
     "language": "python",
     "metadata": {},
     "outputs": [
      {
       "output_type": "stream",
       "stream": "stdout",
       "text": [
        "+-------------------------------+----------------+\n",
        "|              __id             | triangle_count |\n",
        "+-------------------------------+----------------+\n",
        "|           Microsoft           |     21447      |\n",
        "|             Google            |     15491      |\n",
        "|            Facebook           |     14200      |\n",
        "|              IBM              |     11716      |\n",
        "|       Paramount Pictures      |     10547      |\n",
        "| American Broadcasting Company |     10514      |\n",
        "|            Twitter            |      9219      |\n",
        "|       Target Corporation      |      8474      |\n",
        "|        Delta Air Lines        |      8195      |\n",
        "|             Intel             |      7952      |\n",
        "+-------------------------------+----------------+\n",
        "[10 rows x 2 columns]\n",
        "\n"
       ]
      }
     ],
     "prompt_number": 9
    },
    {
     "cell_type": "code",
     "collapsed": false,
     "input": [
      "# Shortest Path"
     ],
     "language": "python",
     "metadata": {},
     "outputs": [],
     "prompt_number": 10
    },
    {
     "cell_type": "code",
     "collapsed": false,
     "input": [
      "sssp = gl.shortest_path.create(sg, source_vid='Microsoft')\n",
      "sssp.get_path(vid='Weyerhaeuser', show=True,\n",
      "              highlight=['Microsoft', 'Weyerhaeuser'], arrows=True, ewidth=1.5)"
     ],
     "language": "python",
     "metadata": {},
     "outputs": [
      {
       "html": [
        "<pre>PROGRESS: +----------------------------+</pre>"
       ],
       "metadata": {},
       "output_type": "display_data",
       "text": [
        "PROGRESS: +----------------------------+"
       ]
      },
      {
       "html": [
        "<pre>PROGRESS: | Number of vertices updated |</pre>"
       ],
       "metadata": {},
       "output_type": "display_data",
       "text": [
        "PROGRESS: | Number of vertices updated |"
       ]
      },
      {
       "html": [
        "<pre>PROGRESS: +----------------------------+</pre>"
       ],
       "metadata": {},
       "output_type": "display_data",
       "text": [
        "PROGRESS: +----------------------------+"
       ]
      },
      {
       "html": [
        "<pre>PROGRESS: | 14208                      |</pre>"
       ],
       "metadata": {},
       "output_type": "display_data",
       "text": [
        "PROGRESS: | 14208                      |"
       ]
      },
      {
       "html": [
        "<pre>PROGRESS: | 24620                      |</pre>"
       ],
       "metadata": {},
       "output_type": "display_data",
       "text": [
        "PROGRESS: | 24620                      |"
       ]
      },
      {
       "html": [
        "<pre>PROGRESS: | 3814                       |</pre>"
       ],
       "metadata": {},
       "output_type": "display_data",
       "text": [
        "PROGRESS: | 3814                       |"
       ]
      },
      {
       "html": [
        "<pre>PROGRESS: | 621                        |</pre>"
       ],
       "metadata": {},
       "output_type": "display_data",
       "text": [
        "PROGRESS: | 621                        |"
       ]
      },
      {
       "html": [
        "<pre>PROGRESS: | 0                          |</pre>"
       ],
       "metadata": {},
       "output_type": "display_data",
       "text": [
        "PROGRESS: | 0                          |"
       ]
      },
      {
       "html": [
        "<pre>PROGRESS: +----------------------------+</pre>"
       ],
       "metadata": {},
       "output_type": "display_data",
       "text": [
        "PROGRESS: +----------------------------+"
       ]
      },
      {
       "metadata": {},
       "output_type": "display_data",
       "text": [
        "None"
       ]
      },
      {
       "metadata": {},
       "output_type": "pyout",
       "prompt_number": 11,
       "text": [
        "[('Microsoft', 0.0),\n",
        " ('Google', 1.0),\n",
        " ('Tax avoidance', 2.0),\n",
        " ('Weyerhaeuser', 3.0)]"
       ]
      }
     ],
     "prompt_number": 11
    },
    {
     "cell_type": "code",
     "collapsed": false,
     "input": [
      "# Connected Graphs"
     ],
     "language": "python",
     "metadata": {},
     "outputs": [],
     "prompt_number": 12
    },
    {
     "cell_type": "code",
     "collapsed": false,
     "input": [
      "countries = {\n",
      "    'argentina': 'south america',\n",
      "    'switzerland': 'europe' ,\n",
      "    'france': 'europe',\n",
      "    'greece': 'europe',\n",
      "    'netherlands': 'europe',\n",
      "    'costa rica': 'north america',\n",
      "    'algeria': 'africa',\n",
      "    'belgium': 'europe',\n",
      "    'brazil': 'south america',\n",
      "    'colombia': 'south america',\n",
      "    'nigeria': 'africa',\n",
      "    'usa': 'north america',\n",
      "    'germany': 'europe',\n",
      "    'chile': 'south america',\n",
      "    'mexico': 'north america',\n",
      "    'uruguay': 'south america'}\n",
      "\n",
      "results = [\n",
      "    ('chile', 'brazil', 'belo horizonte'),\n",
      "    ('uruguay', 'colombia', 'rio de janeiro'),\n",
      "    ('nigeria', 'france', 'brasilia'),\n",
      "    ('algeria', 'germany', 'porto alegre'),\n",
      "    ('mexico', 'netherlands', 'fortaleza'),\n",
      "    ('greece', 'costa rica', 'recife'),\n",
      "    ('switzerland', 'argentina', 'sao paulo'),\n",
      "    ('usa', 'belgium', 'salvador'),\n",
      "    ('colombia', 'brazil', 'fortaleza'),\n",
      "    ('france', 'germany', 'rio de janeiro'),\n",
      "    ('costa rica', 'netherlands', 'salvador'),\n",
      "    ('belgium', 'argentina', 'brasilia'),\n",
      "    ('brazil', 'germany', 'belo horizonte'),\n",
      "    ('netherlands', 'argentina', 'sao paulo'),\n",
      "    ('argentina', 'germany', 'rio de janeiro')]"
     ],
     "language": "python",
     "metadata": {},
     "outputs": [],
     "prompt_number": 13
    },
    {
     "cell_type": "code",
     "collapsed": false,
     "input": [
      "verts = gl.SFrame({'name': countries.keys(),\n",
      "                         'continent': countries.values()})\n",
      "\n",
      "losers, winners, locations = zip(*results)\n",
      "edges = gl.SFrame({'loser': list(losers),\n",
      "                         'winner': list(winners),\n",
      "                         'location': list(locations)})\n",
      "\n",
      "sg = gl.SGraph()\n",
      "sg = sg.add_vertices(verts, vid_field='name')\n",
      "sg = sg.add_edges(edges, src_field='loser', dst_field='winner')\n",
      "print sg.summary()\n",
      "sg.show(vlabel='id', arrows=True, ewidth=1.5)"
     ],
     "language": "python",
     "metadata": {},
     "outputs": [
      {
       "output_type": "stream",
       "stream": "stdout",
       "text": [
        "{'num_edges': 15, 'num_vertices': 16}\n"
       ]
      }
     ],
     "prompt_number": 14
    },
    {
     "cell_type": "code",
     "collapsed": false,
     "input": [
      "cc = gl.connected_components.create(sg)\n",
      "print \"number of components:\", cc['component_size'].num_rows()"
     ],
     "language": "python",
     "metadata": {},
     "outputs": [
      {
       "html": [
        "<pre>PROGRESS: +----------------------------+</pre>"
       ],
       "metadata": {},
       "output_type": "display_data",
       "text": [
        "PROGRESS: +----------------------------+"
       ]
      },
      {
       "html": [
        "<pre>PROGRESS: | Number of vertices updated |</pre>"
       ],
       "metadata": {},
       "output_type": "display_data",
       "text": [
        "PROGRESS: | Number of vertices updated |"
       ]
      },
      {
       "html": [
        "<pre>PROGRESS: +----------------------------+</pre>"
       ],
       "metadata": {},
       "output_type": "display_data",
       "text": [
        "PROGRESS: +----------------------------+"
       ]
      },
      {
       "html": [
        "<pre>PROGRESS: | 15                         |</pre>"
       ],
       "metadata": {},
       "output_type": "display_data",
       "text": [
        "PROGRESS: | 15                         |"
       ]
      },
      {
       "html": [
        "<pre>PROGRESS: | 3                          |</pre>"
       ],
       "metadata": {},
       "output_type": "display_data",
       "text": [
        "PROGRESS: | 3                          |"
       ]
      },
      {
       "html": [
        "<pre>PROGRESS: | 1                          |</pre>"
       ],
       "metadata": {},
       "output_type": "display_data",
       "text": [
        "PROGRESS: | 1                          |"
       ]
      },
      {
       "html": [
        "<pre>PROGRESS: | 0                          |</pre>"
       ],
       "metadata": {},
       "output_type": "display_data",
       "text": [
        "PROGRESS: | 0                          |"
       ]
      },
      {
       "html": [
        "<pre>PROGRESS: +----------------------------+</pre>"
       ],
       "metadata": {},
       "output_type": "display_data",
       "text": [
        "PROGRESS: +----------------------------+"
       ]
      },
      {
       "output_type": "stream",
       "stream": "stdout",
       "text": [
        "number of components:"
       ]
      },
      {
       "output_type": "stream",
       "stream": "stdout",
       "text": [
        " 1\n"
       ]
      }
     ],
     "prompt_number": 15
    },
    {
     "cell_type": "code",
     "collapsed": false,
     "input": [
      "# Pagerank (Wikipedia Links)"
     ],
     "language": "python",
     "metadata": {},
     "outputs": [],
     "prompt_number": 16
    },
    {
     "cell_type": "code",
     "collapsed": false,
     "input": [
      "import os\n",
      "graph_file = 'wikipedia_links_sgraph'\n",
      "if os.path.exists(graph_file):\n",
      "    sg = gl.load_sgraph(graph_file)\n",
      "else:\n",
      "    url = 'http://s3.amazonaws.com/GraphLab-Datasets/' + graph_file\n",
      "    sg = gl.load_sgraph(url)\n",
      "    sg.save(graph_file)\n",
      "\n",
      "print sg.summary()"
     ],
     "language": "python",
     "metadata": {},
     "outputs": [
      {
       "output_type": "stream",
       "stream": "stdout",
       "text": [
        "{'num_edges': 139266950, 'num_vertices': 15683108}\n"
       ]
      }
     ],
     "prompt_number": 17
    },
    {
     "cell_type": "code",
     "collapsed": false,
     "input": [
      "pr = gl.pagerank.create(sg, max_iterations=5)"
     ],
     "language": "python",
     "metadata": {},
     "outputs": [
      {
       "html": [
        "<pre>PROGRESS: +-----------+-----------------------+</pre>"
       ],
       "metadata": {},
       "output_type": "display_data",
       "text": [
        "PROGRESS: +-----------+-----------------------+"
       ]
      },
      {
       "html": [
        "<pre>PROGRESS: +-----------+-----------------------+</pre>"
       ],
       "metadata": {},
       "output_type": "display_data",
       "text": [
        "PROGRESS: +-----------+-----------------------+"
       ]
      },
      {
       "html": [
        "<pre>PROGRESS: | 1         | 1.69018e+07           |</pre>"
       ],
       "metadata": {},
       "output_type": "display_data",
       "text": [
        "PROGRESS: | 1         | 1.69018e+07           |"
       ]
      }
     ],
     "prompt_number": 18
    },
    {
     "cell_type": "code",
     "collapsed": false,
     "input": [
      "pr_out = pr['pagerank']\n",
      "print pr_out.topk('pagerank', k=10)"
     ],
     "language": "python",
     "metadata": {},
     "outputs": [
      {
       "html": [
        "<pre>PROGRESS: | 3         | 1.75873e+06           |</pre>"
       ],
       "metadata": {},
       "output_type": "display_data",
       "text": [
        "PROGRESS: | 3         | 1.75873e+06           |"
       ]
      },
      {
       "html": [
        "<pre>PROGRESS: | 4         | 721950                |</pre>"
       ],
       "metadata": {},
       "output_type": "display_data",
       "text": [
        "PROGRESS: | 4         | 721950                |"
       ]
      },
      {
       "html": [
        "<pre>PROGRESS: | 5         | 417408                |</pre>"
       ],
       "metadata": {},
       "output_type": "display_data",
       "text": [
        "PROGRESS: | 5         | 417408                |"
       ]
      },
      {
       "html": [
        "<pre>PROGRESS: +-----------+-----------------------+</pre>"
       ],
       "metadata": {},
       "output_type": "display_data",
       "text": [
        "PROGRESS: +-----------+-----------------------+"
       ]
      },
      {
       "output_type": "stream",
       "stream": "stdout",
       "text": [
        "+--------------------+---------------+---------------+\n",
        "|        __id        |    pagerank   |     delta     |\n",
        "+--------------------+---------------+---------------+\n",
        "|   United States    | 16918.8087944 | 1453.26170099 |\n",
        "|       France       | 6077.38120811 | 349.124402663 |\n",
        "|      Germany       | 5921.22602159 | 372.496976619 |\n",
        "|   United Kingdom   | 5832.90106238 | 469.749971112 |\n",
        "|    World War II    | 5386.07990775 | 457.305036364 |\n",
        "|       Canada       | 5308.88985844 | 427.993268348 |\n",
        "|      England       | 5046.04500108 | 348.573938443 |\n",
        "| The New York Times | 4755.49614578 | 362.293947193 |\n",
        "|       India        | 4729.45616826 |  321.87716728 |\n",
        "|       Japan        | 4147.61441265 | 283.404819296 |\n",
        "+--------------------+---------------+---------------+\n",
        "[10 rows x 3 columns]\n"
       ]
      },
      {
       "output_type": "stream",
       "stream": "stdout",
       "text": [
        "\n"
       ]
      }
     ],
     "prompt_number": 19
    },
    {
     "cell_type": "code",
     "collapsed": false,
     "input": [
      "print pr['training_time']"
     ],
     "language": "python",
     "metadata": {},
     "outputs": [
      {
       "output_type": "stream",
       "stream": "stdout",
       "text": [
        "321.539577\n"
       ]
      }
     ],
     "prompt_number": 20
    },
    {
     "cell_type": "code",
     "collapsed": false,
     "input": [
      "# Regression"
     ],
     "language": "python",
     "metadata": {},
     "outputs": [],
     "prompt_number": 21
    },
    {
     "cell_type": "code",
     "collapsed": false,
     "input": [
      "import graphlab as gl\n",
      "\n",
      "# Load the data\n",
      "data =  gl.SFrame('http://s3.amazonaws.com/GraphLab-Datasets/regression/yelp-data.csv')\n",
      "\n",
      "# Make a train-test split\n",
      "train_data, test_data = data.random_split(0.8)\n",
      "\n",
      "# Automatically picks the right model based on your data.\n",
      "model = gl.regression.create(train_data, target='stars', \n",
      "                                    features = ['user_avg_stars',\n",
      "                                                'business_avg_stars', \n",
      "                                                'user_review_count', \n",
      "                                                'business_review_count'])\n",
      "\n",
      "# Save predictions to an SArray\n",
      "predictions = model.predict(test_data)\n",
      "\n",
      "# Evaluate the model and save the results into a dictionary\n",
      "results = model.evaluate(test_data)"
     ],
     "language": "python",
     "metadata": {},
     "outputs": [
      {
       "html": [
        "<pre>PROGRESS: Downloading http://s3.amazonaws.com/GraphLab-Datasets/regression/yelp-data.csv to /var/tmp/graphlab-Sean/5339/000000.csv</pre>"
       ],
       "metadata": {},
       "output_type": "display_data",
       "text": [
        "PROGRESS: Downloading http://s3.amazonaws.com/GraphLab-Datasets/regression/yelp-data.csv to /var/tmp/graphlab-Sean/5339/000000.csv"
       ]
      },
      {
       "html": [
        "<pre>PROGRESS: Finished parsing file http://s3.amazonaws.com/GraphLab-Datasets/regression/yelp-data.csv</pre>"
       ],
       "metadata": {},
       "output_type": "display_data",
       "text": [
        "PROGRESS: Finished parsing file http://s3.amazonaws.com/GraphLab-Datasets/regression/yelp-data.csv"
       ]
      },
      {
       "html": [
        "<pre>PROGRESS: Parsing completed. Parsed 100 lines in 0.277449 secs.</pre>"
       ],
       "metadata": {},
       "output_type": "display_data",
       "text": [
        "PROGRESS: Parsing completed. Parsed 100 lines in 0.277449 secs."
       ]
      },
      {
       "output_type": "stream",
       "stream": "stdout",
       "text": [
        "------------------------------------------------------"
       ]
      },
      {
       "html": [
        "<pre>PROGRESS: Read 47948 lines. Lines per second: 34117.6</pre>"
       ],
       "metadata": {},
       "output_type": "display_data",
       "text": [
        "PROGRESS: Read 47948 lines. Lines per second: 34117.6"
       ]
      },
      {
       "html": [
        "<pre>PROGRESS: Finished parsing file http://s3.amazonaws.com/GraphLab-Datasets/regression/yelp-data.csv</pre>"
       ],
       "metadata": {},
       "output_type": "display_data",
       "text": [
        "PROGRESS: Finished parsing file http://s3.amazonaws.com/GraphLab-Datasets/regression/yelp-data.csv"
       ]
      },
      {
       "html": [
        "<pre>PROGRESS: Parsing completed. Parsed 215879 lines in 4.76622 secs.</pre>"
       ],
       "metadata": {},
       "output_type": "display_data",
       "text": [
        "PROGRESS: Parsing completed. Parsed 215879 lines in 4.76622 secs."
       ]
      },
      {
       "html": [
        "<pre>PROGRESS: Boosted trees regression:</pre>"
       ],
       "metadata": {},
       "output_type": "display_data",
       "text": [
        "PROGRESS: Boosted trees regression:"
       ]
      },
      {
       "html": [
        "<pre>PROGRESS: --------------------------------------------------------</pre>"
       ],
       "metadata": {},
       "output_type": "display_data",
       "text": [
        "PROGRESS: --------------------------------------------------------"
       ]
      },
      {
       "html": [
        "<pre>PROGRESS: Number of examples          : 172701</pre>"
       ],
       "metadata": {},
       "output_type": "display_data",
       "text": [
        "PROGRESS: Number of examples          : 172701"
       ]
      },
      {
       "html": [
        "<pre>PROGRESS: Number of features          : 4</pre>"
       ],
       "metadata": {},
       "output_type": "display_data",
       "text": [
        "PROGRESS: Number of features          : 4"
       ]
      },
      {
       "html": [
        "<pre>PROGRESS: Number of unpacked features : 4</pre>"
       ],
       "metadata": {},
       "output_type": "display_data",
       "text": [
        "PROGRESS: Number of unpacked features : 4"
       ]
      },
      {
       "html": [
        "<pre>PROGRESS: Starting Boosted Trees</pre>"
       ],
       "metadata": {},
       "output_type": "display_data",
       "text": [
        "PROGRESS: Starting Boosted Trees"
       ]
      },
      {
       "html": [
        "<pre>PROGRESS: --------------------------------------------------------</pre>"
       ],
       "metadata": {},
       "output_type": "display_data",
       "text": [
        "PROGRESS: --------------------------------------------------------"
       ]
      },
      {
       "html": [
        "<pre>PROGRESS:   Iter        RMSE Elapsed time</pre>"
       ],
       "metadata": {},
       "output_type": "display_data",
       "text": [
        "PROGRESS:   Iter        RMSE Elapsed time"
       ]
      },
      {
       "html": [
        "<pre>PROGRESS:      0   2.540e+00        0.42s</pre>"
       ],
       "metadata": {},
       "output_type": "display_data",
       "text": [
        "PROGRESS:      0   2.540e+00        0.42s"
       ]
      },
      {
       "html": [
        "<pre>PROGRESS:      1   1.906e+00        0.64s</pre>"
       ],
       "metadata": {},
       "output_type": "display_data",
       "text": [
        "PROGRESS:      1   1.906e+00        0.64s"
       ]
      },
      {
       "html": [
        "<pre>PROGRESS:      2   1.499e+00        0.84s</pre>"
       ],
       "metadata": {},
       "output_type": "display_data",
       "text": [
        "PROGRESS:      2   1.499e+00        0.84s"
       ]
      },
      {
       "html": [
        "<pre>PROGRESS:      3   1.253e+00        1.07s</pre>"
       ],
       "metadata": {},
       "output_type": "display_data",
       "text": [
        "PROGRESS:      3   1.253e+00        1.07s"
       ]
      },
      {
       "html": [
        "<pre>PROGRESS:      4   1.112e+00        1.27s</pre>"
       ],
       "metadata": {},
       "output_type": "display_data",
       "text": [
        "PROGRESS:      4   1.112e+00        1.27s"
       ]
      },
      {
       "html": [
        "<pre>PROGRESS:      5   1.035e+00        1.48s</pre>"
       ],
       "metadata": {},
       "output_type": "display_data",
       "text": [
        "PROGRESS:      5   1.035e+00        1.48s"
       ]
      },
      {
       "html": [
        "<pre>PROGRESS:      6   9.952e-01        1.70s</pre>"
       ],
       "metadata": {},
       "output_type": "display_data",
       "text": [
        "PROGRESS:      6   9.952e-01        1.70s"
       ]
      },
      {
       "html": [
        "<pre>PROGRESS:      7   9.747e-01        1.91s</pre>"
       ],
       "metadata": {},
       "output_type": "display_data",
       "text": [
        "PROGRESS:      7   9.747e-01        1.91s"
       ]
      },
      {
       "html": [
        "<pre>PROGRESS:      8   9.643e-01        2.13s</pre>"
       ],
       "metadata": {},
       "output_type": "display_data",
       "text": [
        "PROGRESS:      8   9.643e-01        2.13s"
       ]
      },
      {
       "html": [
        "<pre>PROGRESS:      9   9.590e-01        2.35s</pre>"
       ],
       "metadata": {},
       "output_type": "display_data",
       "text": [
        "PROGRESS:      9   9.590e-01        2.35s"
       ]
      },
      {
       "output_type": "stream",
       "stream": "stdout",
       "text": [
        "\n",
        "Inferred types from first line of file as \n",
        "column_type_hints=[str,str,str,int,str,str,str,dict,int,int,int,list,str,str,float,float,str,int,int,float,str,str,float,str,int,str,int,int,int,dict]\n",
        "If parsing fails due to incorrect types, you can correct\n",
        "the inferred type list above and pass it to read_csv in\n",
        "the column_type_hints argument\n",
        "------------------------------------------------------\n"
       ]
      }
     ],
     "prompt_number": 22
    },
    {
     "cell_type": "code",
     "collapsed": false,
     "input": [
      "# Linear Regression"
     ],
     "language": "python",
     "metadata": {},
     "outputs": [],
     "prompt_number": 23
    },
    {
     "cell_type": "code",
     "collapsed": false,
     "input": [
      "import graphlab as gl\n",
      "\n",
      "# Load the data\n",
      "data =  gl.SFrame('http://s3.amazonaws.com/GraphLab-Datasets/regression/yelp-data.csv')\n",
      "\n",
      "# Make a train-test split\n",
      "train_data, test_data = data.random_split(0.8)\n",
      "\n",
      "# Create a model.\n",
      "model = gl.linear_regression.create(train_data, target='stars', \n",
      "                                    features = ['user_avg_stars',\n",
      "                                                'business_avg_stars', \n",
      "                                                'user_review_count', \n",
      "                                                'business_review_count'])\n",
      "\n",
      "# Save predictions to an SFrame (class and corresponding class-probabilities)\n",
      "predictions = model.predict(test_data)\n",
      "\n",
      "# Evaluate the model and save the results into a dictionary\n",
      "results = model.evaluate(test_data)"
     ],
     "language": "python",
     "metadata": {},
     "outputs": [
      {
       "html": [
        "<pre>PROGRESS: Finished parsing file http://s3.amazonaws.com/GraphLab-Datasets/regression/yelp-data.csv</pre>"
       ],
       "metadata": {},
       "output_type": "display_data",
       "text": [
        "PROGRESS: Finished parsing file http://s3.amazonaws.com/GraphLab-Datasets/regression/yelp-data.csv"
       ]
      },
      {
       "html": [
        "<pre>PROGRESS: Parsing completed. Parsed 100 lines in 0.30 secs.</pre>"
       ],
       "metadata": {},
       "output_type": "display_data",
       "text": [
        "PROGRESS: Parsing completed. Parsed 100 lines in 0.30 secs."
       ]
      },
      {
       "output_type": "stream",
       "stream": "stdout",
       "text": [
        "------------------------------------------------------"
       ]
      },
      {
       "html": [
        "<pre>PROGRESS: Read 47948 lines. Lines per second: 34246.61</pre>"
       ],
       "metadata": {},
       "output_type": "display_data",
       "text": [
        "PROGRESS: Read 47948 lines. Lines per second: 34246.61"
       ]
      },
      {
       "html": [
        "<pre>PROGRESS: Finished parsing file http://s3.amazonaws.com/GraphLab-Datasets/regression/yelp-data.csv</pre>"
       ],
       "metadata": {},
       "output_type": "display_data",
       "text": [
        "PROGRESS: Finished parsing file http://s3.amazonaws.com/GraphLab-Datasets/regression/yelp-data.csv"
       ]
      },
      {
       "html": [
        "<pre>PROGRESS: Parsing completed. Parsed 215879 lines in 4.96 secs.</pre>"
       ],
       "metadata": {},
       "output_type": "display_data",
       "text": [
        "PROGRESS: Parsing completed. Parsed 215879 lines in 4.96 secs."
       ]
      },
      {
       "html": [
        "<pre>PROGRESS: Linear regression:</pre>"
       ],
       "metadata": {},
       "output_type": "display_data",
       "text": [
        "PROGRESS: Linear regression:"
       ]
      },
      {
       "html": [
        "<pre>PROGRESS: --------------------------------------------------------</pre>"
       ],
       "metadata": {},
       "output_type": "display_data",
       "text": [
        "PROGRESS: --------------------------------------------------------"
       ]
      },
      {
       "html": [
        "<pre>PROGRESS: Number of examples          : 172980</pre>"
       ],
       "metadata": {},
       "output_type": "display_data",
       "text": [
        "PROGRESS: Number of examples          : 172980"
       ]
      },
      {
       "html": [
        "<pre>PROGRESS: Number of features          : 4</pre>"
       ],
       "metadata": {},
       "output_type": "display_data",
       "text": [
        "PROGRESS: Number of features          : 4"
       ]
      },
      {
       "html": [
        "<pre>PROGRESS: Number of unpacked features : 4</pre>"
       ],
       "metadata": {},
       "output_type": "display_data",
       "text": [
        "PROGRESS: Number of unpacked features : 4"
       ]
      },
      {
       "html": [
        "<pre>PROGRESS: Number of coefficients    : 5</pre>"
       ],
       "metadata": {},
       "output_type": "display_data",
       "text": [
        "PROGRESS: Number of coefficients    : 5"
       ]
      },
      {
       "html": [
        "<pre>PROGRESS: Starting Newton Method \n",
        "--------------------------------------------------------</pre>"
       ],
       "metadata": {},
       "output_type": "display_data",
       "text": [
        "PROGRESS: Starting Newton Method \n",
        "--------------------------------------------------------"
       ]
      },
      {
       "html": [
        "<pre>PROGRESS:   Iter   Grad-Norm        Loss   Step size Elapsed time</pre>"
       ],
       "metadata": {},
       "output_type": "display_data",
       "text": [
        "PROGRESS:   Iter   Grad-Norm        Loss   Step size Elapsed time"
       ]
      },
      {
       "html": [
        "<pre>PROGRESS:      0   1.320e+06   2.719e+06   1.000e+00        0.09s</pre>"
       ],
       "metadata": {},
       "output_type": "display_data",
       "text": [
        "PROGRESS:      0   1.320e+06   2.719e+06   1.000e+00        0.09s"
       ]
      },
      {
       "html": [
        "<pre>PROGRESS:      1   2.196e-07   1.630e+05   1.000e+00        0.17s</pre>"
       ],
       "metadata": {},
       "output_type": "display_data",
       "text": [
        "PROGRESS:      1   2.196e-07   1.630e+05   1.000e+00        0.17s"
       ]
      },
      {
       "output_type": "stream",
       "stream": "stdout",
       "text": [
        "\n",
        "Inferred types from first line of file as \n",
        "column_type_hints=[str,str,str,int,str,str,str,dict,int,int,int,list,str,str,float,float,str,int,int,float,str,str,float,str,int,str,int,int,int,dict]\n",
        "If parsing fails due to incorrect types, you can correct\n",
        "the inferred type list above and pass it to read_csv in\n",
        "the column_type_hints argument\n",
        "------------------------------------------------------\n"
       ]
      }
     ],
     "prompt_number": 24
    },
    {
     "cell_type": "code",
     "collapsed": false,
     "input": [
      "fields = model.list_fields()\n",
      "print fields"
     ],
     "language": "python",
     "metadata": {},
     "outputs": [
      {
       "output_type": "stream",
       "stream": "stdout",
       "text": [
        "['auto_tuning', 'coefficients', 'convergence_threshold', 'feature_rescaling', 'features', 'l1_penalty', 'l2_penalty', 'lbfgs_memory_level', 'max_iterations', 'mini_batch_size', 'num_coefficients', 'num_examples', 'num_features', 'num_unpacked_features', 'solver', 'step_size', 'target', 'training_iterations', 'training_loss', 'training_rmse', 'training_solver_status', 'training_time', 'unpacked_features']\n"
       ]
      }
     ],
     "prompt_number": 25
    },
    {
     "cell_type": "code",
     "collapsed": false,
     "input": [
      "print model['training_rmse']"
     ],
     "language": "python",
     "metadata": {},
     "outputs": [
      {
       "output_type": "stream",
       "stream": "stdout",
       "text": [
        "0.970789603038\n"
       ]
      }
     ],
     "prompt_number": 26
    },
    {
     "cell_type": "code",
     "collapsed": false,
     "input": [
      "coefs = model['coefficients']\n",
      "print coefs"
     ],
     "language": "python",
     "metadata": {},
     "outputs": [
      {
       "output_type": "stream",
       "stream": "stdout",
       "text": [
        "+-----------------------+-------+-------------------+\n",
        "|          name         | index |       value       |\n",
        "+-----------------------+-------+-------------------+\n",
        "|      (intercept)      |  None |   -2.22564122929  |\n",
        "|     user_avg_stars    |  None |   0.810277675845  |\n",
        "|   business_avg_stars  |  None |   0.779631733709  |\n",
        "|   user_review_count   |  None | 2.87579031557e-05 |\n",
        "| business_review_count |  None | 6.83326143834e-05 |\n",
        "+-----------------------+-------+-------------------+\n",
        "[5 rows x 3 columns]\n",
        "\n"
       ]
      }
     ],
     "prompt_number": 27
    },
    {
     "cell_type": "code",
     "collapsed": false,
     "input": [
      "city = train_data['city']\n",
      "city.show()"
     ],
     "language": "python",
     "metadata": {},
     "outputs": [],
     "prompt_number": 28
    },
    {
     "cell_type": "code",
     "collapsed": false,
     "input": [
      "# Create a model with categorical features.\n",
      "model = gl.linear_regression.create(train_data, target='stars', \n",
      "                                    features = ['user_avg_stars',\n",
      "                                                'business_avg_stars', \n",
      "                                                'user_review_count', \n",
      "                                                'business_review_count', \n",
      "                                                'city'])\n",
      "\n",
      "# Number of feature columns\n",
      "print \"Number of features          : %s\" % model['num_features']\n",
      "\n",
      "# Number of features (including expanded lists and dictionaries)\n",
      "print \"Number of unpacked features : %s\" % model['num_unpacked_features']\n",
      "\n",
      "# Number of coefficients in the model\n",
      "print \"Number of coefficients      : %s\" % model['num_coefficients']\n",
      "\n",
      "# A coefficient is included for each category\n",
      "print model['coefficients']"
     ],
     "language": "python",
     "metadata": {},
     "outputs": [
      {
       "html": [
        "<pre>PROGRESS: Linear regression:</pre>"
       ],
       "metadata": {},
       "output_type": "display_data",
       "text": [
        "PROGRESS: Linear regression:"
       ]
      },
      {
       "html": [
        "<pre>PROGRESS: --------------------------------------------------------</pre>"
       ],
       "metadata": {},
       "output_type": "display_data",
       "text": [
        "PROGRESS: --------------------------------------------------------"
       ]
      },
      {
       "html": [
        "<pre>PROGRESS: Number of examples          : 172980</pre>"
       ],
       "metadata": {},
       "output_type": "display_data",
       "text": [
        "PROGRESS: Number of examples          : 172980"
       ]
      },
      {
       "html": [
        "<pre>PROGRESS: Number of features          : 5</pre>"
       ],
       "metadata": {},
       "output_type": "display_data",
       "text": [
        "PROGRESS: Number of features          : 5"
       ]
      },
      {
       "html": [
        "<pre>PROGRESS: Number of unpacked features : 5</pre>"
       ],
       "metadata": {},
       "output_type": "display_data",
       "text": [
        "PROGRESS: Number of unpacked features : 5"
       ]
      },
      {
       "html": [
        "<pre>PROGRESS: Number of coefficients    : 64</pre>"
       ],
       "metadata": {},
       "output_type": "display_data",
       "text": [
        "PROGRESS: Number of coefficients    : 64"
       ]
      },
      {
       "html": [
        "<pre>PROGRESS: Starting Newton Method \n",
        "--------------------------------------------------------</pre>"
       ],
       "metadata": {},
       "output_type": "display_data",
       "text": [
        "PROGRESS: Starting Newton Method \n",
        "--------------------------------------------------------"
       ]
      },
      {
       "html": [
        "<pre>PROGRESS:   Iter   Grad-Norm        Loss   Step size Elapsed time</pre>"
       ],
       "metadata": {},
       "output_type": "display_data",
       "text": [
        "PROGRESS:   Iter   Grad-Norm        Loss   Step size Elapsed time"
       ]
      },
      {
       "html": [
        "<pre>PROGRESS:      0   1.320e+06   2.719e+06   1.000e+00        0.10s</pre>"
       ],
       "metadata": {},
       "output_type": "display_data",
       "text": [
        "PROGRESS:      0   1.320e+06   2.719e+06   1.000e+00        0.10s"
       ]
      },
      {
       "html": [
        "<pre>PROGRESS:      1   1.672e-07   1.629e+05   1.000e+00        0.21s</pre>"
       ],
       "metadata": {},
       "output_type": "display_data",
       "text": [
        "PROGRESS:      1   1.672e-07   1.629e+05   1.000e+00        0.21s"
       ]
      },
      {
       "output_type": "stream",
       "stream": "stdout",
       "text": [
        "Number of features          : 5"
       ]
      },
      {
       "output_type": "stream",
       "stream": "stdout",
       "text": [
        "\n",
        "Number of unpacked features : 5\n",
        "Number of coefficients      : 64\n",
        "+-----------------------+------------+-------------------+\n",
        "|          name         |   index    |       value       |\n",
        "+-----------------------+------------+-------------------+\n",
        "|      (intercept)      |    None    |   -2.23140106304  |\n",
        "|     user_avg_stars    |    None    |    0.8111657817   |\n",
        "|   business_avg_stars  |    None    |   0.779263484546  |\n",
        "|   user_review_count   |    None    | 3.11476492695e-05 |\n",
        "| business_review_count |    None    | 8.87299674723e-05 |\n",
        "|          city         | Scottsdale | -0.00951905563724 |\n",
        "|          city         |  Chandler  |  0.0395518699566  |\n",
        "|          city         |  Glendale  |   0.011822114883  |\n",
        "|          city         |    Mesa    |  0.0169757761317  |\n",
        "|          city         |   Tempe    |  -0.0204577753531 |\n",
        "|          ...          |    ...     |        ...        |\n",
        "+-----------------------+------------+-------------------+\n",
        "[64 rows x 3 columns]\n",
        "Note: Only the head of the SFrame is printed.\n",
        "You can use print_rows(num_rows=m, num_columns=n) to print more rows and columns.\n"
       ]
      }
     ],
     "prompt_number": 29
    },
    {
     "cell_type": "code",
     "collapsed": false,
     "input": [
      "print train_data['categories_dict'].head(3)"
     ],
     "language": "python",
     "metadata": {},
     "outputs": [
      {
       "output_type": "stream",
       "stream": "stdout",
       "text": [
        "[{'Breakfast & Brunch': 1, 'Restaurants': 1}, {'Restaurants': 1, 'Pizza': 1, 'Italian': 1}, {'Middle Eastern': 1, 'Restaurants': 1}]\n"
       ]
      }
     ],
     "prompt_number": 31
    },
    {
     "cell_type": "code",
     "collapsed": false,
     "input": [
      "# Create a model with dictionary features.\n",
      "model = gl.linear_regression.create(train_data, target='stars', \n",
      "                                    features = ['user_avg_stars',\n",
      "                                                'business_avg_stars', \n",
      "                                                'user_review_count', \n",
      "                                                'business_review_count', \n",
      "                                                'categories_dict'])\n",
      "\n",
      "# Number of feature columns\n",
      "print \"Number of features          : %s\" % model['num_features']\n",
      "\n",
      "# Number of features (including expanded lists and dictionaries)\n",
      "print \"Number of unpacked features : %s\" % model['num_unpacked_features']\n",
      "\n",
      "# Number of coefficients in the model\n",
      "print \"Number of coefficients      : %s\" % model['num_coefficients']\n",
      "\n",
      "# A coefficient is included for each key in the dictionary\n",
      "print model['coefficients']"
     ],
     "language": "python",
     "metadata": {},
     "outputs": [
      {
       "html": [
        "<pre>PROGRESS: Linear regression:</pre>"
       ],
       "metadata": {},
       "output_type": "display_data",
       "text": [
        "PROGRESS: Linear regression:"
       ]
      },
      {
       "html": [
        "<pre>PROGRESS: --------------------------------------------------------</pre>"
       ],
       "metadata": {},
       "output_type": "display_data",
       "text": [
        "PROGRESS: --------------------------------------------------------"
       ]
      },
      {
       "html": [
        "<pre>PROGRESS: Number of examples          : 172980</pre>"
       ],
       "metadata": {},
       "output_type": "display_data",
       "text": [
        "PROGRESS: Number of examples          : 172980"
       ]
      },
      {
       "html": [
        "<pre>PROGRESS: Number of features          : 5</pre>"
       ],
       "metadata": {},
       "output_type": "display_data",
       "text": [
        "PROGRESS: Number of features          : 5"
       ]
      },
      {
       "html": [
        "<pre>PROGRESS: Number of unpacked features : 512</pre>"
       ],
       "metadata": {},
       "output_type": "display_data",
       "text": [
        "PROGRESS: Number of unpacked features : 512"
       ]
      },
      {
       "html": [
        "<pre>PROGRESS: Number of coefficients    : 513</pre>"
       ],
       "metadata": {},
       "output_type": "display_data",
       "text": [
        "PROGRESS: Number of coefficients    : 513"
       ]
      },
      {
       "html": [
        "<pre>PROGRESS: Starting L-BFGS \n",
        "--------------------------------------------------------</pre>"
       ],
       "metadata": {},
       "output_type": "display_data",
       "text": [
        "PROGRESS: Starting L-BFGS \n",
        "--------------------------------------------------------"
       ]
      },
      {
       "html": [
        "<pre>PROGRESS:   Iter   Grad-Norm        Loss   Step size Elapsed time</pre>"
       ],
       "metadata": {},
       "output_type": "display_data",
       "text": [
        "PROGRESS:   Iter   Grad-Norm        Loss   Step size Elapsed time"
       ]
      },
      {
       "html": [
        "<pre>PROGRESS:      0   1.320e+06   2.719e+06   1.000e-06        0.16s</pre>"
       ],
       "metadata": {},
       "output_type": "display_data",
       "text": [
        "PROGRESS:      0   1.320e+06   2.719e+06   1.000e-06        0.16s"
       ]
      },
      {
       "html": [
        "<pre>PROGRESS:      1   2.343e+05   4.114e+05   1.000e+00        0.49s</pre>"
       ],
       "metadata": {},
       "output_type": "display_data",
       "text": [
        "PROGRESS:      1   2.343e+05   4.114e+05   1.000e+00        0.49s"
       ]
      },
      {
       "html": [
        "<pre>PROGRESS:      2   7.814e+04   2.886e+05   1.000e+00        0.94s</pre>"
       ],
       "metadata": {},
       "output_type": "display_data",
       "text": [
        "PROGRESS:      2   7.814e+04   2.886e+05   1.000e+00        0.94s"
       ]
      },
      {
       "html": [
        "<pre>PROGRESS:      3   8.034e+04   2.682e+05   1.000e+00        1.11s</pre>"
       ],
       "metadata": {},
       "output_type": "display_data",
       "text": [
        "PROGRESS:      3   8.034e+04   2.682e+05   1.000e+00        1.11s"
       ]
      },
      {
       "html": [
        "<pre>PROGRESS:      4   4.789e+04   2.406e+05   1.000e+00        1.28s</pre>"
       ],
       "metadata": {},
       "output_type": "display_data",
       "text": [
        "PROGRESS:      4   4.789e+04   2.406e+05   1.000e+00        1.28s"
       ]
      },
      {
       "html": [
        "<pre>PROGRESS:      5   5.372e+04   2.296e+05   1.000e+00        1.48s</pre>"
       ],
       "metadata": {},
       "output_type": "display_data",
       "text": [
        "PROGRESS:      5   5.372e+04   2.296e+05   1.000e+00        1.48s"
       ]
      },
      {
       "html": [
        "<pre>PROGRESS:      6   4.215e+04   2.208e+05   1.000e+00        1.80s</pre>"
       ],
       "metadata": {},
       "output_type": "display_data",
       "text": [
        "PROGRESS:      6   4.215e+04   2.208e+05   1.000e+00        1.80s"
       ]
      },
      {
       "html": [
        "<pre>PROGRESS:      7   1.846e+04   2.076e+05   1.000e+00        1.99s</pre>"
       ],
       "metadata": {},
       "output_type": "display_data",
       "text": [
        "PROGRESS:      7   1.846e+04   2.076e+05   1.000e+00        1.99s"
       ]
      },
      {
       "html": [
        "<pre>PROGRESS:      8   2.295e+04   1.981e+05   1.000e+00        2.17s</pre>"
       ],
       "metadata": {},
       "output_type": "display_data",
       "text": [
        "PROGRESS:      8   2.295e+04   1.981e+05   1.000e+00        2.17s"
       ]
      },
      {
       "html": [
        "<pre>PROGRESS:      9   2.524e+04   1.919e+05   1.000e+00        2.39s</pre>"
       ],
       "metadata": {},
       "output_type": "display_data",
       "text": [
        "PROGRESS:      9   2.524e+04   1.919e+05   1.000e+00        2.39s"
       ]
      },
      {
       "html": [
        "<pre>PROGRESS:     10   2.107e+04   1.880e+05   1.000e+00        2.62s</pre>"
       ],
       "metadata": {},
       "output_type": "display_data",
       "text": [
        "PROGRESS:     10   2.107e+04   1.880e+05   1.000e+00        2.62s"
       ]
      },
      {
       "output_type": "stream",
       "stream": "stdout",
       "text": [
        "Number of features          : 5"
       ]
      },
      {
       "output_type": "stream",
       "stream": "stdout",
       "text": [
        "\n",
        "Number of unpacked features : 512\n",
        "Number of coefficients      : 513\n",
        "+-----------------------+------------------------+--------------------+\n",
        "|          name         |         index          |       value        |\n",
        "+-----------------------+------------------------+--------------------+\n",
        "|      (intercept)      |          None          |   0.869501536205   |\n",
        "|     user_avg_stars    |          None          |   0.413712123602   |\n",
        "|   business_avg_stars  |          None          |   0.362858003809   |\n",
        "|   user_review_count   |          None          | -5.13676818883e-06 |\n",
        "| business_review_count |          None          | 0.000197998534168  |\n",
        "|    categories_dict    |       Pet Stores       |  -0.434644382448   |\n",
        "|    categories_dict    |          Pets          |   0.504432431828   |\n",
        "|    categories_dict    | American (Traditional) |  -0.275564410853   |\n",
        "|    categories_dict    |   Breakfast & Brunch   |  -0.118879551087   |\n",
        "|    categories_dict    |      Restaurants       |   0.275453165248   |\n",
        "|          ...          |          ...           |        ...         |\n",
        "+-----------------------+------------------------+--------------------+\n",
        "[513 rows x 3 columns]\n",
        "Note: Only the head of the SFrame is printed.\n",
        "You can use print_rows(num_rows=m, num_columns=n) to print more rows and columns.\n"
       ]
      }
     ],
     "prompt_number": 32
    },
    {
     "cell_type": "code",
     "collapsed": false,
     "input": [
      "from array import array\n",
      "\n",
      "# List of features\n",
      "train_data['votes_list'] = train_data['votes'].apply(lambda x: x.values())\n",
      "print train_data['votes_list'].head(3)"
     ],
     "language": "python",
     "metadata": {},
     "outputs": [
      {
       "output_type": "stream",
       "stream": "stdout",
       "text": [
        "[array('d', [0.0, 5.0, 2.0]), array('d', [0.0, 0.0, 0.0]), array('d', [0.0, 1.0, 0.0])]\n"
       ]
      }
     ],
     "prompt_number": 34
    },
    {
     "cell_type": "code",
     "collapsed": false,
     "input": [
      "# Create a model with numeric-list features.\n",
      "model = gl.linear_regression.create(train_data, target='stars', \n",
      "                                    features = ['user_avg_stars',\n",
      "                                                'business_avg_stars', \n",
      "                                                'user_review_count', \n",
      "                                                'business_review_count', \n",
      "                                                'votes_list'])\n",
      "\n",
      "\n",
      "# Number of feature columns\n",
      "print \"Number of features          : %s\" % model['num_features']\n",
      "\n",
      "# Number of features (including expanded lists and dictionaries)\n",
      "print \"Number of unpacked features : %s\" % model['num_unpacked_features']\n",
      "\n",
      "# Number of coefficients in the model\n",
      "print \"Number of coefficients      : %s\" % model['num_coefficients']\n",
      "\n",
      "# A coefficient is included for each index in the list\n",
      "print model['coefficients']"
     ],
     "language": "python",
     "metadata": {},
     "outputs": [
      {
       "html": [
        "<pre>PROGRESS: Linear regression:</pre>"
       ],
       "metadata": {},
       "output_type": "display_data",
       "text": [
        "PROGRESS: Linear regression:"
       ]
      },
      {
       "html": [
        "<pre>PROGRESS: --------------------------------------------------------</pre>"
       ],
       "metadata": {},
       "output_type": "display_data",
       "text": [
        "PROGRESS: --------------------------------------------------------"
       ]
      },
      {
       "html": [
        "<pre>PROGRESS: Number of examples          : 172980</pre>"
       ],
       "metadata": {},
       "output_type": "display_data",
       "text": [
        "PROGRESS: Number of examples          : 172980"
       ]
      },
      {
       "html": [
        "<pre>PROGRESS: Number of features          : 5</pre>"
       ],
       "metadata": {},
       "output_type": "display_data",
       "text": [
        "PROGRESS: Number of features          : 5"
       ]
      },
      {
       "html": [
        "<pre>PROGRESS: Number of unpacked features : 7</pre>"
       ],
       "metadata": {},
       "output_type": "display_data",
       "text": [
        "PROGRESS: Number of unpacked features : 7"
       ]
      },
      {
       "html": [
        "<pre>PROGRESS: Number of coefficients    : 8</pre>"
       ],
       "metadata": {},
       "output_type": "display_data",
       "text": [
        "PROGRESS: Number of coefficients    : 8"
       ]
      },
      {
       "html": [
        "<pre>PROGRESS: Starting Newton Method \n",
        "--------------------------------------------------------</pre>"
       ],
       "metadata": {},
       "output_type": "display_data",
       "text": [
        "PROGRESS: Starting Newton Method \n",
        "--------------------------------------------------------"
       ]
      },
      {
       "html": [
        "<pre>PROGRESS:   Iter   Grad-Norm        Loss   Step size Elapsed time</pre>"
       ],
       "metadata": {},
       "output_type": "display_data",
       "text": [
        "PROGRESS:   Iter   Grad-Norm        Loss   Step size Elapsed time"
       ]
      },
      {
       "html": [
        "<pre>PROGRESS:      0   1.320e+06   2.719e+06   1.000e+00        0.16s</pre>"
       ],
       "metadata": {},
       "output_type": "display_data",
       "text": [
        "PROGRESS:      0   1.320e+06   2.719e+06   1.000e+00        0.16s"
       ]
      },
      {
       "html": [
        "<pre>PROGRESS:      1   1.778e-07   1.578e+05   1.000e+00        0.28s</pre>"
       ],
       "metadata": {},
       "output_type": "display_data",
       "text": [
        "PROGRESS:      1   1.778e-07   1.578e+05   1.000e+00        0.28s"
       ]
      },
      {
       "output_type": "stream",
       "stream": "stdout",
       "text": [
        "Number of features          : 5"
       ]
      },
      {
       "output_type": "stream",
       "stream": "stdout",
       "text": [
        "\n",
        "Number of unpacked features : 7\n",
        "Number of coefficients      : 8\n",
        "+-----------------------+-------+-------------------+\n",
        "|          name         | index |       value       |\n",
        "+-----------------------+-------+-------------------+\n",
        "|      (intercept)      |  None |   -2.0185764227   |\n",
        "|     user_avg_stars    |  None |   0.791195692635  |\n",
        "|   business_avg_stars  |  None |   0.757177353251  |\n",
        "|   user_review_count   |  None | 1.09772455531e-05 |\n",
        "| business_review_count |  None | 6.50435535595e-05 |\n",
        "|       votes_list      |   0   |  -0.0906241161815 |\n",
        "|       votes_list      |   1   |  -0.113586831082  |\n",
        "|       votes_list      |   2   |   0.19879306477   |\n",
        "+-----------------------+-------+-------------------+\n",
        "[8 rows x 3 columns]\n",
        "\n"
       ]
      }
     ],
     "prompt_number": 35
    },
    {
     "cell_type": "code",
     "collapsed": false,
     "input": [
      "# Feature Scaling = TRUE by default, but can be disabled:\n",
      "\n",
      "model = gl.linear_regression.create(train_data, target='stars', \n",
      "                                    features = ['user_avg_stars',\n",
      "                                                'business_avg_stars', \n",
      "                                                'user_review_count', \n",
      "                                                'business_review_count'],\n",
      "                                    feature_rescaling = False)"
     ],
     "language": "python",
     "metadata": {},
     "outputs": [
      {
       "html": [
        "<pre>PROGRESS: Linear regression:</pre>"
       ],
       "metadata": {},
       "output_type": "display_data",
       "text": [
        "PROGRESS: Linear regression:"
       ]
      },
      {
       "html": [
        "<pre>PROGRESS: --------------------------------------------------------</pre>"
       ],
       "metadata": {},
       "output_type": "display_data",
       "text": [
        "PROGRESS: --------------------------------------------------------"
       ]
      },
      {
       "html": [
        "<pre>PROGRESS: Number of examples          : 172980</pre>"
       ],
       "metadata": {},
       "output_type": "display_data",
       "text": [
        "PROGRESS: Number of examples          : 172980"
       ]
      },
      {
       "html": [
        "<pre>PROGRESS: Number of features          : 4</pre>"
       ],
       "metadata": {},
       "output_type": "display_data",
       "text": [
        "PROGRESS: Number of features          : 4"
       ]
      },
      {
       "html": [
        "<pre>PROGRESS: Number of unpacked features : 4</pre>"
       ],
       "metadata": {},
       "output_type": "display_data",
       "text": [
        "PROGRESS: Number of unpacked features : 4"
       ]
      },
      {
       "html": [
        "<pre>PROGRESS: Number of coefficients    : 5</pre>"
       ],
       "metadata": {},
       "output_type": "display_data",
       "text": [
        "PROGRESS: Number of coefficients    : 5"
       ]
      },
      {
       "html": [
        "<pre>PROGRESS: Starting Newton Method \n",
        "--------------------------------------------------------</pre>"
       ],
       "metadata": {},
       "output_type": "display_data",
       "text": [
        "PROGRESS: Starting Newton Method \n",
        "--------------------------------------------------------"
       ]
      },
      {
       "html": [
        "<pre>PROGRESS:   Iter   Grad-Norm        Loss   Step size Elapsed time</pre>"
       ],
       "metadata": {},
       "output_type": "display_data",
       "text": [
        "PROGRESS:   Iter   Grad-Norm        Loss   Step size Elapsed time"
       ]
      },
      {
       "html": [
        "<pre>PROGRESS:      0   1.618e+08   2.719e+06   1.000e+00        0.10s</pre>"
       ],
       "metadata": {},
       "output_type": "display_data",
       "text": [
        "PROGRESS:      0   1.618e+08   2.719e+06   1.000e+00        0.10s"
       ]
      },
      {
       "html": [
        "<pre>PROGRESS:      1   7.234e-07   1.630e+05   1.000e+00        0.23s</pre>"
       ],
       "metadata": {},
       "output_type": "display_data",
       "text": [
        "PROGRESS:      1   7.234e-07   1.630e+05   1.000e+00        0.23s"
       ]
      }
     ],
     "prompt_number": 36
    },
    {
     "cell_type": "code",
     "collapsed": false,
     "input": [
      "# Provide solver options in a dictionary\n",
      "model = gl.linear_regression.create(train_data, target='stars', \n",
      "                                    features = ['user_id',\n",
      "                                                'business_id',\n",
      "                                                'user_avg_stars',\n",
      "                                                'business_avg_stars'],\n",
      "                                    solver = 'lbfgs', \n",
      "                                    max_iterations = 20)"
     ],
     "language": "python",
     "metadata": {},
     "outputs": [
      {
       "html": [
        "<pre>PROGRESS: Linear regression:</pre>"
       ],
       "metadata": {},
       "output_type": "display_data",
       "text": [
        "PROGRESS: Linear regression:"
       ]
      },
      {
       "html": [
        "<pre>PROGRESS: --------------------------------------------------------</pre>"
       ],
       "metadata": {},
       "output_type": "display_data",
       "text": [
        "PROGRESS: --------------------------------------------------------"
       ]
      },
      {
       "html": [
        "<pre>PROGRESS: Number of examples          : 172980</pre>"
       ],
       "metadata": {},
       "output_type": "display_data",
       "text": [
        "PROGRESS: Number of examples          : 172980"
       ]
      },
      {
       "html": [
        "<pre>PROGRESS: Number of features          : 4</pre>"
       ],
       "metadata": {},
       "output_type": "display_data",
       "text": [
        "PROGRESS: Number of features          : 4"
       ]
      },
      {
       "html": [
        "<pre>PROGRESS: Number of unpacked features : 4</pre>"
       ],
       "metadata": {},
       "output_type": "display_data",
       "text": [
        "PROGRESS: Number of unpacked features : 4"
       ]
      },
      {
       "html": [
        "<pre>PROGRESS: Number of coefficients    : 50700</pre>"
       ],
       "metadata": {},
       "output_type": "display_data",
       "text": [
        "PROGRESS: Number of coefficients    : 50700"
       ]
      },
      {
       "html": [
        "<pre>PROGRESS: Starting L-BFGS \n",
        "--------------------------------------------------------</pre>"
       ],
       "metadata": {},
       "output_type": "display_data",
       "text": [
        "PROGRESS: Starting L-BFGS \n",
        "--------------------------------------------------------"
       ]
      },
      {
       "html": [
        "<pre>PROGRESS:   Iter   Grad-Norm        Loss   Step size Elapsed time</pre>"
       ],
       "metadata": {},
       "output_type": "display_data",
       "text": [
        "PROGRESS:   Iter   Grad-Norm        Loss   Step size Elapsed time"
       ]
      },
      {
       "html": [
        "<pre>PROGRESS:      0   1.320e+06   2.719e+06   1.000e-06        0.13s</pre>"
       ],
       "metadata": {},
       "output_type": "display_data",
       "text": [
        "PROGRESS:      0   1.320e+06   2.719e+06   1.000e-06        0.13s"
       ]
      },
      {
       "html": [
        "<pre>PROGRESS:      1   1.912e+05   2.258e+05   1.000e+00        0.38s</pre>"
       ],
       "metadata": {},
       "output_type": "display_data",
       "text": [
        "PROGRESS:      1   1.912e+05   2.258e+05   1.000e+00        0.38s"
       ]
      },
      {
       "html": [
        "<pre>PROGRESS:      2   1.127e+04   1.544e+05   1.000e+00        0.55s</pre>"
       ],
       "metadata": {},
       "output_type": "display_data",
       "text": [
        "PROGRESS:      2   1.127e+04   1.544e+05   1.000e+00        0.55s"
       ]
      },
      {
       "html": [
        "<pre>PROGRESS:      3   2.748e+04   1.402e+05   1.000e+00        0.69s</pre>"
       ],
       "metadata": {},
       "output_type": "display_data",
       "text": [
        "PROGRESS:      3   2.748e+04   1.402e+05   1.000e+00        0.69s"
       ]
      },
      {
       "html": [
        "<pre>PROGRESS:      4   8.129e+04   1.335e+05   1.000e+00        0.92s</pre>"
       ],
       "metadata": {},
       "output_type": "display_data",
       "text": [
        "PROGRESS:      4   8.129e+04   1.335e+05   1.000e+00        0.92s"
       ]
      },
      {
       "html": [
        "<pre>PROGRESS:      5   1.335e+04   1.226e+05   1.000e+00        1.13s</pre>"
       ],
       "metadata": {},
       "output_type": "display_data",
       "text": [
        "PROGRESS:      5   1.335e+04   1.226e+05   1.000e+00        1.13s"
       ]
      },
      {
       "html": [
        "<pre>PROGRESS:      6   4.576e+03   1.219e+05   1.000e+00        1.36s</pre>"
       ],
       "metadata": {},
       "output_type": "display_data",
       "text": [
        "PROGRESS:      6   4.576e+03   1.219e+05   1.000e+00        1.36s"
       ]
      },
      {
       "html": [
        "<pre>PROGRESS:      7   6.721e+03   1.209e+05   1.000e+00        1.56s</pre>"
       ],
       "metadata": {},
       "output_type": "display_data",
       "text": [
        "PROGRESS:      7   6.721e+03   1.209e+05   1.000e+00        1.56s"
       ]
      },
      {
       "html": [
        "<pre>PROGRESS:      8   4.932e+03   1.203e+05   1.000e+00        1.69s</pre>"
       ],
       "metadata": {},
       "output_type": "display_data",
       "text": [
        "PROGRESS:      8   4.932e+03   1.203e+05   1.000e+00        1.69s"
       ]
      },
      {
       "html": [
        "<pre>PROGRESS:      9   9.778e+02   1.200e+05   1.000e+00        1.83s</pre>"
       ],
       "metadata": {},
       "output_type": "display_data",
       "text": [
        "PROGRESS:      9   9.778e+02   1.200e+05   1.000e+00        1.83s"
       ]
      },
      {
       "html": [
        "<pre>PROGRESS:     10   7.888e+02   1.199e+05   1.000e+00        1.97s</pre>"
       ],
       "metadata": {},
       "output_type": "display_data",
       "text": [
        "PROGRESS:     10   7.888e+02   1.199e+05   1.000e+00        1.97s"
       ]
      },
      {
       "html": [
        "<pre>PROGRESS:     11   2.309e+02   1.199e+05   1.000e+00        2.19s</pre>"
       ],
       "metadata": {},
       "output_type": "display_data",
       "text": [
        "PROGRESS:     11   2.309e+02   1.199e+05   1.000e+00        2.19s"
       ]
      },
      {
       "html": [
        "<pre>PROGRESS:     12   2.761e+02   1.198e+05   1.000e+00        2.34s</pre>"
       ],
       "metadata": {},
       "output_type": "display_data",
       "text": [
        "PROGRESS:     12   2.761e+02   1.198e+05   1.000e+00        2.34s"
       ]
      },
      {
       "html": [
        "<pre>PROGRESS:     13   6.264e+02   1.198e+05   1.000e+00        2.48s</pre>"
       ],
       "metadata": {},
       "output_type": "display_data",
       "text": [
        "PROGRESS:     13   6.264e+02   1.198e+05   1.000e+00        2.48s"
       ]
      },
      {
       "html": [
        "<pre>PROGRESS:     14   1.377e+02   1.198e+05   1.000e+00        2.61s</pre>"
       ],
       "metadata": {},
       "output_type": "display_data",
       "text": [
        "PROGRESS:     14   1.377e+02   1.198e+05   1.000e+00        2.61s"
       ]
      },
      {
       "html": [
        "<pre>PROGRESS:     15   1.335e+02   1.198e+05   1.000e+00        2.75s</pre>"
       ],
       "metadata": {},
       "output_type": "display_data",
       "text": [
        "PROGRESS:     15   1.335e+02   1.198e+05   1.000e+00        2.75s"
       ]
      },
      {
       "html": [
        "<pre>PROGRESS:     16   1.084e+02   1.198e+05   1.000e+00        2.93s</pre>"
       ],
       "metadata": {},
       "output_type": "display_data",
       "text": [
        "PROGRESS:     16   1.084e+02   1.198e+05   1.000e+00        2.93s"
       ]
      },
      {
       "html": [
        "<pre>PROGRESS:     17   1.130e+03   1.198e+05   1.000e+00        3.07s</pre>"
       ],
       "metadata": {},
       "output_type": "display_data",
       "text": [
        "PROGRESS:     17   1.130e+03   1.198e+05   1.000e+00        3.07s"
       ]
      },
      {
       "html": [
        "<pre>PROGRESS:     18   1.764e+02   1.198e+05   1.000e+00        3.40s</pre>"
       ],
       "metadata": {},
       "output_type": "display_data",
       "text": [
        "PROGRESS:     18   1.764e+02   1.198e+05   1.000e+00        3.40s"
       ]
      },
      {
       "html": [
        "<pre>PROGRESS:     19   7.220e+01   1.198e+05   1.000e+00        3.54s</pre>"
       ],
       "metadata": {},
       "output_type": "display_data",
       "text": [
        "PROGRESS:     19   7.220e+01   1.198e+05   1.000e+00        3.54s"
       ]
      },
      {
       "html": [
        "<pre>PROGRESS:     20   1.263e+02   1.198e+05   1.000e+00        3.80s</pre>"
       ],
       "metadata": {},
       "output_type": "display_data",
       "text": [
        "PROGRESS:     20   1.263e+02   1.198e+05   1.000e+00        3.80s"
       ]
      }
     ],
     "prompt_number": 37
    },
    {
     "cell_type": "code",
     "collapsed": false,
     "input": [
      "# Imputation in Model Predictions"
     ],
     "language": "python",
     "metadata": {},
     "outputs": []
    },
    {
     "cell_type": "code",
     "collapsed": false,
     "input": [
      "# Create a model with categorical and dictionary features.\n",
      "model = gl.linear_regression.create(train_data, target='stars', \n",
      "                                    features = ['user_avg_stars',\n",
      "                                                'business_avg_stars', \n",
      "                                                'user_review_count', \n",
      "                                                'business_review_count', \n",
      "                                                'city', \n",
      "                                                'categories_dict'])\n",
      "\n",
      "# An SFrame with a single row with missing values in the 'user_avg_stars'\n",
      "# predict() will impute the entire feature to the mean value observed during training\n",
      "new_data = gl.SFrame({'user_avg_stars': [None],\n",
      "                      'business_avg_stars': [30.0],\n",
      "                      'user_review_count': [10],\n",
      "                      'business_review_count': [20],\n",
      "                       'city': ['Tuscon'],\n",
      "                       'categories_dict': [{'Pizza': 1}]\n",
      "                      })\n",
      "prediction = model.predict(new_data)\n",
      "print prediction\n",
      "\n",
      "# An SFrame without the 'user_avg_stars' feature. predict() will impute the \n",
      "# entire feature to the mean value observed during training.\n",
      "new_data = gl.SFrame({'business_avg_stars': [30.0],\n",
      "                      'user_review_count': [10],\n",
      "                      'business_review_count': [20],\n",
      "                       'city': ['Tuscon'],\n",
      "                       'categories_dict': [{'Pizza': 1}]\n",
      "                      })\n",
      "prediction = model.predict(new_data)"
     ],
     "language": "python",
     "metadata": {},
     "outputs": [
      {
       "html": [
        "<pre>PROGRESS: Linear regression:</pre>"
       ],
       "metadata": {},
       "output_type": "display_data",
       "text": [
        "PROGRESS: Linear regression:"
       ]
      },
      {
       "html": [
        "<pre>PROGRESS: --------------------------------------------------------</pre>"
       ],
       "metadata": {},
       "output_type": "display_data",
       "text": [
        "PROGRESS: --------------------------------------------------------"
       ]
      },
      {
       "html": [
        "<pre>PROGRESS: Number of examples          : 172980</pre>"
       ],
       "metadata": {},
       "output_type": "display_data",
       "text": [
        "PROGRESS: Number of examples          : 172980"
       ]
      },
      {
       "html": [
        "<pre>PROGRESS: Number of features          : 6</pre>"
       ],
       "metadata": {},
       "output_type": "display_data",
       "text": [
        "PROGRESS: Number of features          : 6"
       ]
      },
      {
       "html": [
        "<pre>PROGRESS: Number of unpacked features : 513</pre>"
       ],
       "metadata": {},
       "output_type": "display_data",
       "text": [
        "PROGRESS: Number of unpacked features : 513"
       ]
      },
      {
       "html": [
        "<pre>PROGRESS: Number of coefficients    : 572</pre>"
       ],
       "metadata": {},
       "output_type": "display_data",
       "text": [
        "PROGRESS: Number of coefficients    : 572"
       ]
      },
      {
       "html": [
        "<pre>PROGRESS: Starting L-BFGS \n",
        "--------------------------------------------------------</pre>"
       ],
       "metadata": {},
       "output_type": "display_data",
       "text": [
        "PROGRESS: Starting L-BFGS \n",
        "--------------------------------------------------------"
       ]
      },
      {
       "html": [
        "<pre>PROGRESS:   Iter   Grad-Norm        Loss   Step size Elapsed time</pre>"
       ],
       "metadata": {},
       "output_type": "display_data",
       "text": [
        "PROGRESS:   Iter   Grad-Norm        Loss   Step size Elapsed time"
       ]
      },
      {
       "html": [
        "<pre>PROGRESS:      0   1.320e+06   2.719e+06   1.000e-06        0.18s</pre>"
       ],
       "metadata": {},
       "output_type": "display_data",
       "text": [
        "PROGRESS:      0   1.320e+06   2.719e+06   1.000e-06        0.18s"
       ]
      },
      {
       "html": [
        "<pre>PROGRESS:      1   3.215e+05   5.225e+05   1.000e+00        0.50s</pre>"
       ],
       "metadata": {},
       "output_type": "display_data",
       "text": [
        "PROGRESS:      1   3.215e+05   5.225e+05   1.000e+00        0.50s"
       ]
      },
      {
       "html": [
        "<pre>PROGRESS:      2   7.454e+04   2.896e+05   1.000e+00        0.86s</pre>"
       ],
       "metadata": {},
       "output_type": "display_data",
       "text": [
        "PROGRESS:      2   7.454e+04   2.896e+05   1.000e+00        0.86s"
       ]
      },
      {
       "html": [
        "<pre>PROGRESS:      3   7.164e+04   2.733e+05   1.000e+00        1.12s</pre>"
       ],
       "metadata": {},
       "output_type": "display_data",
       "text": [
        "PROGRESS:      3   7.164e+04   2.733e+05   1.000e+00        1.12s"
       ]
      },
      {
       "html": [
        "<pre>PROGRESS:      4   5.090e+04   2.448e+05   1.000e+00        1.29s</pre>"
       ],
       "metadata": {},
       "output_type": "display_data",
       "text": [
        "PROGRESS:      4   5.090e+04   2.448e+05   1.000e+00        1.29s"
       ]
      },
      {
       "html": [
        "<pre>PROGRESS:      5   7.468e+04   2.358e+05   1.000e+00        1.45s</pre>"
       ],
       "metadata": {},
       "output_type": "display_data",
       "text": [
        "PROGRESS:      5   7.468e+04   2.358e+05   1.000e+00        1.45s"
       ]
      },
      {
       "html": [
        "<pre>PROGRESS:      6   4.919e+04   2.283e+05   1.000e+00        1.71s</pre>"
       ],
       "metadata": {},
       "output_type": "display_data",
       "text": [
        "PROGRESS:      6   4.919e+04   2.283e+05   1.000e+00        1.71s"
       ]
      },
      {
       "html": [
        "<pre>PROGRESS:      7   2.041e+04   2.205e+05   1.000e+00        1.93s</pre>"
       ],
       "metadata": {},
       "output_type": "display_data",
       "text": [
        "PROGRESS:      7   2.041e+04   2.205e+05   1.000e+00        1.93s"
       ]
      },
      {
       "html": [
        "<pre>PROGRESS:      8   2.544e+04   2.135e+05   1.000e+00        2.11s</pre>"
       ],
       "metadata": {},
       "output_type": "display_data",
       "text": [
        "PROGRESS:      8   2.544e+04   2.135e+05   1.000e+00        2.11s"
       ]
      },
      {
       "html": [
        "<pre>PROGRESS:      9   2.697e+04   1.945e+05   1.000e+00        2.38s</pre>"
       ],
       "metadata": {},
       "output_type": "display_data",
       "text": [
        "PROGRESS:      9   2.697e+04   1.945e+05   1.000e+00        2.38s"
       ]
      },
      {
       "html": [
        "<pre>PROGRESS:     10   4.460e+04   1.986e+05   1.000e+00        2.63s</pre>"
       ],
       "metadata": {},
       "output_type": "display_data",
       "text": [
        "PROGRESS:     10   4.460e+04   1.986e+05   1.000e+00        2.63s"
       ]
      },
      {
       "output_type": "stream",
       "stream": "stdout",
       "text": [
        "[13.647965851013613]"
       ]
      },
      {
       "output_type": "stream",
       "stream": "stdout",
       "text": [
        "\n"
       ]
      }
     ],
     "prompt_number": 38
    },
    {
     "cell_type": "code",
     "collapsed": false,
     "input": [
      "# Regularizing Models (Lasso, Ridge, Elastic Net)"
     ],
     "language": "python",
     "metadata": {},
     "outputs": [],
     "prompt_number": 39
    },
    {
     "cell_type": "code",
     "collapsed": false,
     "input": [
      "# Lasso\n",
      "model = gl.linear_regression.create(train_data, target='stars', \n",
      "                                    features = ['user_avg_stars',\n",
      "                                                'business_avg_stars', \n",
      "                                                'user_review_count', \n",
      "                                                'business_review_count'],\n",
      "                                    l1_penalty = 1.0,\n",
      "                                    l2_penalty = 0.0)\n",
      "\n",
      "# Ridge regression\n",
      "model = gl.linear_regression.create(train_data, target='stars', \n",
      "                                    features = ['user_avg_stars',\n",
      "                                                'business_avg_stars', \n",
      "                                                'user_review_count', \n",
      "                                                'business_review_count'],\n",
      "                                    l2_penalty = 1.0)\n",
      "\n",
      "# Elastic net regression\n",
      "model = gl.linear_regression.create(train_data, target='stars', \n",
      "                                    features = ['user_avg_stars',\n",
      "                                                'business_avg_stars', \n",
      "                                                'user_review_count', \n",
      "                                                'business_review_count'],\n",
      "                                    l1_penalty = 1.0,\n",
      "                                    l2_penalty = 1.0)"
     ],
     "language": "python",
     "metadata": {},
     "outputs": [
      {
       "html": [
        "<pre>PROGRESS: Linear regression:</pre>"
       ],
       "metadata": {},
       "output_type": "display_data",
       "text": [
        "PROGRESS: Linear regression:"
       ]
      },
      {
       "html": [
        "<pre>PROGRESS: --------------------------------------------------------</pre>"
       ],
       "metadata": {},
       "output_type": "display_data",
       "text": [
        "PROGRESS: --------------------------------------------------------"
       ]
      },
      {
       "html": [
        "<pre>PROGRESS: Number of examples          : 172980</pre>"
       ],
       "metadata": {},
       "output_type": "display_data",
       "text": [
        "PROGRESS: Number of examples          : 172980"
       ]
      },
      {
       "html": [
        "<pre>PROGRESS: Number of features          : 4</pre>"
       ],
       "metadata": {},
       "output_type": "display_data",
       "text": [
        "PROGRESS: Number of features          : 4"
       ]
      },
      {
       "html": [
        "<pre>PROGRESS: Number of unpacked features : 4</pre>"
       ],
       "metadata": {},
       "output_type": "display_data",
       "text": [
        "PROGRESS: Number of unpacked features : 4"
       ]
      },
      {
       "html": [
        "<pre>PROGRESS: Number of coefficients    : 5</pre>"
       ],
       "metadata": {},
       "output_type": "display_data",
       "text": [
        "PROGRESS: Number of coefficients    : 5"
       ]
      },
      {
       "html": [
        "<pre>PROGRESS: Starting Accelerated Gradient (FISTA)\n",
        "--------------------------------------------------------</pre>"
       ],
       "metadata": {},
       "output_type": "display_data",
       "text": [
        "PROGRESS: Starting Accelerated Gradient (FISTA)\n",
        "--------------------------------------------------------"
       ]
      },
      {
       "html": [
        "<pre>PROGRESS:   Iter    Progress        Loss   Step size Elapsed time</pre>"
       ],
       "metadata": {},
       "output_type": "display_data",
       "text": [
        "PROGRESS:   Iter    Progress        Loss   Step size Elapsed time"
       ]
      },
      {
       "html": [
        "<pre>PROGRESS:      0   1.320e+06   2.719e+06   1.000e+00        0.08s</pre>"
       ],
       "metadata": {},
       "output_type": "display_data",
       "text": [
        "PROGRESS:      0   1.320e+06   2.719e+06   1.000e+00        0.08s"
       ]
      },
      {
       "html": [
        "<pre>PROGRESS: Tuning step size. This iteration could take longer than subsequent iterations.</pre>"
       ],
       "metadata": {},
       "output_type": "display_data",
       "text": [
        "PROGRESS: Tuning step size. This iteration could take longer than subsequent iterations."
       ]
      },
      {
       "html": [
        "<pre>PROGRESS:      1   9.068e-01   3.004e+05   6.868e-07        1.48s</pre>"
       ],
       "metadata": {},
       "output_type": "display_data",
       "text": [
        "PROGRESS:      1   9.068e-01   3.004e+05   6.868e-07        1.48s"
       ]
      },
      {
       "html": [
        "<pre>PROGRESS:      2   1.287e-01   2.508e+05   6.868e-07        1.69s</pre>"
       ],
       "metadata": {},
       "output_type": "display_data",
       "text": [
        "PROGRESS:      2   1.287e-01   2.508e+05   6.868e-07        1.69s"
       ]
      },
      {
       "html": [
        "<pre>PROGRESS:      3   7.961e-02   2.300e+05   6.868e-07        1.89s</pre>"
       ],
       "metadata": {},
       "output_type": "display_data",
       "text": [
        "PROGRESS:      3   7.961e-02   2.300e+05   6.868e-07        1.89s"
       ]
      },
      {
       "html": [
        "<pre>PROGRESS:      4   8.812e-02   2.144e+05   6.868e-07        2.04s</pre>"
       ],
       "metadata": {},
       "output_type": "display_data",
       "text": [
        "PROGRESS:      4   8.812e-02   2.144e+05   6.868e-07        2.04s"
       ]
      },
      {
       "html": [
        "<pre>PROGRESS:      5   8.258e-02   2.038e+05   6.868e-07        2.19s</pre>"
       ],
       "metadata": {},
       "output_type": "display_data",
       "text": [
        "PROGRESS:      5   8.258e-02   2.038e+05   6.868e-07        2.19s"
       ]
      },
      {
       "html": [
        "<pre>PROGRESS:      6   7.699e-02   1.972e+05   6.868e-07        2.33s</pre>"
       ],
       "metadata": {},
       "output_type": "display_data",
       "text": [
        "PROGRESS:      6   7.699e-02   1.972e+05   6.868e-07        2.33s"
       ]
      },
      {
       "html": [
        "<pre>PROGRESS:      7   7.045e-02   1.936e+05   6.868e-07        2.49s</pre>"
       ],
       "metadata": {},
       "output_type": "display_data",
       "text": [
        "PROGRESS:      7   7.045e-02   1.936e+05   6.868e-07        2.49s"
       ]
      },
      {
       "html": [
        "<pre>PROGRESS:      8   6.151e-02   1.920e+05   6.868e-07        2.68s</pre>"
       ],
       "metadata": {},
       "output_type": "display_data",
       "text": [
        "PROGRESS:      8   6.151e-02   1.920e+05   6.868e-07        2.68s"
       ]
      },
      {
       "html": [
        "<pre>PROGRESS:      9   5.093e-02   1.913e+05   6.868e-07        2.83s</pre>"
       ],
       "metadata": {},
       "output_type": "display_data",
       "text": [
        "PROGRESS:      9   5.093e-02   1.913e+05   6.868e-07        2.83s"
       ]
      },
      {
       "html": [
        "<pre>PROGRESS:     10   3.958e-02   1.910e+05   6.868e-07        2.97s</pre>"
       ],
       "metadata": {},
       "output_type": "display_data",
       "text": [
        "PROGRESS:     10   3.958e-02   1.910e+05   6.868e-07        2.97s"
       ]
      },
      {
       "html": [
        "<pre>PROGRESS: Linear regression:</pre>"
       ],
       "metadata": {},
       "output_type": "display_data",
       "text": [
        "PROGRESS: Linear regression:"
       ]
      },
      {
       "html": [
        "<pre>PROGRESS: --------------------------------------------------------</pre>"
       ],
       "metadata": {},
       "output_type": "display_data",
       "text": [
        "PROGRESS: --------------------------------------------------------"
       ]
      },
      {
       "html": [
        "<pre>PROGRESS: Number of examples          : 172980</pre>"
       ],
       "metadata": {},
       "output_type": "display_data",
       "text": [
        "PROGRESS: Number of examples          : 172980"
       ]
      },
      {
       "html": [
        "<pre>PROGRESS: Number of features          : 4</pre>"
       ],
       "metadata": {},
       "output_type": "display_data",
       "text": [
        "PROGRESS: Number of features          : 4"
       ]
      },
      {
       "html": [
        "<pre>PROGRESS: Number of unpacked features : 4</pre>"
       ],
       "metadata": {},
       "output_type": "display_data",
       "text": [
        "PROGRESS: Number of unpacked features : 4"
       ]
      },
      {
       "html": [
        "<pre>PROGRESS: Number of coefficients    : 5</pre>"
       ],
       "metadata": {},
       "output_type": "display_data",
       "text": [
        "PROGRESS: Number of coefficients    : 5"
       ]
      },
      {
       "html": [
        "<pre>PROGRESS: Starting Newton Method \n",
        "--------------------------------------------------------</pre>"
       ],
       "metadata": {},
       "output_type": "display_data",
       "text": [
        "PROGRESS: Starting Newton Method \n",
        "--------------------------------------------------------"
       ]
      },
      {
       "html": [
        "<pre>PROGRESS:   Iter   Grad-Norm        Loss   Step size Elapsed time</pre>"
       ],
       "metadata": {},
       "output_type": "display_data",
       "text": [
        "PROGRESS:   Iter   Grad-Norm        Loss   Step size Elapsed time"
       ]
      },
      {
       "html": [
        "<pre>PROGRESS:      0   1.320e+06   2.719e+06   1.000e+00        0.09s</pre>"
       ],
       "metadata": {},
       "output_type": "display_data",
       "text": [
        "PROGRESS:      0   1.320e+06   2.719e+06   1.000e+00        0.09s"
       ]
      },
      {
       "html": [
        "<pre>PROGRESS:      1   2.196e-07   1.630e+05   1.000e+00        0.19s</pre>"
       ],
       "metadata": {},
       "output_type": "display_data",
       "text": [
        "PROGRESS:      1   2.196e-07   1.630e+05   1.000e+00        0.19s"
       ]
      },
      {
       "html": [
        "<pre>PROGRESS: Linear regression:</pre>"
       ],
       "metadata": {},
       "output_type": "display_data",
       "text": [
        "PROGRESS: Linear regression:"
       ]
      },
      {
       "html": [
        "<pre>PROGRESS: --------------------------------------------------------</pre>"
       ],
       "metadata": {},
       "output_type": "display_data",
       "text": [
        "PROGRESS: --------------------------------------------------------"
       ]
      },
      {
       "html": [
        "<pre>PROGRESS: Number of examples          : 172980</pre>"
       ],
       "metadata": {},
       "output_type": "display_data",
       "text": [
        "PROGRESS: Number of examples          : 172980"
       ]
      },
      {
       "html": [
        "<pre>PROGRESS: Number of features          : 4</pre>"
       ],
       "metadata": {},
       "output_type": "display_data",
       "text": [
        "PROGRESS: Number of features          : 4"
       ]
      },
      {
       "html": [
        "<pre>PROGRESS: Number of unpacked features : 4</pre>"
       ],
       "metadata": {},
       "output_type": "display_data",
       "text": [
        "PROGRESS: Number of unpacked features : 4"
       ]
      },
      {
       "html": [
        "<pre>PROGRESS: Number of coefficients    : 5</pre>"
       ],
       "metadata": {},
       "output_type": "display_data",
       "text": [
        "PROGRESS: Number of coefficients    : 5"
       ]
      },
      {
       "html": [
        "<pre>PROGRESS: Starting Accelerated Gradient (FISTA)\n",
        "--------------------------------------------------------</pre>"
       ],
       "metadata": {},
       "output_type": "display_data",
       "text": [
        "PROGRESS: Starting Accelerated Gradient (FISTA)\n",
        "--------------------------------------------------------"
       ]
      },
      {
       "html": [
        "<pre>PROGRESS:   Iter    Progress        Loss   Step size Elapsed time</pre>"
       ],
       "metadata": {},
       "output_type": "display_data",
       "text": [
        "PROGRESS:   Iter    Progress        Loss   Step size Elapsed time"
       ]
      },
      {
       "html": [
        "<pre>PROGRESS:      0   1.320e+06   2.719e+06   1.000e+00        0.12s</pre>"
       ],
       "metadata": {},
       "output_type": "display_data",
       "text": [
        "PROGRESS:      0   1.320e+06   2.719e+06   1.000e+00        0.12s"
       ]
      },
      {
       "html": [
        "<pre>PROGRESS: Tuning step size. This iteration could take longer than subsequent iterations.</pre>"
       ],
       "metadata": {},
       "output_type": "display_data",
       "text": [
        "PROGRESS: Tuning step size. This iteration could take longer than subsequent iterations."
       ]
      },
      {
       "html": [
        "<pre>PROGRESS:      1   9.068e-01   3.004e+05   6.868e-07        1.32s</pre>"
       ],
       "metadata": {},
       "output_type": "display_data",
       "text": [
        "PROGRESS:      1   9.068e-01   3.004e+05   6.868e-07        1.32s"
       ]
      },
      {
       "html": [
        "<pre>PROGRESS:      2   1.287e-01   2.508e+05   6.868e-07        1.47s</pre>"
       ],
       "metadata": {},
       "output_type": "display_data",
       "text": [
        "PROGRESS:      2   1.287e-01   2.508e+05   6.868e-07        1.47s"
       ]
      },
      {
       "html": [
        "<pre>PROGRESS:      3   7.961e-02   2.300e+05   6.868e-07        1.61s</pre>"
       ],
       "metadata": {},
       "output_type": "display_data",
       "text": [
        "PROGRESS:      3   7.961e-02   2.300e+05   6.868e-07        1.61s"
       ]
      },
      {
       "html": [
        "<pre>PROGRESS:      4   8.812e-02   2.144e+05   6.868e-07        1.75s</pre>"
       ],
       "metadata": {},
       "output_type": "display_data",
       "text": [
        "PROGRESS:      4   8.812e-02   2.144e+05   6.868e-07        1.75s"
       ]
      },
      {
       "html": [
        "<pre>PROGRESS:      5   8.257e-02   2.038e+05   6.868e-07        1.90s</pre>"
       ],
       "metadata": {},
       "output_type": "display_data",
       "text": [
        "PROGRESS:      5   8.257e-02   2.038e+05   6.868e-07        1.90s"
       ]
      },
      {
       "html": [
        "<pre>PROGRESS:      6   7.699e-02   1.972e+05   6.868e-07        2.05s</pre>"
       ],
       "metadata": {},
       "output_type": "display_data",
       "text": [
        "PROGRESS:      6   7.699e-02   1.972e+05   6.868e-07        2.05s"
       ]
      },
      {
       "html": [
        "<pre>PROGRESS:      7   7.044e-02   1.936e+05   6.868e-07        2.20s</pre>"
       ],
       "metadata": {},
       "output_type": "display_data",
       "text": [
        "PROGRESS:      7   7.044e-02   1.936e+05   6.868e-07        2.20s"
       ]
      },
      {
       "html": [
        "<pre>PROGRESS:      8   6.150e-02   1.920e+05   6.868e-07        2.37s</pre>"
       ],
       "metadata": {},
       "output_type": "display_data",
       "text": [
        "PROGRESS:      8   6.150e-02   1.920e+05   6.868e-07        2.37s"
       ]
      },
      {
       "html": [
        "<pre>PROGRESS:      9   5.093e-02   1.913e+05   6.868e-07        2.52s</pre>"
       ],
       "metadata": {},
       "output_type": "display_data",
       "text": [
        "PROGRESS:      9   5.093e-02   1.913e+05   6.868e-07        2.52s"
       ]
      },
      {
       "html": [
        "<pre>PROGRESS:     10   3.958e-02   1.910e+05   6.868e-07        2.66s</pre>"
       ],
       "metadata": {},
       "output_type": "display_data",
       "text": [
        "PROGRESS:     10   3.958e-02   1.910e+05   6.868e-07        2.66s"
       ]
      }
     ],
     "prompt_number": 40
    },
    {
     "cell_type": "code",
     "collapsed": false,
     "input": [
      "# Gradient Boosted Regression Trees (GBRT)"
     ],
     "language": "python",
     "metadata": {},
     "outputs": [],
     "prompt_number": 41
    },
    {
     "cell_type": "code",
     "collapsed": false,
     "input": [
      "import graphlab as gl\n",
      "\n",
      "# Load the data\n",
      "data =  gl.SFrame.read_csv('http://s3.amazonaws.com/gl-testdata/xgboost/mushroom.csv')\n",
      "\n",
      "# Label 'p' is edible\n",
      "data['label'] = data['label'] == 'p'\n",
      "\n",
      "# Make a train-test split\n",
      "train_data, test_data = data.random_split(0.8)\n",
      "\n",
      "# Create a model.\n",
      "model = gl.boosted_trees_regression.create(train_data, target='label',\n",
      "                                           max_iterations=2,\n",
      "                                           max_depth =  3)\n",
      "\n",
      "# Save predictions to an SArray \n",
      "predictions = model.predict(test_data)\n",
      "\n",
      "# Evaluate the model and save the results into a dictionary\n",
      "results = model.evaluate(test_data)"
     ],
     "language": "python",
     "metadata": {},
     "outputs": [
      {
       "html": [
        "<pre>PROGRESS: Downloading http://s3.amazonaws.com/gl-testdata/xgboost/mushroom.csv to /var/tmp/graphlab-Sean/5339/000007.csv</pre>"
       ],
       "metadata": {},
       "output_type": "display_data",
       "text": [
        "PROGRESS: Downloading http://s3.amazonaws.com/gl-testdata/xgboost/mushroom.csv to /var/tmp/graphlab-Sean/5339/000007.csv"
       ]
      },
      {
       "html": [
        "<pre>PROGRESS: Finished parsing file http://s3.amazonaws.com/gl-testdata/xgboost/mushroom.csv</pre>"
       ],
       "metadata": {},
       "output_type": "display_data",
       "text": [
        "PROGRESS: Finished parsing file http://s3.amazonaws.com/gl-testdata/xgboost/mushroom.csv"
       ]
      },
      {
       "html": [
        "<pre>PROGRESS: Parsing completed. Parsed 100 lines in 0.03 secs.</pre>"
       ],
       "metadata": {},
       "output_type": "display_data",
       "text": [
        "PROGRESS: Parsing completed. Parsed 100 lines in 0.03 secs."
       ]
      },
      {
       "output_type": "stream",
       "stream": "stdout",
       "text": [
        "------------------------------------------------------"
       ]
      },
      {
       "html": [
        "<pre>PROGRESS: Finished parsing file http://s3.amazonaws.com/gl-testdata/xgboost/mushroom.csv</pre>"
       ],
       "metadata": {},
       "output_type": "display_data",
       "text": [
        "PROGRESS: Finished parsing file http://s3.amazonaws.com/gl-testdata/xgboost/mushroom.csv"
       ]
      },
      {
       "html": [
        "<pre>PROGRESS: Parsing completed. Parsed 8124 lines in 0.07 secs.</pre>"
       ],
       "metadata": {},
       "output_type": "display_data",
       "text": [
        "PROGRESS: Parsing completed. Parsed 8124 lines in 0.07 secs."
       ]
      },
      {
       "html": [
        "<pre>PROGRESS: WARNING: Detected extremely low variance for feature(s) 'veil-type' because all entries are nearly the same.\n",
        "Proceeding with model training using all features. If the model does not provide results of adequate quality, exclude the above mentioned feature(s) from the input dataset.</pre>"
       ],
       "metadata": {},
       "output_type": "display_data",
       "text": [
        "PROGRESS: WARNING: Detected extremely low variance for feature(s) 'veil-type' because all entries are nearly the same.\n",
        "Proceeding with model training using all features. If the model does not provide results of adequate quality, exclude the above mentioned feature(s) from the input dataset."
       ]
      },
      {
       "html": [
        "<pre>PROGRESS: Boosted trees regression:</pre>"
       ],
       "metadata": {},
       "output_type": "display_data",
       "text": [
        "PROGRESS: Boosted trees regression:"
       ]
      },
      {
       "html": [
        "<pre>PROGRESS: --------------------------------------------------------</pre>"
       ],
       "metadata": {},
       "output_type": "display_data",
       "text": [
        "PROGRESS: --------------------------------------------------------"
       ]
      },
      {
       "html": [
        "<pre>PROGRESS: Number of examples          : 6449</pre>"
       ],
       "metadata": {},
       "output_type": "display_data",
       "text": [
        "PROGRESS: Number of examples          : 6449"
       ]
      },
      {
       "html": [
        "<pre>PROGRESS: Number of features          : 22</pre>"
       ],
       "metadata": {},
       "output_type": "display_data",
       "text": [
        "PROGRESS: Number of features          : 22"
       ]
      },
      {
       "html": [
        "<pre>PROGRESS: Number of unpacked features : 22</pre>"
       ],
       "metadata": {},
       "output_type": "display_data",
       "text": [
        "PROGRESS: Number of unpacked features : 22"
       ]
      },
      {
       "html": [
        "<pre>PROGRESS: Starting Boosted Trees</pre>"
       ],
       "metadata": {},
       "output_type": "display_data",
       "text": [
        "PROGRESS: Starting Boosted Trees"
       ]
      },
      {
       "html": [
        "<pre>PROGRESS: --------------------------------------------------------</pre>"
       ],
       "metadata": {},
       "output_type": "display_data",
       "text": [
        "PROGRESS: --------------------------------------------------------"
       ]
      },
      {
       "html": [
        "<pre>PROGRESS:   Iter        RMSE Elapsed time</pre>"
       ],
       "metadata": {},
       "output_type": "display_data",
       "text": [
        "PROGRESS:   Iter        RMSE Elapsed time"
       ]
      },
      {
       "html": [
        "<pre>PROGRESS:      0   3.605e-01        0.06s</pre>"
       ],
       "metadata": {},
       "output_type": "display_data",
       "text": [
        "PROGRESS:      0   3.605e-01        0.06s"
       ]
      },
      {
       "html": [
        "<pre>PROGRESS:      1   2.688e-01        0.08s</pre>"
       ],
       "metadata": {},
       "output_type": "display_data",
       "text": [
        "PROGRESS:      1   2.688e-01        0.08s"
       ]
      },
      {
       "output_type": "stream",
       "stream": "stdout",
       "text": [
        "\n",
        "Inferred types from first line of file as \n",
        "column_type_hints=[str,str,str,str,str,str,str,str,str,str,str,str,str,str,str,str,str,str,str,str,str,str,str]\n",
        "If parsing fails due to incorrect types, you can correct\n",
        "the inferred type list above and pass it to read_csv in\n",
        "the column_type_hints argument\n",
        "------------------------------------------------------\n"
       ]
      }
     ],
     "prompt_number": 42
    },
    {
     "cell_type": "code",
     "collapsed": false,
     "input": [
      "model.show(0)\n",
      "model.show(1)"
     ],
     "language": "python",
     "metadata": {},
     "outputs": [],
     "prompt_number": 43
    },
    {
     "cell_type": "code",
     "collapsed": false,
     "input": [
      "# Model Selector"
     ],
     "language": "python",
     "metadata": {},
     "outputs": [],
     "prompt_number": 44
    },
    {
     "cell_type": "code",
     "collapsed": false,
     "input": [
      "import graphlab as gl\n",
      "\n",
      "# Load the data\n",
      "data =  gl.SFrame('http://s3.amazonaws.com/GraphLab-Datasets/regression/yelp-data.csv')\n",
      "\n",
      "# Restaurants with rating >=3 are good\n",
      "data['is_good'] = data['stars'] >= 3\n",
      "\n",
      "# Make a train-test split\n",
      "train_data, test_data = data.random_split(0.8)\n",
      "\n",
      "# Automatically picks the right model based on your data.\n",
      "model = gl.classifier.create(train_data, target='is_good', \n",
      "                                    features = ['user_avg_stars',\n",
      "                                                'business_avg_stars', \n",
      "                                                'user_review_count', \n",
      "                                                'business_review_count'])\n",
      "\n",
      "# Save predictions (class/probabilities etc.) to an SFrame.\n",
      "predictions = model.classify(test_data)\n",
      "\n",
      "# Evaluate the model and save the results into a dictionary\n",
      "results = model.evaluate(test_data)"
     ],
     "language": "python",
     "metadata": {},
     "outputs": [
      {
       "html": [
        "<pre>PROGRESS: Finished parsing file http://s3.amazonaws.com/GraphLab-Datasets/regression/yelp-data.csv</pre>"
       ],
       "metadata": {},
       "output_type": "display_data",
       "text": [
        "PROGRESS: Finished parsing file http://s3.amazonaws.com/GraphLab-Datasets/regression/yelp-data.csv"
       ]
      },
      {
       "html": [
        "<pre>PROGRESS: Parsing completed. Parsed 100 lines in 0.37 secs.</pre>"
       ],
       "metadata": {},
       "output_type": "display_data",
       "text": [
        "PROGRESS: Parsing completed. Parsed 100 lines in 0.37 secs."
       ]
      },
      {
       "output_type": "stream",
       "stream": "stdout",
       "text": [
        "------------------------------------------------------"
       ]
      },
      {
       "html": [
        "<pre>PROGRESS: Read 47948 lines. Lines per second: 29909.53</pre>"
       ],
       "metadata": {},
       "output_type": "display_data",
       "text": [
        "PROGRESS: Read 47948 lines. Lines per second: 29909.53"
       ]
      },
      {
       "html": [
        "<pre>PROGRESS: Finished parsing file http://s3.amazonaws.com/GraphLab-Datasets/regression/yelp-data.csv</pre>"
       ],
       "metadata": {},
       "output_type": "display_data",
       "text": [
        "PROGRESS: Finished parsing file http://s3.amazonaws.com/GraphLab-Datasets/regression/yelp-data.csv"
       ]
      },
      {
       "html": [
        "<pre>PROGRESS: Parsing completed. Parsed 215879 lines in 5.62 secs.</pre>"
       ],
       "metadata": {},
       "output_type": "display_data",
       "text": [
        "PROGRESS: Parsing completed. Parsed 215879 lines in 5.62 secs."
       ]
      },
      {
       "html": [
        "<pre>PROGRESS: Boosted trees classifier:</pre>"
       ],
       "metadata": {},
       "output_type": "display_data",
       "text": [
        "PROGRESS: Boosted trees classifier:"
       ]
      },
      {
       "html": [
        "<pre>PROGRESS: --------------------------------------------------------</pre>"
       ],
       "metadata": {},
       "output_type": "display_data",
       "text": [
        "PROGRESS: --------------------------------------------------------"
       ]
      },
      {
       "html": [
        "<pre>PROGRESS: Number of examples          : 172391</pre>"
       ],
       "metadata": {},
       "output_type": "display_data",
       "text": [
        "PROGRESS: Number of examples          : 172391"
       ]
      },
      {
       "html": [
        "<pre>PROGRESS: Number of classes           : 2</pre>"
       ],
       "metadata": {},
       "output_type": "display_data",
       "text": [
        "PROGRESS: Number of classes           : 2"
       ]
      },
      {
       "html": [
        "<pre>PROGRESS: Number of feature columns   : 4</pre>"
       ],
       "metadata": {},
       "output_type": "display_data",
       "text": [
        "PROGRESS: Number of feature columns   : 4"
       ]
      },
      {
       "html": [
        "<pre>PROGRESS: Number of unpacked features : 4</pre>"
       ],
       "metadata": {},
       "output_type": "display_data",
       "text": [
        "PROGRESS: Number of unpacked features : 4"
       ]
      },
      {
       "html": [
        "<pre>PROGRESS: Starting Boosted Trees</pre>"
       ],
       "metadata": {},
       "output_type": "display_data",
       "text": [
        "PROGRESS: Starting Boosted Trees"
       ]
      },
      {
       "html": [
        "<pre>PROGRESS: --------------------------------------------------------</pre>"
       ],
       "metadata": {},
       "output_type": "display_data",
       "text": [
        "PROGRESS: --------------------------------------------------------"
       ]
      },
      {
       "html": [
        "<pre>PROGRESS:   Iter    Accuracy Elapsed time</pre>"
       ],
       "metadata": {},
       "output_type": "display_data",
       "text": [
        "PROGRESS:   Iter    Accuracy Elapsed time"
       ]
      },
      {
       "html": [
        "<pre>PROGRESS:      0   8.660e-01        0.49s</pre>"
       ],
       "metadata": {},
       "output_type": "display_data",
       "text": [
        "PROGRESS:      0   8.660e-01        0.49s"
       ]
      },
      {
       "html": [
        "<pre>PROGRESS:      1   8.661e-01        0.74s</pre>"
       ],
       "metadata": {},
       "output_type": "display_data",
       "text": [
        "PROGRESS:      1   8.661e-01        0.74s"
       ]
      },
      {
       "html": [
        "<pre>PROGRESS:      2   8.665e-01        0.98s</pre>"
       ],
       "metadata": {},
       "output_type": "display_data",
       "text": [
        "PROGRESS:      2   8.665e-01        0.98s"
       ]
      },
      {
       "html": [
        "<pre>PROGRESS:      3   8.664e-01        1.21s</pre>"
       ],
       "metadata": {},
       "output_type": "display_data",
       "text": [
        "PROGRESS:      3   8.664e-01        1.21s"
       ]
      },
      {
       "html": [
        "<pre>PROGRESS:      4   8.664e-01        1.46s</pre>"
       ],
       "metadata": {},
       "output_type": "display_data",
       "text": [
        "PROGRESS:      4   8.664e-01        1.46s"
       ]
      },
      {
       "html": [
        "<pre>PROGRESS:      5   8.667e-01        1.75s</pre>"
       ],
       "metadata": {},
       "output_type": "display_data",
       "text": [
        "PROGRESS:      5   8.667e-01        1.75s"
       ]
      },
      {
       "html": [
        "<pre>PROGRESS:      6   8.668e-01        2.05s</pre>"
       ],
       "metadata": {},
       "output_type": "display_data",
       "text": [
        "PROGRESS:      6   8.668e-01        2.05s"
       ]
      },
      {
       "html": [
        "<pre>PROGRESS:      7   8.669e-01        2.41s</pre>"
       ],
       "metadata": {},
       "output_type": "display_data",
       "text": [
        "PROGRESS:      7   8.669e-01        2.41s"
       ]
      },
      {
       "html": [
        "<pre>PROGRESS:      8   8.671e-01        2.66s</pre>"
       ],
       "metadata": {},
       "output_type": "display_data",
       "text": [
        "PROGRESS:      8   8.671e-01        2.66s"
       ]
      },
      {
       "html": [
        "<pre>PROGRESS:      9   8.670e-01        2.91s</pre>"
       ],
       "metadata": {},
       "output_type": "display_data",
       "text": [
        "PROGRESS:      9   8.670e-01        2.91s"
       ]
      },
      {
       "output_type": "stream",
       "stream": "stdout",
       "text": [
        "\n",
        "Inferred types from first line of file as \n",
        "column_type_hints=[str,str,str,int,str,str,str,dict,int,int,int,list,str,str,float,float,str,int,int,float,str,str,float,str,int,str,int,int,int,dict]\n",
        "If parsing fails due to incorrect types, you can correct\n",
        "the inferred type list above and pass it to read_csv in\n",
        "the column_type_hints argument\n",
        "------------------------------------------------------\n"
       ]
      }
     ],
     "prompt_number": 45
    },
    {
     "cell_type": "code",
     "collapsed": false,
     "input": [
      "# Logistic Regression"
     ],
     "language": "python",
     "metadata": {},
     "outputs": [],
     "prompt_number": 46
    },
    {
     "cell_type": "code",
     "collapsed": false,
     "input": [
      "import graphlab as gl\n",
      "\n",
      "# Load the data\n",
      "data =  gl.SFrame('http://s3.amazonaws.com/GraphLab-Datasets/regression/yelp-data.csv')\n",
      "\n",
      "# Restaurants with rating >=3 are good\n",
      "data['is_good'] = data['stars'] >= 3\n",
      "\n",
      "# Make a train-test split\n",
      "train_data, test_data = data.random_split(0.8)\n",
      "\n",
      "# Create a model.\n",
      "model = gl.logistic_classifier.create(train_data, target='is_good', \n",
      "                                    features = ['user_avg_stars',\n",
      "                                                'business_avg_stars', \n",
      "                                                'user_review_count', \n",
      "                                                'business_review_count'])\n",
      "\n",
      "# Save predictions (probability estimates) to an SArray \n",
      "predictions = model.classify(test_data)\n",
      "\n",
      "# Evaluate the model and save the results into a dictionary\n",
      "results = model.evaluate(test_data)"
     ],
     "language": "python",
     "metadata": {},
     "outputs": [
      {
       "html": [
        "<pre>PROGRESS: Finished parsing file http://s3.amazonaws.com/GraphLab-Datasets/regression/yelp-data.csv</pre>"
       ],
       "metadata": {},
       "output_type": "display_data",
       "text": [
        "PROGRESS: Finished parsing file http://s3.amazonaws.com/GraphLab-Datasets/regression/yelp-data.csv"
       ]
      },
      {
       "html": [
        "<pre>PROGRESS: Parsing completed. Parsed 100 lines in 0.35 secs.</pre>"
       ],
       "metadata": {},
       "output_type": "display_data",
       "text": [
        "PROGRESS: Parsing completed. Parsed 100 lines in 0.35 secs."
       ]
      },
      {
       "output_type": "stream",
       "stream": "stdout",
       "text": [
        "------------------------------------------------------"
       ]
      },
      {
       "html": [
        "<pre>PROGRESS: Read 47948 lines. Lines per second: 25690.33</pre>"
       ],
       "metadata": {},
       "output_type": "display_data",
       "text": [
        "PROGRESS: Read 47948 lines. Lines per second: 25690.33"
       ]
      },
      {
       "html": [
        "<pre>PROGRESS: Finished parsing file http://s3.amazonaws.com/GraphLab-Datasets/regression/yelp-data.csv</pre>"
       ],
       "metadata": {},
       "output_type": "display_data",
       "text": [
        "PROGRESS: Finished parsing file http://s3.amazonaws.com/GraphLab-Datasets/regression/yelp-data.csv"
       ]
      },
      {
       "html": [
        "<pre>PROGRESS: Parsing completed. Parsed 215879 lines in 5.84 secs.</pre>"
       ],
       "metadata": {},
       "output_type": "display_data",
       "text": [
        "PROGRESS: Parsing completed. Parsed 215879 lines in 5.84 secs."
       ]
      },
      {
       "html": [
        "<pre>PROGRESS: Logistic regression:</pre>"
       ],
       "metadata": {},
       "output_type": "display_data",
       "text": [
        "PROGRESS: Logistic regression:"
       ]
      },
      {
       "html": [
        "<pre>PROGRESS: --------------------------------------------------------</pre>"
       ],
       "metadata": {},
       "output_type": "display_data",
       "text": [
        "PROGRESS: --------------------------------------------------------"
       ]
      },
      {
       "html": [
        "<pre>PROGRESS: Number of examples          : 172575</pre>"
       ],
       "metadata": {},
       "output_type": "display_data",
       "text": [
        "PROGRESS: Number of examples          : 172575"
       ]
      },
      {
       "html": [
        "<pre>PROGRESS: Number of classes           : 2</pre>"
       ],
       "metadata": {},
       "output_type": "display_data",
       "text": [
        "PROGRESS: Number of classes           : 2"
       ]
      },
      {
       "html": [
        "<pre>PROGRESS: Number of feature columns   : 4</pre>"
       ],
       "metadata": {},
       "output_type": "display_data",
       "text": [
        "PROGRESS: Number of feature columns   : 4"
       ]
      },
      {
       "html": [
        "<pre>PROGRESS: Number of unpacked features : 4</pre>"
       ],
       "metadata": {},
       "output_type": "display_data",
       "text": [
        "PROGRESS: Number of unpacked features : 4"
       ]
      },
      {
       "html": [
        "<pre>PROGRESS: Number of coefficients    : 5</pre>"
       ],
       "metadata": {},
       "output_type": "display_data",
       "text": [
        "PROGRESS: Number of coefficients    : 5"
       ]
      },
      {
       "html": [
        "<pre>PROGRESS: Starting Newton Method \n",
        "--------------------------------------------------------</pre>"
       ],
       "metadata": {},
       "output_type": "display_data",
       "text": [
        "PROGRESS: Starting Newton Method \n",
        "--------------------------------------------------------"
       ]
      },
      {
       "html": [
        "<pre>PROGRESS:   Iter   Grad-Norm        Loss   Step size Elapsed time</pre>"
       ],
       "metadata": {},
       "output_type": "display_data",
       "text": [
        "PROGRESS:   Iter   Grad-Norm        Loss   Step size Elapsed time"
       ]
      },
      {
       "html": [
        "<pre>PROGRESS:      0   6.084e+04   1.196e+05   1.000e+00        0.16s</pre>"
       ],
       "metadata": {},
       "output_type": "display_data",
       "text": [
        "PROGRESS:      0   6.084e+04   1.196e+05   1.000e+00        0.16s"
       ]
      },
      {
       "html": [
        "<pre>PROGRESS:      1   1.169e+04   6.380e+04   1.000e+00        0.31s</pre>"
       ],
       "metadata": {},
       "output_type": "display_data",
       "text": [
        "PROGRESS:      1   1.169e+04   6.380e+04   1.000e+00        0.31s"
       ]
      },
      {
       "html": [
        "<pre>PROGRESS:      2   2.833e+03   5.768e+04   1.000e+00        0.44s</pre>"
       ],
       "metadata": {},
       "output_type": "display_data",
       "text": [
        "PROGRESS:      2   2.833e+03   5.768e+04   1.000e+00        0.44s"
       ]
      },
      {
       "html": [
        "<pre>PROGRESS:      3   4.037e+02   5.691e+04   1.000e+00        0.56s</pre>"
       ],
       "metadata": {},
       "output_type": "display_data",
       "text": [
        "PROGRESS:      3   4.037e+02   5.691e+04   1.000e+00        0.56s"
       ]
      },
      {
       "html": [
        "<pre>PROGRESS:      4   1.286e+01   5.689e+04   1.000e+00        0.69s</pre>"
       ],
       "metadata": {},
       "output_type": "display_data",
       "text": [
        "PROGRESS:      4   1.286e+01   5.689e+04   1.000e+00        0.69s"
       ]
      },
      {
       "html": [
        "<pre>PROGRESS:      5   1.439e-02   5.689e+04   1.000e+00        0.86s</pre>"
       ],
       "metadata": {},
       "output_type": "display_data",
       "text": [
        "PROGRESS:      5   1.439e-02   5.689e+04   1.000e+00        0.86s"
       ]
      },
      {
       "html": [
        "<pre>PROGRESS:      6   1.823e-08   5.689e+04   1.000e+00        1.01s</pre>"
       ],
       "metadata": {},
       "output_type": "display_data",
       "text": [
        "PROGRESS:      6   1.823e-08   5.689e+04   1.000e+00        1.01s"
       ]
      },
      {
       "output_type": "stream",
       "stream": "stdout",
       "text": [
        "\n",
        "Inferred types from first line of file as \n",
        "column_type_hints=[str,str,str,int,str,str,str,dict,int,int,int,list,str,str,float,float,str,int,int,float,str,str,float,str,int,str,int,int,int,dict]\n",
        "If parsing fails due to incorrect types, you can correct\n",
        "the inferred type list above and pass it to read_csv in\n",
        "the column_type_hints argument\n",
        "------------------------------------------------------\n"
       ]
      }
     ],
     "prompt_number": 47
    },
    {
     "cell_type": "code",
     "collapsed": false,
     "input": [
      "predictions = model.classify(test_data)\n",
      "print predictions"
     ],
     "language": "python",
     "metadata": {},
     "outputs": [
      {
       "output_type": "stream",
       "stream": "stdout",
       "text": [
        "+-------+----------------+\n",
        "| class |  probability   |\n",
        "+-------+----------------+\n",
        "|   1   | 0.93606744604  |\n",
        "|   1   | 0.601709622117 |\n",
        "|   1   | 0.950650061224 |\n",
        "|   1   | 0.987541966021 |\n",
        "|   1   | 0.734565924154 |\n",
        "|   1   | 0.898898832264 |\n",
        "|   1   | 0.960150981683 |\n",
        "|   1   | 0.780755097825 |\n",
        "|   1   | 0.591607758066 |\n",
        "|   1   | 0.754738311896 |\n",
        "|  ...  |      ...       |\n",
        "+-------+----------------+\n",
        "[43304 rows x 2 columns]\n",
        "Note: Only the head of the SFrame is printed.\n",
        "You can use print_rows(num_rows=m, num_columns=n) to print more rows and columns.\n"
       ]
      }
     ],
     "prompt_number": 48
    },
    {
     "cell_type": "code",
     "collapsed": false,
     "input": [
      "# Defining Logistic Repsponse Type"
     ],
     "language": "python",
     "metadata": {},
     "outputs": [],
     "prompt_number": 49
    },
    {
     "cell_type": "code",
     "collapsed": false,
     "input": [
      "pred_class = model.predict(test_data, output_type = \"class\")          # Class\n",
      "pred_prob_one = model.predict(test_data, output_type = 'probability') # Probability\n",
      "pred_margin = model.predict(test_data, output_type = \"margin\")        # Margins"
     ],
     "language": "python",
     "metadata": {},
     "outputs": [],
     "prompt_number": 50
    },
    {
     "cell_type": "code",
     "collapsed": false,
     "input": [
      "# Evaluating Logistic Regression Results"
     ],
     "language": "python",
     "metadata": {},
     "outputs": [],
     "prompt_number": 51
    },
    {
     "cell_type": "code",
     "collapsed": false,
     "input": [
      "result = model.evaluate(test_data)\n",
      "print \"Accuracy         : %s\" % result['accuracy']\n",
      "print \"Confusion Matrix : \\n%s\" % result['confusion_matrix']"
     ],
     "language": "python",
     "metadata": {},
     "outputs": [
      {
       "output_type": "stream",
       "stream": "stdout",
       "text": [
        "Accuracy         : 0.867194716423\n",
        "Confusion Matrix : \n",
        "+--------------+-----------------+-------+\n",
        "| target_label | predicted_label | count |\n",
        "+--------------+-----------------+-------+\n",
        "|      0       |        0        |  2347 |\n",
        "|      0       |        1        |  4864 |\n",
        "|      1       |        0        |  887  |\n",
        "|      1       |        1        | 35206 |\n",
        "+--------------+-----------------+-------+\n",
        "[4 rows x 3 columns]\n",
        "\n"
       ]
      }
     ],
     "prompt_number": 52
    },
    {
     "cell_type": "code",
     "collapsed": false,
     "input": [
      "# Working with Imbalanced Data"
     ],
     "language": "python",
     "metadata": {},
     "outputs": [],
     "prompt_number": 53
    },
    {
     "cell_type": "code",
     "collapsed": false,
     "input": [
      "# The data can be downloaded using\n",
      "data =  gl.SFrame.read_csv('http://s3.amazonaws.com/gl-testdata/xgboost/mushroom.csv')\n",
      "\n",
      "# Label 'c' is edible\n",
      "data['label'] = data['label'] == 'c'\n",
      "\n",
      "# Make a train-test split\n",
      "train_data, test_data = data.random_split(0.8)\n",
      "\n",
      "# Create a model which weights classes based on frequency in the training data.\n",
      "model = gl.logistic_classifier.create(train_data, target='label', \n",
      "                                      class_weights = 'auto')"
     ],
     "language": "python",
     "metadata": {},
     "outputs": [
      {
       "html": [
        "<pre>PROGRESS: Finished parsing file http://s3.amazonaws.com/gl-testdata/xgboost/mushroom.csv</pre>"
       ],
       "metadata": {},
       "output_type": "display_data",
       "text": [
        "PROGRESS: Finished parsing file http://s3.amazonaws.com/gl-testdata/xgboost/mushroom.csv"
       ]
      },
      {
       "html": [
        "<pre>PROGRESS: Parsing completed. Parsed 100 lines in 0.03 secs.</pre>"
       ],
       "metadata": {},
       "output_type": "display_data",
       "text": [
        "PROGRESS: Parsing completed. Parsed 100 lines in 0.03 secs."
       ]
      },
      {
       "output_type": "stream",
       "stream": "stdout",
       "text": [
        "------------------------------------------------------"
       ]
      },
      {
       "html": [
        "<pre>PROGRESS: Finished parsing file http://s3.amazonaws.com/gl-testdata/xgboost/mushroom.csv</pre>"
       ],
       "metadata": {},
       "output_type": "display_data",
       "text": [
        "PROGRESS: Finished parsing file http://s3.amazonaws.com/gl-testdata/xgboost/mushroom.csv"
       ]
      },
      {
       "html": [
        "<pre>PROGRESS: Parsing completed. Parsed 8124 lines in 0.06 secs.</pre>"
       ],
       "metadata": {},
       "output_type": "display_data",
       "text": [
        "PROGRESS: Parsing completed. Parsed 8124 lines in 0.06 secs."
       ]
      },
      {
       "html": [
        "<pre>PROGRESS: WARNING: Detected extremely low variance for feature(s) 'veil-type' because all entries are nearly the same.\n",
        "Proceeding with model training using all features. If the model does not provide results of adequate quality, exclude the above mentioned feature(s) from the input dataset.</pre>"
       ],
       "metadata": {},
       "output_type": "display_data",
       "text": [
        "PROGRESS: WARNING: Detected extremely low variance for feature(s) 'veil-type' because all entries are nearly the same.\n",
        "Proceeding with model training using all features. If the model does not provide results of adequate quality, exclude the above mentioned feature(s) from the input dataset."
       ]
      },
      {
       "html": [
        "<pre>PROGRESS: Logistic regression:</pre>"
       ],
       "metadata": {},
       "output_type": "display_data",
       "text": [
        "PROGRESS: Logistic regression:"
       ]
      },
      {
       "html": [
        "<pre>PROGRESS: --------------------------------------------------------</pre>"
       ],
       "metadata": {},
       "output_type": "display_data",
       "text": [
        "PROGRESS: --------------------------------------------------------"
       ]
      },
      {
       "html": [
        "<pre>PROGRESS: Number of examples          : 6486</pre>"
       ],
       "metadata": {},
       "output_type": "display_data",
       "text": [
        "PROGRESS: Number of examples          : 6486"
       ]
      },
      {
       "html": [
        "<pre>PROGRESS: Number of classes           : 2</pre>"
       ],
       "metadata": {},
       "output_type": "display_data",
       "text": [
        "PROGRESS: Number of classes           : 2"
       ]
      },
      {
       "html": [
        "<pre>PROGRESS: Number of feature columns   : 22</pre>"
       ],
       "metadata": {},
       "output_type": "display_data",
       "text": [
        "PROGRESS: Number of feature columns   : 22"
       ]
      },
      {
       "html": [
        "<pre>PROGRESS: Number of unpacked features : 22</pre>"
       ],
       "metadata": {},
       "output_type": "display_data",
       "text": [
        "PROGRESS: Number of unpacked features : 22"
       ]
      },
      {
       "html": [
        "<pre>PROGRESS: Number of coefficients    : 96</pre>"
       ],
       "metadata": {},
       "output_type": "display_data",
       "text": [
        "PROGRESS: Number of coefficients    : 96"
       ]
      },
      {
       "html": [
        "<pre>PROGRESS: Starting Newton Method \n",
        "--------------------------------------------------------</pre>"
       ],
       "metadata": {},
       "output_type": "display_data",
       "text": [
        "PROGRESS: Starting Newton Method \n",
        "--------------------------------------------------------"
       ]
      },
      {
       "html": [
        "<pre>PROGRESS:   Iter   Grad-Norm        Loss   Step size Elapsed time</pre>"
       ],
       "metadata": {},
       "output_type": "display_data",
       "text": [
        "PROGRESS:   Iter   Grad-Norm        Loss   Step size Elapsed time"
       ]
      },
      {
       "html": [
        "<pre>PROGRESS:      0   9.599e+02   2.244e+03   1.000e+00        0.03s</pre>"
       ],
       "metadata": {},
       "output_type": "display_data",
       "text": [
        "PROGRESS:      0   9.599e+02   2.244e+03   1.000e+00        0.03s"
       ]
      },
      {
       "html": [
        "<pre>PROGRESS:      1   2.288e+02   4.110e+02   1.000e+00        0.05s</pre>"
       ],
       "metadata": {},
       "output_type": "display_data",
       "text": [
        "PROGRESS:      1   2.288e+02   4.110e+02   1.000e+00        0.05s"
       ]
      },
      {
       "html": [
        "<pre>PROGRESS:      2   7.995e+01   1.380e+02   1.000e+00        0.06s</pre>"
       ],
       "metadata": {},
       "output_type": "display_data",
       "text": [
        "PROGRESS:      2   7.995e+01   1.380e+02   1.000e+00        0.06s"
       ]
      },
      {
       "html": [
        "<pre>PROGRESS:      3   2.888e+01   4.950e+01   1.000e+00        0.08s</pre>"
       ],
       "metadata": {},
       "output_type": "display_data",
       "text": [
        "PROGRESS:      3   2.888e+01   4.950e+01   1.000e+00        0.08s"
       ]
      },
      {
       "html": [
        "<pre>PROGRESS:      4   1.053e+01   1.823e+01   1.000e+00        0.09s</pre>"
       ],
       "metadata": {},
       "output_type": "display_data",
       "text": [
        "PROGRESS:      4   1.053e+01   1.823e+01   1.000e+00        0.09s"
       ]
      },
      {
       "html": [
        "<pre>PROGRESS:      5   3.856e+00   6.855e+00   1.000e+00        0.11s</pre>"
       ],
       "metadata": {},
       "output_type": "display_data",
       "text": [
        "PROGRESS:      5   3.856e+00   6.855e+00   1.000e+00        0.11s"
       ]
      },
      {
       "html": [
        "<pre>PROGRESS:      6   1.408e+00   2.657e+00   1.000e+00        0.15s</pre>"
       ],
       "metadata": {},
       "output_type": "display_data",
       "text": [
        "PROGRESS:      6   1.408e+00   2.657e+00   1.000e+00        0.15s"
       ]
      },
      {
       "html": [
        "<pre>PROGRESS:      7   5.051e-01   1.107e+00   1.000e+00        0.17s</pre>"
       ],
       "metadata": {},
       "output_type": "display_data",
       "text": [
        "PROGRESS:      7   5.051e-01   1.107e+00   1.000e+00        0.17s"
       ]
      },
      {
       "html": [
        "<pre>PROGRESS:      8   1.781e-01   5.429e-01   1.000e+00        0.19s</pre>"
       ],
       "metadata": {},
       "output_type": "display_data",
       "text": [
        "PROGRESS:      8   1.781e-01   5.429e-01   1.000e+00        0.19s"
       ]
      },
      {
       "html": [
        "<pre>PROGRESS:      9   6.771e-02   3.377e-01   1.000e+00        0.21s</pre>"
       ],
       "metadata": {},
       "output_type": "display_data",
       "text": [
        "PROGRESS:      9   6.771e-02   3.377e-01   1.000e+00        0.21s"
       ]
      },
      {
       "html": [
        "<pre>PROGRESS:     10   2.306e-02   2.581e-01   1.000e+00        0.23s</pre>"
       ],
       "metadata": {},
       "output_type": "display_data",
       "text": [
        "PROGRESS:     10   2.306e-02   2.581e-01   1.000e+00        0.23s"
       ]
      },
      {
       "output_type": "stream",
       "stream": "stdout",
       "text": [
        "\n",
        "Inferred types from first line of file as \n",
        "column_type_hints=[str,str,str,str,str,str,str,str,str,str,str,str,str,str,str,str,str,str,str,str,str,str,str]\n",
        "If parsing fails due to incorrect types, you can correct\n",
        "the inferred type list above and pass it to read_csv in\n",
        "the column_type_hints argument\n",
        "------------------------------------------------------\n"
       ]
      }
     ],
     "prompt_number": 54
    },
    {
     "cell_type": "code",
     "collapsed": false,
     "input": [
      "# Multiclass Classification"
     ],
     "language": "python",
     "metadata": {},
     "outputs": [],
     "prompt_number": 55
    },
    {
     "cell_type": "code",
     "collapsed": false,
     "input": [
      "import graphlab as gl\n",
      "\n",
      "# Load the data\n",
      "# The data can be downloaded using\n",
      "data = gl.SFrame('http://s3.amazonaws.com/GraphLab-Datasets/mnist/sframe/train6k-array')\n",
      "\n",
      "# Make a train-test split\n",
      "train_data, test_data = data.random_split(0.8)\n",
      "\n",
      "# Create a model.\n",
      "model = gl.logistic_classifier.create(train_data, target='label')\n",
      "\n",
      "# Save predictions to an SFrame (class and corresponding class-probabilities)\n",
      "predictions = model.classify(test_data)\n",
      "\n",
      "# Top 5 predictions with probabilities, rank, and margin\n",
      "top = model.predict_topk(test_data, output_type='probability', k = 5)\n",
      "top = model.predict_topk(test_data, output_type='rank', k = 5)\n",
      "top = model.predict_topk(test_data, output_type='margin', k = 5)\n",
      "\n",
      "# Evaluate the model and save the results into a dictionary\n",
      "results = model.evaluate(test_data)"
     ],
     "language": "python",
     "metadata": {},
     "outputs": [
      {
       "html": [
        "<pre>PROGRESS: Downloading http://s3.amazonaws.com/GraphLab-Datasets/mnist/sframe/train6k-array/dir_archive.ini to /var/tmp/graphlab-Sean/5339/000010.ini</pre>"
       ],
       "metadata": {},
       "output_type": "display_data",
       "text": [
        "PROGRESS: Downloading http://s3.amazonaws.com/GraphLab-Datasets/mnist/sframe/train6k-array/dir_archive.ini to /var/tmp/graphlab-Sean/5339/000010.ini"
       ]
      },
      {
       "html": [
        "<pre>PROGRESS: Downloading http://s3.amazonaws.com/GraphLab-Datasets/mnist/sframe/train6k-array/objects.bin to /var/tmp/graphlab-Sean/5339/000011.bin</pre>"
       ],
       "metadata": {},
       "output_type": "display_data",
       "text": [
        "PROGRESS: Downloading http://s3.amazonaws.com/GraphLab-Datasets/mnist/sframe/train6k-array/objects.bin to /var/tmp/graphlab-Sean/5339/000011.bin"
       ]
      },
      {
       "html": [
        "<pre>PROGRESS: Downloading http://s3.amazonaws.com/GraphLab-Datasets/mnist/sframe/train6k-array/m_95c19a8836676e4b.frame_idx to /var/tmp/graphlab-Sean/5339/000012.frame_idx</pre>"
       ],
       "metadata": {},
       "output_type": "display_data",
       "text": [
        "PROGRESS: Downloading http://s3.amazonaws.com/GraphLab-Datasets/mnist/sframe/train6k-array/m_95c19a8836676e4b.frame_idx to /var/tmp/graphlab-Sean/5339/000012.frame_idx"
       ]
      },
      {
       "html": [
        "<pre>PROGRESS: Downloading http://s3.amazonaws.com/GraphLab-Datasets/mnist/sframe/train6k-array/m_95c19a8836676e4b.sidx to /var/tmp/graphlab-Sean/5339/000013.sidx</pre>"
       ],
       "metadata": {},
       "output_type": "display_data",
       "text": [
        "PROGRESS: Downloading http://s3.amazonaws.com/GraphLab-Datasets/mnist/sframe/train6k-array/m_95c19a8836676e4b.sidx to /var/tmp/graphlab-Sean/5339/000013.sidx"
       ]
      },
      {
       "html": [
        "<pre>PROGRESS: Downloading http://s3.amazonaws.com/GraphLab-Datasets/mnist/sframe/train6k-array/m_95c19a8836676e4b.0000 to /var/tmp/graphlab-Sean/5339/000014.0000</pre>"
       ],
       "metadata": {},
       "output_type": "display_data",
       "text": [
        "PROGRESS: Downloading http://s3.amazonaws.com/GraphLab-Datasets/mnist/sframe/train6k-array/m_95c19a8836676e4b.0000 to /var/tmp/graphlab-Sean/5339/000014.0000"
       ]
      },
      {
       "html": [
        "<pre>PROGRESS: Downloading http://s3.amazonaws.com/GraphLab-Datasets/mnist/sframe/train6k-array/m_95c19a8836676e4b.0001 to /var/tmp/graphlab-Sean/5339/000015.0001</pre>"
       ],
       "metadata": {},
       "output_type": "display_data",
       "text": [
        "PROGRESS: Downloading http://s3.amazonaws.com/GraphLab-Datasets/mnist/sframe/train6k-array/m_95c19a8836676e4b.0001 to /var/tmp/graphlab-Sean/5339/000015.0001"
       ]
      },
      {
       "html": [
        "<pre>PROGRESS: Downloading http://s3.amazonaws.com/GraphLab-Datasets/mnist/sframe/train6k-array/m_95c19a8836676e4b.0002 to /var/tmp/graphlab-Sean/5339/000016.0002</pre>"
       ],
       "metadata": {},
       "output_type": "display_data",
       "text": [
        "PROGRESS: Downloading http://s3.amazonaws.com/GraphLab-Datasets/mnist/sframe/train6k-array/m_95c19a8836676e4b.0002 to /var/tmp/graphlab-Sean/5339/000016.0002"
       ]
      },
      {
       "html": [
        "<pre>PROGRESS: Downloading http://s3.amazonaws.com/GraphLab-Datasets/mnist/sframe/train6k-array/m_95c19a8836676e4b.0003 to /var/tmp/graphlab-Sean/5339/000017.0003</pre>"
       ],
       "metadata": {},
       "output_type": "display_data",
       "text": [
        "PROGRESS: Downloading http://s3.amazonaws.com/GraphLab-Datasets/mnist/sframe/train6k-array/m_95c19a8836676e4b.0003 to /var/tmp/graphlab-Sean/5339/000017.0003"
       ]
      },
      {
       "html": [
        "<pre>PROGRESS: WARNING: Detected extremely low variance for feature(s) 'image-array[780]', 'image-array[782]' because all entries are nearly the same.\n",
        "Proceeding with model training using all features. If the model does not provide results of adequate quality, exclude the above mentioned feature(s) from the input dataset.</pre>"
       ],
       "metadata": {},
       "output_type": "display_data",
       "text": [
        "PROGRESS: WARNING: Detected extremely low variance for feature(s) 'image-array[780]', 'image-array[782]' because all entries are nearly the same.\n",
        "Proceeding with model training using all features. If the model does not provide results of adequate quality, exclude the above mentioned feature(s) from the input dataset."
       ]
      },
      {
       "html": [
        "<pre>PROGRESS: Logistic regression:</pre>"
       ],
       "metadata": {},
       "output_type": "display_data",
       "text": [
        "PROGRESS: Logistic regression:"
       ]
      },
      {
       "html": [
        "<pre>PROGRESS: --------------------------------------------------------</pre>"
       ],
       "metadata": {},
       "output_type": "display_data",
       "text": [
        "PROGRESS: --------------------------------------------------------"
       ]
      },
      {
       "html": [
        "<pre>PROGRESS: Number of examples          : 4799</pre>"
       ],
       "metadata": {},
       "output_type": "display_data",
       "text": [
        "PROGRESS: Number of examples          : 4799"
       ]
      },
      {
       "html": [
        "<pre>PROGRESS: Number of classes           : 10</pre>"
       ],
       "metadata": {},
       "output_type": "display_data",
       "text": [
        "PROGRESS: Number of classes           : 10"
       ]
      },
      {
       "html": [
        "<pre>PROGRESS: Number of feature columns   : 1</pre>"
       ],
       "metadata": {},
       "output_type": "display_data",
       "text": [
        "PROGRESS: Number of feature columns   : 1"
       ]
      },
      {
       "html": [
        "<pre>PROGRESS: Number of unpacked features : 784</pre>"
       ],
       "metadata": {},
       "output_type": "display_data",
       "text": [
        "PROGRESS: Number of unpacked features : 784"
       ]
      },
      {
       "html": [
        "<pre>PROGRESS: Number of coefficients    : 7065</pre>"
       ],
       "metadata": {},
       "output_type": "display_data",
       "text": [
        "PROGRESS: Number of coefficients    : 7065"
       ]
      },
      {
       "html": [
        "<pre>PROGRESS: Starting L-BFGS \n",
        "--------------------------------------------------------</pre>"
       ],
       "metadata": {},
       "output_type": "display_data",
       "text": [
        "PROGRESS: Starting L-BFGS \n",
        "--------------------------------------------------------"
       ]
      },
      {
       "html": [
        "<pre>PROGRESS:   Iter   Grad-Norm        Loss   Step size Elapsed time</pre>"
       ],
       "metadata": {},
       "output_type": "display_data",
       "text": [
        "PROGRESS:   Iter   Grad-Norm        Loss   Step size Elapsed time"
       ]
      },
      {
       "html": [
        "<pre>PROGRESS:      0   6.340e+02   1.105e+04   1.000e-06        0.55s</pre>"
       ],
       "metadata": {},
       "output_type": "display_data",
       "text": [
        "PROGRESS:      0   6.340e+02   1.105e+04   1.000e-06        0.55s"
       ]
      },
      {
       "html": [
        "<pre>PROGRESS:      1   6.155e+02   8.974e+03   1.000e+00        2.70s</pre>"
       ],
       "metadata": {},
       "output_type": "display_data",
       "text": [
        "PROGRESS:      1   6.155e+02   8.974e+03   1.000e+00        2.70s"
       ]
      },
      {
       "html": [
        "<pre>PROGRESS:      2   2.930e+02   4.708e+03   1.000e+00        4.02s</pre>"
       ],
       "metadata": {},
       "output_type": "display_data",
       "text": [
        "PROGRESS:      2   2.930e+02   4.708e+03   1.000e+00        4.02s"
       ]
      },
      {
       "html": [
        "<pre>PROGRESS:      3   5.031e+02   4.332e+03   1.000e+00        4.90s</pre>"
       ],
       "metadata": {},
       "output_type": "display_data",
       "text": [
        "PROGRESS:      3   5.031e+02   4.332e+03   1.000e+00        4.90s"
       ]
      },
      {
       "html": [
        "<pre>PROGRESS:      4   2.495e+02   3.260e+03   1.000e+00        5.72s</pre>"
       ],
       "metadata": {},
       "output_type": "display_data",
       "text": [
        "PROGRESS:      4   2.495e+02   3.260e+03   1.000e+00        5.72s"
       ]
      },
      {
       "html": [
        "<pre>PROGRESS:      5   1.318e+02   2.792e+03   1.000e+00        6.55s</pre>"
       ],
       "metadata": {},
       "output_type": "display_data",
       "text": [
        "PROGRESS:      5   1.318e+02   2.792e+03   1.000e+00        6.55s"
       ]
      },
      {
       "html": [
        "<pre>PROGRESS:      6   9.415e+01   2.588e+03   1.000e+00        7.32s</pre>"
       ],
       "metadata": {},
       "output_type": "display_data",
       "text": [
        "PROGRESS:      6   9.415e+01   2.588e+03   1.000e+00        7.32s"
       ]
      },
      {
       "html": [
        "<pre>PROGRESS:      7   9.662e+01   2.397e+03   1.000e+00        8.18s</pre>"
       ],
       "metadata": {},
       "output_type": "display_data",
       "text": [
        "PROGRESS:      7   9.662e+01   2.397e+03   1.000e+00        8.18s"
       ]
      },
      {
       "html": [
        "<pre>PROGRESS:      8   1.210e+02   1.903e+03   1.000e+00        9.02s</pre>"
       ],
       "metadata": {},
       "output_type": "display_data",
       "text": [
        "PROGRESS:      8   1.210e+02   1.903e+03   1.000e+00        9.02s"
       ]
      },
      {
       "html": [
        "<pre>PROGRESS:      9   2.084e+02   1.862e+03   1.000e+00        9.90s</pre>"
       ],
       "metadata": {},
       "output_type": "display_data",
       "text": [
        "PROGRESS:      9   2.084e+02   1.862e+03   1.000e+00        9.90s"
       ]
      },
      {
       "html": [
        "<pre>PROGRESS:     10   9.900e+01   1.643e+03   1.000e+00       10.69s</pre>"
       ],
       "metadata": {},
       "output_type": "display_data",
       "text": [
        "PROGRESS:     10   9.900e+01   1.643e+03   1.000e+00       10.69s"
       ]
      }
     ],
     "prompt_number": 56
    },
    {
     "cell_type": "code",
     "collapsed": false,
     "input": [],
     "language": "python",
     "metadata": {},
     "outputs": []
    }
   ],
   "metadata": {}
  }
 ]
}