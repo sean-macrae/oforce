{
 "metadata": {
  "name": "",
  "signature": "sha256:b2d6436e8fcfc7d247c662b07095627915d021f5f5705670a92440ea8d5d2c4c"
 },
 "nbformat": 3,
 "nbformat_minor": 0,
 "worksheets": [
  {
   "cells": [
    {
     "cell_type": "code",
     "collapsed": false,
     "input": [
      "import array\n",
      "from random import randint\n",
      "import numpy as np\n",
      "import pandas as pd\n",
      "from pandas import DataFrame, Series\n",
      "from pandas.io import gbq\n",
      "from IPython.core.pylabtools import figsize\n",
      "import matplotlib.pyplot as plt\n",
      "import scipy.stats\n",
      "import statsmodels.stats.power as smp"
     ],
     "language": "python",
     "metadata": {},
     "outputs": [],
     "prompt_number": 1
    },
    {
     "cell_type": "code",
     "collapsed": false,
     "input": [
      "# Statistical Significance Tests\n",
      "\n",
      "### A/B Continuous Independent Observations\n",
      "# Student's t-Test; output:(t-statistic, two-tailed p-value)\n",
      "def ab_cont_ind(a, b):\n",
      "    return scipy.stats.ttest_ind(a, b, axis=0, equal_var=True)\n",
      "\n",
      "### A/B Continuous Paired Observations\n",
      "# Student's t-Test; output:(t-statistic, two-tailed p-value)\n",
      "def ab_cont_rel(a, b):\n",
      "    return scipy.stats.ttest_rel(a, b, axis=0)\n",
      "\n",
      "### A/B Dichotomous Independent Observations\n",
      "# Method 2: Fisher Exact Test on a 2x2 Contingency Table; output:(odds ratio, p-value)\n",
      "def ab_dich(cont_table):\n",
      "    return scipy.stats.fisher_exact(cont_table, alternative='two-sided')\n",
      "\n",
      "### Multivariate Dichotomous Independent Observations\n",
      "# Method 1: Chi^2 Contingency Table; output:(chi2, p-value, dof, expected)\n",
      "def mtv_dich(cont_table_mvt):\n",
      "    return scipy.stats.chi2_contingency(cont_table_mvt)\n",
      "\n",
      "### Multi-variate Continuous Test\n",
      "# The one-way ANOVA Test; output:(F-value, p-value)\n",
      "# The null hypothesis is that two or more groups have the same population mean.\n",
      "# The test is applied to samples from two or more groups, possibly with differing sizes\n",
      "\n",
      "# The ANOVA test has important assumptions that must be satisfied in order for the associated p-value to be valid.\n",
      "# 1) The samples are independent.\n",
      "# 2) Each sample is from a normally distributed population.\n",
      "# 3) The population standard deviations of the groups are all equal. This property is known as homoscedasticity.\n",
      "\n",
      "print scipy.stats.f_oneway(a,b,c,d)"
     ],
     "language": "python",
     "metadata": {},
     "outputs": [],
     "prompt_number": 2
    },
    {
     "cell_type": "code",
     "collapsed": false,
     "input": [
      "# Statistical Power Functions\n",
      "\n",
      "### A/B Continuous Balanced Sample Size Estimate\n",
      "# Student's t-Test; output:(n = obs)\n",
      "def ab_cont_ind_power(effect, type_1, type_2):\n",
      "    return smp.TTestIndPower().solve_power(effect, alpha=type_1, power=1-type_2, ratio=1, alternative='larger')\n",
      "\n",
      "### A/B Continuous Unbalanced Sample Size Estimate\n",
      "# Student's t-Test; output:(n = obs)\n",
      "def ab_cont_ind_power(effect, type_1, type_2):\n",
      "    return smp.TTestIndPower().solve_power(effect, alpha=type_1, power=1-type_2, ratio=2, alternative='larger')\n",
      "\n",
      "### A/B Dichotomous Sample Size Estimate\n",
      "# Chi^2 Contingency Table Test; output:(n = obs)\n",
      "def ab_dich_power(effect, type_1, type_2):\n",
      "    smp.GofChisquarePower().solve_power(effect, alpha=type_1, power=1-type_2, n_bins=(5-1)*(6-1) + 1)"
     ],
     "language": "python",
     "metadata": {},
     "outputs": []
    }
   ],
   "metadata": {}
  }
 ]
}