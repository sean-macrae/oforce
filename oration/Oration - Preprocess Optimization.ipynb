{
 "metadata": {
  "name": "",
  "signature": "sha256:029d334280553e299d4e27fac9e61a64391ea32f58040e0584989d4ac364121c"
 },
 "nbformat": 3,
 "nbformat_minor": 0,
 "worksheets": [
  {
   "cells": [
    {
     "cell_type": "code",
     "collapsed": false,
     "input": [
      "import numpy as np\n",
      "import pandas as pd\n",
      "from pandas import Series, DataFrame\n",
      "import os"
     ],
     "language": "python",
     "metadata": {},
     "outputs": [],
     "prompt_number": 1
    },
    {
     "cell_type": "code",
     "collapsed": false,
     "input": [
      "# get list of files in log level directory\n",
      "optpath = r'/Users/smacrae/Documents/data_warehouse/opt'\n",
      "optlist = os.listdir(optpath)"
     ],
     "language": "python",
     "metadata": {},
     "outputs": [],
     "prompt_number": 2
    },
    {
     "cell_type": "code",
     "collapsed": false,
     "input": [
      "# create list of strings for the directory path of each file in directory\n",
      "optdata = []\n",
      "for dir_entry in os.listdir(optpath):\n",
      "    dir_entry_path = os.path.join(optpath, dir_entry)\n",
      "    if os.path.isfile(dir_entry_path):\n",
      "        optdata.append(dir_entry_path)\n",
      "        \n",
      "optdata = optdata[1:]\n",
      "optdata"
     ],
     "language": "python",
     "metadata": {},
     "outputs": [
      {
       "metadata": {},
       "output_type": "pyout",
       "prompt_number": 3,
       "text": [
        "['/Users/smacrae/Documents/data_warehouse/opt/opt-reports-20150122-OptSummaryReport.csv']"
       ]
      }
     ],
     "prompt_number": 3
    },
    {
     "cell_type": "code",
     "collapsed": false,
     "input": [
      "# write each log file into a list of pandas dataframes\n",
      "pieces = []\n",
      "\n",
      "for i in range(0, len(optdata)):\n",
      "    opt = pd.read_csv(optdata[i], sep=',', index_col=None, parse_dates=True, infer_datetime_format=True)    \n",
      "    pieces.append(opt)\n",
      "    \n",
      "# combine list of dataframes into a single dataframe\n",
      "opt = pd.concat(pieces, ignore_index=True)"
     ],
     "language": "python",
     "metadata": {},
     "outputs": [],
     "prompt_number": 4
    },
    {
     "cell_type": "code",
     "collapsed": false,
     "input": [
      "# drop records where oration_id is null\n",
      "opt = opt.loc[-opt['oration_id'].isnull(),]\n",
      "\n",
      "# recast oration_id as string\n",
      "opt['oration_id'] = opt['oration_id'].astype(int).astype(str)\n",
      "opt['primary_oration_id'] = opt['primary_oration_id'].astype(int).astype(str)"
     ],
     "language": "python",
     "metadata": {},
     "outputs": [],
     "prompt_number": 5
    },
    {
     "cell_type": "code",
     "collapsed": false,
     "input": [
      "# output results\n",
      "opt.to_csv('/Users/smacrae/Documents/data_warehouse/opt/combined_opt.csv', index=False)"
     ],
     "language": "python",
     "metadata": {},
     "outputs": [],
     "prompt_number": 7
    },
    {
     "cell_type": "code",
     "collapsed": false,
     "input": [
      "for i in range(0, len(opt.dtypes)):\n",
      "    dtype = 'string'\n",
      "    if opt.dtypes[i] == 'object':\n",
      "        dtype = 'string'\n",
      "    else:\n",
      "        dtype = 'float'\n",
      "    print str(opt.columns[i]) + ':' + str(dtype) + ','"
     ],
     "language": "python",
     "metadata": {},
     "outputs": [
      {
       "output_type": "stream",
       "stream": "stdout",
       "text": [
        "org_name:string,\n",
        "primary_oration_id:string,\n",
        "oration_id:string,\n",
        "plan_number:string,\n",
        "custom_name:string,\n",
        "strength:string,\n",
        "member_cost_per_fill:float,\n",
        "member_savings_per_fill:float,\n",
        "org_cost_per_fill:float,\n",
        "org_savings_per_fill:float,\n",
        "rebate:float,\n",
        "opt_days_supply:float,\n",
        "opt_fills_per_year:float,\n",
        "opt_quantity:float,\n",
        "opt_chain:string,\n",
        "lf_chain:string,\n",
        "lf_member_cost:float,\n",
        "lf_org_cost:float,\n",
        "lf_days_supply:float,\n",
        "lf_fills_per_year:float,\n",
        "order_status:string,\n",
        "order_date:string,\n",
        "pickup_date:string,\n",
        "member_annual_cost:float,\n",
        "member_annual_savings:float,\n",
        "org_annual_cost:float,\n",
        "org_annual_savings:float,\n"
       ]
      }
     ],
     "prompt_number": 9
    },
    {
     "cell_type": "code",
     "collapsed": false,
     "input": [],
     "language": "python",
     "metadata": {},
     "outputs": []
    }
   ],
   "metadata": {}
  }
 ]
}