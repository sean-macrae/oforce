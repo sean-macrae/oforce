{
 "metadata": {
  "name": "",
  "signature": "sha256:d38b55b0828f3f635ffb5c9475049f78bd60f1062d5d1f5601779d72c49402b4"
 },
 "nbformat": 3,
 "nbformat_minor": 0,
 "worksheets": [
  {
   "cells": [
    {
     "cell_type": "code",
     "collapsed": false,
     "input": [
      "#############################################################################################################################\n",
      "### Load Libraries\n",
      "#############################################################################################################################"
     ],
     "language": "python",
     "metadata": {},
     "outputs": [],
     "prompt_number": 1
    },
    {
     "cell_type": "code",
     "collapsed": false,
     "input": [
      "%matplotlib inline\n",
      "import os\n",
      "import numpy as np\n",
      "import scipy.stats as stats\n",
      "import pandas as pd\n",
      "import seaborn as sns\n",
      "from IPython.core.pylabtools import figsize\n",
      "from matplotlib import pyplot as plt"
     ],
     "language": "python",
     "metadata": {},
     "outputs": [],
     "prompt_number": 2
    },
    {
     "cell_type": "code",
     "collapsed": false,
     "input": [
      "#############################################################################################################################\n",
      "### ETL\n",
      "#############################################################################################################################"
     ],
     "language": "python",
     "metadata": {},
     "outputs": [],
     "prompt_number": 3
    },
    {
     "cell_type": "code",
     "collapsed": false,
     "input": [
      "# get list of files and folders in Adgooroo directory\n",
      "path = r'/Users/smacrae/Documents/adhoc/pricing_model/data'\n",
      "folderlist = os.listdir(path)"
     ],
     "language": "python",
     "metadata": {},
     "outputs": [],
     "prompt_number": 4
    },
    {
     "cell_type": "code",
     "collapsed": false,
     "input": [
      "folderlist"
     ],
     "language": "python",
     "metadata": {},
     "outputs": [
      {
       "metadata": {},
       "output_type": "pyout",
       "prompt_number": 5,
       "text": [
        "['.DS_Store',\n",
        " '0027_2014-BrandDrugsExport.csv',\n",
        " 'results',\n",
        " 'YMKT-PTSN-BrandDrugs.csv']"
       ]
      }
     ],
     "prompt_number": 5
    },
    {
     "cell_type": "code",
     "collapsed": false,
     "input": [
      "# create list of strings for the directory path of each files in Adgooroo directory\n",
      "data = []\n",
      "for dir_entry in os.listdir(path):\n",
      "    dir_entry_path = os.path.join(path, dir_entry)\n",
      "    if os.path.isfile(dir_entry_path):\n",
      "        data.append(dir_entry_path)\n",
      "        \n",
      "data = data[1:]"
     ],
     "language": "python",
     "metadata": {},
     "outputs": [],
     "prompt_number": 6
    },
    {
     "cell_type": "code",
     "collapsed": false,
     "input": [
      "data"
     ],
     "language": "python",
     "metadata": {},
     "outputs": [
      {
       "metadata": {},
       "output_type": "pyout",
       "prompt_number": 7,
       "text": [
        "['/Users/smacrae/Documents/adhoc/pricing_model/data/0027_2014-BrandDrugsExport.csv',\n",
        " '/Users/smacrae/Documents/adhoc/pricing_model/data/YMKT-PTSN-BrandDrugs.csv']"
       ]
      }
     ],
     "prompt_number": 7
    },
    {
     "cell_type": "code",
     "collapsed": false,
     "input": [
      "# read each file in directory\n",
      "pieces = []\n",
      "\n",
      "pieces.append(pd.read_csv(data[0], sep=';'))\n",
      "# pieces.append(pd.read_csv(data[1], sep=','))\n",
      "\n",
      "print pieces[0].describe()\n",
      "# print pieces[1].describe()\n",
      "\n",
      "df = pd.concat(pieces, ignore_index=True)"
     ],
     "language": "python",
     "metadata": {},
     "outputs": [
      {
       "output_type": "stream",
       "stream": "stdout",
       "text": [
        "                rxcui       quantity     gross_cost            zip\n",
        "count   124455.000000  124460.000000  124460.000000  124460.000000\n",
        "mean    795695.550456      85.984451     542.372194   44709.145605\n",
        "std     316592.864680    1454.647809    2175.739290   23990.761469\n",
        "min      92752.000000       0.050000       0.840000     820.000000\n",
        "25%     628958.000000      12.000000      73.190000   28079.000000\n",
        "50%     847241.000000      30.000000     201.620000   37601.000000\n",
        "75%     977840.000000      84.000000     432.370000   66219.000000\n",
        "max    1491834.000000  154910.000000  166559.230000   99709.000000\n"
       ]
      }
     ],
     "prompt_number": 8
    },
    {
     "cell_type": "code",
     "collapsed": false,
     "input": [
      "# Pre-processing drug strength into meta-variables\n",
      "df_strength = pd.DataFrame(df['drug_strength'].fillna('NaN').str.split(' ').tolist())\n",
      "\n",
      "df['strength'] = df_strength[0].astype(float)\n",
      "df['units'] = df_strength[1]\n",
      "\n",
      "# calculate rates\n",
      "df['cost_per_quantity'] = df['gross_cost'] / df['quantity']\n",
      "df['cost_per_unit'] = df['cost_per_quantity'] / df['strength']\n",
      "df.head()"
     ],
     "language": "python",
     "metadata": {},
     "outputs": [
      {
       "html": [
        "<div style=\"max-height:1000px;max-width:1500px;overflow:auto;\">\n",
        "<table border=\"1\" class=\"dataframe\">\n",
        "  <thead>\n",
        "    <tr style=\"text-align: right;\">\n",
        "      <th></th>\n",
        "      <th>rxcui</th>\n",
        "      <th>drug_name</th>\n",
        "      <th>drug_strength</th>\n",
        "      <th>quantity</th>\n",
        "      <th>service_date</th>\n",
        "      <th>gross_cost</th>\n",
        "      <th>pharmacy_name</th>\n",
        "      <th>pharmacy_state</th>\n",
        "      <th>zip</th>\n",
        "      <th>chain</th>\n",
        "      <th>strength</th>\n",
        "      <th>units</th>\n",
        "      <th>cost_per_quantity</th>\n",
        "      <th>cost_per_unit</th>\n",
        "    </tr>\n",
        "  </thead>\n",
        "  <tbody>\n",
        "    <tr>\n",
        "      <th>0</th>\n",
        "      <td> 1232088</td>\n",
        "      <td>         Xarelto</td>\n",
        "      <td>          20 MG</td>\n",
        "      <td> 30.0</td>\n",
        "      <td> 2014-01-01</td>\n",
        "      <td> 268.51</td>\n",
        "      <td>        CVS PHARMACY 01571</td>\n",
        "      <td> SC</td>\n",
        "      <td> 29708</td>\n",
        "      <td>     CVS</td>\n",
        "      <td>  20.00</td>\n",
        "      <td>        MG</td>\n",
        "      <td>  8.950333</td>\n",
        "      <td>  0.447517</td>\n",
        "    </tr>\n",
        "    <tr>\n",
        "      <th>1</th>\n",
        "      <td>  745752</td>\n",
        "      <td>      PROAIR HFA</td>\n",
        "      <td> 0.09 MG/ACTUAT</td>\n",
        "      <td>  8.5</td>\n",
        "      <td> 2014-01-01</td>\n",
        "      <td>  45.87</td>\n",
        "      <td>        CVS PHARMACY 04285</td>\n",
        "      <td> VA</td>\n",
        "      <td> 24502</td>\n",
        "      <td>     CVS</td>\n",
        "      <td>   0.09</td>\n",
        "      <td> MG/ACTUAT</td>\n",
        "      <td>  5.396471</td>\n",
        "      <td> 59.960784</td>\n",
        "    </tr>\n",
        "    <tr>\n",
        "      <th>2</th>\n",
        "      <td> 1426601</td>\n",
        "      <td> Minastrin 24 Fe</td>\n",
        "      <td>            NaN</td>\n",
        "      <td> 28.0</td>\n",
        "      <td> 2014-01-01</td>\n",
        "      <td>  84.66</td>\n",
        "      <td>  WALMART PHARMACY 10-1804</td>\n",
        "      <td> IN</td>\n",
        "      <td> 46804</td>\n",
        "      <td> WALMART</td>\n",
        "      <td>    NaN</td>\n",
        "      <td>      None</td>\n",
        "      <td>  3.023571</td>\n",
        "      <td>       NaN</td>\n",
        "    </tr>\n",
        "    <tr>\n",
        "      <th>3</th>\n",
        "      <td>  809990</td>\n",
        "      <td>          Vimpat</td>\n",
        "      <td>         100 MG</td>\n",
        "      <td> 60.0</td>\n",
        "      <td> 2014-01-01</td>\n",
        "      <td> 531.82</td>\n",
        "      <td>        CVS PHARMACY 05341</td>\n",
        "      <td> NC</td>\n",
        "      <td> 28173</td>\n",
        "      <td>     CVS</td>\n",
        "      <td> 100.00</td>\n",
        "      <td>        MG</td>\n",
        "      <td>  8.863667</td>\n",
        "      <td>  0.088637</td>\n",
        "    </tr>\n",
        "    <tr>\n",
        "      <th>4</th>\n",
        "      <td>  865098</td>\n",
        "      <td>         Humalog</td>\n",
        "      <td>     100 UNT/ML</td>\n",
        "      <td> 20.0</td>\n",
        "      <td> 2014-01-01</td>\n",
        "      <td> 339.08</td>\n",
        "      <td> KING SOOPERS PHARMACY 104</td>\n",
        "      <td> CO</td>\n",
        "      <td> 80550</td>\n",
        "      <td>  KROGER</td>\n",
        "      <td> 100.00</td>\n",
        "      <td>    UNT/ML</td>\n",
        "      <td> 16.954000</td>\n",
        "      <td>  0.169540</td>\n",
        "    </tr>\n",
        "  </tbody>\n",
        "</table>\n",
        "</div>"
       ],
       "metadata": {},
       "output_type": "pyout",
       "prompt_number": 9,
       "text": [
        "     rxcui        drug_name   drug_strength  quantity service_date  \\\n",
        "0  1232088          Xarelto           20 MG      30.0   2014-01-01   \n",
        "1   745752       PROAIR HFA  0.09 MG/ACTUAT       8.5   2014-01-01   \n",
        "2  1426601  Minastrin 24 Fe             NaN      28.0   2014-01-01   \n",
        "3   809990           Vimpat          100 MG      60.0   2014-01-01   \n",
        "4   865098          Humalog      100 UNT/ML      20.0   2014-01-01   \n",
        "\n",
        "   gross_cost              pharmacy_name pharmacy_state    zip    chain  \\\n",
        "0      268.51         CVS PHARMACY 01571             SC  29708      CVS   \n",
        "1       45.87         CVS PHARMACY 04285             VA  24502      CVS   \n",
        "2       84.66   WALMART PHARMACY 10-1804             IN  46804  WALMART   \n",
        "3      531.82         CVS PHARMACY 05341             NC  28173      CVS   \n",
        "4      339.08  KING SOOPERS PHARMACY 104             CO  80550   KROGER   \n",
        "\n",
        "   strength      units  cost_per_quantity  cost_per_unit  \n",
        "0     20.00         MG           8.950333       0.447517  \n",
        "1      0.09  MG/ACTUAT           5.396471      59.960784  \n",
        "2       NaN       None           3.023571            NaN  \n",
        "3    100.00         MG           8.863667       0.088637  \n",
        "4    100.00     UNT/ML          16.954000       0.169540  "
       ]
      }
     ],
     "prompt_number": 9
    },
    {
     "cell_type": "code",
     "collapsed": false,
     "input": [
      "print df['service_date'].min(), df['service_date'].max()"
     ],
     "language": "python",
     "metadata": {},
     "outputs": [
      {
       "output_type": "stream",
       "stream": "stdout",
       "text": [
        "2014-01-01 2014-06-30\n"
       ]
      }
     ],
     "prompt_number": 12
    },
    {
     "cell_type": "code",
     "collapsed": false,
     "input": [
      "#############################################################################################################################\n",
      "### Calculate Best in Class gross cost per unit, by RxCUI\n",
      "#############################################################################################################################"
     ],
     "language": "python",
     "metadata": {},
     "outputs": [],
     "prompt_number": 10
    },
    {
     "cell_type": "code",
     "collapsed": false,
     "input": [
      "# define function\n",
      "def f(x):\n",
      "    Q1 = x.quantile(q=0.25)\n",
      "    Q3 = x.quantile(q=0.75)\n",
      "    lower_fence = Q1 - 1.5*(Q3-Q1)\n",
      "    return pd.Series([lower_fence, x.median(), x.std()], index=['lower_fence','median','std'])"
     ],
     "language": "python",
     "metadata": {},
     "outputs": [],
     "prompt_number": 12
    },
    {
     "cell_type": "code",
     "collapsed": false,
     "input": [
      "# apply function\n",
      "rxcui_groups = df.groupby(['rxcui','drug_strength'])\n",
      "\n",
      "rxcui_units = rxcui_groups['cost_per_unit'].apply(f).unstack()\n",
      "rxcui_units.columns = ['cpu_lower','cpu_median','cpu_std']\n",
      "rxcui_units = rxcui_units.reset_index()\n",
      "\n",
      "rxcui_quantity = rxcui_groups['cost_per_quantity'].apply(f).unstack()\n",
      "rxcui_quantity.columns = ['cpq_lower','cpq_median','cpq_std']\n",
      "rxcui_quantity = rxcui_quantity.reset_index()\n",
      "\n",
      "rxcui = pd.merge(rxcui_quantity, rxcui_units, on =['rxcui','drug_strength'])\n",
      "rxcui.head()"
     ],
     "language": "python",
     "metadata": {},
     "outputs": [
      {
       "html": [
        "<div style=\"max-height:1000px;max-width:1500px;overflow:auto;\">\n",
        "<table border=\"1\" class=\"dataframe\">\n",
        "  <thead>\n",
        "    <tr style=\"text-align: right;\">\n",
        "      <th></th>\n",
        "      <th>rxcui</th>\n",
        "      <th>drug_strength</th>\n",
        "      <th>cpq_lower</th>\n",
        "      <th>cpq_median</th>\n",
        "      <th>cpq_std</th>\n",
        "      <th>cpu_lower</th>\n",
        "      <th>cpu_median</th>\n",
        "      <th>cpu_std</th>\n",
        "    </tr>\n",
        "  </thead>\n",
        "  <tbody>\n",
        "    <tr>\n",
        "      <th>0</th>\n",
        "      <td>  92752</td>\n",
        "      <td> 10 MG/ML</td>\n",
        "      <td> 13.781333</td>\n",
        "      <td> 13.781333</td>\n",
        "      <td> 1.365769</td>\n",
        "      <td> 1.378133</td>\n",
        "      <td> 1.378133</td>\n",
        "      <td> 0.136577</td>\n",
        "    </tr>\n",
        "    <tr>\n",
        "      <th>1</th>\n",
        "      <td> 103899</td>\n",
        "      <td>   150 MG</td>\n",
        "      <td> 14.707944</td>\n",
        "      <td> 14.707944</td>\n",
        "      <td>      NaN</td>\n",
        "      <td> 0.098053</td>\n",
        "      <td> 0.098053</td>\n",
        "      <td>      NaN</td>\n",
        "    </tr>\n",
        "    <tr>\n",
        "      <th>2</th>\n",
        "      <td> 103919</td>\n",
        "      <td>    40 MG</td>\n",
        "      <td>  4.114000</td>\n",
        "      <td>  4.114000</td>\n",
        "      <td> 0.000000</td>\n",
        "      <td> 0.102850</td>\n",
        "      <td> 0.102850</td>\n",
        "      <td> 0.000000</td>\n",
        "    </tr>\n",
        "    <tr>\n",
        "      <th>3</th>\n",
        "      <td> 104084</td>\n",
        "      <td> 25 MG/ML</td>\n",
        "      <td>  1.476250</td>\n",
        "      <td>  1.476250</td>\n",
        "      <td>      NaN</td>\n",
        "      <td> 0.059050</td>\n",
        "      <td> 0.059050</td>\n",
        "      <td>      NaN</td>\n",
        "    </tr>\n",
        "    <tr>\n",
        "      <th>4</th>\n",
        "      <td> 104112</td>\n",
        "      <td>   400 MG</td>\n",
        "      <td>  1.845428</td>\n",
        "      <td>  2.031772</td>\n",
        "      <td> 0.131765</td>\n",
        "      <td> 0.004614</td>\n",
        "      <td> 0.005079</td>\n",
        "      <td> 0.000329</td>\n",
        "    </tr>\n",
        "  </tbody>\n",
        "</table>\n",
        "</div>"
       ],
       "metadata": {},
       "output_type": "pyout",
       "prompt_number": 13,
       "text": [
        "    rxcui drug_strength  cpq_lower  cpq_median   cpq_std  cpu_lower  \\\n",
        "0   92752      10 MG/ML  13.781333   13.781333  1.365769   1.378133   \n",
        "1  103899        150 MG  14.707944   14.707944       NaN   0.098053   \n",
        "2  103919         40 MG   4.114000    4.114000  0.000000   0.102850   \n",
        "3  104084      25 MG/ML   1.476250    1.476250       NaN   0.059050   \n",
        "4  104112        400 MG   1.845428    2.031772  0.131765   0.004614   \n",
        "\n",
        "   cpu_median   cpu_std  \n",
        "0    1.378133  0.136577  \n",
        "1    0.098053       NaN  \n",
        "2    0.102850  0.000000  \n",
        "3    0.059050       NaN  \n",
        "4    0.005079  0.000329  "
       ]
      }
     ],
     "prompt_number": 13
    },
    {
     "cell_type": "code",
     "collapsed": false,
     "input": [
      "# Calculate BIC rates (cpq, cpu)\n",
      "bic_cpq = pd.merge(df, rxcui[['rxcui','drug_strength','cpq_lower']], \n",
      "                   on = ['rxcui','drug_strength'])[['rxcui','drug_strength','cost_per_quantity','cpq_lower']].drop_duplicates().reset_index(drop=True)\n",
      "\n",
      "bic_cpu = pd.merge(df, rxcui[['rxcui','drug_strength','cpu_lower']], \n",
      "                   on = ['rxcui','drug_strength'])[['rxcui','drug_strength','cost_per_unit','cpu_lower']].drop_duplicates().reset_index(drop=True)"
     ],
     "language": "python",
     "metadata": {},
     "outputs": [],
     "prompt_number": 14
    },
    {
     "cell_type": "code",
     "collapsed": false,
     "input": [
      "# Remove outliers\n",
      "bic_cpq = bic_cpq.loc[\n",
      "bic_cpq['cost_per_quantity'] >= bic_cpq['cpq_lower'],['rxcui','drug_strength','cost_per_quantity']]\n",
      "\n",
      "bic_cpu = bic_cpu.loc[\n",
      "bic_cpu['cost_per_unit'] >= bic_cpu['cpu_lower'],['rxcui','drug_strength','cost_per_unit']]\n",
      "\n",
      "# Calculate minimum rates (BIC)\n",
      "bic_cpq = pd.DataFrame(bic_cpq.groupby(['rxcui','drug_strength'])['cost_per_quantity'].apply(min)).reset_index()\n",
      "bic_cpq.columns = ['rxcui','drug_strength','cpq_bic']\n",
      "\n",
      "bic_cpu = pd.DataFrame(bic_cpu.groupby(['rxcui','drug_strength'])['cost_per_unit'].apply(min)).reset_index()\n",
      "bic_cpu.columns = ['rxcui','drug_strength','cpu_bic']\n",
      "\n",
      "bic = pd.merge(bic_cpq, bic_cpu, on = ['rxcui','drug_strength'])"
     ],
     "language": "python",
     "metadata": {},
     "outputs": [],
     "prompt_number": 15
    },
    {
     "cell_type": "code",
     "collapsed": false,
     "input": [
      "# Merge BIC rates with RxCUI\n",
      "rxcui = pd.merge(rxcui, bic)\n",
      "rxcui[['rxcui','cpq_median','cpq_bic','cpu_median','cpu_bic']].describe()"
     ],
     "language": "python",
     "metadata": {},
     "outputs": [],
     "prompt_number": 16
    },
    {
     "cell_type": "code",
     "collapsed": false,
     "input": [
      "rxcui.to_csv(r'/Users/smacrae/Documents/adhoc/pricing_model/data/results/ymkt-rxcui-best_in_class_v2.csv', index=False)"
     ],
     "language": "python",
     "metadata": {},
     "outputs": [],
     "prompt_number": 32
    },
    {
     "cell_type": "code",
     "collapsed": false,
     "input": [
      "# Assign cost per unit and freq decile tiers\n",
      "\n",
      "# Circle back to this..."
     ],
     "language": "python",
     "metadata": {},
     "outputs": [],
     "prompt_number": 22
    },
    {
     "cell_type": "code",
     "collapsed": false,
     "input": [
      "# def g(x):\n",
      "#     D1 = x.quantile(q=0.10)\n",
      "#     D2 = x.quantile(q=0.20)\n",
      "#     D3 = x.quantile(q=0.30)\n",
      "#     D4 = x.quantile(q=0.40)\n",
      "#     D5 = x.quantile(q=0.50)\n",
      "#     D6 = x.quantile(q=0.60)\n",
      "#     D7 = x.quantile(q=0.70)\n",
      "#     D8 = x.quantile(q=0.80)\n",
      "#     D9 = x.quantile(q=0.90)\n",
      "#     return pd.Series([D1,D2,D3,D4,D5,D6,D7,D8,D9], index=['10th','20th','30th','40th','50th','60th','70th','80th','90th'])"
     ],
     "language": "python",
     "metadata": {},
     "outputs": [],
     "prompt_number": 23
    },
    {
     "cell_type": "code",
     "collapsed": false,
     "input": [
      "# rxcui_cost_per_deciles = g(rxcui['cost_per_median'])\n",
      "# rxcui_freq_deciles = g(rxcui['cost_per_freq'])\n",
      "\n",
      "# print rxcui_cost_per_deciles\n",
      "# print rxcui_freq_deciles"
     ],
     "language": "python",
     "metadata": {},
     "outputs": [],
     "prompt_number": 24
    },
    {
     "cell_type": "code",
     "collapsed": false,
     "input": [
      "# rxcui['cost_per_tier'] = np.NaN\n",
      "\n",
      "# for i in rxcui.index:\n",
      "#     if rxcui.loc[i, 'cost_per_median'] <= rxcui_cost_per_deciles['10th']:\n",
      "#         rxcui.loc[i, 'cost_per_tier'] = '10th'\n",
      "#     elif rxcui.loc[i, 'cost_per_median'] <= rxcui_cost_per_deciles['20th']:\n",
      "#         rxcui.loc[i, 'cost_per_tier'] = '20th'\n",
      "#     elif rxcui.loc[i, 'cost_per_median'] <= rxcui_cost_per_deciles['30th']:\n",
      "#         rxcui.loc[i, 'cost_per_tier'] = '30th'\n",
      "#     elif rxcui.loc[i, 'cost_per_median'] <= rxcui_cost_per_deciles['40th']:\n",
      "#         rxcui.loc[i, 'cost_per_tier'] = '40th'\n",
      "#     elif rxcui.loc[i, 'cost_per_median'] <= rxcui_cost_per_deciles['50th']:\n",
      "#         rxcui.loc[i, 'cost_per_tier'] = '50th'\n",
      "#     elif rxcui.loc[i, 'cost_per_median'] <= rxcui_cost_per_deciles['60th']:\n",
      "#         rxcui.loc[i, 'cost_per_tier'] = '60th'\n",
      "#     elif rxcui.loc[i, 'cost_per_median'] <= rxcui_cost_per_deciles['70th']:\n",
      "#         rxcui.loc[i, 'cost_per_tier'] = '70th'\n",
      "#     elif rxcui.loc[i, 'cost_per_median'] <= rxcui_cost_per_deciles['80th']:\n",
      "#         rxcui.loc[i, 'cost_per_tier'] = '80th'\n",
      "#     elif rxcui.loc[i, 'cost_per_median'] <= rxcui_cost_per_deciles['90th']:\n",
      "#         rxcui.loc[i, 'cost_per_tier'] = '90th'        \n",
      "#     else:\n",
      "#         rxcui.loc[i, 'cost_per_tier'] = '99th'"
     ],
     "language": "python",
     "metadata": {},
     "outputs": [],
     "prompt_number": 25
    },
    {
     "cell_type": "code",
     "collapsed": false,
     "input": [
      "# rxcui['freq_tier'] = np.NaN\n",
      "\n",
      "# for i in rxcui.index:\n",
      "#     if rxcui.loc[i, 'cost_per_freq'] <= rxcui_freq_deciles['10th']:\n",
      "#         rxcui.loc[i, 'freq_tier'] = '10th'\n",
      "#     elif rxcui.loc[i, 'cost_per_freq'] <= rxcui_freq_deciles['20th']:\n",
      "#         rxcui.loc[i, 'freq_tier'] = '20th'\n",
      "#     elif rxcui.loc[i, 'cost_per_freq'] <= rxcui_freq_deciles['30th']:\n",
      "#         rxcui.loc[i, 'freq_tier'] = '30th'\n",
      "#     elif rxcui.loc[i, 'cost_per_freq'] <= rxcui_freq_deciles['40th']:\n",
      "#         rxcui.loc[i, 'freq_tier'] = '40th'\n",
      "#     elif rxcui.loc[i, 'cost_per_freq'] <= rxcui_freq_deciles['50th']:\n",
      "#         rxcui.loc[i, 'freq_tier'] = '50th'\n",
      "#     elif rxcui.loc[i, 'cost_per_freq'] <= rxcui_freq_deciles['60th']:\n",
      "#         rxcui.loc[i, 'freq_tier'] = '60th'\n",
      "#     elif rxcui.loc[i, 'cost_per_freq'] <= rxcui_freq_deciles['70th']:\n",
      "#         rxcui.loc[i, 'freq_tier'] = '70th'\n",
      "#     elif rxcui.loc[i, 'cost_per_freq'] <= rxcui_freq_deciles['80th']:\n",
      "#         rxcui.loc[i, 'freq_tier'] = '80th'\n",
      "#     elif rxcui.loc[i, 'cost_per_freq'] <= rxcui_freq_deciles['90th']:\n",
      "#         rxcui.loc[i, 'freq_tier'] = '90th'        \n",
      "#     else:\n",
      "#         rxcui.loc[i, 'freq_tier'] = '99th'"
     ],
     "language": "python",
     "metadata": {},
     "outputs": [],
     "prompt_number": 26
    },
    {
     "cell_type": "code",
     "collapsed": false,
     "input": [
      "# rxcui = rxcui.sort(['freq_tier','cost_per_tier'], ascending=False).reset_index(drop=True)\n",
      "# rxcui"
     ],
     "language": "python",
     "metadata": {},
     "outputs": [],
     "prompt_number": 26
    },
    {
     "cell_type": "code",
     "collapsed": false,
     "input": [
      "# # Boxplot\n",
      "\n",
      "# top10 = rxcui[0:25]['rxcui']\n",
      "# df_box = df[df['rxcui'].isin(top10)].reset_index(drop=True)\n",
      "\n",
      "# df_box.boxplot(column=['cost_per_bic'], by=['rxcui'])"
     ],
     "language": "python",
     "metadata": {},
     "outputs": [],
     "prompt_number": 25
    },
    {
     "cell_type": "code",
     "collapsed": false,
     "input": [],
     "language": "python",
     "metadata": {},
     "outputs": [],
     "prompt_number": 47
    },
    {
     "cell_type": "code",
     "collapsed": false,
     "input": [],
     "language": "python",
     "metadata": {},
     "outputs": []
    }
   ],
   "metadata": {}
  }
 ]
}