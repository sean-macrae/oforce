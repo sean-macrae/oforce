{
 "metadata": {
  "name": "",
  "signature": "sha256:d373deb851fd956056128e490e3e8fc9043bf56986f5e7e1016eefbc49968926"
 },
 "nbformat": 3,
 "nbformat_minor": 0,
 "worksheets": [
  {
   "cells": [
    {
     "cell_type": "code",
     "collapsed": false,
     "input": [
      "import numpy as np\n",
      "import pandas as pd\n",
      "from pandas.io import gbq\n",
      "import matplotlib.pyplot as plt\n",
      "from IPython.core.pylabtools import figsize"
     ],
     "language": "python",
     "metadata": {},
     "outputs": [],
     "prompt_number": 2
    },
    {
     "cell_type": "code",
     "collapsed": false,
     "input": [
      "%%capture capt\n",
      "# Query Theia\n",
      "projectid = 'aerial-jigsaw-823'\n",
      "\n",
      "### Queries\n",
      "# Customer.io\n",
      "customer_prd_query = \"\"\"SELECT * FROM prd.customer\"\"\"\n",
      "# Segment.io\n",
      "segment_prd_query = \"\"\"SELECT * FROM prd.segment\"\"\"\n",
      "\n",
      "### Pulls\n",
      "# Customer.io\n",
      "customer_prd = pd.read_gbq(customer_prd_query, project_id = projectid, reauth=False)\n",
      "# Segment.io\n",
      "# segment_prd = pd.read_gbq(segment_prd_query, project_id = projectid, reauth=False)"
     ],
     "language": "python",
     "metadata": {},
     "outputs": [],
     "prompt_number": 3
    },
    {
     "cell_type": "code",
     "collapsed": false,
     "input": [
      "print 'Customer.io Unique Events:'\n",
      "print pd.Series(customer_prd['data_variables_eventName'].unique()), '\\n'"
     ],
     "language": "python",
     "metadata": {},
     "outputs": [
      {
       "output_type": "stream",
       "stream": "stdout",
       "text": [
        "Customer.io Unique Events:\n",
        "0    password_reset_request\n",
        "1                      None\n",
        "2     member_supportrequest\n",
        "3           order_submitted\n",
        "4          password_changed\n",
        "dtype: object \n",
        "\n"
       ]
      }
     ],
     "prompt_number": 7
    },
    {
     "cell_type": "code",
     "collapsed": false,
     "input": [],
     "language": "python",
     "metadata": {},
     "outputs": []
    }
   ],
   "metadata": {}
  }
 ]
}