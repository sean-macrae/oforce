{
 "metadata": {
  "name": "",
  "signature": "sha256:7bc7adab476271a5e62254a940ae4ea195f38d9af6059299a4aca43b34b80d71"
 },
 "nbformat": 3,
 "nbformat_minor": 0,
 "worksheets": [
  {
   "cells": [
    {
     "cell_type": "code",
     "collapsed": false,
     "input": [
      "import numpy as np\n",
      "import pandas as pd\n",
      "from pandas import Series, DataFrame\n",
      "import os"
     ],
     "language": "python",
     "metadata": {},
     "outputs": [],
     "prompt_number": 1
    },
    {
     "cell_type": "code",
     "collapsed": false,
     "input": [
      "# get list of files in log level directory\n",
      "campaign_path = r'/Users/smacrae/Documents/data_warehouse/campaign/'\n",
      "campaign_list = os.listdir(campaign_path)"
     ],
     "language": "python",
     "metadata": {},
     "outputs": [],
     "prompt_number": 2
    },
    {
     "cell_type": "code",
     "collapsed": false,
     "input": [
      "# create list of strings for the directory path of each files in Adgooroo directory\n",
      "campaign_data = []\n",
      "for dir_entry in os.listdir(campaign_path):\n",
      "    dir_entry_path = os.path.join(campaign_path, dir_entry)\n",
      "    if os.path.isfile(dir_entry_path):\n",
      "        campaign_data.append(dir_entry_path)"
     ],
     "language": "python",
     "metadata": {},
     "outputs": [],
     "prompt_number": 3
    },
    {
     "cell_type": "code",
     "collapsed": false,
     "input": [
      "# write each log file into a list of pandas dataframes\n",
      "pieces = []\n",
      "\n",
      "for i in range(0, len(campaign_data)):\n",
      "    campaign = pd.read_csv(campaign_data[i], sep=',', index_col=None, parse_dates=True, infer_datetime_format=True)    \n",
      "    pieces.append(campaign)"
     ],
     "language": "python",
     "metadata": {},
     "outputs": [],
     "prompt_number": 4
    },
    {
     "cell_type": "code",
     "collapsed": false,
     "input": [
      "# combine list of dataframes into a single dataframe\n",
      "campaign = pd.concat(pieces, ignore_index=True)"
     ],
     "language": "python",
     "metadata": {},
     "outputs": [],
     "prompt_number": 30
    },
    {
     "cell_type": "code",
     "collapsed": false,
     "input": [
      "# drop records where oration_id is null\n",
      "campaign = campaign.loc[-campaign['oration_id'].isnull(),]\n",
      "campaign = campaign.loc[-campaign['primary_oration_id'].isnull(),]"
     ],
     "language": "python",
     "metadata": {},
     "outputs": [],
     "prompt_number": 31
    },
    {
     "cell_type": "code",
     "collapsed": false,
     "input": [
      "# recast oration_id as string\n",
      "campaign['oration_id'] = campaign['oration_id'].astype(int).astype(str)\n",
      "campaign['primary_oration_id'] = campaign['primary_oration_id'].astype(int).astype(str)"
     ],
     "language": "python",
     "metadata": {},
     "outputs": [],
     "prompt_number": 32
    },
    {
     "cell_type": "code",
     "collapsed": false,
     "input": [
      "campaign.to_csv(r'/Users/smacrae/Documents/data_warehouse/campaign/combined_campaigns.csv', index=False)"
     ],
     "language": "python",
     "metadata": {},
     "outputs": [],
     "prompt_number": 33
    },
    {
     "cell_type": "code",
     "collapsed": false,
     "input": [
      "for i in range(0, len(campaign.dtypes)): \n",
      "    dtype = 'string'\n",
      "    if campaign.dtypes[i] == 'object':\n",
      "        dtype = 'string'\n",
      "    else:\n",
      "        dtype = 'integer'\n",
      "    print str(campaign.columns[i]) + ':' + str(dtype) + ','"
     ],
     "language": "python",
     "metadata": {},
     "outputs": [
      {
       "output_type": "stream",
       "stream": "stdout",
       "text": [
        "primary_oration_id:string,\n",
        "oration_id:string,\n",
        "has_email:integer,\n",
        "plan_number:string,\n",
        "invited:string,\n",
        "visited_site:string,\n",
        "completed_registration:string,\n",
        "last_login:string,\n",
        "campaign_name:string,\n"
       ]
      }
     ],
     "prompt_number": 34
    },
    {
     "cell_type": "code",
     "collapsed": false,
     "input": [
      "campaign.head()"
     ],
     "language": "python",
     "metadata": {},
     "outputs": [
      {
       "html": [
        "<div style=\"max-height:1000px;max-width:1500px;overflow:auto;\">\n",
        "<table border=\"1\" class=\"dataframe\">\n",
        "  <thead>\n",
        "    <tr style=\"text-align: right;\">\n",
        "      <th></th>\n",
        "      <th>primary_oration_id</th>\n",
        "      <th>oration_id</th>\n",
        "      <th>has_email</th>\n",
        "      <th>plan_number</th>\n",
        "      <th>invited</th>\n",
        "      <th>visited_site</th>\n",
        "      <th>completed_registration</th>\n",
        "      <th>last_login</th>\n",
        "      <th>campaign_name</th>\n",
        "    </tr>\n",
        "  </thead>\n",
        "  <tbody>\n",
        "    <tr>\n",
        "      <th>0</th>\n",
        "      <td> 6</td>\n",
        "      <td>   6</td>\n",
        "      <td>  True</td>\n",
        "      <td> 8301</td>\n",
        "      <td> 04/23/2014</td>\n",
        "      <td> NaN</td>\n",
        "      <td> NaN</td>\n",
        "      <td> NaN</td>\n",
        "      <td> NaN</td>\n",
        "    </tr>\n",
        "    <tr>\n",
        "      <th>1</th>\n",
        "      <td> 6</td>\n",
        "      <td> 349</td>\n",
        "      <td> False</td>\n",
        "      <td> 8301</td>\n",
        "      <td>        NaN</td>\n",
        "      <td> NaN</td>\n",
        "      <td> NaN</td>\n",
        "      <td> NaN</td>\n",
        "      <td> NaN</td>\n",
        "    </tr>\n",
        "    <tr>\n",
        "      <th>2</th>\n",
        "      <td> 6</td>\n",
        "      <td> 536</td>\n",
        "      <td> False</td>\n",
        "      <td> 8301</td>\n",
        "      <td>        NaN</td>\n",
        "      <td> NaN</td>\n",
        "      <td> NaN</td>\n",
        "      <td> NaN</td>\n",
        "      <td> NaN</td>\n",
        "    </tr>\n",
        "    <tr>\n",
        "      <th>3</th>\n",
        "      <td> 9</td>\n",
        "      <td>   9</td>\n",
        "      <td>  True</td>\n",
        "      <td> 8304</td>\n",
        "      <td> 02/19/2014</td>\n",
        "      <td> NaN</td>\n",
        "      <td> NaN</td>\n",
        "      <td> NaN</td>\n",
        "      <td> NaN</td>\n",
        "    </tr>\n",
        "    <tr>\n",
        "      <th>4</th>\n",
        "      <td> 9</td>\n",
        "      <td> 232</td>\n",
        "      <td> False</td>\n",
        "      <td> 8304</td>\n",
        "      <td>        NaN</td>\n",
        "      <td> NaN</td>\n",
        "      <td> NaN</td>\n",
        "      <td> NaN</td>\n",
        "      <td> NaN</td>\n",
        "    </tr>\n",
        "  </tbody>\n",
        "</table>\n",
        "</div>"
       ],
       "metadata": {},
       "output_type": "pyout",
       "prompt_number": 35,
       "text": [
        "  primary_oration_id oration_id has_email plan_number     invited  \\\n",
        "0                  6          6      True        8301  04/23/2014   \n",
        "1                  6        349     False        8301         NaN   \n",
        "2                  6        536     False        8301         NaN   \n",
        "3                  9          9      True        8304  02/19/2014   \n",
        "4                  9        232     False        8304         NaN   \n",
        "\n",
        "  visited_site completed_registration last_login campaign_name  \n",
        "0          NaN                    NaN        NaN           NaN  \n",
        "1          NaN                    NaN        NaN           NaN  \n",
        "2          NaN                    NaN        NaN           NaN  \n",
        "3          NaN                    NaN        NaN           NaN  \n",
        "4          NaN                    NaN        NaN           NaN  "
       ]
      }
     ],
     "prompt_number": 35
    },
    {
     "cell_type": "code",
     "collapsed": false,
     "input": [],
     "language": "python",
     "metadata": {},
     "outputs": []
    }
   ],
   "metadata": {}
  }
 ]
}