{
 "metadata": {
  "name": "",
  "signature": "sha256:f7a8630f85bfe8b60d7e36d04120527b7df1549ee79cbbe6b99bcbc23a80fa22"
 },
 "nbformat": 3,
 "nbformat_minor": 0,
 "worksheets": [
  {
   "cells": [
    {
     "cell_type": "markdown",
     "metadata": {},
     "source": [
      "<style>\n",
      "    @font-face {\n",
      "        font-family: \"Computer Modern\";\n",
      "        src: url('http://mirrors.ctan.org/fonts/cm-unicode/fonts/otf/cmunss.otf');\n",
      "    }\n",
      "    div.cell{\n",
      "        width:800px;\n",
      "        margin-left:16% !important;\n",
      "        margin-right:auto;\n",
      "    }\n",
      "    h1 {\n",
      "        font-family: Helvetica, serif;\n",
      "    }\n",
      "    h4{\n",
      "        margin-top:12px;\n",
      "        margin-bottom: 3px;\n",
      "       }\n",
      "    div.text_cell_render{\n",
      "        font-family: Computer Modern, \"Helvetica Neue\", Arial, Helvetica, Geneva, sans-serif;\n",
      "        line-height: 145%;\n",
      "        font-size: 130%;\n",
      "        width:800px;\n",
      "        margin-left:auto;\n",
      "        margin-right:auto;\n",
      "    }\n",
      "    .CodeMirror{\n",
      "            font-family: \"Source Code Pro\", source-code-pro,Consolas, monospace;\n",
      "    }\n",
      "    .prompt{\n",
      "        display: None;\n",
      "    }\n",
      "    .text_cell_render h5 {\n",
      "        font-weight: 300;\n",
      "        font-size: 22pt;\n",
      "        color: #4057A1;\n",
      "        font-style: italic;\n",
      "        margin-bottom: .5em;\n",
      "        margin-top: 0.5em;\n",
      "        display: block;\n",
      "    }\n",
      "    \n",
      "    .warning{\n",
      "        color: rgb( 240, 20, 20 )\n",
      "        }  \n",
      "</style>\n",
      "<script>\n",
      "    MathJax.Hub.Config({\n",
      "                        TeX: {\n",
      "                           extensions: [\"AMSmath.js\"]\n",
      "                           },\n",
      "                tex2jax: {\n",
      "                    inlineMath: [ ['$','$'], [\"\\\\(\",\"\\\\)\"] ],\n",
      "                    displayMath: [ ['$$','$$'], [\"\\\\[\",\"\\\\]\"] ]\n",
      "                },\n",
      "                displayAlign: 'center', // Change this to 'center' to center equations.\n",
      "                \"HTML-CSS\": {\n",
      "                    styles: {'.MathJax_Display': {\"margin\": 4}}\n",
      "                }\n",
      "        });\n",
      "</script>"
     ]
    },
    {
     "cell_type": "markdown",
     "metadata": {},
     "source": [
      "# Divorce Rates"
     ]
    },
    {
     "cell_type": "code",
     "collapsed": false,
     "input": [
      "from lifelines.estimation import AalenAdditiveFitter\n",
      "import pandas as pd\n",
      "import numpy as np\n",
      "%load_ext autoreload\n",
      "%autoreload 2"
     ],
     "language": "python",
     "metadata": {},
     "outputs": [
      {
       "output_type": "stream",
       "stream": "stdout",
       "text": [
        "The autoreload extension is already loaded. To reload it, use:\n",
        "  %reload_ext autoreload\n"
       ]
      }
     ],
     "prompt_number": 16
    },
    {
     "cell_type": "code",
     "collapsed": false,
     "input": [
      "data = pd.read_csv('/Users/smacrae/Documents/git/lifelines/lifelines/datasets/divorce.dat', sep=\"\\s{2,10}\")"
     ],
     "language": "python",
     "metadata": {},
     "outputs": [],
     "prompt_number": 4
    },
    {
     "cell_type": "code",
     "collapsed": false,
     "input": [
      "data.tail(10)"
     ],
     "language": "python",
     "metadata": {},
     "outputs": [
      {
       "html": [
        "<div style=\"max-height:1000px;max-width:1500px;overflow:auto;\">\n",
        "<table border=\"1\" class=\"dataframe\">\n",
        "  <thead>\n",
        "    <tr style=\"text-align: right;\">\n",
        "      <th></th>\n",
        "      <th>id</th>\n",
        "      <th>heduc</th>\n",
        "      <th>heblack</th>\n",
        "      <th>mixed</th>\n",
        "      <th>years</th>\n",
        "      <th>div</th>\n",
        "    </tr>\n",
        "  </thead>\n",
        "  <tbody>\n",
        "    <tr>\n",
        "      <th>3362</th>\n",
        "      <td> 17264</td>\n",
        "      <td> 12-15 years</td>\n",
        "      <td>   No</td>\n",
        "      <td>  Yes</td>\n",
        "      <td>  4.4570</td>\n",
        "      <td>   No</td>\n",
        "    </tr>\n",
        "    <tr>\n",
        "      <th>3363</th>\n",
        "      <td> 17271</td>\n",
        "      <td>  &lt; 12 years</td>\n",
        "      <td>  Yes</td>\n",
        "      <td>  Yes</td>\n",
        "      <td>  0.4440</td>\n",
        "      <td>   No</td>\n",
        "    </tr>\n",
        "    <tr>\n",
        "      <th>3364</th>\n",
        "      <td> 17272</td>\n",
        "      <td>   16+ years</td>\n",
        "      <td>  Yes</td>\n",
        "      <td>   No</td>\n",
        "      <td>  8.5855</td>\n",
        "      <td>  Yes</td>\n",
        "    </tr>\n",
        "    <tr>\n",
        "      <th>3365</th>\n",
        "      <td> 17275</td>\n",
        "      <td> 12-15 years</td>\n",
        "      <td>   No</td>\n",
        "      <td>  Yes</td>\n",
        "      <td> 15.8280</td>\n",
        "      <td>   No</td>\n",
        "    </tr>\n",
        "    <tr>\n",
        "      <th>3366</th>\n",
        "      <td> 17280</td>\n",
        "      <td> 12-15 years</td>\n",
        "      <td>  Yes</td>\n",
        "      <td>  Yes</td>\n",
        "      <td> 17.1440</td>\n",
        "      <td>   No</td>\n",
        "    </tr>\n",
        "    <tr>\n",
        "      <th>3367</th>\n",
        "      <td> 17283</td>\n",
        "      <td>  &lt; 12 years</td>\n",
        "      <td>   No</td>\n",
        "      <td>  Yes</td>\n",
        "      <td> 44.7470</td>\n",
        "      <td>   No</td>\n",
        "    </tr>\n",
        "    <tr>\n",
        "      <th>3368</th>\n",
        "      <td> 17290</td>\n",
        "      <td>  &lt; 12 years</td>\n",
        "      <td>  Yes</td>\n",
        "      <td>   No</td>\n",
        "      <td>  4.3720</td>\n",
        "      <td>   No</td>\n",
        "    </tr>\n",
        "    <tr>\n",
        "      <th>3369</th>\n",
        "      <td> 17294</td>\n",
        "      <td> 12-15 years</td>\n",
        "      <td>  Yes</td>\n",
        "      <td>   No</td>\n",
        "      <td>  7.2690</td>\n",
        "      <td>   No</td>\n",
        "    </tr>\n",
        "    <tr>\n",
        "      <th>3370</th>\n",
        "      <td> 17302</td>\n",
        "      <td> 12-15 years</td>\n",
        "      <td>   No</td>\n",
        "      <td>  Yes</td>\n",
        "      <td> 18.7300</td>\n",
        "      <td>   No</td>\n",
        "    </tr>\n",
        "    <tr>\n",
        "      <th>3371</th>\n",
        "      <td>   NaN</td>\n",
        "      <td>        None</td>\n",
        "      <td> None</td>\n",
        "      <td> None</td>\n",
        "      <td>     NaN</td>\n",
        "      <td> None</td>\n",
        "    </tr>\n",
        "  </tbody>\n",
        "</table>\n",
        "</div>"
       ],
       "metadata": {},
       "output_type": "pyout",
       "prompt_number": 5,
       "text": [
        "         id        heduc heblack mixed    years   div\n",
        "3362  17264  12-15 years      No   Yes   4.4570    No\n",
        "3363  17271   < 12 years     Yes   Yes   0.4440    No\n",
        "3364  17272    16+ years     Yes    No   8.5855   Yes\n",
        "3365  17275  12-15 years      No   Yes  15.8280    No\n",
        "3366  17280  12-15 years     Yes   Yes  17.1440    No\n",
        "3367  17283   < 12 years      No   Yes  44.7470    No\n",
        "3368  17290   < 12 years     Yes    No   4.3720    No\n",
        "3369  17294  12-15 years     Yes    No   7.2690    No\n",
        "3370  17302  12-15 years      No   Yes  18.7300    No\n",
        "3371    NaN         None    None  None      NaN  None"
       ]
      }
     ],
     "prompt_number": 5
    },
    {
     "cell_type": "code",
     "collapsed": false,
     "input": [
      "del data[\"id\"]\n",
      "print data.shape\n",
      "data = data.dropna()\n"
     ],
     "language": "python",
     "metadata": {},
     "outputs": [
      {
       "output_type": "stream",
       "stream": "stdout",
       "text": [
        "(3372, 5)\n"
       ]
      }
     ],
     "prompt_number": 6
    },
    {
     "cell_type": "code",
     "collapsed": false,
     "input": [
      "def to_bool(x):\n",
      "    if x == \"Yes\":\n",
      "        return 1\n",
      "    elif x==\"No\":\n",
      "        return 0\n",
      "    else:\n",
      "       return \"error \", x\n",
      "    \n",
      "edu_mapping = { \"None\":0, \"< 12 years\": 1, \"12-15 years\": 2, \"16+ years\":3 }\n",
      "def to_mapping(x, mapping = edu_mapping):\n",
      "     try:\n",
      "        return mapping[x]\n",
      "     except:\n",
      "         print \"error: \", x"
     ],
     "language": "python",
     "metadata": {},
     "outputs": [],
     "prompt_number": 7
    },
    {
     "cell_type": "code",
     "collapsed": false,
     "input": [
      "data[\"heblack\"] = data[\"heblack\"].apply(to_bool, 1)\n",
      "data[\"mixed\"] = data[\"mixed\"].apply(to_bool, 1)\n",
      "data[\"div\"] = data[\"div\"].apply(to_bool, 1)\n",
      "data[\"heduc\"] = data[\"heduc\"].apply(to_mapping)"
     ],
     "language": "python",
     "metadata": {},
     "outputs": [],
     "prompt_number": 8
    },
    {
     "cell_type": "code",
     "collapsed": false,
     "input": [
      "data.head(10)"
     ],
     "language": "python",
     "metadata": {},
     "outputs": [
      {
       "html": [
        "<div style=\"max-height:1000px;max-width:1500px;overflow:auto;\">\n",
        "<table border=\"1\" class=\"dataframe\">\n",
        "  <thead>\n",
        "    <tr style=\"text-align: right;\">\n",
        "      <th></th>\n",
        "      <th>heduc</th>\n",
        "      <th>heblack</th>\n",
        "      <th>mixed</th>\n",
        "      <th>years</th>\n",
        "      <th>div</th>\n",
        "    </tr>\n",
        "  </thead>\n",
        "  <tbody>\n",
        "    <tr>\n",
        "      <th>0</th>\n",
        "      <td> 2</td>\n",
        "      <td> 0</td>\n",
        "      <td> 0</td>\n",
        "      <td> 10.546</td>\n",
        "      <td> 0</td>\n",
        "    </tr>\n",
        "    <tr>\n",
        "      <th>1</th>\n",
        "      <td> 1</td>\n",
        "      <td> 0</td>\n",
        "      <td> 0</td>\n",
        "      <td> 34.943</td>\n",
        "      <td> 0</td>\n",
        "    </tr>\n",
        "    <tr>\n",
        "      <th>2</th>\n",
        "      <td> 1</td>\n",
        "      <td> 0</td>\n",
        "      <td> 0</td>\n",
        "      <td>  2.834</td>\n",
        "      <td> 1</td>\n",
        "    </tr>\n",
        "    <tr>\n",
        "      <th>3</th>\n",
        "      <td> 1</td>\n",
        "      <td> 0</td>\n",
        "      <td> 0</td>\n",
        "      <td> 17.532</td>\n",
        "      <td> 1</td>\n",
        "    </tr>\n",
        "    <tr>\n",
        "      <th>4</th>\n",
        "      <td> 2</td>\n",
        "      <td> 0</td>\n",
        "      <td> 0</td>\n",
        "      <td>  1.418</td>\n",
        "      <td> 0</td>\n",
        "    </tr>\n",
        "    <tr>\n",
        "      <th>5</th>\n",
        "      <td> 1</td>\n",
        "      <td> 0</td>\n",
        "      <td> 0</td>\n",
        "      <td> 48.033</td>\n",
        "      <td> 0</td>\n",
        "    </tr>\n",
        "    <tr>\n",
        "      <th>6</th>\n",
        "      <td> 3</td>\n",
        "      <td> 0</td>\n",
        "      <td> 0</td>\n",
        "      <td> 16.706</td>\n",
        "      <td> 0</td>\n",
        "    </tr>\n",
        "    <tr>\n",
        "      <th>7</th>\n",
        "      <td> 1</td>\n",
        "      <td> 0</td>\n",
        "      <td> 0</td>\n",
        "      <td> 24.999</td>\n",
        "      <td> 0</td>\n",
        "    </tr>\n",
        "    <tr>\n",
        "      <th>8</th>\n",
        "      <td> 1</td>\n",
        "      <td> 0</td>\n",
        "      <td> 0</td>\n",
        "      <td> 24.999</td>\n",
        "      <td> 0</td>\n",
        "    </tr>\n",
        "    <tr>\n",
        "      <th>9</th>\n",
        "      <td> 1</td>\n",
        "      <td> 1</td>\n",
        "      <td> 0</td>\n",
        "      <td>  3.869</td>\n",
        "      <td> 0</td>\n",
        "    </tr>\n",
        "  </tbody>\n",
        "</table>\n",
        "</div>"
       ],
       "metadata": {},
       "output_type": "pyout",
       "prompt_number": 9,
       "text": [
        "   heduc  heblack  mixed   years  div\n",
        "0      2        0      0  10.546    0\n",
        "1      1        0      0  34.943    0\n",
        "2      1        0      0   2.834    1\n",
        "3      1        0      0  17.532    1\n",
        "4      2        0      0   1.418    0\n",
        "5      1        0      0  48.033    0\n",
        "6      3        0      0  16.706    0\n",
        "7      1        0      0  24.999    0\n",
        "8      1        0      0  24.999    0\n",
        "9      1        1      0   3.869    0"
       ]
      }
     ],
     "prompt_number": 9
    },
    {
     "cell_type": "code",
     "collapsed": false,
     "input": [
      "data_ = data.copy()\n",
      "\n",
      "data_[\"12-15 years\"] = (data[\"heduc\"] == 2).astype(float)\n",
      "data_[\"0-12 years\"] = (data[\"heduc\"] == 1).astype(float)\n",
      "data_[\"15+ years\"] = (data[\"heduc\"] == 3).astype(float)\n",
      "del data_[\"heduc\"]\n",
      "\n",
      "data_[\"bb\"] = ( (data[\"heblack\"])*(1-data[\"mixed\"]) ).astype(float)\n",
      "data_[\"bw\"] = ( (data[\"heblack\"])*(data[\"mixed\"]) ).astype(float)\n",
      "data_[\"ww\"] = ( (1-data[\"heblack\"])*(1-data[\"mixed\"]) ).astype(float)\n",
      "data_[\"wb\"] = ( (1-data[\"heblack\"])*(data[\"mixed\"]) ).astype(float)\n",
      "\n",
      "del data_[\"heblack\"]\n",
      "del data_[\"mixed\"]"
     ],
     "language": "python",
     "metadata": {},
     "outputs": [],
     "prompt_number": 17
    },
    {
     "cell_type": "code",
     "collapsed": false,
     "input": [
      "columns =  data_.columns - [\"years\", \"div\"]\n",
      "T = data_[\"years\"].values\n",
      "C = data_[\"div\"].values\n",
      "X = data_[ columns ].values"
     ],
     "language": "python",
     "metadata": {},
     "outputs": [],
     "prompt_number": 18
    },
    {
     "cell_type": "code",
     "collapsed": false,
     "input": [
      "aaf = AalenAdditiveFitter(fit_intercept=True, penalizer=.5)"
     ],
     "language": "python",
     "metadata": {},
     "outputs": [],
     "prompt_number": 19
    },
    {
     "cell_type": "code",
     "collapsed": false,
     "input": [
      "columns"
     ],
     "language": "python",
     "metadata": {},
     "outputs": [
      {
       "metadata": {},
       "output_type": "pyout",
       "prompt_number": 20,
       "text": [
        "Index([u'0-12 years', u'12-15 years', u'15+ years', u'bb', u'bw', u'wb', u'ww'], dtype='object')"
       ]
      }
     ],
     "prompt_number": 20
    },
    {
     "cell_type": "code",
     "collapsed": false,
     "input": [
      "timeline = np.linspace(0,40,1000)"
     ],
     "language": "python",
     "metadata": {},
     "outputs": [],
     "prompt_number": 21
    },
    {
     "cell_type": "code",
     "collapsed": false,
     "input": [
      "aaf.fit(T[:,None], X, event_observed=C, columns=columns, timeline=timeline)"
     ],
     "language": "python",
     "metadata": {},
     "outputs": [
      {
       "ename": "TypeError",
       "evalue": "fit() got an unexpected keyword argument 'event_observed'",
       "output_type": "pyerr",
       "traceback": [
        "\u001b[0;31m---------------------------------------------------------------------------\u001b[0m\n\u001b[0;31mTypeError\u001b[0m                                 Traceback (most recent call last)",
        "\u001b[0;32m<ipython-input-22-5da74ae83f22>\u001b[0m in \u001b[0;36m<module>\u001b[0;34m()\u001b[0m\n\u001b[0;32m----> 1\u001b[0;31m \u001b[0maaf\u001b[0m\u001b[0;34m.\u001b[0m\u001b[0mfit\u001b[0m\u001b[0;34m(\u001b[0m\u001b[0mT\u001b[0m\u001b[0;34m[\u001b[0m\u001b[0;34m:\u001b[0m\u001b[0;34m,\u001b[0m\u001b[0mNone\u001b[0m\u001b[0;34m]\u001b[0m\u001b[0;34m,\u001b[0m \u001b[0mX\u001b[0m\u001b[0;34m,\u001b[0m \u001b[0mevent_observed\u001b[0m\u001b[0;34m=\u001b[0m\u001b[0mC\u001b[0m\u001b[0;34m,\u001b[0m \u001b[0mcolumns\u001b[0m\u001b[0;34m=\u001b[0m\u001b[0mcolumns\u001b[0m\u001b[0;34m,\u001b[0m \u001b[0mtimeline\u001b[0m\u001b[0;34m=\u001b[0m\u001b[0mtimeline\u001b[0m\u001b[0;34m)\u001b[0m\u001b[0;34m\u001b[0m\u001b[0m\n\u001b[0m",
        "\u001b[0;31mTypeError\u001b[0m: fit() got an unexpected keyword argument 'event_observed'"
       ]
      }
     ],
     "prompt_number": 22
    },
    {
     "cell_type": "code",
     "collapsed": false,
     "input": [
      "figsize(12.5, 8.5)\n",
      "#aaf.cumulative_hazards_.ix[:][[\"baseline\"]].plot()\n",
      "#aaf.cumulative_hazards_.ix[:][[\"bb\",\"bw\",\"wb\",\"ww\"]].plot()\n",
      "aaf.cumulative_hazards_.ix[:3200].plot()\n"
     ],
     "language": "python",
     "metadata": {},
     "outputs": [
      {
       "ename": "NameError",
       "evalue": "name 'figsize' is not defined",
       "output_type": "pyerr",
       "traceback": [
        "\u001b[0;31m---------------------------------------------------------------------------\u001b[0m\n\u001b[0;31mNameError\u001b[0m                                 Traceback (most recent call last)",
        "\u001b[0;32m<ipython-input-23-c2a64598c398>\u001b[0m in \u001b[0;36m<module>\u001b[0;34m()\u001b[0m\n\u001b[0;32m----> 1\u001b[0;31m \u001b[0mfigsize\u001b[0m\u001b[0;34m(\u001b[0m\u001b[0;36m12.5\u001b[0m\u001b[0;34m,\u001b[0m \u001b[0;36m8.5\u001b[0m\u001b[0;34m)\u001b[0m\u001b[0;34m\u001b[0m\u001b[0m\n\u001b[0m\u001b[1;32m      2\u001b[0m \u001b[0;31m#aaf.cumulative_hazards_.ix[:][[\"baseline\"]].plot()\u001b[0m\u001b[0;34m\u001b[0m\u001b[0;34m\u001b[0m\u001b[0m\n\u001b[1;32m      3\u001b[0m \u001b[0;31m#aaf.cumulative_hazards_.ix[:][[\"bb\",\"bw\",\"wb\",\"ww\"]].plot()\u001b[0m\u001b[0;34m\u001b[0m\u001b[0;34m\u001b[0m\u001b[0m\n\u001b[1;32m      4\u001b[0m \u001b[0maaf\u001b[0m\u001b[0;34m.\u001b[0m\u001b[0mcumulative_hazards_\u001b[0m\u001b[0;34m.\u001b[0m\u001b[0mix\u001b[0m\u001b[0;34m[\u001b[0m\u001b[0;34m:\u001b[0m\u001b[0;36m3200\u001b[0m\u001b[0;34m]\u001b[0m\u001b[0;34m.\u001b[0m\u001b[0mplot\u001b[0m\u001b[0;34m(\u001b[0m\u001b[0;34m)\u001b[0m\u001b[0;34m\u001b[0m\u001b[0m\n",
        "\u001b[0;31mNameError\u001b[0m: name 'figsize' is not defined"
       ]
      }
     ],
     "prompt_number": 23
    },
    {
     "cell_type": "code",
     "collapsed": false,
     "input": [],
     "language": "python",
     "metadata": {},
     "outputs": []
    }
   ],
   "metadata": {}
  }
 ]
}