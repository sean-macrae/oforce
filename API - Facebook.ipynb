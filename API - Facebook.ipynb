{
 "metadata": {
  "name": ""
 },
 "nbformat": 3,
 "nbformat_minor": 0,
 "worksheets": [
  {
   "cells": [
    {
     "cell_type": "code",
     "collapsed": false,
     "input": [
      "# Copy and paste in the value you just got from the inline frame into this variable and execute this cell.\n",
      "# Keep in mind that you could have just gone to https://developers.facebook.com/tools/access_token/\n",
      "# and retrieved the \"User Token\" value from the Access Token Tool\n",
      "\n",
      "ACCESS_TOKEN = 'CAACEdEose0cBAHCHBQPnJZBSFkJdj2uIiHqezARlxo5ftYK8aZBFRcneSbvPnjOFYCEsJF2B9ZBadvrlv5nMJPrXzixTDGZCYmZAW9cec11LXhMQE4ZBXWgUtqmqBgcxZCIiOmfHVmIZCp58kWxfBWNr74ZAGu6vF71JSBy1GDKqNtZCbD1YF1CRLpj1owVuNOayYZD'"
     ],
     "language": "python",
     "metadata": {},
     "outputs": [],
     "prompt_number": 1
    },
    {
     "cell_type": "code",
     "collapsed": false,
     "input": [
      "import requests # pip install requests\n",
      "import json\n",
      "\n",
      "base_url = 'https://graph.facebook.com/me'\n",
      "\n",
      "# Get 10 likes for 10 friends\n",
      "fields = 'id,name,friends.limit(10).fields(likes.limit(10))'\n",
      "\n",
      "url = '%s?fields=%s&access_token=%s' % \\\n",
      "    (base_url, fields, ACCESS_TOKEN,)\n",
      "\n",
      "# This API is HTTP-based and could be requested in the browser,\n",
      "# with a command line utlity like curl, or using just about\n",
      "# any programming language by making a request to the URL.\n",
      "# Click the hyperlink that appears in your notebook output\n",
      "# when you execute this code cell to see for yourself...\n",
      "print url\n",
      "\n",
      "# Interpret the response as JSON and convert back\n",
      "# to Python data structures\n",
      "content = requests.get(url).json()\n",
      "\n",
      "# Pretty-print the JSON and display it\n",
      "print json.dumps(content, indent=1)"
     ],
     "language": "python",
     "metadata": {},
     "outputs": [
      {
       "output_type": "stream",
       "stream": "stdout",
       "text": [
        "https://graph.facebook.com/me?fields=id,name,friends.limit(10).fields(likes.limit(10))&access_token=CAACEdEose0cBAHCHBQPnJZBSFkJdj2uIiHqezARlxo5ftYK8aZBFRcneSbvPnjOFYCEsJF2B9ZBadvrlv5nMJPrXzixTDGZCYmZAW9cec11LXhMQE4ZBXWgUtqmqBgcxZCIiOmfHVmIZCp58kWxfBWNr74ZAGu6vF71JSBy1GDKqNtZCbD1YF1CRLpj1owVuNOayYZD\n",
        "{\n",
        " \"error\": {\n",
        "  \"message\": \"Error validating access token: Session has expired on Dec 14, 2013 5:00pm. The current time is Jan 27, 2014 8:58am.\", \n",
        "  \"code\": 190, \n",
        "  \"type\": \"OAuthException\", \n",
        "  \"error_subcode\": 463\n",
        " }\n",
        "}"
       ]
      },
      {
       "output_type": "stream",
       "stream": "stdout",
       "text": [
        "\n"
       ]
      }
     ],
     "prompt_number": 2
    },
    {
     "cell_type": "code",
     "collapsed": false,
     "input": [
      "import facebook # pip install facebook-sdk\n",
      "import json\n",
      "\n",
      "# A helper function to pretty-print Python objects as JSON\n",
      "\n",
      "def pp(o): \n",
      "    print json.dumps(o, indent=1)\n",
      "\n",
      "# Create a connection to the Graph API with your access token\n",
      "\n",
      "g = facebook.GraphAPI(ACCESS_TOKEN)\n",
      "\n",
      "# Execute a few sample queries\n",
      "\n",
      "print '---------------'\n",
      "print 'Me'\n",
      "print '---------------'\n",
      "pp(g.get_object('me'))\n",
      "print\n",
      "print '---------------'\n",
      "print 'My Friends'\n",
      "print '---------------'\n",
      "pp(g.get_connections('me', 'friends'))\n",
      "print\n",
      "print '---------------'\n",
      "print 'Social Web'\n",
      "print '---------------'\n",
      "pp(g.request(\"search\", {'q' : 'social web', 'type' : 'page'}))"
     ],
     "language": "python",
     "metadata": {},
     "outputs": [
      {
       "ename": "AttributeError",
       "evalue": "'module' object has no attribute 'GraphAPI'",
       "output_type": "pyerr",
       "traceback": [
        "\u001b[0;31m---------------------------------------------------------------------------\u001b[0m\n\u001b[0;31mAttributeError\u001b[0m                            Traceback (most recent call last)",
        "\u001b[0;32m<ipython-input-5-758d693381a8>\u001b[0m in \u001b[0;36m<module>\u001b[0;34m()\u001b[0m\n\u001b[1;32m      9\u001b[0m \u001b[0;31m# Create a connection to the Graph API with your access token\u001b[0m\u001b[0;34m\u001b[0m\u001b[0;34m\u001b[0m\u001b[0m\n\u001b[1;32m     10\u001b[0m \u001b[0;34m\u001b[0m\u001b[0m\n\u001b[0;32m---> 11\u001b[0;31m \u001b[0mg\u001b[0m \u001b[0;34m=\u001b[0m \u001b[0mfacebook\u001b[0m\u001b[0;34m.\u001b[0m\u001b[0mGraphAPI\u001b[0m\u001b[0;34m(\u001b[0m\u001b[0mACCESS_TOKEN\u001b[0m\u001b[0;34m)\u001b[0m\u001b[0;34m\u001b[0m\u001b[0m\n\u001b[0m\u001b[1;32m     12\u001b[0m \u001b[0;34m\u001b[0m\u001b[0m\n\u001b[1;32m     13\u001b[0m \u001b[0;31m# Execute a few sample queries\u001b[0m\u001b[0;34m\u001b[0m\u001b[0;34m\u001b[0m\u001b[0m\n",
        "\u001b[0;31mAttributeError\u001b[0m: 'module' object has no attribute 'GraphAPI'"
       ]
      }
     ],
     "prompt_number": 5
    },
    {
     "cell_type": "code",
     "collapsed": false,
     "input": [
      "# Get an instance of Mining the Social Web\n",
      "# Using the page name also works if you know it.\n",
      "# e.g. 'MiningTheSocialWeb' or 'CrossFit'\n",
      "mtsw_id = '146803958708175'\n",
      "pp(g.get_object(mtsw_id))"
     ],
     "language": "python",
     "metadata": {},
     "outputs": [
      {
       "ename": "NameError",
       "evalue": "name 'g' is not defined",
       "output_type": "pyerr",
       "traceback": [
        "\u001b[0;31m---------------------------------------------------------------------------\u001b[0m\n\u001b[0;31mNameError\u001b[0m                                 Traceback (most recent call last)",
        "\u001b[0;32m<ipython-input-4-fe5e9c910439>\u001b[0m in \u001b[0;36m<module>\u001b[0;34m()\u001b[0m\n\u001b[1;32m      3\u001b[0m \u001b[0;31m# e.g. 'MiningTheSocialWeb' or 'CrossFit'\u001b[0m\u001b[0;34m\u001b[0m\u001b[0;34m\u001b[0m\u001b[0m\n\u001b[1;32m      4\u001b[0m \u001b[0mmtsw_id\u001b[0m \u001b[0;34m=\u001b[0m \u001b[0;34m'146803958708175'\u001b[0m\u001b[0;34m\u001b[0m\u001b[0m\n\u001b[0;32m----> 5\u001b[0;31m \u001b[0mpp\u001b[0m\u001b[0;34m(\u001b[0m\u001b[0mg\u001b[0m\u001b[0;34m.\u001b[0m\u001b[0mget_object\u001b[0m\u001b[0;34m(\u001b[0m\u001b[0mmtsw_id\u001b[0m\u001b[0;34m)\u001b[0m\u001b[0;34m)\u001b[0m\u001b[0;34m\u001b[0m\u001b[0m\n\u001b[0m",
        "\u001b[0;31mNameError\u001b[0m: name 'g' is not defined"
       ]
      }
     ],
     "prompt_number": 4
    },
    {
     "cell_type": "code",
     "collapsed": false,
     "input": [],
     "language": "python",
     "metadata": {},
     "outputs": []
    }
   ],
   "metadata": {}
  }
 ]
}