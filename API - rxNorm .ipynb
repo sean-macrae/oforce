{
 "metadata": {
  "name": "",
  "signature": "sha256:ad92a448182e8008963d26c95804f5b18d874506618f3fd34d802c58a0e22be2"
 },
 "nbformat": 3,
 "nbformat_minor": 0,
 "worksheets": [
  {
   "cells": [
    {
     "cell_type": "code",
     "collapsed": false,
     "input": [
      "#!/usr/bin/python\n",
      "import os\n",
      "import sys\n",
      "import requests\n",
      "import simplejson as json\n",
      "\n",
      "def connectionCheck():\n",
      "\turl = 'http://rxnav.nlm.nih.gov/REST/version'\n",
      "\theader = {'Accept': 'application/json'}\n",
      "\tgetCheck = requests.get(url, headers=header)\n",
      "\tif getCheck.status_code != requests.codes.ok:\n",
      "\t\tresponse = \"RXNorm server response error. Response code: %s\" % getCheck.status_code\n",
      "\telse:\n",
      "\t\tresponse = \"Connection check complete. RXNorm online. Response code: %s\" % getCheck.status_code\n",
      "\treturn response\n",
      "\n",
      "def rxNorm(ndc):\n",
      "\t# ndc value coming from master.py\n",
      "\t# ndc = [array of ndc values]\n",
      "\tif ndc[0] is None:\n",
      "\t\treturn {\"rxcui\": \"\", \"rxtty\": \"\", \"rxstring\": \"\"}\n",
      "\telse:\n",
      "\t\t# if internet or request throws an error, print out to check connection and exit\n",
      "\t\ttry:\n",
      "\t\t\tbaseurl = 'http://rxnav.nlm.nih.gov/REST/'\n",
      "\n",
      "\t\t\t# Searching RXNorm API, Search by identifier to find RxNorm concepts\n",
      "\t\t\t# http://rxnav.nlm.nih.gov/REST/rxcui?idtype=NDC&id=0591-2234-10\n",
      "\t\t\t# Set url parameters for searching RXNorm for SETID\n",
      "\t\t\tndcSearch = 'rxcui?idtype=NDC&id='\n",
      "\n",
      "\t\t\t# Search RXNorm API, Return all properties for a concept\n",
      "\t\t\trxPropSearch = 'rxcui/'\n",
      "\t\t\trxttySearch = '/property?propName=TTY'\n",
      "\t\t\trxstringSearch = '/property?propName=RxNorm%20Name'\n",
      "\n",
      "\t\t\t# Request RXNorm API to return json\n",
      "\t\t\theader = {'Accept': 'application/json'}\n",
      "\t\t\tdef getTTY(rxCUI):\n",
      "\t\t\t\t# Search RXNorm again using RXCUI to return RXTTY & RXSTRING\n",
      "\t\t\t\tgetTTY = requests.get(baseurl+rxPropSearch+rxCUI+rxttySearch, headers=header)\n",
      "\n",
      "\t\t\t\tttyJSON = json.loads(getTTY.text, encoding=\"utf-8\")\n",
      "\n",
      "\t\t\t\treturn ttyJSON['propConceptGroup']['propConcept'][0]['propValue']\n",
      "\n",
      "\t\t\tdef getSTRING(rxCUI):\n",
      "\t\t\t\t# Search RXNorm again using RXCUI to return RXTTY & RXSTRING\n",
      "\t\t\t\tgetString = requests.get(baseurl+rxPropSearch+rxCUI+rxstringSearch, headers=header)\n",
      "\t\t\t\tstringJSON = json.loads(getString.text, encoding=\"utf-8\")\n",
      "\n",
      "\t\t\t\treturn stringJSON['propConceptGroup']['propConcept'][0]['propValue']\n",
      "\n",
      "\t\t\t# Search RXNorm using NDC code, return RXCUI id\n",
      "\t\t\t# ndc = [ndc1, ndc2, ... ]\n",
      "\t\t\tfor item in ndc:\n",
      "\t\t\t\tgetRXCUI = requests.get(baseurl+ndcSearch+item, headers=header)\n",
      "\t\t\t\tif getRXCUI.status_code != requests.codes.ok:\n",
      "\t\t\t\t\tprint \"RXNorm server response error. Response code: %s\" % getRXCUI.status_code\n",
      "\t\t\t\trxcuiJSON = json.loads(getRXCUI.text, encoding=\"utf-8\")\n",
      "\t\t\t\t# Check if first value in list returns a RXCUI, if not go to next value\n",
      "\t\t\t\ttry:\n",
      "\t\t\t\t\tif rxcuiJSON['idGroup']['rxnormId']:\n",
      "\t\t\t\t\t\trxCUI = rxcuiJSON['idGroup']['rxnormId'][0]\n",
      "\t\t\t\t\t\trxTTY = getTTY(rxCUI)\n",
      "\t\t\t\t\t\trxSTRING = getSTRING(rxCUI)\n",
      "\t\t\t\t\t\treturn {\"rxcui\": rxCUI, \"rxtty\": rxTTY, \"rxstring\": rxSTRING}\n",
      "\t\t\t\texcept:\n",
      "\t\t\t\t\t# if last item return null values\n",
      "\t\t\t\t\tif item == ndc[-1]:\n",
      "\t\t\t\t\t\treturn {\"rxcui\": \"\", \"rxtty\": \"\", \"rxstring\": \"\"}\n",
      "\t\t\t\t\tpass\n",
      "\t\texcept:\n",
      "\t\t\tsys.exit(\"RXNorm connection\")\n",
      "\n",
      "if __name__ == \"__main__\":\n",
      "\t# Test with sample NDC codes, one works, one doesn't\n",
      "\tdataTest = rxNorm(['66435-101-42', '66435-101-56', '66435-101-70', '66435-101-84', '66435-101-14', '66435-101-16', '66435-101-18'])\n",
      "\tprint dataTest"
     ],
     "language": "python",
     "metadata": {},
     "outputs": [
      {
       "output_type": "stream",
       "stream": "stdout",
       "text": [
        "{'rxstring': u'Ribavirin 200 MG Oral Capsule [Ribasphere]', 'rxtty': u'SBD', 'rxcui': u'539485'}\n"
       ]
      }
     ],
     "prompt_number": 3
    },
    {
     "cell_type": "code",
     "collapsed": false,
     "input": [
      "# query rxNorm for complete list of NDC codes\n"
     ],
     "language": "python",
     "metadata": {},
     "outputs": [],
     "prompt_number": 5
    },
    {
     "cell_type": "code",
     "collapsed": false,
     "input": [],
     "language": "python",
     "metadata": {},
     "outputs": []
    }
   ],
   "metadata": {}
  }
 ]
}