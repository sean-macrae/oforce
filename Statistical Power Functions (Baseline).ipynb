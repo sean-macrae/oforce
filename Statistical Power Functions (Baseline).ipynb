{
 "metadata": {
  "name": "",
  "signature": "sha256:27f7b2052b894ae90445273f0cbddebd21688f1179fb2606b63e6a12c78dc3d1"
 },
 "nbformat": 3,
 "nbformat_minor": 0,
 "worksheets": [
  {
   "cells": [
    {
     "cell_type": "code",
     "collapsed": false,
     "input": [
      "import numpy as np\n",
      "import scipy.stats\n",
      "import statsmodels.stats.power as smp\n",
      "import pandas as pd\n",
      "from pandas import DataFrame, Series\n",
      "import matplotlib.pyplot as plt\n",
      "import array\n",
      "from random import randint"
     ],
     "language": "python",
     "metadata": {},
     "outputs": [],
     "prompt_number": 2
    },
    {
     "cell_type": "code",
     "collapsed": false,
     "input": [
      "# DUMMY DATA\n",
      "# Input data should be in the formats defined below\n",
      "a = []\n",
      "b = []\n",
      "c = []\n",
      "d = []\n",
      "binary_1 = []\n",
      "binary_2 = []\n",
      "binary_3 = []\n",
      "binary_4 = []\n",
      "\n",
      "for i in range(0,40):\n",
      "    a_value = randint(20,90)\n",
      "    a.append(a_value)\n",
      "    \n",
      "for i in range(0,40):\n",
      "    b_value = randint(20,90)\n",
      "    b.append(b_value)\n",
      "    \n",
      "for i in range(0,40):\n",
      "    c_value = randint(20,90)\n",
      "    c.append(c_value)\n",
      "    \n",
      "for i in range(0,40):\n",
      "    d_value = randint(20,90)\n",
      "    d.append(d_value)\n",
      "    \n",
      "for i in range(0,400):\n",
      "    binary_1value = randint(0,1)\n",
      "    binary_1.append(binary_1value)\n",
      "    \n",
      "for i in range(0,400):\n",
      "    binary_2value = randint(0,1)\n",
      "    binary_2.append(binary_2value)\n",
      "    \n",
      "for i in range(0,400):\n",
      "    binary_3value = randint(0,1)\n",
      "    binary_3.append(binary_3value)\n",
      "    \n",
      "for i in range(0,400):\n",
      "    binary_4value = randint(0,1)\n",
      "    binary_4.append(binary_4value)\n",
      "    \n",
      "cont_table = [[sum(binary_1), sum(binary_2)], [len(binary_1), len(binary_2)]]\n",
      "cont_table_mvt = [[sum(binary_1), sum(binary_2), sum(binary_3), sum(binary_4)], [len(binary_1), len(binary_2), len(binary_3), len(binary_4)]]\n",
      "\n",
      "print cont_table\n",
      "print cont_table_mvt"
     ],
     "language": "python",
     "metadata": {},
     "outputs": [
      {
       "output_type": "stream",
       "stream": "stdout",
       "text": [
        "[[178, 206], [400, 400]]\n",
        "[[178, 206, 196, 195], [400, 400, 400, 400]]\n"
       ]
      }
     ],
     "prompt_number": 3
    },
    {
     "cell_type": "code",
     "collapsed": false,
     "input": [
      "# A/B TESTS\n",
      "\n",
      "### A/B Continuous Independent Observations\n",
      "# Student's t-Test; output:(t-statistic, two-tailed p-value)\n",
      "print scipy.stats.ttest_ind(a, b, axis=0, equal_var=True)\n",
      "\n",
      "### A/B Continuous Paired Observations\n",
      "# Student's t-Test; output:(t-statistic, two-tailed p-value)\n",
      "print scipy.stats.ttest_rel(a, b, axis=0)\n",
      "\n",
      "### A/B Dichotomous Independent Observations\n",
      "# Method 1: Chi^2 Contingency Table; output:(chi2, p-value, dof, expected)\n",
      "# This function computes the chi-square statistic and p-value for the hypothesis test of independence...\n",
      "# ... of the observed frequencies in the contingency table observed.\n",
      "# For example, the null hypothesis is that... \n",
      "# ... given 38 success of 51 trials and 100 success of 200 trials\n",
      "print scipy.stats.chi2_contingency(cont_table_mvt)\n",
      "\n",
      "### A/B Dichotomous Independent Observations\n",
      "# Method 2: Fisher Exact Test on a 2x2 Contingency Table; output:(odds ratio, p-value)\n",
      "print scipy.stats.fisher_exact(cont_table, alternative='two-sided')"
     ],
     "language": "python",
     "metadata": {},
     "outputs": [
      {
       "output_type": "stream",
       "stream": "stdout",
       "text": [
        "(array(1.5838679582440804), 0.11727016984395169)\n",
        "(array(1.5807040211840548), 0.12202303108857045)\n",
        "(0.2503943165402101, 0.9690709711079224, 3, array([[ 184.14346895,  184.14346895,  181.62526767,  185.08779443],\n",
        "       [ 400.85653105,  400.85653105,  395.37473233,  402.91220557]]))\n",
        "(1.0, 1.0)\n"
       ]
      }
     ],
     "prompt_number": 3
    },
    {
     "cell_type": "code",
     "collapsed": false,
     "input": [
      "# A/B SAMPLE SIZE ESTIMATES\n",
      "\n",
      "# A/B Continuous Balanced Sample Size Estimate\n",
      "# Student's t-Test; output:(n = obs)\n",
      "print smp.TTestIndPower().solve_power(0.3, alpha=0.05, power=0.80, ratio=1, alternative='larger')\n",
      "\n",
      "# A/B Continuous Unbalanced Sample Size Estimate\n",
      "# Student's t-Test; output:(n = obs)\n",
      "print smp.TTestIndPower().solve_power(0.3, alpha=0.05, power=0.80, ratio=2, alternative='larger')\n",
      "\n",
      "# A/B Dichotomous Sample Size Estimate\n",
      "# Chi^2 Contingency Table Test; output:(n = obs)\n",
      "print smp.GofChisquarePower().solve_power(0.3, alpha=0.05, power=0.8, n_bins=(5-1)*(6-1) + 1)\n",
      "\n",
      "# NOTE: A/B Continuous size calculator does not make distinction between independent and paired observations. I guess it doesn't matter?\n",
      "# NOTE: Need to confirm if the n-bins argument in Chi^2 function is fixed are needs to be calculated\n",
      "\n",
      "# effect size = (control / treatment) - 1\n",
      "# alpha = Type I error\n",
      "# power = 1 minus Type II error\n",
      "# ratio = A/B group ratio\n",
      "# alternative = ['larger',...] \n",
      "# n_bins = degree of freedom (depends on chosen set)"
     ],
     "language": "python",
     "metadata": {},
     "outputs": [
      {
       "output_type": "stream",
       "stream": "stdout",
       "text": [
        "138.071557576\n",
        "103.49650975\n",
        "232.897612175\n"
       ]
      }
     ],
     "prompt_number": 4
    },
    {
     "cell_type": "code",
     "collapsed": false,
     "input": [
      "# MULTIVARIATE TESTS\n",
      "\n",
      "### Multi-variate Continuous Test\n",
      "# The one-way ANOVA Test; output:(F-value, p-value)\n",
      "# The null hypothesis is that two or more groups have the same population mean.\n",
      "# The test is applied to samples from two or more groups, possibly with differing sizes\n",
      "\n",
      "# The ANOVA test has important assumptions that must be satisfied in order for the associated p-value to be valid.\n",
      "# 1) The samples are independent.\n",
      "# 2) Each sample is from a normally distributed population.\n",
      "# 3) The population standard deviations of the groups are all equal. This property is known as homoscedasticity.\n",
      "\n",
      "print scipy.stats.f_oneway(a,b,c,d)"
     ],
     "language": "python",
     "metadata": {},
     "outputs": [
      {
       "output_type": "stream",
       "stream": "stdout",
       "text": [
        "(1.0609411839337146, 0.36748479191124478)\n"
       ]
      }
     ],
     "prompt_number": 5
    },
    {
     "cell_type": "code",
     "collapsed": false,
     "input": [
      "# MULTIVARIATE SAMPLE SIZES\n",
      "\n",
      "### Multi-variate Continuous Test (F-value, p-value)\n",
      "# This sample size estimate calculator assumes a balanced case (e.g. equal sample sizes)\n",
      "print str(smp.FTestAnovaPower().solve_power(0.05, alpha=0.05, power=0.8, k_groups=4)) + ' total'\n",
      "print str(smp.FTestAnovaPower().solve_power(0.05, alpha=0.05, power=0.8, k_groups=4)/4) + ' per group'\n",
      "\n",
      "# effect size = (control / treatment) - 1\n",
      "# alpha = Type I error\n",
      "# power = 1 minus Type II error\n",
      "# k_groups = number of groups"
     ],
     "language": "python",
     "metadata": {},
     "outputs": [
      {
       "output_type": "stream",
       "stream": "stdout",
       "text": [
        "4364.92640315 total\n",
        "1091.23160079 per group\n"
       ]
      }
     ],
     "prompt_number": 6
    },
    {
     "cell_type": "code",
     "collapsed": false,
     "input": [
      "# DYNAMIC p-value and treatment effect calculations\n",
      "# The dynamic p-value only applies in the case of continuous paired observations\n",
      "\n",
      "effect_size = []\n",
      "p_value = []\n",
      "\n",
      "### A/B Continuous Paired Observations\n",
      "# Dynamic treatment effect\n",
      "for i in range(0, len(a)):\n",
      "    temp_value = (np.mean(a[:i]) / np.mean(b[:i])) - 1\n",
      "    effect_size.append(temp_value)\n",
      " \n",
      "### A/B Continuous Paired Observations\n",
      "# Dynamic p-value effect\n",
      "for i in range(0, len(a)):\n",
      "    temp_value = scipy.stats.ttest_ind(a[:i], b[:i], axis=0, equal_var=True)[1]\n",
      "    p_value.append(temp_value)\n",
      "    "
     ],
     "language": "python",
     "metadata": {},
     "outputs": [
      {
       "output_type": "stream",
       "stream": "stderr",
       "text": [
        "/Users/macrae/anaconda/lib/python2.7/site-packages/numpy/core/_methods.py:55: RuntimeWarning: Mean of empty slice.\n",
        "  warnings.warn(\"Mean of empty slice.\", RuntimeWarning)\n",
        "/Users/macrae/anaconda/lib/python2.7/site-packages/numpy/core/_methods.py:79: RuntimeWarning: Degrees of freedom <= 0 for slice\n",
        "  warnings.warn(\"Degrees of freedom <= 0 for slice\", RuntimeWarning)\n"
       ]
      }
     ],
     "prompt_number": 7
    },
    {
     "cell_type": "code",
     "collapsed": false,
     "input": [
      "# PLOT dynamic p-value and treatment effect\n",
      "\n",
      "x = np.array(range(0,40))\n",
      "y1 = np.array(effect_size)\n",
      "y2 = np.array(p_value)\n",
      "\n",
      "fig, (ax1, ax2) = plt.subplots(2,1)\n",
      "\n",
      "ax1.fill_between(x, y1, 0, where=y1>=0, facecolor='chartreuse', interpolate=True)\n",
      "ax1.fill_between(x, y1, 0, where=y1<=0, facecolor='orangered', interpolate=True)\n",
      "ax1.set_ylabel('% Lift', size = 14)\n",
      "ax1.set_title('Treatment Effect', size = 14)\n",
      "\n",
      "ax2.plot(x, y2, 'black')\n",
      "ax2.set_ylabel('p-value', size = 14)\n",
      "ax2.set_xlabel('Date', size = 14)\n",
      "ax2.set_title('Statistical Significance', size = 14)\n",
      "\n",
      "plt.suptitle('< Test Name > Test Results', size = 16)\n",
      "plt.show()"
     ],
     "language": "python",
     "metadata": {},
     "outputs": [],
     "prompt_number": 8
    },
    {
     "cell_type": "code",
     "collapsed": false,
     "input": [
      "# SIMULATION MODEL\n",
      "\n",
      "# Generate random samples from a bivariate normal distribution given mean and variance of groups\n",
      "simulation_sample = DataFrame(np.random.multivariate_normal([np.mean(a), np.mean(b)], np.cov(a, b), 2000))\n",
      "simulation_sample.columns = ['a','b']\n",
      "\n",
      "# Set base simulation variables (a, b, and p-values), define number of runs, and initialize simulation objects\n",
      "simulation_runs = 1000\n",
      "days_out = 60\n",
      "simulation_a = a\n",
      "simulation_b = b\n",
      "simulation = p_value\n",
      "p_value_len = len(p_value)\n",
      "simulation_set = [[]]*simulation_runs\n",
      "\n",
      "# Run simulation\n",
      "for i in range(0,simulation_runs):\n",
      "    for j in range(0,days_out):\n",
      "        random_a = round(simulation_sample.ix[randint(0,1999)]['a'],0)\n",
      "        random_b = round(simulation_sample.ix[randint(0,1999)]['b'],0)\n",
      "        simulation_a.append(random_a)\n",
      "        simulation_b.append(random_b)\n",
      "        simulation_p = scipy.stats.ttest_ind(simulation_a, simulation_b, axis=0, equal_var=True)[1]\n",
      "        simulation.append(simulation_p)\n",
      "    simulation_set[i] = simulation[p_value_len:(p_value_len + days_out)]\n",
      "    simulation = simulation[0:p_value_len]\n",
      "    simulation_a = simulation_a[0:p_value_len]\n",
      "    simulation_b = simulation_b[0:p_value_len]\n",
      "    \n",
      "# Drop simulation results into dataframe\n",
      "simulation = pd.DataFrame(simulation_set)\n",
      "simulation.index.name = 'Simulation Run'\n",
      "simulation.columns.name = 'Days Out'"
     ],
     "language": "python",
     "metadata": {},
     "outputs": [],
     "prompt_number": 9
    },
    {
     "cell_type": "code",
     "collapsed": false,
     "input": [
      "simulation_bounds = simulation.quantile([0.05, 0.50, 0.95], axis = 0)\n",
      "simulation_bounds.index.name = 'Percentile'\n",
      "simulation_bounds.columns.name = 'Days Out'"
     ],
     "language": "python",
     "metadata": {},
     "outputs": [],
     "prompt_number": 10
    },
    {
     "cell_type": "code",
     "collapsed": false,
     "input": [
      "# PLOT likelihood of convergence of statistical significance\n",
      "\n",
      "# Actual dynamic p-value\n",
      "x0 = np.array(range(0,p_value_len))\n",
      "y0 = np.array(p_value[0:p_value_len])\n",
      "\n",
      "# Simulated range of future p-values\n",
      "x1 = np.array(range((p_value_len),(p_value_len + days_out)))\n",
      "y1 = np.array(simulation_bounds.iloc[0])\n",
      "y2 = np.array(simulation_bounds.iloc[1])\n",
      "y3 = np.array(simulation_bounds.iloc[2])\n",
      "\n",
      "plt.plot(x0, y0, color = \"black\", linestyle = \"-\")\n",
      "plt.plot(x1, y1, color = \"blue\", linestyle = \":\")\n",
      "plt.plot(x1, y2, color = \"green\", linestyle = \":\")\n",
      "plt.plot(x1, y3, color = \"red\", linestyle = \":\")\n",
      "plt.legend([plt.plot(x0, y0, color = \"black\", linestyle = \"-\")[0],\n",
      "            plt.plot(x1, y1, color = \"blue\", linestyle = \":\")[0],\n",
      "            plt.plot(x1, y2, color = \"green\", linestyle = \":\")[0],\n",
      "            plt.plot(x1, y3, color = \"red\", linestyle = \":\")[0]],\n",
      "           [\"Actual\",\"5th Percentile\",\"50th Percentile\",\"95th Percentile\"])\n",
      "plt.xlabel('Day of Test')\n",
      "plt.ylabel('p-value')\n",
      "plt.title('Probability of Convergence to Statistical Significance')\n",
      "plt.show()"
     ],
     "language": "python",
     "metadata": {},
     "outputs": [],
     "prompt_number": 11
    },
    {
     "cell_type": "code",
     "collapsed": false,
     "input": [],
     "language": "python",
     "metadata": {},
     "outputs": [],
     "prompt_number": 11
    }
   ],
   "metadata": {}
  }
 ]
}