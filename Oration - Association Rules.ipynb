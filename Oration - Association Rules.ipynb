{
 "metadata": {
  "name": "",
  "signature": "sha256:d063049fab2733d6a7f0dc9f4a65038de5106c8520e7843be79d8d54dac30ac0"
 },
 "nbformat": 3,
 "nbformat_minor": 0,
 "worksheets": [
  {
   "cells": [
    {
     "cell_type": "code",
     "collapsed": false,
     "input": [
      "import orange as og\n",
      "import numpy as np\n",
      "import pandas as pd\n",
      "\n",
      "#### For those who are familiar with pandas\n",
      "#### Correspondence:\n",
      "####    value <-> Orange.data.Value\n",
      "####        NaN <-> [\"?\", \"~\", \".\"] # Don't know, Don't care, Other\n",
      "####    dtype <-> Orange.feature.Descriptor\n",
      "####        category, int <-> Orange.feature.Discrete # category: > pandas 0.15\n",
      "####        int, float <-> Orange.feature.Continuous # Continuous = core.FloatVariable\n",
      "####                                                 # refer to feature/__init__.py\n",
      "####        str <-> Orange.feature.String\n",
      "####        object <-> Orange.feature.Python\n",
      "####    DataFrame.dtypes <-> Orange.data.Domain\n",
      "####    DataFrame.DataFrame <-> Orange.data.Table = Orange.orange.ExampleTable \n",
      "####                              # You will need this if you are reading sources\n",
      "\n",
      "def series2descriptor(d, discrete=False):\n",
      "    if d.dtype is np.dtype(\"float\"):\n",
      "        return Orange.feature.Continuous(str(d.name))\n",
      "    elif d.dtype is np.dtype(\"int\"):\n",
      "        return Orange.feature.Continuous(str(d.name), number_of_decimals=0)\n",
      "    else:\n",
      "        t = d.unique()\n",
      "        if discrete or len(t) < len(d) / 2:\n",
      "            t.sort()\n",
      "            return Orange.feature.Discrete(str(d.name), values=list(t.astype(\"str\")))\n",
      "        else:\n",
      "            return Orange.feature.String(str(d.name))        \n",
      "\n",
      "def df2domain(df):\n",
      "    featurelist = [series2descriptor(df.icol(col)) for col in xrange(len(df.columns))]\n",
      "    return Orange.data.Domain(featurelist)\n",
      "\n",
      "\n",
      "def df2table(df):\n",
      "    # It seems they are using native python object/lists internally for Orange.data types (?)\n",
      "    # And I didn't find a constructor suitable for pandas.DataFrame since it may carry\n",
      "    # multiple dtypes\n",
      "    #  --> the best approximate is Orange.data.Table.__init__(domain, numpy.ndarray),\n",
      "    #  --> but the dtype of numpy array can only be \"int\" and \"float\"\n",
      "    #  -->  * refer to src/orange/lib_kernel.cpp 3059:\n",
      "    #  -->  *    if (((*vi)->varType != TValue::INTVAR) && ((*vi)->varType != TValue::FLOATVAR))\n",
      "    #  --> Documents never mentioned >_<\n",
      "    # So we use numpy constructor for those int/float columns, python list constructor for other\n",
      "\n",
      "    tdomain = df2domain(df)\n",
      "    ttables = [series2table(df.icol(i), tdomain[i]) for i in xrange(len(df.columns))]\n",
      "    return Orange.data.Table(ttables)\n",
      "\n",
      "    # For performance concerns, here are my results\n",
      "    # dtndarray = np.random.rand(100000, 100)\n",
      "    # dtlist = list(dtndarray)\n",
      "    # tdomain = Orange.data.Domain([Orange.feature.Continuous(\"var\" + str(i)) for i in xrange(100)])\n",
      "    # tinsts = [Orange.data.Instance(tdomain, list(dtlist[i]) )for i in xrange(len(dtlist))] \n",
      "    # t = Orange.data.Table(tdomain, tinsts)\n",
      "    #\n",
      "    # timeit list(dtndarray)  # 45.6ms\n",
      "    # timeit [Orange.data.Instance(tdomain, list(dtlist[i])) for i in xrange(len(dtlist))] # 3.28s\n",
      "    # timeit Orange.data.Table(tdomain, tinsts) # 280ms\n",
      "\n",
      "    # timeit Orange.data.Table(tdomain, dtndarray) # 380ms\n",
      "    #\n",
      "    # As illustrated above, utilizing constructor with ndarray can greatly improve performance\n",
      "    # So one may conceive better converter based on these results\n",
      "\n",
      "\n",
      "def series2table(series, variable):\n",
      "    if series.dtype is np.dtype(\"int\") or series.dtype is np.dtype(\"float\"):\n",
      "        # Use numpy\n",
      "        # Table._init__(Domain, numpy.ndarray)\n",
      "        return Orange.data.Table(Orange.data.Domain(variable), series.values[:, np.newaxis])\n",
      "    else:\n",
      "        # Build instance list\n",
      "        # Table.__init__(Domain, list_of_instances)\n",
      "        tdomain = Orange.data.Domain(variable)\n",
      "        tinsts = [Orange.data.Instance(tdomain, [i]) for i in series]\n",
      "        return Orange.data.Table(tdomain, tinsts)\n",
      "        # 5x performance\n",
      "\n",
      "\n",
      "def column2df(col):\n",
      "    if type(col.domain[0]) is Orange.feature.Continuous:\n",
      "        return (col.domain[0].name, pd.Series(col.to_numpy()[0].flatten()))\n",
      "    else:\n",
      "        tmp = pd.Series(np.array(list(col)).flatten())  # type(tmp) -> np.array( dtype=list (Orange.data.Value) )\n",
      "        tmp = tmp.apply(lambda x: str(x[0]))\n",
      "        return (col.domain[0].name, tmp)\n",
      "\n",
      "def table2df(tab):\n",
      "    # Orange.data.Table().to_numpy() cannot handle strings\n",
      "    # So we must build the array column by column,\n",
      "    # When it comes to strings, python list is used\n",
      "    series = [column2df(tab.select(i)) for i in xrange(len(tab.domain))]\n",
      "    series_name = [i[0] for i in series]  # To keep the order of variables unchanged\n",
      "    series_data = dict(series)\n",
      "    print series_data\n",
      "    return pd.DataFrame(series_data, columns=series_name)"
     ],
     "language": "python",
     "metadata": {},
     "outputs": [],
     "prompt_number": 28
    },
    {
     "cell_type": "code",
     "collapsed": false,
     "input": [
      "ls_1 = [1,1,0,0]\n",
      "ls_2 = [0,1,1,0]\n",
      "ls_3 = [0,1,1,1]\n",
      "ls_4 = [1,1,0,0]\n",
      "\n",
      "items = pd.DataFrame([ls_1,ls_2,ls_3,ls_4], columns=['Bread','Milk','Beer','Eggs'])\n",
      "items"
     ],
     "language": "python",
     "metadata": {},
     "outputs": [
      {
       "html": [
        "<div style=\"max-height:1000px;max-width:1500px;overflow:auto;\">\n",
        "<table border=\"1\" class=\"dataframe\">\n",
        "  <thead>\n",
        "    <tr style=\"text-align: right;\">\n",
        "      <th></th>\n",
        "      <th>Bread</th>\n",
        "      <th>Milk</th>\n",
        "      <th>Beer</th>\n",
        "      <th>Eggs</th>\n",
        "    </tr>\n",
        "  </thead>\n",
        "  <tbody>\n",
        "    <tr>\n",
        "      <th>0</th>\n",
        "      <td> 1</td>\n",
        "      <td> 1</td>\n",
        "      <td> 0</td>\n",
        "      <td> 0</td>\n",
        "    </tr>\n",
        "    <tr>\n",
        "      <th>1</th>\n",
        "      <td> 0</td>\n",
        "      <td> 1</td>\n",
        "      <td> 1</td>\n",
        "      <td> 0</td>\n",
        "    </tr>\n",
        "    <tr>\n",
        "      <th>2</th>\n",
        "      <td> 0</td>\n",
        "      <td> 1</td>\n",
        "      <td> 1</td>\n",
        "      <td> 1</td>\n",
        "    </tr>\n",
        "    <tr>\n",
        "      <th>3</th>\n",
        "      <td> 1</td>\n",
        "      <td> 1</td>\n",
        "      <td> 0</td>\n",
        "      <td> 0</td>\n",
        "    </tr>\n",
        "  </tbody>\n",
        "</table>\n",
        "</div>"
       ],
       "metadata": {},
       "output_type": "pyout",
       "prompt_number": 62,
       "text": [
        "   Bread  Milk  Beer  Eggs\n",
        "0      1     1     0     0\n",
        "1      0     1     1     0\n",
        "2      0     1     1     1\n",
        "3      1     1     0     0"
       ]
      }
     ],
     "prompt_number": 62
    },
    {
     "cell_type": "code",
     "collapsed": false,
     "input": [
      "items.loc[0,].to_dict()"
     ],
     "language": "python",
     "metadata": {},
     "outputs": [
      {
       "metadata": {},
       "output_type": "pyout",
       "prompt_number": 64,
       "text": [
        "{'Beer': 0, 'Bread': 1, 'Eggs': 0, 'Milk': 1}"
       ]
      }
     ],
     "prompt_number": 64
    },
    {
     "cell_type": "code",
     "collapsed": false,
     "input": [
      "# import Orange\n",
      "# items = df2table(items)\n",
      "# items[0]"
     ],
     "language": "python",
     "metadata": {},
     "outputs": [
      {
       "metadata": {},
       "output_type": "pyout",
       "prompt_number": 59,
       "text": [
        "[1, 1, 0, 0]"
       ]
      }
     ],
     "prompt_number": 59
    },
    {
     "cell_type": "code",
     "collapsed": false,
     "input": [
      "rules = orange.AssociationRulesSparseInducer(items, support = 0.3) \n",
      "print \"%4s %4s  %s\" % (\"Supp\", \"Conf\", \"Rule\")\n",
      "for r in rules[:5]:\n",
      "    print \"%4.1f %4.1f  %s\" % (r.support, r.confidence, r)"
     ],
     "language": "python",
     "metadata": {},
     "outputs": [
      {
       "output_type": "stream",
       "stream": "stdout",
       "text": [
        "Supp Conf  Rule\n",
        " 0.5  1.0  Bread=nan -> Milk=nan\n",
        " 0.5  0.5  Milk=nan -> Bread=nan\n",
        " 0.5  0.5  Milk=nan -> Beer=nan\n",
        " 0.5  1.0  Beer=nan -> Milk=nan\n"
       ]
      }
     ],
     "prompt_number": 43
    },
    {
     "cell_type": "code",
     "collapsed": false,
     "input": [
      "data = Orange.data.Table(\"market-basket.basket\")\n",
      "print data[1]\n",
      "print type(data[1])"
     ],
     "language": "python",
     "metadata": {},
     "outputs": [
      {
       "output_type": "stream",
       "stream": "stdout",
       "text": [
        "[], {\"Bread\":1.000, \"Diapers\":1.000, \"Beer\":1.000, \"Eggs\":1.000}\n",
        "<type 'Orange.data.Instance'>\n"
       ]
      }
     ],
     "prompt_number": 67
    },
    {
     "cell_type": "code",
     "collapsed": false,
     "input": [],
     "language": "python",
     "metadata": {},
     "outputs": []
    }
   ],
   "metadata": {}
  }
 ]
}